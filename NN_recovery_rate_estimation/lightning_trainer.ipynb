{
 "cells": [
  {
   "cell_type": "code",
   "execution_count": 1,
   "id": "84c9bf5e",
   "metadata": {},
   "outputs": [
    {
     "name": "stderr",
     "output_type": "stream",
     "text": [
      "/home/cal-display1/Documents/4tb/aksoy/start_env/lib/python3.9/site-packages/pandas/compat/__init__.py:124: UserWarning: Could not import the lzma module. Your installed Python is incomplete. Attempting to use lzma compression will result in a RuntimeError.\n",
      "  warnings.warn(msg)\n",
      "Global seed set to 1234\n"
     ]
    }
   ],
   "source": [
    "%load_ext autoreload\n",
    "%autoreload 2\n",
    "\n",
    "import torch\n",
    "\n",
    "from torch.utils.data import DataLoader\n",
    "from dataset import RecoveryRateDataset\n",
    "import os\n",
    "from training_utils import compute_mean_and_std, apply_std_scaling, set_seed\n",
    "from model_lightning import LSTMEstimator\n",
    "#from training_loop import model_train\n",
    "\n",
    "from pytorch_lightning import Trainer, seed_everything\n",
    "from pytorch_lightning.callbacks import ModelCheckpoint, LearningRateMonitor\n",
    "from pytorch_lightning.profiler import PyTorchProfiler\n",
    "from pytorch_lightning.loggers import WandbLogger\n",
    "\n",
    "SEED = 1234\n",
    "seed_everything(SEED, workers=True)\n",
    "\n",
    "import os\n",
    "os.environ[\"WANDB_START_METHOD\"] = \"thread\"\n",
    "import wandb"
   ]
  },
  {
   "cell_type": "code",
   "execution_count": 2,
   "id": "f8e19692",
   "metadata": {},
   "outputs": [],
   "source": [
    "root_dir = os.getcwd().split('Start_PyCharm')[0]\n",
    "data_file_path = root_dir + 'Start_PyCharm/state_vector_dataframes_as_training_data/data/airport_state_weather_prediction_added.pickle'\n",
    "\n",
    "\n",
    "SEQUENCE_LENGTH = 3\n",
    "\n",
    "features_to_drop = ['reg_type', 'reg_bool_type', 'reg_cause', \"weather_prediction\"]\n",
    "rr_dataset = RecoveryRateDataset(data_file_path, features_to_drop=features_to_drop, sequence_length=SEQUENCE_LENGTH,\n",
    "                                 fill_with='backfill')\n",
    "\n",
    "\n",
    "train_val_test_ratios = (0.6, 0.2, 0.2)\n",
    "\n",
    "lengths=[int(len(rr_dataset)*ratio) for ratio in train_val_test_ratios]\n",
    "\n",
    "if sum(lengths) != len(rr_dataset):\n",
    "    offset = sum(lengths) - len(rr_dataset)\n",
    "    lengths[0] = lengths[0] - offset\n",
    "                                                                      \n",
    "train, val, test = torch.utils.data.random_split(rr_dataset, lengths=lengths)\n",
    "\n",
    "#Compute mean and std for standard scaling.\n",
    "#training_mean, training_std = compute_mean_and_std(train)\n",
    "\n",
    "#scaled_training_data = apply_std_scaling(train, training_mean, training_std)\n",
    "#scaled_val_data = apply_std_scaling(val, training_mean, training_std)\n",
    "#scaled_test_data = apply_std_scaling(test, training_mean, training_std)"
   ]
  },
  {
   "cell_type": "code",
   "execution_count": 4,
   "id": "c25c907f",
   "metadata": {},
   "outputs": [],
   "source": [
    "val_data_loader = DataLoader(val, batch_size=256, num_workers=4)\n",
    "test_data_loader = DataLoader(test)\n",
    "BATCH_SIZE = 256"
   ]
  },
  {
   "cell_type": "code",
   "execution_count": null,
   "id": "97c95ee2",
   "metadata": {
    "scrolled": false
   },
   "outputs": [
    {
     "name": "stderr",
     "output_type": "stream",
     "text": [
      "\u001b[34m\u001b[1mwandb\u001b[0m: wandb version 0.12.11 is available!  To upgrade, please run:\n",
      "\u001b[34m\u001b[1mwandb\u001b[0m:  $ pip install wandb --upgrade\n"
     ]
    },
    {
     "data": {
      "text/html": [
       "\n",
       "                    Syncing run <strong><a href=\"https://wandb.ai/aksoym/recovery_rate/runs/27dbikxy\" target=\"_blank\">dense_8_huber</a></strong> to <a href=\"https://wandb.ai/aksoym/recovery_rate\" target=\"_blank\">Weights & Biases</a> (<a href=\"https://docs.wandb.com/integrations/jupyter.html\" target=\"_blank\">docs</a>).<br/>\n",
       "\n",
       "                "
      ],
      "text/plain": [
       "<IPython.core.display.HTML object>"
      ]
     },
     "metadata": {},
     "output_type": "display_data"
    },
    {
     "name": "stderr",
     "output_type": "stream",
     "text": [
      "GPU available: True, used: True\n",
      "TPU available: False, using: 0 TPU cores\n",
      "IPU available: False, using: 0 IPUs\n",
      "LOCAL_RANK: 0 - CUDA_VISIBLE_DEVICES: [0]\n",
      "\n",
      "  | Name                      | Type       | Params\n",
      "---------------------------------------------------------\n",
      "0 | feature_extracting_layers | Sequential | 8.4 M \n",
      "1 | lstm_layer                | LSTM       | 9.5 M \n",
      "2 | estimator_layers          | Sequential | 7.9 M \n",
      "---------------------------------------------------------\n",
      "25.7 M    Trainable params\n",
      "0         Non-trainable params\n",
      "25.7 M    Total params\n",
      "102.961   Total estimated model params size (MB)\n"
     ]
    },
    {
     "data": {
      "application/vnd.jupyter.widget-view+json": {
       "model_id": "",
       "version_major": 2,
       "version_minor": 0
      },
      "text/plain": [
       "Validation sanity check: 0it [00:00, ?it/s]"
      ]
     },
     "metadata": {},
     "output_type": "display_data"
    },
    {
     "name": "stderr",
     "output_type": "stream",
     "text": [
      "Global seed set to 1234\n"
     ]
    },
    {
     "data": {
      "application/vnd.jupyter.widget-view+json": {
       "model_id": "e028c498d2df457ba6b2918407b9f828",
       "version_major": 2,
       "version_minor": 0
      },
      "text/plain": [
       "Training: 0it [00:00, ?it/s]"
      ]
     },
     "metadata": {},
     "output_type": "display_data"
    }
   ],
   "source": [
    "experiment = [16]\n",
    "\n",
    "for _ in experiment:\n",
    "    training_data_loader = DataLoader(train, batch_size=BATCH_SIZE, shuffle=True,\n",
    "                                  num_workers=4)\n",
    "    main()"
   ]
  },
  {
   "cell_type": "code",
   "execution_count": 16,
   "id": "e47301d7",
   "metadata": {
    "scrolled": false
   },
   "outputs": [],
   "source": [
    "def main():\n",
    "    #Training parameters.\n",
    "    LR = 1e-4\n",
    "\n",
    "    \n",
    "    model = LSTMEstimator(len(rr_dataset.feature_names), initial_dense_layer_size=1024, dense_parameter_multiplier=1,\n",
    "                          dense_layer_count=8, lstm_layer_count=4, lstm_hidden_units=512, dropout=0.2,\n",
    "                          sequence_length=SEQUENCE_LENGTH, lr=LR, loss=\"huber\")\n",
    "\n",
    "\n",
    "    #wandb_instance = wandb.init(project='recovery_rate')  \n",
    "    profiler = PyTorchProfiler()\n",
    "    lr_monitor = LearningRateMonitor(logging_interval=\"epoch\")\n",
    "    wandb_logger = WandbLogger(name=f\"dense_8_huber\", project='recovery_rate', log_model=\"all\")\n",
    "    checkpoint_callback = ModelCheckpoint(monitor=\"val_loss\", mode=\"min\")\n",
    "    wandb_logger.experiment.config.update({'batch_size': BATCH_SIZE, 'init_lr': LR})\n",
    "                                          #'mean': training_mean, 'std': training_std})\n",
    "    \n",
    "\n",
    "    lightning_trainer = Trainer(logger=wandb_logger, devices=\"auto\", callbacks=[checkpoint_callback, lr_monitor], \n",
    "                                deterministic=True, accelerator=\"gpu\", max_time=\"00:20:00:00\")\n",
    "    \n",
    "    \n",
    "    lightning_trainer.fit(model, training_data_loader, val_data_loader)\n",
    "    wandb_logger.finalize(\"completed\")\n",
    "    wandb.finish(quiet=True)\n",
    "    "
   ]
  },
  {
   "cell_type": "code",
   "execution_count": null,
   "id": "492d3900",
   "metadata": {},
   "outputs": [],
   "source": []
  }
 ],
 "metadata": {
  "kernelspec": {
   "display_name": "Python 3 (ipykernel)",
   "language": "python",
   "name": "python3"
  },
  "language_info": {
   "codemirror_mode": {
    "name": "ipython",
    "version": 3
   },
   "file_extension": ".py",
   "mimetype": "text/x-python",
   "name": "python",
   "nbconvert_exporter": "python",
   "pygments_lexer": "ipython3",
   "version": "3.9.1"
  }
 },
 "nbformat": 4,
 "nbformat_minor": 5
}
