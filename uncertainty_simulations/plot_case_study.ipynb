{
 "cells": [
  {
   "cell_type": "code",
   "execution_count": 227,
   "metadata": {},
   "outputs": [],
   "source": [
    "import pandas as pd\n",
    "import numpy as np\n",
    "from copy import deepcopy\n",
    "import matplotlib.pyplot as plt\n",
    "import matplotlib as mpl\n",
    "mpl.rcParams['figure.dpi'] = 300\n",
    "\n",
    "rng = np.random.default_rng()\n",
    "flow_matrix_path = \"../recovery_rate/recovery_rate_training_dataframes/data/all_time_flight_flow_df_rev1.pickle\"\n",
    "flight_flow_data = pd.read_pickle(flow_matrix_path)\n",
    "\n",
    "infection_matrix_path = \"../recovery_rate/recovery_rate_training_dataframes/data/all_time_infection_rate_df_rev1.pickle\"\n",
    "infection_matrix_df = pd.read_pickle(infection_matrix_path)\n",
    "\n",
    "apt_df_path = \"../recovery_rate/recovery_rate_training_dataframes/data/airport_state_weather_prediction_added_rev1.pickle\"\n",
    "airport_df = pd.read_pickle(apt_df_path)\n",
    "\n",
    "mult_index = pd.MultiIndex.from_product([np.arange(np.datetime64(\"2018-01-01\"), np.datetime64(\"2018-07-01\")), range(0, 96, 4)], names=[\"date\", \"tw\"])\n",
    "\n",
    "new_df = pd.DataFrame(index=mult_index)\n"
   ]
  },
  {
   "cell_type": "code",
   "execution_count": 228,
   "metadata": {},
   "outputs": [],
   "source": [
    "ff_list = []\n",
    "inf_list = []\n",
    "rr_list = []\n",
    "p_state_list = []\n",
    "for i in range(0, len(flight_flow_data), 133):\n",
    "    \n",
    "    rr_list.append(np.diag(airport_df.loc[:, \"recovery_rate\"].fillna(method=\"backfill\").fillna(airport_df.loc[:, \"recovery_rate\"].median()).iloc[i:i+133].values))\n",
    "    p_state_list.append(airport_df.loc[:, \"norm_delay_per_f\"].iloc[i:i+133].values.clip(min=0, max=1))\n",
    "    ff_list.append(flight_flow_data.iloc[i:i+133, :].values)\n",
    "    inf_list.append(infection_matrix_df.iloc[i:i+133, :].values)"
   ]
  },
  {
   "cell_type": "code",
   "execution_count": 229,
   "metadata": {},
   "outputs": [],
   "source": [
    "new_df[\"rr_vector\"] = rr_list\n",
    "new_df[\"p_vector\"] = p_state_list\n",
    "new_df[\"infmat\"] = inf_list\n",
    "new_df[\"flowmat\"] = ff_list"
   ]
  },
  {
   "cell_type": "code",
   "execution_count": 213,
   "metadata": {},
   "outputs": [
    {
     "data": {
      "text/plain": [
       "pandas.core.series.Series"
      ]
     },
     "execution_count": 213,
     "metadata": {},
     "output_type": "execute_result"
    }
   ],
   "source": [
    "type(slice_df.apply(diff_prop, axis=1))"
   ]
  },
  {
   "cell_type": "markdown",
   "metadata": {},
   "source": [
    "## Delta P plots\n"
   ]
  },
  {
   "cell_type": "code",
   "execution_count": 1,
   "metadata": {},
   "outputs": [
    {
     "ename": "NameError",
     "evalue": "name 'rng' is not defined",
     "output_type": "error",
     "traceback": [
      "\u001b[1;31m---------------------------------------------------------------------------\u001b[0m",
      "\u001b[1;31mNameError\u001b[0m                                 Traceback (most recent call last)",
      "\u001b[1;32mc:\\Users\\Aksoy\\PycharmProjects\\Start_PyCharm\\uncertainty_simulations\\plot_case_study.ipynb Cell 6'\u001b[0m in \u001b[0;36m<cell line: 2>\u001b[1;34m()\u001b[0m\n\u001b[0;32m      <a href='vscode-notebook-cell:/c%3A/Users/Aksoy/PycharmProjects/Start_PyCharm/uncertainty_simulations/plot_case_study.ipynb#ch0000005?line=0'>1</a>\u001b[0m random \u001b[39m=\u001b[39m \u001b[39mTrue\u001b[39;00m\n\u001b[0;32m      <a href='vscode-notebook-cell:/c%3A/Users/Aksoy/PycharmProjects/Start_PyCharm/uncertainty_simulations/plot_case_study.ipynb#ch0000005?line=1'>2</a>\u001b[0m \u001b[39mif\u001b[39;00m random:\n\u001b[1;32m----> <a href='vscode-notebook-cell:/c%3A/Users/Aksoy/PycharmProjects/Start_PyCharm/uncertainty_simulations/plot_case_study.ipynb#ch0000005?line=2'>3</a>\u001b[0m     date \u001b[39m=\u001b[39m \u001b[39mstr\u001b[39m(rng\u001b[39m.\u001b[39mchoice(np\u001b[39m.\u001b[39marange(np\u001b[39m.\u001b[39mdatetime64(\u001b[39m\"\u001b[39m\u001b[39m2018-01-01\u001b[39m\u001b[39m\"\u001b[39m), np\u001b[39m.\u001b[39mdatetime64(\u001b[39m\"\u001b[39m\u001b[39m2018-07-01\u001b[39m\u001b[39m\"\u001b[39m))))\n\u001b[0;32m      <a href='vscode-notebook-cell:/c%3A/Users/Aksoy/PycharmProjects/Start_PyCharm/uncertainty_simulations/plot_case_study.ipynb#ch0000005?line=3'>4</a>\u001b[0m     tw\u001b[39m=\u001b[39m\u001b[39mslice\u001b[39m(\u001b[39m24\u001b[39m, \u001b[39m72\u001b[39m, \u001b[39m1\u001b[39m)\n\u001b[0;32m      <a href='vscode-notebook-cell:/c%3A/Users/Aksoy/PycharmProjects/Start_PyCharm/uncertainty_simulations/plot_case_study.ipynb#ch0000005?line=4'>5</a>\u001b[0m     apt_idx \u001b[39m=\u001b[39m rng\u001b[39m.\u001b[39mintegers(\u001b[39m0\u001b[39m, \u001b[39m133\u001b[39m)\n",
      "\u001b[1;31mNameError\u001b[0m: name 'rng' is not defined"
     ]
    }
   ],
   "source": [
    "random = True\n",
    "if random:\n",
    "    date = str(rng.choice(np.arange(np.datetime64(\"2018-01-01\"), np.datetime64(\"2018-07-01\"))))\n",
    "    tw=slice(24, 72, 1)\n",
    "    apt_idx = rng.integers(0, 133)\n",
    "else:\n",
    "    date=\"2018-04-05\"\n",
    "    tw=slice(24, 72, 1)\n",
    "    apt_idx = 5\n",
    "    \n",
    "index = (date, tw)\n",
    "\n",
    "apt_name = airport_df.index.unique(\"apt\").tolist()[apt_idx]\n",
    "\n",
    "def diff_prop(slice_df):\n",
    "    return (((slice_df[\"infmat\"] - slice_df[\"rr_vector\"]) @ slice_df[\"p_vector\"]) - ((slice_df[\"infmat\"] @ slice_df[\"p_vector\"]) * slice_df[\"p_vector\"])) / 1\n",
    "\n",
    "slice_df = deepcopy(new_df.loc[index, :])\n",
    "\n",
    "def apt_index(vector):\n",
    "    return vector[apt_idx]\n",
    "\n",
    "plot_kwargs = dict(figsize=(12, 6), xlabel=\"tw\", ylabel=\"P Delta\", legend=True, xticks=range(24, 72, 4), title=f\"Change of 'delay per flight per hour' for {apt_name}\")\n",
    "\n",
    "\n",
    "slice_df[\"calc_p\"] = slice_df.apply(diff_prop, axis=1).values\n",
    "slice_df[\"calc_p\"].reset_index(level=\"date\", drop=True).apply(apt_index).plot(**plot_kwargs, label=\"Calculated P\")\n",
    "slice_df[\"p_vector\"].reset_index(level=\"date\", drop=True).apply(apt_index).diff().shift(-1).plot(**plot_kwargs, label=\"Actual P\")\n",
    "plt.show()"
   ]
  },
  {
   "cell_type": "markdown",
   "metadata": {},
   "source": [
    "## Delta P Plots with Uncertainties"
   ]
  },
  {
   "cell_type": "code",
   "execution_count": null,
   "metadata": {},
   "outputs": [],
   "source": [
    "uncertainty_matrix = rng.normal(0,) "
   ]
  }
 ],
 "metadata": {
  "interpreter": {
   "hash": "0e5f066fc408543cf22e5662275ab399b96944b2bfe8f74db88280daefd7debe"
  },
  "kernelspec": {
   "display_name": "Python 3.10.2 ('start_venv')",
   "language": "python",
   "name": "python3"
  },
  "language_info": {
   "codemirror_mode": {
    "name": "ipython",
    "version": 3
   },
   "file_extension": ".py",
   "mimetype": "text/x-python",
   "name": "python",
   "nbconvert_exporter": "python",
   "pygments_lexer": "ipython3",
   "version": "3.10.3"
  },
  "orig_nbformat": 4
 },
 "nbformat": 4,
 "nbformat_minor": 2
}
