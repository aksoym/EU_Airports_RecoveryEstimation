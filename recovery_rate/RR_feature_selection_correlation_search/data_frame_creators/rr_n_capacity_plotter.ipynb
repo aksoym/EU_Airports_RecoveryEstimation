{
 "cells": [
  {
   "cell_type": "code",
   "execution_count": 1,
   "metadata": {
    "pycharm": {
     "is_executing": true,
     "name": "#%%\n"
    }
   },
   "outputs": [],
   "source": [
    "import matplotlib.pyplot as plt\n",
    "import numpy as np\n",
    "import pandas as pd\n",
    "import pickle\n",
    "import os\n",
    "\n",
    "import plotly.graph_objects\n",
    "\n",
    "root_path = os.getcwd().split('Start_PyCharm')[0]\n",
    "\n",
    "airport_state_df = pd.read_pickle(root_path + 'Start_PyCharm/state_vector_dataframes_as_training_data/data/airport_state_df_w_features.pickle')\n",
    "\n",
    "\n",
    "\n"
   ]
  },
  {
   "cell_type": "code",
   "execution_count": null,
   "metadata": {
    "pycharm": {
     "name": "#%%\n"
    }
   },
   "outputs": [],
   "source": [
    "# airport_names = ['schiphol', 'munich', 'frankfurt', 'ataturk']\n",
    "# date_tw_indexes = [schiphol_df.index.tolist(), munich_df.index.tolist(), frankfurt_df.index.tolist(), ataturk_df.index.tolist()]\n",
    "#\n",
    "# mult_index_tuple_list = []\n",
    "#\n",
    "# for name, index_list in zip(airport_names, date_tw_indexes):\n",
    "#     for index in index_list:\n",
    "#         mult_index_tuple_list.append((name, index))\n",
    "#\n",
    "# combined_df = pd.DataFrame(index=pd.MultiIndex.from_tuples(mult_index_tuple_list, names=('airport', 'date_tw_idx')))"
   ]
  },
  {
   "cell_type": "code",
   "execution_count": 8,
   "metadata": {},
   "outputs": [
    {
     "data": {
      "text/plain": [
       "133"
      ]
     },
     "execution_count": 8,
     "metadata": {},
     "output_type": "execute_result"
    }
   ],
   "source": [
    "airport_state_df.reset_index()['apt'].unique().__len__()"
   ]
  },
  {
   "cell_type": "code",
   "execution_count": 15,
   "metadata": {},
   "outputs": [
    {
     "data": {
      "text/plain": [
       "(5, 13)"
      ]
     },
     "execution_count": 15,
     "metadata": {},
     "output_type": "execute_result"
    }
   ],
   "source": [
    "a.shape"
   ]
  },
  {
   "cell_type": "code",
   "execution_count": 24,
   "metadata": {},
   "outputs": [
    {
     "data": {
      "text/plain": [
       "tensor([[     nan,   0.0000,  15.0000],\n",
       "        [  0.6741,  72.1000,   7.0000],\n",
       "        [     nan,   0.0000,  11.0000],\n",
       "        [  1.1217,  97.9333,   7.0000],\n",
       "        [  1.9316, 414.4500,  13.0000]])"
      ]
     },
     "execution_count": 24,
     "metadata": {},
     "output_type": "execute_result"
    }
   ],
   "source": [
    "import torch\n",
    "torch.tensor(a.to_numpy(dtype=np.float32))"
   ]
  },
  {
   "cell_type": "code",
   "execution_count": 18,
   "metadata": {
    "pycharm": {
     "name": "#%%\n"
    }
   },
   "outputs": [],
   "source": [
    "a = airport_state_df.iloc[1:1 + 133*5:133, :].loc[:, ['recovery_rate', 'total_delay', 'outflow']]"
   ]
  },
  {
   "cell_type": "code",
   "execution_count": 3,
   "metadata": {
    "pycharm": {
     "is_executing": true,
     "name": "#%%\n"
    }
   },
   "outputs": [
    {
     "ename": "ModuleNotFoundError",
     "evalue": "No module named 'plotly.graphic_object'",
     "output_type": "error",
     "traceback": [
      "\u001b[0;31m---------------------------------------------------------------------------\u001b[0m",
      "\u001b[0;31mModuleNotFoundError\u001b[0m                       Traceback (most recent call last)",
      "\u001b[0;32m/tmp/ipykernel_218320/2522215084.py\u001b[0m in \u001b[0;36m<module>\u001b[0;34m\u001b[0m\n\u001b[1;32m      1\u001b[0m \u001b[0;32mimport\u001b[0m \u001b[0mplotly\u001b[0m\u001b[0;34m.\u001b[0m\u001b[0mexpress\u001b[0m \u001b[0;32mas\u001b[0m \u001b[0mpx\u001b[0m\u001b[0;34m\u001b[0m\u001b[0;34m\u001b[0m\u001b[0m\n\u001b[0;32m----> 2\u001b[0;31m \u001b[0;32mimport\u001b[0m \u001b[0mplotly\u001b[0m\u001b[0;34m.\u001b[0m\u001b[0mgraphic_object\u001b[0m \u001b[0;32mas\u001b[0m \u001b[0mgo\u001b[0m\u001b[0;34m\u001b[0m\u001b[0;34m\u001b[0m\u001b[0m\n\u001b[0m\u001b[1;32m      3\u001b[0m \u001b[0;34m\u001b[0m\u001b[0m\n\u001b[1;32m      4\u001b[0m \u001b[0mcolored_feature\u001b[0m \u001b[0;34m=\u001b[0m \u001b[0;34m'capacity'\u001b[0m\u001b[0;34m\u001b[0m\u001b[0;34m\u001b[0m\u001b[0m\n\u001b[1;32m      5\u001b[0m \u001b[0mversus\u001b[0m \u001b[0;34m=\u001b[0m \u001b[0;34m'date'\u001b[0m\u001b[0;34m\u001b[0m\u001b[0;34m\u001b[0m\u001b[0m\n",
      "\u001b[0;31mModuleNotFoundError\u001b[0m: No module named 'plotly.graphic_object'"
     ]
    }
   ],
   "source": [
    "import plotly.express as px\n",
    "import plotly.graphic_objects as go\n",
    "\n",
    "colored_feature = 'capacity'\n",
    "versus = 'date'\n",
    "sliding_feature = 'apt'\n",
    "\n",
    "fig = go.scattergl(airport_state_df.reset_index(), x=versus, y=\"recovery_rate\",\n",
    "                 color=colored_feature,\n",
    "                 hover_data=['tw', 'reg_type', 'reg_cause'],\n",
    "                 title='Recovery Rates', marginal_y='violin', animation_frame=sliding_feature)\n",
    "                 #range_color=(airport_state_df[colored_feature].min(), airport_state_df[colored_feature].max()))\n",
    "\n",
    "y_max_values = airport_state_df.reset_index().groupby(sliding_feature, sort=False)['recovery_rate'].max().tolist()\n",
    "y_min_values = airport_state_df.reset_index().groupby(sliding_feature, sort=False)['recovery_rate'].min().tolist()\n",
    "\n",
    "colored_feature_max = airport_state_df.reset_index().groupby(sliding_feature, sort=False)[colored_feature].max().tolist()\n",
    "colored_feature_min = airport_state_df.reset_index().groupby(sliding_feature, sort=False)[colored_feature].min().tolist()\n",
    "\n",
    "for idx, f in enumerate(fig.frames):\n",
    "    f.layout.update(yaxis_range = [y_min_values[idx], y_max_values[idx]])\n",
    "fig.update_traces(marker={'size': 6})\n",
    "\n",
    "fig.show()"
   ]
  },
  {
   "cell_type": "code",
   "execution_count": null,
   "metadata": {},
   "outputs": [],
   "source": []
  }
 ],
 "metadata": {
  "kernelspec": {
   "display_name": "Python 3 (ipykernel)",
   "language": "python",
   "name": "python3"
  },
  "language_info": {
   "codemirror_mode": {
    "name": "ipython",
    "version": 3
   },
   "file_extension": ".py",
   "mimetype": "text/x-python",
   "name": "python",
   "nbconvert_exporter": "python",
   "pygments_lexer": "ipython3",
   "version": "3.9.7"
  }
 },
 "nbformat": 4,
 "nbformat_minor": 1
}
