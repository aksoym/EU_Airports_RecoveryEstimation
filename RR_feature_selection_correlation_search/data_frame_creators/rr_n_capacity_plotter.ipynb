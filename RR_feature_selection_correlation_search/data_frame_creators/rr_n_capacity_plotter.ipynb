{
 "cells": [
  {
   "cell_type": "code",
   "execution_count": 8,
   "metadata": {
    "collapsed": true,
    "pycharm": {
     "name": "#%%\n"
    }
   },
   "outputs": [
    {
     "data": {
      "application/vnd.plotly.v1+json": {
       "data": [
        {
         "customdata": [
          [
           "24",
           7,
           null,
           null,
           "O - Other",
           "public holiday opening hours",
           "None"
          ],
          [
           "36",
           -4,
           7.0,
           10.666666666666666,
           "O - Other",
           "public holiday opening hours",
           "None"
          ],
          [
           "36",
           -30,
           -15.0,
           34.333333333333336,
           "O - Other",
           "Works on the RWY",
           "None"
          ],
          [
           "60",
           13,
           4.0,
           31.666666666666668,
           "O - Other",
           "FIRE",
           "None"
          ],
          [
           "12",
           14,
           -1.0,
           0.3333333333333333,
           "O - Other",
           "Additional traffic due to French Industrial Action",
           "None"
          ],
          [
           "84",
           -4,
           -6.0,
           28.0,
           "O - Other",
           "BACKLOG DUE TO ETFMS SITUATION",
           "None"
          ],
          [
           "12",
           48,
           3.0,
           1.0,
           "O - Other",
           "Additional traffic due to LFMM industrial action",
           "None"
          ],
          [
           "12",
           37,
           5.0,
           1.6666666666666667,
           "O - Other",
           "Additional traffic due to LFMM industrial action",
           "None"
          ],
          [
           "12",
           28,
           3.0,
           1.0,
           "O - Other",
           "Additional traffic due to LFMM industrial action",
           "None"
          ],
          [
           "12",
           43,
           2.0,
           0.6666666666666666,
           "O - Other",
           "FRENCH INDUSTRIAL ACTION",
           "None"
          ],
          [
           "12",
           31,
           2.0,
           0.6666666666666666,
           "O - Other",
           "MARSEILLE ATC INDUSTRIAL ACTION",
           "None"
          ],
          [
           "12",
           55,
           5.0,
           1.6666666666666667,
           "O - Other",
           "W.I.P  NOTAM A1874/18",
           "None"
          ],
          [
           "24",
           27,
           55.0,
           26.0,
           "O - Other",
           "W.I.P  NOTAM A1874/18",
           "None"
          ],
          [
           "12",
           48,
           4.0,
           1.3333333333333333,
           "O - Other",
           "W.I.P  NOTAM A1874/18",
           "None"
          ],
          [
           "12",
           49,
           3.0,
           1.0,
           "O - Other",
           "W.I.P  NOTAM A1874/18",
           "None"
          ],
          [
           "12",
           37,
           3.0,
           1.0,
           "O - Other",
           "MARSEILLE ATC INDUSTRIAL ACTION",
           "None"
          ]
         ],
         "hovertemplate": "reg_type=%{customdata[4]}<br>date_idx=%{x}<br>recovery_rate=%{y}<br>tw_idx=%{customdata[0]}<br>capacity_change=%{customdata[1]}<br>prev_capacity_change=%{customdata[2]}<br>prev_avg_capacity=%{customdata[3]}<br>reg_cause=%{customdata[5]}<br>reg_bool_type=%{customdata[6]}<extra></extra>",
         "legendgroup": "O - Other",
         "marker": {
          "color": "#636efa",
          "symbol": "circle"
         },
         "mode": "markers",
         "name": "O - Other",
         "showlegend": true,
         "x": [
          "2018-01-01",
          "2018-01-01",
          "2018-01-24",
          "2018-02-20",
          "2018-03-22",
          "2018-04-03",
          "2018-04-28",
          "2018-05-06",
          "2018-05-13",
          "2018-05-23",
          "2018-05-27",
          "2018-06-18",
          "2018-06-18",
          "2018-06-19",
          "2018-06-20",
          "2018-06-24"
         ],
         "xaxis": "x",
         "y": [
          1.9710205883420722,
          1.2219463186297514,
          2.1460513219146344,
          1.0160162184158645,
          0.9250890925362377,
          1.7438478245239464,
          1.72399268834291,
          1.6081485919232756,
          1.5654552814077447,
          2.5050491997544113,
          1.9447214391273617,
          1.3664572768493264,
          1.71030852293808,
          1.5082812405495813,
          1.6803328792032137,
          2.0057445253158304
         ],
         "yaxis": "y",
         "type": "scattergl"
        },
        {
         "alignmentgroup": "True",
         "customdata": [
          [
           "24",
           7,
           null,
           null,
           "O - Other",
           "public holiday opening hours",
           "None"
          ],
          [
           "36",
           -4,
           7.0,
           10.666666666666666,
           "O - Other",
           "public holiday opening hours",
           "None"
          ],
          [
           "36",
           -30,
           -15.0,
           34.333333333333336,
           "O - Other",
           "Works on the RWY",
           "None"
          ],
          [
           "60",
           13,
           4.0,
           31.666666666666668,
           "O - Other",
           "FIRE",
           "None"
          ],
          [
           "12",
           14,
           -1.0,
           0.3333333333333333,
           "O - Other",
           "Additional traffic due to French Industrial Action",
           "None"
          ],
          [
           "84",
           -4,
           -6.0,
           28.0,
           "O - Other",
           "BACKLOG DUE TO ETFMS SITUATION",
           "None"
          ],
          [
           "12",
           48,
           3.0,
           1.0,
           "O - Other",
           "Additional traffic due to LFMM industrial action",
           "None"
          ],
          [
           "12",
           37,
           5.0,
           1.6666666666666667,
           "O - Other",
           "Additional traffic due to LFMM industrial action",
           "None"
          ],
          [
           "12",
           28,
           3.0,
           1.0,
           "O - Other",
           "Additional traffic due to LFMM industrial action",
           "None"
          ],
          [
           "12",
           43,
           2.0,
           0.6666666666666666,
           "O - Other",
           "FRENCH INDUSTRIAL ACTION",
           "None"
          ],
          [
           "12",
           31,
           2.0,
           0.6666666666666666,
           "O - Other",
           "MARSEILLE ATC INDUSTRIAL ACTION",
           "None"
          ],
          [
           "12",
           55,
           5.0,
           1.6666666666666667,
           "O - Other",
           "W.I.P  NOTAM A1874/18",
           "None"
          ],
          [
           "24",
           27,
           55.0,
           26.0,
           "O - Other",
           "W.I.P  NOTAM A1874/18",
           "None"
          ],
          [
           "12",
           48,
           4.0,
           1.3333333333333333,
           "O - Other",
           "W.I.P  NOTAM A1874/18",
           "None"
          ],
          [
           "12",
           49,
           3.0,
           1.0,
           "O - Other",
           "W.I.P  NOTAM A1874/18",
           "None"
          ],
          [
           "12",
           37,
           3.0,
           1.0,
           "O - Other",
           "MARSEILLE ATC INDUSTRIAL ACTION",
           "None"
          ]
         ],
         "hovertemplate": "reg_type=%{customdata[4]}<br>recovery_rate=%{y}<br>tw_idx=%{customdata[0]}<br>capacity_change=%{customdata[1]}<br>prev_capacity_change=%{customdata[2]}<br>prev_avg_capacity=%{customdata[3]}<br>reg_cause=%{customdata[5]}<br>reg_bool_type=%{customdata[6]}<extra></extra>",
         "legendgroup": "O - Other",
         "marker": {
          "color": "#636efa",
          "symbol": "circle"
         },
         "name": "O - Other",
         "notched": true,
         "offsetgroup": "O - Other",
         "showlegend": false,
         "xaxis": "x2",
         "y": [
          1.9710205883420722,
          1.2219463186297514,
          2.1460513219146344,
          1.0160162184158645,
          0.9250890925362377,
          1.7438478245239464,
          1.72399268834291,
          1.6081485919232756,
          1.5654552814077447,
          2.5050491997544113,
          1.9447214391273617,
          1.3664572768493264,
          1.71030852293808,
          1.5082812405495813,
          1.6803328792032137,
          2.0057445253158304
         ],
         "yaxis": "y2",
         "type": "box"
        },
        {
         "customdata": [
          [
           "48",
           -9,
           -4.0,
           13.666666666666666,
           "G - Aerodrome Capacity",
           null,
           "None"
          ],
          [
           "60",
           9,
           -9.0,
           17.666666666666668,
           "G - Aerodrome Capacity",
           null,
           "None"
          ],
          [
           "36",
           -10,
           10.0,
           21.0,
           "G - Aerodrome Capacity",
           null,
           "None"
          ],
          [
           "60",
           12,
           -24.0,
           30.666666666666668,
           "G - Aerodrome Capacity",
           null,
           "None"
          ],
          [
           "84",
           -9,
           5.0,
           25.333333333333332,
           "G - Aerodrome Capacity",
           null,
           "None"
          ],
          [
           "60",
           17,
           -5.0,
           28.333333333333332,
           "G - Aerodrome Capacity",
           null,
           "None"
          ],
          [
           "72",
           2,
           17.0,
           26.666666666666668,
           "G - Aerodrome Capacity",
           null,
           "None"
          ],
          [
           "48",
           -11,
           -18.0,
           27.0,
           "G - Aerodrome Capacity",
           null,
           "None"
          ],
          [
           "12",
           9,
           -1.0,
           0.3333333333333333,
           "G - Aerodrome Capacity",
           "WIP NOTAM A0065/18. REGULATION EXTENDED.",
           "None"
          ],
          [
           "24",
           13,
           9.0,
           7.0,
           "G - Aerodrome Capacity",
           "WIP NOTAM A0065/18. REGULATION EXTENDED.",
           "None"
          ],
          [
           "36",
           -17,
           13.0,
           21.333333333333332,
           "G - Aerodrome Capacity",
           "WIP NOTAM A0065/18. REGULATION EXTENDED.",
           "None"
          ],
          [
           "60",
           17,
           -17.0,
           28.666666666666668,
           "G - Aerodrome Capacity",
           null,
           "None"
          ],
          [
           "72",
           -1,
           17.0,
           28.0,
           "G - Aerodrome Capacity",
           null,
           "None"
          ],
          [
           "60",
           4,
           -15.0,
           27.0,
           "G - Aerodrome Capacity",
           null,
           "None"
          ],
          [
           "84",
           -6,
           -13.0,
           22.0,
           "G - Aerodrome Capacity",
           null,
           "None"
          ],
          [
           "36",
           -11,
           12.0,
           16.666666666666668,
           "G - Aerodrome Capacity",
           null,
           "None"
          ],
          [
           "60",
           16,
           -15.0,
           26.333333333333332,
           "G - Aerodrome Capacity",
           null,
           "None"
          ],
          [
           "84",
           -12,
           -5.0,
           34.0,
           "G - Aerodrome Capacity",
           null,
           "None"
          ],
          [
           "12",
           9,
           0.0,
           0.0,
           "G - Aerodrome Capacity",
           "WIP on RWY NOTAM A4346/17",
           "None"
          ],
          [
           "48",
           -17,
           -26.0,
           27.0,
           "G - Aerodrome Capacity",
           "WIP RVR 700mt",
           "None"
          ],
          [
           "60",
           11,
           -17.0,
           32.333333333333336,
           "G - Aerodrome Capacity",
           null,
           "None"
          ],
          [
           "72",
           8,
           11.0,
           30.666666666666668,
           "G - Aerodrome Capacity",
           "WIP RVR 700mt",
           "None"
          ],
          [
           "24",
           -14,
           13.0,
           8.0,
           "G - Aerodrome Capacity",
           "WIP in the TWR",
           "None"
          ],
          [
           "60",
           15,
           -22.0,
           31.666666666666668,
           "G - Aerodrome Capacity",
           null,
           "None"
          ],
          [
           "84",
           -11,
           7.0,
           34.666666666666664,
           "G - Aerodrome Capacity",
           "WIP RATE REDUCED DUE TO LOW VISIBILITY",
           "None"
          ],
          [
           "24",
           -11,
           11.0,
           9.0,
           "G - Aerodrome Capacity",
           "WIP in the TWR",
           "None"
          ],
          [
           "36",
           -28,
           -11.0,
           31.0,
           "G - Aerodrome Capacity",
           "WIP in the TWR",
           "None"
          ],
          [
           "48",
           -12,
           -28.0,
           31.666666666666668,
           "G - Aerodrome Capacity",
           null,
           "None"
          ],
          [
           "60",
           13,
           -12.0,
           32.666666666666664,
           "G - Aerodrome Capacity",
           "WIP Reg extended",
           "None"
          ],
          [
           "84",
           -10,
           4.0,
           36.666666666666664,
           "G - Aerodrome Capacity",
           null,
           "None"
          ],
          [
           "36",
           -26,
           -4.0,
           33.333333333333336,
           "G - Aerodrome Capacity",
           "WIP",
           "None"
          ],
          [
           "72",
           9,
           18.0,
           33.0,
           "G - Aerodrome Capacity",
           null,
           "None"
          ],
          [
           "84",
           -12,
           9.0,
           35.0,
           "G - Aerodrome Capacity",
           null,
           "None"
          ],
          [
           "60",
           11,
           -22.0,
           27.666666666666668,
           "G - Aerodrome Capacity",
           null,
           "None"
          ],
          [
           "60",
           15,
           -12.0,
           26.0,
           "G - Aerodrome Capacity",
           null,
           "None"
          ],
          [
           "72",
           -13,
           15.0,
           32.0,
           "G - Aerodrome Capacity",
           null,
           "None"
          ],
          [
           "84",
           -13,
           -13.0,
           33.666666666666664,
           "G - Aerodrome Capacity",
           null,
           "None"
          ],
          [
           "60",
           10,
           -14.0,
           30.666666666666668,
           "G - Aerodrome Capacity",
           null,
           "None"
          ],
          [
           "24",
           -16,
           13.0,
           8.666666666666666,
           "G - Aerodrome Capacity",
           "WIP in the TWR",
           "None"
          ],
          [
           "60",
           10,
           -17.0,
           29.0,
           "G - Aerodrome Capacity",
           "RWY CONFIGURATION REG. EXE.",
           "None"
          ],
          [
           "72",
           5,
           10.0,
           34.333333333333336,
           "G - Aerodrome Capacity",
           "RWY CONFIGURATION REG. EXE.",
           "None"
          ],
          [
           "84",
           -16,
           5.0,
           31.666666666666668,
           "G - Aerodrome Capacity",
           "RWY CONFIGURATION REG. EXE.",
           "None"
          ],
          [
           "12",
           13,
           -1.0,
           0.3333333333333333,
           "G - Aerodrome Capacity",
           "rwy configuration",
           "None"
          ],
          [
           "24",
           -15,
           13.0,
           8.0,
           "G - Aerodrome Capacity",
           "WIP in the TWR",
           "None"
          ],
          [
           "36",
           -20,
           -15.0,
           32.333333333333336,
           "G - Aerodrome Capacity",
           "lack of stands due snow removal",
           "None"
          ],
          [
           "48",
           -12,
           -20.0,
           32.333333333333336,
           "G - Aerodrome Capacity",
           "lack of stands due snow removal",
           "None"
          ],
          [
           "48",
           -11,
           -28.0,
           29.0,
           "G - Aerodrome Capacity",
           "Reg shortened",
           "None"
          ],
          [
           "60",
           16,
           -11.0,
           28.666666666666668,
           "G - Aerodrome Capacity",
           null,
           "None"
          ],
          [
           "84",
           -21,
           -5.0,
           33.333333333333336,
           "G - Aerodrome Capacity",
           null,
           "None"
          ],
          [
           "60",
           20,
           -9.0,
           31.333333333333332,
           "G - Aerodrome Capacity",
           "rwy config due to wind direction",
           "None"
          ],
          [
           "72",
           8,
           20.0,
           34.333333333333336,
           "G - Aerodrome Capacity",
           "rwy config due to wind direction",
           "None"
          ],
          [
           "84",
           -14,
           8.0,
           35.0,
           "G - Aerodrome Capacity",
           "rwy config due to wind direction",
           "None"
          ],
          [
           "12",
           10,
           -1.0,
           0.3333333333333333,
           "G - Aerodrome Capacity",
           null,
           "None"
          ],
          [
           "24",
           -7,
           10.0,
           6.333333333333333,
           "G - Aerodrome Capacity",
           null,
           "None"
          ],
          [
           "60",
           13,
           -10.0,
           26.0,
           "G - Aerodrome Capacity",
           "Rwy configuration",
           "None"
          ],
          [
           "72",
           -6,
           13.0,
           26.0,
           "G - Aerodrome Capacity",
           "Rwy configuration",
           "None"
          ],
          [
           "84",
           -5,
           -6.0,
           20.333333333333332,
           "G - Aerodrome Capacity",
           "Rwy configuration",
           "None"
          ],
          [
           "60",
           10,
           -15.0,
           26.0,
           "G - Aerodrome Capacity",
           null,
           "None"
          ],
          [
           "72",
           6,
           10.0,
           33.666666666666664,
           "G - Aerodrome Capacity",
           "HOLE ON THE TAXIWAY",
           "None"
          ],
          [
           "84",
           -12,
           6.0,
           35.0,
           "G - Aerodrome Capacity",
           null,
           "None"
          ],
          [
           "24",
           -15,
           10.0,
           7.666666666666667,
           "G - Aerodrome Capacity",
           "WIP in the TWR",
           "None"
          ],
          [
           "36",
           -3,
           -15.0,
           36.0,
           "G - Aerodrome Capacity",
           null,
           "None"
          ],
          [
           "48",
           18,
           -3.0,
           25.333333333333332,
           "G - Aerodrome Capacity",
           null,
           "None"
          ],
          [
           "60",
           4,
           18.0,
           28.333333333333332,
           "G - Aerodrome Capacity",
           null,
           "None"
          ],
          [
           "24",
           -15,
           15.0,
           9.0,
           "G - Aerodrome Capacity",
           "WIP in the TWR",
           "None"
          ],
          [
           "60",
           13,
           -20.0,
           32.333333333333336,
           "G - Aerodrome Capacity",
           null,
           "None"
          ],
          [
           "72",
           13,
           13.0,
           33.333333333333336,
           "G - Aerodrome Capacity",
           null,
           "None"
          ],
          [
           "84",
           -11,
           13.0,
           32.333333333333336,
           "G - Aerodrome Capacity",
           null,
           "None"
          ],
          [
           "84",
           -13,
           6.0,
           34.666666666666664,
           "G - Aerodrome Capacity",
           null,
           "None"
          ],
          [
           "24",
           -13,
           13.0,
           8.333333333333334,
           "G - Aerodrome Capacity",
           "WIP in the TWR",
           "None"
          ],
          [
           "60",
           15,
           -25.0,
           33.0,
           "G - Aerodrome Capacity",
           null,
           "None"
          ],
          [
           "72",
           5,
           15.0,
           33.0,
           "G - Aerodrome Capacity",
           null,
           "None"
          ],
          [
           "24",
           -12,
           16.0,
           8.333333333333334,
           "G - Aerodrome Capacity",
           "WIP in the TWR",
           "None"
          ],
          [
           "60",
           17,
           -14.0,
           34.0,
           "G - Aerodrome Capacity",
           null,
           "None"
          ],
          [
           "72",
           7,
           17.0,
           36.0,
           "G - Aerodrome Capacity",
           "extended",
           "None"
          ],
          [
           "84",
           -13,
           7.0,
           35.333333333333336,
           "G - Aerodrome Capacity",
           null,
           "None"
          ],
          [
           "36",
           -29,
           -7.0,
           30.666666666666668,
           "G - Aerodrome Capacity",
           null,
           "None"
          ],
          [
           "60",
           10,
           -18.0,
           27.666666666666668,
           "G - Aerodrome Capacity",
           null,
           "None"
          ],
          [
           "84",
           -3,
           0.0,
           19.333333333333332,
           "G - Aerodrome Capacity",
           null,
           "None"
          ],
          [
           "36",
           -20,
           12.0,
           20.666666666666668,
           "G - Aerodrome Capacity",
           "EXTENDED",
           "None"
          ],
          [
           "48",
           -18,
           -20.0,
           22.666666666666668,
           "G - Aerodrome Capacity",
           "EXTENDED",
           "None"
          ],
          [
           "24",
           -15,
           19.0,
           9.333333333333334,
           "G - Aerodrome Capacity",
           "WIP in the TWR",
           "None"
          ],
          [
           "36",
           -24,
           -15.0,
           36.0,
           "G - Aerodrome Capacity",
           null,
           "None"
          ],
          [
           "60",
           11,
           -18.0,
           34.666666666666664,
           "G - Aerodrome Capacity",
           null,
           "None"
          ],
          [
           "24",
           -15,
           17.0,
           9.0,
           "G - Aerodrome Capacity",
           "WIP in the TWR",
           "None"
          ],
          [
           "36",
           -30,
           -15.0,
           33.666666666666664,
           "G - Aerodrome Capacity",
           null,
           "None"
          ],
          [
           "60",
           14,
           -20.0,
           32.333333333333336,
           "G - Aerodrome Capacity",
           null,
           "None"
          ],
          [
           "72",
           9,
           14.0,
           35.0,
           "G - Aerodrome Capacity",
           "REG EXTENDED",
           "None"
          ],
          [
           "84",
           -14,
           9.0,
           33.666666666666664,
           "G - Aerodrome Capacity",
           null,
           "None"
          ],
          [
           "24",
           -15,
           16.0,
           8.666666666666666,
           "G - Aerodrome Capacity",
           "WIP in the TWR",
           "None"
          ],
          [
           "48",
           -17,
           -24.0,
           32.0,
           "G - Aerodrome Capacity",
           null,
           "None"
          ],
          [
           "84",
           -13,
           13.0,
           35.0,
           "G - Aerodrome Capacity",
           null,
           "None"
          ],
          [
           "36",
           -35,
           -20.0,
           32.0,
           "G - Aerodrome Capacity",
           null,
           "None"
          ],
          [
           "60",
           20,
           -15.0,
           34.0,
           "G - Aerodrome Capacity",
           null,
           "None"
          ],
          [
           "84",
           -10,
           16.0,
           37.333333333333336,
           "G - Aerodrome Capacity",
           null,
           "None"
          ],
          [
           "36",
           -34,
           -15.0,
           34.666666666666664,
           "G - Aerodrome Capacity",
           null,
           "None"
          ],
          [
           "60",
           8,
           -19.0,
           35.666666666666664,
           "G - Aerodrome Capacity",
           null,
           "None"
          ],
          [
           "60",
           9,
           -15.0,
           31.666666666666668,
           "G - Aerodrome Capacity",
           null,
           "None"
          ],
          [
           "84",
           -6,
           -2.0,
           23.333333333333332,
           "G - Aerodrome Capacity",
           null,
           "None"
          ],
          [
           "24",
           4,
           8.0,
           6.666666666666667,
           "G - Aerodrome Capacity",
           null,
           "None"
          ],
          [
           "60",
           4,
           -18.0,
           28.0,
           "G - Aerodrome Capacity",
           null,
           "None"
          ],
          [
           "72",
           2,
           4.0,
           31.333333333333332,
           "G - Aerodrome Capacity",
           null,
           "None"
          ],
          [
           "84",
           -9,
           2.0,
           36.0,
           "G - Aerodrome Capacity",
           null,
           "None"
          ],
          [
           "60",
           10,
           -20.0,
           32.0,
           "G - Aerodrome Capacity",
           null,
           "None"
          ],
          [
           "60",
           16,
           -17.0,
           31.666666666666668,
           "G - Aerodrome Capacity",
           null,
           "None"
          ],
          [
           "84",
           -13,
           8.0,
           36.0,
           "G - Aerodrome Capacity",
           null,
           "None"
          ],
          [
           "72",
           11,
           15.0,
           35.666666666666664,
           "G - Aerodrome Capacity",
           null,
           "None"
          ],
          [
           "36",
           -25,
           -7.0,
           32.0,
           "G - Aerodrome Capacity",
           null,
           "None"
          ],
          [
           "48",
           -17,
           -25.0,
           30.0,
           "G - Aerodrome Capacity",
           "Extended",
           "None"
          ],
          [
           "60",
           3,
           -17.0,
           29.333333333333332,
           "G - Aerodrome Capacity",
           null,
           "None"
          ],
          [
           "72",
           -7,
           3.0,
           29.0,
           "G - Aerodrome Capacity",
           "Extended",
           "None"
          ],
          [
           "84",
           -5,
           -7.0,
           26.666666666666668,
           "G - Aerodrome Capacity",
           null,
           "None"
          ],
          [
           "48",
           -10,
           -18.0,
           24.0,
           "G - Aerodrome Capacity",
           null,
           "None"
          ],
          [
           "84",
           -11,
           5.0,
           36.666666666666664,
           "G - Aerodrome Capacity",
           null,
           "None"
          ],
          [
           "24",
           -12,
           14.0,
           8.666666666666666,
           "G - Aerodrome Capacity",
           "WIP in the TWR / REDUCED RATE DUE TO LIMITED PARKING (DE-ICING)",
           "None"
          ],
          [
           "36",
           -29,
           -12.0,
           35.333333333333336,
           "G - Aerodrome Capacity",
           null,
           "None"
          ],
          [
           "72",
           12,
           15.0,
           31.666666666666668,
           "G - Aerodrome Capacity",
           "WIP in TWR and on TWYs",
           "None"
          ],
          [
           "36",
           -31,
           -17.0,
           33.0,
           "G - Aerodrome Capacity",
           null,
           "None"
          ],
          [
           "48",
           -19,
           -31.0,
           30.666666666666668,
           "G - Aerodrome Capacity",
           "WIP ON RWY",
           "None"
          ],
          [
           "72",
           19,
           13.0,
           32.666666666666664,
           "G - Aerodrome Capacity",
           "wip",
           "None"
          ],
          [
           "84",
           -11,
           19.0,
           33.666666666666664,
           "G - Aerodrome Capacity",
           "wip",
           "None"
          ],
          [
           "36",
           -25,
           -12.0,
           35.333333333333336,
           "G - Aerodrome Capacity",
           null,
           "None"
          ],
          [
           "60",
           17,
           -17.0,
           31.333333333333332,
           "G - Aerodrome Capacity",
           null,
           "None"
          ],
          [
           "12",
           14,
           0.0,
           0.6666666666666666,
           "G - Aerodrome Capacity",
           "WIP - NOTAM A0551/18",
           "None"
          ],
          [
           "36",
           -25,
           -12.0,
           33.666666666666664,
           "G - Aerodrome Capacity",
           null,
           "None"
          ],
          [
           "60",
           9,
           -7.0,
           34.666666666666664,
           "G - Aerodrome Capacity",
           null,
           "None"
          ],
          [
           "84",
           -23,
           12.0,
           31.666666666666668,
           "G - Aerodrome Capacity",
           null,
           "None"
          ],
          [
           "24",
           -9,
           13.0,
           8.0,
           "G - Aerodrome Capacity",
           "WIP in the TWR, regulation ends earlier",
           "None"
          ],
          [
           "84",
           -15,
           3.0,
           37.666666666666664,
           "G - Aerodrome Capacity",
           null,
           "None"
          ],
          [
           "72",
           -9,
           7.0,
           17.666666666666668,
           "G - Aerodrome Capacity",
           null,
           "None"
          ],
          [
           "36",
           -20,
           15.0,
           19.333333333333332,
           "G - Aerodrome Capacity",
           null,
           "None"
          ],
          [
           "60",
           16,
           -3.0,
           28.0,
           "G - Aerodrome Capacity",
           null,
           "None"
          ],
          [
           "36",
           -24,
           -10.0,
           36.333333333333336,
           "G - Aerodrome Capacity",
           null,
           "None"
          ],
          [
           "60",
           11,
           -1.0,
           36.333333333333336,
           "G - Aerodrome Capacity",
           null,
           "None"
          ],
          [
           "84",
           -10,
           1.0,
           36.666666666666664,
           "G - Aerodrome Capacity",
           null,
           "None"
          ],
          [
           "84",
           -17,
           -5.0,
           35.0,
           "G - Aerodrome Capacity",
           null,
           "None"
          ],
          [
           "24",
           -19,
           11.0,
           6.333333333333333,
           "G - Aerodrome Capacity",
           "WIP in the TWR",
           "None"
          ],
          [
           "36",
           -29,
           -10.0,
           34.666666666666664,
           "G - Aerodrome Capacity",
           null,
           "None"
          ],
          [
           "60",
           13,
           -5.0,
           35.666666666666664,
           "G - Aerodrome Capacity",
           null,
           "None"
          ],
          [
           "36",
           -24,
           -4.0,
           35.0,
           "G - Aerodrome Capacity",
           null,
           "None"
          ],
          [
           "60",
           14,
           -11.0,
           35.666666666666664,
           "G - Aerodrome Capacity",
           null,
           "None"
          ],
          [
           "72",
           5,
           14.0,
           32.666666666666664,
           "G - Aerodrome Capacity",
           null,
           "None"
          ],
          [
           "84",
           -12,
           5.0,
           36.666666666666664,
           "G - Aerodrome Capacity",
           null,
           "None"
          ],
          [
           "84",
           -6,
           -9.0,
           24.666666666666668,
           "G - Aerodrome Capacity",
           null,
           "None"
          ],
          [
           "60",
           13,
           -7.0,
           36.333333333333336,
           "G - Aerodrome Capacity",
           null,
           "None"
          ],
          [
           "36",
           -35,
           -11.0,
           34.666666666666664,
           "G - Aerodrome Capacity",
           null,
           "None"
          ],
          [
           "60",
           7,
           -10.0,
           34.0,
           "G - Aerodrome Capacity",
           null,
           "None"
          ],
          [
           "72",
           10,
           7.0,
           32.0,
           "G - Aerodrome Capacity",
           "high demand",
           "None"
          ],
          [
           "84",
           -15,
           10.0,
           34.333333333333336,
           "G - Aerodrome Capacity",
           null,
           "None"
          ],
          [
           "24",
           -21,
           8.0,
           7.0,
           "G - Aerodrome Capacity",
           "WIP in the TWR",
           "None"
          ],
          [
           "36",
           -29,
           -4.0,
           32.333333333333336,
           "G - Aerodrome Capacity",
           null,
           "None"
          ],
          [
           "60",
           13,
           -7.0,
           35.333333333333336,
           "G - Aerodrome Capacity",
           null,
           "None"
          ],
          [
           "12",
           8,
           -1.0,
           0.3333333333333333,
           "G - Aerodrome Capacity",
           "RWY maintenance",
           "None"
          ],
          [
           "24",
           2,
           8.0,
           7.0,
           "G - Aerodrome Capacity",
           "RWY maintenance",
           "None"
          ],
          [
           "48",
           -14,
           -27.0,
           25.333333333333332,
           "G - Aerodrome Capacity",
           null,
           "None"
          ],
          [
           "60",
           7,
           -14.0,
           27.666666666666668,
           "G - Aerodrome Capacity",
           null,
           "None"
          ],
          [
           "72",
           -8,
           7.0,
           34.0,
           "G - Aerodrome Capacity",
           null,
           "None"
          ],
          [
           "84",
           -11,
           -8.0,
           36.333333333333336,
           "G - Aerodrome Capacity",
           null,
           "None"
          ],
          [
           "84",
           -12,
           10.0,
           37.0,
           "G - Aerodrome Capacity",
           null,
           "None"
          ],
          [
           "60",
           13,
           -18.0,
           35.666666666666664,
           "G - Aerodrome Capacity",
           null,
           "None"
          ],
          [
           "60",
           10,
           -23.0,
           34.666666666666664,
           "G - Aerodrome Capacity",
           null,
           "None"
          ],
          [
           "72",
           6,
           10.0,
           36.0,
           "G - Aerodrome Capacity",
           null,
           "None"
          ],
          [
           "84",
           -10,
           6.0,
           39.333333333333336,
           "G - Aerodrome Capacity",
           null,
           "None"
          ],
          [
           "60",
           8,
           -18.0,
           28.666666666666668,
           "G - Aerodrome Capacity",
           null,
           "None"
          ],
          [
           "72",
           -3,
           8.0,
           34.333333333333336,
           "G - Aerodrome Capacity",
           null,
           "None"
          ],
          [
           "84",
           -15,
           5.0,
           35.333333333333336,
           "G - Aerodrome Capacity",
           null,
           "None"
          ],
          [
           "36",
           -32,
           -10.0,
           37.666666666666664,
           "G - Aerodrome Capacity",
           null,
           "None"
          ],
          [
           "84",
           -14,
           9.0,
           33.0,
           "G - Aerodrome Capacity",
           null,
           "None"
          ],
          [
           "36",
           -35,
           -20.0,
           36.666666666666664,
           "G - Aerodrome Capacity",
           "TRAFFIC CONGESTION",
           "None"
          ],
          [
           "60",
           14,
           -14.0,
           35.0,
           "G - Aerodrome Capacity",
           null,
           "None"
          ],
          [
           "84",
           -11,
           9.0,
           38.666666666666664,
           "G - Aerodrome Capacity",
           null,
           "None"
          ],
          [
           "36",
           -32,
           -18.0,
           36.666666666666664,
           "G - Aerodrome Capacity",
           null,
           "None"
          ],
          [
           "60",
           8,
           -12.0,
           36.666666666666664,
           "G - Aerodrome Capacity",
           null,
           "None"
          ],
          [
           "84",
           -10,
           12.0,
           38.333333333333336,
           "G - Aerodrome Capacity",
           null,
           "None"
          ],
          [
           "24",
           -16,
           13.0,
           8.333333333333334,
           "G - Aerodrome Capacity",
           "WIP in TWR",
           "None"
          ],
          [
           "60",
           15,
           -6.0,
           36.666666666666664,
           "G - Aerodrome Capacity",
           null,
           "None"
          ],
          [
           "72",
           7,
           15.0,
           34.333333333333336,
           "G - Aerodrome Capacity",
           null,
           "None"
          ],
          [
           "84",
           -15,
           7.0,
           34.666666666666664,
           "G - Aerodrome Capacity",
           null,
           "None"
          ],
          [
           "36",
           -30,
           -12.0,
           31.333333333333332,
           "G - Aerodrome Capacity",
           null,
           "None"
          ],
          [
           "84",
           -4,
           -5.0,
           27.333333333333332,
           "G - Aerodrome Capacity",
           null,
           "None"
          ],
          [
           "48",
           20,
           -22.0,
           24.666666666666668,
           "G - Aerodrome Capacity",
           null,
           "None"
          ],
          [
           "36",
           -28,
           -6.0,
           31.333333333333332,
           "G - Aerodrome Capacity",
           null,
           "None"
          ],
          [
           "48",
           13,
           -28.0,
           35.0,
           "G - Aerodrome Capacity",
           null,
           "None"
          ],
          [
           "60",
           5,
           13.0,
           32.333333333333336,
           "G - Aerodrome Capacity",
           null,
           "None"
          ],
          [
           "72",
           3,
           5.0,
           30.0,
           "G - Aerodrome Capacity",
           null,
           "None"
          ],
          [
           "84",
           -23,
           3.0,
           31.0,
           "G - Aerodrome Capacity",
           null,
           "None"
          ],
          [
           "36",
           -28,
           -26.0,
           34.666666666666664,
           "G - Aerodrome Capacity",
           null,
           "None"
          ],
          [
           "84",
           -15,
           7.0,
           35.0,
           "G - Aerodrome Capacity",
           null,
           "None"
          ],
          [
           "36",
           -27,
           -2.0,
           34.333333333333336,
           "G - Aerodrome Capacity",
           null,
           "None"
          ],
          [
           "60",
           13,
           -4.0,
           35.666666666666664,
           "G - Aerodrome Capacity",
           null,
           "None"
          ],
          [
           "72",
           12,
           13.0,
           33.333333333333336,
           "G - Aerodrome Capacity",
           null,
           "None"
          ],
          [
           "84",
           -15,
           12.0,
           35.0,
           "G - Aerodrome Capacity",
           null,
           "None"
          ],
          [
           "36",
           -32,
           -20.0,
           35.666666666666664,
           "G - Aerodrome Capacity",
           null,
           "None"
          ],
          [
           "60",
           20,
           -6.0,
           36.666666666666664,
           "G - Aerodrome Capacity",
           null,
           "None"
          ],
          [
           "72",
           10,
           20.0,
           35.0,
           "G - Aerodrome Capacity",
           null,
           "None"
          ],
          [
           "84",
           -13,
           10.0,
           36.333333333333336,
           "G - Aerodrome Capacity",
           null,
           "None"
          ],
          [
           "60",
           4,
           -14.0,
           31.0,
           "G - Aerodrome Capacity",
           null,
           "None"
          ],
          [
           "84",
           -13,
           -9.0,
           28.333333333333332,
           "G - Aerodrome Capacity",
           null,
           "None"
          ],
          [
           "36",
           8,
           24.0,
           35.333333333333336,
           "G - Aerodrome Capacity",
           null,
           "None"
          ],
          [
           "24",
           27,
           44.0,
           22.0,
           "G - Aerodrome Capacity",
           null,
           "None"
          ],
          [
           "36",
           8,
           27.0,
           35.0,
           "G - Aerodrome Capacity",
           null,
           "None"
          ],
          [
           "60",
           -13,
           -31.0,
           31.666666666666668,
           "G - Aerodrome Capacity",
           null,
           "None"
          ],
          [
           "84",
           -2,
           -17.0,
           28.0,
           "G - Aerodrome Capacity",
           "Reg extended",
           "None"
          ],
          [
           "48",
           -32,
           1.0,
           27.0,
           "G - Aerodrome Capacity",
           null,
           "None"
          ],
          [
           "60",
           -11,
           -32.0,
           33.666666666666664,
           "G - Aerodrome Capacity",
           null,
           "None"
          ],
          [
           "84",
           -9,
           -13.0,
           27.333333333333332,
           "G - Aerodrome Capacity",
           null,
           "None"
          ],
          [
           "36",
           5,
           34.0,
           37.333333333333336,
           "G - Aerodrome Capacity",
           null,
           "None"
          ],
          [
           "72",
           -9,
           -6.0,
           36.666666666666664,
           "G - Aerodrome Capacity",
           null,
           "None"
          ],
          [
           "84",
           -8,
           -9.0,
           28.666666666666668,
           "G - Aerodrome Capacity",
           null,
           "None"
          ],
          [
           "24",
           22,
           39.0,
           20.333333333333332,
           "G - Aerodrome Capacity",
           "EXTENDED",
           "None"
          ],
          [
           "36",
           10,
           22.0,
           35.333333333333336,
           "G - Aerodrome Capacity",
           null,
           "None"
          ],
          [
           "48",
           -19,
           10.0,
           23.666666666666668,
           "G - Aerodrome Capacity",
           "EXTENDED",
           "None"
          ],
          [
           "60",
           -6,
           -19.0,
           31.333333333333332,
           "G - Aerodrome Capacity",
           null,
           "None"
          ],
          [
           "72",
           -14,
           -6.0,
           36.0,
           "G - Aerodrome Capacity",
           "EXTENDED",
           "None"
          ],
          [
           "84",
           -7,
           -14.0,
           22.333333333333332,
           "G - Aerodrome Capacity",
           "EXTENDED",
           "None"
          ],
          [
           "36",
           10,
           21.0,
           31.333333333333332,
           "G - Aerodrome Capacity",
           null,
           "None"
          ],
          [
           "60",
           -23,
           -20.0,
           25.666666666666668,
           "G - Aerodrome Capacity",
           null,
           "None"
          ],
          [
           "84",
           -7,
           -20.0,
           18.333333333333332,
           "G - Aerodrome Capacity",
           null,
           "None"
          ],
          [
           "36",
           6,
           13.0,
           25.0,
           "G - Aerodrome Capacity",
           "RATE REDUCED DUE TO RWY CONFIGURATION AND HOLDINGS",
           "None"
          ],
          [
           "48",
           -23,
           6.0,
           18.333333333333332,
           "G - Aerodrome Capacity",
           "RATE REDUCED DUE TO RWY CONFIGURATION AND HOLDINGS",
           "None"
          ],
          [
           "60",
           -20,
           -23.0,
           25.0,
           "G - Aerodrome Capacity",
           "RATE REDUCED DUE TO RWY CONFIGURATION AND HOLDINGS",
           "None"
          ],
          [
           "72",
           -23,
           -20.0,
           28.0,
           "G - Aerodrome Capacity",
           "RATE REDUCED DUE TO RWY CONFIGURATION AND HOLDINGS",
           "None"
          ],
          [
           "84",
           -4,
           -23.0,
           21.666666666666668,
           "G - Aerodrome Capacity",
           "RATE REDUCED DUE TO RWY CONFIGURATION AND HOLDINGS",
           "None"
          ],
          [
           "48",
           -32,
           5.0,
           23.0,
           "G - Aerodrome Capacity",
           null,
           "None"
          ],
          [
           "60",
           -9,
           -32.0,
           30.0,
           "G - Aerodrome Capacity",
           null,
           "None"
          ],
          [
           "84",
           -8,
           -15.0,
           26.333333333333332,
           "G - Aerodrome Capacity",
           "WIP",
           "None"
          ],
          [
           "48",
           4,
           1.0,
           0.3333333333333333,
           "G - Aerodrome Capacity",
           null,
           "None"
          ],
          [
           "36",
           7,
           22.0,
           33.666666666666664,
           "G - Aerodrome Capacity",
           null,
           "None"
          ],
          [
           "60",
           -10,
           -38.0,
           30.666666666666668,
           "G - Aerodrome Capacity",
           null,
           "None"
          ],
          [
           "84",
           -5,
           -19.0,
           30.333333333333332,
           "G - Aerodrome Capacity",
           null,
           "None"
          ],
          [
           "84",
           -6,
           -19.0,
           28.333333333333332,
           "G - Aerodrome Capacity",
           null,
           "None"
          ],
          [
           "24",
           27,
           42.0,
           22.333333333333332,
           "G - Aerodrome Capacity",
           null,
           "None"
          ],
          [
           "84",
           -6,
           -15.0,
           28.666666666666668,
           "G - Aerodrome Capacity",
           null,
           "None"
          ],
          [
           "36",
           11,
           28.0,
           35.666666666666664,
           "G - Aerodrome Capacity",
           null,
           "None"
          ],
          [
           "60",
           -25,
           -37.0,
           27.666666666666668,
           "G - Aerodrome Capacity",
           null,
           "None"
          ],
          [
           "84",
           -8,
           -20.0,
           20.333333333333332,
           "G - Aerodrome Capacity",
           null,
           "None"
          ],
          [
           "84",
           -5,
           -19.0,
           32.0,
           "G - Aerodrome Capacity",
           null,
           "None"
          ],
          [
           "60",
           -9,
           -29.0,
           32.333333333333336,
           "G - Aerodrome Capacity",
           null,
           "None"
          ],
          [
           "72",
           -18,
           -9.0,
           40.0,
           "G - Aerodrome Capacity",
           null,
           "None"
          ],
          [
           "84",
           -8,
           -18.0,
           31.0,
           "G - Aerodrome Capacity",
           null,
           "None"
          ],
          [
           "60",
           -4,
           -19.0,
           25.0,
           "G - Aerodrome Capacity",
           null,
           "None"
          ],
          [
           "24",
           24,
           48.0,
           24.0,
           "G - Aerodrome Capacity",
           null,
           "None"
          ],
          [
           "36",
           1,
           24.0,
           36.333333333333336,
           "G - Aerodrome Capacity",
           null,
           "None"
          ],
          [
           "60",
           -8,
           -25.0,
           34.0,
           "G - Aerodrome Capacity",
           null,
           "None"
          ],
          [
           "36",
           -5,
           19.0,
           38.666666666666664,
           "G - Aerodrome Capacity",
           null,
           "None"
          ],
          [
           "60",
           -18,
           -36.0,
           34.666666666666664,
           "G - Aerodrome Capacity",
           null,
           "None"
          ],
          [
           "72",
           -15,
           -18.0,
           38.0,
           "G - Aerodrome Capacity",
           null,
           "None"
          ],
          [
           "84",
           -4,
           -15.0,
           32.333333333333336,
           "G - Aerodrome Capacity",
           null,
           "None"
          ],
          [
           "84",
           -11,
           -6.0,
           32.0,
           "G - Aerodrome Capacity",
           null,
           "None"
          ],
          [
           "36",
           9,
           27.0,
           38.333333333333336,
           "G - Aerodrome Capacity",
           null,
           "None"
          ],
          [
           "72",
           -22,
           -25.0,
           31.0,
           "G - Aerodrome Capacity",
           "wip on rwy",
           "None"
          ],
          [
           "36",
           12,
           25.0,
           30.0,
           "G - Aerodrome Capacity",
           null,
           "None"
          ],
          [
           "60",
           -18,
           -16.0,
           33.333333333333336,
           "G - Aerodrome Capacity",
           null,
           "None"
          ],
          [
           "72",
           -28,
           -18.0,
           36.333333333333336,
           "G - Aerodrome Capacity",
           null,
           "None"
          ],
          [
           "84",
           -7,
           -28.0,
           32.333333333333336,
           "G - Aerodrome Capacity",
           null,
           "None"
          ],
          [
           "36",
           2,
           23.0,
           39.333333333333336,
           "G - Aerodrome Capacity",
           null,
           "None"
          ],
          [
           "60",
           -10,
           -37.0,
           32.666666666666664,
           "G - Aerodrome Capacity",
           null,
           "None"
          ],
          [
           "84",
           -4,
           -16.0,
           31.333333333333332,
           "G - Aerodrome Capacity",
           null,
           "None"
          ],
          [
           "60",
           -17,
           -35.0,
           35.0,
           "G - Aerodrome Capacity",
           null,
           "None"
          ],
          [
           "84",
           -3,
           -14.0,
           30.666666666666668,
           "G - Aerodrome Capacity",
           null,
           "None"
          ],
          [
           "24",
           23,
           51.0,
           25.0,
           "G - Aerodrome Capacity",
           null,
           "None"
          ],
          [
           "36",
           8,
           23.0,
           37.0,
           "G - Aerodrome Capacity",
           null,
           "None"
          ],
          [
           "60",
           -17,
           -31.0,
           36.0,
           "G - Aerodrome Capacity",
           null,
           "None"
          ],
          [
           "84",
           -3,
           -22.0,
           33.666666666666664,
           "G - Aerodrome Capacity",
           null,
           "None"
          ],
          [
           "24",
           23,
           52.0,
           26.666666666666668,
           "G - Aerodrome Capacity",
           null,
           "None"
          ],
          [
           "36",
           9,
           23.0,
           37.666666666666664,
           "G - Aerodrome Capacity",
           null,
           "None"
          ],
          [
           "60",
           -15,
           -29.0,
           32.666666666666664,
           "G - Aerodrome Capacity",
           null,
           "None"
          ],
          [
           "84",
           -3,
           -15.0,
           33.666666666666664,
           "G - Aerodrome Capacity",
           null,
           "None"
          ],
          [
           "36",
           8,
           22.0,
           36.0,
           "G - Aerodrome Capacity",
           null,
           "None"
          ],
          [
           "72",
           -26,
           -22.0,
           31.666666666666668,
           "G - Aerodrome Capacity",
           null,
           "None"
          ],
          [
           "48",
           -31,
           3.0,
           28.333333333333332,
           "G - Aerodrome Capacity",
           null,
           "None"
          ],
          [
           "60",
           -19,
           -31.0,
           34.0,
           "G - Aerodrome Capacity",
           null,
           "None"
          ],
          [
           "36",
           4,
           22.0,
           37.0,
           "G - Aerodrome Capacity",
           null,
           "None"
          ],
          [
           "60",
           -18,
           -38.0,
           33.0,
           "G - Aerodrome Capacity",
           null,
           "None"
          ],
          [
           "72",
           -19,
           -18.0,
           42.333333333333336,
           "G - Aerodrome Capacity",
           null,
           "None"
          ],
          [
           "84",
           -4,
           -19.0,
           30.333333333333332,
           "G - Aerodrome Capacity",
           null,
           "None"
          ],
          [
           "60",
           -22,
           -31.0,
           33.333333333333336,
           "G - Aerodrome Capacity",
           null,
           "None"
          ],
          [
           "48",
           -23,
           3.0,
           29.0,
           "G - Aerodrome Capacity",
           "reg extended",
           "None"
          ],
          [
           "60",
           -13,
           -23.0,
           33.333333333333336,
           "G - Aerodrome Capacity",
           null,
           "None"
          ],
          [
           "60",
           -24,
           -32.0,
           32.0,
           "G - Aerodrome Capacity",
           "RATE INCREASED",
           "None"
          ],
          [
           "84",
           -6,
           -18.0,
           23.333333333333332,
           "G - Aerodrome Capacity",
           null,
           "None"
          ],
          [
           "72",
           -13,
           -17.0,
           33.666666666666664,
           "G - Aerodrome Capacity",
           null,
           "None"
          ],
          [
           "84",
           -7,
           -13.0,
           24.666666666666668,
           "G - Aerodrome Capacity",
           null,
           "None"
          ],
          [
           "36",
           -4,
           10.0,
           30.0,
           "G - Aerodrome Capacity",
           null,
           "None"
          ],
          [
           "84",
           -4,
           -12.0,
           26.333333333333332,
           "G - Aerodrome Capacity",
           null,
           "None"
          ],
          [
           "60",
           -17,
           -27.0,
           29.333333333333332,
           "G - Aerodrome Capacity",
           null,
           "None"
          ],
          [
           "24",
           21,
           42.0,
           25.666666666666668,
           "G - Aerodrome Capacity",
           null,
           "None"
          ],
          [
           "36",
           5,
           21.0,
           36.333333333333336,
           "G - Aerodrome Capacity",
           null,
           "None"
          ],
          [
           "48",
           -31,
           5.0,
           33.333333333333336,
           "G - Aerodrome Capacity",
           null,
           "None"
          ],
          [
           "60",
           -14,
           -31.0,
           33.666666666666664,
           "G - Aerodrome Capacity",
           null,
           "None"
          ],
          [
           "72",
           -18,
           -14.0,
           42.333333333333336,
           "G - Aerodrome Capacity",
           null,
           "None"
          ],
          [
           "84",
           -6,
           -18.0,
           32.333333333333336,
           "G - Aerodrome Capacity",
           null,
           "None"
          ],
          [
           "36",
           0,
           25.0,
           30.0,
           "G - Aerodrome Capacity",
           null,
           "None"
          ],
          [
           "48",
           -33,
           0.0,
           27.333333333333332,
           "G - Aerodrome Capacity",
           null,
           "None"
          ],
          [
           "60",
           -12,
           -33.0,
           33.333333333333336,
           "G - Aerodrome Capacity",
           "Reg shortened",
           "None"
          ],
          [
           "84",
           -7,
           -28.0,
           35.333333333333336,
           "G - Aerodrome Capacity",
           null,
           "None"
          ],
          [
           "84",
           -6,
           -17.0,
           34.0,
           "G - Aerodrome Capacity",
           null,
           "None"
          ],
          [
           "36",
           0,
           27.0,
           40.0,
           "G - Aerodrome Capacity",
           "Reg extended",
           "None"
          ],
          [
           "48",
           -25,
           0.0,
           31.666666666666668,
           "G - Aerodrome Capacity",
           "Reg extended",
           "None"
          ],
          [
           "60",
           -4,
           -25.0,
           34.0,
           "G - Aerodrome Capacity",
           null,
           "None"
          ],
          [
           "84",
           -7,
           -17.0,
           33.666666666666664,
           "G - Aerodrome Capacity",
           null,
           "None"
          ],
          [
           "36",
           4,
           12.0,
           34.0,
           "G - Aerodrome Capacity",
           null,
           "None"
          ],
          [
           "48",
           -25,
           4.0,
           33.666666666666664,
           "G - Aerodrome Capacity",
           null,
           "None"
          ],
          [
           "60",
           -17,
           -25.0,
           30.666666666666668,
           "G - Aerodrome Capacity",
           null,
           "None"
          ],
          [
           "72",
           -17,
           -17.0,
           35.0,
           "G - Aerodrome Capacity",
           null,
           "None"
          ],
          [
           "84",
           -6,
           -17.0,
           28.0,
           "G - Aerodrome Capacity",
           null,
           "None"
          ],
          [
           "60",
           -17,
           -23.0,
           30.666666666666668,
           "G - Aerodrome Capacity",
           null,
           "None"
          ],
          [
           "72",
           -17,
           -17.0,
           38.666666666666664,
           "G - Aerodrome Capacity",
           null,
           "None"
          ],
          [
           "84",
           -9,
           -19.0,
           27.666666666666668,
           "G - Aerodrome Capacity",
           null,
           "None"
          ],
          [
           "24",
           33,
           44.0,
           23.666666666666668,
           "G - Aerodrome Capacity",
           "RWY 08/26 CLOSED DUE TO WIP. NOTAM A0893/18.",
           "None"
          ],
          [
           "36",
           -8,
           33.0,
           38.333333333333336,
           "G - Aerodrome Capacity",
           "RWY 08/26 CLOSED DUE TO WIP. NOTAM A0893/18.",
           "None"
          ],
          [
           "48",
           -34,
           -8.0,
           28.333333333333332,
           "G - Aerodrome Capacity",
           "RWY 08/26 CLOSED DUE TO WIP. NOTAM A0893/18.",
           "None"
          ],
          [
           "60",
           -7,
           -34.0,
           35.333333333333336,
           "G - Aerodrome Capacity",
           "RWY 08/26 CLOSED DUE TO WIP. NOTAM A0893/18.",
           "None"
          ],
          [
           "72",
           -14,
           -7.0,
           37.0,
           "G - Aerodrome Capacity",
           null,
           "None"
          ],
          [
           "24",
           25,
           45.0,
           24.333333333333332,
           "G - Aerodrome Capacity",
           null,
           "None"
          ],
          [
           "60",
           -6,
           -29.0,
           33.333333333333336,
           "G - Aerodrome Capacity",
           null,
           "None"
          ],
          [
           "24",
           22,
           46.0,
           25.333333333333332,
           "G - Aerodrome Capacity",
           null,
           "None"
          ],
          [
           "84",
           -15,
           -11.0,
           29.333333333333332,
           "G - Aerodrome Capacity",
           null,
           "None"
          ],
          [
           "36",
           -2,
           32.0,
           39.333333333333336,
           "G - Aerodrome Capacity",
           null,
           "None"
          ],
          [
           "60",
           -19,
           -40.0,
           34.0,
           "G - Aerodrome Capacity",
           null,
           "None"
          ],
          [
           "48",
           -24,
           5.0,
           32.666666666666664,
           "G - Aerodrome Capacity",
           null,
           "None"
          ],
          [
           "60",
           -10,
           -24.0,
           33.666666666666664,
           "G - Aerodrome Capacity",
           null,
           "None"
          ],
          [
           "60",
           -23,
           -32.0,
           30.0,
           "G - Aerodrome Capacity",
           null,
           "None"
          ],
          [
           "36",
           7,
           15.0,
           33.0,
           "G - Aerodrome Capacity",
           null,
           "None"
          ],
          [
           "48",
           -38,
           7.0,
           30.0,
           "G - Aerodrome Capacity",
           null,
           "None"
          ],
          [
           "60",
           -14,
           -38.0,
           32.0,
           "G - Aerodrome Capacity",
           null,
           "None"
          ],
          [
           "24",
           22,
           38.0,
           22.333333333333332,
           "G - Aerodrome Capacity",
           null,
           "None"
          ],
          [
           "60",
           -15,
           -24.0,
           35.333333333333336,
           "G - Aerodrome Capacity",
           "SINGLE RUNWAY OPERATIONS",
           "None"
          ],
          [
           "84",
           -9,
           -12.0,
           34.666666666666664,
           "G - Aerodrome Capacity",
           null,
           "None"
          ],
          [
           "12",
           43,
           4.0,
           1.3333333333333333,
           "G - Aerodrome Capacity",
           "uefa final 2018",
           "None"
          ],
          [
           "24",
           30,
           43.0,
           20.666666666666668,
           "G - Aerodrome Capacity",
           null,
           "None"
          ],
          [
           "36",
           9,
           30.0,
           36.0,
           "G - Aerodrome Capacity",
           null,
           "None"
          ],
          [
           "48",
           -28,
           9.0,
           28.333333333333332,
           "G - Aerodrome Capacity",
           null,
           "None"
          ],
          [
           "60",
           -17,
           -28.0,
           29.333333333333332,
           "G - Aerodrome Capacity",
           null,
           "None"
          ],
          [
           "72",
           -19,
           -17.0,
           33.333333333333336,
           "G - Aerodrome Capacity",
           "uefa final 2018",
           "None"
          ],
          [
           "60",
           -19,
           -35.0,
           32.0,
           "G - Aerodrome Capacity",
           null,
           "None"
          ],
          [
           "84",
           -10,
           -14.0,
           29.0,
           "G - Aerodrome Capacity",
           null,
           "None"
          ],
          [
           "24",
           28,
           44.0,
           23.333333333333332,
           "G - Aerodrome Capacity",
           null,
           "None"
          ],
          [
           "60",
           -20,
           -42.0,
           33.0,
           "G - Aerodrome Capacity",
           null,
           "None"
          ],
          [
           "24",
           23,
           24.0,
           18.333333333333332,
           "G - Aerodrome Capacity",
           ",",
           "None"
          ],
          [
           "84",
           -15,
           -11.0,
           27.333333333333332,
           "G - Aerodrome Capacity",
           null,
           "None"
          ],
          [
           "48",
           -27,
           7.0,
           26.666666666666668,
           "G - Aerodrome Capacity",
           null,
           "None"
          ],
          [
           "36",
           7,
           21.0,
           31.666666666666668,
           "G - Aerodrome Capacity",
           null,
           "None"
          ],
          [
           "36",
           -2,
           24.0,
           38.666666666666664,
           "G - Aerodrome Capacity",
           null,
           "None"
          ],
          [
           "60",
           -18,
           -29.0,
           33.0,
           "G - Aerodrome Capacity",
           null,
           "None"
          ],
          [
           "24",
           28,
           49.0,
           24.666666666666668,
           "G - Aerodrome Capacity",
           null,
           "None"
          ],
          [
           "72",
           -19,
           -15.0,
           38.666666666666664,
           "G - Aerodrome Capacity",
           null,
           "None"
          ],
          [
           "24",
           29,
           48.0,
           26.666666666666668,
           "G - Aerodrome Capacity",
           null,
           "None"
          ],
          [
           "60",
           -21,
           -28.0,
           32.333333333333336,
           "G - Aerodrome Capacity",
           null,
           "None"
          ],
          [
           "36",
           -6,
           33.0,
           41.666666666666664,
           "G - Aerodrome Capacity",
           null,
           "None"
          ],
          [
           "24",
           29,
           32.0,
           18.0,
           "G - Aerodrome Capacity",
           null,
           "None"
          ],
          [
           "12",
           45,
           3.0,
           1.0,
           "G - Aerodrome Capacity",
           "RWY REPARATION",
           "None"
          ],
          [
           "24",
           30,
           45.0,
           25.0,
           "G - Aerodrome Capacity",
           null,
           "None"
          ],
          [
           "60",
           -13,
           -35.0,
           32.666666666666664,
           "G - Aerodrome Capacity",
           null,
           "None"
          ],
          [
           "72",
           -6,
           -13.0,
           39.333333333333336,
           "G - Aerodrome Capacity",
           null,
           "None"
          ],
          [
           "84",
           -11,
           -6.0,
           25.666666666666668,
           "G - Aerodrome Capacity",
           null,
           "None"
          ],
          [
           "48",
           -25,
           0.0,
           32.0,
           "G - Aerodrome Capacity",
           null,
           "None"
          ],
          [
           "60",
           -19,
           -25.0,
           35.333333333333336,
           "G - Aerodrome Capacity",
           null,
           "None"
          ],
          [
           "60",
           -15,
           -20.0,
           35.333333333333336,
           "G - Aerodrome Capacity",
           null,
           "None"
          ],
          [
           "84",
           -9,
           -20.0,
           36.0,
           "G - Aerodrome Capacity",
           null,
           "None"
          ],
          [
           "84",
           -10,
           -13.0,
           35.666666666666664,
           "G - Aerodrome Capacity",
           "REG EXTENDED",
           "None"
          ],
          [
           "84",
           -9,
           -25.0,
           35.333333333333336,
           "G - Aerodrome Capacity",
           null,
           "None"
          ],
          [
           "84",
           -11,
           -16.0,
           34.666666666666664,
           "G - Aerodrome Capacity",
           null,
           "None"
          ],
          [
           "84",
           -11,
           -22.0,
           37.666666666666664,
           "G - Aerodrome Capacity",
           null,
           "None"
          ],
          [
           "84",
           -9,
           -21.0,
           37.0,
           "G - Aerodrome Capacity",
           null,
           "None"
          ],
          [
           "36",
           4,
           21.0,
           38.0,
           "G - Aerodrome Capacity",
           null,
           "None"
          ],
          [
           "60",
           -21,
           -36.0,
           29.333333333333332,
           "G - Aerodrome Capacity",
           null,
           "None"
          ],
          [
           "72",
           -24,
           -21.0,
           33.0,
           "G - Aerodrome Capacity",
           null,
           "None"
          ],
          [
           "36",
           13,
           31.0,
           30.666666666666668,
           "G - Aerodrome Capacity",
           null,
           "None"
          ],
          [
           "60",
           -20,
           -32.0,
           32.0,
           "G - Aerodrome Capacity",
           null,
           "None"
          ],
          [
           "84",
           -12,
           -29.0,
           34.333333333333336,
           "G - Aerodrome Capacity",
           null,
           "None"
          ],
          [
           "84",
           -8,
           -16.0,
           34.333333333333336,
           "G - Aerodrome Capacity",
           null,
           "None"
          ],
          [
           "60",
           -13,
           -39.0,
           34.666666666666664,
           "G - Aerodrome Capacity",
           null,
           "None"
          ],
          [
           "72",
           -18,
           -13.0,
           40.333333333333336,
           "G - Aerodrome Capacity",
           "reg extended",
           "None"
          ],
          [
           "84",
           -8,
           -18.0,
           35.666666666666664,
           "G - Aerodrome Capacity",
           null,
           "None"
          ],
          [
           "36",
           1,
           29.0,
           38.666666666666664,
           "G - Aerodrome Capacity",
           "rain reg amended From 07:20 reason is aerodrome capacity.",
           "None"
          ],
          [
           "48",
           -37,
           1.0,
           32.333333333333336,
           "G - Aerodrome Capacity",
           "rain reg amended From 07:20 reason is aerodrome capacity.",
           "None"
          ],
          [
           "60",
           -1,
           -37.0,
           36.0,
           "G - Aerodrome Capacity",
           "REG EXTENDED",
           "None"
          ],
          [
           "72",
           -9,
           -1.0,
           38.0,
           "G - Aerodrome Capacity",
           null,
           "None"
          ],
          [
           "36",
           -3,
           20.0,
           39.0,
           "G - Aerodrome Capacity",
           null,
           "None"
          ],
          [
           "60",
           -13,
           -31.0,
           34.0,
           "G - Aerodrome Capacity",
           "cb",
           "None"
          ],
          [
           "24",
           29,
           46.0,
           26.333333333333332,
           "G - Aerodrome Capacity",
           "REG EXTENDED",
           "None"
          ],
          [
           "36",
           -4,
           29.0,
           40.666666666666664,
           "G - Aerodrome Capacity",
           null,
           "None"
          ],
          [
           "72",
           -7,
           -7.0,
           38.0,
           "G - Aerodrome Capacity",
           null,
           "None"
          ],
          [
           "60",
           -19,
           -30.0,
           30.0,
           "G - Aerodrome Capacity",
           null,
           "None"
          ]
         ],
         "hovertemplate": "reg_type=%{customdata[4]}<br>date_idx=%{x}<br>recovery_rate=%{y}<br>tw_idx=%{customdata[0]}<br>capacity_change=%{customdata[1]}<br>prev_capacity_change=%{customdata[2]}<br>prev_avg_capacity=%{customdata[3]}<br>reg_cause=%{customdata[5]}<br>reg_bool_type=%{customdata[6]}<extra></extra>",
         "legendgroup": "G - Aerodrome Capacity",
         "marker": {
          "color": "#EF553B",
          "symbol": "circle"
         },
         "mode": "markers",
         "name": "G - Aerodrome Capacity",
         "showlegend": true,
         "x": [
          "2018-01-01",
          "2018-01-01",
          "2018-01-02",
          "2018-01-02",
          "2018-01-02",
          "2018-01-03",
          "2018-01-03",
          "2018-01-04",
          "2018-01-05",
          "2018-01-05",
          "2018-01-05",
          "2018-01-05",
          "2018-01-05",
          "2018-01-06",
          "2018-01-06",
          "2018-01-07",
          "2018-01-07",
          "2018-01-07",
          "2018-01-08",
          "2018-01-09",
          "2018-01-09",
          "2018-01-09",
          "2018-01-10",
          "2018-01-10",
          "2018-01-10",
          "2018-01-11",
          "2018-01-11",
          "2018-01-11",
          "2018-01-11",
          "2018-01-11",
          "2018-01-12",
          "2018-01-12",
          "2018-01-12",
          "2018-01-13",
          "2018-01-14",
          "2018-01-14",
          "2018-01-14",
          "2018-01-15",
          "2018-01-16",
          "2018-01-16",
          "2018-01-16",
          "2018-01-16",
          "2018-01-17",
          "2018-01-17",
          "2018-01-17",
          "2018-01-17",
          "2018-01-18",
          "2018-01-18",
          "2018-01-18",
          "2018-01-19",
          "2018-01-19",
          "2018-01-19",
          "2018-01-20",
          "2018-01-20",
          "2018-01-20",
          "2018-01-20",
          "2018-01-20",
          "2018-01-21",
          "2018-01-21",
          "2018-01-21",
          "2018-01-22",
          "2018-01-22",
          "2018-01-22",
          "2018-01-22",
          "2018-01-23",
          "2018-01-23",
          "2018-01-23",
          "2018-01-23",
          "2018-01-24",
          "2018-01-25",
          "2018-01-25",
          "2018-01-25",
          "2018-01-26",
          "2018-01-26",
          "2018-01-26",
          "2018-01-26",
          "2018-01-27",
          "2018-01-27",
          "2018-01-27",
          "2018-01-28",
          "2018-01-28",
          "2018-01-29",
          "2018-01-29",
          "2018-01-29",
          "2018-01-30",
          "2018-01-30",
          "2018-01-30",
          "2018-01-30",
          "2018-01-30",
          "2018-01-31",
          "2018-01-31",
          "2018-01-31",
          "2018-02-01",
          "2018-02-01",
          "2018-02-01",
          "2018-02-02",
          "2018-02-02",
          "2018-02-03",
          "2018-02-03",
          "2018-02-04",
          "2018-02-04",
          "2018-02-04",
          "2018-02-04",
          "2018-02-06",
          "2018-02-07",
          "2018-02-08",
          "2018-02-09",
          "2018-02-10",
          "2018-02-10",
          "2018-02-10",
          "2018-02-10",
          "2018-02-10",
          "2018-02-11",
          "2018-02-11",
          "2018-02-12",
          "2018-02-12",
          "2018-02-12",
          "2018-02-13",
          "2018-02-13",
          "2018-02-13",
          "2018-02-13",
          "2018-02-14",
          "2018-02-14",
          "2018-02-15",
          "2018-02-15",
          "2018-02-15",
          "2018-02-15",
          "2018-02-16",
          "2018-02-16",
          "2018-02-17",
          "2018-02-18",
          "2018-02-18",
          "2018-02-19",
          "2018-02-19",
          "2018-02-19",
          "2018-02-20",
          "2018-02-21",
          "2018-02-22",
          "2018-02-22",
          "2018-02-23",
          "2018-02-23",
          "2018-02-23",
          "2018-02-23",
          "2018-02-24",
          "2018-02-26",
          "2018-02-27",
          "2018-02-27",
          "2018-02-27",
          "2018-02-27",
          "2018-02-28",
          "2018-03-02",
          "2018-03-02",
          "2018-03-04",
          "2018-03-04",
          "2018-03-04",
          "2018-03-04",
          "2018-03-04",
          "2018-03-04",
          "2018-03-05",
          "2018-03-06",
          "2018-03-07",
          "2018-03-07",
          "2018-03-07",
          "2018-03-11",
          "2018-03-11",
          "2018-03-12",
          "2018-03-13",
          "2018-03-13",
          "2018-03-14",
          "2018-03-14",
          "2018-03-14",
          "2018-03-15",
          "2018-03-15",
          "2018-03-15",
          "2018-03-16",
          "2018-03-16",
          "2018-03-16",
          "2018-03-16",
          "2018-03-17",
          "2018-03-17",
          "2018-03-18",
          "2018-03-19",
          "2018-03-19",
          "2018-03-19",
          "2018-03-19",
          "2018-03-19",
          "2018-03-20",
          "2018-03-20",
          "2018-03-22",
          "2018-03-22",
          "2018-03-22",
          "2018-03-22",
          "2018-03-23",
          "2018-03-23",
          "2018-03-23",
          "2018-03-23",
          "2018-03-24",
          "2018-03-24",
          "2018-03-26",
          "2018-03-27",
          "2018-03-27",
          "2018-03-27",
          "2018-03-27",
          "2018-03-28",
          "2018-03-28",
          "2018-03-28",
          "2018-03-29",
          "2018-03-29",
          "2018-03-29",
          "2018-03-30",
          "2018-03-30",
          "2018-03-30",
          "2018-03-30",
          "2018-03-30",
          "2018-03-30",
          "2018-03-31",
          "2018-03-31",
          "2018-03-31",
          "2018-04-01",
          "2018-04-01",
          "2018-04-01",
          "2018-04-01",
          "2018-04-01",
          "2018-04-02",
          "2018-04-02",
          "2018-04-02",
          "2018-04-03",
          "2018-04-04",
          "2018-04-04",
          "2018-04-04",
          "2018-04-05",
          "2018-04-06",
          "2018-04-06",
          "2018-04-07",
          "2018-04-07",
          "2018-04-07",
          "2018-04-08",
          "2018-04-09",
          "2018-04-09",
          "2018-04-09",
          "2018-04-10",
          "2018-04-11",
          "2018-04-11",
          "2018-04-11",
          "2018-04-12",
          "2018-04-12",
          "2018-04-12",
          "2018-04-12",
          "2018-04-13",
          "2018-04-14",
          "2018-04-14",
          "2018-04-15",
          "2018-04-15",
          "2018-04-15",
          "2018-04-15",
          "2018-04-16",
          "2018-04-16",
          "2018-04-16",
          "2018-04-17",
          "2018-04-17",
          "2018-04-18",
          "2018-04-18",
          "2018-04-19",
          "2018-04-19",
          "2018-04-20",
          "2018-04-20",
          "2018-04-20",
          "2018-04-20",
          "2018-04-21",
          "2018-04-21",
          "2018-04-23",
          "2018-04-23",
          "2018-04-24",
          "2018-04-24",
          "2018-04-24",
          "2018-04-24",
          "2018-04-26",
          "2018-04-27",
          "2018-04-27",
          "2018-04-28",
          "2018-04-28",
          "2018-04-29",
          "2018-04-29",
          "2018-04-30",
          "2018-04-30",
          "2018-05-01",
          "2018-05-02",
          "2018-05-02",
          "2018-05-02",
          "2018-05-02",
          "2018-05-02",
          "2018-05-03",
          "2018-05-06",
          "2018-05-06",
          "2018-05-06",
          "2018-05-06",
          "2018-05-07",
          "2018-05-09",
          "2018-05-09",
          "2018-05-09",
          "2018-05-09",
          "2018-05-10",
          "2018-05-10",
          "2018-05-10",
          "2018-05-10",
          "2018-05-10",
          "2018-05-11",
          "2018-05-11",
          "2018-05-13",
          "2018-05-14",
          "2018-05-14",
          "2018-05-14",
          "2018-05-14",
          "2018-05-14",
          "2018-05-15",
          "2018-05-15",
          "2018-05-16",
          "2018-05-16",
          "2018-05-17",
          "2018-05-17",
          "2018-05-18",
          "2018-05-18",
          "2018-05-19",
          "2018-05-21",
          "2018-05-21",
          "2018-05-21",
          "2018-05-25",
          "2018-05-25",
          "2018-05-25",
          "2018-05-26",
          "2018-05-26",
          "2018-05-26",
          "2018-05-26",
          "2018-05-26",
          "2018-05-26",
          "2018-05-27",
          "2018-05-27",
          "2018-05-29",
          "2018-05-29",
          "2018-06-01",
          "2018-06-01",
          "2018-06-02",
          "2018-06-03",
          "2018-06-04",
          "2018-06-04",
          "2018-06-05",
          "2018-06-05",
          "2018-06-06",
          "2018-06-07",
          "2018-06-08",
          "2018-06-10",
          "2018-06-11",
          "2018-06-11",
          "2018-06-11",
          "2018-06-11",
          "2018-06-11",
          "2018-06-14",
          "2018-06-14",
          "2018-06-15",
          "2018-06-15",
          "2018-06-18",
          "2018-06-19",
          "2018-06-20",
          "2018-06-21",
          "2018-06-22",
          "2018-06-23",
          "2018-06-23",
          "2018-06-23",
          "2018-06-24",
          "2018-06-24",
          "2018-06-24",
          "2018-06-25",
          "2018-06-26",
          "2018-06-26",
          "2018-06-26",
          "2018-06-27",
          "2018-06-27",
          "2018-06-27",
          "2018-06-27",
          "2018-06-28",
          "2018-06-28",
          "2018-06-29",
          "2018-06-29",
          "2018-06-29",
          "2018-06-30"
         ],
         "xaxis": "x",
         "y": [
          1.0845954723006224,
          2.59291192270578,
          1.5667721233274132,
          2.277487348554005,
          1.255019799201335,
          2.7358854280264757,
          1.26172371812984,
          1.8970951745863156,
          0.8065822915811066,
          3.4482478171544497,
          1.5225185387912634,
          1.944803447026518,
          1.8044127079400551,
          2.675298745095204,
          1.2382032504984202,
          1.3801029757599887,
          3.2629957339797984,
          1.3807720604899558,
          0.8339935765017868,
          2.1284466311530252,
          2.3951139643181407,
          2.013928546691709,
          5.161805360108534,
          1.3477944100373576,
          1.2271757538903172,
          2.831113955467011,
          1.6657269659144507,
          2.131210548111644,
          3.410188138310407,
          1.8337343322994444,
          2.438397376675571,
          1.928636333500159,
          1.3448089730959878,
          3.3318564813006524,
          3.3353776216163693,
          1.404398418863382,
          1.337773365349237,
          3.5505595656115894,
          2.905445863209052,
          3.1710270965754748,
          1.9256136821028784,
          1.3672382977137776,
          1.308896671010846,
          1.9959396013762432,
          2.0654293934232735,
          2.4973000495157893,
          2.1246597155738245,
          1.817352686024963,
          1.6223716080141537,
          2.060768288484381,
          1.6834237142111275,
          1.2201098227459375,
          0.7337507084052057,
          3.4660165753686543,
          2.447817928040351,
          0.01631335847796069,
          1.0482290775063676,
          2.561600888908734,
          1.7560385546563504,
          1.1825099546191602,
          0.05959293419949362,
          0.36800008813654,
          0.9637952920680579,
          1.74071447004543,
          3.5209863433019124,
          2.7159867524584493,
          2.374259794974439,
          1.5024499799113378,
          1.8556142171679422,
          3.2032523481443382,
          2.4870760101481557,
          2.538749637446584,
          4.417801674460996,
          2.7823594032475514,
          1.6147445126253979,
          1.294049176369496,
          2.563957981217864,
          2.831019256111173,
          1.1715598945106351,
          2.7309390255213275,
          2.6634457440018635,
          3.2229146857800623,
          2.303119927484406,
          2.8449292943988045,
          5.1979370170926575,
          3.2605561204967,
          3.399015727625455,
          1.8423803073697287,
          1.6414429062200984,
          5.581868916634292,
          3.079926785925047,
          1.5786119509473857,
          2.2985237279006023,
          1.864351150918899,
          1.2233852430945418,
          2.2635768325053505,
          2.7657823447176306,
          2.7119237322959817,
          1.0905686138920319,
          5.005061944479396,
          1.9921973116371803,
          2.0178910292865564,
          1.0671856569676699,
          3.4198746439147327,
          -0.16334370086878577,
          1.2693038517303876,
          1.6819497429390307,
          3.122265960616778,
          1.7811161565238105,
          3.207421899500166,
          0.9844440323286664,
          1.1902640272077964,
          2.6916210421553477,
          1.3073828630411986,
          2.2728096635151083,
          1.9968077254875645,
          2.421109690729623,
          2.1794871567271565,
          3.282748066608618,
          1.7074197043165569,
          1.1632826804510015,
          2.2284746926789762,
          3.9014813859515822,
          0.6894727312396243,
          3.446834132131959,
          0.20706881611626096,
          0.6910133062610536,
          3.335869511204021,
          0.541520098806798,
          -0.17750475328280454,
          0.4767540513936833,
          1.905476189587696,
          1.563199826547406,
          1.5307768084400066,
          -0.2928993187547369,
          0.17462388877159618,
          2.2926734549751218,
          2.561357005841527,
          0.8756611810441297,
          1.8232644224301204,
          1.3810742371918308,
          1.662859110759882,
          1.2341392901247414,
          1.166304778980389,
          1.8291966097381598,
          1.563608775027195,
          2.1453927791646725,
          2.0126378297481473,
          1.5832918226479336,
          2.958210699029368,
          1.8115195001709423,
          1.8783449995192383,
          0.892055222440569,
          3.0654439371342854,
          1.9926768211987758,
          4.230629193761589,
          1.7867544393542785,
          1.3830510331803438,
          1.260450828112235,
          3.27310636857005,
          3.375150519793945,
          1.667181575630817,
          1.3111564273981655,
          2.7070219835966167,
          1.6318443027243188,
          1.6437863004014581,
          1.721593919766125,
          1.5145128744674097,
          1.7515582834840218,
          2.6285900080490796,
          1.3445914556998644,
          2.219118510507952,
          3.017753430860824,
          1.2249856236037397,
          3.1629283615779547,
          2.117604121745341,
          1.8331985428588435,
          1.3048896980240685,
          1.3867666780757302,
          1.0314123901776528,
          0.891805228316932,
          0.08646532760167147,
          0.4353874328316747,
          0.6423469136287435,
          0.6882796396182099,
          1.0010421130658025,
          1.8042141438186883,
          0.5656040335204822,
          1.7062785462870653,
          1.5859072375315633,
          0.8925658532028669,
          0.7677207831822187,
          1.7721235591065982,
          1.6407996881269993,
          1.3889080939260996,
          1.4165817525693092,
          2.025131523039023,
          1.3742921757875972,
          2.008852667983321,
          1.833331386001555,
          1.8151440804768009,
          3.0722019766951423,
          1.6137031764275815,
          2.0083926871598132,
          2.383763021541161,
          2.2153408423943213,
          1.3165155668540178,
          1.4487583221943734,
          1.5289740579891686,
          1.5814768096662346,
          1.6514588925106806,
          1.9376274796917015,
          2.7964061844801207,
          0.42912159895507507,
          1.8339396392023009,
          1.5587230850962217,
          4.012409583581952,
          1.6221099849837521,
          2.151796553518625,
          2.0928785231490394,
          2.584843802942093,
          1.7334172613890928,
          1.4209610408064408,
          2.468074863324553,
          2.9978330091636876,
          2.4499933929787354,
          0.24723826341597843,
          2.148992165870812,
          1.9642433993731345,
          1.945509597063124,
          1.3327983856328067,
          1.5717425635444486,
          1.6805612036598494,
          1.5659342902396312,
          2.385322995326177,
          2.2829555241470887,
          1.499873479892771,
          2.269635088583547,
          1.2493269289345394,
          1.7963906799947797,
          1.2405106867127567,
          1.4290443476771244,
          1.9048453248875423,
          1.87723125702926,
          1.4944070228910358,
          1.4454598832643373,
          1.7743180745850395,
          1.3302363195958986,
          2.659567622197064,
          1.4547191815974398,
          3.4025496889232976,
          1.8648089624413127,
          2.296880538649802,
          1.327284780751454,
          1.6789288793191575,
          1.7140295295803991,
          3.0926732169453013,
          1.9433525795703028,
          3.5197008047721896,
          1.31932703722106,
          2.186320993123632,
          1.8093585010645528,
          3.085698310994714,
          1.9556890168400412,
          1.7712833766560259,
          1.8719700471176361,
          2.4989775547800535,
          2.294031913782186,
          1.894990523610713,
          2.6180895862948588,
          1.5217955799065437,
          1.6874825899435848,
          2.0101175172575814,
          3.3140327350858034,
          1.8263560153936227,
          1.3377871058305872,
          2.1619137808186673,
          1.5599955520197,
          1.7722310414102829,
          3.074723625265801,
          1.2242902105700093,
          1.513134258122711,
          1.2766742915706635,
          2.7327871079867925,
          2.0589483612106,
          3.393291712052076,
          1.5266989732222869,
          1.5518020409320339,
          1.650870779258256,
          2.919649387316827,
          2.4254792081115975,
          1.5928532705741303,
          1.7224023415278098,
          1.6927953675090655,
          2.665815592844795,
          1.4134153225927344,
          1.4392785702770157,
          1.3033947714317524,
          1.4846061954477126,
          1.518037023177334,
          1.9765735397086717,
          1.5899660363734178,
          1.232174589539095,
          2.410698718459788,
          2.1754650615100353,
          2.3827024259473837,
          2.2453265124998665,
          1.4407446571055913,
          1.1591617781770769,
          1.1207382247200843,
          1.2486236473347747,
          0.8701500514698675,
          1.0109881723641976,
          0.9484790638212676,
          1.5374235493762802,
          0.1409096334838134,
          1.6450447537583877,
          1.8687952813663062,
          1.7378733683487277,
          3.033501170164737,
          2.2411312964285686,
          2.09627917746795,
          1.8457751752591782,
          1.5157319266528608,
          1.970661972552998,
          1.4027740763428893,
          1.5651916274900752,
          1.3184401840758522,
          2.2287782311696267,
          1.7714508747810689,
          1.2934281249235953,
          1.4096436810307647,
          1.5229896663751132,
          2.7245382726455403,
          2.1244243852503115,
          0.9546724539072987,
          1.5279291617261372,
          1.9261673757351578,
          2.1284709696774264,
          1.6978443051545857,
          1.4958525766170776,
          2.1081054397709247,
          1.8104530320787169,
          1.4468344157880138,
          2.275627414290925,
          2.1637783167893763,
          1.5850677113953182,
          2.126176429337841,
          0.49189050624206954,
          1.29716163979373,
          1.5768766470076914,
          1.9113447664755663,
          1.4071732667946044,
          0.47922893005175426,
          0.4251309659853857,
          1.7377708012180477,
          1.894308402162971,
          2.6050866177164353,
          2.1257217579231305,
          1.768868172716465,
          1.6670086944557247,
          2.4427368895323127,
          1.9447528653024202,
          1.312317329009738,
          1.2194931862508043,
          1.4976454612682413,
          3.2001572262594933,
          1.4368162052528752,
          2.0472952309394623,
          2.13400664809976,
          1.617653754223936,
          2.3507075962696278,
          2.7377467193341474,
          2.363226953137875,
          1.6523120586233977,
          1.3347413770423076,
          1.212304208868575,
          2.0686838452359244,
          1.4053405855409942,
          1.3616689214638653,
          2.0389441776066297,
          1.5440028665713934,
          1.4836615339486505,
          1.3636802054630404,
          2.683368317000681
         ],
         "yaxis": "y",
         "type": "scattergl"
        },
        {
         "alignmentgroup": "True",
         "customdata": [
          [
           "48",
           -9,
           -4.0,
           13.666666666666666,
           "G - Aerodrome Capacity",
           null,
           "None"
          ],
          [
           "60",
           9,
           -9.0,
           17.666666666666668,
           "G - Aerodrome Capacity",
           null,
           "None"
          ],
          [
           "36",
           -10,
           10.0,
           21.0,
           "G - Aerodrome Capacity",
           null,
           "None"
          ],
          [
           "60",
           12,
           -24.0,
           30.666666666666668,
           "G - Aerodrome Capacity",
           null,
           "None"
          ],
          [
           "84",
           -9,
           5.0,
           25.333333333333332,
           "G - Aerodrome Capacity",
           null,
           "None"
          ],
          [
           "60",
           17,
           -5.0,
           28.333333333333332,
           "G - Aerodrome Capacity",
           null,
           "None"
          ],
          [
           "72",
           2,
           17.0,
           26.666666666666668,
           "G - Aerodrome Capacity",
           null,
           "None"
          ],
          [
           "48",
           -11,
           -18.0,
           27.0,
           "G - Aerodrome Capacity",
           null,
           "None"
          ],
          [
           "12",
           9,
           -1.0,
           0.3333333333333333,
           "G - Aerodrome Capacity",
           "WIP NOTAM A0065/18. REGULATION EXTENDED.",
           "None"
          ],
          [
           "24",
           13,
           9.0,
           7.0,
           "G - Aerodrome Capacity",
           "WIP NOTAM A0065/18. REGULATION EXTENDED.",
           "None"
          ],
          [
           "36",
           -17,
           13.0,
           21.333333333333332,
           "G - Aerodrome Capacity",
           "WIP NOTAM A0065/18. REGULATION EXTENDED.",
           "None"
          ],
          [
           "60",
           17,
           -17.0,
           28.666666666666668,
           "G - Aerodrome Capacity",
           null,
           "None"
          ],
          [
           "72",
           -1,
           17.0,
           28.0,
           "G - Aerodrome Capacity",
           null,
           "None"
          ],
          [
           "60",
           4,
           -15.0,
           27.0,
           "G - Aerodrome Capacity",
           null,
           "None"
          ],
          [
           "84",
           -6,
           -13.0,
           22.0,
           "G - Aerodrome Capacity",
           null,
           "None"
          ],
          [
           "36",
           -11,
           12.0,
           16.666666666666668,
           "G - Aerodrome Capacity",
           null,
           "None"
          ],
          [
           "60",
           16,
           -15.0,
           26.333333333333332,
           "G - Aerodrome Capacity",
           null,
           "None"
          ],
          [
           "84",
           -12,
           -5.0,
           34.0,
           "G - Aerodrome Capacity",
           null,
           "None"
          ],
          [
           "12",
           9,
           0.0,
           0.0,
           "G - Aerodrome Capacity",
           "WIP on RWY NOTAM A4346/17",
           "None"
          ],
          [
           "48",
           -17,
           -26.0,
           27.0,
           "G - Aerodrome Capacity",
           "WIP RVR 700mt",
           "None"
          ],
          [
           "60",
           11,
           -17.0,
           32.333333333333336,
           "G - Aerodrome Capacity",
           null,
           "None"
          ],
          [
           "72",
           8,
           11.0,
           30.666666666666668,
           "G - Aerodrome Capacity",
           "WIP RVR 700mt",
           "None"
          ],
          [
           "24",
           -14,
           13.0,
           8.0,
           "G - Aerodrome Capacity",
           "WIP in the TWR",
           "None"
          ],
          [
           "60",
           15,
           -22.0,
           31.666666666666668,
           "G - Aerodrome Capacity",
           null,
           "None"
          ],
          [
           "84",
           -11,
           7.0,
           34.666666666666664,
           "G - Aerodrome Capacity",
           "WIP RATE REDUCED DUE TO LOW VISIBILITY",
           "None"
          ],
          [
           "24",
           -11,
           11.0,
           9.0,
           "G - Aerodrome Capacity",
           "WIP in the TWR",
           "None"
          ],
          [
           "36",
           -28,
           -11.0,
           31.0,
           "G - Aerodrome Capacity",
           "WIP in the TWR",
           "None"
          ],
          [
           "48",
           -12,
           -28.0,
           31.666666666666668,
           "G - Aerodrome Capacity",
           null,
           "None"
          ],
          [
           "60",
           13,
           -12.0,
           32.666666666666664,
           "G - Aerodrome Capacity",
           "WIP Reg extended",
           "None"
          ],
          [
           "84",
           -10,
           4.0,
           36.666666666666664,
           "G - Aerodrome Capacity",
           null,
           "None"
          ],
          [
           "36",
           -26,
           -4.0,
           33.333333333333336,
           "G - Aerodrome Capacity",
           "WIP",
           "None"
          ],
          [
           "72",
           9,
           18.0,
           33.0,
           "G - Aerodrome Capacity",
           null,
           "None"
          ],
          [
           "84",
           -12,
           9.0,
           35.0,
           "G - Aerodrome Capacity",
           null,
           "None"
          ],
          [
           "60",
           11,
           -22.0,
           27.666666666666668,
           "G - Aerodrome Capacity",
           null,
           "None"
          ],
          [
           "60",
           15,
           -12.0,
           26.0,
           "G - Aerodrome Capacity",
           null,
           "None"
          ],
          [
           "72",
           -13,
           15.0,
           32.0,
           "G - Aerodrome Capacity",
           null,
           "None"
          ],
          [
           "84",
           -13,
           -13.0,
           33.666666666666664,
           "G - Aerodrome Capacity",
           null,
           "None"
          ],
          [
           "60",
           10,
           -14.0,
           30.666666666666668,
           "G - Aerodrome Capacity",
           null,
           "None"
          ],
          [
           "24",
           -16,
           13.0,
           8.666666666666666,
           "G - Aerodrome Capacity",
           "WIP in the TWR",
           "None"
          ],
          [
           "60",
           10,
           -17.0,
           29.0,
           "G - Aerodrome Capacity",
           "RWY CONFIGURATION REG. EXE.",
           "None"
          ],
          [
           "72",
           5,
           10.0,
           34.333333333333336,
           "G - Aerodrome Capacity",
           "RWY CONFIGURATION REG. EXE.",
           "None"
          ],
          [
           "84",
           -16,
           5.0,
           31.666666666666668,
           "G - Aerodrome Capacity",
           "RWY CONFIGURATION REG. EXE.",
           "None"
          ],
          [
           "12",
           13,
           -1.0,
           0.3333333333333333,
           "G - Aerodrome Capacity",
           "rwy configuration",
           "None"
          ],
          [
           "24",
           -15,
           13.0,
           8.0,
           "G - Aerodrome Capacity",
           "WIP in the TWR",
           "None"
          ],
          [
           "36",
           -20,
           -15.0,
           32.333333333333336,
           "G - Aerodrome Capacity",
           "lack of stands due snow removal",
           "None"
          ],
          [
           "48",
           -12,
           -20.0,
           32.333333333333336,
           "G - Aerodrome Capacity",
           "lack of stands due snow removal",
           "None"
          ],
          [
           "48",
           -11,
           -28.0,
           29.0,
           "G - Aerodrome Capacity",
           "Reg shortened",
           "None"
          ],
          [
           "60",
           16,
           -11.0,
           28.666666666666668,
           "G - Aerodrome Capacity",
           null,
           "None"
          ],
          [
           "84",
           -21,
           -5.0,
           33.333333333333336,
           "G - Aerodrome Capacity",
           null,
           "None"
          ],
          [
           "60",
           20,
           -9.0,
           31.333333333333332,
           "G - Aerodrome Capacity",
           "rwy config due to wind direction",
           "None"
          ],
          [
           "72",
           8,
           20.0,
           34.333333333333336,
           "G - Aerodrome Capacity",
           "rwy config due to wind direction",
           "None"
          ],
          [
           "84",
           -14,
           8.0,
           35.0,
           "G - Aerodrome Capacity",
           "rwy config due to wind direction",
           "None"
          ],
          [
           "12",
           10,
           -1.0,
           0.3333333333333333,
           "G - Aerodrome Capacity",
           null,
           "None"
          ],
          [
           "24",
           -7,
           10.0,
           6.333333333333333,
           "G - Aerodrome Capacity",
           null,
           "None"
          ],
          [
           "60",
           13,
           -10.0,
           26.0,
           "G - Aerodrome Capacity",
           "Rwy configuration",
           "None"
          ],
          [
           "72",
           -6,
           13.0,
           26.0,
           "G - Aerodrome Capacity",
           "Rwy configuration",
           "None"
          ],
          [
           "84",
           -5,
           -6.0,
           20.333333333333332,
           "G - Aerodrome Capacity",
           "Rwy configuration",
           "None"
          ],
          [
           "60",
           10,
           -15.0,
           26.0,
           "G - Aerodrome Capacity",
           null,
           "None"
          ],
          [
           "72",
           6,
           10.0,
           33.666666666666664,
           "G - Aerodrome Capacity",
           "HOLE ON THE TAXIWAY",
           "None"
          ],
          [
           "84",
           -12,
           6.0,
           35.0,
           "G - Aerodrome Capacity",
           null,
           "None"
          ],
          [
           "24",
           -15,
           10.0,
           7.666666666666667,
           "G - Aerodrome Capacity",
           "WIP in the TWR",
           "None"
          ],
          [
           "36",
           -3,
           -15.0,
           36.0,
           "G - Aerodrome Capacity",
           null,
           "None"
          ],
          [
           "48",
           18,
           -3.0,
           25.333333333333332,
           "G - Aerodrome Capacity",
           null,
           "None"
          ],
          [
           "60",
           4,
           18.0,
           28.333333333333332,
           "G - Aerodrome Capacity",
           null,
           "None"
          ],
          [
           "24",
           -15,
           15.0,
           9.0,
           "G - Aerodrome Capacity",
           "WIP in the TWR",
           "None"
          ],
          [
           "60",
           13,
           -20.0,
           32.333333333333336,
           "G - Aerodrome Capacity",
           null,
           "None"
          ],
          [
           "72",
           13,
           13.0,
           33.333333333333336,
           "G - Aerodrome Capacity",
           null,
           "None"
          ],
          [
           "84",
           -11,
           13.0,
           32.333333333333336,
           "G - Aerodrome Capacity",
           null,
           "None"
          ],
          [
           "84",
           -13,
           6.0,
           34.666666666666664,
           "G - Aerodrome Capacity",
           null,
           "None"
          ],
          [
           "24",
           -13,
           13.0,
           8.333333333333334,
           "G - Aerodrome Capacity",
           "WIP in the TWR",
           "None"
          ],
          [
           "60",
           15,
           -25.0,
           33.0,
           "G - Aerodrome Capacity",
           null,
           "None"
          ],
          [
           "72",
           5,
           15.0,
           33.0,
           "G - Aerodrome Capacity",
           null,
           "None"
          ],
          [
           "24",
           -12,
           16.0,
           8.333333333333334,
           "G - Aerodrome Capacity",
           "WIP in the TWR",
           "None"
          ],
          [
           "60",
           17,
           -14.0,
           34.0,
           "G - Aerodrome Capacity",
           null,
           "None"
          ],
          [
           "72",
           7,
           17.0,
           36.0,
           "G - Aerodrome Capacity",
           "extended",
           "None"
          ],
          [
           "84",
           -13,
           7.0,
           35.333333333333336,
           "G - Aerodrome Capacity",
           null,
           "None"
          ],
          [
           "36",
           -29,
           -7.0,
           30.666666666666668,
           "G - Aerodrome Capacity",
           null,
           "None"
          ],
          [
           "60",
           10,
           -18.0,
           27.666666666666668,
           "G - Aerodrome Capacity",
           null,
           "None"
          ],
          [
           "84",
           -3,
           0.0,
           19.333333333333332,
           "G - Aerodrome Capacity",
           null,
           "None"
          ],
          [
           "36",
           -20,
           12.0,
           20.666666666666668,
           "G - Aerodrome Capacity",
           "EXTENDED",
           "None"
          ],
          [
           "48",
           -18,
           -20.0,
           22.666666666666668,
           "G - Aerodrome Capacity",
           "EXTENDED",
           "None"
          ],
          [
           "24",
           -15,
           19.0,
           9.333333333333334,
           "G - Aerodrome Capacity",
           "WIP in the TWR",
           "None"
          ],
          [
           "36",
           -24,
           -15.0,
           36.0,
           "G - Aerodrome Capacity",
           null,
           "None"
          ],
          [
           "60",
           11,
           -18.0,
           34.666666666666664,
           "G - Aerodrome Capacity",
           null,
           "None"
          ],
          [
           "24",
           -15,
           17.0,
           9.0,
           "G - Aerodrome Capacity",
           "WIP in the TWR",
           "None"
          ],
          [
           "36",
           -30,
           -15.0,
           33.666666666666664,
           "G - Aerodrome Capacity",
           null,
           "None"
          ],
          [
           "60",
           14,
           -20.0,
           32.333333333333336,
           "G - Aerodrome Capacity",
           null,
           "None"
          ],
          [
           "72",
           9,
           14.0,
           35.0,
           "G - Aerodrome Capacity",
           "REG EXTENDED",
           "None"
          ],
          [
           "84",
           -14,
           9.0,
           33.666666666666664,
           "G - Aerodrome Capacity",
           null,
           "None"
          ],
          [
           "24",
           -15,
           16.0,
           8.666666666666666,
           "G - Aerodrome Capacity",
           "WIP in the TWR",
           "None"
          ],
          [
           "48",
           -17,
           -24.0,
           32.0,
           "G - Aerodrome Capacity",
           null,
           "None"
          ],
          [
           "84",
           -13,
           13.0,
           35.0,
           "G - Aerodrome Capacity",
           null,
           "None"
          ],
          [
           "36",
           -35,
           -20.0,
           32.0,
           "G - Aerodrome Capacity",
           null,
           "None"
          ],
          [
           "60",
           20,
           -15.0,
           34.0,
           "G - Aerodrome Capacity",
           null,
           "None"
          ],
          [
           "84",
           -10,
           16.0,
           37.333333333333336,
           "G - Aerodrome Capacity",
           null,
           "None"
          ],
          [
           "36",
           -34,
           -15.0,
           34.666666666666664,
           "G - Aerodrome Capacity",
           null,
           "None"
          ],
          [
           "60",
           8,
           -19.0,
           35.666666666666664,
           "G - Aerodrome Capacity",
           null,
           "None"
          ],
          [
           "60",
           9,
           -15.0,
           31.666666666666668,
           "G - Aerodrome Capacity",
           null,
           "None"
          ],
          [
           "84",
           -6,
           -2.0,
           23.333333333333332,
           "G - Aerodrome Capacity",
           null,
           "None"
          ],
          [
           "24",
           4,
           8.0,
           6.666666666666667,
           "G - Aerodrome Capacity",
           null,
           "None"
          ],
          [
           "60",
           4,
           -18.0,
           28.0,
           "G - Aerodrome Capacity",
           null,
           "None"
          ],
          [
           "72",
           2,
           4.0,
           31.333333333333332,
           "G - Aerodrome Capacity",
           null,
           "None"
          ],
          [
           "84",
           -9,
           2.0,
           36.0,
           "G - Aerodrome Capacity",
           null,
           "None"
          ],
          [
           "60",
           10,
           -20.0,
           32.0,
           "G - Aerodrome Capacity",
           null,
           "None"
          ],
          [
           "60",
           16,
           -17.0,
           31.666666666666668,
           "G - Aerodrome Capacity",
           null,
           "None"
          ],
          [
           "84",
           -13,
           8.0,
           36.0,
           "G - Aerodrome Capacity",
           null,
           "None"
          ],
          [
           "72",
           11,
           15.0,
           35.666666666666664,
           "G - Aerodrome Capacity",
           null,
           "None"
          ],
          [
           "36",
           -25,
           -7.0,
           32.0,
           "G - Aerodrome Capacity",
           null,
           "None"
          ],
          [
           "48",
           -17,
           -25.0,
           30.0,
           "G - Aerodrome Capacity",
           "Extended",
           "None"
          ],
          [
           "60",
           3,
           -17.0,
           29.333333333333332,
           "G - Aerodrome Capacity",
           null,
           "None"
          ],
          [
           "72",
           -7,
           3.0,
           29.0,
           "G - Aerodrome Capacity",
           "Extended",
           "None"
          ],
          [
           "84",
           -5,
           -7.0,
           26.666666666666668,
           "G - Aerodrome Capacity",
           null,
           "None"
          ],
          [
           "48",
           -10,
           -18.0,
           24.0,
           "G - Aerodrome Capacity",
           null,
           "None"
          ],
          [
           "84",
           -11,
           5.0,
           36.666666666666664,
           "G - Aerodrome Capacity",
           null,
           "None"
          ],
          [
           "24",
           -12,
           14.0,
           8.666666666666666,
           "G - Aerodrome Capacity",
           "WIP in the TWR / REDUCED RATE DUE TO LIMITED PARKING (DE-ICING)",
           "None"
          ],
          [
           "36",
           -29,
           -12.0,
           35.333333333333336,
           "G - Aerodrome Capacity",
           null,
           "None"
          ],
          [
           "72",
           12,
           15.0,
           31.666666666666668,
           "G - Aerodrome Capacity",
           "WIP in TWR and on TWYs",
           "None"
          ],
          [
           "36",
           -31,
           -17.0,
           33.0,
           "G - Aerodrome Capacity",
           null,
           "None"
          ],
          [
           "48",
           -19,
           -31.0,
           30.666666666666668,
           "G - Aerodrome Capacity",
           "WIP ON RWY",
           "None"
          ],
          [
           "72",
           19,
           13.0,
           32.666666666666664,
           "G - Aerodrome Capacity",
           "wip",
           "None"
          ],
          [
           "84",
           -11,
           19.0,
           33.666666666666664,
           "G - Aerodrome Capacity",
           "wip",
           "None"
          ],
          [
           "36",
           -25,
           -12.0,
           35.333333333333336,
           "G - Aerodrome Capacity",
           null,
           "None"
          ],
          [
           "60",
           17,
           -17.0,
           31.333333333333332,
           "G - Aerodrome Capacity",
           null,
           "None"
          ],
          [
           "12",
           14,
           0.0,
           0.6666666666666666,
           "G - Aerodrome Capacity",
           "WIP - NOTAM A0551/18",
           "None"
          ],
          [
           "36",
           -25,
           -12.0,
           33.666666666666664,
           "G - Aerodrome Capacity",
           null,
           "None"
          ],
          [
           "60",
           9,
           -7.0,
           34.666666666666664,
           "G - Aerodrome Capacity",
           null,
           "None"
          ],
          [
           "84",
           -23,
           12.0,
           31.666666666666668,
           "G - Aerodrome Capacity",
           null,
           "None"
          ],
          [
           "24",
           -9,
           13.0,
           8.0,
           "G - Aerodrome Capacity",
           "WIP in the TWR, regulation ends earlier",
           "None"
          ],
          [
           "84",
           -15,
           3.0,
           37.666666666666664,
           "G - Aerodrome Capacity",
           null,
           "None"
          ],
          [
           "72",
           -9,
           7.0,
           17.666666666666668,
           "G - Aerodrome Capacity",
           null,
           "None"
          ],
          [
           "36",
           -20,
           15.0,
           19.333333333333332,
           "G - Aerodrome Capacity",
           null,
           "None"
          ],
          [
           "60",
           16,
           -3.0,
           28.0,
           "G - Aerodrome Capacity",
           null,
           "None"
          ],
          [
           "36",
           -24,
           -10.0,
           36.333333333333336,
           "G - Aerodrome Capacity",
           null,
           "None"
          ],
          [
           "60",
           11,
           -1.0,
           36.333333333333336,
           "G - Aerodrome Capacity",
           null,
           "None"
          ],
          [
           "84",
           -10,
           1.0,
           36.666666666666664,
           "G - Aerodrome Capacity",
           null,
           "None"
          ],
          [
           "84",
           -17,
           -5.0,
           35.0,
           "G - Aerodrome Capacity",
           null,
           "None"
          ],
          [
           "24",
           -19,
           11.0,
           6.333333333333333,
           "G - Aerodrome Capacity",
           "WIP in the TWR",
           "None"
          ],
          [
           "36",
           -29,
           -10.0,
           34.666666666666664,
           "G - Aerodrome Capacity",
           null,
           "None"
          ],
          [
           "60",
           13,
           -5.0,
           35.666666666666664,
           "G - Aerodrome Capacity",
           null,
           "None"
          ],
          [
           "36",
           -24,
           -4.0,
           35.0,
           "G - Aerodrome Capacity",
           null,
           "None"
          ],
          [
           "60",
           14,
           -11.0,
           35.666666666666664,
           "G - Aerodrome Capacity",
           null,
           "None"
          ],
          [
           "72",
           5,
           14.0,
           32.666666666666664,
           "G - Aerodrome Capacity",
           null,
           "None"
          ],
          [
           "84",
           -12,
           5.0,
           36.666666666666664,
           "G - Aerodrome Capacity",
           null,
           "None"
          ],
          [
           "84",
           -6,
           -9.0,
           24.666666666666668,
           "G - Aerodrome Capacity",
           null,
           "None"
          ],
          [
           "60",
           13,
           -7.0,
           36.333333333333336,
           "G - Aerodrome Capacity",
           null,
           "None"
          ],
          [
           "36",
           -35,
           -11.0,
           34.666666666666664,
           "G - Aerodrome Capacity",
           null,
           "None"
          ],
          [
           "60",
           7,
           -10.0,
           34.0,
           "G - Aerodrome Capacity",
           null,
           "None"
          ],
          [
           "72",
           10,
           7.0,
           32.0,
           "G - Aerodrome Capacity",
           "high demand",
           "None"
          ],
          [
           "84",
           -15,
           10.0,
           34.333333333333336,
           "G - Aerodrome Capacity",
           null,
           "None"
          ],
          [
           "24",
           -21,
           8.0,
           7.0,
           "G - Aerodrome Capacity",
           "WIP in the TWR",
           "None"
          ],
          [
           "36",
           -29,
           -4.0,
           32.333333333333336,
           "G - Aerodrome Capacity",
           null,
           "None"
          ],
          [
           "60",
           13,
           -7.0,
           35.333333333333336,
           "G - Aerodrome Capacity",
           null,
           "None"
          ],
          [
           "12",
           8,
           -1.0,
           0.3333333333333333,
           "G - Aerodrome Capacity",
           "RWY maintenance",
           "None"
          ],
          [
           "24",
           2,
           8.0,
           7.0,
           "G - Aerodrome Capacity",
           "RWY maintenance",
           "None"
          ],
          [
           "48",
           -14,
           -27.0,
           25.333333333333332,
           "G - Aerodrome Capacity",
           null,
           "None"
          ],
          [
           "60",
           7,
           -14.0,
           27.666666666666668,
           "G - Aerodrome Capacity",
           null,
           "None"
          ],
          [
           "72",
           -8,
           7.0,
           34.0,
           "G - Aerodrome Capacity",
           null,
           "None"
          ],
          [
           "84",
           -11,
           -8.0,
           36.333333333333336,
           "G - Aerodrome Capacity",
           null,
           "None"
          ],
          [
           "84",
           -12,
           10.0,
           37.0,
           "G - Aerodrome Capacity",
           null,
           "None"
          ],
          [
           "60",
           13,
           -18.0,
           35.666666666666664,
           "G - Aerodrome Capacity",
           null,
           "None"
          ],
          [
           "60",
           10,
           -23.0,
           34.666666666666664,
           "G - Aerodrome Capacity",
           null,
           "None"
          ],
          [
           "72",
           6,
           10.0,
           36.0,
           "G - Aerodrome Capacity",
           null,
           "None"
          ],
          [
           "84",
           -10,
           6.0,
           39.333333333333336,
           "G - Aerodrome Capacity",
           null,
           "None"
          ],
          [
           "60",
           8,
           -18.0,
           28.666666666666668,
           "G - Aerodrome Capacity",
           null,
           "None"
          ],
          [
           "72",
           -3,
           8.0,
           34.333333333333336,
           "G - Aerodrome Capacity",
           null,
           "None"
          ],
          [
           "84",
           -15,
           5.0,
           35.333333333333336,
           "G - Aerodrome Capacity",
           null,
           "None"
          ],
          [
           "36",
           -32,
           -10.0,
           37.666666666666664,
           "G - Aerodrome Capacity",
           null,
           "None"
          ],
          [
           "84",
           -14,
           9.0,
           33.0,
           "G - Aerodrome Capacity",
           null,
           "None"
          ],
          [
           "36",
           -35,
           -20.0,
           36.666666666666664,
           "G - Aerodrome Capacity",
           "TRAFFIC CONGESTION",
           "None"
          ],
          [
           "60",
           14,
           -14.0,
           35.0,
           "G - Aerodrome Capacity",
           null,
           "None"
          ],
          [
           "84",
           -11,
           9.0,
           38.666666666666664,
           "G - Aerodrome Capacity",
           null,
           "None"
          ],
          [
           "36",
           -32,
           -18.0,
           36.666666666666664,
           "G - Aerodrome Capacity",
           null,
           "None"
          ],
          [
           "60",
           8,
           -12.0,
           36.666666666666664,
           "G - Aerodrome Capacity",
           null,
           "None"
          ],
          [
           "84",
           -10,
           12.0,
           38.333333333333336,
           "G - Aerodrome Capacity",
           null,
           "None"
          ],
          [
           "24",
           -16,
           13.0,
           8.333333333333334,
           "G - Aerodrome Capacity",
           "WIP in TWR",
           "None"
          ],
          [
           "60",
           15,
           -6.0,
           36.666666666666664,
           "G - Aerodrome Capacity",
           null,
           "None"
          ],
          [
           "72",
           7,
           15.0,
           34.333333333333336,
           "G - Aerodrome Capacity",
           null,
           "None"
          ],
          [
           "84",
           -15,
           7.0,
           34.666666666666664,
           "G - Aerodrome Capacity",
           null,
           "None"
          ],
          [
           "36",
           -30,
           -12.0,
           31.333333333333332,
           "G - Aerodrome Capacity",
           null,
           "None"
          ],
          [
           "84",
           -4,
           -5.0,
           27.333333333333332,
           "G - Aerodrome Capacity",
           null,
           "None"
          ],
          [
           "48",
           20,
           -22.0,
           24.666666666666668,
           "G - Aerodrome Capacity",
           null,
           "None"
          ],
          [
           "36",
           -28,
           -6.0,
           31.333333333333332,
           "G - Aerodrome Capacity",
           null,
           "None"
          ],
          [
           "48",
           13,
           -28.0,
           35.0,
           "G - Aerodrome Capacity",
           null,
           "None"
          ],
          [
           "60",
           5,
           13.0,
           32.333333333333336,
           "G - Aerodrome Capacity",
           null,
           "None"
          ],
          [
           "72",
           3,
           5.0,
           30.0,
           "G - Aerodrome Capacity",
           null,
           "None"
          ],
          [
           "84",
           -23,
           3.0,
           31.0,
           "G - Aerodrome Capacity",
           null,
           "None"
          ],
          [
           "36",
           -28,
           -26.0,
           34.666666666666664,
           "G - Aerodrome Capacity",
           null,
           "None"
          ],
          [
           "84",
           -15,
           7.0,
           35.0,
           "G - Aerodrome Capacity",
           null,
           "None"
          ],
          [
           "36",
           -27,
           -2.0,
           34.333333333333336,
           "G - Aerodrome Capacity",
           null,
           "None"
          ],
          [
           "60",
           13,
           -4.0,
           35.666666666666664,
           "G - Aerodrome Capacity",
           null,
           "None"
          ],
          [
           "72",
           12,
           13.0,
           33.333333333333336,
           "G - Aerodrome Capacity",
           null,
           "None"
          ],
          [
           "84",
           -15,
           12.0,
           35.0,
           "G - Aerodrome Capacity",
           null,
           "None"
          ],
          [
           "36",
           -32,
           -20.0,
           35.666666666666664,
           "G - Aerodrome Capacity",
           null,
           "None"
          ],
          [
           "60",
           20,
           -6.0,
           36.666666666666664,
           "G - Aerodrome Capacity",
           null,
           "None"
          ],
          [
           "72",
           10,
           20.0,
           35.0,
           "G - Aerodrome Capacity",
           null,
           "None"
          ],
          [
           "84",
           -13,
           10.0,
           36.333333333333336,
           "G - Aerodrome Capacity",
           null,
           "None"
          ],
          [
           "60",
           4,
           -14.0,
           31.0,
           "G - Aerodrome Capacity",
           null,
           "None"
          ],
          [
           "84",
           -13,
           -9.0,
           28.333333333333332,
           "G - Aerodrome Capacity",
           null,
           "None"
          ],
          [
           "36",
           8,
           24.0,
           35.333333333333336,
           "G - Aerodrome Capacity",
           null,
           "None"
          ],
          [
           "24",
           27,
           44.0,
           22.0,
           "G - Aerodrome Capacity",
           null,
           "None"
          ],
          [
           "36",
           8,
           27.0,
           35.0,
           "G - Aerodrome Capacity",
           null,
           "None"
          ],
          [
           "60",
           -13,
           -31.0,
           31.666666666666668,
           "G - Aerodrome Capacity",
           null,
           "None"
          ],
          [
           "84",
           -2,
           -17.0,
           28.0,
           "G - Aerodrome Capacity",
           "Reg extended",
           "None"
          ],
          [
           "48",
           -32,
           1.0,
           27.0,
           "G - Aerodrome Capacity",
           null,
           "None"
          ],
          [
           "60",
           -11,
           -32.0,
           33.666666666666664,
           "G - Aerodrome Capacity",
           null,
           "None"
          ],
          [
           "84",
           -9,
           -13.0,
           27.333333333333332,
           "G - Aerodrome Capacity",
           null,
           "None"
          ],
          [
           "36",
           5,
           34.0,
           37.333333333333336,
           "G - Aerodrome Capacity",
           null,
           "None"
          ],
          [
           "72",
           -9,
           -6.0,
           36.666666666666664,
           "G - Aerodrome Capacity",
           null,
           "None"
          ],
          [
           "84",
           -8,
           -9.0,
           28.666666666666668,
           "G - Aerodrome Capacity",
           null,
           "None"
          ],
          [
           "24",
           22,
           39.0,
           20.333333333333332,
           "G - Aerodrome Capacity",
           "EXTENDED",
           "None"
          ],
          [
           "36",
           10,
           22.0,
           35.333333333333336,
           "G - Aerodrome Capacity",
           null,
           "None"
          ],
          [
           "48",
           -19,
           10.0,
           23.666666666666668,
           "G - Aerodrome Capacity",
           "EXTENDED",
           "None"
          ],
          [
           "60",
           -6,
           -19.0,
           31.333333333333332,
           "G - Aerodrome Capacity",
           null,
           "None"
          ],
          [
           "72",
           -14,
           -6.0,
           36.0,
           "G - Aerodrome Capacity",
           "EXTENDED",
           "None"
          ],
          [
           "84",
           -7,
           -14.0,
           22.333333333333332,
           "G - Aerodrome Capacity",
           "EXTENDED",
           "None"
          ],
          [
           "36",
           10,
           21.0,
           31.333333333333332,
           "G - Aerodrome Capacity",
           null,
           "None"
          ],
          [
           "60",
           -23,
           -20.0,
           25.666666666666668,
           "G - Aerodrome Capacity",
           null,
           "None"
          ],
          [
           "84",
           -7,
           -20.0,
           18.333333333333332,
           "G - Aerodrome Capacity",
           null,
           "None"
          ],
          [
           "36",
           6,
           13.0,
           25.0,
           "G - Aerodrome Capacity",
           "RATE REDUCED DUE TO RWY CONFIGURATION AND HOLDINGS",
           "None"
          ],
          [
           "48",
           -23,
           6.0,
           18.333333333333332,
           "G - Aerodrome Capacity",
           "RATE REDUCED DUE TO RWY CONFIGURATION AND HOLDINGS",
           "None"
          ],
          [
           "60",
           -20,
           -23.0,
           25.0,
           "G - Aerodrome Capacity",
           "RATE REDUCED DUE TO RWY CONFIGURATION AND HOLDINGS",
           "None"
          ],
          [
           "72",
           -23,
           -20.0,
           28.0,
           "G - Aerodrome Capacity",
           "RATE REDUCED DUE TO RWY CONFIGURATION AND HOLDINGS",
           "None"
          ],
          [
           "84",
           -4,
           -23.0,
           21.666666666666668,
           "G - Aerodrome Capacity",
           "RATE REDUCED DUE TO RWY CONFIGURATION AND HOLDINGS",
           "None"
          ],
          [
           "48",
           -32,
           5.0,
           23.0,
           "G - Aerodrome Capacity",
           null,
           "None"
          ],
          [
           "60",
           -9,
           -32.0,
           30.0,
           "G - Aerodrome Capacity",
           null,
           "None"
          ],
          [
           "84",
           -8,
           -15.0,
           26.333333333333332,
           "G - Aerodrome Capacity",
           "WIP",
           "None"
          ],
          [
           "48",
           4,
           1.0,
           0.3333333333333333,
           "G - Aerodrome Capacity",
           null,
           "None"
          ],
          [
           "36",
           7,
           22.0,
           33.666666666666664,
           "G - Aerodrome Capacity",
           null,
           "None"
          ],
          [
           "60",
           -10,
           -38.0,
           30.666666666666668,
           "G - Aerodrome Capacity",
           null,
           "None"
          ],
          [
           "84",
           -5,
           -19.0,
           30.333333333333332,
           "G - Aerodrome Capacity",
           null,
           "None"
          ],
          [
           "84",
           -6,
           -19.0,
           28.333333333333332,
           "G - Aerodrome Capacity",
           null,
           "None"
          ],
          [
           "24",
           27,
           42.0,
           22.333333333333332,
           "G - Aerodrome Capacity",
           null,
           "None"
          ],
          [
           "84",
           -6,
           -15.0,
           28.666666666666668,
           "G - Aerodrome Capacity",
           null,
           "None"
          ],
          [
           "36",
           11,
           28.0,
           35.666666666666664,
           "G - Aerodrome Capacity",
           null,
           "None"
          ],
          [
           "60",
           -25,
           -37.0,
           27.666666666666668,
           "G - Aerodrome Capacity",
           null,
           "None"
          ],
          [
           "84",
           -8,
           -20.0,
           20.333333333333332,
           "G - Aerodrome Capacity",
           null,
           "None"
          ],
          [
           "84",
           -5,
           -19.0,
           32.0,
           "G - Aerodrome Capacity",
           null,
           "None"
          ],
          [
           "60",
           -9,
           -29.0,
           32.333333333333336,
           "G - Aerodrome Capacity",
           null,
           "None"
          ],
          [
           "72",
           -18,
           -9.0,
           40.0,
           "G - Aerodrome Capacity",
           null,
           "None"
          ],
          [
           "84",
           -8,
           -18.0,
           31.0,
           "G - Aerodrome Capacity",
           null,
           "None"
          ],
          [
           "60",
           -4,
           -19.0,
           25.0,
           "G - Aerodrome Capacity",
           null,
           "None"
          ],
          [
           "24",
           24,
           48.0,
           24.0,
           "G - Aerodrome Capacity",
           null,
           "None"
          ],
          [
           "36",
           1,
           24.0,
           36.333333333333336,
           "G - Aerodrome Capacity",
           null,
           "None"
          ],
          [
           "60",
           -8,
           -25.0,
           34.0,
           "G - Aerodrome Capacity",
           null,
           "None"
          ],
          [
           "36",
           -5,
           19.0,
           38.666666666666664,
           "G - Aerodrome Capacity",
           null,
           "None"
          ],
          [
           "60",
           -18,
           -36.0,
           34.666666666666664,
           "G - Aerodrome Capacity",
           null,
           "None"
          ],
          [
           "72",
           -15,
           -18.0,
           38.0,
           "G - Aerodrome Capacity",
           null,
           "None"
          ],
          [
           "84",
           -4,
           -15.0,
           32.333333333333336,
           "G - Aerodrome Capacity",
           null,
           "None"
          ],
          [
           "84",
           -11,
           -6.0,
           32.0,
           "G - Aerodrome Capacity",
           null,
           "None"
          ],
          [
           "36",
           9,
           27.0,
           38.333333333333336,
           "G - Aerodrome Capacity",
           null,
           "None"
          ],
          [
           "72",
           -22,
           -25.0,
           31.0,
           "G - Aerodrome Capacity",
           "wip on rwy",
           "None"
          ],
          [
           "36",
           12,
           25.0,
           30.0,
           "G - Aerodrome Capacity",
           null,
           "None"
          ],
          [
           "60",
           -18,
           -16.0,
           33.333333333333336,
           "G - Aerodrome Capacity",
           null,
           "None"
          ],
          [
           "72",
           -28,
           -18.0,
           36.333333333333336,
           "G - Aerodrome Capacity",
           null,
           "None"
          ],
          [
           "84",
           -7,
           -28.0,
           32.333333333333336,
           "G - Aerodrome Capacity",
           null,
           "None"
          ],
          [
           "36",
           2,
           23.0,
           39.333333333333336,
           "G - Aerodrome Capacity",
           null,
           "None"
          ],
          [
           "60",
           -10,
           -37.0,
           32.666666666666664,
           "G - Aerodrome Capacity",
           null,
           "None"
          ],
          [
           "84",
           -4,
           -16.0,
           31.333333333333332,
           "G - Aerodrome Capacity",
           null,
           "None"
          ],
          [
           "60",
           -17,
           -35.0,
           35.0,
           "G - Aerodrome Capacity",
           null,
           "None"
          ],
          [
           "84",
           -3,
           -14.0,
           30.666666666666668,
           "G - Aerodrome Capacity",
           null,
           "None"
          ],
          [
           "24",
           23,
           51.0,
           25.0,
           "G - Aerodrome Capacity",
           null,
           "None"
          ],
          [
           "36",
           8,
           23.0,
           37.0,
           "G - Aerodrome Capacity",
           null,
           "None"
          ],
          [
           "60",
           -17,
           -31.0,
           36.0,
           "G - Aerodrome Capacity",
           null,
           "None"
          ],
          [
           "84",
           -3,
           -22.0,
           33.666666666666664,
           "G - Aerodrome Capacity",
           null,
           "None"
          ],
          [
           "24",
           23,
           52.0,
           26.666666666666668,
           "G - Aerodrome Capacity",
           null,
           "None"
          ],
          [
           "36",
           9,
           23.0,
           37.666666666666664,
           "G - Aerodrome Capacity",
           null,
           "None"
          ],
          [
           "60",
           -15,
           -29.0,
           32.666666666666664,
           "G - Aerodrome Capacity",
           null,
           "None"
          ],
          [
           "84",
           -3,
           -15.0,
           33.666666666666664,
           "G - Aerodrome Capacity",
           null,
           "None"
          ],
          [
           "36",
           8,
           22.0,
           36.0,
           "G - Aerodrome Capacity",
           null,
           "None"
          ],
          [
           "72",
           -26,
           -22.0,
           31.666666666666668,
           "G - Aerodrome Capacity",
           null,
           "None"
          ],
          [
           "48",
           -31,
           3.0,
           28.333333333333332,
           "G - Aerodrome Capacity",
           null,
           "None"
          ],
          [
           "60",
           -19,
           -31.0,
           34.0,
           "G - Aerodrome Capacity",
           null,
           "None"
          ],
          [
           "36",
           4,
           22.0,
           37.0,
           "G - Aerodrome Capacity",
           null,
           "None"
          ],
          [
           "60",
           -18,
           -38.0,
           33.0,
           "G - Aerodrome Capacity",
           null,
           "None"
          ],
          [
           "72",
           -19,
           -18.0,
           42.333333333333336,
           "G - Aerodrome Capacity",
           null,
           "None"
          ],
          [
           "84",
           -4,
           -19.0,
           30.333333333333332,
           "G - Aerodrome Capacity",
           null,
           "None"
          ],
          [
           "60",
           -22,
           -31.0,
           33.333333333333336,
           "G - Aerodrome Capacity",
           null,
           "None"
          ],
          [
           "48",
           -23,
           3.0,
           29.0,
           "G - Aerodrome Capacity",
           "reg extended",
           "None"
          ],
          [
           "60",
           -13,
           -23.0,
           33.333333333333336,
           "G - Aerodrome Capacity",
           null,
           "None"
          ],
          [
           "60",
           -24,
           -32.0,
           32.0,
           "G - Aerodrome Capacity",
           "RATE INCREASED",
           "None"
          ],
          [
           "84",
           -6,
           -18.0,
           23.333333333333332,
           "G - Aerodrome Capacity",
           null,
           "None"
          ],
          [
           "72",
           -13,
           -17.0,
           33.666666666666664,
           "G - Aerodrome Capacity",
           null,
           "None"
          ],
          [
           "84",
           -7,
           -13.0,
           24.666666666666668,
           "G - Aerodrome Capacity",
           null,
           "None"
          ],
          [
           "36",
           -4,
           10.0,
           30.0,
           "G - Aerodrome Capacity",
           null,
           "None"
          ],
          [
           "84",
           -4,
           -12.0,
           26.333333333333332,
           "G - Aerodrome Capacity",
           null,
           "None"
          ],
          [
           "60",
           -17,
           -27.0,
           29.333333333333332,
           "G - Aerodrome Capacity",
           null,
           "None"
          ],
          [
           "24",
           21,
           42.0,
           25.666666666666668,
           "G - Aerodrome Capacity",
           null,
           "None"
          ],
          [
           "36",
           5,
           21.0,
           36.333333333333336,
           "G - Aerodrome Capacity",
           null,
           "None"
          ],
          [
           "48",
           -31,
           5.0,
           33.333333333333336,
           "G - Aerodrome Capacity",
           null,
           "None"
          ],
          [
           "60",
           -14,
           -31.0,
           33.666666666666664,
           "G - Aerodrome Capacity",
           null,
           "None"
          ],
          [
           "72",
           -18,
           -14.0,
           42.333333333333336,
           "G - Aerodrome Capacity",
           null,
           "None"
          ],
          [
           "84",
           -6,
           -18.0,
           32.333333333333336,
           "G - Aerodrome Capacity",
           null,
           "None"
          ],
          [
           "36",
           0,
           25.0,
           30.0,
           "G - Aerodrome Capacity",
           null,
           "None"
          ],
          [
           "48",
           -33,
           0.0,
           27.333333333333332,
           "G - Aerodrome Capacity",
           null,
           "None"
          ],
          [
           "60",
           -12,
           -33.0,
           33.333333333333336,
           "G - Aerodrome Capacity",
           "Reg shortened",
           "None"
          ],
          [
           "84",
           -7,
           -28.0,
           35.333333333333336,
           "G - Aerodrome Capacity",
           null,
           "None"
          ],
          [
           "84",
           -6,
           -17.0,
           34.0,
           "G - Aerodrome Capacity",
           null,
           "None"
          ],
          [
           "36",
           0,
           27.0,
           40.0,
           "G - Aerodrome Capacity",
           "Reg extended",
           "None"
          ],
          [
           "48",
           -25,
           0.0,
           31.666666666666668,
           "G - Aerodrome Capacity",
           "Reg extended",
           "None"
          ],
          [
           "60",
           -4,
           -25.0,
           34.0,
           "G - Aerodrome Capacity",
           null,
           "None"
          ],
          [
           "84",
           -7,
           -17.0,
           33.666666666666664,
           "G - Aerodrome Capacity",
           null,
           "None"
          ],
          [
           "36",
           4,
           12.0,
           34.0,
           "G - Aerodrome Capacity",
           null,
           "None"
          ],
          [
           "48",
           -25,
           4.0,
           33.666666666666664,
           "G - Aerodrome Capacity",
           null,
           "None"
          ],
          [
           "60",
           -17,
           -25.0,
           30.666666666666668,
           "G - Aerodrome Capacity",
           null,
           "None"
          ],
          [
           "72",
           -17,
           -17.0,
           35.0,
           "G - Aerodrome Capacity",
           null,
           "None"
          ],
          [
           "84",
           -6,
           -17.0,
           28.0,
           "G - Aerodrome Capacity",
           null,
           "None"
          ],
          [
           "60",
           -17,
           -23.0,
           30.666666666666668,
           "G - Aerodrome Capacity",
           null,
           "None"
          ],
          [
           "72",
           -17,
           -17.0,
           38.666666666666664,
           "G - Aerodrome Capacity",
           null,
           "None"
          ],
          [
           "84",
           -9,
           -19.0,
           27.666666666666668,
           "G - Aerodrome Capacity",
           null,
           "None"
          ],
          [
           "24",
           33,
           44.0,
           23.666666666666668,
           "G - Aerodrome Capacity",
           "RWY 08/26 CLOSED DUE TO WIP. NOTAM A0893/18.",
           "None"
          ],
          [
           "36",
           -8,
           33.0,
           38.333333333333336,
           "G - Aerodrome Capacity",
           "RWY 08/26 CLOSED DUE TO WIP. NOTAM A0893/18.",
           "None"
          ],
          [
           "48",
           -34,
           -8.0,
           28.333333333333332,
           "G - Aerodrome Capacity",
           "RWY 08/26 CLOSED DUE TO WIP. NOTAM A0893/18.",
           "None"
          ],
          [
           "60",
           -7,
           -34.0,
           35.333333333333336,
           "G - Aerodrome Capacity",
           "RWY 08/26 CLOSED DUE TO WIP. NOTAM A0893/18.",
           "None"
          ],
          [
           "72",
           -14,
           -7.0,
           37.0,
           "G - Aerodrome Capacity",
           null,
           "None"
          ],
          [
           "24",
           25,
           45.0,
           24.333333333333332,
           "G - Aerodrome Capacity",
           null,
           "None"
          ],
          [
           "60",
           -6,
           -29.0,
           33.333333333333336,
           "G - Aerodrome Capacity",
           null,
           "None"
          ],
          [
           "24",
           22,
           46.0,
           25.333333333333332,
           "G - Aerodrome Capacity",
           null,
           "None"
          ],
          [
           "84",
           -15,
           -11.0,
           29.333333333333332,
           "G - Aerodrome Capacity",
           null,
           "None"
          ],
          [
           "36",
           -2,
           32.0,
           39.333333333333336,
           "G - Aerodrome Capacity",
           null,
           "None"
          ],
          [
           "60",
           -19,
           -40.0,
           34.0,
           "G - Aerodrome Capacity",
           null,
           "None"
          ],
          [
           "48",
           -24,
           5.0,
           32.666666666666664,
           "G - Aerodrome Capacity",
           null,
           "None"
          ],
          [
           "60",
           -10,
           -24.0,
           33.666666666666664,
           "G - Aerodrome Capacity",
           null,
           "None"
          ],
          [
           "60",
           -23,
           -32.0,
           30.0,
           "G - Aerodrome Capacity",
           null,
           "None"
          ],
          [
           "36",
           7,
           15.0,
           33.0,
           "G - Aerodrome Capacity",
           null,
           "None"
          ],
          [
           "48",
           -38,
           7.0,
           30.0,
           "G - Aerodrome Capacity",
           null,
           "None"
          ],
          [
           "60",
           -14,
           -38.0,
           32.0,
           "G - Aerodrome Capacity",
           null,
           "None"
          ],
          [
           "24",
           22,
           38.0,
           22.333333333333332,
           "G - Aerodrome Capacity",
           null,
           "None"
          ],
          [
           "60",
           -15,
           -24.0,
           35.333333333333336,
           "G - Aerodrome Capacity",
           "SINGLE RUNWAY OPERATIONS",
           "None"
          ],
          [
           "84",
           -9,
           -12.0,
           34.666666666666664,
           "G - Aerodrome Capacity",
           null,
           "None"
          ],
          [
           "12",
           43,
           4.0,
           1.3333333333333333,
           "G - Aerodrome Capacity",
           "uefa final 2018",
           "None"
          ],
          [
           "24",
           30,
           43.0,
           20.666666666666668,
           "G - Aerodrome Capacity",
           null,
           "None"
          ],
          [
           "36",
           9,
           30.0,
           36.0,
           "G - Aerodrome Capacity",
           null,
           "None"
          ],
          [
           "48",
           -28,
           9.0,
           28.333333333333332,
           "G - Aerodrome Capacity",
           null,
           "None"
          ],
          [
           "60",
           -17,
           -28.0,
           29.333333333333332,
           "G - Aerodrome Capacity",
           null,
           "None"
          ],
          [
           "72",
           -19,
           -17.0,
           33.333333333333336,
           "G - Aerodrome Capacity",
           "uefa final 2018",
           "None"
          ],
          [
           "60",
           -19,
           -35.0,
           32.0,
           "G - Aerodrome Capacity",
           null,
           "None"
          ],
          [
           "84",
           -10,
           -14.0,
           29.0,
           "G - Aerodrome Capacity",
           null,
           "None"
          ],
          [
           "24",
           28,
           44.0,
           23.333333333333332,
           "G - Aerodrome Capacity",
           null,
           "None"
          ],
          [
           "60",
           -20,
           -42.0,
           33.0,
           "G - Aerodrome Capacity",
           null,
           "None"
          ],
          [
           "24",
           23,
           24.0,
           18.333333333333332,
           "G - Aerodrome Capacity",
           ",",
           "None"
          ],
          [
           "84",
           -15,
           -11.0,
           27.333333333333332,
           "G - Aerodrome Capacity",
           null,
           "None"
          ],
          [
           "48",
           -27,
           7.0,
           26.666666666666668,
           "G - Aerodrome Capacity",
           null,
           "None"
          ],
          [
           "36",
           7,
           21.0,
           31.666666666666668,
           "G - Aerodrome Capacity",
           null,
           "None"
          ],
          [
           "36",
           -2,
           24.0,
           38.666666666666664,
           "G - Aerodrome Capacity",
           null,
           "None"
          ],
          [
           "60",
           -18,
           -29.0,
           33.0,
           "G - Aerodrome Capacity",
           null,
           "None"
          ],
          [
           "24",
           28,
           49.0,
           24.666666666666668,
           "G - Aerodrome Capacity",
           null,
           "None"
          ],
          [
           "72",
           -19,
           -15.0,
           38.666666666666664,
           "G - Aerodrome Capacity",
           null,
           "None"
          ],
          [
           "24",
           29,
           48.0,
           26.666666666666668,
           "G - Aerodrome Capacity",
           null,
           "None"
          ],
          [
           "60",
           -21,
           -28.0,
           32.333333333333336,
           "G - Aerodrome Capacity",
           null,
           "None"
          ],
          [
           "36",
           -6,
           33.0,
           41.666666666666664,
           "G - Aerodrome Capacity",
           null,
           "None"
          ],
          [
           "24",
           29,
           32.0,
           18.0,
           "G - Aerodrome Capacity",
           null,
           "None"
          ],
          [
           "12",
           45,
           3.0,
           1.0,
           "G - Aerodrome Capacity",
           "RWY REPARATION",
           "None"
          ],
          [
           "24",
           30,
           45.0,
           25.0,
           "G - Aerodrome Capacity",
           null,
           "None"
          ],
          [
           "60",
           -13,
           -35.0,
           32.666666666666664,
           "G - Aerodrome Capacity",
           null,
           "None"
          ],
          [
           "72",
           -6,
           -13.0,
           39.333333333333336,
           "G - Aerodrome Capacity",
           null,
           "None"
          ],
          [
           "84",
           -11,
           -6.0,
           25.666666666666668,
           "G - Aerodrome Capacity",
           null,
           "None"
          ],
          [
           "48",
           -25,
           0.0,
           32.0,
           "G - Aerodrome Capacity",
           null,
           "None"
          ],
          [
           "60",
           -19,
           -25.0,
           35.333333333333336,
           "G - Aerodrome Capacity",
           null,
           "None"
          ],
          [
           "60",
           -15,
           -20.0,
           35.333333333333336,
           "G - Aerodrome Capacity",
           null,
           "None"
          ],
          [
           "84",
           -9,
           -20.0,
           36.0,
           "G - Aerodrome Capacity",
           null,
           "None"
          ],
          [
           "84",
           -10,
           -13.0,
           35.666666666666664,
           "G - Aerodrome Capacity",
           "REG EXTENDED",
           "None"
          ],
          [
           "84",
           -9,
           -25.0,
           35.333333333333336,
           "G - Aerodrome Capacity",
           null,
           "None"
          ],
          [
           "84",
           -11,
           -16.0,
           34.666666666666664,
           "G - Aerodrome Capacity",
           null,
           "None"
          ],
          [
           "84",
           -11,
           -22.0,
           37.666666666666664,
           "G - Aerodrome Capacity",
           null,
           "None"
          ],
          [
           "84",
           -9,
           -21.0,
           37.0,
           "G - Aerodrome Capacity",
           null,
           "None"
          ],
          [
           "36",
           4,
           21.0,
           38.0,
           "G - Aerodrome Capacity",
           null,
           "None"
          ],
          [
           "60",
           -21,
           -36.0,
           29.333333333333332,
           "G - Aerodrome Capacity",
           null,
           "None"
          ],
          [
           "72",
           -24,
           -21.0,
           33.0,
           "G - Aerodrome Capacity",
           null,
           "None"
          ],
          [
           "36",
           13,
           31.0,
           30.666666666666668,
           "G - Aerodrome Capacity",
           null,
           "None"
          ],
          [
           "60",
           -20,
           -32.0,
           32.0,
           "G - Aerodrome Capacity",
           null,
           "None"
          ],
          [
           "84",
           -12,
           -29.0,
           34.333333333333336,
           "G - Aerodrome Capacity",
           null,
           "None"
          ],
          [
           "84",
           -8,
           -16.0,
           34.333333333333336,
           "G - Aerodrome Capacity",
           null,
           "None"
          ],
          [
           "60",
           -13,
           -39.0,
           34.666666666666664,
           "G - Aerodrome Capacity",
           null,
           "None"
          ],
          [
           "72",
           -18,
           -13.0,
           40.333333333333336,
           "G - Aerodrome Capacity",
           "reg extended",
           "None"
          ],
          [
           "84",
           -8,
           -18.0,
           35.666666666666664,
           "G - Aerodrome Capacity",
           null,
           "None"
          ],
          [
           "36",
           1,
           29.0,
           38.666666666666664,
           "G - Aerodrome Capacity",
           "rain reg amended From 07:20 reason is aerodrome capacity.",
           "None"
          ],
          [
           "48",
           -37,
           1.0,
           32.333333333333336,
           "G - Aerodrome Capacity",
           "rain reg amended From 07:20 reason is aerodrome capacity.",
           "None"
          ],
          [
           "60",
           -1,
           -37.0,
           36.0,
           "G - Aerodrome Capacity",
           "REG EXTENDED",
           "None"
          ],
          [
           "72",
           -9,
           -1.0,
           38.0,
           "G - Aerodrome Capacity",
           null,
           "None"
          ],
          [
           "36",
           -3,
           20.0,
           39.0,
           "G - Aerodrome Capacity",
           null,
           "None"
          ],
          [
           "60",
           -13,
           -31.0,
           34.0,
           "G - Aerodrome Capacity",
           "cb",
           "None"
          ],
          [
           "24",
           29,
           46.0,
           26.333333333333332,
           "G - Aerodrome Capacity",
           "REG EXTENDED",
           "None"
          ],
          [
           "36",
           -4,
           29.0,
           40.666666666666664,
           "G - Aerodrome Capacity",
           null,
           "None"
          ],
          [
           "72",
           -7,
           -7.0,
           38.0,
           "G - Aerodrome Capacity",
           null,
           "None"
          ],
          [
           "60",
           -19,
           -30.0,
           30.0,
           "G - Aerodrome Capacity",
           null,
           "None"
          ]
         ],
         "hovertemplate": "reg_type=%{customdata[4]}<br>recovery_rate=%{y}<br>tw_idx=%{customdata[0]}<br>capacity_change=%{customdata[1]}<br>prev_capacity_change=%{customdata[2]}<br>prev_avg_capacity=%{customdata[3]}<br>reg_cause=%{customdata[5]}<br>reg_bool_type=%{customdata[6]}<extra></extra>",
         "legendgroup": "G - Aerodrome Capacity",
         "marker": {
          "color": "#EF553B",
          "symbol": "circle"
         },
         "name": "G - Aerodrome Capacity",
         "notched": true,
         "offsetgroup": "G - Aerodrome Capacity",
         "showlegend": false,
         "xaxis": "x2",
         "y": [
          1.0845954723006224,
          2.59291192270578,
          1.5667721233274132,
          2.277487348554005,
          1.255019799201335,
          2.7358854280264757,
          1.26172371812984,
          1.8970951745863156,
          0.8065822915811066,
          3.4482478171544497,
          1.5225185387912634,
          1.944803447026518,
          1.8044127079400551,
          2.675298745095204,
          1.2382032504984202,
          1.3801029757599887,
          3.2629957339797984,
          1.3807720604899558,
          0.8339935765017868,
          2.1284466311530252,
          2.3951139643181407,
          2.013928546691709,
          5.161805360108534,
          1.3477944100373576,
          1.2271757538903172,
          2.831113955467011,
          1.6657269659144507,
          2.131210548111644,
          3.410188138310407,
          1.8337343322994444,
          2.438397376675571,
          1.928636333500159,
          1.3448089730959878,
          3.3318564813006524,
          3.3353776216163693,
          1.404398418863382,
          1.337773365349237,
          3.5505595656115894,
          2.905445863209052,
          3.1710270965754748,
          1.9256136821028784,
          1.3672382977137776,
          1.308896671010846,
          1.9959396013762432,
          2.0654293934232735,
          2.4973000495157893,
          2.1246597155738245,
          1.817352686024963,
          1.6223716080141537,
          2.060768288484381,
          1.6834237142111275,
          1.2201098227459375,
          0.7337507084052057,
          3.4660165753686543,
          2.447817928040351,
          0.01631335847796069,
          1.0482290775063676,
          2.561600888908734,
          1.7560385546563504,
          1.1825099546191602,
          0.05959293419949362,
          0.36800008813654,
          0.9637952920680579,
          1.74071447004543,
          3.5209863433019124,
          2.7159867524584493,
          2.374259794974439,
          1.5024499799113378,
          1.8556142171679422,
          3.2032523481443382,
          2.4870760101481557,
          2.538749637446584,
          4.417801674460996,
          2.7823594032475514,
          1.6147445126253979,
          1.294049176369496,
          2.563957981217864,
          2.831019256111173,
          1.1715598945106351,
          2.7309390255213275,
          2.6634457440018635,
          3.2229146857800623,
          2.303119927484406,
          2.8449292943988045,
          5.1979370170926575,
          3.2605561204967,
          3.399015727625455,
          1.8423803073697287,
          1.6414429062200984,
          5.581868916634292,
          3.079926785925047,
          1.5786119509473857,
          2.2985237279006023,
          1.864351150918899,
          1.2233852430945418,
          2.2635768325053505,
          2.7657823447176306,
          2.7119237322959817,
          1.0905686138920319,
          5.005061944479396,
          1.9921973116371803,
          2.0178910292865564,
          1.0671856569676699,
          3.4198746439147327,
          -0.16334370086878577,
          1.2693038517303876,
          1.6819497429390307,
          3.122265960616778,
          1.7811161565238105,
          3.207421899500166,
          0.9844440323286664,
          1.1902640272077964,
          2.6916210421553477,
          1.3073828630411986,
          2.2728096635151083,
          1.9968077254875645,
          2.421109690729623,
          2.1794871567271565,
          3.282748066608618,
          1.7074197043165569,
          1.1632826804510015,
          2.2284746926789762,
          3.9014813859515822,
          0.6894727312396243,
          3.446834132131959,
          0.20706881611626096,
          0.6910133062610536,
          3.335869511204021,
          0.541520098806798,
          -0.17750475328280454,
          0.4767540513936833,
          1.905476189587696,
          1.563199826547406,
          1.5307768084400066,
          -0.2928993187547369,
          0.17462388877159618,
          2.2926734549751218,
          2.561357005841527,
          0.8756611810441297,
          1.8232644224301204,
          1.3810742371918308,
          1.662859110759882,
          1.2341392901247414,
          1.166304778980389,
          1.8291966097381598,
          1.563608775027195,
          2.1453927791646725,
          2.0126378297481473,
          1.5832918226479336,
          2.958210699029368,
          1.8115195001709423,
          1.8783449995192383,
          0.892055222440569,
          3.0654439371342854,
          1.9926768211987758,
          4.230629193761589,
          1.7867544393542785,
          1.3830510331803438,
          1.260450828112235,
          3.27310636857005,
          3.375150519793945,
          1.667181575630817,
          1.3111564273981655,
          2.7070219835966167,
          1.6318443027243188,
          1.6437863004014581,
          1.721593919766125,
          1.5145128744674097,
          1.7515582834840218,
          2.6285900080490796,
          1.3445914556998644,
          2.219118510507952,
          3.017753430860824,
          1.2249856236037397,
          3.1629283615779547,
          2.117604121745341,
          1.8331985428588435,
          1.3048896980240685,
          1.3867666780757302,
          1.0314123901776528,
          0.891805228316932,
          0.08646532760167147,
          0.4353874328316747,
          0.6423469136287435,
          0.6882796396182099,
          1.0010421130658025,
          1.8042141438186883,
          0.5656040335204822,
          1.7062785462870653,
          1.5859072375315633,
          0.8925658532028669,
          0.7677207831822187,
          1.7721235591065982,
          1.6407996881269993,
          1.3889080939260996,
          1.4165817525693092,
          2.025131523039023,
          1.3742921757875972,
          2.008852667983321,
          1.833331386001555,
          1.8151440804768009,
          3.0722019766951423,
          1.6137031764275815,
          2.0083926871598132,
          2.383763021541161,
          2.2153408423943213,
          1.3165155668540178,
          1.4487583221943734,
          1.5289740579891686,
          1.5814768096662346,
          1.6514588925106806,
          1.9376274796917015,
          2.7964061844801207,
          0.42912159895507507,
          1.8339396392023009,
          1.5587230850962217,
          4.012409583581952,
          1.6221099849837521,
          2.151796553518625,
          2.0928785231490394,
          2.584843802942093,
          1.7334172613890928,
          1.4209610408064408,
          2.468074863324553,
          2.9978330091636876,
          2.4499933929787354,
          0.24723826341597843,
          2.148992165870812,
          1.9642433993731345,
          1.945509597063124,
          1.3327983856328067,
          1.5717425635444486,
          1.6805612036598494,
          1.5659342902396312,
          2.385322995326177,
          2.2829555241470887,
          1.499873479892771,
          2.269635088583547,
          1.2493269289345394,
          1.7963906799947797,
          1.2405106867127567,
          1.4290443476771244,
          1.9048453248875423,
          1.87723125702926,
          1.4944070228910358,
          1.4454598832643373,
          1.7743180745850395,
          1.3302363195958986,
          2.659567622197064,
          1.4547191815974398,
          3.4025496889232976,
          1.8648089624413127,
          2.296880538649802,
          1.327284780751454,
          1.6789288793191575,
          1.7140295295803991,
          3.0926732169453013,
          1.9433525795703028,
          3.5197008047721896,
          1.31932703722106,
          2.186320993123632,
          1.8093585010645528,
          3.085698310994714,
          1.9556890168400412,
          1.7712833766560259,
          1.8719700471176361,
          2.4989775547800535,
          2.294031913782186,
          1.894990523610713,
          2.6180895862948588,
          1.5217955799065437,
          1.6874825899435848,
          2.0101175172575814,
          3.3140327350858034,
          1.8263560153936227,
          1.3377871058305872,
          2.1619137808186673,
          1.5599955520197,
          1.7722310414102829,
          3.074723625265801,
          1.2242902105700093,
          1.513134258122711,
          1.2766742915706635,
          2.7327871079867925,
          2.0589483612106,
          3.393291712052076,
          1.5266989732222869,
          1.5518020409320339,
          1.650870779258256,
          2.919649387316827,
          2.4254792081115975,
          1.5928532705741303,
          1.7224023415278098,
          1.6927953675090655,
          2.665815592844795,
          1.4134153225927344,
          1.4392785702770157,
          1.3033947714317524,
          1.4846061954477126,
          1.518037023177334,
          1.9765735397086717,
          1.5899660363734178,
          1.232174589539095,
          2.410698718459788,
          2.1754650615100353,
          2.3827024259473837,
          2.2453265124998665,
          1.4407446571055913,
          1.1591617781770769,
          1.1207382247200843,
          1.2486236473347747,
          0.8701500514698675,
          1.0109881723641976,
          0.9484790638212676,
          1.5374235493762802,
          0.1409096334838134,
          1.6450447537583877,
          1.8687952813663062,
          1.7378733683487277,
          3.033501170164737,
          2.2411312964285686,
          2.09627917746795,
          1.8457751752591782,
          1.5157319266528608,
          1.970661972552998,
          1.4027740763428893,
          1.5651916274900752,
          1.3184401840758522,
          2.2287782311696267,
          1.7714508747810689,
          1.2934281249235953,
          1.4096436810307647,
          1.5229896663751132,
          2.7245382726455403,
          2.1244243852503115,
          0.9546724539072987,
          1.5279291617261372,
          1.9261673757351578,
          2.1284709696774264,
          1.6978443051545857,
          1.4958525766170776,
          2.1081054397709247,
          1.8104530320787169,
          1.4468344157880138,
          2.275627414290925,
          2.1637783167893763,
          1.5850677113953182,
          2.126176429337841,
          0.49189050624206954,
          1.29716163979373,
          1.5768766470076914,
          1.9113447664755663,
          1.4071732667946044,
          0.47922893005175426,
          0.4251309659853857,
          1.7377708012180477,
          1.894308402162971,
          2.6050866177164353,
          2.1257217579231305,
          1.768868172716465,
          1.6670086944557247,
          2.4427368895323127,
          1.9447528653024202,
          1.312317329009738,
          1.2194931862508043,
          1.4976454612682413,
          3.2001572262594933,
          1.4368162052528752,
          2.0472952309394623,
          2.13400664809976,
          1.617653754223936,
          2.3507075962696278,
          2.7377467193341474,
          2.363226953137875,
          1.6523120586233977,
          1.3347413770423076,
          1.212304208868575,
          2.0686838452359244,
          1.4053405855409942,
          1.3616689214638653,
          2.0389441776066297,
          1.5440028665713934,
          1.4836615339486505,
          1.3636802054630404,
          2.683368317000681
         ],
         "yaxis": "y2",
         "type": "box"
        },
        {
         "customdata": [
          [
           "72",
           -11,
           9.0,
           27.666666666666668,
           "S - ATC Staffing",
           null,
           "None"
          ],
          [
           "72",
           -5,
           16.0,
           32.0,
           "S - ATC Staffing",
           null,
           "None"
          ],
          [
           "84",
           -15,
           2.0,
           35.666666666666664,
           "S - ATC Staffing",
           "SA",
           "None"
          ],
          [
           "24",
           -4,
           13.0,
           8.0,
           "S - ATC Staffing",
           null,
           "None"
          ],
          [
           "36",
           -24,
           -4.0,
           36.0,
           "S - ATC Staffing",
           null,
           "None"
          ],
          [
           "36",
           -32,
           -13.0,
           34.333333333333336,
           "S - ATC Staffing",
           null,
           "None"
          ],
          [
           "60",
           16,
           -17.0,
           31.666666666666668,
           "S - ATC Staffing",
           null,
           "None"
          ],
          [
           "72",
           13,
           16.0,
           36.0,
           "S - ATC Staffing",
           null,
           "None"
          ],
          [
           "48",
           -3,
           -20.0,
           22.666666666666668,
           "S - ATC Staffing",
           null,
           "None"
          ],
          [
           "36",
           -21,
           -19.0,
           36.0,
           "S - ATC Staffing",
           null,
           "None"
          ],
          [
           "48",
           -17,
           -21.0,
           30.333333333333332,
           "S - ATC Staffing",
           null,
           "None"
          ],
          [
           "84",
           -15,
           9.0,
           34.666666666666664,
           "S - ATC Staffing",
           null,
           "None"
          ],
          [
           "24",
           -5,
           11.0,
           7.0,
           "S - ATC Staffing",
           null,
           "None"
          ],
          [
           "36",
           -33,
           -5.0,
           32.666666666666664,
           "S - ATC Staffing",
           null,
           "None"
          ],
          [
           "36",
           -34,
           -15.0,
           36.333333333333336,
           "S - ATC Staffing",
           null,
           "None"
          ],
          [
           "36",
           -32,
           -8.0,
           37.0,
           "S - ATC Staffing",
           null,
           "None"
          ],
          [
           "48",
           -8,
           -28.0,
           32.666666666666664,
           "S - ATC Staffing",
           null,
           "None"
          ],
          [
           "72",
           3,
           9.0,
           35.0,
           "S - ATC Staffing",
           null,
           "None"
          ],
          [
           "72",
           -9,
           4.0,
           29.0,
           "S - ATC Staffing",
           null,
           "None"
          ],
          [
           "48",
           -27,
           7.0,
           24.333333333333332,
           "S - ATC Staffing",
           null,
           "None"
          ],
          [
           "60",
           -17,
           -27.0,
           29.333333333333332,
           "S - ATC Staffing",
           null,
           "None"
          ],
          [
           "84",
           -8,
           -27.0,
           31.333333333333332,
           "S - ATC Staffing",
           null,
           "None"
          ],
          [
           "48",
           -20,
           10.0,
           24.333333333333332,
           "S - ATC Staffing",
           null,
           "None"
          ],
          [
           "24",
           -4,
           33.0,
           20.333333333333332,
           "S - ATC Staffing",
           null,
           "None"
          ],
          [
           "84",
           -6,
           -22.0,
           21.333333333333332,
           "S - ATC Staffing",
           ".",
           "None"
          ],
          [
           "12",
           48,
           2.0,
           0.6666666666666666,
           "S - ATC Staffing",
           null,
           "None"
          ],
          [
           "12",
           45,
           2.0,
           0.6666666666666666,
           "S - ATC Staffing",
           "notam B0810/18 refers.",
           "None"
          ],
          [
           "48",
           -31,
           5.0,
           27.333333333333332,
           "S - ATC Staffing",
           null,
           "None"
          ],
          [
           "48",
           -29,
           9.0,
           29.666666666666668,
           "S - ATC Staffing",
           null,
           "None"
          ],
          [
           "24",
           22,
           54.0,
           27.0,
           "S - ATC Staffing",
           null,
           "None"
          ],
          [
           "36",
           2,
           25.0,
           36.0,
           "S - ATC Staffing",
           null,
           "None"
          ],
          [
           "48",
           -25,
           2.0,
           35.0,
           "S - ATC Staffing",
           null,
           "None"
          ],
          [
           "84",
           -7,
           -26.0,
           33.333333333333336,
           "S - ATC Staffing",
           null,
           "None"
          ],
          [
           "84",
           -4,
           -21.0,
           36.0,
           "S - ATC Staffing",
           null,
           "None"
          ],
          [
           "72",
           -18,
           -24.0,
           33.666666666666664,
           "S - ATC Staffing",
           null,
           "None"
          ],
          [
           "12",
           42,
           4.0,
           1.3333333333333333,
           "S - ATC Staffing",
           null,
           "None"
          ],
          [
           "84",
           -9,
           -25.0,
           33.666666666666664,
           "S - ATC Staffing",
           null,
           "None"
          ],
          [
           "12",
           47,
           4.0,
           1.3333333333333333,
           "S - ATC Staffing",
           "NOTAM C2401/18 refers",
           "None"
          ],
          [
           "24",
           18,
           44.0,
           25.0,
           "S - ATC Staffing",
           "reg extended",
           "None"
          ],
          [
           "36",
           13,
           13.0,
           28.666666666666668,
           "S - ATC Staffing",
           null,
           "None"
          ],
          [
           "84",
           -8,
           -14.0,
           31.666666666666668,
           "S - ATC Staffing",
           null,
           "None"
          ],
          [
           "48",
           -31,
           3.0,
           31.0,
           "S - ATC Staffing",
           null,
           "None"
          ],
          [
           "72",
           -11,
           -11.0,
           35.666666666666664,
           "S - ATC Staffing",
           null,
           "None"
          ],
          [
           "72",
           -19,
           -19.0,
           39.333333333333336,
           "S - ATC Staffing",
           null,
           "None"
          ],
          [
           "48",
           -24,
           -3.0,
           30.0,
           "S - ATC Staffing",
           null,
           "None"
          ],
          [
           "12",
           39,
           2.0,
           1.0,
           "S - ATC Staffing",
           null,
           "None"
          ],
          [
           "36",
           7,
           29.0,
           38.666666666666664,
           "S - ATC Staffing",
           null,
           "None"
          ],
          [
           "12",
           38,
           4.0,
           1.3333333333333333,
           "S - ATC Staffing",
           "NOTAM B1133/18 REFERS.",
           "None"
          ],
          [
           "84",
           -9,
           -17.0,
           36.666666666666664,
           "S - ATC Staffing",
           null,
           "None"
          ],
          [
           "36",
           2,
           29.0,
           38.0,
           "S - ATC Staffing",
           "Radar Maintenance",
           "None"
          ],
          [
           "24",
           36,
           37.0,
           20.666666666666668,
           "S - ATC Staffing",
           null,
           "None"
          ],
          [
           "72",
           2,
           -12.0,
           31.666666666666668,
           "S - ATC Staffing",
           null,
           "None"
          ],
          [
           "84",
           -8,
           2.0,
           21.333333333333332,
           "S - ATC Staffing",
           null,
           "None"
          ],
          [
           "12",
           50,
           4.0,
           1.3333333333333333,
           "S - ATC Staffing",
           null,
           "None"
          ],
          [
           "24",
           28,
           50.0,
           28.333333333333332,
           "S - ATC Staffing",
           null,
           "None"
          ],
          [
           "24",
           24,
           28.0,
           20.0,
           "S - ATC Staffing",
           null,
           "None"
          ],
          [
           "72",
           -16,
           -19.0,
           37.666666666666664,
           "S - ATC Staffing",
           null,
           "None"
          ],
          [
           "48",
           -40,
           -5.0,
           31.333333333333332,
           "S - ATC Staffing",
           null,
           "None"
          ],
          [
           "12",
           46,
           5.0,
           1.6666666666666667,
           "S - ATC Staffing",
           null,
           "None"
          ],
          [
           "12",
           46,
           2.0,
           0.6666666666666666,
           "S - ATC Staffing",
           null,
           "None"
          ],
          [
           "0",
           4,
           -13.0,
           4.333333333333333,
           "S - ATC Staffing",
           null,
           "None"
          ],
          [
           "12",
           47,
           4.0,
           1.3333333333333333,
           "S - ATC Staffing",
           null,
           "None"
          ],
          [
           "84",
           -9,
           -7.0,
           38.0,
           "S - ATC Staffing",
           null,
           "None"
          ],
          [
           "24",
           36,
           47.0,
           23.666666666666668,
           "S - ATC Staffing",
           null,
           "None"
          ]
         ],
         "hovertemplate": "reg_type=%{customdata[4]}<br>date_idx=%{x}<br>recovery_rate=%{y}<br>tw_idx=%{customdata[0]}<br>capacity_change=%{customdata[1]}<br>prev_capacity_change=%{customdata[2]}<br>prev_avg_capacity=%{customdata[3]}<br>reg_cause=%{customdata[5]}<br>reg_bool_type=%{customdata[6]}<extra></extra>",
         "legendgroup": "S - ATC Staffing",
         "marker": {
          "color": "#00cc96",
          "symbol": "circle"
         },
         "mode": "markers",
         "name": "S - ATC Staffing",
         "showlegend": true,
         "x": [
          "2018-01-01",
          "2018-01-07",
          "2018-01-08",
          "2018-01-19",
          "2018-01-19",
          "2018-01-25",
          "2018-01-31",
          "2018-01-31",
          "2018-02-18",
          "2018-02-21",
          "2018-02-21",
          "2018-02-21",
          "2018-02-24",
          "2018-02-24",
          "2018-03-06",
          "2018-03-07",
          "2018-03-20",
          "2018-03-21",
          "2018-03-24",
          "2018-03-25",
          "2018-03-25",
          "2018-03-25",
          "2018-03-31",
          "2018-04-10",
          "2018-04-14",
          "2018-04-16",
          "2018-04-17",
          "2018-04-19",
          "2018-04-20",
          "2018-04-24",
          "2018-04-25",
          "2018-04-25",
          "2018-04-25",
          "2018-04-27",
          "2018-04-28",
          "2018-05-02",
          "2018-05-04",
          "2018-05-07",
          "2018-05-08",
          "2018-05-12",
          "2018-05-14",
          "2018-05-16",
          "2018-05-16",
          "2018-05-17",
          "2018-05-25",
          "2018-05-30",
          "2018-05-30",
          "2018-05-31",
          "2018-06-04",
          "2018-06-06",
          "2018-06-09",
          "2018-06-09",
          "2018-06-09",
          "2018-06-15",
          "2018-06-15",
          "2018-06-17",
          "2018-06-20",
          "2018-06-25",
          "2018-06-26",
          "2018-06-27",
          "2018-06-28",
          "2018-06-28",
          "2018-06-29",
          "2018-06-30"
         ],
         "xaxis": "x",
         "y": [
          1.8035829468368758,
          2.0184369363216645,
          1.4378934154197913,
          7.13067487264075,
          1.8119504221000169,
          2.19151165221722,
          2.280576096726257,
          1.545045307916958,
          0.9896492221578091,
          1.5853178711407663,
          1.287754952426462,
          1.5349661719959249,
          3.8406084051854417,
          2.020859103692064,
          1.4867996556312812,
          1.6727914627128035,
          1.9910878593225265,
          1.614689474096325,
          1.5766258395403172,
          2.0187796384081387,
          2.2264189586100787,
          1.3507151553318977,
          2.691681489372489,
          0.4281488368915332,
          1.3817285678778772,
          1.9376899414719897,
          1.6174870214087091,
          1.7844459190103994,
          1.9728745921238866,
          1.569272859745289,
          2.1180008532844603,
          2.3590779788050127,
          1.382752703258409,
          1.2721541652084216,
          3.275334616542408,
          1.8197770417853418,
          2.5676395998451977,
          2.457682710529078,
          1.859332813702789,
          1.4953331791226232,
          1.5393856993144626,
          0.9690441724410975,
          1.492700300411824,
          1.7677432570543223,
          1.6066213575819295,
          1.8806471645049618,
          1.5573564910713213,
          1.3822361358590594,
          1.3463098885087983,
          1.7838761901873792,
          1.6629786501750814,
          1.0730320977475267,
          1.2317775595525766,
          2.6293250500072523,
          1.3471447916674697,
          1.2876029377314349,
          1.4103387082362218,
          1.3757420387083414,
          2.4259537790309094,
          2.363245534304513,
          0.3845690235690235,
          2.5943175686091386,
          1.5077494580014201,
          1.3598648782144813
         ],
         "yaxis": "y",
         "type": "scattergl"
        },
        {
         "alignmentgroup": "True",
         "customdata": [
          [
           "72",
           -11,
           9.0,
           27.666666666666668,
           "S - ATC Staffing",
           null,
           "None"
          ],
          [
           "72",
           -5,
           16.0,
           32.0,
           "S - ATC Staffing",
           null,
           "None"
          ],
          [
           "84",
           -15,
           2.0,
           35.666666666666664,
           "S - ATC Staffing",
           "SA",
           "None"
          ],
          [
           "24",
           -4,
           13.0,
           8.0,
           "S - ATC Staffing",
           null,
           "None"
          ],
          [
           "36",
           -24,
           -4.0,
           36.0,
           "S - ATC Staffing",
           null,
           "None"
          ],
          [
           "36",
           -32,
           -13.0,
           34.333333333333336,
           "S - ATC Staffing",
           null,
           "None"
          ],
          [
           "60",
           16,
           -17.0,
           31.666666666666668,
           "S - ATC Staffing",
           null,
           "None"
          ],
          [
           "72",
           13,
           16.0,
           36.0,
           "S - ATC Staffing",
           null,
           "None"
          ],
          [
           "48",
           -3,
           -20.0,
           22.666666666666668,
           "S - ATC Staffing",
           null,
           "None"
          ],
          [
           "36",
           -21,
           -19.0,
           36.0,
           "S - ATC Staffing",
           null,
           "None"
          ],
          [
           "48",
           -17,
           -21.0,
           30.333333333333332,
           "S - ATC Staffing",
           null,
           "None"
          ],
          [
           "84",
           -15,
           9.0,
           34.666666666666664,
           "S - ATC Staffing",
           null,
           "None"
          ],
          [
           "24",
           -5,
           11.0,
           7.0,
           "S - ATC Staffing",
           null,
           "None"
          ],
          [
           "36",
           -33,
           -5.0,
           32.666666666666664,
           "S - ATC Staffing",
           null,
           "None"
          ],
          [
           "36",
           -34,
           -15.0,
           36.333333333333336,
           "S - ATC Staffing",
           null,
           "None"
          ],
          [
           "36",
           -32,
           -8.0,
           37.0,
           "S - ATC Staffing",
           null,
           "None"
          ],
          [
           "48",
           -8,
           -28.0,
           32.666666666666664,
           "S - ATC Staffing",
           null,
           "None"
          ],
          [
           "72",
           3,
           9.0,
           35.0,
           "S - ATC Staffing",
           null,
           "None"
          ],
          [
           "72",
           -9,
           4.0,
           29.0,
           "S - ATC Staffing",
           null,
           "None"
          ],
          [
           "48",
           -27,
           7.0,
           24.333333333333332,
           "S - ATC Staffing",
           null,
           "None"
          ],
          [
           "60",
           -17,
           -27.0,
           29.333333333333332,
           "S - ATC Staffing",
           null,
           "None"
          ],
          [
           "84",
           -8,
           -27.0,
           31.333333333333332,
           "S - ATC Staffing",
           null,
           "None"
          ],
          [
           "48",
           -20,
           10.0,
           24.333333333333332,
           "S - ATC Staffing",
           null,
           "None"
          ],
          [
           "24",
           -4,
           33.0,
           20.333333333333332,
           "S - ATC Staffing",
           null,
           "None"
          ],
          [
           "84",
           -6,
           -22.0,
           21.333333333333332,
           "S - ATC Staffing",
           ".",
           "None"
          ],
          [
           "12",
           48,
           2.0,
           0.6666666666666666,
           "S - ATC Staffing",
           null,
           "None"
          ],
          [
           "12",
           45,
           2.0,
           0.6666666666666666,
           "S - ATC Staffing",
           "notam B0810/18 refers.",
           "None"
          ],
          [
           "48",
           -31,
           5.0,
           27.333333333333332,
           "S - ATC Staffing",
           null,
           "None"
          ],
          [
           "48",
           -29,
           9.0,
           29.666666666666668,
           "S - ATC Staffing",
           null,
           "None"
          ],
          [
           "24",
           22,
           54.0,
           27.0,
           "S - ATC Staffing",
           null,
           "None"
          ],
          [
           "36",
           2,
           25.0,
           36.0,
           "S - ATC Staffing",
           null,
           "None"
          ],
          [
           "48",
           -25,
           2.0,
           35.0,
           "S - ATC Staffing",
           null,
           "None"
          ],
          [
           "84",
           -7,
           -26.0,
           33.333333333333336,
           "S - ATC Staffing",
           null,
           "None"
          ],
          [
           "84",
           -4,
           -21.0,
           36.0,
           "S - ATC Staffing",
           null,
           "None"
          ],
          [
           "72",
           -18,
           -24.0,
           33.666666666666664,
           "S - ATC Staffing",
           null,
           "None"
          ],
          [
           "12",
           42,
           4.0,
           1.3333333333333333,
           "S - ATC Staffing",
           null,
           "None"
          ],
          [
           "84",
           -9,
           -25.0,
           33.666666666666664,
           "S - ATC Staffing",
           null,
           "None"
          ],
          [
           "12",
           47,
           4.0,
           1.3333333333333333,
           "S - ATC Staffing",
           "NOTAM C2401/18 refers",
           "None"
          ],
          [
           "24",
           18,
           44.0,
           25.0,
           "S - ATC Staffing",
           "reg extended",
           "None"
          ],
          [
           "36",
           13,
           13.0,
           28.666666666666668,
           "S - ATC Staffing",
           null,
           "None"
          ],
          [
           "84",
           -8,
           -14.0,
           31.666666666666668,
           "S - ATC Staffing",
           null,
           "None"
          ],
          [
           "48",
           -31,
           3.0,
           31.0,
           "S - ATC Staffing",
           null,
           "None"
          ],
          [
           "72",
           -11,
           -11.0,
           35.666666666666664,
           "S - ATC Staffing",
           null,
           "None"
          ],
          [
           "72",
           -19,
           -19.0,
           39.333333333333336,
           "S - ATC Staffing",
           null,
           "None"
          ],
          [
           "48",
           -24,
           -3.0,
           30.0,
           "S - ATC Staffing",
           null,
           "None"
          ],
          [
           "12",
           39,
           2.0,
           1.0,
           "S - ATC Staffing",
           null,
           "None"
          ],
          [
           "36",
           7,
           29.0,
           38.666666666666664,
           "S - ATC Staffing",
           null,
           "None"
          ],
          [
           "12",
           38,
           4.0,
           1.3333333333333333,
           "S - ATC Staffing",
           "NOTAM B1133/18 REFERS.",
           "None"
          ],
          [
           "84",
           -9,
           -17.0,
           36.666666666666664,
           "S - ATC Staffing",
           null,
           "None"
          ],
          [
           "36",
           2,
           29.0,
           38.0,
           "S - ATC Staffing",
           "Radar Maintenance",
           "None"
          ],
          [
           "24",
           36,
           37.0,
           20.666666666666668,
           "S - ATC Staffing",
           null,
           "None"
          ],
          [
           "72",
           2,
           -12.0,
           31.666666666666668,
           "S - ATC Staffing",
           null,
           "None"
          ],
          [
           "84",
           -8,
           2.0,
           21.333333333333332,
           "S - ATC Staffing",
           null,
           "None"
          ],
          [
           "12",
           50,
           4.0,
           1.3333333333333333,
           "S - ATC Staffing",
           null,
           "None"
          ],
          [
           "24",
           28,
           50.0,
           28.333333333333332,
           "S - ATC Staffing",
           null,
           "None"
          ],
          [
           "24",
           24,
           28.0,
           20.0,
           "S - ATC Staffing",
           null,
           "None"
          ],
          [
           "72",
           -16,
           -19.0,
           37.666666666666664,
           "S - ATC Staffing",
           null,
           "None"
          ],
          [
           "48",
           -40,
           -5.0,
           31.333333333333332,
           "S - ATC Staffing",
           null,
           "None"
          ],
          [
           "12",
           46,
           5.0,
           1.6666666666666667,
           "S - ATC Staffing",
           null,
           "None"
          ],
          [
           "12",
           46,
           2.0,
           0.6666666666666666,
           "S - ATC Staffing",
           null,
           "None"
          ],
          [
           "0",
           4,
           -13.0,
           4.333333333333333,
           "S - ATC Staffing",
           null,
           "None"
          ],
          [
           "12",
           47,
           4.0,
           1.3333333333333333,
           "S - ATC Staffing",
           null,
           "None"
          ],
          [
           "84",
           -9,
           -7.0,
           38.0,
           "S - ATC Staffing",
           null,
           "None"
          ],
          [
           "24",
           36,
           47.0,
           23.666666666666668,
           "S - ATC Staffing",
           null,
           "None"
          ]
         ],
         "hovertemplate": "reg_type=%{customdata[4]}<br>recovery_rate=%{y}<br>tw_idx=%{customdata[0]}<br>capacity_change=%{customdata[1]}<br>prev_capacity_change=%{customdata[2]}<br>prev_avg_capacity=%{customdata[3]}<br>reg_cause=%{customdata[5]}<br>reg_bool_type=%{customdata[6]}<extra></extra>",
         "legendgroup": "S - ATC Staffing",
         "marker": {
          "color": "#00cc96",
          "symbol": "circle"
         },
         "name": "S - ATC Staffing",
         "notched": true,
         "offsetgroup": "S - ATC Staffing",
         "showlegend": false,
         "xaxis": "x2",
         "y": [
          1.8035829468368758,
          2.0184369363216645,
          1.4378934154197913,
          7.13067487264075,
          1.8119504221000169,
          2.19151165221722,
          2.280576096726257,
          1.545045307916958,
          0.9896492221578091,
          1.5853178711407663,
          1.287754952426462,
          1.5349661719959249,
          3.8406084051854417,
          2.020859103692064,
          1.4867996556312812,
          1.6727914627128035,
          1.9910878593225265,
          1.614689474096325,
          1.5766258395403172,
          2.0187796384081387,
          2.2264189586100787,
          1.3507151553318977,
          2.691681489372489,
          0.4281488368915332,
          1.3817285678778772,
          1.9376899414719897,
          1.6174870214087091,
          1.7844459190103994,
          1.9728745921238866,
          1.569272859745289,
          2.1180008532844603,
          2.3590779788050127,
          1.382752703258409,
          1.2721541652084216,
          3.275334616542408,
          1.8197770417853418,
          2.5676395998451977,
          2.457682710529078,
          1.859332813702789,
          1.4953331791226232,
          1.5393856993144626,
          0.9690441724410975,
          1.492700300411824,
          1.7677432570543223,
          1.6066213575819295,
          1.8806471645049618,
          1.5573564910713213,
          1.3822361358590594,
          1.3463098885087983,
          1.7838761901873792,
          1.6629786501750814,
          1.0730320977475267,
          1.2317775595525766,
          2.6293250500072523,
          1.3471447916674697,
          1.2876029377314349,
          1.4103387082362218,
          1.3757420387083414,
          2.4259537790309094,
          2.363245534304513,
          0.3845690235690235,
          2.5943175686091386,
          1.5077494580014201,
          1.3598648782144813
         ],
         "yaxis": "y2",
         "type": "box"
        },
        {
         "customdata": [
          [
           "84",
           -7,
           -11.0,
           25.666666666666668,
           "C - ATC Capacity",
           null,
           "None"
          ],
          [
           "12",
           9,
           0.0,
           0.0,
           "C - ATC Capacity",
           null,
           "None"
          ],
          [
           "24",
           10,
           9.0,
           5.666666666666667,
           "C - ATC Capacity",
           null,
           "None"
          ],
          [
           "12",
           6,
           0.0,
           0.0,
           "C - ATC Capacity",
           null,
           "None"
          ],
          [
           "24",
           -1,
           6.0,
           5.0,
           "C - ATC Capacity",
           null,
           "None"
          ],
          [
           "36",
           -20,
           -1.0,
           22.333333333333332,
           "C - ATC Capacity",
           "NETWORK CHERRY PICK",
           "None"
          ],
          [
           "48",
           -15,
           -20.0,
           28.333333333333332,
           "C - ATC Capacity",
           "NETWORK CHERRY PICK",
           "None"
          ],
          [
           "72",
           -13,
           4.0,
           25.0,
           "C - ATC Capacity",
           null,
           "None"
          ],
          [
           "12",
           3,
           0.0,
           0.0,
           "C - ATC Capacity",
           null,
           "None"
          ],
          [
           "48",
           -15,
           -11.0,
           22.333333333333332,
           "C - ATC Capacity",
           null,
           "None"
          ],
          [
           "72",
           4,
           13.0,
           32.333333333333336,
           "C - ATC Capacity",
           null,
           "None"
          ],
          [
           "48",
           -20,
           -26.0,
           29.333333333333332,
           "C - ATC Capacity",
           null,
           "None"
          ],
          [
           "60",
           18,
           -20.0,
           33.666666666666664,
           "C - ATC Capacity",
           null,
           "None"
          ],
          [
           "12",
           11,
           -1.0,
           0.3333333333333333,
           "C - ATC Capacity",
           null,
           "None"
          ],
          [
           "48",
           -22,
           -27.0,
           27.0,
           "C - ATC Capacity",
           null,
           "None"
          ],
          [
           "24",
           -23,
           16.0,
           9.666666666666666,
           "C - ATC Capacity",
           null,
           "None"
          ],
          [
           "36",
           -22,
           -23.0,
           33.666666666666664,
           "C - ATC Capacity",
           null,
           "None"
          ],
          [
           "72",
           14,
           10.0,
           34.666666666666664,
           "C - ATC Capacity",
           null,
           "None"
          ],
          [
           "12",
           9,
           0.0,
           0.0,
           "C - ATC Capacity",
           null,
           "None"
          ],
          [
           "24",
           15,
           9.0,
           7.0,
           "C - ATC Capacity",
           null,
           "None"
          ],
          [
           "36",
           -17,
           15.0,
           20.0,
           "C - ATC Capacity",
           null,
           "None"
          ],
          [
           "48",
           -15,
           -17.0,
           23.666666666666668,
           "C - ATC Capacity",
           null,
           "None"
          ],
          [
           "72",
           -10,
           4.0,
           28.0,
           "C - ATC Capacity",
           "NETWORK CHERRY PICK",
           "None"
          ],
          [
           "72",
           6,
           23.0,
           33.666666666666664,
           "C - ATC Capacity",
           null,
           "None"
          ],
          [
           "48",
           -18,
           -29.0,
           27.333333333333332,
           "C - ATC Capacity",
           null,
           "None"
          ],
          [
           "12",
           12,
           1.0,
           0.3333333333333333,
           "C - ATC Capacity",
           null,
           "None"
          ],
          [
           "24",
           12,
           12.0,
           7.0,
           "C - ATC Capacity",
           null,
           "None"
          ],
          [
           "60",
           8,
           -18.0,
           26.333333333333332,
           "C - ATC Capacity",
           null,
           "None"
          ],
          [
           "72",
           -1,
           8.0,
           32.333333333333336,
           "C - ATC Capacity",
           null,
           "None"
          ],
          [
           "84",
           -9,
           -1.0,
           36.333333333333336,
           "C - ATC Capacity",
           null,
           "None"
          ],
          [
           "48",
           -18,
           -24.0,
           33.333333333333336,
           "C - ATC Capacity",
           null,
           "None"
          ],
          [
           "48",
           -15,
           -35.0,
           34.333333333333336,
           "C - ATC Capacity",
           null,
           "None"
          ],
          [
           "48",
           -19,
           -34.0,
           30.333333333333332,
           "C - ATC Capacity",
           null,
           "None"
          ],
          [
           "36",
           -26,
           -11.0,
           36.666666666666664,
           "C - ATC Capacity",
           null,
           "None"
          ],
          [
           "36",
           -19,
           -13.0,
           32.666666666666664,
           "C - ATC Capacity",
           null,
           "None"
          ],
          [
           "36",
           -37,
           -17.0,
           32.333333333333336,
           "C - ATC Capacity",
           null,
           "None"
          ],
          [
           "48",
           -14,
           -37.0,
           32.666666666666664,
           "C - ATC Capacity",
           null,
           "None"
          ],
          [
           "60",
           15,
           -14.0,
           35.333333333333336,
           "C - ATC Capacity",
           null,
           "None"
          ],
          [
           "24",
           -7,
           14.0,
           7.666666666666667,
           "C - ATC Capacity",
           null,
           "None"
          ],
          [
           "48",
           -12,
           -29.0,
           31.333333333333332,
           "C - ATC Capacity",
           null,
           "None"
          ],
          [
           "24",
           -17,
           18.0,
           9.666666666666666,
           "C - ATC Capacity",
           "WIP in the TWR",
           "None"
          ],
          [
           "48",
           -14,
           -33.0,
           35.666666666666664,
           "C - ATC Capacity",
           null,
           "None"
          ],
          [
           "60",
           19,
           -14.0,
           40.333333333333336,
           "C - ATC Capacity",
           null,
           "None"
          ],
          [
           "12",
           12,
           -1.0,
           0.3333333333333333,
           "C - ATC Capacity",
           null,
           "None"
          ],
          [
           "60",
           7,
           2.0,
           29.0,
           "C - ATC Capacity",
           null,
           "None"
          ],
          [
           "84",
           -12,
           -9.0,
           17.666666666666668,
           "C - ATC Capacity",
           null,
           "None"
          ],
          [
           "0",
           -1,
           -11.0,
           5.0,
           "C - ATC Capacity",
           null,
           "None"
          ],
          [
           "12",
           8,
           -1.0,
           0.3333333333333333,
           "C - ATC Capacity",
           null,
           "None"
          ],
          [
           "24",
           15,
           8.0,
           6.0,
           "C - ATC Capacity",
           null,
           "None"
          ],
          [
           "72",
           4,
           16.0,
           34.0,
           "C - ATC Capacity",
           null,
           "None"
          ],
          [
           "24",
           -10,
           9.0,
           7.666666666666667,
           "C - ATC Capacity",
           null,
           "None"
          ],
          [
           "48",
           -1,
           -24.0,
           34.333333333333336,
           "C - ATC Capacity",
           null,
           "None"
          ],
          [
           "24",
           -17,
           11.0,
           7.333333333333333,
           "C - ATC Capacity",
           null,
           "None"
          ],
          [
           "36",
           -26,
           -17.0,
           36.666666666666664,
           "C - ATC Capacity",
           null,
           "None"
          ],
          [
           "48",
           4,
           -26.0,
           31.666666666666668,
           "C - ATC Capacity",
           null,
           "None"
          ],
          [
           "72",
           -5,
           13.0,
           31.333333333333332,
           "C - ATC Capacity",
           null,
           "None"
          ],
          [
           "60",
           15,
           -17.0,
           33.666666666666664,
           "C - ATC Capacity",
           null,
           "None"
          ],
          [
           "24",
           -10,
           15.0,
           8.0,
           "C - ATC Capacity",
           "WIP in the TWR",
           "None"
          ],
          [
           "48",
           -5,
           -29.0,
           32.0,
           "C - ATC Capacity",
           "NETWORK CHERRY PICK",
           "None"
          ],
          [
           "84",
           -16,
           8.0,
           33.333333333333336,
           "C - ATC Capacity",
           null,
           "None"
          ],
          [
           "12",
           11,
           0.0,
           0.0,
           "C - ATC Capacity",
           null,
           "None"
          ],
          [
           "12",
           3,
           0.0,
           0.0,
           "C - ATC Capacity",
           null,
           "None"
          ],
          [
           "24",
           1,
           3.0,
           6.333333333333333,
           "C - ATC Capacity",
           null,
           "None"
          ],
          [
           "36",
           -29,
           1.0,
           22.0,
           "C - ATC Capacity",
           "NETWORK CHERRY PICK",
           "None"
          ],
          [
           "24",
           -11,
           8.0,
           7.333333333333333,
           "C - ATC Capacity",
           "WIP in the TWR",
           "None"
          ],
          [
           "36",
           -27,
           -21.0,
           33.666666666666664,
           "C - ATC Capacity",
           null,
           "None"
          ],
          [
           "48",
           -5,
           -27.0,
           31.0,
           "C - ATC Capacity",
           null,
           "None"
          ],
          [
           "48",
           -7,
           -29.0,
           30.333333333333332,
           "C - ATC Capacity",
           null,
           "None"
          ],
          [
           "24",
           -14,
           13.0,
           8.0,
           "C - ATC Capacity",
           null,
           "None"
          ],
          [
           "36",
           -27,
           -14.0,
           36.666666666666664,
           "C - ATC Capacity",
           null,
           "None"
          ],
          [
           "48",
           -21,
           -27.0,
           34.333333333333336,
           "C - ATC Capacity",
           null,
           "None"
          ],
          [
           "60",
           11,
           -21.0,
           34.0,
           "C - ATC Capacity",
           null,
           "None"
          ],
          [
           "72",
           10,
           11.0,
           36.0,
           "C - ATC Capacity",
           null,
           "None"
          ],
          [
           "24",
           -15,
           12.0,
           8.333333333333334,
           "C - ATC Capacity",
           "WIP in the TWR",
           "None"
          ],
          [
           "24",
           -8,
           14.0,
           8.0,
           "C - ATC Capacity",
           "WIP in the TWR",
           "None"
          ],
          [
           "48",
           -23,
           -32.0,
           31.666666666666668,
           "C - ATC Capacity",
           null,
           "None"
          ],
          [
           "24",
           -14,
           14.0,
           9.0,
           "C - ATC Capacity",
           "WIP in the TWR",
           "None"
          ],
          [
           "48",
           -16,
           -32.0,
           31.333333333333332,
           "C - ATC Capacity",
           null,
           "None"
          ],
          [
           "72",
           3,
           12.0,
           33.333333333333336,
           "C - ATC Capacity",
           null,
           "None"
          ],
          [
           "84",
           -15,
           3.0,
           34.0,
           "C - ATC Capacity",
           null,
           "None"
          ],
          [
           "24",
           -18,
           12.0,
           7.333333333333333,
           "C - ATC Capacity",
           "WIP in the TWR",
           "None"
          ],
          [
           "36",
           -26,
           -18.0,
           37.333333333333336,
           "C - ATC Capacity",
           null,
           "None"
          ],
          [
           "72",
           -1,
           13.0,
           33.333333333333336,
           "C - ATC Capacity",
           null,
           "None"
          ],
          [
           "24",
           -12,
           16.0,
           8.333333333333334,
           "C - ATC Capacity",
           "WIP in the TWR",
           "None"
          ],
          [
           "36",
           -32,
           -12.0,
           37.666666666666664,
           "C - ATC Capacity",
           null,
           "None"
          ],
          [
           "48",
           -14,
           -32.0,
           34.333333333333336,
           "C - ATC Capacity",
           null,
           "None"
          ],
          [
           "24",
           -10,
           11.0,
           8.333333333333334,
           "C - ATC Capacity",
           "WIP in the TWR",
           "None"
          ],
          [
           "48",
           -19,
           -32.0,
           30.666666666666668,
           "C - ATC Capacity",
           null,
           "None"
          ],
          [
           "72",
           9,
           14.0,
           34.333333333333336,
           "C - ATC Capacity",
           null,
           "None"
          ],
          [
           "24",
           -18,
           15.0,
           9.333333333333334,
           "C - ATC Capacity",
           "WIP in the TWR",
           "None"
          ],
          [
           "48",
           -12,
           -32.0,
           32.333333333333336,
           "C - ATC Capacity",
           null,
           "None"
          ],
          [
           "36",
           -39,
           -16.0,
           35.333333333333336,
           "C - ATC Capacity",
           null,
           "None"
          ],
          [
           "48",
           -6,
           -39.0,
           35.0,
           "C - ATC Capacity",
           null,
           "None"
          ],
          [
           "12",
           10,
           0.0,
           0.3333333333333333,
           "C - ATC Capacity",
           null,
           "None"
          ],
          [
           "48",
           -8,
           -30.0,
           32.0,
           "C - ATC Capacity",
           null,
           "None"
          ],
          [
           "60",
           17,
           -8.0,
           28.333333333333332,
           "C - ATC Capacity",
           "Reg amended",
           "None"
          ],
          [
           "72",
           -5,
           17.0,
           27.333333333333332,
           "C - ATC Capacity",
           "Reg amended",
           "None"
          ],
          [
           "12",
           9,
           0.0,
           0.0,
           "C - ATC Capacity",
           null,
           "None"
          ],
          [
           "24",
           -1,
           9.0,
           7.0,
           "C - ATC Capacity",
           null,
           "None"
          ],
          [
           "36",
           -22,
           -1.0,
           21.0,
           "C - ATC Capacity",
           null,
           "None"
          ],
          [
           "24",
           -26,
           10.0,
           7.333333333333333,
           "C - ATC Capacity",
           "WIP in the TWR",
           "None"
          ],
          [
           "60",
           14,
           -8.0,
           34.666666666666664,
           "C - ATC Capacity",
           null,
           "None"
          ],
          [
           "72",
           7,
           14.0,
           34.0,
           "C - ATC Capacity",
           null,
           "None"
          ],
          [
           "24",
           -16,
           14.0,
           7.666666666666667,
           "C - ATC Capacity",
           null,
           "None"
          ],
          [
           "24",
           -20,
           13.0,
           8.0,
           "C - ATC Capacity",
           "WIP in the TWR.",
           "None"
          ],
          [
           "48",
           -6,
           -32.0,
           33.666666666666664,
           "C - ATC Capacity",
           null,
           "None"
          ],
          [
           "12",
           15,
           -1.0,
           0.3333333333333333,
           "C - ATC Capacity",
           null,
           "None"
          ],
          [
           "24",
           -8,
           15.0,
           8.333333333333334,
           "C - ATC Capacity",
           null,
           "None"
          ],
          [
           "36",
           -25,
           -8.0,
           32.333333333333336,
           "C - ATC Capacity",
           null,
           "None"
          ],
          [
           "48",
           -14,
           -25.0,
           31.0,
           "C - ATC Capacity",
           null,
           "None"
          ],
          [
           "12",
           26,
           0.0,
           0.0,
           "C - ATC Capacity",
           null,
           "None"
          ],
          [
           "24",
           27,
           26.0,
           18.333333333333332,
           "C - ATC Capacity",
           null,
           "None"
          ],
          [
           "72",
           -27,
           -17.0,
           38.666666666666664,
           "C - ATC Capacity",
           null,
           "None"
          ],
          [
           "48",
           -21,
           8.0,
           29.666666666666668,
           "C - ATC Capacity",
           null,
           "None"
          ],
          [
           "48",
           -31,
           8.0,
           23.666666666666668,
           "C - ATC Capacity",
           null,
           "None"
          ],
          [
           "72",
           -17,
           -13.0,
           36.333333333333336,
           "C - ATC Capacity",
           null,
           "None"
          ],
          [
           "24",
           18,
           41.0,
           21.333333333333332,
           "C - ATC Capacity",
           "NETWORK CHERRY PICK",
           "None"
          ],
          [
           "24",
           34,
           43.0,
           24.0,
           "C - ATC Capacity",
           null,
           "None"
          ],
          [
           "60",
           -6,
           -26.0,
           32.333333333333336,
           "C - ATC Capacity",
           null,
           "None"
          ],
          [
           "12",
           23,
           0.0,
           0.3333333333333333,
           "C - ATC Capacity",
           null,
           "None"
          ],
          [
           "12",
           6,
           2.0,
           0.6666666666666666,
           "C - ATC Capacity",
           null,
           "None"
          ],
          [
           "24",
           11,
           20.0,
           13.0,
           "C - ATC Capacity",
           null,
           "None"
          ],
          [
           "72",
           -15,
           -9.0,
           37.333333333333336,
           "C - ATC Capacity",
           null,
           "None"
          ],
          [
           "48",
           -38,
           7.0,
           25.666666666666668,
           "C - ATC Capacity",
           null,
           "None"
          ],
          [
           "36",
           4,
           20.0,
           33.0,
           "C - ATC Capacity",
           null,
           "None"
          ],
          [
           "60",
           -15,
           -34.0,
           33.0,
           "C - ATC Capacity",
           null,
           "None"
          ],
          [
           "36",
           8,
           21.0,
           30.333333333333332,
           "C - ATC Capacity",
           null,
           "None"
          ],
          [
           "48",
           -33,
           8.0,
           22.666666666666668,
           "C - ATC Capacity",
           null,
           "None"
          ],
          [
           "36",
           5,
           25.0,
           40.0,
           "C - ATC Capacity",
           null,
           "None"
          ],
          [
           "48",
           -29,
           5.0,
           33.0,
           "C - ATC Capacity",
           null,
           "None"
          ],
          [
           "36",
           0,
           -4.0,
           17.0,
           "C - ATC Capacity",
           null,
           "None"
          ],
          [
           "48",
           -19,
           0.0,
           13.666666666666666,
           "C - ATC Capacity",
           null,
           "None"
          ],
          [
           "48",
           -25,
           1.0,
           29.333333333333332,
           "C - ATC Capacity",
           null,
           "None"
          ],
          [
           "48",
           -36,
           -5.0,
           29.0,
           "C - ATC Capacity",
           null,
           "None"
          ],
          [
           "36",
           4,
           15.0,
           36.666666666666664,
           "C - ATC Capacity",
           null,
           "None"
          ],
          [
           "48",
           -23,
           4.0,
           31.0,
           "C - ATC Capacity",
           null,
           "None"
          ],
          [
           "72",
           -6,
           -19.0,
           40.666666666666664,
           "C - ATC Capacity",
           "WIP. NOTAM A0182/18.",
           "None"
          ],
          [
           "24",
           23,
           48.0,
           26.0,
           "C - ATC Capacity",
           null,
           "None"
          ],
          [
           "48",
           -35,
           9.0,
           26.333333333333332,
           "C - ATC Capacity",
           null,
           "None"
          ],
          [
           "84",
           -3,
           -19.0,
           31.0,
           "C - ATC Capacity",
           null,
           "None"
          ],
          [
           "72",
           -15,
           -15.0,
           41.0,
           "C - ATC Capacity",
           null,
           "None"
          ],
          [
           "48",
           -31,
           8.0,
           27.333333333333332,
           "C - ATC Capacity",
           null,
           "None"
          ],
          [
           "60",
           -22,
           -31.0,
           30.333333333333332,
           "C - ATC Capacity",
           null,
           "None"
          ],
          [
           "36",
           3,
           27.0,
           38.666666666666664,
           "C - ATC Capacity",
           "regul extended",
           "None"
          ],
          [
           "84",
           -4,
           -15.0,
           32.666666666666664,
           "C - ATC Capacity",
           null,
           "None"
          ],
          [
           "48",
           -38,
           4.0,
           26.333333333333332,
           "C - ATC Capacity",
           null,
           "None"
          ],
          [
           "36",
           -6,
           23.0,
           36.666666666666664,
           "C - ATC Capacity",
           null,
           "None"
          ],
          [
           "48",
           -31,
           -6.0,
           30.666666666666668,
           "C - ATC Capacity",
           "APP service for LFCR",
           "None"
          ],
          [
           "72",
           -17,
           -22.0,
           40.333333333333336,
           "C - ATC Capacity",
           "APP service for LFCR",
           "None"
          ],
          [
           "36",
           3,
           36.0,
           39.333333333333336,
           "C - ATC Capacity",
           null,
           "None"
          ],
          [
           "72",
           -21,
           -13.0,
           39.0,
           "C - ATC Capacity",
           "REG EXTENDED",
           "None"
          ],
          [
           "24",
           10,
           25.0,
           15.666666666666666,
           "C - ATC Capacity",
           "APP service for LFCR",
           "None"
          ],
          [
           "48",
           -26,
           -4.0,
           25.333333333333332,
           "C - ATC Capacity",
           null,
           "None"
          ],
          [
           "24",
           22,
           26.0,
           14.666666666666666,
           "C - ATC Capacity",
           "NETWORK CHERRY PICK",
           "None"
          ],
          [
           "36",
           2,
           22.0,
           31.333333333333332,
           "C - ATC Capacity",
           null,
           "None"
          ],
          [
           "48",
           -27,
           2.0,
           27.0,
           "C - ATC Capacity",
           ".",
           "None"
          ],
          [
           "72",
           -19,
           -17.0,
           40.333333333333336,
           "C - ATC Capacity",
           "REGULATION EXTENDED",
           "None"
          ],
          [
           "24",
           21,
           47.0,
           27.0,
           "C - ATC Capacity",
           "APP service for LFCR",
           "None"
          ],
          [
           "36",
           -1,
           21.0,
           39.333333333333336,
           "C - ATC Capacity",
           null,
           "None"
          ],
          [
           "24",
           20,
           48.0,
           27.333333333333332,
           "C - ATC Capacity",
           null,
           "None"
          ],
          [
           "48",
           -19,
           -2.0,
           32.333333333333336,
           "C - ATC Capacity",
           null,
           "None"
          ],
          [
           "72",
           -17,
           -17.0,
           32.666666666666664,
           "C - ATC Capacity",
           "REG EXTENDED",
           "None"
          ],
          [
           "24",
           22,
           47.0,
           25.333333333333332,
           "C - ATC Capacity",
           "APP service for LFCR",
           "None"
          ],
          [
           "36",
           -1,
           18.0,
           39.666666666666664,
           "C - ATC Capacity",
           null,
           "None"
          ],
          [
           "24",
           27,
           47.0,
           26.666666666666668,
           "C - ATC Capacity",
           "APP service for LFCR",
           "None"
          ],
          [
           "24",
           12,
           21.0,
           15.0,
           "C - ATC Capacity",
           null,
           "None"
          ],
          [
           "48",
           -33,
           13.0,
           26.333333333333332,
           "C - ATC Capacity",
           null,
           "None"
          ],
          [
           "36",
           14,
           24.0,
           29.666666666666668,
           "C - ATC Capacity",
           null,
           "None"
          ],
          [
           "36",
           0,
           25.0,
           38.0,
           "C - ATC Capacity",
           null,
           "None"
          ],
          [
           "36",
           3,
           22.0,
           38.333333333333336,
           "C - ATC Capacity",
           null,
           "None"
          ],
          [
           "24",
           32,
           43.0,
           27.0,
           "C - ATC Capacity",
           null,
           "None"
          ],
          [
           "48",
           -40,
           -2.0,
           30.0,
           "C - ATC Capacity",
           null,
           "None"
          ],
          [
           "84",
           -6,
           -19.0,
           37.0,
           "C - ATC Capacity",
           null,
           "None"
          ],
          [
           "24",
           21,
           43.0,
           26.666666666666668,
           "C - ATC Capacity",
           null,
           "None"
          ],
          [
           "36",
           5,
           21.0,
           41.666666666666664,
           "C - ATC Capacity",
           null,
           "None"
          ],
          [
           "72",
           -18,
           -10.0,
           40.666666666666664,
           "C - ATC Capacity",
           null,
           "None"
          ],
          [
           "84",
           -10,
           -18.0,
           35.333333333333336,
           "C - ATC Capacity",
           null,
           "None"
          ],
          [
           "36",
           17,
           29.0,
           37.0,
           "C - ATC Capacity",
           null,
           "None"
          ],
          [
           "48",
           -32,
           17.0,
           30.666666666666668,
           "C - ATC Capacity",
           null,
           "None"
          ],
          [
           "84",
           -10,
           -24.0,
           25.333333333333332,
           "C - ATC Capacity",
           null,
           "None"
          ],
          [
           "24",
           26,
           27.0,
           15.0,
           "C - ATC Capacity",
           "NETWORK CHERRY PICK",
           "None"
          ],
          [
           "36",
           2,
           27.0,
           38.666666666666664,
           "C - ATC Capacity",
           null,
           "None"
          ],
          [
           "24",
           28,
           43.0,
           24.333333333333332,
           "C - ATC Capacity",
           null,
           "None"
          ],
          [
           "36",
           8,
           28.0,
           37.666666666666664,
           "C - ATC Capacity",
           null,
           "None"
          ],
          [
           "48",
           -22,
           8.0,
           31.666666666666668,
           "C - ATC Capacity",
           null,
           "None"
          ],
          [
           "36",
           9,
           21.0,
           38.0,
           "C - ATC Capacity",
           null,
           "None"
          ],
          [
           "48",
           -29,
           9.0,
           30.333333333333332,
           "C - ATC Capacity",
           null,
           "None"
          ],
          [
           "84",
           -12,
           -24.0,
           32.333333333333336,
           "C - ATC Capacity",
           null,
           "None"
          ],
          [
           "36",
           0,
           25.0,
           29.333333333333332,
           "C - ATC Capacity",
           null,
           "None"
          ],
          [
           "48",
           -35,
           0.0,
           25.333333333333332,
           "C - ATC Capacity",
           null,
           "None"
          ],
          [
           "12",
           44,
           3.0,
           1.3333333333333333,
           "C - ATC Capacity",
           null,
           "None"
          ],
          [
           "36",
           0,
           28.0,
           39.666666666666664,
           "C - ATC Capacity",
           null,
           "None"
          ],
          [
           "48",
           -35,
           0.0,
           30.666666666666668,
           "C - ATC Capacity",
           "REG EXTENDED",
           "None"
          ],
          [
           "84",
           -9,
           -8.0,
           31.0,
           "C - ATC Capacity",
           null,
           "None"
          ],
          [
           "84",
           -6,
           -23.0,
           28.0,
           "C - ATC Capacity",
           null,
           "None"
          ],
          [
           "36",
           3,
           31.0,
           36.666666666666664,
           "C - ATC Capacity",
           null,
           "None"
          ],
          [
           "48",
           -35,
           3.0,
           29.666666666666668,
           "C - ATC Capacity",
           null,
           "None"
          ],
          [
           "36",
           -2,
           23.0,
           36.333333333333336,
           "C - ATC Capacity",
           null,
           "None"
          ],
          [
           "48",
           -17,
           -2.0,
           29.666666666666668,
           "C - ATC Capacity",
           null,
           "None"
          ],
          [
           "36",
           7,
           37.0,
           35.333333333333336,
           "C - ATC Capacity",
           null,
           "None"
          ],
          [
           "84",
           -6,
           -11.0,
           27.333333333333332,
           "C - ATC Capacity",
           null,
           "None"
          ],
          [
           "48",
           -38,
           7.0,
           28.0,
           "C - ATC Capacity",
           null,
           "None"
          ],
          [
           "84",
           -10,
           -25.0,
           35.666666666666664,
           "C - ATC Capacity",
           null,
           "None"
          ],
          [
           "24",
           24,
           47.0,
           24.0,
           "C - ATC Capacity",
           null,
           "None"
          ],
          [
           "36",
           7,
           28.0,
           40.333333333333336,
           "C - ATC Capacity",
           null,
           "None"
          ],
          [
           "48",
           -34,
           7.0,
           32.0,
           "C - ATC Capacity",
           null,
           "None"
          ],
          [
           "48",
           -30,
           2.0,
           34.333333333333336,
           "C - ATC Capacity",
           null,
           "None"
          ],
          [
           "60",
           -14,
           -30.0,
           32.666666666666664,
           "C - ATC Capacity",
           null,
           "None"
          ],
          [
           "24",
           27,
           42.0,
           26.666666666666668,
           "C - ATC Capacity",
           null,
           "None"
          ],
          [
           "36",
           1,
           27.0,
           38.333333333333336,
           "C - ATC Capacity",
           null,
           "None"
          ],
          [
           "48",
           -28,
           1.0,
           32.333333333333336,
           "C - ATC Capacity",
           null,
           "None"
          ],
          [
           "84",
           -16,
           -4.0,
           24.333333333333332,
           "C - ATC Capacity",
           null,
           "None"
          ],
          [
           "24",
           33,
           46.0,
           26.666666666666668,
           "C - ATC Capacity",
           null,
           "None"
          ],
          [
           "48",
           -17,
           -6.0,
           30.333333333333332,
           "C - ATC Capacity",
           null,
           "None"
          ],
          [
           "36",
           6,
           36.0,
           40.333333333333336,
           "C - ATC Capacity",
           null,
           "None"
          ],
          [
           "48",
           -34,
           6.0,
           27.0,
           "C - ATC Capacity",
           null,
           "None"
          ],
          [
           "36",
           6,
           29.0,
           31.666666666666668,
           "C - ATC Capacity",
           "REGULATION EXTENDED",
           "None"
          ],
          [
           "72",
           -15,
           -8.0,
           36.0,
           "C - ATC Capacity",
           null,
           "None"
          ],
          [
           "84",
           -11,
           -15.0,
           33.666666666666664,
           "C - ATC Capacity",
           null,
           "None"
          ],
          [
           "36",
           4,
           30.0,
           41.0,
           "C - ATC Capacity",
           null,
           "None"
          ],
          [
           "48",
           -35,
           4.0,
           32.666666666666664,
           "C - ATC Capacity",
           null,
           "None"
          ],
          [
           "24",
           16,
           44.0,
           25.0,
           "C - ATC Capacity",
           null,
           "None"
          ],
          [
           "36",
           0,
           16.0,
           40.666666666666664,
           "C - ATC Capacity",
           null,
           "None"
          ],
          [
           "48",
           -28,
           0.0,
           33.333333333333336,
           "C - ATC Capacity",
           "REG EXT",
           "None"
          ],
          [
           "72",
           -3,
           -22.0,
           33.666666666666664,
           "C - ATC Capacity",
           null,
           "None"
          ],
          [
           "84",
           -12,
           -3.0,
           16.0,
           "C - ATC Capacity",
           null,
           "None"
          ],
          [
           "24",
           27,
           44.0,
           27.0,
           "C - ATC Capacity",
           null,
           "None"
          ],
          [
           "36",
           0,
           27.0,
           39.0,
           "C - ATC Capacity",
           null,
           "None"
          ],
          [
           "36",
           -2,
           28.0,
           39.666666666666664,
           "C - ATC Capacity",
           null,
           "None"
          ],
          [
           "48",
           -20,
           -2.0,
           31.666666666666668,
           "C - ATC Capacity",
           null,
           "None"
          ],
          [
           "72",
           -20,
           -15.0,
           39.0,
           "C - ATC Capacity",
           null,
           "None"
          ],
          [
           "36",
           0,
           29.0,
           36.0,
           "C - ATC Capacity",
           null,
           "None"
          ],
          [
           "48",
           -29,
           0.0,
           31.666666666666668,
           "C - ATC Capacity",
           null,
           "None"
          ],
          [
           "36",
           -1,
           24.0,
           33.0,
           "C - ATC Capacity",
           "REG EXTENDED",
           "None"
          ],
          [
           "60",
           -12,
           -23.0,
           37.333333333333336,
           "C - ATC Capacity",
           null,
           "None"
          ],
          [
           "84",
           -13,
           -29.0,
           34.0,
           "C - ATC Capacity",
           null,
           "None"
          ],
          [
           "24",
           27,
           48.0,
           27.333333333333332,
           "C - ATC Capacity",
           "NETWORK CHERRY PICK",
           "None"
          ],
          [
           "24",
           36,
           49.0,
           27.0,
           "C - ATC Capacity",
           null,
           "None"
          ],
          [
           "36",
           -1,
           36.0,
           39.666666666666664,
           "C - ATC Capacity",
           null,
           "None"
          ],
          [
           "48",
           -28,
           -1.0,
           30.0,
           "C - ATC Capacity",
           null,
           "None"
          ],
          [
           "60",
           -19,
           -28.0,
           34.666666666666664,
           "C - ATC Capacity",
           null,
           "None"
          ],
          [
           "24",
           21,
           49.0,
           27.333333333333332,
           "C - ATC Capacity",
           null,
           "None"
          ],
          [
           "36",
           -1,
           21.0,
           41.0,
           "C - ATC Capacity",
           null,
           "None"
          ],
          [
           "36",
           -2,
           27.0,
           42.0,
           "C - ATC Capacity",
           null,
           "None"
          ],
          [
           "24",
           21,
           46.0,
           22.666666666666668,
           "C - ATC Capacity",
           null,
           "None"
          ],
          [
           "48",
           -36,
           4.0,
           31.0,
           "C - ATC Capacity",
           null,
           "None"
          ],
          [
           "84",
           -8,
           -24.0,
           24.666666666666668,
           "C - ATC Capacity",
           null,
           "None"
          ],
          [
           "24",
           31,
           37.0,
           20.0,
           "C - ATC Capacity",
           null,
           "None"
          ],
          [
           "48",
           -32,
           13.0,
           29.0,
           "C - ATC Capacity",
           null,
           "None"
          ],
          [
           "72",
           -29,
           -20.0,
           38.0,
           "C - ATC Capacity",
           null,
           "None"
          ],
          [
           "12",
           53,
           4.0,
           1.3333333333333333,
           "C - ATC Capacity",
           null,
           "None"
          ],
          [
           "24",
           41,
           53.0,
           27.333333333333332,
           "C - ATC Capacity",
           null,
           "None"
          ],
          [
           "36",
           -5,
           41.0,
           36.666666666666664,
           "C - ATC Capacity",
           null,
           "None"
          ],
          [
           "60",
           -21,
           -40.0,
           31.0,
           "C - ATC Capacity",
           null,
           "None"
          ],
          [
           "72",
           -16,
           -21.0,
           42.666666666666664,
           "C - ATC Capacity",
           "reg amended",
           "None"
          ],
          [
           "24",
           27,
           46.0,
           25.333333333333332,
           "C - ATC Capacity",
           null,
           "None"
          ],
          [
           "36",
           5,
           27.0,
           41.0,
           "C - ATC Capacity",
           null,
           "None"
          ],
          [
           "48",
           -39,
           5.0,
           31.0,
           "C - ATC Capacity",
           null,
           "None"
          ],
          [
           "24",
           29,
           46.0,
           26.666666666666668,
           "C - ATC Capacity",
           null,
           "None"
          ],
          [
           "24",
           20,
           47.0,
           27.0,
           "C - ATC Capacity",
           null,
           "None"
          ],
          [
           "48",
           -31,
           -3.0,
           33.666666666666664,
           "C - ATC Capacity",
           null,
           "None"
          ],
          [
           "72",
           -8,
           -13.0,
           41.666666666666664,
           "C - ATC Capacity",
           null,
           "None"
          ],
          [
           "84",
           -13,
           -8.0,
           35.666666666666664,
           "C - ATC Capacity",
           null,
           "None"
          ],
          [
           "12",
           46,
           4.0,
           1.3333333333333333,
           "C - ATC Capacity",
           null,
           "None"
          ],
          [
           "48",
           -12,
           -4.0,
           31.666666666666668,
           "C - ATC Capacity",
           null,
           "None"
          ],
          [
           "12",
           47,
           4.0,
           1.3333333333333333,
           "C - ATC Capacity",
           null,
           "None"
          ],
          [
           "72",
           -17,
           -19.0,
           32.0,
           "C - ATC Capacity",
           null,
           "None"
          ],
          [
           "84",
           -6,
           -17.0,
           27.0,
           "C - ATC Capacity",
           null,
           "None"
          ]
         ],
         "hovertemplate": "reg_type=%{customdata[4]}<br>date_idx=%{x}<br>recovery_rate=%{y}<br>tw_idx=%{customdata[0]}<br>capacity_change=%{customdata[1]}<br>prev_capacity_change=%{customdata[2]}<br>prev_avg_capacity=%{customdata[3]}<br>reg_cause=%{customdata[5]}<br>reg_bool_type=%{customdata[6]}<extra></extra>",
         "legendgroup": "C - ATC Capacity",
         "marker": {
          "color": "#ab63fa",
          "symbol": "circle"
         },
         "mode": "markers",
         "name": "C - ATC Capacity",
         "showlegend": true,
         "x": [
          "2018-01-01",
          "2018-01-02",
          "2018-01-02",
          "2018-01-06",
          "2018-01-06",
          "2018-01-06",
          "2018-01-06",
          "2018-01-06",
          "2018-01-07",
          "2018-01-07",
          "2018-01-11",
          "2018-01-12",
          "2018-01-12",
          "2018-01-13",
          "2018-01-13",
          "2018-01-15",
          "2018-01-15",
          "2018-01-15",
          "2018-01-21",
          "2018-01-21",
          "2018-01-21",
          "2018-01-21",
          "2018-01-22",
          "2018-01-24",
          "2018-01-27",
          "2018-01-28",
          "2018-01-28",
          "2018-01-28",
          "2018-01-28",
          "2018-01-28",
          "2018-01-29",
          "2018-02-01",
          "2018-02-02",
          "2018-02-06",
          "2018-02-08",
          "2018-02-09",
          "2018-02-09",
          "2018-02-09",
          "2018-02-10",
          "2018-02-12",
          "2018-02-13",
          "2018-02-16",
          "2018-02-16",
          "2018-02-17",
          "2018-02-17",
          "2018-02-17",
          "2018-02-18",
          "2018-02-18",
          "2018-02-18",
          "2018-02-18",
          "2018-02-19",
          "2018-02-19",
          "2018-02-20",
          "2018-02-20",
          "2018-02-20",
          "2018-02-20",
          "2018-02-21",
          "2018-02-22",
          "2018-02-22",
          "2018-02-22",
          "2018-02-24",
          "2018-02-25",
          "2018-02-25",
          "2018-02-25",
          "2018-02-27",
          "2018-02-28",
          "2018-02-28",
          "2018-03-02",
          "2018-03-05",
          "2018-03-05",
          "2018-03-05",
          "2018-03-05",
          "2018-03-05",
          "2018-03-06",
          "2018-03-07",
          "2018-03-07",
          "2018-03-08",
          "2018-03-08",
          "2018-03-08",
          "2018-03-08",
          "2018-03-09",
          "2018-03-09",
          "2018-03-09",
          "2018-03-12",
          "2018-03-12",
          "2018-03-12",
          "2018-03-13",
          "2018-03-13",
          "2018-03-14",
          "2018-03-15",
          "2018-03-15",
          "2018-03-16",
          "2018-03-16",
          "2018-03-17",
          "2018-03-17",
          "2018-03-17",
          "2018-03-17",
          "2018-03-18",
          "2018-03-18",
          "2018-03-18",
          "2018-03-20",
          "2018-03-20",
          "2018-03-20",
          "2018-03-21",
          "2018-03-23",
          "2018-03-23",
          "2018-03-24",
          "2018-03-24",
          "2018-03-24",
          "2018-03-24",
          "2018-03-25",
          "2018-03-25",
          "2018-03-25",
          "2018-03-26",
          "2018-03-27",
          "2018-03-27",
          "2018-03-28",
          "2018-03-29",
          "2018-03-29",
          "2018-03-31",
          "2018-04-01",
          "2018-04-02",
          "2018-04-02",
          "2018-04-04",
          "2018-04-05",
          "2018-04-05",
          "2018-04-08",
          "2018-04-08",
          "2018-04-09",
          "2018-04-09",
          "2018-04-10",
          "2018-04-10",
          "2018-04-11",
          "2018-04-12",
          "2018-04-13",
          "2018-04-13",
          "2018-04-13",
          "2018-04-16",
          "2018-04-17",
          "2018-04-18",
          "2018-04-20",
          "2018-04-21",
          "2018-04-21",
          "2018-04-23",
          "2018-04-23",
          "2018-04-24",
          "2018-04-26",
          "2018-04-26",
          "2018-04-26",
          "2018-04-27",
          "2018-04-27",
          "2018-04-30",
          "2018-04-30",
          "2018-05-01",
          "2018-05-01",
          "2018-05-01",
          "2018-05-01",
          "2018-05-03",
          "2018-05-03",
          "2018-05-04",
          "2018-05-04",
          "2018-05-05",
          "2018-05-07",
          "2018-05-08",
          "2018-05-09",
          "2018-05-11",
          "2018-05-12",
          "2018-05-13",
          "2018-05-15",
          "2018-05-16",
          "2018-05-17",
          "2018-05-17",
          "2018-05-17",
          "2018-05-18",
          "2018-05-18",
          "2018-05-18",
          "2018-05-18",
          "2018-05-19",
          "2018-05-19",
          "2018-05-19",
          "2018-05-20",
          "2018-05-22",
          "2018-05-23",
          "2018-05-23",
          "2018-05-23",
          "2018-05-24",
          "2018-05-24",
          "2018-05-24",
          "2018-05-27",
          "2018-05-27",
          "2018-05-28",
          "2018-05-28",
          "2018-05-28",
          "2018-05-28",
          "2018-05-29",
          "2018-05-31",
          "2018-05-31",
          "2018-06-01",
          "2018-06-01",
          "2018-06-02",
          "2018-06-02",
          "2018-06-03",
          "2018-06-03",
          "2018-06-04",
          "2018-06-05",
          "2018-06-05",
          "2018-06-06",
          "2018-06-06",
          "2018-06-07",
          "2018-06-07",
          "2018-06-07",
          "2018-06-07",
          "2018-06-08",
          "2018-06-08",
          "2018-06-09",
          "2018-06-09",
          "2018-06-10",
          "2018-06-10",
          "2018-06-10",
          "2018-06-11",
          "2018-06-11",
          "2018-06-12",
          "2018-06-12",
          "2018-06-12",
          "2018-06-12",
          "2018-06-12",
          "2018-06-14",
          "2018-06-14",
          "2018-06-15",
          "2018-06-15",
          "2018-06-15",
          "2018-06-16",
          "2018-06-16",
          "2018-06-17",
          "2018-06-17",
          "2018-06-17",
          "2018-06-19",
          "2018-06-20",
          "2018-06-20",
          "2018-06-20",
          "2018-06-20",
          "2018-06-21",
          "2018-06-21",
          "2018-06-22",
          "2018-06-23",
          "2018-06-23",
          "2018-06-23",
          "2018-06-24",
          "2018-06-24",
          "2018-06-24",
          "2018-06-25",
          "2018-06-25",
          "2018-06-25",
          "2018-06-25",
          "2018-06-25",
          "2018-06-26",
          "2018-06-26",
          "2018-06-26",
          "2018-06-27",
          "2018-06-28",
          "2018-06-28",
          "2018-06-28",
          "2018-06-28",
          "2018-06-29",
          "2018-06-29",
          "2018-06-30",
          "2018-06-30",
          "2018-06-30"
         ],
         "xaxis": "x",
         "y": [
          1.1925467651191053,
          0.7682780851476865,
          2.5235035585575716,
          0.2814857649767441,
          3.5804970786392585,
          1.904161150860089,
          1.161398841859823,
          1.3009635804488098,
          0.6454428550935813,
          2.0052787121414677,
          2.942208388041641,
          2.4696119108391463,
          2.1372886427636812,
          0.8693542102558653,
          2.0358459707340573,
          2.9887682213587228,
          2.752055930463977,
          1.5702473123426468,
          0.8061684248946231,
          3.036175493641252,
          1.7945078955381721,
          0.6300355087307777,
          2.0351326616633694,
          2.197646551914338,
          2.735288105634737,
          1.1854687990732264,
          4.096308276101673,
          3.084064203414031,
          1.6842061589198996,
          1.387425194146064,
          2.2924095547422065,
          1.3902892841550867,
          2.5088718825692,
          2.666073241223415,
          0.9853936754928422,
          2.0770867883027195,
          1.7159633536875376,
          2.049145274463816,
          3.9411924033730923,
          2.108247123519264,
          3.1800887690673867,
          2.545300725849916,
          2.1557398070887794,
          0.7964264428616054,
          0.3307425711671657,
          1.217662311408443,
          1.038426873385013,
          0.6455157055066383,
          1.9105635261627192,
          0.6995245803923125,
          1.9391511614354642,
          0.983061758483362,
          1.548447447188882,
          -0.1628542333978705,
          0.8401330561732654,
          1.2150000507608574,
          1.7023698758510137,
          3.6675303868569986,
          1.7604123351992338,
          1.3417885851484361,
          0.9524746810298653,
          0.6487086989201197,
          3.398010634349709,
          2.248036230250811,
          3.400706555514735,
          1.979171375125491,
          1.69978822434286,
          2.5026441797646197,
          2.9422024021771156,
          2.1288151834467244,
          2.074263929162506,
          2.6449471285646555,
          1.660450728390049,
          3.963994659505881,
          4.353382309740148,
          2.4435028403120587,
          3.420850528915175,
          1.4768579480072472,
          1.9467795495365023,
          1.3630604028606135,
          3.314420175311568,
          0.7145962955617117,
          1.7721663829640848,
          2.208930574785654,
          1.4300569205489324,
          1.610566407239685,
          3.7363318043841263,
          2.559827068600514,
          1.7461189263933876,
          2.156940344408431,
          2.4739139497469984,
          1.4542280365497664,
          2.788097083030565,
          0.6304338613751804,
          1.5514934574424257,
          2.528388713571261,
          1.0159857019251979,
          0.5072424034511003,
          1.087829733789598,
          0.4148434571424015,
          2.885699938691626,
          2.2578949083863207,
          0.9806417401981943,
          2.6558964923830324,
          2.2645191493371652,
          2.2445930931272406,
          0.5753385281668246,
          2.4526672930417415,
          1.9193529477398732,
          1.479441307132803,
          1.5027141310795804,
          1.621759207516043,
          1.2433032005109799,
          2.4670963997189386,
          2.6318583590049185,
          2.37254044292138,
          1.8104352182924914,
          1.6257761536626247,
          2.5415072064129807,
          1.5275187227999418,
          1.218023121186278,
          2.679438663089691,
          2.072201920452391,
          2.0644450486828725,
          2.0335379117561883,
          3.0702635077035234,
          1.756434742504775,
          3.4611229367517975,
          1.7747865685630053,
          1.6405938024709183,
          0.5416688930096736,
          1.6993604361441341,
          1.8835352708556534,
          2.061905465812419,
          1.7610453146993859,
          1.5298122761581063,
          1.2550994761024359,
          1.5717447392983588,
          2.2210544214973376,
          2.727353237220497,
          2.2100831602502087,
          1.799771054582031,
          3.778410022067951,
          1.8665623700415264,
          1.4420385927475872,
          2.4483472939833795,
          1.73199999832329,
          2.432094037719078,
          2.4912451187370337,
          1.3520705503998531,
          1.7694745189285115,
          2.206500809059734,
          2.799388048529297,
          1.6582401600484653,
          2.155549241649336,
          1.9937309871970668,
          1.450754808438866,
          1.944147318264583,
          1.8891130858313037,
          1.8021918371673475,
          2.1374293878002586,
          1.7958688869054602,
          2.097042415575926,
          3.572139034432108,
          1.575817363072716,
          1.5180207187067627,
          2.030332416761049,
          1.669661248858436,
          1.299763455558761,
          1.3756698714412479,
          1.503306896581486,
          2.057060192708522,
          1.4258034012141632,
          1.5105142130790932,
          1.5077882306652148,
          1.611041286978646,
          1.7097676001862396,
          1.4347346641384875,
          1.0660701558781973,
          1.4036627436938574,
          1.7483473903221824,
          2.318106247161869,
          1.755928424235934,
          1.7866290576681576,
          1.156761108665887,
          1.4706579931451125,
          1.088961795534175,
          1.2022954348072195,
          1.3635526874766792,
          2.089681991788956,
          2.1804848586794994,
          1.658747540061328,
          1.1641544156185935,
          1.6505984107776936,
          1.607975389903132,
          1.36272712075862,
          1.4435405448934946,
          1.5370461949132597,
          1.6985736159994789,
          1.2979213662002653,
          1.2959091884360092,
          1.5123186404754805,
          1.8732365084757951,
          1.5342573379343758,
          1.4525998459666316,
          1.6518502326134217,
          1.25928407195387,
          -0.3008388380254212,
          1.4239158401142389,
          1.4511662984276028,
          1.6984908372856617,
          1.4765705092706405,
          1.3863020916294924,
          1.826070465970873,
          1.0500335433821193,
          0.619163048566332,
          1.3284501421617663,
          1.3028322964699752,
          1.1761237901795205,
          1.1115277336442677,
          1.4630421574798653,
          1.5228925840181604,
          1.6397754983278665,
          -1.0189578723471864,
          0.4143395877963537,
          1.4381478285833826,
          1.659742013993024,
          1.1107255671105862,
          1.5411056435144808,
          1.6939635019899897,
          1.349762171798322,
          0.6461557998388181,
          1.4197418866320233,
          1.3336059997481593,
          2.738390056304953,
          1.7103249749225056,
          1.5402396924944008,
          1.9493767759241118,
          1.265874924500187,
          1.7323940376023537,
          1.8079705275847229,
          1.362712944465071,
          0.9829439026947698,
          1.4760111332331374,
          1.6922850823771756,
          1.378883771354258,
          1.509743299480187,
          1.5517676780092617,
          1.992204893969303,
          1.7040218901064699,
          1.9756895720382277,
          1.357311208413803,
          1.3557157167194953,
          2.12236958763838,
          1.9621344309569864,
          1.6042429208957651,
          2.3545191650226966,
          2.5497980778197022,
          1.7165534863645968,
          1.500553828556926,
          1.26226587175427,
          0.8527113046063002,
          1.386458404663324,
          3.066794614456683,
          1.6752226190648905,
          1.6707805136285487,
          1.7030560300926092,
          1.2889374364516486
         ],
         "yaxis": "y",
         "type": "scattergl"
        },
        {
         "alignmentgroup": "True",
         "customdata": [
          [
           "84",
           -7,
           -11.0,
           25.666666666666668,
           "C - ATC Capacity",
           null,
           "None"
          ],
          [
           "12",
           9,
           0.0,
           0.0,
           "C - ATC Capacity",
           null,
           "None"
          ],
          [
           "24",
           10,
           9.0,
           5.666666666666667,
           "C - ATC Capacity",
           null,
           "None"
          ],
          [
           "12",
           6,
           0.0,
           0.0,
           "C - ATC Capacity",
           null,
           "None"
          ],
          [
           "24",
           -1,
           6.0,
           5.0,
           "C - ATC Capacity",
           null,
           "None"
          ],
          [
           "36",
           -20,
           -1.0,
           22.333333333333332,
           "C - ATC Capacity",
           "NETWORK CHERRY PICK",
           "None"
          ],
          [
           "48",
           -15,
           -20.0,
           28.333333333333332,
           "C - ATC Capacity",
           "NETWORK CHERRY PICK",
           "None"
          ],
          [
           "72",
           -13,
           4.0,
           25.0,
           "C - ATC Capacity",
           null,
           "None"
          ],
          [
           "12",
           3,
           0.0,
           0.0,
           "C - ATC Capacity",
           null,
           "None"
          ],
          [
           "48",
           -15,
           -11.0,
           22.333333333333332,
           "C - ATC Capacity",
           null,
           "None"
          ],
          [
           "72",
           4,
           13.0,
           32.333333333333336,
           "C - ATC Capacity",
           null,
           "None"
          ],
          [
           "48",
           -20,
           -26.0,
           29.333333333333332,
           "C - ATC Capacity",
           null,
           "None"
          ],
          [
           "60",
           18,
           -20.0,
           33.666666666666664,
           "C - ATC Capacity",
           null,
           "None"
          ],
          [
           "12",
           11,
           -1.0,
           0.3333333333333333,
           "C - ATC Capacity",
           null,
           "None"
          ],
          [
           "48",
           -22,
           -27.0,
           27.0,
           "C - ATC Capacity",
           null,
           "None"
          ],
          [
           "24",
           -23,
           16.0,
           9.666666666666666,
           "C - ATC Capacity",
           null,
           "None"
          ],
          [
           "36",
           -22,
           -23.0,
           33.666666666666664,
           "C - ATC Capacity",
           null,
           "None"
          ],
          [
           "72",
           14,
           10.0,
           34.666666666666664,
           "C - ATC Capacity",
           null,
           "None"
          ],
          [
           "12",
           9,
           0.0,
           0.0,
           "C - ATC Capacity",
           null,
           "None"
          ],
          [
           "24",
           15,
           9.0,
           7.0,
           "C - ATC Capacity",
           null,
           "None"
          ],
          [
           "36",
           -17,
           15.0,
           20.0,
           "C - ATC Capacity",
           null,
           "None"
          ],
          [
           "48",
           -15,
           -17.0,
           23.666666666666668,
           "C - ATC Capacity",
           null,
           "None"
          ],
          [
           "72",
           -10,
           4.0,
           28.0,
           "C - ATC Capacity",
           "NETWORK CHERRY PICK",
           "None"
          ],
          [
           "72",
           6,
           23.0,
           33.666666666666664,
           "C - ATC Capacity",
           null,
           "None"
          ],
          [
           "48",
           -18,
           -29.0,
           27.333333333333332,
           "C - ATC Capacity",
           null,
           "None"
          ],
          [
           "12",
           12,
           1.0,
           0.3333333333333333,
           "C - ATC Capacity",
           null,
           "None"
          ],
          [
           "24",
           12,
           12.0,
           7.0,
           "C - ATC Capacity",
           null,
           "None"
          ],
          [
           "60",
           8,
           -18.0,
           26.333333333333332,
           "C - ATC Capacity",
           null,
           "None"
          ],
          [
           "72",
           -1,
           8.0,
           32.333333333333336,
           "C - ATC Capacity",
           null,
           "None"
          ],
          [
           "84",
           -9,
           -1.0,
           36.333333333333336,
           "C - ATC Capacity",
           null,
           "None"
          ],
          [
           "48",
           -18,
           -24.0,
           33.333333333333336,
           "C - ATC Capacity",
           null,
           "None"
          ],
          [
           "48",
           -15,
           -35.0,
           34.333333333333336,
           "C - ATC Capacity",
           null,
           "None"
          ],
          [
           "48",
           -19,
           -34.0,
           30.333333333333332,
           "C - ATC Capacity",
           null,
           "None"
          ],
          [
           "36",
           -26,
           -11.0,
           36.666666666666664,
           "C - ATC Capacity",
           null,
           "None"
          ],
          [
           "36",
           -19,
           -13.0,
           32.666666666666664,
           "C - ATC Capacity",
           null,
           "None"
          ],
          [
           "36",
           -37,
           -17.0,
           32.333333333333336,
           "C - ATC Capacity",
           null,
           "None"
          ],
          [
           "48",
           -14,
           -37.0,
           32.666666666666664,
           "C - ATC Capacity",
           null,
           "None"
          ],
          [
           "60",
           15,
           -14.0,
           35.333333333333336,
           "C - ATC Capacity",
           null,
           "None"
          ],
          [
           "24",
           -7,
           14.0,
           7.666666666666667,
           "C - ATC Capacity",
           null,
           "None"
          ],
          [
           "48",
           -12,
           -29.0,
           31.333333333333332,
           "C - ATC Capacity",
           null,
           "None"
          ],
          [
           "24",
           -17,
           18.0,
           9.666666666666666,
           "C - ATC Capacity",
           "WIP in the TWR",
           "None"
          ],
          [
           "48",
           -14,
           -33.0,
           35.666666666666664,
           "C - ATC Capacity",
           null,
           "None"
          ],
          [
           "60",
           19,
           -14.0,
           40.333333333333336,
           "C - ATC Capacity",
           null,
           "None"
          ],
          [
           "12",
           12,
           -1.0,
           0.3333333333333333,
           "C - ATC Capacity",
           null,
           "None"
          ],
          [
           "60",
           7,
           2.0,
           29.0,
           "C - ATC Capacity",
           null,
           "None"
          ],
          [
           "84",
           -12,
           -9.0,
           17.666666666666668,
           "C - ATC Capacity",
           null,
           "None"
          ],
          [
           "0",
           -1,
           -11.0,
           5.0,
           "C - ATC Capacity",
           null,
           "None"
          ],
          [
           "12",
           8,
           -1.0,
           0.3333333333333333,
           "C - ATC Capacity",
           null,
           "None"
          ],
          [
           "24",
           15,
           8.0,
           6.0,
           "C - ATC Capacity",
           null,
           "None"
          ],
          [
           "72",
           4,
           16.0,
           34.0,
           "C - ATC Capacity",
           null,
           "None"
          ],
          [
           "24",
           -10,
           9.0,
           7.666666666666667,
           "C - ATC Capacity",
           null,
           "None"
          ],
          [
           "48",
           -1,
           -24.0,
           34.333333333333336,
           "C - ATC Capacity",
           null,
           "None"
          ],
          [
           "24",
           -17,
           11.0,
           7.333333333333333,
           "C - ATC Capacity",
           null,
           "None"
          ],
          [
           "36",
           -26,
           -17.0,
           36.666666666666664,
           "C - ATC Capacity",
           null,
           "None"
          ],
          [
           "48",
           4,
           -26.0,
           31.666666666666668,
           "C - ATC Capacity",
           null,
           "None"
          ],
          [
           "72",
           -5,
           13.0,
           31.333333333333332,
           "C - ATC Capacity",
           null,
           "None"
          ],
          [
           "60",
           15,
           -17.0,
           33.666666666666664,
           "C - ATC Capacity",
           null,
           "None"
          ],
          [
           "24",
           -10,
           15.0,
           8.0,
           "C - ATC Capacity",
           "WIP in the TWR",
           "None"
          ],
          [
           "48",
           -5,
           -29.0,
           32.0,
           "C - ATC Capacity",
           "NETWORK CHERRY PICK",
           "None"
          ],
          [
           "84",
           -16,
           8.0,
           33.333333333333336,
           "C - ATC Capacity",
           null,
           "None"
          ],
          [
           "12",
           11,
           0.0,
           0.0,
           "C - ATC Capacity",
           null,
           "None"
          ],
          [
           "12",
           3,
           0.0,
           0.0,
           "C - ATC Capacity",
           null,
           "None"
          ],
          [
           "24",
           1,
           3.0,
           6.333333333333333,
           "C - ATC Capacity",
           null,
           "None"
          ],
          [
           "36",
           -29,
           1.0,
           22.0,
           "C - ATC Capacity",
           "NETWORK CHERRY PICK",
           "None"
          ],
          [
           "24",
           -11,
           8.0,
           7.333333333333333,
           "C - ATC Capacity",
           "WIP in the TWR",
           "None"
          ],
          [
           "36",
           -27,
           -21.0,
           33.666666666666664,
           "C - ATC Capacity",
           null,
           "None"
          ],
          [
           "48",
           -5,
           -27.0,
           31.0,
           "C - ATC Capacity",
           null,
           "None"
          ],
          [
           "48",
           -7,
           -29.0,
           30.333333333333332,
           "C - ATC Capacity",
           null,
           "None"
          ],
          [
           "24",
           -14,
           13.0,
           8.0,
           "C - ATC Capacity",
           null,
           "None"
          ],
          [
           "36",
           -27,
           -14.0,
           36.666666666666664,
           "C - ATC Capacity",
           null,
           "None"
          ],
          [
           "48",
           -21,
           -27.0,
           34.333333333333336,
           "C - ATC Capacity",
           null,
           "None"
          ],
          [
           "60",
           11,
           -21.0,
           34.0,
           "C - ATC Capacity",
           null,
           "None"
          ],
          [
           "72",
           10,
           11.0,
           36.0,
           "C - ATC Capacity",
           null,
           "None"
          ],
          [
           "24",
           -15,
           12.0,
           8.333333333333334,
           "C - ATC Capacity",
           "WIP in the TWR",
           "None"
          ],
          [
           "24",
           -8,
           14.0,
           8.0,
           "C - ATC Capacity",
           "WIP in the TWR",
           "None"
          ],
          [
           "48",
           -23,
           -32.0,
           31.666666666666668,
           "C - ATC Capacity",
           null,
           "None"
          ],
          [
           "24",
           -14,
           14.0,
           9.0,
           "C - ATC Capacity",
           "WIP in the TWR",
           "None"
          ],
          [
           "48",
           -16,
           -32.0,
           31.333333333333332,
           "C - ATC Capacity",
           null,
           "None"
          ],
          [
           "72",
           3,
           12.0,
           33.333333333333336,
           "C - ATC Capacity",
           null,
           "None"
          ],
          [
           "84",
           -15,
           3.0,
           34.0,
           "C - ATC Capacity",
           null,
           "None"
          ],
          [
           "24",
           -18,
           12.0,
           7.333333333333333,
           "C - ATC Capacity",
           "WIP in the TWR",
           "None"
          ],
          [
           "36",
           -26,
           -18.0,
           37.333333333333336,
           "C - ATC Capacity",
           null,
           "None"
          ],
          [
           "72",
           -1,
           13.0,
           33.333333333333336,
           "C - ATC Capacity",
           null,
           "None"
          ],
          [
           "24",
           -12,
           16.0,
           8.333333333333334,
           "C - ATC Capacity",
           "WIP in the TWR",
           "None"
          ],
          [
           "36",
           -32,
           -12.0,
           37.666666666666664,
           "C - ATC Capacity",
           null,
           "None"
          ],
          [
           "48",
           -14,
           -32.0,
           34.333333333333336,
           "C - ATC Capacity",
           null,
           "None"
          ],
          [
           "24",
           -10,
           11.0,
           8.333333333333334,
           "C - ATC Capacity",
           "WIP in the TWR",
           "None"
          ],
          [
           "48",
           -19,
           -32.0,
           30.666666666666668,
           "C - ATC Capacity",
           null,
           "None"
          ],
          [
           "72",
           9,
           14.0,
           34.333333333333336,
           "C - ATC Capacity",
           null,
           "None"
          ],
          [
           "24",
           -18,
           15.0,
           9.333333333333334,
           "C - ATC Capacity",
           "WIP in the TWR",
           "None"
          ],
          [
           "48",
           -12,
           -32.0,
           32.333333333333336,
           "C - ATC Capacity",
           null,
           "None"
          ],
          [
           "36",
           -39,
           -16.0,
           35.333333333333336,
           "C - ATC Capacity",
           null,
           "None"
          ],
          [
           "48",
           -6,
           -39.0,
           35.0,
           "C - ATC Capacity",
           null,
           "None"
          ],
          [
           "12",
           10,
           0.0,
           0.3333333333333333,
           "C - ATC Capacity",
           null,
           "None"
          ],
          [
           "48",
           -8,
           -30.0,
           32.0,
           "C - ATC Capacity",
           null,
           "None"
          ],
          [
           "60",
           17,
           -8.0,
           28.333333333333332,
           "C - ATC Capacity",
           "Reg amended",
           "None"
          ],
          [
           "72",
           -5,
           17.0,
           27.333333333333332,
           "C - ATC Capacity",
           "Reg amended",
           "None"
          ],
          [
           "12",
           9,
           0.0,
           0.0,
           "C - ATC Capacity",
           null,
           "None"
          ],
          [
           "24",
           -1,
           9.0,
           7.0,
           "C - ATC Capacity",
           null,
           "None"
          ],
          [
           "36",
           -22,
           -1.0,
           21.0,
           "C - ATC Capacity",
           null,
           "None"
          ],
          [
           "24",
           -26,
           10.0,
           7.333333333333333,
           "C - ATC Capacity",
           "WIP in the TWR",
           "None"
          ],
          [
           "60",
           14,
           -8.0,
           34.666666666666664,
           "C - ATC Capacity",
           null,
           "None"
          ],
          [
           "72",
           7,
           14.0,
           34.0,
           "C - ATC Capacity",
           null,
           "None"
          ],
          [
           "24",
           -16,
           14.0,
           7.666666666666667,
           "C - ATC Capacity",
           null,
           "None"
          ],
          [
           "24",
           -20,
           13.0,
           8.0,
           "C - ATC Capacity",
           "WIP in the TWR.",
           "None"
          ],
          [
           "48",
           -6,
           -32.0,
           33.666666666666664,
           "C - ATC Capacity",
           null,
           "None"
          ],
          [
           "12",
           15,
           -1.0,
           0.3333333333333333,
           "C - ATC Capacity",
           null,
           "None"
          ],
          [
           "24",
           -8,
           15.0,
           8.333333333333334,
           "C - ATC Capacity",
           null,
           "None"
          ],
          [
           "36",
           -25,
           -8.0,
           32.333333333333336,
           "C - ATC Capacity",
           null,
           "None"
          ],
          [
           "48",
           -14,
           -25.0,
           31.0,
           "C - ATC Capacity",
           null,
           "None"
          ],
          [
           "12",
           26,
           0.0,
           0.0,
           "C - ATC Capacity",
           null,
           "None"
          ],
          [
           "24",
           27,
           26.0,
           18.333333333333332,
           "C - ATC Capacity",
           null,
           "None"
          ],
          [
           "72",
           -27,
           -17.0,
           38.666666666666664,
           "C - ATC Capacity",
           null,
           "None"
          ],
          [
           "48",
           -21,
           8.0,
           29.666666666666668,
           "C - ATC Capacity",
           null,
           "None"
          ],
          [
           "48",
           -31,
           8.0,
           23.666666666666668,
           "C - ATC Capacity",
           null,
           "None"
          ],
          [
           "72",
           -17,
           -13.0,
           36.333333333333336,
           "C - ATC Capacity",
           null,
           "None"
          ],
          [
           "24",
           18,
           41.0,
           21.333333333333332,
           "C - ATC Capacity",
           "NETWORK CHERRY PICK",
           "None"
          ],
          [
           "24",
           34,
           43.0,
           24.0,
           "C - ATC Capacity",
           null,
           "None"
          ],
          [
           "60",
           -6,
           -26.0,
           32.333333333333336,
           "C - ATC Capacity",
           null,
           "None"
          ],
          [
           "12",
           23,
           0.0,
           0.3333333333333333,
           "C - ATC Capacity",
           null,
           "None"
          ],
          [
           "12",
           6,
           2.0,
           0.6666666666666666,
           "C - ATC Capacity",
           null,
           "None"
          ],
          [
           "24",
           11,
           20.0,
           13.0,
           "C - ATC Capacity",
           null,
           "None"
          ],
          [
           "72",
           -15,
           -9.0,
           37.333333333333336,
           "C - ATC Capacity",
           null,
           "None"
          ],
          [
           "48",
           -38,
           7.0,
           25.666666666666668,
           "C - ATC Capacity",
           null,
           "None"
          ],
          [
           "36",
           4,
           20.0,
           33.0,
           "C - ATC Capacity",
           null,
           "None"
          ],
          [
           "60",
           -15,
           -34.0,
           33.0,
           "C - ATC Capacity",
           null,
           "None"
          ],
          [
           "36",
           8,
           21.0,
           30.333333333333332,
           "C - ATC Capacity",
           null,
           "None"
          ],
          [
           "48",
           -33,
           8.0,
           22.666666666666668,
           "C - ATC Capacity",
           null,
           "None"
          ],
          [
           "36",
           5,
           25.0,
           40.0,
           "C - ATC Capacity",
           null,
           "None"
          ],
          [
           "48",
           -29,
           5.0,
           33.0,
           "C - ATC Capacity",
           null,
           "None"
          ],
          [
           "36",
           0,
           -4.0,
           17.0,
           "C - ATC Capacity",
           null,
           "None"
          ],
          [
           "48",
           -19,
           0.0,
           13.666666666666666,
           "C - ATC Capacity",
           null,
           "None"
          ],
          [
           "48",
           -25,
           1.0,
           29.333333333333332,
           "C - ATC Capacity",
           null,
           "None"
          ],
          [
           "48",
           -36,
           -5.0,
           29.0,
           "C - ATC Capacity",
           null,
           "None"
          ],
          [
           "36",
           4,
           15.0,
           36.666666666666664,
           "C - ATC Capacity",
           null,
           "None"
          ],
          [
           "48",
           -23,
           4.0,
           31.0,
           "C - ATC Capacity",
           null,
           "None"
          ],
          [
           "72",
           -6,
           -19.0,
           40.666666666666664,
           "C - ATC Capacity",
           "WIP. NOTAM A0182/18.",
           "None"
          ],
          [
           "24",
           23,
           48.0,
           26.0,
           "C - ATC Capacity",
           null,
           "None"
          ],
          [
           "48",
           -35,
           9.0,
           26.333333333333332,
           "C - ATC Capacity",
           null,
           "None"
          ],
          [
           "84",
           -3,
           -19.0,
           31.0,
           "C - ATC Capacity",
           null,
           "None"
          ],
          [
           "72",
           -15,
           -15.0,
           41.0,
           "C - ATC Capacity",
           null,
           "None"
          ],
          [
           "48",
           -31,
           8.0,
           27.333333333333332,
           "C - ATC Capacity",
           null,
           "None"
          ],
          [
           "60",
           -22,
           -31.0,
           30.333333333333332,
           "C - ATC Capacity",
           null,
           "None"
          ],
          [
           "36",
           3,
           27.0,
           38.666666666666664,
           "C - ATC Capacity",
           "regul extended",
           "None"
          ],
          [
           "84",
           -4,
           -15.0,
           32.666666666666664,
           "C - ATC Capacity",
           null,
           "None"
          ],
          [
           "48",
           -38,
           4.0,
           26.333333333333332,
           "C - ATC Capacity",
           null,
           "None"
          ],
          [
           "36",
           -6,
           23.0,
           36.666666666666664,
           "C - ATC Capacity",
           null,
           "None"
          ],
          [
           "48",
           -31,
           -6.0,
           30.666666666666668,
           "C - ATC Capacity",
           "APP service for LFCR",
           "None"
          ],
          [
           "72",
           -17,
           -22.0,
           40.333333333333336,
           "C - ATC Capacity",
           "APP service for LFCR",
           "None"
          ],
          [
           "36",
           3,
           36.0,
           39.333333333333336,
           "C - ATC Capacity",
           null,
           "None"
          ],
          [
           "72",
           -21,
           -13.0,
           39.0,
           "C - ATC Capacity",
           "REG EXTENDED",
           "None"
          ],
          [
           "24",
           10,
           25.0,
           15.666666666666666,
           "C - ATC Capacity",
           "APP service for LFCR",
           "None"
          ],
          [
           "48",
           -26,
           -4.0,
           25.333333333333332,
           "C - ATC Capacity",
           null,
           "None"
          ],
          [
           "24",
           22,
           26.0,
           14.666666666666666,
           "C - ATC Capacity",
           "NETWORK CHERRY PICK",
           "None"
          ],
          [
           "36",
           2,
           22.0,
           31.333333333333332,
           "C - ATC Capacity",
           null,
           "None"
          ],
          [
           "48",
           -27,
           2.0,
           27.0,
           "C - ATC Capacity",
           ".",
           "None"
          ],
          [
           "72",
           -19,
           -17.0,
           40.333333333333336,
           "C - ATC Capacity",
           "REGULATION EXTENDED",
           "None"
          ],
          [
           "24",
           21,
           47.0,
           27.0,
           "C - ATC Capacity",
           "APP service for LFCR",
           "None"
          ],
          [
           "36",
           -1,
           21.0,
           39.333333333333336,
           "C - ATC Capacity",
           null,
           "None"
          ],
          [
           "24",
           20,
           48.0,
           27.333333333333332,
           "C - ATC Capacity",
           null,
           "None"
          ],
          [
           "48",
           -19,
           -2.0,
           32.333333333333336,
           "C - ATC Capacity",
           null,
           "None"
          ],
          [
           "72",
           -17,
           -17.0,
           32.666666666666664,
           "C - ATC Capacity",
           "REG EXTENDED",
           "None"
          ],
          [
           "24",
           22,
           47.0,
           25.333333333333332,
           "C - ATC Capacity",
           "APP service for LFCR",
           "None"
          ],
          [
           "36",
           -1,
           18.0,
           39.666666666666664,
           "C - ATC Capacity",
           null,
           "None"
          ],
          [
           "24",
           27,
           47.0,
           26.666666666666668,
           "C - ATC Capacity",
           "APP service for LFCR",
           "None"
          ],
          [
           "24",
           12,
           21.0,
           15.0,
           "C - ATC Capacity",
           null,
           "None"
          ],
          [
           "48",
           -33,
           13.0,
           26.333333333333332,
           "C - ATC Capacity",
           null,
           "None"
          ],
          [
           "36",
           14,
           24.0,
           29.666666666666668,
           "C - ATC Capacity",
           null,
           "None"
          ],
          [
           "36",
           0,
           25.0,
           38.0,
           "C - ATC Capacity",
           null,
           "None"
          ],
          [
           "36",
           3,
           22.0,
           38.333333333333336,
           "C - ATC Capacity",
           null,
           "None"
          ],
          [
           "24",
           32,
           43.0,
           27.0,
           "C - ATC Capacity",
           null,
           "None"
          ],
          [
           "48",
           -40,
           -2.0,
           30.0,
           "C - ATC Capacity",
           null,
           "None"
          ],
          [
           "84",
           -6,
           -19.0,
           37.0,
           "C - ATC Capacity",
           null,
           "None"
          ],
          [
           "24",
           21,
           43.0,
           26.666666666666668,
           "C - ATC Capacity",
           null,
           "None"
          ],
          [
           "36",
           5,
           21.0,
           41.666666666666664,
           "C - ATC Capacity",
           null,
           "None"
          ],
          [
           "72",
           -18,
           -10.0,
           40.666666666666664,
           "C - ATC Capacity",
           null,
           "None"
          ],
          [
           "84",
           -10,
           -18.0,
           35.333333333333336,
           "C - ATC Capacity",
           null,
           "None"
          ],
          [
           "36",
           17,
           29.0,
           37.0,
           "C - ATC Capacity",
           null,
           "None"
          ],
          [
           "48",
           -32,
           17.0,
           30.666666666666668,
           "C - ATC Capacity",
           null,
           "None"
          ],
          [
           "84",
           -10,
           -24.0,
           25.333333333333332,
           "C - ATC Capacity",
           null,
           "None"
          ],
          [
           "24",
           26,
           27.0,
           15.0,
           "C - ATC Capacity",
           "NETWORK CHERRY PICK",
           "None"
          ],
          [
           "36",
           2,
           27.0,
           38.666666666666664,
           "C - ATC Capacity",
           null,
           "None"
          ],
          [
           "24",
           28,
           43.0,
           24.333333333333332,
           "C - ATC Capacity",
           null,
           "None"
          ],
          [
           "36",
           8,
           28.0,
           37.666666666666664,
           "C - ATC Capacity",
           null,
           "None"
          ],
          [
           "48",
           -22,
           8.0,
           31.666666666666668,
           "C - ATC Capacity",
           null,
           "None"
          ],
          [
           "36",
           9,
           21.0,
           38.0,
           "C - ATC Capacity",
           null,
           "None"
          ],
          [
           "48",
           -29,
           9.0,
           30.333333333333332,
           "C - ATC Capacity",
           null,
           "None"
          ],
          [
           "84",
           -12,
           -24.0,
           32.333333333333336,
           "C - ATC Capacity",
           null,
           "None"
          ],
          [
           "36",
           0,
           25.0,
           29.333333333333332,
           "C - ATC Capacity",
           null,
           "None"
          ],
          [
           "48",
           -35,
           0.0,
           25.333333333333332,
           "C - ATC Capacity",
           null,
           "None"
          ],
          [
           "12",
           44,
           3.0,
           1.3333333333333333,
           "C - ATC Capacity",
           null,
           "None"
          ],
          [
           "36",
           0,
           28.0,
           39.666666666666664,
           "C - ATC Capacity",
           null,
           "None"
          ],
          [
           "48",
           -35,
           0.0,
           30.666666666666668,
           "C - ATC Capacity",
           "REG EXTENDED",
           "None"
          ],
          [
           "84",
           -9,
           -8.0,
           31.0,
           "C - ATC Capacity",
           null,
           "None"
          ],
          [
           "84",
           -6,
           -23.0,
           28.0,
           "C - ATC Capacity",
           null,
           "None"
          ],
          [
           "36",
           3,
           31.0,
           36.666666666666664,
           "C - ATC Capacity",
           null,
           "None"
          ],
          [
           "48",
           -35,
           3.0,
           29.666666666666668,
           "C - ATC Capacity",
           null,
           "None"
          ],
          [
           "36",
           -2,
           23.0,
           36.333333333333336,
           "C - ATC Capacity",
           null,
           "None"
          ],
          [
           "48",
           -17,
           -2.0,
           29.666666666666668,
           "C - ATC Capacity",
           null,
           "None"
          ],
          [
           "36",
           7,
           37.0,
           35.333333333333336,
           "C - ATC Capacity",
           null,
           "None"
          ],
          [
           "84",
           -6,
           -11.0,
           27.333333333333332,
           "C - ATC Capacity",
           null,
           "None"
          ],
          [
           "48",
           -38,
           7.0,
           28.0,
           "C - ATC Capacity",
           null,
           "None"
          ],
          [
           "84",
           -10,
           -25.0,
           35.666666666666664,
           "C - ATC Capacity",
           null,
           "None"
          ],
          [
           "24",
           24,
           47.0,
           24.0,
           "C - ATC Capacity",
           null,
           "None"
          ],
          [
           "36",
           7,
           28.0,
           40.333333333333336,
           "C - ATC Capacity",
           null,
           "None"
          ],
          [
           "48",
           -34,
           7.0,
           32.0,
           "C - ATC Capacity",
           null,
           "None"
          ],
          [
           "48",
           -30,
           2.0,
           34.333333333333336,
           "C - ATC Capacity",
           null,
           "None"
          ],
          [
           "60",
           -14,
           -30.0,
           32.666666666666664,
           "C - ATC Capacity",
           null,
           "None"
          ],
          [
           "24",
           27,
           42.0,
           26.666666666666668,
           "C - ATC Capacity",
           null,
           "None"
          ],
          [
           "36",
           1,
           27.0,
           38.333333333333336,
           "C - ATC Capacity",
           null,
           "None"
          ],
          [
           "48",
           -28,
           1.0,
           32.333333333333336,
           "C - ATC Capacity",
           null,
           "None"
          ],
          [
           "84",
           -16,
           -4.0,
           24.333333333333332,
           "C - ATC Capacity",
           null,
           "None"
          ],
          [
           "24",
           33,
           46.0,
           26.666666666666668,
           "C - ATC Capacity",
           null,
           "None"
          ],
          [
           "48",
           -17,
           -6.0,
           30.333333333333332,
           "C - ATC Capacity",
           null,
           "None"
          ],
          [
           "36",
           6,
           36.0,
           40.333333333333336,
           "C - ATC Capacity",
           null,
           "None"
          ],
          [
           "48",
           -34,
           6.0,
           27.0,
           "C - ATC Capacity",
           null,
           "None"
          ],
          [
           "36",
           6,
           29.0,
           31.666666666666668,
           "C - ATC Capacity",
           "REGULATION EXTENDED",
           "None"
          ],
          [
           "72",
           -15,
           -8.0,
           36.0,
           "C - ATC Capacity",
           null,
           "None"
          ],
          [
           "84",
           -11,
           -15.0,
           33.666666666666664,
           "C - ATC Capacity",
           null,
           "None"
          ],
          [
           "36",
           4,
           30.0,
           41.0,
           "C - ATC Capacity",
           null,
           "None"
          ],
          [
           "48",
           -35,
           4.0,
           32.666666666666664,
           "C - ATC Capacity",
           null,
           "None"
          ],
          [
           "24",
           16,
           44.0,
           25.0,
           "C - ATC Capacity",
           null,
           "None"
          ],
          [
           "36",
           0,
           16.0,
           40.666666666666664,
           "C - ATC Capacity",
           null,
           "None"
          ],
          [
           "48",
           -28,
           0.0,
           33.333333333333336,
           "C - ATC Capacity",
           "REG EXT",
           "None"
          ],
          [
           "72",
           -3,
           -22.0,
           33.666666666666664,
           "C - ATC Capacity",
           null,
           "None"
          ],
          [
           "84",
           -12,
           -3.0,
           16.0,
           "C - ATC Capacity",
           null,
           "None"
          ],
          [
           "24",
           27,
           44.0,
           27.0,
           "C - ATC Capacity",
           null,
           "None"
          ],
          [
           "36",
           0,
           27.0,
           39.0,
           "C - ATC Capacity",
           null,
           "None"
          ],
          [
           "36",
           -2,
           28.0,
           39.666666666666664,
           "C - ATC Capacity",
           null,
           "None"
          ],
          [
           "48",
           -20,
           -2.0,
           31.666666666666668,
           "C - ATC Capacity",
           null,
           "None"
          ],
          [
           "72",
           -20,
           -15.0,
           39.0,
           "C - ATC Capacity",
           null,
           "None"
          ],
          [
           "36",
           0,
           29.0,
           36.0,
           "C - ATC Capacity",
           null,
           "None"
          ],
          [
           "48",
           -29,
           0.0,
           31.666666666666668,
           "C - ATC Capacity",
           null,
           "None"
          ],
          [
           "36",
           -1,
           24.0,
           33.0,
           "C - ATC Capacity",
           "REG EXTENDED",
           "None"
          ],
          [
           "60",
           -12,
           -23.0,
           37.333333333333336,
           "C - ATC Capacity",
           null,
           "None"
          ],
          [
           "84",
           -13,
           -29.0,
           34.0,
           "C - ATC Capacity",
           null,
           "None"
          ],
          [
           "24",
           27,
           48.0,
           27.333333333333332,
           "C - ATC Capacity",
           "NETWORK CHERRY PICK",
           "None"
          ],
          [
           "24",
           36,
           49.0,
           27.0,
           "C - ATC Capacity",
           null,
           "None"
          ],
          [
           "36",
           -1,
           36.0,
           39.666666666666664,
           "C - ATC Capacity",
           null,
           "None"
          ],
          [
           "48",
           -28,
           -1.0,
           30.0,
           "C - ATC Capacity",
           null,
           "None"
          ],
          [
           "60",
           -19,
           -28.0,
           34.666666666666664,
           "C - ATC Capacity",
           null,
           "None"
          ],
          [
           "24",
           21,
           49.0,
           27.333333333333332,
           "C - ATC Capacity",
           null,
           "None"
          ],
          [
           "36",
           -1,
           21.0,
           41.0,
           "C - ATC Capacity",
           null,
           "None"
          ],
          [
           "36",
           -2,
           27.0,
           42.0,
           "C - ATC Capacity",
           null,
           "None"
          ],
          [
           "24",
           21,
           46.0,
           22.666666666666668,
           "C - ATC Capacity",
           null,
           "None"
          ],
          [
           "48",
           -36,
           4.0,
           31.0,
           "C - ATC Capacity",
           null,
           "None"
          ],
          [
           "84",
           -8,
           -24.0,
           24.666666666666668,
           "C - ATC Capacity",
           null,
           "None"
          ],
          [
           "24",
           31,
           37.0,
           20.0,
           "C - ATC Capacity",
           null,
           "None"
          ],
          [
           "48",
           -32,
           13.0,
           29.0,
           "C - ATC Capacity",
           null,
           "None"
          ],
          [
           "72",
           -29,
           -20.0,
           38.0,
           "C - ATC Capacity",
           null,
           "None"
          ],
          [
           "12",
           53,
           4.0,
           1.3333333333333333,
           "C - ATC Capacity",
           null,
           "None"
          ],
          [
           "24",
           41,
           53.0,
           27.333333333333332,
           "C - ATC Capacity",
           null,
           "None"
          ],
          [
           "36",
           -5,
           41.0,
           36.666666666666664,
           "C - ATC Capacity",
           null,
           "None"
          ],
          [
           "60",
           -21,
           -40.0,
           31.0,
           "C - ATC Capacity",
           null,
           "None"
          ],
          [
           "72",
           -16,
           -21.0,
           42.666666666666664,
           "C - ATC Capacity",
           "reg amended",
           "None"
          ],
          [
           "24",
           27,
           46.0,
           25.333333333333332,
           "C - ATC Capacity",
           null,
           "None"
          ],
          [
           "36",
           5,
           27.0,
           41.0,
           "C - ATC Capacity",
           null,
           "None"
          ],
          [
           "48",
           -39,
           5.0,
           31.0,
           "C - ATC Capacity",
           null,
           "None"
          ],
          [
           "24",
           29,
           46.0,
           26.666666666666668,
           "C - ATC Capacity",
           null,
           "None"
          ],
          [
           "24",
           20,
           47.0,
           27.0,
           "C - ATC Capacity",
           null,
           "None"
          ],
          [
           "48",
           -31,
           -3.0,
           33.666666666666664,
           "C - ATC Capacity",
           null,
           "None"
          ],
          [
           "72",
           -8,
           -13.0,
           41.666666666666664,
           "C - ATC Capacity",
           null,
           "None"
          ],
          [
           "84",
           -13,
           -8.0,
           35.666666666666664,
           "C - ATC Capacity",
           null,
           "None"
          ],
          [
           "12",
           46,
           4.0,
           1.3333333333333333,
           "C - ATC Capacity",
           null,
           "None"
          ],
          [
           "48",
           -12,
           -4.0,
           31.666666666666668,
           "C - ATC Capacity",
           null,
           "None"
          ],
          [
           "12",
           47,
           4.0,
           1.3333333333333333,
           "C - ATC Capacity",
           null,
           "None"
          ],
          [
           "72",
           -17,
           -19.0,
           32.0,
           "C - ATC Capacity",
           null,
           "None"
          ],
          [
           "84",
           -6,
           -17.0,
           27.0,
           "C - ATC Capacity",
           null,
           "None"
          ]
         ],
         "hovertemplate": "reg_type=%{customdata[4]}<br>recovery_rate=%{y}<br>tw_idx=%{customdata[0]}<br>capacity_change=%{customdata[1]}<br>prev_capacity_change=%{customdata[2]}<br>prev_avg_capacity=%{customdata[3]}<br>reg_cause=%{customdata[5]}<br>reg_bool_type=%{customdata[6]}<extra></extra>",
         "legendgroup": "C - ATC Capacity",
         "marker": {
          "color": "#ab63fa",
          "symbol": "circle"
         },
         "name": "C - ATC Capacity",
         "notched": true,
         "offsetgroup": "C - ATC Capacity",
         "showlegend": false,
         "xaxis": "x2",
         "y": [
          1.1925467651191053,
          0.7682780851476865,
          2.5235035585575716,
          0.2814857649767441,
          3.5804970786392585,
          1.904161150860089,
          1.161398841859823,
          1.3009635804488098,
          0.6454428550935813,
          2.0052787121414677,
          2.942208388041641,
          2.4696119108391463,
          2.1372886427636812,
          0.8693542102558653,
          2.0358459707340573,
          2.9887682213587228,
          2.752055930463977,
          1.5702473123426468,
          0.8061684248946231,
          3.036175493641252,
          1.7945078955381721,
          0.6300355087307777,
          2.0351326616633694,
          2.197646551914338,
          2.735288105634737,
          1.1854687990732264,
          4.096308276101673,
          3.084064203414031,
          1.6842061589198996,
          1.387425194146064,
          2.2924095547422065,
          1.3902892841550867,
          2.5088718825692,
          2.666073241223415,
          0.9853936754928422,
          2.0770867883027195,
          1.7159633536875376,
          2.049145274463816,
          3.9411924033730923,
          2.108247123519264,
          3.1800887690673867,
          2.545300725849916,
          2.1557398070887794,
          0.7964264428616054,
          0.3307425711671657,
          1.217662311408443,
          1.038426873385013,
          0.6455157055066383,
          1.9105635261627192,
          0.6995245803923125,
          1.9391511614354642,
          0.983061758483362,
          1.548447447188882,
          -0.1628542333978705,
          0.8401330561732654,
          1.2150000507608574,
          1.7023698758510137,
          3.6675303868569986,
          1.7604123351992338,
          1.3417885851484361,
          0.9524746810298653,
          0.6487086989201197,
          3.398010634349709,
          2.248036230250811,
          3.400706555514735,
          1.979171375125491,
          1.69978822434286,
          2.5026441797646197,
          2.9422024021771156,
          2.1288151834467244,
          2.074263929162506,
          2.6449471285646555,
          1.660450728390049,
          3.963994659505881,
          4.353382309740148,
          2.4435028403120587,
          3.420850528915175,
          1.4768579480072472,
          1.9467795495365023,
          1.3630604028606135,
          3.314420175311568,
          0.7145962955617117,
          1.7721663829640848,
          2.208930574785654,
          1.4300569205489324,
          1.610566407239685,
          3.7363318043841263,
          2.559827068600514,
          1.7461189263933876,
          2.156940344408431,
          2.4739139497469984,
          1.4542280365497664,
          2.788097083030565,
          0.6304338613751804,
          1.5514934574424257,
          2.528388713571261,
          1.0159857019251979,
          0.5072424034511003,
          1.087829733789598,
          0.4148434571424015,
          2.885699938691626,
          2.2578949083863207,
          0.9806417401981943,
          2.6558964923830324,
          2.2645191493371652,
          2.2445930931272406,
          0.5753385281668246,
          2.4526672930417415,
          1.9193529477398732,
          1.479441307132803,
          1.5027141310795804,
          1.621759207516043,
          1.2433032005109799,
          2.4670963997189386,
          2.6318583590049185,
          2.37254044292138,
          1.8104352182924914,
          1.6257761536626247,
          2.5415072064129807,
          1.5275187227999418,
          1.218023121186278,
          2.679438663089691,
          2.072201920452391,
          2.0644450486828725,
          2.0335379117561883,
          3.0702635077035234,
          1.756434742504775,
          3.4611229367517975,
          1.7747865685630053,
          1.6405938024709183,
          0.5416688930096736,
          1.6993604361441341,
          1.8835352708556534,
          2.061905465812419,
          1.7610453146993859,
          1.5298122761581063,
          1.2550994761024359,
          1.5717447392983588,
          2.2210544214973376,
          2.727353237220497,
          2.2100831602502087,
          1.799771054582031,
          3.778410022067951,
          1.8665623700415264,
          1.4420385927475872,
          2.4483472939833795,
          1.73199999832329,
          2.432094037719078,
          2.4912451187370337,
          1.3520705503998531,
          1.7694745189285115,
          2.206500809059734,
          2.799388048529297,
          1.6582401600484653,
          2.155549241649336,
          1.9937309871970668,
          1.450754808438866,
          1.944147318264583,
          1.8891130858313037,
          1.8021918371673475,
          2.1374293878002586,
          1.7958688869054602,
          2.097042415575926,
          3.572139034432108,
          1.575817363072716,
          1.5180207187067627,
          2.030332416761049,
          1.669661248858436,
          1.299763455558761,
          1.3756698714412479,
          1.503306896581486,
          2.057060192708522,
          1.4258034012141632,
          1.5105142130790932,
          1.5077882306652148,
          1.611041286978646,
          1.7097676001862396,
          1.4347346641384875,
          1.0660701558781973,
          1.4036627436938574,
          1.7483473903221824,
          2.318106247161869,
          1.755928424235934,
          1.7866290576681576,
          1.156761108665887,
          1.4706579931451125,
          1.088961795534175,
          1.2022954348072195,
          1.3635526874766792,
          2.089681991788956,
          2.1804848586794994,
          1.658747540061328,
          1.1641544156185935,
          1.6505984107776936,
          1.607975389903132,
          1.36272712075862,
          1.4435405448934946,
          1.5370461949132597,
          1.6985736159994789,
          1.2979213662002653,
          1.2959091884360092,
          1.5123186404754805,
          1.8732365084757951,
          1.5342573379343758,
          1.4525998459666316,
          1.6518502326134217,
          1.25928407195387,
          -0.3008388380254212,
          1.4239158401142389,
          1.4511662984276028,
          1.6984908372856617,
          1.4765705092706405,
          1.3863020916294924,
          1.826070465970873,
          1.0500335433821193,
          0.619163048566332,
          1.3284501421617663,
          1.3028322964699752,
          1.1761237901795205,
          1.1115277336442677,
          1.4630421574798653,
          1.5228925840181604,
          1.6397754983278665,
          -1.0189578723471864,
          0.4143395877963537,
          1.4381478285833826,
          1.659742013993024,
          1.1107255671105862,
          1.5411056435144808,
          1.6939635019899897,
          1.349762171798322,
          0.6461557998388181,
          1.4197418866320233,
          1.3336059997481593,
          2.738390056304953,
          1.7103249749225056,
          1.5402396924944008,
          1.9493767759241118,
          1.265874924500187,
          1.7323940376023537,
          1.8079705275847229,
          1.362712944465071,
          0.9829439026947698,
          1.4760111332331374,
          1.6922850823771756,
          1.378883771354258,
          1.509743299480187,
          1.5517676780092617,
          1.992204893969303,
          1.7040218901064699,
          1.9756895720382277,
          1.357311208413803,
          1.3557157167194953,
          2.12236958763838,
          1.9621344309569864,
          1.6042429208957651,
          2.3545191650226966,
          2.5497980778197022,
          1.7165534863645968,
          1.500553828556926,
          1.26226587175427,
          0.8527113046063002,
          1.386458404663324,
          3.066794614456683,
          1.6752226190648905,
          1.6707805136285487,
          1.7030560300926092,
          1.2889374364516486
         ],
         "yaxis": "y2",
         "type": "box"
        },
        {
         "customdata": [
          [
           "48",
           -24,
           -10.0,
           23.333333333333332,
           "W - Weather",
           "LVP.",
           "None"
          ],
          [
           "72",
           5,
           12.0,
           28.666666666666668,
           "W - Weather",
           "LVP.",
           "None"
          ],
          [
           "24",
           11,
           12.0,
           7.666666666666667,
           "W - Weather",
           "WIND GUSTS/RATE REDUCED/REGUL EXTENDED",
           "Wind"
          ],
          [
           "36",
           -11,
           11.0,
           22.0,
           "W - Weather",
           "WIND GUSTS/RATE REDUCED/REGUL EXTENDED",
           "Wind"
          ],
          [
           "48",
           -5,
           -11.0,
           25.0,
           "W - Weather",
           "WIND GUSTS/RATE REDUCED/REGUL EXTENDED",
           "Wind"
          ],
          [
           "60",
           15,
           -11.0,
           28.0,
           "W - Weather",
           "WIND",
           "Wind"
          ],
          [
           "72",
           -2,
           15.0,
           28.333333333333332,
           "W - Weather",
           "strong winds",
           "Wind"
          ],
          [
           "84",
           -11,
           -2.0,
           25.0,
           "W - Weather",
           "WIND",
           "Wind"
          ],
          [
           "48",
           -17,
           -17.0,
           26.666666666666668,
           "W - Weather",
           "STRONG WIND",
           "Wind"
          ],
          [
           "24",
           -11,
           9.0,
           7.666666666666667,
           "W - Weather",
           "FOG Reg extended",
           "Fog"
          ],
          [
           "36",
           -30,
           -11.0,
           32.0,
           "W - Weather",
           "FOG Reg extended",
           "Fog"
          ],
          [
           "48",
           -11,
           -30.0,
           32.666666666666664,
           "W - Weather",
           "LVP reg.ext.",
           "None"
          ],
          [
           "60",
           14,
           -11.0,
           33.0,
           "W - Weather",
           "storm",
           "None"
          ],
          [
           "72",
           2,
           14.0,
           32.0,
           "W - Weather",
           "lvp",
           "None"
          ],
          [
           "24",
           -9,
           12.0,
           8.333333333333334,
           "W - Weather",
           "fog reg. ext. RVR 700mt",
           "Fog"
          ],
          [
           "36",
           -26,
           -9.0,
           35.333333333333336,
           "W - Weather",
           "fog reg. ext. RVR 700mt",
           "Fog"
          ],
          [
           "36",
           -18,
           -14.0,
           33.666666666666664,
           "W - Weather",
           "lvp",
           "None"
          ],
          [
           "48",
           -22,
           -18.0,
           30.666666666666668,
           "W - Weather",
           "lvp",
           "None"
          ],
          [
           "72",
           7,
           15.0,
           33.0,
           "W - Weather",
           "LOW VISIBILITY",
           "Fog"
          ],
          [
           "24",
           -4,
           11.0,
           9.333333333333334,
           "W - Weather",
           "Low vis",
           "Fog"
          ],
          [
           "36",
           -27,
           -3.0,
           31.0,
           "W - Weather",
           "STRONG WIND REG EXTENDED",
           "Wind"
          ],
          [
           "72",
           -4,
           11.0,
           24.666666666666668,
           "W - Weather",
           "STRONG WINDS",
           "Wind"
          ],
          [
           "84",
           -6,
           -4.0,
           19.666666666666668,
           "W - Weather",
           "STRONG WINDS",
           "Wind"
          ],
          [
           "84",
           -11,
           14.0,
           36.0,
           "W - Weather",
           "LOW VISIBILITY",
           "Fog"
          ],
          [
           "36",
           -25,
           -16.0,
           34.333333333333336,
           "W - Weather",
           "L.V.P.//FOG//REDUCED RATE",
           "Fog"
          ],
          [
           "48",
           -17,
           -25.0,
           28.0,
           "W - Weather",
           "WINDS",
           "Wind"
          ],
          [
           "60",
           7,
           -12.0,
           31.0,
           "W - Weather",
           "STRONG WINDS EXPECTED REGULATION EXTENDED",
           "Wind"
          ],
          [
           "72",
           6,
           7.0,
           34.666666666666664,
           "W - Weather",
           "STRONG WINDS EXPECTED REGULATION EXTENDED",
           "Wind"
          ],
          [
           "84",
           -19,
           6.0,
           35.333333333333336,
           "W - Weather",
           "STRONG WINDS EXPECTED REGULATION EXTENDED",
           "Wind"
          ],
          [
           "36",
           -28,
           -12.0,
           33.666666666666664,
           "W - Weather",
           "FORECAST CB ACTIVITY",
           "CB"
          ],
          [
           "72",
           -5,
           16.0,
           33.666666666666664,
           "W - Weather",
           "RWY CONFIGURATION (WIND)",
           "Wind"
          ],
          [
           "48",
           -9,
           -24.0,
           29.0,
           "W - Weather",
           "WIND DIRECTION",
           "Wind"
          ],
          [
           "84",
           -20,
           -10.0,
           37.0,
           "W - Weather",
           "strong winds",
           "Wind"
          ],
          [
           "48",
           -20,
           -33.0,
           27.666666666666668,
           "W - Weather",
           "snow",
           "Snow"
          ],
          [
           "24",
           -15,
           15.0,
           8.333333333333334,
           "W - Weather",
           "SNOW",
           "Snow"
          ],
          [
           "60",
           23,
           -16.0,
           33.333333333333336,
           "W - Weather",
           "SNOW",
           "Snow"
          ],
          [
           "72",
           0,
           10.0,
           27.0,
           "W - Weather",
           "TURBULENCE",
           "None"
          ],
          [
           "72",
           6,
           11.0,
           34.333333333333336,
           "W - Weather",
           "LVP/RATE INCREASED/REGUL EXTENDED",
           "None"
          ],
          [
           "72",
           12,
           8.0,
           31.666666666666668,
           "W - Weather",
           "RWY CONFIGURATION - STRONG WINDS",
           "Wind"
          ],
          [
           "84",
           -14,
           12.0,
           34.0,
           "W - Weather",
           "RWY CONFIGURATION - STRONG WINDS",
           "Wind"
          ],
          [
           "24",
           -10,
           14.0,
           6.666666666666667,
           "W - Weather",
           "STRONG WIND",
           "Wind"
          ],
          [
           "36",
           -32,
           -10.0,
           29.333333333333332,
           "W - Weather",
           "STRONG WIND",
           "Wind"
          ],
          [
           "48",
           -15,
           -32.0,
           28.666666666666668,
           "W - Weather",
           "STRONG WIND",
           "Wind"
          ],
          [
           "72",
           -2,
           9.0,
           27.0,
           "W - Weather",
           "STRONG WIND",
           "Wind"
          ],
          [
           "36",
           -27,
           4.0,
           21.0,
           "W - Weather",
           "strong winds",
           "Wind"
          ],
          [
           "48",
           -18,
           -27.0,
           24.0,
           "W - Weather",
           "strong winds",
           "Wind"
          ],
          [
           "36",
           -28,
           -16.0,
           37.333333333333336,
           "W - Weather",
           "WIND DIRECTION",
           "Wind"
          ],
          [
           "60",
           14,
           -14.0,
           35.333333333333336,
           "W - Weather",
           "snow/winds after 1400z REG ENDS EARLIER",
           "Snow"
          ],
          [
           "72",
           4,
           14.0,
           32.666666666666664,
           "W - Weather",
           "snow/winds after 1400z REG ENDS EARLIER",
           "Snow"
          ],
          [
           "24",
           -12,
           14.0,
           8.666666666666666,
           "W - Weather",
           "SNOW  / REGULATION EXTENDED/ rate INCREASED",
           "Snow"
          ],
          [
           "48",
           -17,
           -26.0,
           30.333333333333332,
           "W - Weather",
           "SNOW/REG EXTENDED",
           "Snow"
          ],
          [
           "84",
           -11,
           -1.0,
           26.0,
           "W - Weather",
           "SNOW  / REGULATION EXTENDED/ rate INCREASED",
           "Snow"
          ],
          [
           "24",
           13,
           10.0,
           7.0,
           "W - Weather",
           "strong winds",
           "Wind"
          ],
          [
           "36",
           -18,
           13.0,
           22.666666666666668,
           "W - Weather",
           "LVP",
           "None"
          ],
          [
           "60",
           6,
           -10.0,
           29.0,
           "W - Weather",
           "STRONG WIND",
           "Wind"
          ],
          [
           "72",
           5,
           6.0,
           31.0,
           "W - Weather",
           "SNOW",
           "Snow"
          ],
          [
           "84",
           -14,
           12.0,
           36.0,
           "W - Weather",
           "CB ACTIVITY",
           "CB"
          ],
          [
           "60",
           13,
           -19.0,
           32.333333333333336,
           "W - Weather",
           "WIND DIRECTION",
           "Wind"
          ],
          [
           "48",
           -17,
           -25.0,
           31.666666666666668,
           "W - Weather",
           "LVP",
           "None"
          ],
          [
           "72",
           12,
           17.0,
           35.333333333333336,
           "W - Weather",
           "LVP",
           "None"
          ],
          [
           "84",
           -12,
           12.0,
           36.333333333333336,
           "W - Weather",
           "LVP",
           "None"
          ],
          [
           "24",
           -12,
           14.0,
           8.333333333333334,
           "W - Weather",
           "LOW VISIBILITY",
           "Fog"
          ],
          [
           "48",
           -7,
           -25.0,
           32.333333333333336,
           "W - Weather",
           "LVP Rate increased",
           "None"
          ],
          [
           "72",
           12,
           9.0,
           35.0,
           "W - Weather",
           "LVP Rate increased",
           "None"
          ],
          [
           "36",
           -33,
           -9.0,
           35.666666666666664,
           "W - Weather",
           "FOG",
           "Fog"
          ],
          [
           "72",
           3,
           19.0,
           37.0,
           "W - Weather",
           "low ceiling",
           "None"
          ],
          [
           "36",
           -21,
           1.0,
           33.333333333333336,
           "W - Weather",
           "LVP",
           "None"
          ],
          [
           "72",
           1,
           11.0,
           32.666666666666664,
           "W - Weather",
           "low ceilings",
           "None"
          ],
          [
           "72",
           9,
           15.0,
           36.0,
           "W - Weather",
           "WIND DIRECTION",
           "Wind"
          ],
          [
           "72",
           8,
           13.0,
           32.0,
           "W - Weather",
           "WIND DIRECTION",
           "Wind"
          ],
          [
           "48",
           -11,
           -24.0,
           31.0,
           "W - Weather",
           "wind direction",
           "Wind"
          ],
          [
           "48",
           -11,
           -33.0,
           29.333333333333332,
           "W - Weather",
           "WIND DIRECTION",
           "Wind"
          ],
          [
           "60",
           12,
           -11.0,
           28.666666666666668,
           "W - Weather",
           "WIND DIRECTION",
           "Wind"
          ],
          [
           "72",
           -9,
           12.0,
           29.333333333333332,
           "W - Weather",
           "strong winds",
           "Wind"
          ],
          [
           "48",
           -16,
           -29.0,
           26.0,
           "W - Weather",
           "STORM reg extended",
           "None"
          ],
          [
           "60",
           11,
           -16.0,
           28.666666666666668,
           "W - Weather",
           "wind direction",
           "Wind"
          ],
          [
           "72",
           0,
           11.0,
           33.333333333333336,
           "W - Weather",
           "STORM reg extended",
           "None"
          ],
          [
           "84",
           -10,
           0.0,
           37.333333333333336,
           "W - Weather",
           "STORM reg extended",
           "None"
          ],
          [
           "24",
           -11,
           11.0,
           8.0,
           "W - Weather",
           "SNOW",
           "Snow"
          ],
          [
           "36",
           -30,
           -11.0,
           34.333333333333336,
           "W - Weather",
           "wind direction",
           "Wind"
          ],
          [
           "48",
           -7,
           -30.0,
           31.333333333333332,
           "W - Weather",
           "wind direction",
           "Wind"
          ],
          [
           "72",
           2,
           13.0,
           30.333333333333332,
           "W - Weather",
           "Wind direction",
           "Wind"
          ],
          [
           "84",
           -15,
           2.0,
           35.333333333333336,
           "W - Weather",
           "heavy rain Reg extended",
           "Rain"
          ],
          [
           "48",
           -10,
           -35.0,
           30.333333333333332,
           "W - Weather",
           "WIND DIRECTION",
           "Wind"
          ],
          [
           "60",
           3,
           -5.0,
           31.666666666666668,
           "W - Weather",
           "rain , snow and strong wind/shortened",
           "Snow"
          ],
          [
           "72",
           4,
           3.0,
           33.666666666666664,
           "W - Weather",
           "FORECAST SNOW SHOWERS",
           "Snow"
          ],
          [
           "84",
           -16,
           4.0,
           36.0,
           "W - Weather",
           "forecast Snowfall.",
           "Snow"
          ],
          [
           "24",
           -7,
           8.0,
           7.333333333333333,
           "W - Weather",
           "SNOW. REGULATION EXTENDED.",
           "Snow"
          ],
          [
           "36",
           -32,
           -7.0,
           30.333333333333332,
           "W - Weather",
           "SNOW. REGULATION EXTENDED.",
           "Snow"
          ],
          [
           "48",
           2,
           -32.0,
           32.666666666666664,
           "W - Weather",
           "SNOW. REGULATION EXTENDED.",
           "Snow"
          ],
          [
           "60",
           11,
           2.0,
           33.333333333333336,
           "W - Weather",
           "SNOW. REGULATION EXTENDED.",
           "Snow"
          ],
          [
           "72",
           10,
           11.0,
           30.0,
           "W - Weather",
           "SNOW. REGULATION EXTENDED.",
           "Snow"
          ],
          [
           "84",
           -15,
           10.0,
           33.0,
           "W - Weather",
           "SNOW, 0-RATE 0400-1100 Reg extended.",
           "Snow"
          ],
          [
           "72",
           9,
           13.0,
           31.0,
           "W - Weather",
           "strong wind",
           "Wind"
          ],
          [
           "84",
           -13,
           9.0,
           33.666666666666664,
           "W - Weather",
           "strong wind",
           "Wind"
          ],
          [
           "12",
           8,
           -1.0,
           0.3333333333333333,
           "W - Weather",
           "snow",
           "Snow"
          ],
          [
           "24",
           -5,
           8.0,
           6.333333333333333,
           "W - Weather",
           "snow",
           "Snow"
          ],
          [
           "36",
           -22,
           -5.0,
           28.666666666666668,
           "W - Weather",
           "snow",
           "Snow"
          ],
          [
           "48",
           -10,
           -22.0,
           29.666666666666668,
           "W - Weather",
           "snow",
           "Snow"
          ],
          [
           "60",
           12,
           -10.0,
           30.0,
           "W - Weather",
           "SNOW FALL//REDUCED RATE",
           "Snow"
          ],
          [
           "72",
           4,
           12.0,
           29.0,
           "W - Weather",
           "SNOW FALL//REDUCED RATE",
           "Snow"
          ],
          [
           "84",
           -5,
           4.0,
           27.0,
           "W - Weather",
           "SNOW FALL//REDUCED RATE",
           "Snow"
          ],
          [
           "36",
           -27,
           2.0,
           22.0,
           "W - Weather",
           "STRONG WINDS - RWY CONFIG",
           "Wind"
          ],
          [
           "72",
           8,
           13.0,
           33.333333333333336,
           "W - Weather",
           "RWY CONF. DUE WIND DIRECTION",
           "Wind"
          ],
          [
           "84",
           -14,
           8.0,
           34.0,
           "W - Weather",
           "RWY CONF. DUE WIND DIRECTION",
           "Wind"
          ],
          [
           "12",
           14,
           -1.0,
           0.3333333333333333,
           "W - Weather",
           "wind rwy config",
           "Wind"
          ],
          [
           "36",
           -32,
           -14.0,
           35.666666666666664,
           "W - Weather",
           "CBs",
           "CB"
          ],
          [
           "48",
           4,
           -26.0,
           34.0,
           "W - Weather",
           "LOW CLOUDS, regulation extended",
           "None"
          ],
          [
           "36",
           -34,
           -7.0,
           34.666666666666664,
           "W - Weather",
           "a/d capacity reason after 1700 UTC: low visibility",
           "Fog"
          ],
          [
           "48",
           -14,
           -34.0,
           28.333333333333332,
           "W - Weather",
           "a/d capacity reason after 1700 UTC: low visibility",
           "Fog"
          ],
          [
           "60",
           7,
           -14.0,
           31.666666666666668,
           "W - Weather",
           "a/d capacity reason after 1700 UTC: low visibility",
           "Fog"
          ],
          [
           "72",
           -10,
           7.0,
           26.666666666666668,
           "W - Weather",
           "a/d capacity reason after 1700 UTC: low visibility",
           "Fog"
          ],
          [
           "84",
           -4,
           -10.0,
           26.666666666666668,
           "W - Weather",
           "a/d capacity reason after 1700 UTC: low visibility",
           "Fog"
          ],
          [
           "12",
           11,
           0.0,
           0.0,
           "W - Weather",
           "FROM 1700 REASON A/D CAPACITY.",
           "None"
          ],
          [
           "24",
           3,
           11.0,
           7.0,
           "W - Weather",
           "FROM 1700 REASON A/D CAPACITY.",
           "None"
          ],
          [
           "36",
           -27,
           3.0,
           21.0,
           "W - Weather",
           "FROM 1700 REASON A/D CAPACITY.",
           "None"
          ],
          [
           "48",
           -18,
           -27.0,
           26.0,
           "W - Weather",
           "FROM 1700 REASON A/D CAPACITY.",
           "None"
          ],
          [
           "84",
           -12,
           -3.0,
           36.333333333333336,
           "W - Weather",
           "FROM 1700 REASON A/D CAPACITY.",
           "None"
          ],
          [
           "12",
           16,
           0.0,
           0.0,
           "W - Weather",
           "Fog",
           "Fog"
          ],
          [
           "60",
           17,
           -14.0,
           35.0,
           "W - Weather",
           "CB",
           "CB"
          ],
          [
           "60",
           9,
           -19.0,
           34.666666666666664,
           "W - Weather",
           "CB",
           "CB"
          ],
          [
           "72",
           9,
           9.0,
           35.666666666666664,
           "W - Weather",
           "WIND DIRECTION",
           "Wind"
          ],
          [
           "24",
           -20,
           13.0,
           8.0,
           "W - Weather",
           "LOW VIS",
           "Fog"
          ],
          [
           "48",
           -14,
           -35.0,
           33.666666666666664,
           "W - Weather",
           "TURBULENCE",
           "None"
          ],
          [
           "60",
           4,
           20.0,
           23.333333333333332,
           "W - Weather",
           "WIND DIRECTION.",
           "Wind"
          ],
          [
           "72",
           2,
           4.0,
           29.0,
           "W - Weather",
           "WIND DIRECTION.",
           "Wind"
          ],
          [
           "84",
           -20,
           2.0,
           33.666666666666664,
           "W - Weather",
           "WIND DIRECTION.",
           "Wind"
          ],
          [
           "24",
           -6,
           12.0,
           8.0,
           "W - Weather",
           "SNOW",
           "Snow"
          ],
          [
           "36",
           -25,
           -16.0,
           36.333333333333336,
           "W - Weather",
           "SNOW",
           "Snow"
          ],
          [
           "60",
           9,
           -9.0,
           34.0,
           "W - Weather",
           "Wind direction",
           "Wind"
          ],
          [
           "60",
           -7,
           -21.0,
           32.0,
           "W - Weather",
           "STRONG WIND.",
           "Wind"
          ],
          [
           "72",
           -18,
           -7.0,
           38.333333333333336,
           "W - Weather",
           "STRONG WIND.",
           "Wind"
          ],
          [
           "84",
           -5,
           -18.0,
           29.0,
           "W - Weather",
           "STRONG WIND.",
           "Wind"
          ],
          [
           "72",
           -13,
           -11.0,
           40.333333333333336,
           "W - Weather",
           "CB/s",
           "CB"
          ],
          [
           "24",
           22,
           39.0,
           23.666666666666668,
           "W - Weather",
           "snow and expectation of freezing rain",
           "Snow"
          ],
          [
           "72",
           -19,
           -10.0,
           40.0,
           "W - Weather",
           "STORMS IN BARCELONA TMA",
           "None"
          ],
          [
           "24",
           20,
           38.0,
           22.666666666666668,
           "W - Weather",
           "LVP.",
           "None"
          ],
          [
           "72",
           -19,
           -15.0,
           37.666666666666664,
           "W - Weather",
           "WIND DIRECTION",
           "Wind"
          ],
          [
           "36",
           3,
           27.0,
           34.666666666666664,
           "W - Weather",
           "wind direction",
           "Wind"
          ],
          [
           "72",
           -14,
           -4.0,
           28.333333333333332,
           "W - Weather",
           "Towering CB's",
           "CB"
          ],
          [
           "72",
           -22,
           -8.0,
           43.0,
           "W - Weather",
           "Wind direction",
           "Wind"
          ],
          [
           "24",
           19,
           48.0,
           26.333333333333332,
           "W - Weather",
           "LOW VIS, LOW CLOUDBASE, RAIN",
           "Fog"
          ],
          [
           "60",
           -19,
           -23.0,
           30.666666666666668,
           "W - Weather",
           "WIND DIRECTION",
           "Wind"
          ],
          [
           "24",
           27,
           45.0,
           26.333333333333332,
           "W - Weather",
           "FOG,LVP",
           "Fog"
          ],
          [
           "72",
           -14,
           -17.0,
           38.0,
           "W - Weather",
           "wind",
           "Wind"
          ],
          [
           "72",
           -19,
           -19.0,
           40.666666666666664,
           "W - Weather",
           "WIND DIRECTION/regul extended",
           "Wind"
          ],
          [
           "84",
           -4,
           -26.0,
           23.666666666666668,
           "W - Weather",
           "TS",
           "None"
          ],
          [
           "84",
           -7,
           -32.0,
           32.333333333333336,
           "W - Weather",
           "TS,CB'S HEAVY RAIN",
           "CB"
          ],
          [
           "24",
           27,
           44.0,
           25.333333333333332,
           "W - Weather",
           "CB'S",
           "CB"
          ],
          [
           "72",
           -15,
           -19.0,
           40.666666666666664,
           "W - Weather",
           "CB",
           "CB"
          ],
          [
           "60",
           -16,
           -25.0,
           34.0,
           "W - Weather",
           "WIND DIRECTION",
           "Wind"
          ],
          [
           "72",
           -26,
           -16.0,
           43.0,
           "W - Weather",
           "STRONG WINDS",
           "Wind"
          ],
          [
           "24",
           23,
           49.0,
           27.333333333333332,
           "W - Weather",
           "CBs",
           "CB"
          ],
          [
           "36",
           4,
           26.0,
           30.666666666666668,
           "W - Weather",
           "FORECAST CB",
           "CB"
          ],
          [
           "48",
           -38,
           4.0,
           22.666666666666668,
           "W - Weather",
           "FORECAST CB",
           "CB"
          ],
          [
           "60",
           -17,
           -38.0,
           32.0,
           "W - Weather",
           "FORECAST CB",
           "CB"
          ],
          [
           "60",
           -16,
           -26.0,
           32.333333333333336,
           "W - Weather",
           "WIND DIRECTION",
           "Wind"
          ],
          [
           "72",
           -12,
           -16.0,
           37.0,
           "W - Weather",
           "WIND DIRECTION",
           "Wind"
          ],
          [
           "60",
           -20,
           -33.0,
           34.0,
           "W - Weather",
           "WIND DIRECTION/RWY CONFIG",
           "Wind"
          ],
          [
           "72",
           -18,
           -20.0,
           39.666666666666664,
           "W - Weather",
           "TS",
           "None"
          ],
          [
           "36",
           -2,
           20.0,
           36.333333333333336,
           "W - Weather",
           "Wind direction",
           "Wind"
          ],
          [
           "60",
           -13,
           -19.0,
           32.666666666666664,
           "W - Weather",
           "Wind direction",
           "Wind"
          ],
          [
           "72",
           -25,
           -13.0,
           42.666666666666664,
           "W - Weather",
           "CB'S",
           "CB"
          ],
          [
           "60",
           -17,
           -30.0,
           30.666666666666668,
           "W - Weather",
           "WIND DIRECTION",
           "Wind"
          ],
          [
           "84",
           -10,
           -17.0,
           23.333333333333332,
           "W - Weather",
           "CB'S",
           "CB"
          ],
          [
           "72",
           -28,
           -12.0,
           35.0,
           "W - Weather",
           "cb",
           "CB"
          ],
          [
           "60",
           -22,
           -25.0,
           32.333333333333336,
           "W - Weather",
           "CB",
           "CB"
          ],
          [
           "72",
           -17,
           -22.0,
           41.666666666666664,
           "W - Weather",
           "STRONG WINDS AND RAIN",
           "Rain"
          ],
          [
           "60",
           -16,
           -25.0,
           31.666666666666668,
           "W - Weather",
           "Cb's",
           "CB"
          ],
          [
           "72",
           -19,
           -16.0,
           35.0,
           "W - Weather",
           "cb activity, reg ext",
           "CB"
          ],
          [
           "72",
           -17,
           -4.0,
           39.0,
           "W - Weather",
           "CB's",
           "CB"
          ],
          [
           "24",
           12,
           37.0,
           22.333333333333332,
           "W - Weather",
           "CB'S",
           "CB"
          ],
          [
           "36",
           5,
           12.0,
           31.666666666666668,
           "W - Weather",
           "CB ACTIVITIES",
           "CB"
          ],
          [
           "48",
           -23,
           5.0,
           27.0,
           "W - Weather",
           "CB ACTIVITIES",
           "CB"
          ],
          [
           "84",
           -7,
           -17.0,
           26.666666666666668,
           "W - Weather",
           "RAIN",
           "Rain"
          ],
          [
           "60",
           -27,
           -33.0,
           30.333333333333332,
           "W - Weather",
           "CB ACTIVITY",
           "CB"
          ],
          [
           "84",
           -7,
           -21.0,
           23.333333333333332,
           "W - Weather",
           "CB activity",
           "CB"
          ],
          [
           "48",
           -37,
           14.0,
           26.0,
           "W - Weather",
           "CB'S",
           "CB"
          ],
          [
           "60",
           -22,
           -37.0,
           32.0,
           "W - Weather",
           "CB'S",
           "CB"
          ],
          [
           "72",
           -19,
           -22.0,
           37.333333333333336,
           "W - Weather",
           "THUNDE3RSTORMS",
           "Thunder"
          ],
          [
           "72",
           -5,
           -6.0,
           37.333333333333336,
           "W - Weather",
           "CBs",
           "CB"
          ],
          [
           "84",
           -18,
           -5.0,
           28.333333333333332,
           "W - Weather",
           "CB activity",
           "CB"
          ],
          [
           "60",
           -11,
           -31.0,
           33.666666666666664,
           "W - Weather",
           "CB",
           "CB"
          ],
          [
           "72",
           -24,
           -23.0,
           33.333333333333336,
           "W - Weather",
           "CB's",
           "CB"
          ],
          [
           "48",
           -27,
           15.0,
           26.333333333333332,
           "W - Weather",
           "CB",
           "CB"
          ],
          [
           "60",
           -24,
           -27.0,
           30.333333333333332,
           "W - Weather",
           "CB ACTIVITY",
           "CB"
          ],
          [
           "72",
           -22,
           -24.0,
           36.333333333333336,
           "W - Weather",
           "CB ACTIVITY",
           "CB"
          ],
          [
           "84",
           -9,
           -22.0,
           29.666666666666668,
           "W - Weather",
           "CB ACTIVITY",
           "CB"
          ],
          [
           "72",
           -17,
           -14.0,
           38.666666666666664,
           "W - Weather",
           "CB",
           "CB"
          ],
          [
           "84",
           -5,
           -17.0,
           32.0,
           "W - Weather",
           "CB",
           "CB"
          ],
          [
           "48",
           -23,
           2.0,
           30.666666666666668,
           "W - Weather",
           "CB ACT",
           "CB"
          ],
          [
           "60",
           -18,
           -23.0,
           32.333333333333336,
           "W - Weather",
           "CB ACT",
           "CB"
          ],
          [
           "72",
           -9,
           -18.0,
           34.333333333333336,
           "W - Weather",
           "CB ACT",
           "CB"
          ],
          [
           "60",
           -15,
           -22.0,
           33.333333333333336,
           "W - Weather",
           "CBS",
           "CB"
          ],
          [
           "72",
           -16,
           -15.0,
           36.0,
           "W - Weather",
           "CB",
           "CB"
          ],
          [
           "84",
           -13,
           -16.0,
           30.0,
           "W - Weather",
           "CB ACTIVITY",
           "CB"
          ],
          [
           "24",
           21,
           40.0,
           24.333333333333332,
           "W - Weather",
           "CB's",
           "CB"
          ],
          [
           "60",
           -8,
           -29.0,
           33.333333333333336,
           "W - Weather",
           "CB's",
           "CB"
          ],
          [
           "72",
           -24,
           -8.0,
           35.0,
           "W - Weather",
           "CB's",
           "CB"
          ],
          [
           "36",
           -3,
           22.0,
           37.333333333333336,
           "W - Weather",
           "CB+TS",
           "CB"
          ],
          [
           "72",
           -12,
           -15.0,
           38.333333333333336,
           "W - Weather",
           "cb`s",
           "CB"
          ],
          [
           "84",
           -9,
           -19.0,
           24.666666666666668,
           "W - Weather",
           "cb's",
           "CB"
          ],
          [
           "72",
           -14,
           -19.0,
           35.333333333333336,
           "W - Weather",
           "CB",
           "CB"
          ],
          [
           "60",
           -7,
           -35.0,
           33.666666666666664,
           "W - Weather",
           "cb's",
           "CB"
          ],
          [
           "72",
           -8,
           -7.0,
           37.333333333333336,
           "W - Weather",
           "cb",
           "CB"
          ],
          [
           "12",
           44,
           4.0,
           1.3333333333333333,
           "W - Weather",
           "cb's",
           "CB"
          ],
          [
           "72",
           -23,
           -20.0,
           35.333333333333336,
           "W - Weather",
           "CB",
           "CB"
          ],
          [
           "24",
           29,
           39.0,
           22.666666666666668,
           "W - Weather",
           "cb'S",
           "CB"
          ],
          [
           "48",
           -26,
           7.0,
           29.333333333333332,
           "W - Weather",
           "cb",
           "CB"
          ],
          [
           "60",
           -15,
           -26.0,
           34.0,
           "W - Weather",
           "CB ACT",
           "CB"
          ],
          [
           "72",
           -18,
           -15.0,
           38.0,
           "W - Weather",
           "CB ACT",
           "CB"
          ],
          [
           "60",
           -18,
           -35.0,
           31.333333333333332,
           "W - Weather",
           "CB's",
           "CB"
          ],
          [
           "72",
           -23,
           -18.0,
           35.666666666666664,
           "W - Weather",
           "CB'S",
           "CB"
          ],
          [
           "84",
           -10,
           -23.0,
           20.333333333333332,
           "W - Weather",
           "CB ACTIVITY",
           "CB"
          ],
          [
           "60",
           -3,
           -17.0,
           29.333333333333332,
           "W - Weather",
           "CB ACT",
           "CB"
          ],
          [
           "72",
           -11,
           -3.0,
           40.333333333333336,
           "W - Weather",
           "CB ACTIVITY",
           "CB"
          ],
          [
           "60",
           -14,
           -27.0,
           31.666666666666668,
           "W - Weather",
           "CB ACTIVITY",
           "CB"
          ],
          [
           "72",
           -11,
           -14.0,
           34.666666666666664,
           "W - Weather",
           "CB ACTIVITY",
           "CB"
          ],
          [
           "60",
           -23,
           -38.0,
           33.666666666666664,
           "W - Weather",
           "THUNDERSTORMS",
           "Thunder"
          ],
          [
           "72",
           -25,
           -23.0,
           38.333333333333336,
           "W - Weather",
           "cb's",
           "CB"
          ],
          [
           "48",
           -29,
           -2.0,
           34.666666666666664,
           "W - Weather",
           "CB ACTIVITY",
           "CB"
          ],
          [
           "72",
           -17,
           -18.0,
           40.666666666666664,
           "W - Weather",
           "CB ACTVITY",
           "CB"
          ],
          [
           "60",
           -15,
           -34.0,
           34.333333333333336,
           "W - Weather",
           "cb's",
           "CB"
          ],
          [
           "84",
           -6,
           -19.0,
           35.0,
           "W - Weather",
           "CB REG EXTENDED WITH LOWER RATE",
           "CB"
          ],
          [
           "72",
           -15,
           -14.0,
           39.666666666666664,
           "W - Weather",
           "CB",
           "CB"
          ],
          [
           "84",
           -12,
           -15.0,
           27.0,
           "W - Weather",
           "cb",
           "CB"
          ],
          [
           "72",
           -4,
           -21.0,
           37.666666666666664,
           "W - Weather",
           "cb's, reg extended",
           "CB"
          ],
          [
           "60",
           -11,
           -17.0,
           32.666666666666664,
           "W - Weather",
           "CB ACTIVITY",
           "CB"
          ],
          [
           "72",
           -9,
           -11.0,
           38.666666666666664,
           "W - Weather",
           "CB'S",
           "CB"
          ],
          [
           "84",
           -8,
           -9.0,
           31.333333333333332,
           "W - Weather",
           "CB",
           "CB"
          ],
          [
           "60",
           -12,
           -34.0,
           33.333333333333336,
           "W - Weather",
           "CB'S",
           "CB"
          ],
          [
           "48",
           -35,
           6.0,
           28.0,
           "W - Weather",
           "STRONG WIND REG EXTENDED UNTIL 1400 AFTER CAPACITY",
           "Wind"
          ],
          [
           "60",
           -8,
           -35.0,
           32.666666666666664,
           "W - Weather",
           "STRONG WIND REG EXTENDED UNTIL 1400 AFTER CAPACITY",
           "Wind"
          ],
          [
           "60",
           -22,
           -28.0,
           34.0,
           "W - Weather",
           "CB'S",
           "CB"
          ],
          [
           "36",
           -1,
           26.0,
           36.666666666666664,
           "W - Weather",
           "WIND DIRECTION",
           "Wind"
          ],
          [
           "60",
           -11,
           -26.0,
           35.666666666666664,
           "W - Weather",
           "Avoiding traffic from ajacent acc",
           "None"
          ],
          [
           "72",
           -18,
           -11.0,
           39.666666666666664,
           "W - Weather",
           "cb",
           "CB"
          ],
          [
           "84",
           -10,
           -18.0,
           36.333333333333336,
           "W - Weather",
           "CB ACTIVITY",
           "CB"
          ],
          [
           "72",
           -20,
           -19.0,
           39.666666666666664,
           "W - Weather",
           "CB'S",
           "CB"
          ],
          [
           "84",
           -10,
           -20.0,
           35.0,
           "W - Weather",
           "CB'S",
           "CB"
          ],
          [
           "60",
           -15,
           -29.0,
           30.333333333333332,
           "W - Weather",
           "CB ACTIVITY REG EXTENDED",
           "CB"
          ],
          [
           "72",
           -10,
           -15.0,
           32.666666666666664,
           "W - Weather",
           "cb activities",
           "CB"
          ],
          [
           "84",
           -6,
           -10.0,
           25.666666666666668,
           "W - Weather",
           "cb activities",
           "CB"
          ],
          [
           "48",
           -23,
           -1.0,
           26.333333333333332,
           "W - Weather",
           "CB",
           "CB"
          ],
          [
           "72",
           -29,
           -12.0,
           35.0,
           "W - Weather",
           "CBs",
           "CB"
          ],
          [
           "36",
           -3,
           27.0,
           39.0,
           "W - Weather",
           "CB ACTIVITY REG EXTENDED",
           "CB"
          ],
          [
           "48",
           -32,
           -3.0,
           32.333333333333336,
           "W - Weather",
           "CB ACTIVITY REG EXTENDED",
           "CB"
          ],
          [
           "60",
           -19,
           -32.0,
           32.333333333333336,
           "W - Weather",
           "CB ACTIVITY REG EXTENDED",
           "CB"
          ],
          [
           "72",
           -13,
           -19.0,
           39.666666666666664,
           "W - Weather",
           "CB ACTIVITY REG EXTENDED",
           "CB"
          ],
          [
           "36",
           -4,
           27.0,
           39.666666666666664,
           "W - Weather",
           "CB",
           "CB"
          ],
          [
           "48",
           -41,
           -4.0,
           28.0,
           "W - Weather",
           "CB",
           "CB"
          ],
          [
           "60",
           -18,
           -41.0,
           36.666666666666664,
           "W - Weather",
           "CB",
           "CB"
          ],
          [
           "72",
           -25,
           -18.0,
           38.0,
           "W - Weather",
           "CB's",
           "CB"
          ],
          [
           "48",
           -31,
           -1.0,
           30.666666666666668,
           "W - Weather",
           "cb",
           "CB"
          ],
          [
           "60",
           -12,
           -31.0,
           35.666666666666664,
           "W - Weather",
           "cb",
           "CB"
          ],
          [
           "72",
           -22,
           -12.0,
           39.0,
           "W - Weather",
           "CB",
           "CB"
          ],
          [
           "24",
           27,
           47.0,
           27.0,
           "W - Weather",
           "CB",
           "CB"
          ],
          [
           "48",
           -25,
           -2.0,
           33.333333333333336,
           "W - Weather",
           "CB",
           "CB"
          ],
          [
           "60",
           -14,
           -25.0,
           33.333333333333336,
           "W - Weather",
           "CB",
           "CB"
          ],
          [
           "72",
           -21,
           -14.0,
           42.0,
           "W - Weather",
           "CB",
           "CB"
          ],
          [
           "84",
           -13,
           -9.0,
           33.666666666666664,
           "W - Weather",
           "TS",
           "None"
          ],
          [
           "60",
           -7,
           -12.0,
           33.333333333333336,
           "W - Weather",
           "TS",
           "None"
          ],
          [
           "36",
           7,
           36.0,
           37.0,
           "W - Weather",
           "CB",
           "CB"
          ],
          [
           "48",
           -30,
           7.0,
           31.0,
           "W - Weather",
           "CB",
           "CB"
          ]
         ],
         "hovertemplate": "reg_type=%{customdata[4]}<br>date_idx=%{x}<br>recovery_rate=%{y}<br>tw_idx=%{customdata[0]}<br>capacity_change=%{customdata[1]}<br>prev_capacity_change=%{customdata[2]}<br>prev_avg_capacity=%{customdata[3]}<br>reg_cause=%{customdata[5]}<br>reg_bool_type=%{customdata[6]}<extra></extra>",
         "legendgroup": "W - Weather",
         "marker": {
          "color": "#FFA15A",
          "symbol": "circle"
         },
         "mode": "markers",
         "name": "W - Weather",
         "showlegend": true,
         "x": [
          "2018-01-02",
          "2018-01-02",
          "2018-01-03",
          "2018-01-03",
          "2018-01-03",
          "2018-01-04",
          "2018-01-04",
          "2018-01-04",
          "2018-01-05",
          "2018-01-08",
          "2018-01-08",
          "2018-01-08",
          "2018-01-08",
          "2018-01-08",
          "2018-01-09",
          "2018-01-09",
          "2018-01-10",
          "2018-01-10",
          "2018-01-10",
          "2018-01-12",
          "2018-01-13",
          "2018-01-13",
          "2018-01-13",
          "2018-01-15",
          "2018-01-16",
          "2018-01-16",
          "2018-01-17",
          "2018-01-17",
          "2018-01-17",
          "2018-01-18",
          "2018-01-18",
          "2018-01-19",
          "2018-01-22",
          "2018-01-23",
          "2018-01-24",
          "2018-01-24",
          "2018-01-27",
          "2018-01-29",
          "2018-02-02",
          "2018-02-02",
          "2018-02-03",
          "2018-02-03",
          "2018-02-03",
          "2018-02-03",
          "2018-02-04",
          "2018-02-04",
          "2018-02-05",
          "2018-02-05",
          "2018-02-05",
          "2018-02-07",
          "2018-02-07",
          "2018-02-07",
          "2018-02-11",
          "2018-02-11",
          "2018-02-11",
          "2018-02-11",
          "2018-02-12",
          "2018-02-13",
          "2018-02-14",
          "2018-02-14",
          "2018-02-14",
          "2018-02-15",
          "2018-02-15",
          "2018-02-15",
          "2018-02-16",
          "2018-02-16",
          "2018-02-17",
          "2018-02-19",
          "2018-02-21",
          "2018-02-22",
          "2018-02-23",
          "2018-02-24",
          "2018-02-24",
          "2018-02-24",
          "2018-02-25",
          "2018-02-25",
          "2018-02-25",
          "2018-02-25",
          "2018-02-26",
          "2018-02-26",
          "2018-02-26",
          "2018-02-26",
          "2018-02-26",
          "2018-02-27",
          "2018-02-28",
          "2018-02-28",
          "2018-02-28",
          "2018-03-01",
          "2018-03-01",
          "2018-03-01",
          "2018-03-01",
          "2018-03-01",
          "2018-03-01",
          "2018-03-02",
          "2018-03-02",
          "2018-03-03",
          "2018-03-03",
          "2018-03-03",
          "2018-03-03",
          "2018-03-03",
          "2018-03-03",
          "2018-03-03",
          "2018-03-04",
          "2018-03-06",
          "2018-03-06",
          "2018-03-07",
          "2018-03-08",
          "2018-03-09",
          "2018-03-10",
          "2018-03-10",
          "2018-03-10",
          "2018-03-10",
          "2018-03-10",
          "2018-03-11",
          "2018-03-11",
          "2018-03-11",
          "2018-03-11",
          "2018-03-11",
          "2018-03-12",
          "2018-03-12",
          "2018-03-13",
          "2018-03-13",
          "2018-03-14",
          "2018-03-14",
          "2018-03-18",
          "2018-03-18",
          "2018-03-18",
          "2018-03-19",
          "2018-03-21",
          "2018-03-21",
          "2018-03-26",
          "2018-03-26",
          "2018-03-26",
          "2018-03-28",
          "2018-04-04",
          "2018-04-04",
          "2018-04-05",
          "2018-04-05",
          "2018-04-06",
          "2018-04-10",
          "2018-04-11",
          "2018-04-12",
          "2018-04-13",
          "2018-04-17",
          "2018-04-17",
          "2018-04-18",
          "2018-04-21",
          "2018-04-22",
          "2018-04-23",
          "2018-04-23",
          "2018-04-25",
          "2018-04-25",
          "2018-04-26",
          "2018-04-29",
          "2018-04-29",
          "2018-04-29",
          "2018-04-30",
          "2018-04-30",
          "2018-05-03",
          "2018-05-03",
          "2018-05-04",
          "2018-05-04",
          "2018-05-04",
          "2018-05-05",
          "2018-05-05",
          "2018-05-06",
          "2018-05-07",
          "2018-05-07",
          "2018-05-08",
          "2018-05-08",
          "2018-05-09",
          "2018-05-10",
          "2018-05-11",
          "2018-05-11",
          "2018-05-11",
          "2018-05-12",
          "2018-05-12",
          "2018-05-13",
          "2018-05-13",
          "2018-05-13",
          "2018-05-15",
          "2018-05-15",
          "2018-05-16",
          "2018-05-19",
          "2018-05-20",
          "2018-05-20",
          "2018-05-20",
          "2018-05-20",
          "2018-05-21",
          "2018-05-21",
          "2018-05-22",
          "2018-05-22",
          "2018-05-22",
          "2018-05-23",
          "2018-05-23",
          "2018-05-23",
          "2018-05-24",
          "2018-05-24",
          "2018-05-24",
          "2018-05-25",
          "2018-05-25",
          "2018-05-26",
          "2018-05-27",
          "2018-05-28",
          "2018-05-28",
          "2018-05-29",
          "2018-05-29",
          "2018-05-30",
          "2018-05-30",
          "2018-05-30",
          "2018-05-30",
          "2018-05-31",
          "2018-05-31",
          "2018-05-31",
          "2018-06-01",
          "2018-06-01",
          "2018-06-02",
          "2018-06-02",
          "2018-06-03",
          "2018-06-03",
          "2018-06-04",
          "2018-06-04",
          "2018-06-05",
          "2018-06-05",
          "2018-06-06",
          "2018-06-06",
          "2018-06-07",
          "2018-06-08",
          "2018-06-08",
          "2018-06-08",
          "2018-06-09",
          "2018-06-10",
          "2018-06-10",
          "2018-06-12",
          "2018-06-13",
          "2018-06-13",
          "2018-06-13",
          "2018-06-13",
          "2018-06-14",
          "2018-06-14",
          "2018-06-16",
          "2018-06-16",
          "2018-06-16",
          "2018-06-17",
          "2018-06-17",
          "2018-06-18",
          "2018-06-18",
          "2018-06-18",
          "2018-06-18",
          "2018-06-19",
          "2018-06-19",
          "2018-06-19",
          "2018-06-19",
          "2018-06-21",
          "2018-06-21",
          "2018-06-21",
          "2018-06-22",
          "2018-06-22",
          "2018-06-22",
          "2018-06-22",
          "2018-06-27",
          "2018-06-29",
          "2018-06-30",
          "2018-06-30"
         ],
         "xaxis": "x",
         "y": [
          1.2810167906620034,
          1.4417969614626702,
          1.7418933981083584,
          1.1441732734763228,
          1.5745537343339444,
          2.6801932879127315,
          1.7327906880877626,
          1.328485160501343,
          1.7372819010858485,
          3.350728391656842,
          1.7104024489382692,
          1.9596874980254302,
          2.562998551372218,
          1.777754296300784,
          4.677255508410028,
          1.962124051493444,
          2.940441224404127,
          1.768127775846662,
          0.7587615302643972,
          3.4071968662721352,
          2.570153124109337,
          1.5819722640795006,
          1.0823751012946892,
          1.6025003513968392,
          1.8383501115713363,
          2.7301331695759563,
          1.5019076797589275,
          0.13037279052652345,
          0.4141968501317387,
          3.73066692555385,
          1.940027596610458,
          1.6692755823257253,
          2.385588144469881,
          2.6652569733893827,
          4.81703169137636,
          3.5956564319303363,
          1.724119396978574,
          2.1409152778150355,
          1.804153143868317,
          1.469923055733884,
          4.508521617937517,
          2.404564308317741,
          2.033867098904965,
          1.0584475403525662,
          2.0532347795676853,
          1.778315762132021,
          1.9975681673980181,
          2.4534438846658264,
          1.6935108988020307,
          4.007283814789825,
          -2.5043565760662174,
          0.8062463773487512,
          3.9213139112528212,
          2.8181381904649623,
          3.587480594643506,
          1.9556641941304675,
          1.4816998210014392,
          1.8868908502347979,
          2.4192605314107896,
          2.354555510076378,
          1.4294813389245977,
          3.60126131923726,
          1.3387901361886372,
          0.8141479711956939,
          2.3833353954195733,
          1.1725988145485344,
          -1.548919447122807,
          1.2247065233543108,
          1.6184973108077074,
          1.1401338542559925,
          1.598906544752212,
          3.1389111113591914,
          3.2414238302399148,
          1.8482404363914526,
          2.0251916888669035,
          2.1943541576804626,
          2.094265284357474,
          1.375167883632198,
          3.5142555607159425,
          1.905254072007294,
          2.5898507171221907,
          1.4899606398258325,
          1.394085208500662,
          2.8013455885302223,
          2.20912721894181,
          1.5378188491748146,
          1.3908539854687143,
          4.7418628947057275,
          2.1834585767921646,
          2.513030730766756,
          1.6925630081583416,
          1.7652152349508687,
          1.367524608828554,
          1.5619758705109459,
          1.2200505806305857,
          0.7032511921237765,
          2.4413686083063513,
          2.6132917892918965,
          1.6338386232317732,
          2.2742323047021347,
          1.7318960814264404,
          -2.5336707712658164,
          1.9814616576396187,
          1.835807922328533,
          1.3214505563696815,
          0.9017349862682412,
          2.689554121786405,
          1.1089448372852238,
          1.261248549243766,
          2.023024481455297,
          2.6112556066312473,
          2.117201998035111,
          1.1989322771903,
          0.9231403042846209,
          2.9473301754142724,
          2.9938132325578013,
          2.528274492556592,
          1.2848285848392194,
          0.9340483547981594,
          2.1439037598346498,
          2.888224777012734,
          2.487771240147308,
          3.3893705300099386,
          2.643943714535628,
          1.035967791470398,
          1.143466400255787,
          1.4218797846257207,
          1.9403673338233187,
          2.2633603029173974,
          2.5107284687894804,
          2.064422575918821,
          1.1946393014076127,
          1.5713709200611463,
          1.4372736572743996,
          1.5111064399175147,
          2.0312454640422204,
          2.0300251113249477,
          1.8606448800547366,
          1.7161445885225548,
          1.843519349325764,
          1.561171127340574,
          1.616179288483728,
          1.3182895364453076,
          2.0696699869844815,
          2.4030763555327863,
          1.5934567753594533,
          2.9159236506430526,
          1.4695394224499936,
          2.0193027869892806,
          2.2544928587654067,
          2.514135955839685,
          2.633032724656551,
          1.7710451719391753,
          1.9950861096306658,
          3.0655553934096953,
          3.039795045088365,
          2.9935041892795837,
          1.3737375966240297,
          2.0341780134347345,
          3.0140061774751277,
          1.4268021102861748,
          2.440682761084328,
          1.5692304518415807,
          3.170564200281052,
          1.451345634781498,
          2.185660364518087,
          2.64656735470571,
          3.1223984118655386,
          2.185909782685603,
          1.7649950636121186,
          1.2252235839254293,
          1.5138776655069348,
          1.648162772694663,
          2.9400300300983093,
          1.9993326143998396,
          2.5003104877093345,
          1.2549677041303722,
          1.4003173924163856,
          0.15117352047242089,
          0.3602318700142644,
          1.0248412985392765,
          1.6825820139058707,
          1.0190881429612837,
          0.2124930619752189,
          1.1910540571630748,
          2.8623716076138974,
          1.2169637988950583,
          1.6135007424648489,
          1.406233077309437,
          -3.9963788423628888,
          2.952049439380477,
          1.2955276384284578,
          1.3345818318008182,
          1.1887754550698102,
          0.2982122687558142,
          1.3719485934738138,
          1.422922193959532,
          1.3932343157890734,
          -0.649319020208597,
          1.3306686208450353,
          1.6747748284264412,
          1.425572048763319,
          1.439292995202534,
          2.1873775662549746,
          2.0268727697812974,
          1.9211582046792697,
          1.2547412589696316,
          1.948598222085388,
          1.1222461566914315,
          2.2458490880461244,
          1.266248875562377,
          -0.306890296827994,
          0.1652406817150348,
          1.2328550954148945,
          2.6773514477577223,
          1.4623295504449245,
          3.0637476153163994,
          1.4394581438262637,
          2.674897175837905,
          1.8481275633176113,
          1.2305995373896905,
          2.309227104431676,
          3.2406775733583673,
          1.6853314832183703,
          0.5285282601790842,
          1.878099065763932,
          1.0310497684657705,
          0.4607021255494514,
          0.5154377271333098,
          1.1452624631182613,
          1.7014249043687082,
          1.08363528320459,
          1.9739243293664028,
          -0.21594458181479767,
          1.2816083160224012,
          2.0866743035616326,
          1.7933905680038629,
          -3.1006594951921658,
          1.692138442748753,
          2.262878908874817,
          1.6811907989202184,
          2.844126673005756,
          1.5969190683671601,
          1.9083499599683573,
          1.1828525582828582,
          1.3275313083363296,
          1.352728022971193,
          1.5714013930997288,
          2.0564257535561223,
          1.4709537273950135,
          1.801651093227424,
          1.84385860846086,
          1.705865248692164,
          1.6559408890139329,
          1.6474063089618638,
          1.0828310888697872,
          1.4102974331942977,
          1.49692582226026,
          1.8528857656801352,
          1.638161082310336,
          1.7125117392926759,
          2.3105883605623716,
          1.1648233320524268,
          1.5432291171995474
         ],
         "yaxis": "y",
         "type": "scattergl"
        },
        {
         "alignmentgroup": "True",
         "customdata": [
          [
           "48",
           -24,
           -10.0,
           23.333333333333332,
           "W - Weather",
           "LVP.",
           "None"
          ],
          [
           "72",
           5,
           12.0,
           28.666666666666668,
           "W - Weather",
           "LVP.",
           "None"
          ],
          [
           "24",
           11,
           12.0,
           7.666666666666667,
           "W - Weather",
           "WIND GUSTS/RATE REDUCED/REGUL EXTENDED",
           "Wind"
          ],
          [
           "36",
           -11,
           11.0,
           22.0,
           "W - Weather",
           "WIND GUSTS/RATE REDUCED/REGUL EXTENDED",
           "Wind"
          ],
          [
           "48",
           -5,
           -11.0,
           25.0,
           "W - Weather",
           "WIND GUSTS/RATE REDUCED/REGUL EXTENDED",
           "Wind"
          ],
          [
           "60",
           15,
           -11.0,
           28.0,
           "W - Weather",
           "WIND",
           "Wind"
          ],
          [
           "72",
           -2,
           15.0,
           28.333333333333332,
           "W - Weather",
           "strong winds",
           "Wind"
          ],
          [
           "84",
           -11,
           -2.0,
           25.0,
           "W - Weather",
           "WIND",
           "Wind"
          ],
          [
           "48",
           -17,
           -17.0,
           26.666666666666668,
           "W - Weather",
           "STRONG WIND",
           "Wind"
          ],
          [
           "24",
           -11,
           9.0,
           7.666666666666667,
           "W - Weather",
           "FOG Reg extended",
           "Fog"
          ],
          [
           "36",
           -30,
           -11.0,
           32.0,
           "W - Weather",
           "FOG Reg extended",
           "Fog"
          ],
          [
           "48",
           -11,
           -30.0,
           32.666666666666664,
           "W - Weather",
           "LVP reg.ext.",
           "None"
          ],
          [
           "60",
           14,
           -11.0,
           33.0,
           "W - Weather",
           "storm",
           "None"
          ],
          [
           "72",
           2,
           14.0,
           32.0,
           "W - Weather",
           "lvp",
           "None"
          ],
          [
           "24",
           -9,
           12.0,
           8.333333333333334,
           "W - Weather",
           "fog reg. ext. RVR 700mt",
           "Fog"
          ],
          [
           "36",
           -26,
           -9.0,
           35.333333333333336,
           "W - Weather",
           "fog reg. ext. RVR 700mt",
           "Fog"
          ],
          [
           "36",
           -18,
           -14.0,
           33.666666666666664,
           "W - Weather",
           "lvp",
           "None"
          ],
          [
           "48",
           -22,
           -18.0,
           30.666666666666668,
           "W - Weather",
           "lvp",
           "None"
          ],
          [
           "72",
           7,
           15.0,
           33.0,
           "W - Weather",
           "LOW VISIBILITY",
           "Fog"
          ],
          [
           "24",
           -4,
           11.0,
           9.333333333333334,
           "W - Weather",
           "Low vis",
           "Fog"
          ],
          [
           "36",
           -27,
           -3.0,
           31.0,
           "W - Weather",
           "STRONG WIND REG EXTENDED",
           "Wind"
          ],
          [
           "72",
           -4,
           11.0,
           24.666666666666668,
           "W - Weather",
           "STRONG WINDS",
           "Wind"
          ],
          [
           "84",
           -6,
           -4.0,
           19.666666666666668,
           "W - Weather",
           "STRONG WINDS",
           "Wind"
          ],
          [
           "84",
           -11,
           14.0,
           36.0,
           "W - Weather",
           "LOW VISIBILITY",
           "Fog"
          ],
          [
           "36",
           -25,
           -16.0,
           34.333333333333336,
           "W - Weather",
           "L.V.P.//FOG//REDUCED RATE",
           "Fog"
          ],
          [
           "48",
           -17,
           -25.0,
           28.0,
           "W - Weather",
           "WINDS",
           "Wind"
          ],
          [
           "60",
           7,
           -12.0,
           31.0,
           "W - Weather",
           "STRONG WINDS EXPECTED REGULATION EXTENDED",
           "Wind"
          ],
          [
           "72",
           6,
           7.0,
           34.666666666666664,
           "W - Weather",
           "STRONG WINDS EXPECTED REGULATION EXTENDED",
           "Wind"
          ],
          [
           "84",
           -19,
           6.0,
           35.333333333333336,
           "W - Weather",
           "STRONG WINDS EXPECTED REGULATION EXTENDED",
           "Wind"
          ],
          [
           "36",
           -28,
           -12.0,
           33.666666666666664,
           "W - Weather",
           "FORECAST CB ACTIVITY",
           "CB"
          ],
          [
           "72",
           -5,
           16.0,
           33.666666666666664,
           "W - Weather",
           "RWY CONFIGURATION (WIND)",
           "Wind"
          ],
          [
           "48",
           -9,
           -24.0,
           29.0,
           "W - Weather",
           "WIND DIRECTION",
           "Wind"
          ],
          [
           "84",
           -20,
           -10.0,
           37.0,
           "W - Weather",
           "strong winds",
           "Wind"
          ],
          [
           "48",
           -20,
           -33.0,
           27.666666666666668,
           "W - Weather",
           "snow",
           "Snow"
          ],
          [
           "24",
           -15,
           15.0,
           8.333333333333334,
           "W - Weather",
           "SNOW",
           "Snow"
          ],
          [
           "60",
           23,
           -16.0,
           33.333333333333336,
           "W - Weather",
           "SNOW",
           "Snow"
          ],
          [
           "72",
           0,
           10.0,
           27.0,
           "W - Weather",
           "TURBULENCE",
           "None"
          ],
          [
           "72",
           6,
           11.0,
           34.333333333333336,
           "W - Weather",
           "LVP/RATE INCREASED/REGUL EXTENDED",
           "None"
          ],
          [
           "72",
           12,
           8.0,
           31.666666666666668,
           "W - Weather",
           "RWY CONFIGURATION - STRONG WINDS",
           "Wind"
          ],
          [
           "84",
           -14,
           12.0,
           34.0,
           "W - Weather",
           "RWY CONFIGURATION - STRONG WINDS",
           "Wind"
          ],
          [
           "24",
           -10,
           14.0,
           6.666666666666667,
           "W - Weather",
           "STRONG WIND",
           "Wind"
          ],
          [
           "36",
           -32,
           -10.0,
           29.333333333333332,
           "W - Weather",
           "STRONG WIND",
           "Wind"
          ],
          [
           "48",
           -15,
           -32.0,
           28.666666666666668,
           "W - Weather",
           "STRONG WIND",
           "Wind"
          ],
          [
           "72",
           -2,
           9.0,
           27.0,
           "W - Weather",
           "STRONG WIND",
           "Wind"
          ],
          [
           "36",
           -27,
           4.0,
           21.0,
           "W - Weather",
           "strong winds",
           "Wind"
          ],
          [
           "48",
           -18,
           -27.0,
           24.0,
           "W - Weather",
           "strong winds",
           "Wind"
          ],
          [
           "36",
           -28,
           -16.0,
           37.333333333333336,
           "W - Weather",
           "WIND DIRECTION",
           "Wind"
          ],
          [
           "60",
           14,
           -14.0,
           35.333333333333336,
           "W - Weather",
           "snow/winds after 1400z REG ENDS EARLIER",
           "Snow"
          ],
          [
           "72",
           4,
           14.0,
           32.666666666666664,
           "W - Weather",
           "snow/winds after 1400z REG ENDS EARLIER",
           "Snow"
          ],
          [
           "24",
           -12,
           14.0,
           8.666666666666666,
           "W - Weather",
           "SNOW  / REGULATION EXTENDED/ rate INCREASED",
           "Snow"
          ],
          [
           "48",
           -17,
           -26.0,
           30.333333333333332,
           "W - Weather",
           "SNOW/REG EXTENDED",
           "Snow"
          ],
          [
           "84",
           -11,
           -1.0,
           26.0,
           "W - Weather",
           "SNOW  / REGULATION EXTENDED/ rate INCREASED",
           "Snow"
          ],
          [
           "24",
           13,
           10.0,
           7.0,
           "W - Weather",
           "strong winds",
           "Wind"
          ],
          [
           "36",
           -18,
           13.0,
           22.666666666666668,
           "W - Weather",
           "LVP",
           "None"
          ],
          [
           "60",
           6,
           -10.0,
           29.0,
           "W - Weather",
           "STRONG WIND",
           "Wind"
          ],
          [
           "72",
           5,
           6.0,
           31.0,
           "W - Weather",
           "SNOW",
           "Snow"
          ],
          [
           "84",
           -14,
           12.0,
           36.0,
           "W - Weather",
           "CB ACTIVITY",
           "CB"
          ],
          [
           "60",
           13,
           -19.0,
           32.333333333333336,
           "W - Weather",
           "WIND DIRECTION",
           "Wind"
          ],
          [
           "48",
           -17,
           -25.0,
           31.666666666666668,
           "W - Weather",
           "LVP",
           "None"
          ],
          [
           "72",
           12,
           17.0,
           35.333333333333336,
           "W - Weather",
           "LVP",
           "None"
          ],
          [
           "84",
           -12,
           12.0,
           36.333333333333336,
           "W - Weather",
           "LVP",
           "None"
          ],
          [
           "24",
           -12,
           14.0,
           8.333333333333334,
           "W - Weather",
           "LOW VISIBILITY",
           "Fog"
          ],
          [
           "48",
           -7,
           -25.0,
           32.333333333333336,
           "W - Weather",
           "LVP Rate increased",
           "None"
          ],
          [
           "72",
           12,
           9.0,
           35.0,
           "W - Weather",
           "LVP Rate increased",
           "None"
          ],
          [
           "36",
           -33,
           -9.0,
           35.666666666666664,
           "W - Weather",
           "FOG",
           "Fog"
          ],
          [
           "72",
           3,
           19.0,
           37.0,
           "W - Weather",
           "low ceiling",
           "None"
          ],
          [
           "36",
           -21,
           1.0,
           33.333333333333336,
           "W - Weather",
           "LVP",
           "None"
          ],
          [
           "72",
           1,
           11.0,
           32.666666666666664,
           "W - Weather",
           "low ceilings",
           "None"
          ],
          [
           "72",
           9,
           15.0,
           36.0,
           "W - Weather",
           "WIND DIRECTION",
           "Wind"
          ],
          [
           "72",
           8,
           13.0,
           32.0,
           "W - Weather",
           "WIND DIRECTION",
           "Wind"
          ],
          [
           "48",
           -11,
           -24.0,
           31.0,
           "W - Weather",
           "wind direction",
           "Wind"
          ],
          [
           "48",
           -11,
           -33.0,
           29.333333333333332,
           "W - Weather",
           "WIND DIRECTION",
           "Wind"
          ],
          [
           "60",
           12,
           -11.0,
           28.666666666666668,
           "W - Weather",
           "WIND DIRECTION",
           "Wind"
          ],
          [
           "72",
           -9,
           12.0,
           29.333333333333332,
           "W - Weather",
           "strong winds",
           "Wind"
          ],
          [
           "48",
           -16,
           -29.0,
           26.0,
           "W - Weather",
           "STORM reg extended",
           "None"
          ],
          [
           "60",
           11,
           -16.0,
           28.666666666666668,
           "W - Weather",
           "wind direction",
           "Wind"
          ],
          [
           "72",
           0,
           11.0,
           33.333333333333336,
           "W - Weather",
           "STORM reg extended",
           "None"
          ],
          [
           "84",
           -10,
           0.0,
           37.333333333333336,
           "W - Weather",
           "STORM reg extended",
           "None"
          ],
          [
           "24",
           -11,
           11.0,
           8.0,
           "W - Weather",
           "SNOW",
           "Snow"
          ],
          [
           "36",
           -30,
           -11.0,
           34.333333333333336,
           "W - Weather",
           "wind direction",
           "Wind"
          ],
          [
           "48",
           -7,
           -30.0,
           31.333333333333332,
           "W - Weather",
           "wind direction",
           "Wind"
          ],
          [
           "72",
           2,
           13.0,
           30.333333333333332,
           "W - Weather",
           "Wind direction",
           "Wind"
          ],
          [
           "84",
           -15,
           2.0,
           35.333333333333336,
           "W - Weather",
           "heavy rain Reg extended",
           "Rain"
          ],
          [
           "48",
           -10,
           -35.0,
           30.333333333333332,
           "W - Weather",
           "WIND DIRECTION",
           "Wind"
          ],
          [
           "60",
           3,
           -5.0,
           31.666666666666668,
           "W - Weather",
           "rain , snow and strong wind/shortened",
           "Snow"
          ],
          [
           "72",
           4,
           3.0,
           33.666666666666664,
           "W - Weather",
           "FORECAST SNOW SHOWERS",
           "Snow"
          ],
          [
           "84",
           -16,
           4.0,
           36.0,
           "W - Weather",
           "forecast Snowfall.",
           "Snow"
          ],
          [
           "24",
           -7,
           8.0,
           7.333333333333333,
           "W - Weather",
           "SNOW. REGULATION EXTENDED.",
           "Snow"
          ],
          [
           "36",
           -32,
           -7.0,
           30.333333333333332,
           "W - Weather",
           "SNOW. REGULATION EXTENDED.",
           "Snow"
          ],
          [
           "48",
           2,
           -32.0,
           32.666666666666664,
           "W - Weather",
           "SNOW. REGULATION EXTENDED.",
           "Snow"
          ],
          [
           "60",
           11,
           2.0,
           33.333333333333336,
           "W - Weather",
           "SNOW. REGULATION EXTENDED.",
           "Snow"
          ],
          [
           "72",
           10,
           11.0,
           30.0,
           "W - Weather",
           "SNOW. REGULATION EXTENDED.",
           "Snow"
          ],
          [
           "84",
           -15,
           10.0,
           33.0,
           "W - Weather",
           "SNOW, 0-RATE 0400-1100 Reg extended.",
           "Snow"
          ],
          [
           "72",
           9,
           13.0,
           31.0,
           "W - Weather",
           "strong wind",
           "Wind"
          ],
          [
           "84",
           -13,
           9.0,
           33.666666666666664,
           "W - Weather",
           "strong wind",
           "Wind"
          ],
          [
           "12",
           8,
           -1.0,
           0.3333333333333333,
           "W - Weather",
           "snow",
           "Snow"
          ],
          [
           "24",
           -5,
           8.0,
           6.333333333333333,
           "W - Weather",
           "snow",
           "Snow"
          ],
          [
           "36",
           -22,
           -5.0,
           28.666666666666668,
           "W - Weather",
           "snow",
           "Snow"
          ],
          [
           "48",
           -10,
           -22.0,
           29.666666666666668,
           "W - Weather",
           "snow",
           "Snow"
          ],
          [
           "60",
           12,
           -10.0,
           30.0,
           "W - Weather",
           "SNOW FALL//REDUCED RATE",
           "Snow"
          ],
          [
           "72",
           4,
           12.0,
           29.0,
           "W - Weather",
           "SNOW FALL//REDUCED RATE",
           "Snow"
          ],
          [
           "84",
           -5,
           4.0,
           27.0,
           "W - Weather",
           "SNOW FALL//REDUCED RATE",
           "Snow"
          ],
          [
           "36",
           -27,
           2.0,
           22.0,
           "W - Weather",
           "STRONG WINDS - RWY CONFIG",
           "Wind"
          ],
          [
           "72",
           8,
           13.0,
           33.333333333333336,
           "W - Weather",
           "RWY CONF. DUE WIND DIRECTION",
           "Wind"
          ],
          [
           "84",
           -14,
           8.0,
           34.0,
           "W - Weather",
           "RWY CONF. DUE WIND DIRECTION",
           "Wind"
          ],
          [
           "12",
           14,
           -1.0,
           0.3333333333333333,
           "W - Weather",
           "wind rwy config",
           "Wind"
          ],
          [
           "36",
           -32,
           -14.0,
           35.666666666666664,
           "W - Weather",
           "CBs",
           "CB"
          ],
          [
           "48",
           4,
           -26.0,
           34.0,
           "W - Weather",
           "LOW CLOUDS, regulation extended",
           "None"
          ],
          [
           "36",
           -34,
           -7.0,
           34.666666666666664,
           "W - Weather",
           "a/d capacity reason after 1700 UTC: low visibility",
           "Fog"
          ],
          [
           "48",
           -14,
           -34.0,
           28.333333333333332,
           "W - Weather",
           "a/d capacity reason after 1700 UTC: low visibility",
           "Fog"
          ],
          [
           "60",
           7,
           -14.0,
           31.666666666666668,
           "W - Weather",
           "a/d capacity reason after 1700 UTC: low visibility",
           "Fog"
          ],
          [
           "72",
           -10,
           7.0,
           26.666666666666668,
           "W - Weather",
           "a/d capacity reason after 1700 UTC: low visibility",
           "Fog"
          ],
          [
           "84",
           -4,
           -10.0,
           26.666666666666668,
           "W - Weather",
           "a/d capacity reason after 1700 UTC: low visibility",
           "Fog"
          ],
          [
           "12",
           11,
           0.0,
           0.0,
           "W - Weather",
           "FROM 1700 REASON A/D CAPACITY.",
           "None"
          ],
          [
           "24",
           3,
           11.0,
           7.0,
           "W - Weather",
           "FROM 1700 REASON A/D CAPACITY.",
           "None"
          ],
          [
           "36",
           -27,
           3.0,
           21.0,
           "W - Weather",
           "FROM 1700 REASON A/D CAPACITY.",
           "None"
          ],
          [
           "48",
           -18,
           -27.0,
           26.0,
           "W - Weather",
           "FROM 1700 REASON A/D CAPACITY.",
           "None"
          ],
          [
           "84",
           -12,
           -3.0,
           36.333333333333336,
           "W - Weather",
           "FROM 1700 REASON A/D CAPACITY.",
           "None"
          ],
          [
           "12",
           16,
           0.0,
           0.0,
           "W - Weather",
           "Fog",
           "Fog"
          ],
          [
           "60",
           17,
           -14.0,
           35.0,
           "W - Weather",
           "CB",
           "CB"
          ],
          [
           "60",
           9,
           -19.0,
           34.666666666666664,
           "W - Weather",
           "CB",
           "CB"
          ],
          [
           "72",
           9,
           9.0,
           35.666666666666664,
           "W - Weather",
           "WIND DIRECTION",
           "Wind"
          ],
          [
           "24",
           -20,
           13.0,
           8.0,
           "W - Weather",
           "LOW VIS",
           "Fog"
          ],
          [
           "48",
           -14,
           -35.0,
           33.666666666666664,
           "W - Weather",
           "TURBULENCE",
           "None"
          ],
          [
           "60",
           4,
           20.0,
           23.333333333333332,
           "W - Weather",
           "WIND DIRECTION.",
           "Wind"
          ],
          [
           "72",
           2,
           4.0,
           29.0,
           "W - Weather",
           "WIND DIRECTION.",
           "Wind"
          ],
          [
           "84",
           -20,
           2.0,
           33.666666666666664,
           "W - Weather",
           "WIND DIRECTION.",
           "Wind"
          ],
          [
           "24",
           -6,
           12.0,
           8.0,
           "W - Weather",
           "SNOW",
           "Snow"
          ],
          [
           "36",
           -25,
           -16.0,
           36.333333333333336,
           "W - Weather",
           "SNOW",
           "Snow"
          ],
          [
           "60",
           9,
           -9.0,
           34.0,
           "W - Weather",
           "Wind direction",
           "Wind"
          ],
          [
           "60",
           -7,
           -21.0,
           32.0,
           "W - Weather",
           "STRONG WIND.",
           "Wind"
          ],
          [
           "72",
           -18,
           -7.0,
           38.333333333333336,
           "W - Weather",
           "STRONG WIND.",
           "Wind"
          ],
          [
           "84",
           -5,
           -18.0,
           29.0,
           "W - Weather",
           "STRONG WIND.",
           "Wind"
          ],
          [
           "72",
           -13,
           -11.0,
           40.333333333333336,
           "W - Weather",
           "CB/s",
           "CB"
          ],
          [
           "24",
           22,
           39.0,
           23.666666666666668,
           "W - Weather",
           "snow and expectation of freezing rain",
           "Snow"
          ],
          [
           "72",
           -19,
           -10.0,
           40.0,
           "W - Weather",
           "STORMS IN BARCELONA TMA",
           "None"
          ],
          [
           "24",
           20,
           38.0,
           22.666666666666668,
           "W - Weather",
           "LVP.",
           "None"
          ],
          [
           "72",
           -19,
           -15.0,
           37.666666666666664,
           "W - Weather",
           "WIND DIRECTION",
           "Wind"
          ],
          [
           "36",
           3,
           27.0,
           34.666666666666664,
           "W - Weather",
           "wind direction",
           "Wind"
          ],
          [
           "72",
           -14,
           -4.0,
           28.333333333333332,
           "W - Weather",
           "Towering CB's",
           "CB"
          ],
          [
           "72",
           -22,
           -8.0,
           43.0,
           "W - Weather",
           "Wind direction",
           "Wind"
          ],
          [
           "24",
           19,
           48.0,
           26.333333333333332,
           "W - Weather",
           "LOW VIS, LOW CLOUDBASE, RAIN",
           "Fog"
          ],
          [
           "60",
           -19,
           -23.0,
           30.666666666666668,
           "W - Weather",
           "WIND DIRECTION",
           "Wind"
          ],
          [
           "24",
           27,
           45.0,
           26.333333333333332,
           "W - Weather",
           "FOG,LVP",
           "Fog"
          ],
          [
           "72",
           -14,
           -17.0,
           38.0,
           "W - Weather",
           "wind",
           "Wind"
          ],
          [
           "72",
           -19,
           -19.0,
           40.666666666666664,
           "W - Weather",
           "WIND DIRECTION/regul extended",
           "Wind"
          ],
          [
           "84",
           -4,
           -26.0,
           23.666666666666668,
           "W - Weather",
           "TS",
           "None"
          ],
          [
           "84",
           -7,
           -32.0,
           32.333333333333336,
           "W - Weather",
           "TS,CB'S HEAVY RAIN",
           "CB"
          ],
          [
           "24",
           27,
           44.0,
           25.333333333333332,
           "W - Weather",
           "CB'S",
           "CB"
          ],
          [
           "72",
           -15,
           -19.0,
           40.666666666666664,
           "W - Weather",
           "CB",
           "CB"
          ],
          [
           "60",
           -16,
           -25.0,
           34.0,
           "W - Weather",
           "WIND DIRECTION",
           "Wind"
          ],
          [
           "72",
           -26,
           -16.0,
           43.0,
           "W - Weather",
           "STRONG WINDS",
           "Wind"
          ],
          [
           "24",
           23,
           49.0,
           27.333333333333332,
           "W - Weather",
           "CBs",
           "CB"
          ],
          [
           "36",
           4,
           26.0,
           30.666666666666668,
           "W - Weather",
           "FORECAST CB",
           "CB"
          ],
          [
           "48",
           -38,
           4.0,
           22.666666666666668,
           "W - Weather",
           "FORECAST CB",
           "CB"
          ],
          [
           "60",
           -17,
           -38.0,
           32.0,
           "W - Weather",
           "FORECAST CB",
           "CB"
          ],
          [
           "60",
           -16,
           -26.0,
           32.333333333333336,
           "W - Weather",
           "WIND DIRECTION",
           "Wind"
          ],
          [
           "72",
           -12,
           -16.0,
           37.0,
           "W - Weather",
           "WIND DIRECTION",
           "Wind"
          ],
          [
           "60",
           -20,
           -33.0,
           34.0,
           "W - Weather",
           "WIND DIRECTION/RWY CONFIG",
           "Wind"
          ],
          [
           "72",
           -18,
           -20.0,
           39.666666666666664,
           "W - Weather",
           "TS",
           "None"
          ],
          [
           "36",
           -2,
           20.0,
           36.333333333333336,
           "W - Weather",
           "Wind direction",
           "Wind"
          ],
          [
           "60",
           -13,
           -19.0,
           32.666666666666664,
           "W - Weather",
           "Wind direction",
           "Wind"
          ],
          [
           "72",
           -25,
           -13.0,
           42.666666666666664,
           "W - Weather",
           "CB'S",
           "CB"
          ],
          [
           "60",
           -17,
           -30.0,
           30.666666666666668,
           "W - Weather",
           "WIND DIRECTION",
           "Wind"
          ],
          [
           "84",
           -10,
           -17.0,
           23.333333333333332,
           "W - Weather",
           "CB'S",
           "CB"
          ],
          [
           "72",
           -28,
           -12.0,
           35.0,
           "W - Weather",
           "cb",
           "CB"
          ],
          [
           "60",
           -22,
           -25.0,
           32.333333333333336,
           "W - Weather",
           "CB",
           "CB"
          ],
          [
           "72",
           -17,
           -22.0,
           41.666666666666664,
           "W - Weather",
           "STRONG WINDS AND RAIN",
           "Rain"
          ],
          [
           "60",
           -16,
           -25.0,
           31.666666666666668,
           "W - Weather",
           "Cb's",
           "CB"
          ],
          [
           "72",
           -19,
           -16.0,
           35.0,
           "W - Weather",
           "cb activity, reg ext",
           "CB"
          ],
          [
           "72",
           -17,
           -4.0,
           39.0,
           "W - Weather",
           "CB's",
           "CB"
          ],
          [
           "24",
           12,
           37.0,
           22.333333333333332,
           "W - Weather",
           "CB'S",
           "CB"
          ],
          [
           "36",
           5,
           12.0,
           31.666666666666668,
           "W - Weather",
           "CB ACTIVITIES",
           "CB"
          ],
          [
           "48",
           -23,
           5.0,
           27.0,
           "W - Weather",
           "CB ACTIVITIES",
           "CB"
          ],
          [
           "84",
           -7,
           -17.0,
           26.666666666666668,
           "W - Weather",
           "RAIN",
           "Rain"
          ],
          [
           "60",
           -27,
           -33.0,
           30.333333333333332,
           "W - Weather",
           "CB ACTIVITY",
           "CB"
          ],
          [
           "84",
           -7,
           -21.0,
           23.333333333333332,
           "W - Weather",
           "CB activity",
           "CB"
          ],
          [
           "48",
           -37,
           14.0,
           26.0,
           "W - Weather",
           "CB'S",
           "CB"
          ],
          [
           "60",
           -22,
           -37.0,
           32.0,
           "W - Weather",
           "CB'S",
           "CB"
          ],
          [
           "72",
           -19,
           -22.0,
           37.333333333333336,
           "W - Weather",
           "THUNDE3RSTORMS",
           "Thunder"
          ],
          [
           "72",
           -5,
           -6.0,
           37.333333333333336,
           "W - Weather",
           "CBs",
           "CB"
          ],
          [
           "84",
           -18,
           -5.0,
           28.333333333333332,
           "W - Weather",
           "CB activity",
           "CB"
          ],
          [
           "60",
           -11,
           -31.0,
           33.666666666666664,
           "W - Weather",
           "CB",
           "CB"
          ],
          [
           "72",
           -24,
           -23.0,
           33.333333333333336,
           "W - Weather",
           "CB's",
           "CB"
          ],
          [
           "48",
           -27,
           15.0,
           26.333333333333332,
           "W - Weather",
           "CB",
           "CB"
          ],
          [
           "60",
           -24,
           -27.0,
           30.333333333333332,
           "W - Weather",
           "CB ACTIVITY",
           "CB"
          ],
          [
           "72",
           -22,
           -24.0,
           36.333333333333336,
           "W - Weather",
           "CB ACTIVITY",
           "CB"
          ],
          [
           "84",
           -9,
           -22.0,
           29.666666666666668,
           "W - Weather",
           "CB ACTIVITY",
           "CB"
          ],
          [
           "72",
           -17,
           -14.0,
           38.666666666666664,
           "W - Weather",
           "CB",
           "CB"
          ],
          [
           "84",
           -5,
           -17.0,
           32.0,
           "W - Weather",
           "CB",
           "CB"
          ],
          [
           "48",
           -23,
           2.0,
           30.666666666666668,
           "W - Weather",
           "CB ACT",
           "CB"
          ],
          [
           "60",
           -18,
           -23.0,
           32.333333333333336,
           "W - Weather",
           "CB ACT",
           "CB"
          ],
          [
           "72",
           -9,
           -18.0,
           34.333333333333336,
           "W - Weather",
           "CB ACT",
           "CB"
          ],
          [
           "60",
           -15,
           -22.0,
           33.333333333333336,
           "W - Weather",
           "CBS",
           "CB"
          ],
          [
           "72",
           -16,
           -15.0,
           36.0,
           "W - Weather",
           "CB",
           "CB"
          ],
          [
           "84",
           -13,
           -16.0,
           30.0,
           "W - Weather",
           "CB ACTIVITY",
           "CB"
          ],
          [
           "24",
           21,
           40.0,
           24.333333333333332,
           "W - Weather",
           "CB's",
           "CB"
          ],
          [
           "60",
           -8,
           -29.0,
           33.333333333333336,
           "W - Weather",
           "CB's",
           "CB"
          ],
          [
           "72",
           -24,
           -8.0,
           35.0,
           "W - Weather",
           "CB's",
           "CB"
          ],
          [
           "36",
           -3,
           22.0,
           37.333333333333336,
           "W - Weather",
           "CB+TS",
           "CB"
          ],
          [
           "72",
           -12,
           -15.0,
           38.333333333333336,
           "W - Weather",
           "cb`s",
           "CB"
          ],
          [
           "84",
           -9,
           -19.0,
           24.666666666666668,
           "W - Weather",
           "cb's",
           "CB"
          ],
          [
           "72",
           -14,
           -19.0,
           35.333333333333336,
           "W - Weather",
           "CB",
           "CB"
          ],
          [
           "60",
           -7,
           -35.0,
           33.666666666666664,
           "W - Weather",
           "cb's",
           "CB"
          ],
          [
           "72",
           -8,
           -7.0,
           37.333333333333336,
           "W - Weather",
           "cb",
           "CB"
          ],
          [
           "12",
           44,
           4.0,
           1.3333333333333333,
           "W - Weather",
           "cb's",
           "CB"
          ],
          [
           "72",
           -23,
           -20.0,
           35.333333333333336,
           "W - Weather",
           "CB",
           "CB"
          ],
          [
           "24",
           29,
           39.0,
           22.666666666666668,
           "W - Weather",
           "cb'S",
           "CB"
          ],
          [
           "48",
           -26,
           7.0,
           29.333333333333332,
           "W - Weather",
           "cb",
           "CB"
          ],
          [
           "60",
           -15,
           -26.0,
           34.0,
           "W - Weather",
           "CB ACT",
           "CB"
          ],
          [
           "72",
           -18,
           -15.0,
           38.0,
           "W - Weather",
           "CB ACT",
           "CB"
          ],
          [
           "60",
           -18,
           -35.0,
           31.333333333333332,
           "W - Weather",
           "CB's",
           "CB"
          ],
          [
           "72",
           -23,
           -18.0,
           35.666666666666664,
           "W - Weather",
           "CB'S",
           "CB"
          ],
          [
           "84",
           -10,
           -23.0,
           20.333333333333332,
           "W - Weather",
           "CB ACTIVITY",
           "CB"
          ],
          [
           "60",
           -3,
           -17.0,
           29.333333333333332,
           "W - Weather",
           "CB ACT",
           "CB"
          ],
          [
           "72",
           -11,
           -3.0,
           40.333333333333336,
           "W - Weather",
           "CB ACTIVITY",
           "CB"
          ],
          [
           "60",
           -14,
           -27.0,
           31.666666666666668,
           "W - Weather",
           "CB ACTIVITY",
           "CB"
          ],
          [
           "72",
           -11,
           -14.0,
           34.666666666666664,
           "W - Weather",
           "CB ACTIVITY",
           "CB"
          ],
          [
           "60",
           -23,
           -38.0,
           33.666666666666664,
           "W - Weather",
           "THUNDERSTORMS",
           "Thunder"
          ],
          [
           "72",
           -25,
           -23.0,
           38.333333333333336,
           "W - Weather",
           "cb's",
           "CB"
          ],
          [
           "48",
           -29,
           -2.0,
           34.666666666666664,
           "W - Weather",
           "CB ACTIVITY",
           "CB"
          ],
          [
           "72",
           -17,
           -18.0,
           40.666666666666664,
           "W - Weather",
           "CB ACTVITY",
           "CB"
          ],
          [
           "60",
           -15,
           -34.0,
           34.333333333333336,
           "W - Weather",
           "cb's",
           "CB"
          ],
          [
           "84",
           -6,
           -19.0,
           35.0,
           "W - Weather",
           "CB REG EXTENDED WITH LOWER RATE",
           "CB"
          ],
          [
           "72",
           -15,
           -14.0,
           39.666666666666664,
           "W - Weather",
           "CB",
           "CB"
          ],
          [
           "84",
           -12,
           -15.0,
           27.0,
           "W - Weather",
           "cb",
           "CB"
          ],
          [
           "72",
           -4,
           -21.0,
           37.666666666666664,
           "W - Weather",
           "cb's, reg extended",
           "CB"
          ],
          [
           "60",
           -11,
           -17.0,
           32.666666666666664,
           "W - Weather",
           "CB ACTIVITY",
           "CB"
          ],
          [
           "72",
           -9,
           -11.0,
           38.666666666666664,
           "W - Weather",
           "CB'S",
           "CB"
          ],
          [
           "84",
           -8,
           -9.0,
           31.333333333333332,
           "W - Weather",
           "CB",
           "CB"
          ],
          [
           "60",
           -12,
           -34.0,
           33.333333333333336,
           "W - Weather",
           "CB'S",
           "CB"
          ],
          [
           "48",
           -35,
           6.0,
           28.0,
           "W - Weather",
           "STRONG WIND REG EXTENDED UNTIL 1400 AFTER CAPACITY",
           "Wind"
          ],
          [
           "60",
           -8,
           -35.0,
           32.666666666666664,
           "W - Weather",
           "STRONG WIND REG EXTENDED UNTIL 1400 AFTER CAPACITY",
           "Wind"
          ],
          [
           "60",
           -22,
           -28.0,
           34.0,
           "W - Weather",
           "CB'S",
           "CB"
          ],
          [
           "36",
           -1,
           26.0,
           36.666666666666664,
           "W - Weather",
           "WIND DIRECTION",
           "Wind"
          ],
          [
           "60",
           -11,
           -26.0,
           35.666666666666664,
           "W - Weather",
           "Avoiding traffic from ajacent acc",
           "None"
          ],
          [
           "72",
           -18,
           -11.0,
           39.666666666666664,
           "W - Weather",
           "cb",
           "CB"
          ],
          [
           "84",
           -10,
           -18.0,
           36.333333333333336,
           "W - Weather",
           "CB ACTIVITY",
           "CB"
          ],
          [
           "72",
           -20,
           -19.0,
           39.666666666666664,
           "W - Weather",
           "CB'S",
           "CB"
          ],
          [
           "84",
           -10,
           -20.0,
           35.0,
           "W - Weather",
           "CB'S",
           "CB"
          ],
          [
           "60",
           -15,
           -29.0,
           30.333333333333332,
           "W - Weather",
           "CB ACTIVITY REG EXTENDED",
           "CB"
          ],
          [
           "72",
           -10,
           -15.0,
           32.666666666666664,
           "W - Weather",
           "cb activities",
           "CB"
          ],
          [
           "84",
           -6,
           -10.0,
           25.666666666666668,
           "W - Weather",
           "cb activities",
           "CB"
          ],
          [
           "48",
           -23,
           -1.0,
           26.333333333333332,
           "W - Weather",
           "CB",
           "CB"
          ],
          [
           "72",
           -29,
           -12.0,
           35.0,
           "W - Weather",
           "CBs",
           "CB"
          ],
          [
           "36",
           -3,
           27.0,
           39.0,
           "W - Weather",
           "CB ACTIVITY REG EXTENDED",
           "CB"
          ],
          [
           "48",
           -32,
           -3.0,
           32.333333333333336,
           "W - Weather",
           "CB ACTIVITY REG EXTENDED",
           "CB"
          ],
          [
           "60",
           -19,
           -32.0,
           32.333333333333336,
           "W - Weather",
           "CB ACTIVITY REG EXTENDED",
           "CB"
          ],
          [
           "72",
           -13,
           -19.0,
           39.666666666666664,
           "W - Weather",
           "CB ACTIVITY REG EXTENDED",
           "CB"
          ],
          [
           "36",
           -4,
           27.0,
           39.666666666666664,
           "W - Weather",
           "CB",
           "CB"
          ],
          [
           "48",
           -41,
           -4.0,
           28.0,
           "W - Weather",
           "CB",
           "CB"
          ],
          [
           "60",
           -18,
           -41.0,
           36.666666666666664,
           "W - Weather",
           "CB",
           "CB"
          ],
          [
           "72",
           -25,
           -18.0,
           38.0,
           "W - Weather",
           "CB's",
           "CB"
          ],
          [
           "48",
           -31,
           -1.0,
           30.666666666666668,
           "W - Weather",
           "cb",
           "CB"
          ],
          [
           "60",
           -12,
           -31.0,
           35.666666666666664,
           "W - Weather",
           "cb",
           "CB"
          ],
          [
           "72",
           -22,
           -12.0,
           39.0,
           "W - Weather",
           "CB",
           "CB"
          ],
          [
           "24",
           27,
           47.0,
           27.0,
           "W - Weather",
           "CB",
           "CB"
          ],
          [
           "48",
           -25,
           -2.0,
           33.333333333333336,
           "W - Weather",
           "CB",
           "CB"
          ],
          [
           "60",
           -14,
           -25.0,
           33.333333333333336,
           "W - Weather",
           "CB",
           "CB"
          ],
          [
           "72",
           -21,
           -14.0,
           42.0,
           "W - Weather",
           "CB",
           "CB"
          ],
          [
           "84",
           -13,
           -9.0,
           33.666666666666664,
           "W - Weather",
           "TS",
           "None"
          ],
          [
           "60",
           -7,
           -12.0,
           33.333333333333336,
           "W - Weather",
           "TS",
           "None"
          ],
          [
           "36",
           7,
           36.0,
           37.0,
           "W - Weather",
           "CB",
           "CB"
          ],
          [
           "48",
           -30,
           7.0,
           31.0,
           "W - Weather",
           "CB",
           "CB"
          ]
         ],
         "hovertemplate": "reg_type=%{customdata[4]}<br>recovery_rate=%{y}<br>tw_idx=%{customdata[0]}<br>capacity_change=%{customdata[1]}<br>prev_capacity_change=%{customdata[2]}<br>prev_avg_capacity=%{customdata[3]}<br>reg_cause=%{customdata[5]}<br>reg_bool_type=%{customdata[6]}<extra></extra>",
         "legendgroup": "W - Weather",
         "marker": {
          "color": "#FFA15A",
          "symbol": "circle"
         },
         "name": "W - Weather",
         "notched": true,
         "offsetgroup": "W - Weather",
         "showlegend": false,
         "xaxis": "x2",
         "y": [
          1.2810167906620034,
          1.4417969614626702,
          1.7418933981083584,
          1.1441732734763228,
          1.5745537343339444,
          2.6801932879127315,
          1.7327906880877626,
          1.328485160501343,
          1.7372819010858485,
          3.350728391656842,
          1.7104024489382692,
          1.9596874980254302,
          2.562998551372218,
          1.777754296300784,
          4.677255508410028,
          1.962124051493444,
          2.940441224404127,
          1.768127775846662,
          0.7587615302643972,
          3.4071968662721352,
          2.570153124109337,
          1.5819722640795006,
          1.0823751012946892,
          1.6025003513968392,
          1.8383501115713363,
          2.7301331695759563,
          1.5019076797589275,
          0.13037279052652345,
          0.4141968501317387,
          3.73066692555385,
          1.940027596610458,
          1.6692755823257253,
          2.385588144469881,
          2.6652569733893827,
          4.81703169137636,
          3.5956564319303363,
          1.724119396978574,
          2.1409152778150355,
          1.804153143868317,
          1.469923055733884,
          4.508521617937517,
          2.404564308317741,
          2.033867098904965,
          1.0584475403525662,
          2.0532347795676853,
          1.778315762132021,
          1.9975681673980181,
          2.4534438846658264,
          1.6935108988020307,
          4.007283814789825,
          -2.5043565760662174,
          0.8062463773487512,
          3.9213139112528212,
          2.8181381904649623,
          3.587480594643506,
          1.9556641941304675,
          1.4816998210014392,
          1.8868908502347979,
          2.4192605314107896,
          2.354555510076378,
          1.4294813389245977,
          3.60126131923726,
          1.3387901361886372,
          0.8141479711956939,
          2.3833353954195733,
          1.1725988145485344,
          -1.548919447122807,
          1.2247065233543108,
          1.6184973108077074,
          1.1401338542559925,
          1.598906544752212,
          3.1389111113591914,
          3.2414238302399148,
          1.8482404363914526,
          2.0251916888669035,
          2.1943541576804626,
          2.094265284357474,
          1.375167883632198,
          3.5142555607159425,
          1.905254072007294,
          2.5898507171221907,
          1.4899606398258325,
          1.394085208500662,
          2.8013455885302223,
          2.20912721894181,
          1.5378188491748146,
          1.3908539854687143,
          4.7418628947057275,
          2.1834585767921646,
          2.513030730766756,
          1.6925630081583416,
          1.7652152349508687,
          1.367524608828554,
          1.5619758705109459,
          1.2200505806305857,
          0.7032511921237765,
          2.4413686083063513,
          2.6132917892918965,
          1.6338386232317732,
          2.2742323047021347,
          1.7318960814264404,
          -2.5336707712658164,
          1.9814616576396187,
          1.835807922328533,
          1.3214505563696815,
          0.9017349862682412,
          2.689554121786405,
          1.1089448372852238,
          1.261248549243766,
          2.023024481455297,
          2.6112556066312473,
          2.117201998035111,
          1.1989322771903,
          0.9231403042846209,
          2.9473301754142724,
          2.9938132325578013,
          2.528274492556592,
          1.2848285848392194,
          0.9340483547981594,
          2.1439037598346498,
          2.888224777012734,
          2.487771240147308,
          3.3893705300099386,
          2.643943714535628,
          1.035967791470398,
          1.143466400255787,
          1.4218797846257207,
          1.9403673338233187,
          2.2633603029173974,
          2.5107284687894804,
          2.064422575918821,
          1.1946393014076127,
          1.5713709200611463,
          1.4372736572743996,
          1.5111064399175147,
          2.0312454640422204,
          2.0300251113249477,
          1.8606448800547366,
          1.7161445885225548,
          1.843519349325764,
          1.561171127340574,
          1.616179288483728,
          1.3182895364453076,
          2.0696699869844815,
          2.4030763555327863,
          1.5934567753594533,
          2.9159236506430526,
          1.4695394224499936,
          2.0193027869892806,
          2.2544928587654067,
          2.514135955839685,
          2.633032724656551,
          1.7710451719391753,
          1.9950861096306658,
          3.0655553934096953,
          3.039795045088365,
          2.9935041892795837,
          1.3737375966240297,
          2.0341780134347345,
          3.0140061774751277,
          1.4268021102861748,
          2.440682761084328,
          1.5692304518415807,
          3.170564200281052,
          1.451345634781498,
          2.185660364518087,
          2.64656735470571,
          3.1223984118655386,
          2.185909782685603,
          1.7649950636121186,
          1.2252235839254293,
          1.5138776655069348,
          1.648162772694663,
          2.9400300300983093,
          1.9993326143998396,
          2.5003104877093345,
          1.2549677041303722,
          1.4003173924163856,
          0.15117352047242089,
          0.3602318700142644,
          1.0248412985392765,
          1.6825820139058707,
          1.0190881429612837,
          0.2124930619752189,
          1.1910540571630748,
          2.8623716076138974,
          1.2169637988950583,
          1.6135007424648489,
          1.406233077309437,
          -3.9963788423628888,
          2.952049439380477,
          1.2955276384284578,
          1.3345818318008182,
          1.1887754550698102,
          0.2982122687558142,
          1.3719485934738138,
          1.422922193959532,
          1.3932343157890734,
          -0.649319020208597,
          1.3306686208450353,
          1.6747748284264412,
          1.425572048763319,
          1.439292995202534,
          2.1873775662549746,
          2.0268727697812974,
          1.9211582046792697,
          1.2547412589696316,
          1.948598222085388,
          1.1222461566914315,
          2.2458490880461244,
          1.266248875562377,
          -0.306890296827994,
          0.1652406817150348,
          1.2328550954148945,
          2.6773514477577223,
          1.4623295504449245,
          3.0637476153163994,
          1.4394581438262637,
          2.674897175837905,
          1.8481275633176113,
          1.2305995373896905,
          2.309227104431676,
          3.2406775733583673,
          1.6853314832183703,
          0.5285282601790842,
          1.878099065763932,
          1.0310497684657705,
          0.4607021255494514,
          0.5154377271333098,
          1.1452624631182613,
          1.7014249043687082,
          1.08363528320459,
          1.9739243293664028,
          -0.21594458181479767,
          1.2816083160224012,
          2.0866743035616326,
          1.7933905680038629,
          -3.1006594951921658,
          1.692138442748753,
          2.262878908874817,
          1.6811907989202184,
          2.844126673005756,
          1.5969190683671601,
          1.9083499599683573,
          1.1828525582828582,
          1.3275313083363296,
          1.352728022971193,
          1.5714013930997288,
          2.0564257535561223,
          1.4709537273950135,
          1.801651093227424,
          1.84385860846086,
          1.705865248692164,
          1.6559408890139329,
          1.6474063089618638,
          1.0828310888697872,
          1.4102974331942977,
          1.49692582226026,
          1.8528857656801352,
          1.638161082310336,
          1.7125117392926759,
          2.3105883605623716,
          1.1648233320524268,
          1.5432291171995474
         ],
         "yaxis": "y2",
         "type": "box"
        },
        {
         "customdata": [
          [
           "12",
           12,
           -1.0,
           0.6666666666666666,
           "None",
           "None",
           "None"
          ],
          [
           "12",
           8,
           -1.0,
           0.3333333333333333,
           "None",
           "None",
           "None"
          ],
          [
           "24",
           15,
           8.0,
           8.0,
           "None",
           "None",
           "None"
          ],
          [
           "84",
           -14,
           -1.0,
           30.0,
           "None",
           "None",
           "None"
          ],
          [
           "12",
           12,
           -1.0,
           0.3333333333333333,
           "None",
           "None",
           "None"
          ],
          [
           "84",
           -12,
           8.0,
           33.0,
           "None",
           "None",
           "None"
          ],
          [
           "12",
           11,
           0.0,
           0.6666666666666666,
           "None",
           "None",
           "None"
          ],
          [
           "12",
           11,
           -1.0,
           0.3333333333333333,
           "None",
           "None",
           "None"
          ],
          [
           "12",
           10,
           0.0,
           0.0,
           "None",
           "None",
           "None"
          ],
          [
           "24",
           13,
           10.0,
           7.333333333333333,
           "None",
           "None",
           "None"
          ],
          [
           "12",
           16,
           0.0,
           0.0,
           "None",
           "None",
           "None"
          ],
          [
           "0",
           0,
           -16.0,
           5.666666666666667,
           "None",
           "None",
           "None"
          ],
          [
           "12",
           13,
           0.0,
           0.6666666666666666,
           "None",
           "None",
           "None"
          ],
          [
           "12",
           12,
           -2.0,
           0.6666666666666666,
           "None",
           "None",
           "None"
          ],
          [
           "12",
           13,
           -1.0,
           0.3333333333333333,
           "None",
           "None",
           "None"
          ],
          [
           "12",
           10,
           0.0,
           0.0,
           "None",
           "None",
           "None"
          ],
          [
           "12",
           15,
           -1.0,
           0.3333333333333333,
           "None",
           "None",
           "None"
          ],
          [
           "12",
           13,
           -1.0,
           0.3333333333333333,
           "None",
           "None",
           "None"
          ],
          [
           "84",
           -10,
           5.0,
           37.666666666666664,
           "None",
           "None",
           "None"
          ],
          [
           "12",
           16,
           -1.0,
           0.3333333333333333,
           "None",
           "None",
           "None"
          ],
          [
           "12",
           12,
           -1.0,
           0.3333333333333333,
           "None",
           "None",
           "None"
          ],
          [
           "84",
           -15,
           6.0,
           36.0,
           "None",
           "None",
           "None"
          ],
          [
           "84",
           -12,
           4.0,
           35.333333333333336,
           "None",
           "None",
           "None"
          ],
          [
           "12",
           14,
           -1.0,
           0.3333333333333333,
           "None",
           "None",
           "None"
          ],
          [
           "0",
           -1,
           -13.0,
           4.666666666666667,
           "None",
           "None",
           "None"
          ],
          [
           "12",
           14,
           -1.0,
           0.3333333333333333,
           "None",
           "None",
           "None"
          ],
          [
           "24",
           -13,
           14.0,
           8.666666666666666,
           "None",
           "None",
           "None"
          ],
          [
           "12",
           14,
           -1.0,
           0.3333333333333333,
           "None",
           "None",
           "None"
          ],
          [
           "12",
           10,
           1.0,
           0.3333333333333333,
           "None",
           "None",
           "None"
          ],
          [
           "12",
           14,
           1.0,
           0.3333333333333333,
           "None",
           "None",
           "None"
          ],
          [
           "12",
           18,
           1.0,
           1.0,
           "None",
           "None",
           "None"
          ],
          [
           "12",
           13,
           0.0,
           0.6666666666666666,
           "None",
           "None",
           "None"
          ],
          [
           "24",
           -12,
           13.0,
           8.666666666666666,
           "None",
           "None",
           "None"
          ],
          [
           "12",
           13,
           -2.0,
           0.6666666666666666,
           "None",
           "None",
           "None"
          ],
          [
           "12",
           9,
           0.0,
           0.0,
           "None",
           "None",
           "None"
          ],
          [
           "12",
           11,
           -1.0,
           0.3333333333333333,
           "None",
           "None",
           "None"
          ],
          [
           "12",
           15,
           -1.0,
           0.3333333333333333,
           "None",
           "None",
           "None"
          ],
          [
           "12",
           18,
           -1.0,
           0.3333333333333333,
           "None",
           "None",
           "None"
          ],
          [
           "24",
           -4,
           18.0,
           8.666666666666666,
           "None",
           "None",
           "None"
          ],
          [
           "12",
           11,
           0.0,
           0.0,
           "None",
           "None",
           "None"
          ],
          [
           "0",
           -1,
           -15.0,
           5.666666666666667,
           "None",
           "None",
           "None"
          ],
          [
           "12",
           8,
           -1.0,
           0.3333333333333333,
           "None",
           "None",
           "None"
          ],
          [
           "12",
           8,
           -1.0,
           0.3333333333333333,
           "None",
           "None",
           "None"
          ],
          [
           "12",
           8,
           -1.0,
           0.3333333333333333,
           "None",
           "None",
           "None"
          ],
          [
           "12",
           15,
           -1.0,
           0.3333333333333333,
           "None",
           "None",
           "None"
          ],
          [
           "24",
           -4,
           15.0,
           9.0,
           "None",
           "None",
           "None"
          ],
          [
           "12",
           13,
           0.0,
           0.0,
           "None",
           "None",
           "None"
          ],
          [
           "12",
           12,
           -1.0,
           0.3333333333333333,
           "None",
           "None",
           "None"
          ],
          [
           "48",
           -18,
           -34.0,
           30.333333333333332,
           "None",
           "None",
           "None"
          ],
          [
           "12",
           14,
           -1.0,
           0.3333333333333333,
           "None",
           "None",
           "None"
          ],
          [
           "12",
           12,
           -1.0,
           0.3333333333333333,
           "None",
           "None",
           "None"
          ],
          [
           "12",
           11,
           -1.0,
           0.3333333333333333,
           "None",
           "None",
           "None"
          ],
          [
           "12",
           11,
           -1.0,
           0.3333333333333333,
           "None",
           "None",
           "None"
          ],
          [
           "0",
           -1,
           -11.0,
           4.666666666666667,
           "None",
           "None",
           "None"
          ],
          [
           "12",
           13,
           -1.0,
           0.3333333333333333,
           "None",
           "None",
           "None"
          ],
          [
           "12",
           15,
           -2.0,
           0.6666666666666666,
           "None",
           "None",
           "None"
          ],
          [
           "12",
           13,
           -1.0,
           0.6666666666666666,
           "None",
           "None",
           "None"
          ],
          [
           "12",
           12,
           0.0,
           0.0,
           "None",
           "None",
           "None"
          ],
          [
           "12",
           10,
           -1.0,
           0.3333333333333333,
           "None",
           "None",
           "None"
          ],
          [
           "12",
           46,
           2.0,
           0.6666666666666666,
           "None",
           "None",
           "None"
          ],
          [
           "12",
           44,
           3.0,
           1.0,
           "None",
           "None",
           "None"
          ],
          [
           "12",
           41,
           2.0,
           0.6666666666666666,
           "None",
           "None",
           "None"
          ],
          [
           "12",
           43,
           2.0,
           0.6666666666666666,
           "None",
           "None",
           "None"
          ],
          [
           "12",
           39,
           2.0,
           0.6666666666666666,
           "None",
           "None",
           "None"
          ],
          [
           "12",
           20,
           1.0,
           0.3333333333333333,
           "None",
           "None",
           "None"
          ],
          [
           "12",
           39,
           2.0,
           0.6666666666666666,
           "None",
           "None",
           "None"
          ],
          [
           "12",
           38,
           2.0,
           0.6666666666666666,
           "None",
           "None",
           "None"
          ],
          [
           "12",
           42,
           3.0,
           1.0,
           "None",
           "None",
           "None"
          ],
          [
           "12",
           49,
           3.0,
           1.0,
           "None",
           "None",
           "None"
          ],
          [
           "12",
           33,
           2.0,
           0.6666666666666666,
           "None",
           "None",
           "None"
          ],
          [
           "12",
           48,
           1.0,
           0.3333333333333333,
           "None",
           "None",
           "None"
          ],
          [
           "12",
           48,
           2.0,
           0.6666666666666666,
           "None",
           "None",
           "None"
          ],
          [
           "12",
           46,
           2.0,
           0.6666666666666666,
           "None",
           "None",
           "None"
          ],
          [
           "12",
           44,
           3.0,
           1.0,
           "None",
           "None",
           "None"
          ],
          [
           "12",
           33,
           3.0,
           1.0,
           "None",
           "None",
           "None"
          ],
          [
           "0",
           3,
           -3.0,
           2.0,
           "None",
           "None",
           "None"
          ],
          [
           "12",
           51,
           3.0,
           1.0,
           "None",
           "None",
           "None"
          ],
          [
           "12",
           49,
           3.0,
           1.0,
           "None",
           "None",
           "None"
          ],
          [
           "12",
           52,
           3.0,
           1.3333333333333333,
           "None",
           "None",
           "None"
          ],
          [
           "12",
           43,
           2.0,
           0.6666666666666666,
           "None",
           "None",
           "None"
          ],
          [
           "12",
           34,
           4.0,
           1.3333333333333333,
           "None",
           "None",
           "None"
          ],
          [
           "12",
           44,
           2.0,
           0.6666666666666666,
           "None",
           "None",
           "None"
          ],
          [
           "12",
           54,
           3.0,
           1.0,
           "None",
           "None",
           "None"
          ],
          [
           "12",
           51,
           1.0,
           0.6666666666666666,
           "None",
           "None",
           "None"
          ],
          [
           "12",
           49,
           2.0,
           0.6666666666666666,
           "None",
           "None",
           "None"
          ],
          [
           "0",
           0,
           -4.0,
           2.0,
           "None",
           "None",
           "None"
          ],
          [
           "12",
           51,
           0.0,
           0.6666666666666666,
           "None",
           "None",
           "None"
          ],
          [
           "12",
           26,
           5.0,
           1.6666666666666667,
           "None",
           "None",
           "None"
          ],
          [
           "12",
           47,
           3.0,
           1.0,
           "None",
           "None",
           "None"
          ],
          [
           "12",
           48,
           4.0,
           1.3333333333333333,
           "None",
           "None",
           "None"
          ],
          [
           "12",
           46,
           3.0,
           1.0,
           "None",
           "None",
           "None"
          ],
          [
           "0",
           2,
           -5.0,
           2.0,
           "None",
           "None",
           "None"
          ],
          [
           "12",
           44,
           2.0,
           0.6666666666666666,
           "None",
           "None",
           "None"
          ],
          [
           "12",
           47,
           2.0,
           0.6666666666666666,
           "None",
           "None",
           "None"
          ],
          [
           "12",
           37,
           4.0,
           1.3333333333333333,
           "None",
           "None",
           "None"
          ],
          [
           "12",
           44,
           3.0,
           1.0,
           "None",
           "None",
           "None"
          ],
          [
           "12",
           45,
           4.0,
           1.3333333333333333,
           "None",
           "None",
           "None"
          ],
          [
           "0",
           1,
           -15.0,
           5.666666666666667,
           "None",
           "None",
           "None"
          ],
          [
           "12",
           46,
           1.0,
           1.3333333333333333,
           "None",
           "None",
           "None"
          ],
          [
           "12",
           43,
           3.0,
           1.0,
           "None",
           "None",
           "None"
          ],
          [
           "12",
           43,
           1.0,
           0.3333333333333333,
           "None",
           "None",
           "None"
          ],
          [
           "12",
           38,
           5.0,
           1.6666666666666667,
           "None",
           "None",
           "None"
          ],
          [
           "12",
           27,
           3.0,
           1.0,
           "None",
           "None",
           "None"
          ],
          [
           "12",
           33,
           3.0,
           1.0,
           "None",
           "None",
           "None"
          ],
          [
           "12",
           38,
           4.0,
           1.3333333333333333,
           "None",
           "None",
           "None"
          ],
          [
           "12",
           24,
           2.0,
           0.6666666666666666,
           "None",
           "None",
           "None"
          ],
          [
           "12",
           33,
           5.0,
           1.6666666666666667,
           "None",
           "None",
           "None"
          ],
          [
           "12",
           32,
           2.0,
           0.6666666666666666,
           "None",
           "None",
           "None"
          ],
          [
           "12",
           47,
           5.0,
           1.6666666666666667,
           "None",
           "None",
           "None"
          ],
          [
           "12",
           49,
           6.0,
           2.0,
           "None",
           "None",
           "None"
          ],
          [
           "12",
           48,
           2.0,
           0.6666666666666666,
           "None",
           "None",
           "None"
          ],
          [
           "12",
           42,
           2.0,
           0.6666666666666666,
           "None",
           "None",
           "None"
          ],
          [
           "12",
           46,
           2.0,
           0.6666666666666666,
           "None",
           "None",
           "None"
          ],
          [
           "12",
           37,
           4.0,
           1.3333333333333333,
           "None",
           "None",
           "None"
          ],
          [
           "12",
           44,
           4.0,
           1.3333333333333333,
           "None",
           "None",
           "None"
          ],
          [
           "12",
           47,
           2.0,
           0.6666666666666666,
           "None",
           "None",
           "None"
          ],
          [
           "12",
           44,
           3.0,
           1.0,
           "None",
           "None",
           "None"
          ],
          [
           "12",
           40,
           4.0,
           1.3333333333333333,
           "None",
           "None",
           "None"
          ],
          [
           "12",
           49,
           3.0,
           1.0,
           "None",
           "None",
           "None"
          ],
          [
           "12",
           47,
           3.0,
           1.0,
           "None",
           "None",
           "None"
          ],
          [
           "12",
           46,
           4.0,
           1.3333333333333333,
           "None",
           "None",
           "None"
          ]
         ],
         "hovertemplate": "reg_type=%{customdata[4]}<br>date_idx=%{x}<br>recovery_rate=%{y}<br>tw_idx=%{customdata[0]}<br>capacity_change=%{customdata[1]}<br>prev_capacity_change=%{customdata[2]}<br>prev_avg_capacity=%{customdata[3]}<br>reg_cause=%{customdata[5]}<br>reg_bool_type=%{customdata[6]}<extra></extra>",
         "legendgroup": "None",
         "marker": {
          "color": "#19d3f3",
          "symbol": "circle"
         },
         "mode": "markers",
         "name": "None",
         "showlegend": true,
         "x": [
          "2018-01-03",
          "2018-01-04",
          "2018-01-04",
          "2018-01-05",
          "2018-01-09",
          "2018-01-09",
          "2018-01-11",
          "2018-01-12",
          "2018-01-14",
          "2018-01-14",
          "2018-01-15",
          "2018-01-16",
          "2018-01-16",
          "2018-01-18",
          "2018-01-19",
          "2018-01-22",
          "2018-01-23",
          "2018-01-25",
          "2018-01-25",
          "2018-01-26",
          "2018-01-27",
          "2018-01-29",
          "2018-02-05",
          "2018-02-07",
          "2018-02-08",
          "2018-02-08",
          "2018-02-08",
          "2018-02-10",
          "2018-02-11",
          "2018-02-12",
          "2018-02-13",
          "2018-02-14",
          "2018-02-14",
          "2018-02-16",
          "2018-02-19",
          "2018-02-20",
          "2018-02-22",
          "2018-02-23",
          "2018-02-23",
          "2018-02-26",
          "2018-02-27",
          "2018-02-27",
          "2018-02-28",
          "2018-03-01",
          "2018-03-02",
          "2018-03-02",
          "2018-03-05",
          "2018-03-06",
          "2018-03-06",
          "2018-03-08",
          "2018-03-09",
          "2018-03-10",
          "2018-03-13",
          "2018-03-14",
          "2018-03-14",
          "2018-03-15",
          "2018-03-16",
          "2018-03-19",
          "2018-03-20",
          "2018-03-26",
          "2018-03-27",
          "2018-03-28",
          "2018-03-29",
          "2018-03-30",
          "2018-04-02",
          "2018-04-04",
          "2018-04-05",
          "2018-04-06",
          "2018-04-09",
          "2018-04-10",
          "2018-04-11",
          "2018-04-12",
          "2018-04-13",
          "2018-04-14",
          "2018-04-15",
          "2018-04-18",
          "2018-04-18",
          "2018-04-19",
          "2018-04-20",
          "2018-04-21",
          "2018-04-22",
          "2018-04-23",
          "2018-04-24",
          "2018-04-25",
          "2018-04-26",
          "2018-04-27",
          "2018-04-27",
          "2018-05-01",
          "2018-05-03",
          "2018-05-04",
          "2018-05-05",
          "2018-05-08",
          "2018-05-08",
          "2018-05-09",
          "2018-05-10",
          "2018-05-14",
          "2018-05-15",
          "2018-05-16",
          "2018-05-16",
          "2018-05-17",
          "2018-05-18",
          "2018-05-19",
          "2018-05-20",
          "2018-05-21",
          "2018-05-25",
          "2018-06-01",
          "2018-06-02",
          "2018-06-03",
          "2018-06-04",
          "2018-06-05",
          "2018-06-06",
          "2018-06-07",
          "2018-06-08",
          "2018-06-09",
          "2018-06-12",
          "2018-06-13",
          "2018-06-14",
          "2018-06-16",
          "2018-06-21",
          "2018-06-22",
          "2018-06-23"
         ],
         "xaxis": "x",
         "y": [
          0.8710958872476104,
          0.8592295453748849,
          3.4449964984837242,
          1.5106902777377347,
          0.8020611974376836,
          1.3492987592500345,
          0.6635773247842586,
          0.83918384281108,
          0.7758323023616435,
          2.7854695097169033,
          0.7472247255418386,
          -3.8430099206349198,
          1.2006602402719215,
          1.5136010425907755,
          1.5347424434826902,
          0.2694475972857457,
          1.0635616487066053,
          0.7822723950232011,
          0.44826975369650873,
          0.8509290681578405,
          0.85481768496337,
          1.7078494313748458,
          1.4556989493720935,
          0.9865402766550366,
          1.17670036831592,
          0.6662453725628237,
          1.0962367679178604,
          0.784928226915713,
          1.067691790892963,
          1.4632805875827466,
          0.667879906869844,
          0.8379931813178833,
          3.702978345858613,
          0.8816082901399659,
          0.6072322632629998,
          0.9300586746088447,
          0.8124467939142197,
          0.9119897934865875,
          3.2536284167857223,
          0.699948471407194,
          1.0337532392966269,
          0.8302005199175293,
          0.7319662163918015,
          0.7527773545314058,
          0.8173066269592639,
          3.0795378026967017,
          0.7328417315432513,
          1.0043647412278456,
          2.1095419711360943,
          0.9380992535913778,
          0.8160220549641923,
          0.8758932305350878,
          0.6468275891126527,
          1.0260358796296296,
          1.4432777963919243,
          0.8034053766432729,
          0.9727820427965738,
          0.5718712782063227,
          0.6329251782211157,
          2.0406062602599206,
          2.9644895356841108,
          2.341288422897788,
          2.759264224092204,
          1.4315062195617192,
          2.29078884240347,
          2.3653277009773506,
          2.246532892076785,
          1.9465762261346664,
          1.2965312952134656,
          1.104833592028191,
          2.1602776385814213,
          1.9553320998755914,
          4.561559115384104,
          1.3965496913945337,
          1.430852513044874,
          0.5281837877269772,
          2.0597381357214433,
          1.876540444313628,
          2.695864533583175,
          2.0895507202589405,
          1.7730151033861148,
          2.091242501263111,
          1.9933280155855946,
          2.332764104567572,
          3.1748102001403993,
          1.3740019378713617,
          1.7422506873138057,
          2.296332863610455,
          1.1205094920209033,
          2.6984179276141824,
          1.2932491709621172,
          0.11585662737317166,
          2.196368235235117,
          1.6789782380537082,
          1.6450711402678149,
          3.119312211801753,
          2.173132240748226,
          -0.06407687021603674,
          2.214820715104813,
          2.05798159359919,
          1.27189707464318,
          1.175546016657481,
          1.7754991724949032,
          1.1954800285982174,
          2.3911371983385132,
          1.5080616877196213,
          1.4295614599290598,
          1.6784375288192155,
          1.6669054756553676,
          1.4402044204441005,
          2.224643609088563,
          1.7173701967007007,
          2.3622818333584448,
          1.0071945373471323,
          2.063026287163448,
          1.9464594876011818,
          2.2232304786214496,
          1.20166215936221,
          1.9416247224400174,
          2.1061408493846274,
          1.7936750047015961
         ],
         "yaxis": "y",
         "type": "scattergl"
        },
        {
         "alignmentgroup": "True",
         "customdata": [
          [
           "12",
           12,
           -1.0,
           0.6666666666666666,
           "None",
           "None",
           "None"
          ],
          [
           "12",
           8,
           -1.0,
           0.3333333333333333,
           "None",
           "None",
           "None"
          ],
          [
           "24",
           15,
           8.0,
           8.0,
           "None",
           "None",
           "None"
          ],
          [
           "84",
           -14,
           -1.0,
           30.0,
           "None",
           "None",
           "None"
          ],
          [
           "12",
           12,
           -1.0,
           0.3333333333333333,
           "None",
           "None",
           "None"
          ],
          [
           "84",
           -12,
           8.0,
           33.0,
           "None",
           "None",
           "None"
          ],
          [
           "12",
           11,
           0.0,
           0.6666666666666666,
           "None",
           "None",
           "None"
          ],
          [
           "12",
           11,
           -1.0,
           0.3333333333333333,
           "None",
           "None",
           "None"
          ],
          [
           "12",
           10,
           0.0,
           0.0,
           "None",
           "None",
           "None"
          ],
          [
           "24",
           13,
           10.0,
           7.333333333333333,
           "None",
           "None",
           "None"
          ],
          [
           "12",
           16,
           0.0,
           0.0,
           "None",
           "None",
           "None"
          ],
          [
           "0",
           0,
           -16.0,
           5.666666666666667,
           "None",
           "None",
           "None"
          ],
          [
           "12",
           13,
           0.0,
           0.6666666666666666,
           "None",
           "None",
           "None"
          ],
          [
           "12",
           12,
           -2.0,
           0.6666666666666666,
           "None",
           "None",
           "None"
          ],
          [
           "12",
           13,
           -1.0,
           0.3333333333333333,
           "None",
           "None",
           "None"
          ],
          [
           "12",
           10,
           0.0,
           0.0,
           "None",
           "None",
           "None"
          ],
          [
           "12",
           15,
           -1.0,
           0.3333333333333333,
           "None",
           "None",
           "None"
          ],
          [
           "12",
           13,
           -1.0,
           0.3333333333333333,
           "None",
           "None",
           "None"
          ],
          [
           "84",
           -10,
           5.0,
           37.666666666666664,
           "None",
           "None",
           "None"
          ],
          [
           "12",
           16,
           -1.0,
           0.3333333333333333,
           "None",
           "None",
           "None"
          ],
          [
           "12",
           12,
           -1.0,
           0.3333333333333333,
           "None",
           "None",
           "None"
          ],
          [
           "84",
           -15,
           6.0,
           36.0,
           "None",
           "None",
           "None"
          ],
          [
           "84",
           -12,
           4.0,
           35.333333333333336,
           "None",
           "None",
           "None"
          ],
          [
           "12",
           14,
           -1.0,
           0.3333333333333333,
           "None",
           "None",
           "None"
          ],
          [
           "0",
           -1,
           -13.0,
           4.666666666666667,
           "None",
           "None",
           "None"
          ],
          [
           "12",
           14,
           -1.0,
           0.3333333333333333,
           "None",
           "None",
           "None"
          ],
          [
           "24",
           -13,
           14.0,
           8.666666666666666,
           "None",
           "None",
           "None"
          ],
          [
           "12",
           14,
           -1.0,
           0.3333333333333333,
           "None",
           "None",
           "None"
          ],
          [
           "12",
           10,
           1.0,
           0.3333333333333333,
           "None",
           "None",
           "None"
          ],
          [
           "12",
           14,
           1.0,
           0.3333333333333333,
           "None",
           "None",
           "None"
          ],
          [
           "12",
           18,
           1.0,
           1.0,
           "None",
           "None",
           "None"
          ],
          [
           "12",
           13,
           0.0,
           0.6666666666666666,
           "None",
           "None",
           "None"
          ],
          [
           "24",
           -12,
           13.0,
           8.666666666666666,
           "None",
           "None",
           "None"
          ],
          [
           "12",
           13,
           -2.0,
           0.6666666666666666,
           "None",
           "None",
           "None"
          ],
          [
           "12",
           9,
           0.0,
           0.0,
           "None",
           "None",
           "None"
          ],
          [
           "12",
           11,
           -1.0,
           0.3333333333333333,
           "None",
           "None",
           "None"
          ],
          [
           "12",
           15,
           -1.0,
           0.3333333333333333,
           "None",
           "None",
           "None"
          ],
          [
           "12",
           18,
           -1.0,
           0.3333333333333333,
           "None",
           "None",
           "None"
          ],
          [
           "24",
           -4,
           18.0,
           8.666666666666666,
           "None",
           "None",
           "None"
          ],
          [
           "12",
           11,
           0.0,
           0.0,
           "None",
           "None",
           "None"
          ],
          [
           "0",
           -1,
           -15.0,
           5.666666666666667,
           "None",
           "None",
           "None"
          ],
          [
           "12",
           8,
           -1.0,
           0.3333333333333333,
           "None",
           "None",
           "None"
          ],
          [
           "12",
           8,
           -1.0,
           0.3333333333333333,
           "None",
           "None",
           "None"
          ],
          [
           "12",
           8,
           -1.0,
           0.3333333333333333,
           "None",
           "None",
           "None"
          ],
          [
           "12",
           15,
           -1.0,
           0.3333333333333333,
           "None",
           "None",
           "None"
          ],
          [
           "24",
           -4,
           15.0,
           9.0,
           "None",
           "None",
           "None"
          ],
          [
           "12",
           13,
           0.0,
           0.0,
           "None",
           "None",
           "None"
          ],
          [
           "12",
           12,
           -1.0,
           0.3333333333333333,
           "None",
           "None",
           "None"
          ],
          [
           "48",
           -18,
           -34.0,
           30.333333333333332,
           "None",
           "None",
           "None"
          ],
          [
           "12",
           14,
           -1.0,
           0.3333333333333333,
           "None",
           "None",
           "None"
          ],
          [
           "12",
           12,
           -1.0,
           0.3333333333333333,
           "None",
           "None",
           "None"
          ],
          [
           "12",
           11,
           -1.0,
           0.3333333333333333,
           "None",
           "None",
           "None"
          ],
          [
           "12",
           11,
           -1.0,
           0.3333333333333333,
           "None",
           "None",
           "None"
          ],
          [
           "0",
           -1,
           -11.0,
           4.666666666666667,
           "None",
           "None",
           "None"
          ],
          [
           "12",
           13,
           -1.0,
           0.3333333333333333,
           "None",
           "None",
           "None"
          ],
          [
           "12",
           15,
           -2.0,
           0.6666666666666666,
           "None",
           "None",
           "None"
          ],
          [
           "12",
           13,
           -1.0,
           0.6666666666666666,
           "None",
           "None",
           "None"
          ],
          [
           "12",
           12,
           0.0,
           0.0,
           "None",
           "None",
           "None"
          ],
          [
           "12",
           10,
           -1.0,
           0.3333333333333333,
           "None",
           "None",
           "None"
          ],
          [
           "12",
           46,
           2.0,
           0.6666666666666666,
           "None",
           "None",
           "None"
          ],
          [
           "12",
           44,
           3.0,
           1.0,
           "None",
           "None",
           "None"
          ],
          [
           "12",
           41,
           2.0,
           0.6666666666666666,
           "None",
           "None",
           "None"
          ],
          [
           "12",
           43,
           2.0,
           0.6666666666666666,
           "None",
           "None",
           "None"
          ],
          [
           "12",
           39,
           2.0,
           0.6666666666666666,
           "None",
           "None",
           "None"
          ],
          [
           "12",
           20,
           1.0,
           0.3333333333333333,
           "None",
           "None",
           "None"
          ],
          [
           "12",
           39,
           2.0,
           0.6666666666666666,
           "None",
           "None",
           "None"
          ],
          [
           "12",
           38,
           2.0,
           0.6666666666666666,
           "None",
           "None",
           "None"
          ],
          [
           "12",
           42,
           3.0,
           1.0,
           "None",
           "None",
           "None"
          ],
          [
           "12",
           49,
           3.0,
           1.0,
           "None",
           "None",
           "None"
          ],
          [
           "12",
           33,
           2.0,
           0.6666666666666666,
           "None",
           "None",
           "None"
          ],
          [
           "12",
           48,
           1.0,
           0.3333333333333333,
           "None",
           "None",
           "None"
          ],
          [
           "12",
           48,
           2.0,
           0.6666666666666666,
           "None",
           "None",
           "None"
          ],
          [
           "12",
           46,
           2.0,
           0.6666666666666666,
           "None",
           "None",
           "None"
          ],
          [
           "12",
           44,
           3.0,
           1.0,
           "None",
           "None",
           "None"
          ],
          [
           "12",
           33,
           3.0,
           1.0,
           "None",
           "None",
           "None"
          ],
          [
           "0",
           3,
           -3.0,
           2.0,
           "None",
           "None",
           "None"
          ],
          [
           "12",
           51,
           3.0,
           1.0,
           "None",
           "None",
           "None"
          ],
          [
           "12",
           49,
           3.0,
           1.0,
           "None",
           "None",
           "None"
          ],
          [
           "12",
           52,
           3.0,
           1.3333333333333333,
           "None",
           "None",
           "None"
          ],
          [
           "12",
           43,
           2.0,
           0.6666666666666666,
           "None",
           "None",
           "None"
          ],
          [
           "12",
           34,
           4.0,
           1.3333333333333333,
           "None",
           "None",
           "None"
          ],
          [
           "12",
           44,
           2.0,
           0.6666666666666666,
           "None",
           "None",
           "None"
          ],
          [
           "12",
           54,
           3.0,
           1.0,
           "None",
           "None",
           "None"
          ],
          [
           "12",
           51,
           1.0,
           0.6666666666666666,
           "None",
           "None",
           "None"
          ],
          [
           "12",
           49,
           2.0,
           0.6666666666666666,
           "None",
           "None",
           "None"
          ],
          [
           "0",
           0,
           -4.0,
           2.0,
           "None",
           "None",
           "None"
          ],
          [
           "12",
           51,
           0.0,
           0.6666666666666666,
           "None",
           "None",
           "None"
          ],
          [
           "12",
           26,
           5.0,
           1.6666666666666667,
           "None",
           "None",
           "None"
          ],
          [
           "12",
           47,
           3.0,
           1.0,
           "None",
           "None",
           "None"
          ],
          [
           "12",
           48,
           4.0,
           1.3333333333333333,
           "None",
           "None",
           "None"
          ],
          [
           "12",
           46,
           3.0,
           1.0,
           "None",
           "None",
           "None"
          ],
          [
           "0",
           2,
           -5.0,
           2.0,
           "None",
           "None",
           "None"
          ],
          [
           "12",
           44,
           2.0,
           0.6666666666666666,
           "None",
           "None",
           "None"
          ],
          [
           "12",
           47,
           2.0,
           0.6666666666666666,
           "None",
           "None",
           "None"
          ],
          [
           "12",
           37,
           4.0,
           1.3333333333333333,
           "None",
           "None",
           "None"
          ],
          [
           "12",
           44,
           3.0,
           1.0,
           "None",
           "None",
           "None"
          ],
          [
           "12",
           45,
           4.0,
           1.3333333333333333,
           "None",
           "None",
           "None"
          ],
          [
           "0",
           1,
           -15.0,
           5.666666666666667,
           "None",
           "None",
           "None"
          ],
          [
           "12",
           46,
           1.0,
           1.3333333333333333,
           "None",
           "None",
           "None"
          ],
          [
           "12",
           43,
           3.0,
           1.0,
           "None",
           "None",
           "None"
          ],
          [
           "12",
           43,
           1.0,
           0.3333333333333333,
           "None",
           "None",
           "None"
          ],
          [
           "12",
           38,
           5.0,
           1.6666666666666667,
           "None",
           "None",
           "None"
          ],
          [
           "12",
           27,
           3.0,
           1.0,
           "None",
           "None",
           "None"
          ],
          [
           "12",
           33,
           3.0,
           1.0,
           "None",
           "None",
           "None"
          ],
          [
           "12",
           38,
           4.0,
           1.3333333333333333,
           "None",
           "None",
           "None"
          ],
          [
           "12",
           24,
           2.0,
           0.6666666666666666,
           "None",
           "None",
           "None"
          ],
          [
           "12",
           33,
           5.0,
           1.6666666666666667,
           "None",
           "None",
           "None"
          ],
          [
           "12",
           32,
           2.0,
           0.6666666666666666,
           "None",
           "None",
           "None"
          ],
          [
           "12",
           47,
           5.0,
           1.6666666666666667,
           "None",
           "None",
           "None"
          ],
          [
           "12",
           49,
           6.0,
           2.0,
           "None",
           "None",
           "None"
          ],
          [
           "12",
           48,
           2.0,
           0.6666666666666666,
           "None",
           "None",
           "None"
          ],
          [
           "12",
           42,
           2.0,
           0.6666666666666666,
           "None",
           "None",
           "None"
          ],
          [
           "12",
           46,
           2.0,
           0.6666666666666666,
           "None",
           "None",
           "None"
          ],
          [
           "12",
           37,
           4.0,
           1.3333333333333333,
           "None",
           "None",
           "None"
          ],
          [
           "12",
           44,
           4.0,
           1.3333333333333333,
           "None",
           "None",
           "None"
          ],
          [
           "12",
           47,
           2.0,
           0.6666666666666666,
           "None",
           "None",
           "None"
          ],
          [
           "12",
           44,
           3.0,
           1.0,
           "None",
           "None",
           "None"
          ],
          [
           "12",
           40,
           4.0,
           1.3333333333333333,
           "None",
           "None",
           "None"
          ],
          [
           "12",
           49,
           3.0,
           1.0,
           "None",
           "None",
           "None"
          ],
          [
           "12",
           47,
           3.0,
           1.0,
           "None",
           "None",
           "None"
          ],
          [
           "12",
           46,
           4.0,
           1.3333333333333333,
           "None",
           "None",
           "None"
          ]
         ],
         "hovertemplate": "reg_type=%{customdata[4]}<br>recovery_rate=%{y}<br>tw_idx=%{customdata[0]}<br>capacity_change=%{customdata[1]}<br>prev_capacity_change=%{customdata[2]}<br>prev_avg_capacity=%{customdata[3]}<br>reg_cause=%{customdata[5]}<br>reg_bool_type=%{customdata[6]}<extra></extra>",
         "legendgroup": "None",
         "marker": {
          "color": "#19d3f3",
          "symbol": "circle"
         },
         "name": "None",
         "notched": true,
         "offsetgroup": "None",
         "showlegend": false,
         "xaxis": "x2",
         "y": [
          0.8710958872476104,
          0.8592295453748849,
          3.4449964984837242,
          1.5106902777377347,
          0.8020611974376836,
          1.3492987592500345,
          0.6635773247842586,
          0.83918384281108,
          0.7758323023616435,
          2.7854695097169033,
          0.7472247255418386,
          -3.8430099206349198,
          1.2006602402719215,
          1.5136010425907755,
          1.5347424434826902,
          0.2694475972857457,
          1.0635616487066053,
          0.7822723950232011,
          0.44826975369650873,
          0.8509290681578405,
          0.85481768496337,
          1.7078494313748458,
          1.4556989493720935,
          0.9865402766550366,
          1.17670036831592,
          0.6662453725628237,
          1.0962367679178604,
          0.784928226915713,
          1.067691790892963,
          1.4632805875827466,
          0.667879906869844,
          0.8379931813178833,
          3.702978345858613,
          0.8816082901399659,
          0.6072322632629998,
          0.9300586746088447,
          0.8124467939142197,
          0.9119897934865875,
          3.2536284167857223,
          0.699948471407194,
          1.0337532392966269,
          0.8302005199175293,
          0.7319662163918015,
          0.7527773545314058,
          0.8173066269592639,
          3.0795378026967017,
          0.7328417315432513,
          1.0043647412278456,
          2.1095419711360943,
          0.9380992535913778,
          0.8160220549641923,
          0.8758932305350878,
          0.6468275891126527,
          1.0260358796296296,
          1.4432777963919243,
          0.8034053766432729,
          0.9727820427965738,
          0.5718712782063227,
          0.6329251782211157,
          2.0406062602599206,
          2.9644895356841108,
          2.341288422897788,
          2.759264224092204,
          1.4315062195617192,
          2.29078884240347,
          2.3653277009773506,
          2.246532892076785,
          1.9465762261346664,
          1.2965312952134656,
          1.104833592028191,
          2.1602776385814213,
          1.9553320998755914,
          4.561559115384104,
          1.3965496913945337,
          1.430852513044874,
          0.5281837877269772,
          2.0597381357214433,
          1.876540444313628,
          2.695864533583175,
          2.0895507202589405,
          1.7730151033861148,
          2.091242501263111,
          1.9933280155855946,
          2.332764104567572,
          3.1748102001403993,
          1.3740019378713617,
          1.7422506873138057,
          2.296332863610455,
          1.1205094920209033,
          2.6984179276141824,
          1.2932491709621172,
          0.11585662737317166,
          2.196368235235117,
          1.6789782380537082,
          1.6450711402678149,
          3.119312211801753,
          2.173132240748226,
          -0.06407687021603674,
          2.214820715104813,
          2.05798159359919,
          1.27189707464318,
          1.175546016657481,
          1.7754991724949032,
          1.1954800285982174,
          2.3911371983385132,
          1.5080616877196213,
          1.4295614599290598,
          1.6784375288192155,
          1.6669054756553676,
          1.4402044204441005,
          2.224643609088563,
          1.7173701967007007,
          2.3622818333584448,
          1.0071945373471323,
          2.063026287163448,
          1.9464594876011818,
          2.2232304786214496,
          1.20166215936221,
          1.9416247224400174,
          2.1061408493846274,
          1.7936750047015961
         ],
         "yaxis": "y2",
         "type": "box"
        },
        {
         "customdata": [
          [
           "84",
           -14,
           2.0,
           26.0,
           "T - ATC Equipment",
           "FREQUENCY PROBLEMS",
           "None"
          ],
          [
           "24",
           -12,
           12.0,
           8.0,
           "T - ATC Equipment",
           "TELECOMUNICATION PROBLEM",
           "None"
          ],
          [
           "72",
           8,
           19.0,
           33.666666666666664,
           "T - ATC Equipment",
           "radar failure",
           "None"
          ],
          [
           "48",
           -9,
           -25.0,
           32.666666666666664,
           "T - ATC Equipment",
           "NEW COMPUTER SYSTEM",
           "None"
          ],
          [
           "60",
           -25,
           -39.0,
           34.333333333333336,
           "T - ATC Equipment",
           "FDP PROBLEMS",
           "None"
          ],
          [
           "12",
           21,
           4.0,
           1.3333333333333333,
           "T - ATC Equipment",
           "TERMINAL PROBLEM DUE NETWORK FROM 0700 IMPLEMENTATION OF NEW STAR SID PROCEDURES",
           "None"
          ],
          [
           "12",
           28,
           6.0,
           2.0,
           "T - ATC Equipment",
           "FDPS u/s",
           "None"
          ],
          [
           "12",
           40,
           2.0,
           0.6666666666666666,
           "T - ATC Equipment",
           "RADIO COMMUNICATION ISSUES",
           "None"
          ],
          [
           "48",
           -26,
           -1.0,
           31.666666666666668,
           "T - ATC Equipment",
           "RDR MAITENANCE",
           "None"
          ]
         ],
         "hovertemplate": "reg_type=%{customdata[4]}<br>date_idx=%{x}<br>recovery_rate=%{y}<br>tw_idx=%{customdata[0]}<br>capacity_change=%{customdata[1]}<br>prev_capacity_change=%{customdata[2]}<br>prev_avg_capacity=%{customdata[3]}<br>reg_cause=%{customdata[5]}<br>reg_bool_type=%{customdata[6]}<extra></extra>",
         "legendgroup": "T - ATC Equipment",
         "marker": {
          "color": "#FF6692",
          "symbol": "circle"
         },
         "mode": "markers",
         "name": "T - ATC Equipment",
         "showlegend": true,
         "x": [
          "2018-01-03",
          "2018-01-18",
          "2018-02-08",
          "2018-03-21",
          "2018-04-22",
          "2018-05-11",
          "2018-05-12",
          "2018-05-24",
          "2018-06-13"
         ],
         "xaxis": "x",
         "y": [
          1.675677791447507,
          3.915225254087856,
          1.8179381089842284,
          1.831688659731937,
          3.0922788006576285,
          2.181272136502962,
          1.3541164482918493,
          1.486011036928167,
          1.54509067636011
         ],
         "yaxis": "y",
         "type": "scattergl"
        },
        {
         "alignmentgroup": "True",
         "customdata": [
          [
           "84",
           -14,
           2.0,
           26.0,
           "T - ATC Equipment",
           "FREQUENCY PROBLEMS",
           "None"
          ],
          [
           "24",
           -12,
           12.0,
           8.0,
           "T - ATC Equipment",
           "TELECOMUNICATION PROBLEM",
           "None"
          ],
          [
           "72",
           8,
           19.0,
           33.666666666666664,
           "T - ATC Equipment",
           "radar failure",
           "None"
          ],
          [
           "48",
           -9,
           -25.0,
           32.666666666666664,
           "T - ATC Equipment",
           "NEW COMPUTER SYSTEM",
           "None"
          ],
          [
           "60",
           -25,
           -39.0,
           34.333333333333336,
           "T - ATC Equipment",
           "FDP PROBLEMS",
           "None"
          ],
          [
           "12",
           21,
           4.0,
           1.3333333333333333,
           "T - ATC Equipment",
           "TERMINAL PROBLEM DUE NETWORK FROM 0700 IMPLEMENTATION OF NEW STAR SID PROCEDURES",
           "None"
          ],
          [
           "12",
           28,
           6.0,
           2.0,
           "T - ATC Equipment",
           "FDPS u/s",
           "None"
          ],
          [
           "12",
           40,
           2.0,
           0.6666666666666666,
           "T - ATC Equipment",
           "RADIO COMMUNICATION ISSUES",
           "None"
          ],
          [
           "48",
           -26,
           -1.0,
           31.666666666666668,
           "T - ATC Equipment",
           "RDR MAITENANCE",
           "None"
          ]
         ],
         "hovertemplate": "reg_type=%{customdata[4]}<br>recovery_rate=%{y}<br>tw_idx=%{customdata[0]}<br>capacity_change=%{customdata[1]}<br>prev_capacity_change=%{customdata[2]}<br>prev_avg_capacity=%{customdata[3]}<br>reg_cause=%{customdata[5]}<br>reg_bool_type=%{customdata[6]}<extra></extra>",
         "legendgroup": "T - ATC Equipment",
         "marker": {
          "color": "#FF6692",
          "symbol": "circle"
         },
         "name": "T - ATC Equipment",
         "notched": true,
         "offsetgroup": "T - ATC Equipment",
         "showlegend": false,
         "xaxis": "x2",
         "y": [
          1.675677791447507,
          3.915225254087856,
          1.8179381089842284,
          1.831688659731937,
          3.0922788006576285,
          2.181272136502962,
          1.3541164482918493,
          1.486011036928167,
          1.54509067636011
         ],
         "yaxis": "y2",
         "type": "box"
        },
        {
         "customdata": [
          [
           "36",
           -18,
           15.0,
           20.333333333333332,
           "R - ATC Routeings",
           null,
           "None"
          ],
          [
           "36",
           -18,
           13.0,
           21.0,
           "R - ATC Routeings",
           null,
           "None"
          ],
          [
           "48",
           -12,
           -18.0,
           21.666666666666668,
           "R - ATC Routeings",
           null,
           "None"
          ],
          [
           "36",
           -24,
           -7.0,
           29.666666666666668,
           "R - ATC Routeings",
           null,
           "None"
          ],
          [
           "48",
           -10,
           -24.0,
           28.333333333333332,
           "R - ATC Routeings",
           null,
           "None"
          ],
          [
           "36",
           -24,
           -15.0,
           34.333333333333336,
           "R - ATC Routeings",
           "TRA NORTH B ACTIVATION",
           "None"
          ],
          [
           "48",
           -14,
           -28.0,
           31.333333333333332,
           "R - ATC Routeings",
           null,
           "None"
          ],
          [
           "48",
           11,
           -19.0,
           30.666666666666668,
           "R - ATC Routeings",
           null,
           "None"
          ],
          [
           "48",
           2,
           -21.0,
           27.666666666666668,
           "R - ATC Routeings",
           null,
           "None"
          ],
          [
           "60",
           13,
           4.0,
           34.0,
           "R - ATC Routeings",
           null,
           "None"
          ],
          [
           "72",
           5,
           17.0,
           34.333333333333336,
           "R - ATC Routeings",
           null,
           "None"
          ],
          [
           "72",
           12,
           8.0,
           33.333333333333336,
           "R - ATC Routeings",
           null,
           "None"
          ],
          [
           "36",
           7,
           27.0,
           29.666666666666668,
           "R - ATC Routeings",
           null,
           "None"
          ],
          [
           "24",
           24,
           46.0,
           22.333333333333332,
           "R - ATC Routeings",
           null,
           "None"
          ],
          [
           "72",
           -20,
           -23.0,
           30.0,
           "R - ATC Routeings",
           null,
           "None"
          ],
          [
           "48",
           -34,
           4.0,
           25.333333333333332,
           "R - ATC Routeings",
           "DELAY THRESHOLD 20 MINS",
           "None"
          ],
          [
           "72",
           -15,
           -13.0,
           39.666666666666664,
           "R - ATC Routeings",
           null,
           "None"
          ],
          [
           "12",
           38,
           3.0,
           1.0,
           "R - ATC Routeings",
           null,
           "None"
          ],
          [
           "48",
           -37,
           11.0,
           24.666666666666668,
           "R - ATC Routeings",
           null,
           "None"
          ],
          [
           "72",
           -20,
           -25.0,
           31.666666666666668,
           "R - ATC Routeings",
           null,
           "None"
          ],
          [
           "60",
           -16,
           -33.0,
           30.666666666666668,
           "R - ATC Routeings",
           null,
           "None"
          ],
          [
           "72",
           -19,
           -16.0,
           39.0,
           "R - ATC Routeings",
           null,
           "None"
          ],
          [
           "84",
           -4,
           -14.0,
           27.333333333333332,
           "R - ATC Routeings",
           null,
           "None"
          ],
          [
           "48",
           -29,
           9.0,
           26.0,
           "R - ATC Routeings",
           null,
           "None"
          ],
          [
           "60",
           -25,
           -29.0,
           29.333333333333332,
           "R - ATC Routeings",
           null,
           "None"
          ],
          [
           "48",
           -37,
           2.0,
           30.333333333333332,
           "R - ATC Routeings",
           null,
           "None"
          ],
          [
           "36",
           9,
           27.0,
           39.0,
           "R - ATC Routeings",
           null,
           "None"
          ],
          [
           "36",
           6,
           23.0,
           31.333333333333332,
           "R - ATC Routeings",
           null,
           "None"
          ],
          [
           "48",
           -39,
           6.0,
           23.333333333333332,
           "R - ATC Routeings",
           null,
           "None"
          ],
          [
           "72",
           -32,
           -25.0,
           38.666666666666664,
           "R - ATC Routeings",
           null,
           "None"
          ],
          [
           "24",
           36,
           51.0,
           28.0,
           "R - ATC Routeings",
           "DELAY THRESHOLD 20 MINS",
           "None"
          ],
          [
           "36",
           4,
           24.0,
           33.0,
           "R - ATC Routeings",
           null,
           "None"
          ],
          [
           "48",
           -32,
           4.0,
           28.0,
           "R - ATC Routeings",
           null,
           "None"
          ],
          [
           "48",
           -33,
           -1.0,
           30.333333333333332,
           "R - ATC Routeings",
           null,
           "None"
          ],
          [
           "36",
           9,
           27.0,
           35.666666666666664,
           "R - ATC Routeings",
           null,
           "None"
          ],
          [
           "48",
           -30,
           9.0,
           27.333333333333332,
           "R - ATC Routeings",
           null,
           "None"
          ],
          [
           "36",
           3,
           22.0,
           38.666666666666664,
           "R - ATC Routeings",
           null,
           "None"
          ],
          [
           "48",
           -25,
           3.0,
           30.666666666666668,
           "R - ATC Routeings",
           null,
           "None"
          ],
          [
           "48",
           -29,
           0.0,
           32.666666666666664,
           "R - ATC Routeings",
           null,
           "None"
          ],
          [
           "36",
           15,
           26.0,
           32.333333333333336,
           "R - ATC Routeings",
           null,
           "None"
          ],
          [
           "24",
           15,
           33.0,
           18.666666666666668,
           "R - ATC Routeings",
           null,
           "None"
          ],
          [
           "24",
           28,
           44.0,
           24.333333333333332,
           "R - ATC Routeings",
           null,
           "None"
          ],
          [
           "36",
           6,
           28.0,
           38.666666666666664,
           "R - ATC Routeings",
           null,
           "None"
          ],
          [
           "48",
           -42,
           6.0,
           31.333333333333332,
           "R - ATC Routeings",
           null,
           "None"
          ],
          [
           "84",
           -9,
           -18.0,
           32.0,
           "R - ATC Routeings",
           null,
           "None"
          ],
          [
           "24",
           26,
           47.0,
           26.0,
           "R - ATC Routeings",
           null,
           "None"
          ],
          [
           "12",
           28,
           3.0,
           1.0,
           "R - ATC Routeings",
           "Available alternative routeing due to LFMM strike",
           "None"
          ]
         ],
         "hovertemplate": "reg_type=%{customdata[4]}<br>date_idx=%{x}<br>recovery_rate=%{y}<br>tw_idx=%{customdata[0]}<br>capacity_change=%{customdata[1]}<br>prev_capacity_change=%{customdata[2]}<br>prev_avg_capacity=%{customdata[3]}<br>reg_cause=%{customdata[5]}<br>reg_bool_type=%{customdata[6]}<extra></extra>",
         "legendgroup": "R - ATC Routeings",
         "marker": {
          "color": "#B6E880",
          "symbol": "circle"
         },
         "mode": "markers",
         "name": "R - ATC Routeings",
         "showlegend": true,
         "x": [
          "2018-01-04",
          "2018-01-14",
          "2018-01-14",
          "2018-01-20",
          "2018-01-20",
          "2018-01-31",
          "2018-02-05",
          "2018-02-08",
          "2018-02-17",
          "2018-03-09",
          "2018-03-12",
          "2018-03-15",
          "2018-03-25",
          "2018-03-26",
          "2018-03-31",
          "2018-04-05",
          "2018-04-06",
          "2018-04-07",
          "2018-04-07",
          "2018-04-07",
          "2018-04-08",
          "2018-04-08",
          "2018-04-10",
          "2018-04-14",
          "2018-04-14",
          "2018-04-16",
          "2018-04-17",
          "2018-04-22",
          "2018-04-22",
          "2018-04-22",
          "2018-04-27",
          "2018-04-28",
          "2018-04-28",
          "2018-05-03",
          "2018-05-05",
          "2018-05-05",
          "2018-05-07",
          "2018-05-07",
          "2018-05-15",
          "2018-05-20",
          "2018-05-21",
          "2018-05-28",
          "2018-05-29",
          "2018-05-29",
          "2018-05-30",
          "2018-06-13",
          "2018-06-17"
         ],
         "xaxis": "x",
         "y": [
          1.4709727350531672,
          1.669656184096371,
          1.720870628979518,
          2.919055597216373,
          1.7835763010703856,
          2.7091319010284347,
          1.7753961153314537,
          1.205415440044217,
          0.045374817265557324,
          1.888161384216557,
          1.496257300734045,
          1.6897574062774114,
          1.5703771651029976,
          1.7892018760728645,
          1.820401843703799,
          4.291491907727981,
          1.7558672393664998,
          2.071750062222502,
          2.583083743292051,
          1.8739953138866319,
          2.837662167089064,
          1.4250281597199521,
          2.0007350021052033,
          1.982597318310171,
          3.1417513602972877,
          1.7844318520086755,
          2.1493047507109635,
          1.8930756253738044,
          2.2257184062432764,
          2.1425201430898704,
          1.5232590947604558,
          1.8095218727065467,
          2.0960654186394225,
          2.3068372602608456,
          1.6730865514686433,
          2.190550945089868,
          1.3583106172954467,
          1.7391154336423027,
          1.0356416550069805,
          1.5536331752495347,
          2.3022503198713755,
          1.62089225496255,
          1.4319290017115638,
          0.919599352813716,
          2.8158986121925116,
          1.2186957555272315,
          1.7550612499857188
         ],
         "yaxis": "y",
         "type": "scattergl"
        },
        {
         "alignmentgroup": "True",
         "customdata": [
          [
           "36",
           -18,
           15.0,
           20.333333333333332,
           "R - ATC Routeings",
           null,
           "None"
          ],
          [
           "36",
           -18,
           13.0,
           21.0,
           "R - ATC Routeings",
           null,
           "None"
          ],
          [
           "48",
           -12,
           -18.0,
           21.666666666666668,
           "R - ATC Routeings",
           null,
           "None"
          ],
          [
           "36",
           -24,
           -7.0,
           29.666666666666668,
           "R - ATC Routeings",
           null,
           "None"
          ],
          [
           "48",
           -10,
           -24.0,
           28.333333333333332,
           "R - ATC Routeings",
           null,
           "None"
          ],
          [
           "36",
           -24,
           -15.0,
           34.333333333333336,
           "R - ATC Routeings",
           "TRA NORTH B ACTIVATION",
           "None"
          ],
          [
           "48",
           -14,
           -28.0,
           31.333333333333332,
           "R - ATC Routeings",
           null,
           "None"
          ],
          [
           "48",
           11,
           -19.0,
           30.666666666666668,
           "R - ATC Routeings",
           null,
           "None"
          ],
          [
           "48",
           2,
           -21.0,
           27.666666666666668,
           "R - ATC Routeings",
           null,
           "None"
          ],
          [
           "60",
           13,
           4.0,
           34.0,
           "R - ATC Routeings",
           null,
           "None"
          ],
          [
           "72",
           5,
           17.0,
           34.333333333333336,
           "R - ATC Routeings",
           null,
           "None"
          ],
          [
           "72",
           12,
           8.0,
           33.333333333333336,
           "R - ATC Routeings",
           null,
           "None"
          ],
          [
           "36",
           7,
           27.0,
           29.666666666666668,
           "R - ATC Routeings",
           null,
           "None"
          ],
          [
           "24",
           24,
           46.0,
           22.333333333333332,
           "R - ATC Routeings",
           null,
           "None"
          ],
          [
           "72",
           -20,
           -23.0,
           30.0,
           "R - ATC Routeings",
           null,
           "None"
          ],
          [
           "48",
           -34,
           4.0,
           25.333333333333332,
           "R - ATC Routeings",
           "DELAY THRESHOLD 20 MINS",
           "None"
          ],
          [
           "72",
           -15,
           -13.0,
           39.666666666666664,
           "R - ATC Routeings",
           null,
           "None"
          ],
          [
           "12",
           38,
           3.0,
           1.0,
           "R - ATC Routeings",
           null,
           "None"
          ],
          [
           "48",
           -37,
           11.0,
           24.666666666666668,
           "R - ATC Routeings",
           null,
           "None"
          ],
          [
           "72",
           -20,
           -25.0,
           31.666666666666668,
           "R - ATC Routeings",
           null,
           "None"
          ],
          [
           "60",
           -16,
           -33.0,
           30.666666666666668,
           "R - ATC Routeings",
           null,
           "None"
          ],
          [
           "72",
           -19,
           -16.0,
           39.0,
           "R - ATC Routeings",
           null,
           "None"
          ],
          [
           "84",
           -4,
           -14.0,
           27.333333333333332,
           "R - ATC Routeings",
           null,
           "None"
          ],
          [
           "48",
           -29,
           9.0,
           26.0,
           "R - ATC Routeings",
           null,
           "None"
          ],
          [
           "60",
           -25,
           -29.0,
           29.333333333333332,
           "R - ATC Routeings",
           null,
           "None"
          ],
          [
           "48",
           -37,
           2.0,
           30.333333333333332,
           "R - ATC Routeings",
           null,
           "None"
          ],
          [
           "36",
           9,
           27.0,
           39.0,
           "R - ATC Routeings",
           null,
           "None"
          ],
          [
           "36",
           6,
           23.0,
           31.333333333333332,
           "R - ATC Routeings",
           null,
           "None"
          ],
          [
           "48",
           -39,
           6.0,
           23.333333333333332,
           "R - ATC Routeings",
           null,
           "None"
          ],
          [
           "72",
           -32,
           -25.0,
           38.666666666666664,
           "R - ATC Routeings",
           null,
           "None"
          ],
          [
           "24",
           36,
           51.0,
           28.0,
           "R - ATC Routeings",
           "DELAY THRESHOLD 20 MINS",
           "None"
          ],
          [
           "36",
           4,
           24.0,
           33.0,
           "R - ATC Routeings",
           null,
           "None"
          ],
          [
           "48",
           -32,
           4.0,
           28.0,
           "R - ATC Routeings",
           null,
           "None"
          ],
          [
           "48",
           -33,
           -1.0,
           30.333333333333332,
           "R - ATC Routeings",
           null,
           "None"
          ],
          [
           "36",
           9,
           27.0,
           35.666666666666664,
           "R - ATC Routeings",
           null,
           "None"
          ],
          [
           "48",
           -30,
           9.0,
           27.333333333333332,
           "R - ATC Routeings",
           null,
           "None"
          ],
          [
           "36",
           3,
           22.0,
           38.666666666666664,
           "R - ATC Routeings",
           null,
           "None"
          ],
          [
           "48",
           -25,
           3.0,
           30.666666666666668,
           "R - ATC Routeings",
           null,
           "None"
          ],
          [
           "48",
           -29,
           0.0,
           32.666666666666664,
           "R - ATC Routeings",
           null,
           "None"
          ],
          [
           "36",
           15,
           26.0,
           32.333333333333336,
           "R - ATC Routeings",
           null,
           "None"
          ],
          [
           "24",
           15,
           33.0,
           18.666666666666668,
           "R - ATC Routeings",
           null,
           "None"
          ],
          [
           "24",
           28,
           44.0,
           24.333333333333332,
           "R - ATC Routeings",
           null,
           "None"
          ],
          [
           "36",
           6,
           28.0,
           38.666666666666664,
           "R - ATC Routeings",
           null,
           "None"
          ],
          [
           "48",
           -42,
           6.0,
           31.333333333333332,
           "R - ATC Routeings",
           null,
           "None"
          ],
          [
           "84",
           -9,
           -18.0,
           32.0,
           "R - ATC Routeings",
           null,
           "None"
          ],
          [
           "24",
           26,
           47.0,
           26.0,
           "R - ATC Routeings",
           null,
           "None"
          ],
          [
           "12",
           28,
           3.0,
           1.0,
           "R - ATC Routeings",
           "Available alternative routeing due to LFMM strike",
           "None"
          ]
         ],
         "hovertemplate": "reg_type=%{customdata[4]}<br>recovery_rate=%{y}<br>tw_idx=%{customdata[0]}<br>capacity_change=%{customdata[1]}<br>prev_capacity_change=%{customdata[2]}<br>prev_avg_capacity=%{customdata[3]}<br>reg_cause=%{customdata[5]}<br>reg_bool_type=%{customdata[6]}<extra></extra>",
         "legendgroup": "R - ATC Routeings",
         "marker": {
          "color": "#B6E880",
          "symbol": "circle"
         },
         "name": "R - ATC Routeings",
         "notched": true,
         "offsetgroup": "R - ATC Routeings",
         "showlegend": false,
         "xaxis": "x2",
         "y": [
          1.4709727350531672,
          1.669656184096371,
          1.720870628979518,
          2.919055597216373,
          1.7835763010703856,
          2.7091319010284347,
          1.7753961153314537,
          1.205415440044217,
          0.045374817265557324,
          1.888161384216557,
          1.496257300734045,
          1.6897574062774114,
          1.5703771651029976,
          1.7892018760728645,
          1.820401843703799,
          4.291491907727981,
          1.7558672393664998,
          2.071750062222502,
          2.583083743292051,
          1.8739953138866319,
          2.837662167089064,
          1.4250281597199521,
          2.0007350021052033,
          1.982597318310171,
          3.1417513602972877,
          1.7844318520086755,
          2.1493047507109635,
          1.8930756253738044,
          2.2257184062432764,
          2.1425201430898704,
          1.5232590947604558,
          1.8095218727065467,
          2.0960654186394225,
          2.3068372602608456,
          1.6730865514686433,
          2.190550945089868,
          1.3583106172954467,
          1.7391154336423027,
          1.0356416550069805,
          1.5536331752495347,
          2.3022503198713755,
          1.62089225496255,
          1.4319290017115638,
          0.919599352813716,
          2.8158986121925116,
          1.2186957555272315,
          1.7550612499857188
         ],
         "yaxis": "y2",
         "type": "box"
        },
        {
         "customdata": [
          [
           "24",
           12,
           3.0,
           6.0,
           "V - Environmental Issues",
           "PRIDEP",
           "None"
          ],
          [
           "24",
           -3,
           11.0,
           7.0,
           "V - Environmental Issues",
           "PRIORITY DEPARTURE WINDOW",
           "None"
          ],
          [
           "24",
           -7,
           12.0,
           6.666666666666667,
           "V - Environmental Issues",
           "PRIDEP",
           "None"
          ],
          [
           "24",
           1,
           12.0,
           6.333333333333333,
           "V - Environmental Issues",
           "Priority Departure Window",
           "None"
          ],
          [
           "84",
           -11,
           4.0,
           37.666666666666664,
           "V - Environmental Issues",
           null,
           "None"
          ],
          [
           "84",
           -15,
           -1.0,
           35.333333333333336,
           "V - Environmental Issues",
           "rwy configuration",
           "None"
          ],
          [
           "24",
           -7,
           11.0,
           6.333333333333333,
           "V - Environmental Issues",
           "pridep trial",
           "None"
          ],
          [
           "24",
           -12,
           10.0,
           6.0,
           "V - Environmental Issues",
           "Priority Departure Window",
           "None"
          ],
          [
           "24",
           21,
           23.0,
           14.333333333333334,
           "V - Environmental Issues",
           "PRIDEP",
           "None"
          ],
          [
           "24",
           13,
           6.0,
           9.666666666666666,
           "V - Environmental Issues",
           "Priority Departure Window REG AMENDED",
           "None"
          ],
          [
           "24",
           28,
           38.0,
           20.0,
           "V - Environmental Issues",
           "PRIDEP",
           "None"
          ],
          [
           "24",
           21,
           29.0,
           16.666666666666668,
           "V - Environmental Issues",
           "PRIDEP",
           "None"
          ],
          [
           "24",
           27,
           44.0,
           21.333333333333332,
           "V - Environmental Issues",
           "PRIDEP",
           "None"
          ],
          [
           "24",
           25,
           33.0,
           19.333333333333332,
           "V - Environmental Issues",
           "PRIDEP",
           "None"
          ],
          [
           "48",
           -16,
           12.0,
           24.666666666666668,
           "V - Environmental Issues",
           null,
           "None"
          ],
          [
           "24",
           22,
           43.0,
           23.666666666666668,
           "V - Environmental Issues",
           "PRIDEP",
           "None"
          ],
          [
           "24",
           23,
           34.0,
           18.0,
           "V - Environmental Issues",
           "PRIDEP",
           "None"
          ],
          [
           "24",
           24,
           48.0,
           23.333333333333332,
           "V - Environmental Issues",
           "PRIDEP",
           "None"
          ],
          [
           "24",
           26,
           26.0,
           17.666666666666668,
           "V - Environmental Issues",
           "PRIDEP",
           "None"
          ],
          [
           "24",
           27,
           46.0,
           23.666666666666668,
           "V - Environmental Issues",
           "PRIDEP",
           "None"
          ],
          [
           "24",
           25,
           37.0,
           19.0,
           "V - Environmental Issues",
           "PRIDEP",
           "None"
          ],
          [
           "24",
           13,
           28.0,
           14.333333333333334,
           "V - Environmental Issues",
           "Pridep",
           "None"
          ],
          [
           "24",
           24,
           28.0,
           15.666666666666666,
           "V - Environmental Issues",
           "PRIDEP",
           "None"
          ],
          [
           "24",
           29,
           38.0,
           21.666666666666668,
           "V - Environmental Issues",
           "PRIDEP",
           "None"
          ],
          [
           "24",
           25,
           31.0,
           18.333333333333332,
           "V - Environmental Issues",
           "PRIDEP",
           "None"
          ],
          [
           "24",
           31,
           38.0,
           22.333333333333332,
           "V - Environmental Issues",
           "PRIDEP",
           "None"
          ],
          [
           "24",
           37,
           33.0,
           17.666666666666668,
           "V - Environmental Issues",
           "PRIDEP",
           "None"
          ],
          [
           "24",
           21,
           32.0,
           17.333333333333332,
           "V - Environmental Issues",
           "PRIDEP",
           "None"
          ],
          [
           "24",
           29,
           40.0,
           22.666666666666668,
           "V - Environmental Issues",
           "PRIDEP",
           "None"
          ]
         ],
         "hovertemplate": "reg_type=%{customdata[4]}<br>date_idx=%{x}<br>recovery_rate=%{y}<br>tw_idx=%{customdata[0]}<br>capacity_change=%{customdata[1]}<br>prev_capacity_change=%{customdata[2]}<br>prev_avg_capacity=%{customdata[3]}<br>reg_cause=%{customdata[5]}<br>reg_bool_type=%{customdata[6]}<extra></extra>",
         "legendgroup": "V - Environmental Issues",
         "marker": {
          "color": "#FF97FF",
          "symbol": "circle"
         },
         "mode": "markers",
         "name": "V - Environmental Issues",
         "showlegend": true,
         "x": [
          "2018-01-07",
          "2018-01-13",
          "2018-01-27",
          "2018-02-17",
          "2018-02-18",
          "2018-03-09",
          "2018-03-10",
          "2018-03-17",
          "2018-03-31",
          "2018-04-01",
          "2018-04-07",
          "2018-04-08",
          "2018-04-14",
          "2018-04-15",
          "2018-04-15",
          "2018-04-21",
          "2018-04-22",
          "2018-04-28",
          "2018-04-29",
          "2018-05-05",
          "2018-05-06",
          "2018-05-12",
          "2018-05-13",
          "2018-05-19",
          "2018-05-27",
          "2018-05-31",
          "2018-06-02",
          "2018-06-03",
          "2018-06-16"
         ],
         "xaxis": "x",
         "y": [
          2.559011732968214,
          4.656022801691818,
          4.747749094520433,
          3.059379676726908,
          1.1108121038816312,
          1.3078015633089786,
          3.6925743338721175,
          2.462581579625831,
          1.2151404651513262,
          2.0924791861243546,
          1.9052234615008752,
          1.3622391902842885,
          1.6796229855346994,
          1.984550392496521,
          2.4056434033160015,
          1.6977484225584083,
          1.9279982779987634,
          1.242552760235217,
          1.6205863382022583,
          1.684041006472513,
          1.8312264582691935,
          1.7662223898465519,
          1.6258899499032806,
          1.6348598931634606,
          1.6891515494254008,
          1.5455739783506224,
          1.422770740231572,
          1.4871576716507795,
          1.573194805818892
         ],
         "yaxis": "y",
         "type": "scattergl"
        },
        {
         "alignmentgroup": "True",
         "customdata": [
          [
           "24",
           12,
           3.0,
           6.0,
           "V - Environmental Issues",
           "PRIDEP",
           "None"
          ],
          [
           "24",
           -3,
           11.0,
           7.0,
           "V - Environmental Issues",
           "PRIORITY DEPARTURE WINDOW",
           "None"
          ],
          [
           "24",
           -7,
           12.0,
           6.666666666666667,
           "V - Environmental Issues",
           "PRIDEP",
           "None"
          ],
          [
           "24",
           1,
           12.0,
           6.333333333333333,
           "V - Environmental Issues",
           "Priority Departure Window",
           "None"
          ],
          [
           "84",
           -11,
           4.0,
           37.666666666666664,
           "V - Environmental Issues",
           null,
           "None"
          ],
          [
           "84",
           -15,
           -1.0,
           35.333333333333336,
           "V - Environmental Issues",
           "rwy configuration",
           "None"
          ],
          [
           "24",
           -7,
           11.0,
           6.333333333333333,
           "V - Environmental Issues",
           "pridep trial",
           "None"
          ],
          [
           "24",
           -12,
           10.0,
           6.0,
           "V - Environmental Issues",
           "Priority Departure Window",
           "None"
          ],
          [
           "24",
           21,
           23.0,
           14.333333333333334,
           "V - Environmental Issues",
           "PRIDEP",
           "None"
          ],
          [
           "24",
           13,
           6.0,
           9.666666666666666,
           "V - Environmental Issues",
           "Priority Departure Window REG AMENDED",
           "None"
          ],
          [
           "24",
           28,
           38.0,
           20.0,
           "V - Environmental Issues",
           "PRIDEP",
           "None"
          ],
          [
           "24",
           21,
           29.0,
           16.666666666666668,
           "V - Environmental Issues",
           "PRIDEP",
           "None"
          ],
          [
           "24",
           27,
           44.0,
           21.333333333333332,
           "V - Environmental Issues",
           "PRIDEP",
           "None"
          ],
          [
           "24",
           25,
           33.0,
           19.333333333333332,
           "V - Environmental Issues",
           "PRIDEP",
           "None"
          ],
          [
           "48",
           -16,
           12.0,
           24.666666666666668,
           "V - Environmental Issues",
           null,
           "None"
          ],
          [
           "24",
           22,
           43.0,
           23.666666666666668,
           "V - Environmental Issues",
           "PRIDEP",
           "None"
          ],
          [
           "24",
           23,
           34.0,
           18.0,
           "V - Environmental Issues",
           "PRIDEP",
           "None"
          ],
          [
           "24",
           24,
           48.0,
           23.333333333333332,
           "V - Environmental Issues",
           "PRIDEP",
           "None"
          ],
          [
           "24",
           26,
           26.0,
           17.666666666666668,
           "V - Environmental Issues",
           "PRIDEP",
           "None"
          ],
          [
           "24",
           27,
           46.0,
           23.666666666666668,
           "V - Environmental Issues",
           "PRIDEP",
           "None"
          ],
          [
           "24",
           25,
           37.0,
           19.0,
           "V - Environmental Issues",
           "PRIDEP",
           "None"
          ],
          [
           "24",
           13,
           28.0,
           14.333333333333334,
           "V - Environmental Issues",
           "Pridep",
           "None"
          ],
          [
           "24",
           24,
           28.0,
           15.666666666666666,
           "V - Environmental Issues",
           "PRIDEP",
           "None"
          ],
          [
           "24",
           29,
           38.0,
           21.666666666666668,
           "V - Environmental Issues",
           "PRIDEP",
           "None"
          ],
          [
           "24",
           25,
           31.0,
           18.333333333333332,
           "V - Environmental Issues",
           "PRIDEP",
           "None"
          ],
          [
           "24",
           31,
           38.0,
           22.333333333333332,
           "V - Environmental Issues",
           "PRIDEP",
           "None"
          ],
          [
           "24",
           37,
           33.0,
           17.666666666666668,
           "V - Environmental Issues",
           "PRIDEP",
           "None"
          ],
          [
           "24",
           21,
           32.0,
           17.333333333333332,
           "V - Environmental Issues",
           "PRIDEP",
           "None"
          ],
          [
           "24",
           29,
           40.0,
           22.666666666666668,
           "V - Environmental Issues",
           "PRIDEP",
           "None"
          ]
         ],
         "hovertemplate": "reg_type=%{customdata[4]}<br>recovery_rate=%{y}<br>tw_idx=%{customdata[0]}<br>capacity_change=%{customdata[1]}<br>prev_capacity_change=%{customdata[2]}<br>prev_avg_capacity=%{customdata[3]}<br>reg_cause=%{customdata[5]}<br>reg_bool_type=%{customdata[6]}<extra></extra>",
         "legendgroup": "V - Environmental Issues",
         "marker": {
          "color": "#FF97FF",
          "symbol": "circle"
         },
         "name": "V - Environmental Issues",
         "notched": true,
         "offsetgroup": "V - Environmental Issues",
         "showlegend": false,
         "xaxis": "x2",
         "y": [
          2.559011732968214,
          4.656022801691818,
          4.747749094520433,
          3.059379676726908,
          1.1108121038816312,
          1.3078015633089786,
          3.6925743338721175,
          2.462581579625831,
          1.2151404651513262,
          2.0924791861243546,
          1.9052234615008752,
          1.3622391902842885,
          1.6796229855346994,
          1.984550392496521,
          2.4056434033160015,
          1.6977484225584083,
          1.9279982779987634,
          1.242552760235217,
          1.6205863382022583,
          1.684041006472513,
          1.8312264582691935,
          1.7662223898465519,
          1.6258899499032806,
          1.6348598931634606,
          1.6891515494254008,
          1.5455739783506224,
          1.422770740231572,
          1.4871576716507795,
          1.573194805818892
         ],
         "yaxis": "y2",
         "type": "box"
        },
        {
         "customdata": [
          [
           "48",
           -14,
           -22.0,
           35.0,
           "I - ATC Ind Action",
           "A0095/18 NOTAM",
           "None"
          ],
          [
           "84",
           -16,
           3.0,
           37.333333333333336,
           "I - ATC Ind Action",
           null,
           "None"
          ],
          [
           "24",
           -2,
           14.0,
           9.333333333333334,
           "I - ATC Ind Action",
           null,
           "None"
          ],
          [
           "48",
           -4,
           -27.0,
           31.333333333333332,
           "I - ATC Ind Action",
           null,
           "None"
          ],
          [
           "12",
           13,
           -1.0,
           0.3333333333333333,
           "I - ATC Ind Action",
           null,
           "None"
          ],
          [
           "12",
           29,
           5.0,
           1.6666666666666667,
           "I - ATC Ind Action",
           "LFMM ACC INDUSTRIAL ACTION",
           "None"
          ],
          [
           "12",
           26,
           3.0,
           1.0,
           "I - ATC Ind Action",
           "ATC INDUSTRIAL ACTION LFMM",
           "None"
          ],
          [
           "12",
           25,
           2.0,
           0.6666666666666666,
           "I - ATC Ind Action",
           "ATC INDUSTRIAL ACTION LFMM",
           "None"
          ],
          [
           "48",
           -25,
           -1.0,
           29.666666666666668,
           "I - ATC Ind Action",
           null,
           "None"
          ],
          [
           "12",
           46,
           5.0,
           1.6666666666666667,
           "I - ATC Ind Action",
           null,
           "None"
          ],
          [
           "24",
           27,
           46.0,
           24.666666666666668,
           "I - ATC Ind Action",
           null,
           "None"
          ],
          [
           "84",
           -14,
           -9.0,
           27.333333333333332,
           "I - ATC Ind Action",
           null,
           "None"
          ],
          [
           "12",
           32,
           2.0,
           1.3333333333333333,
           "I - ATC Ind Action",
           "LFMM",
           "None"
          ]
         ],
         "hovertemplate": "reg_type=%{customdata[4]}<br>date_idx=%{x}<br>recovery_rate=%{y}<br>tw_idx=%{customdata[0]}<br>capacity_change=%{customdata[1]}<br>prev_capacity_change=%{customdata[2]}<br>prev_avg_capacity=%{customdata[3]}<br>reg_cause=%{customdata[5]}<br>reg_bool_type=%{customdata[6]}<extra></extra>",
         "legendgroup": "I - ATC Ind Action",
         "marker": {
          "color": "#FECB52",
          "symbol": "circle"
         },
         "mode": "markers",
         "name": "I - ATC Ind Action",
         "showlegend": true,
         "x": [
          "2018-01-15",
          "2018-03-21",
          "2018-03-22",
          "2018-03-22",
          "2018-03-23",
          "2018-04-08",
          "2018-04-29",
          "2018-04-30",
          "2018-05-08",
          "2018-05-22",
          "2018-05-22",
          "2018-05-22",
          "2018-06-10"
         ],
         "xaxis": "x",
         "y": [
          2.2563513499262995,
          0.07025409912342984,
          3.409795213160588,
          2.8779374979241275,
          0.93136458811318,
          1.2946193099765841,
          2.220436829309393,
          2.28739570963269,
          4.840382220433594,
          1.9786364912070413,
          2.0388924888326345,
          1.3029138960345723,
          1.5617680467627983
         ],
         "yaxis": "y",
         "type": "scattergl"
        },
        {
         "alignmentgroup": "True",
         "customdata": [
          [
           "48",
           -14,
           -22.0,
           35.0,
           "I - ATC Ind Action",
           "A0095/18 NOTAM",
           "None"
          ],
          [
           "84",
           -16,
           3.0,
           37.333333333333336,
           "I - ATC Ind Action",
           null,
           "None"
          ],
          [
           "24",
           -2,
           14.0,
           9.333333333333334,
           "I - ATC Ind Action",
           null,
           "None"
          ],
          [
           "48",
           -4,
           -27.0,
           31.333333333333332,
           "I - ATC Ind Action",
           null,
           "None"
          ],
          [
           "12",
           13,
           -1.0,
           0.3333333333333333,
           "I - ATC Ind Action",
           null,
           "None"
          ],
          [
           "12",
           29,
           5.0,
           1.6666666666666667,
           "I - ATC Ind Action",
           "LFMM ACC INDUSTRIAL ACTION",
           "None"
          ],
          [
           "12",
           26,
           3.0,
           1.0,
           "I - ATC Ind Action",
           "ATC INDUSTRIAL ACTION LFMM",
           "None"
          ],
          [
           "12",
           25,
           2.0,
           0.6666666666666666,
           "I - ATC Ind Action",
           "ATC INDUSTRIAL ACTION LFMM",
           "None"
          ],
          [
           "48",
           -25,
           -1.0,
           29.666666666666668,
           "I - ATC Ind Action",
           null,
           "None"
          ],
          [
           "12",
           46,
           5.0,
           1.6666666666666667,
           "I - ATC Ind Action",
           null,
           "None"
          ],
          [
           "24",
           27,
           46.0,
           24.666666666666668,
           "I - ATC Ind Action",
           null,
           "None"
          ],
          [
           "84",
           -14,
           -9.0,
           27.333333333333332,
           "I - ATC Ind Action",
           null,
           "None"
          ],
          [
           "12",
           32,
           2.0,
           1.3333333333333333,
           "I - ATC Ind Action",
           "LFMM",
           "None"
          ]
         ],
         "hovertemplate": "reg_type=%{customdata[4]}<br>recovery_rate=%{y}<br>tw_idx=%{customdata[0]}<br>capacity_change=%{customdata[1]}<br>prev_capacity_change=%{customdata[2]}<br>prev_avg_capacity=%{customdata[3]}<br>reg_cause=%{customdata[5]}<br>reg_bool_type=%{customdata[6]}<extra></extra>",
         "legendgroup": "I - ATC Ind Action",
         "marker": {
          "color": "#FECB52",
          "symbol": "circle"
         },
         "name": "I - ATC Ind Action",
         "notched": true,
         "offsetgroup": "I - ATC Ind Action",
         "showlegend": false,
         "xaxis": "x2",
         "y": [
          2.2563513499262995,
          0.07025409912342984,
          3.409795213160588,
          2.8779374979241275,
          0.93136458811318,
          1.2946193099765841,
          2.220436829309393,
          2.28739570963269,
          4.840382220433594,
          1.9786364912070413,
          2.0388924888326345,
          1.3029138960345723,
          1.5617680467627983
         ],
         "yaxis": "y2",
         "type": "box"
        },
        {
         "customdata": [
          [
           "36",
           -33,
           -15.0,
           32.666666666666664,
           "P - Special Event",
           "WORLD ECONOMIC FORUM",
           "None"
          ],
          [
           "48",
           -16,
           -30.0,
           29.666666666666668,
           "P - Special Event",
           "ECONOMIC FORUM",
           "None"
          ],
          [
           "48",
           -25,
           -32.0,
           31.333333333333332,
           "P - Special Event",
           "WORLD ECONOMIC FORUM DAVOS 2018",
           "None"
          ],
          [
           "12",
           15,
           -1.0,
           0.3333333333333333,
           "P - Special Event",
           "NEW ATC STRUCTURE",
           "None"
          ],
          [
           "24",
           -20,
           15.0,
           8.333333333333334,
           "P - Special Event",
           "NEW ATC STRUCTURE",
           "None"
          ],
          [
           "72",
           16,
           20.0,
           33.333333333333336,
           "P - Special Event",
           "NEW ATC STRUCTURE",
           "None"
          ],
          [
           "12",
           15,
           -1.0,
           0.3333333333333333,
           "P - Special Event",
           "IAM INTERFACE AIX-MARSEILLE AIRSPACE RE-ORGANISATION",
           "None"
          ],
          [
           "24",
           -15,
           15.0,
           8.666666666666666,
           "P - Special Event",
           "IAM INTERFACE AIX-MARSEILLE AIRSPACE RE-ORGANISATION",
           "None"
          ],
          [
           "12",
           14,
           0.0,
           0.6666666666666666,
           "P - Special Event",
           "IAM INTERFACE AIX-MARSEILLE AIRSPACE RE-ORGANISATION",
           "None"
          ],
          [
           "12",
           8,
           0.0,
           0.0,
           "P - Special Event",
           "IAM INTERFACE AIX-MARSEILLE AIRSPACE RE-ORGANISATION",
           "None"
          ],
          [
           "12",
           10,
           0.0,
           0.0,
           "P - Special Event",
           "IAM INTERFACE AIX-MARSEILLE AIRSPACE RE-ORGANISATION Reg amended",
           "None"
          ],
          [
           "24",
           -16,
           10.0,
           7.0,
           "P - Special Event",
           "IAM INTERFACE AIX-MARSEILLE AIRSPACE RE-ORGANISATION Reg amended",
           "None"
          ],
          [
           "12",
           10,
           -1.0,
           0.3333333333333333,
           "P - Special Event",
           "IAM INTERFACE AIX-MARSEILLE AIRSPACE RE-ORGANISATION",
           "None"
          ],
          [
           "24",
           -11,
           10.0,
           8.0,
           "P - Special Event",
           "IAM INTERFACE AIX-MARSEILLE AIRSPACE RE-ORGANISATION",
           "None"
          ],
          [
           "48",
           -20,
           -26.0,
           29.0,
           "P - Special Event",
           "IAM INTERFACE AIX-MARSEILLE AIRSPACE RE-ORGANISATION",
           "None"
          ],
          [
           "72",
           12,
           10.0,
           32.666666666666664,
           "P - Special Event",
           "IAM INTERFACE AIX-MARSEILLE AIRSPACE RE-ORGANISATION",
           "None"
          ],
          [
           "84",
           -13,
           12.0,
           32.333333333333336,
           "P - Special Event",
           "IAM INTERFACE AIX-MARSEILLE AIRSPACE RE-ORGANISATION",
           "None"
          ],
          [
           "36",
           -26,
           -12.0,
           34.666666666666664,
           "P - Special Event",
           "ARSI SYSTEM IMPLEMENTATION",
           "None"
          ],
          [
           "72",
           -1,
           16.0,
           30.666666666666668,
           "P - Special Event",
           "ARSI SYSTEM IMPLEMENTATION",
           "None"
          ],
          [
           "60",
           19,
           11.0,
           33.0,
           "P - Special Event",
           "ARSI IMPLEMENTATION",
           "None"
          ],
          [
           "12",
           14,
           -1.0,
           0.3333333333333333,
           "P - Special Event",
           "IAM INTERFACE AIX-MARSEILLE AIRSPACE RE-ORGANISATION",
           "None"
          ],
          [
           "24",
           -17,
           14.0,
           9.0,
           "P - Special Event",
           "IAM INTERFACE AIX-MARSEILLE AIRSPACE RE-ORGANISATION",
           "None"
          ],
          [
           "84",
           -14,
           11.0,
           36.0,
           "P - Special Event",
           "IAM INTERFACE AIX-MARSEILLE AIRSPACE RE-ORGANISATION",
           "None"
          ],
          [
           "36",
           5,
           11.0,
           29.666666666666668,
           "P - Special Event",
           "APP service for LFCR",
           "None"
          ],
          [
           "72",
           -6,
           4.0,
           28.666666666666668,
           "P - Special Event",
           "APP service for LFCR",
           "None"
          ],
          [
           "24",
           25,
           49.0,
           26.0,
           "P - Special Event",
           "APP service for LFCR",
           "None"
          ],
          [
           "84",
           -7,
           -22.0,
           32.0,
           "P - Special Event",
           "PE82",
           "None"
          ],
          [
           "24",
           15,
           46.0,
           28.0,
           "P - Special Event",
           "APP service for LFCR",
           "None"
          ],
          [
           "48",
           -35,
           8.0,
           29.0,
           "P - Special Event",
           "APPROACH SERVICE FOR LFCR",
           "None"
          ],
          [
           "60",
           -19,
           -35.0,
           33.666666666666664,
           "P - Special Event",
           "EURO 2018",
           "None"
          ],
          [
           "24",
           27,
           49.0,
           27.666666666666668,
           "P - Special Event",
           "Aero 2018",
           "None"
          ],
          [
           "36",
           5,
           27.0,
           38.666666666666664,
           "P - Special Event",
           "Aero 2018",
           "None"
          ],
          [
           "72",
           -22,
           -17.0,
           37.0,
           "P - Special Event",
           "APP service for LFCR",
           "None"
          ],
          [
           "24",
           25,
           51.0,
           27.333333333333332,
           "P - Special Event",
           "APP service for LFCR",
           "None"
          ],
          [
           "84",
           -6,
           -17.0,
           33.333333333333336,
           "P - Special Event",
           "NEW TERMINAL AREA PROCEDURES AT LFBZ",
           "None"
          ],
          [
           "84",
           -5,
           -19.0,
           32.333333333333336,
           "P - Special Event",
           "NEW TERMINAL AREA PROCEDURES AT LFBZ",
           "None"
          ],
          [
           "84",
           -8,
           -18.0,
           32.666666666666664,
           "P - Special Event",
           "NEW TERMINAL AREA PROCEDURES AT LFBZ",
           "None"
          ],
          [
           "84",
           -5,
           -19.0,
           34.666666666666664,
           "P - Special Event",
           "NEW TERMINAL AREA PROCEDURES AT LFBZ",
           "None"
          ],
          [
           "72",
           -21,
           -27.0,
           32.666666666666664,
           "P - Special Event",
           "Demonstration flight - NOTAM A2216/18",
           "None"
          ]
         ],
         "hovertemplate": "reg_type=%{customdata[4]}<br>date_idx=%{x}<br>recovery_rate=%{y}<br>tw_idx=%{customdata[0]}<br>capacity_change=%{customdata[1]}<br>prev_capacity_change=%{customdata[2]}<br>prev_avg_capacity=%{customdata[3]}<br>reg_cause=%{customdata[5]}<br>reg_bool_type=%{customdata[6]}<extra></extra>",
         "legendgroup": "P - Special Event",
         "marker": {
          "color": "#636efa",
          "symbol": "circle"
         },
         "mode": "markers",
         "name": "P - Special Event",
         "showlegend": true,
         "x": [
          "2018-01-23",
          "2018-01-24",
          "2018-01-25",
          "2018-02-01",
          "2018-02-01",
          "2018-02-01",
          "2018-02-02",
          "2018-02-02",
          "2018-02-03",
          "2018-02-04",
          "2018-02-05",
          "2018-02-05",
          "2018-02-06",
          "2018-02-06",
          "2018-02-06",
          "2018-02-06",
          "2018-02-06",
          "2018-02-07",
          "2018-02-07",
          "2018-02-08",
          "2018-02-09",
          "2018-02-09",
          "2018-02-09",
          "2018-04-02",
          "2018-04-03",
          "2018-04-09",
          "2018-04-11",
          "2018-04-13",
          "2018-04-18",
          "2018-04-18",
          "2018-04-19",
          "2018-04-19",
          "2018-04-19",
          "2018-04-25",
          "2018-04-26",
          "2018-05-01",
          "2018-05-02",
          "2018-05-08",
          "2018-05-12"
         ],
         "xaxis": "x",
         "y": [
          1.9728531881728995,
          2.6696875512512968,
          2.023095205959697,
          0.7901070706529206,
          4.269192636980053,
          1.576668360496261,
          0.8972427914827589,
          3.538784340943585,
          0.7457217344098012,
          0.45523295793465396,
          0.5059190065592413,
          2.1806703517582497,
          0.7008562736363991,
          3.6737014246467643,
          2.2375694821887824,
          1.789247783226926,
          0.08332171036060074,
          2.0389220012767892,
          0.17061120082008513,
          1.267404803394987,
          1.1071968806794446,
          3.9792344293417705,
          1.636504252033008,
          1.99900137888656,
          1.2046330283262539,
          1.568629675301535,
          2.137510021161266,
          1.8564223539073823,
          2.108011653637831,
          2.7107909253277143,
          2.1502014669846594,
          1.7132100635363163,
          2.012817177601901,
          2.1083840323094543,
          1.3281803180180147,
          1.3001299883450101,
          1.9744155402135777,
          1.3236291840723384,
          1.6038388461589697
         ],
         "yaxis": "y",
         "type": "scattergl"
        },
        {
         "alignmentgroup": "True",
         "customdata": [
          [
           "36",
           -33,
           -15.0,
           32.666666666666664,
           "P - Special Event",
           "WORLD ECONOMIC FORUM",
           "None"
          ],
          [
           "48",
           -16,
           -30.0,
           29.666666666666668,
           "P - Special Event",
           "ECONOMIC FORUM",
           "None"
          ],
          [
           "48",
           -25,
           -32.0,
           31.333333333333332,
           "P - Special Event",
           "WORLD ECONOMIC FORUM DAVOS 2018",
           "None"
          ],
          [
           "12",
           15,
           -1.0,
           0.3333333333333333,
           "P - Special Event",
           "NEW ATC STRUCTURE",
           "None"
          ],
          [
           "24",
           -20,
           15.0,
           8.333333333333334,
           "P - Special Event",
           "NEW ATC STRUCTURE",
           "None"
          ],
          [
           "72",
           16,
           20.0,
           33.333333333333336,
           "P - Special Event",
           "NEW ATC STRUCTURE",
           "None"
          ],
          [
           "12",
           15,
           -1.0,
           0.3333333333333333,
           "P - Special Event",
           "IAM INTERFACE AIX-MARSEILLE AIRSPACE RE-ORGANISATION",
           "None"
          ],
          [
           "24",
           -15,
           15.0,
           8.666666666666666,
           "P - Special Event",
           "IAM INTERFACE AIX-MARSEILLE AIRSPACE RE-ORGANISATION",
           "None"
          ],
          [
           "12",
           14,
           0.0,
           0.6666666666666666,
           "P - Special Event",
           "IAM INTERFACE AIX-MARSEILLE AIRSPACE RE-ORGANISATION",
           "None"
          ],
          [
           "12",
           8,
           0.0,
           0.0,
           "P - Special Event",
           "IAM INTERFACE AIX-MARSEILLE AIRSPACE RE-ORGANISATION",
           "None"
          ],
          [
           "12",
           10,
           0.0,
           0.0,
           "P - Special Event",
           "IAM INTERFACE AIX-MARSEILLE AIRSPACE RE-ORGANISATION Reg amended",
           "None"
          ],
          [
           "24",
           -16,
           10.0,
           7.0,
           "P - Special Event",
           "IAM INTERFACE AIX-MARSEILLE AIRSPACE RE-ORGANISATION Reg amended",
           "None"
          ],
          [
           "12",
           10,
           -1.0,
           0.3333333333333333,
           "P - Special Event",
           "IAM INTERFACE AIX-MARSEILLE AIRSPACE RE-ORGANISATION",
           "None"
          ],
          [
           "24",
           -11,
           10.0,
           8.0,
           "P - Special Event",
           "IAM INTERFACE AIX-MARSEILLE AIRSPACE RE-ORGANISATION",
           "None"
          ],
          [
           "48",
           -20,
           -26.0,
           29.0,
           "P - Special Event",
           "IAM INTERFACE AIX-MARSEILLE AIRSPACE RE-ORGANISATION",
           "None"
          ],
          [
           "72",
           12,
           10.0,
           32.666666666666664,
           "P - Special Event",
           "IAM INTERFACE AIX-MARSEILLE AIRSPACE RE-ORGANISATION",
           "None"
          ],
          [
           "84",
           -13,
           12.0,
           32.333333333333336,
           "P - Special Event",
           "IAM INTERFACE AIX-MARSEILLE AIRSPACE RE-ORGANISATION",
           "None"
          ],
          [
           "36",
           -26,
           -12.0,
           34.666666666666664,
           "P - Special Event",
           "ARSI SYSTEM IMPLEMENTATION",
           "None"
          ],
          [
           "72",
           -1,
           16.0,
           30.666666666666668,
           "P - Special Event",
           "ARSI SYSTEM IMPLEMENTATION",
           "None"
          ],
          [
           "60",
           19,
           11.0,
           33.0,
           "P - Special Event",
           "ARSI IMPLEMENTATION",
           "None"
          ],
          [
           "12",
           14,
           -1.0,
           0.3333333333333333,
           "P - Special Event",
           "IAM INTERFACE AIX-MARSEILLE AIRSPACE RE-ORGANISATION",
           "None"
          ],
          [
           "24",
           -17,
           14.0,
           9.0,
           "P - Special Event",
           "IAM INTERFACE AIX-MARSEILLE AIRSPACE RE-ORGANISATION",
           "None"
          ],
          [
           "84",
           -14,
           11.0,
           36.0,
           "P - Special Event",
           "IAM INTERFACE AIX-MARSEILLE AIRSPACE RE-ORGANISATION",
           "None"
          ],
          [
           "36",
           5,
           11.0,
           29.666666666666668,
           "P - Special Event",
           "APP service for LFCR",
           "None"
          ],
          [
           "72",
           -6,
           4.0,
           28.666666666666668,
           "P - Special Event",
           "APP service for LFCR",
           "None"
          ],
          [
           "24",
           25,
           49.0,
           26.0,
           "P - Special Event",
           "APP service for LFCR",
           "None"
          ],
          [
           "84",
           -7,
           -22.0,
           32.0,
           "P - Special Event",
           "PE82",
           "None"
          ],
          [
           "24",
           15,
           46.0,
           28.0,
           "P - Special Event",
           "APP service for LFCR",
           "None"
          ],
          [
           "48",
           -35,
           8.0,
           29.0,
           "P - Special Event",
           "APPROACH SERVICE FOR LFCR",
           "None"
          ],
          [
           "60",
           -19,
           -35.0,
           33.666666666666664,
           "P - Special Event",
           "EURO 2018",
           "None"
          ],
          [
           "24",
           27,
           49.0,
           27.666666666666668,
           "P - Special Event",
           "Aero 2018",
           "None"
          ],
          [
           "36",
           5,
           27.0,
           38.666666666666664,
           "P - Special Event",
           "Aero 2018",
           "None"
          ],
          [
           "72",
           -22,
           -17.0,
           37.0,
           "P - Special Event",
           "APP service for LFCR",
           "None"
          ],
          [
           "24",
           25,
           51.0,
           27.333333333333332,
           "P - Special Event",
           "APP service for LFCR",
           "None"
          ],
          [
           "84",
           -6,
           -17.0,
           33.333333333333336,
           "P - Special Event",
           "NEW TERMINAL AREA PROCEDURES AT LFBZ",
           "None"
          ],
          [
           "84",
           -5,
           -19.0,
           32.333333333333336,
           "P - Special Event",
           "NEW TERMINAL AREA PROCEDURES AT LFBZ",
           "None"
          ],
          [
           "84",
           -8,
           -18.0,
           32.666666666666664,
           "P - Special Event",
           "NEW TERMINAL AREA PROCEDURES AT LFBZ",
           "None"
          ],
          [
           "84",
           -5,
           -19.0,
           34.666666666666664,
           "P - Special Event",
           "NEW TERMINAL AREA PROCEDURES AT LFBZ",
           "None"
          ],
          [
           "72",
           -21,
           -27.0,
           32.666666666666664,
           "P - Special Event",
           "Demonstration flight - NOTAM A2216/18",
           "None"
          ]
         ],
         "hovertemplate": "reg_type=%{customdata[4]}<br>recovery_rate=%{y}<br>tw_idx=%{customdata[0]}<br>capacity_change=%{customdata[1]}<br>prev_capacity_change=%{customdata[2]}<br>prev_avg_capacity=%{customdata[3]}<br>reg_cause=%{customdata[5]}<br>reg_bool_type=%{customdata[6]}<extra></extra>",
         "legendgroup": "P - Special Event",
         "marker": {
          "color": "#636efa",
          "symbol": "circle"
         },
         "name": "P - Special Event",
         "notched": true,
         "offsetgroup": "P - Special Event",
         "showlegend": false,
         "xaxis": "x2",
         "y": [
          1.9728531881728995,
          2.6696875512512968,
          2.023095205959697,
          0.7901070706529206,
          4.269192636980053,
          1.576668360496261,
          0.8972427914827589,
          3.538784340943585,
          0.7457217344098012,
          0.45523295793465396,
          0.5059190065592413,
          2.1806703517582497,
          0.7008562736363991,
          3.6737014246467643,
          2.2375694821887824,
          1.789247783226926,
          0.08332171036060074,
          2.0389220012767892,
          0.17061120082008513,
          1.267404803394987,
          1.1071968806794446,
          3.9792344293417705,
          1.636504252033008,
          1.99900137888656,
          1.2046330283262539,
          1.568629675301535,
          2.137510021161266,
          1.8564223539073823,
          2.108011653637831,
          2.7107909253277143,
          2.1502014669846594,
          1.7132100635363163,
          2.012817177601901,
          2.1083840323094543,
          1.3281803180180147,
          1.3001299883450101,
          1.9744155402135777,
          1.3236291840723384,
          1.6038388461589697
         ],
         "yaxis": "y2",
         "type": "box"
        },
        {
         "customdata": [
          [
           "36",
           -28,
           -12.0,
           34.666666666666664,
           "M - Airspace Management",
           "TSA 13 ACTIVATION. NOTAM A0138/18.",
           "None"
          ],
          [
           "48",
           -14,
           -28.0,
           30.333333333333332,
           "M - Airspace Management",
           "TSA 13 ACTIVATION. NOTAM A0141/18.",
           "None"
          ],
          [
           "48",
           -20,
           -30.0,
           30.333333333333332,
           "M - Airspace Management",
           "TSA 13 ACTIVATION. NOTAM A0161/18.",
           "None"
          ],
          [
           "60",
           15,
           -12.0,
           34.0,
           "M - Airspace Management",
           null,
           "None"
          ],
          [
           "60",
           12,
           -16.0,
           34.666666666666664,
           "M - Airspace Management",
           null,
           "None"
          ],
          [
           "36",
           1,
           18.0,
           34.666666666666664,
           "M - Airspace Management",
           null,
           "None"
          ],
          [
           "48",
           -26,
           5.0,
           26.0,
           "M - Airspace Management",
           null,
           "None"
          ],
          [
           "60",
           4,
           4.0,
           4.666666666666667,
           "M - Airspace Management",
           null,
           "None"
          ],
          [
           "48",
           -31,
           3.0,
           25.333333333333332,
           "M - Airspace Management",
           null,
           "None"
          ],
          [
           "60",
           -13,
           -31.0,
           35.333333333333336,
           "M - Airspace Management",
           null,
           "None"
          ],
          [
           "72",
           -16,
           -10.0,
           39.666666666666664,
           "M - Airspace Management",
           null,
           "None"
          ]
         ],
         "hovertemplate": "reg_type=%{customdata[4]}<br>date_idx=%{x}<br>recovery_rate=%{y}<br>tw_idx=%{customdata[0]}<br>capacity_change=%{customdata[1]}<br>prev_capacity_change=%{customdata[2]}<br>prev_avg_capacity=%{customdata[3]}<br>reg_cause=%{customdata[5]}<br>reg_bool_type=%{customdata[6]}<extra></extra>",
         "legendgroup": "M - Airspace Management",
         "marker": {
          "color": "#EF553B",
          "symbol": "circle"
         },
         "mode": "markers",
         "name": "M - Airspace Management",
         "showlegend": true,
         "x": [
          "2018-01-26",
          "2018-01-26",
          "2018-01-30",
          "2018-02-12",
          "2018-03-08",
          "2018-03-28",
          "2018-03-29",
          "2018-04-03",
          "2018-04-06",
          "2018-04-06",
          "2018-04-16"
         ],
         "xaxis": "x",
         "y": [
          2.3978200816437814,
          1.7761207103676964,
          2.1921337441337743,
          2.514986451083138,
          3.1896650890559175,
          1.8682077377276276,
          1.8854882393410595,
          1.7359171135254987,
          2.2814096087831897,
          2.3355288830110754,
          1.721030417171269
         ],
         "yaxis": "y",
         "type": "scattergl"
        },
        {
         "alignmentgroup": "True",
         "customdata": [
          [
           "36",
           -28,
           -12.0,
           34.666666666666664,
           "M - Airspace Management",
           "TSA 13 ACTIVATION. NOTAM A0138/18.",
           "None"
          ],
          [
           "48",
           -14,
           -28.0,
           30.333333333333332,
           "M - Airspace Management",
           "TSA 13 ACTIVATION. NOTAM A0141/18.",
           "None"
          ],
          [
           "48",
           -20,
           -30.0,
           30.333333333333332,
           "M - Airspace Management",
           "TSA 13 ACTIVATION. NOTAM A0161/18.",
           "None"
          ],
          [
           "60",
           15,
           -12.0,
           34.0,
           "M - Airspace Management",
           null,
           "None"
          ],
          [
           "60",
           12,
           -16.0,
           34.666666666666664,
           "M - Airspace Management",
           null,
           "None"
          ],
          [
           "36",
           1,
           18.0,
           34.666666666666664,
           "M - Airspace Management",
           null,
           "None"
          ],
          [
           "48",
           -26,
           5.0,
           26.0,
           "M - Airspace Management",
           null,
           "None"
          ],
          [
           "60",
           4,
           4.0,
           4.666666666666667,
           "M - Airspace Management",
           null,
           "None"
          ],
          [
           "48",
           -31,
           3.0,
           25.333333333333332,
           "M - Airspace Management",
           null,
           "None"
          ],
          [
           "60",
           -13,
           -31.0,
           35.333333333333336,
           "M - Airspace Management",
           null,
           "None"
          ],
          [
           "72",
           -16,
           -10.0,
           39.666666666666664,
           "M - Airspace Management",
           null,
           "None"
          ]
         ],
         "hovertemplate": "reg_type=%{customdata[4]}<br>recovery_rate=%{y}<br>tw_idx=%{customdata[0]}<br>capacity_change=%{customdata[1]}<br>prev_capacity_change=%{customdata[2]}<br>prev_avg_capacity=%{customdata[3]}<br>reg_cause=%{customdata[5]}<br>reg_bool_type=%{customdata[6]}<extra></extra>",
         "legendgroup": "M - Airspace Management",
         "marker": {
          "color": "#EF553B",
          "symbol": "circle"
         },
         "name": "M - Airspace Management",
         "notched": true,
         "offsetgroup": "M - Airspace Management",
         "showlegend": false,
         "xaxis": "x2",
         "y": [
          2.3978200816437814,
          1.7761207103676964,
          2.1921337441337743,
          2.514986451083138,
          3.1896650890559175,
          1.8682077377276276,
          1.8854882393410595,
          1.7359171135254987,
          2.2814096087831897,
          2.3355288830110754,
          1.721030417171269
         ],
         "yaxis": "y2",
         "type": "box"
        }
       ],
       "layout": {
        "template": {
         "data": {
          "bar": [
           {
            "error_x": {
             "color": "#2a3f5f"
            },
            "error_y": {
             "color": "#2a3f5f"
            },
            "marker": {
             "line": {
              "color": "#E5ECF6",
              "width": 0.5
             },
             "pattern": {
              "fillmode": "overlay",
              "size": 10,
              "solidity": 0.2
             }
            },
            "type": "bar"
           }
          ],
          "barpolar": [
           {
            "marker": {
             "line": {
              "color": "#E5ECF6",
              "width": 0.5
             },
             "pattern": {
              "fillmode": "overlay",
              "size": 10,
              "solidity": 0.2
             }
            },
            "type": "barpolar"
           }
          ],
          "carpet": [
           {
            "aaxis": {
             "endlinecolor": "#2a3f5f",
             "gridcolor": "white",
             "linecolor": "white",
             "minorgridcolor": "white",
             "startlinecolor": "#2a3f5f"
            },
            "baxis": {
             "endlinecolor": "#2a3f5f",
             "gridcolor": "white",
             "linecolor": "white",
             "minorgridcolor": "white",
             "startlinecolor": "#2a3f5f"
            },
            "type": "carpet"
           }
          ],
          "choropleth": [
           {
            "colorbar": {
             "outlinewidth": 0,
             "ticks": ""
            },
            "type": "choropleth"
           }
          ],
          "contour": [
           {
            "colorbar": {
             "outlinewidth": 0,
             "ticks": ""
            },
            "colorscale": [
             [
              0.0,
              "#0d0887"
             ],
             [
              0.1111111111111111,
              "#46039f"
             ],
             [
              0.2222222222222222,
              "#7201a8"
             ],
             [
              0.3333333333333333,
              "#9c179e"
             ],
             [
              0.4444444444444444,
              "#bd3786"
             ],
             [
              0.5555555555555556,
              "#d8576b"
             ],
             [
              0.6666666666666666,
              "#ed7953"
             ],
             [
              0.7777777777777778,
              "#fb9f3a"
             ],
             [
              0.8888888888888888,
              "#fdca26"
             ],
             [
              1.0,
              "#f0f921"
             ]
            ],
            "type": "contour"
           }
          ],
          "contourcarpet": [
           {
            "colorbar": {
             "outlinewidth": 0,
             "ticks": ""
            },
            "type": "contourcarpet"
           }
          ],
          "heatmap": [
           {
            "colorbar": {
             "outlinewidth": 0,
             "ticks": ""
            },
            "colorscale": [
             [
              0.0,
              "#0d0887"
             ],
             [
              0.1111111111111111,
              "#46039f"
             ],
             [
              0.2222222222222222,
              "#7201a8"
             ],
             [
              0.3333333333333333,
              "#9c179e"
             ],
             [
              0.4444444444444444,
              "#bd3786"
             ],
             [
              0.5555555555555556,
              "#d8576b"
             ],
             [
              0.6666666666666666,
              "#ed7953"
             ],
             [
              0.7777777777777778,
              "#fb9f3a"
             ],
             [
              0.8888888888888888,
              "#fdca26"
             ],
             [
              1.0,
              "#f0f921"
             ]
            ],
            "type": "heatmap"
           }
          ],
          "heatmapgl": [
           {
            "colorbar": {
             "outlinewidth": 0,
             "ticks": ""
            },
            "colorscale": [
             [
              0.0,
              "#0d0887"
             ],
             [
              0.1111111111111111,
              "#46039f"
             ],
             [
              0.2222222222222222,
              "#7201a8"
             ],
             [
              0.3333333333333333,
              "#9c179e"
             ],
             [
              0.4444444444444444,
              "#bd3786"
             ],
             [
              0.5555555555555556,
              "#d8576b"
             ],
             [
              0.6666666666666666,
              "#ed7953"
             ],
             [
              0.7777777777777778,
              "#fb9f3a"
             ],
             [
              0.8888888888888888,
              "#fdca26"
             ],
             [
              1.0,
              "#f0f921"
             ]
            ],
            "type": "heatmapgl"
           }
          ],
          "histogram": [
           {
            "marker": {
             "pattern": {
              "fillmode": "overlay",
              "size": 10,
              "solidity": 0.2
             }
            },
            "type": "histogram"
           }
          ],
          "histogram2d": [
           {
            "colorbar": {
             "outlinewidth": 0,
             "ticks": ""
            },
            "colorscale": [
             [
              0.0,
              "#0d0887"
             ],
             [
              0.1111111111111111,
              "#46039f"
             ],
             [
              0.2222222222222222,
              "#7201a8"
             ],
             [
              0.3333333333333333,
              "#9c179e"
             ],
             [
              0.4444444444444444,
              "#bd3786"
             ],
             [
              0.5555555555555556,
              "#d8576b"
             ],
             [
              0.6666666666666666,
              "#ed7953"
             ],
             [
              0.7777777777777778,
              "#fb9f3a"
             ],
             [
              0.8888888888888888,
              "#fdca26"
             ],
             [
              1.0,
              "#f0f921"
             ]
            ],
            "type": "histogram2d"
           }
          ],
          "histogram2dcontour": [
           {
            "colorbar": {
             "outlinewidth": 0,
             "ticks": ""
            },
            "colorscale": [
             [
              0.0,
              "#0d0887"
             ],
             [
              0.1111111111111111,
              "#46039f"
             ],
             [
              0.2222222222222222,
              "#7201a8"
             ],
             [
              0.3333333333333333,
              "#9c179e"
             ],
             [
              0.4444444444444444,
              "#bd3786"
             ],
             [
              0.5555555555555556,
              "#d8576b"
             ],
             [
              0.6666666666666666,
              "#ed7953"
             ],
             [
              0.7777777777777778,
              "#fb9f3a"
             ],
             [
              0.8888888888888888,
              "#fdca26"
             ],
             [
              1.0,
              "#f0f921"
             ]
            ],
            "type": "histogram2dcontour"
           }
          ],
          "mesh3d": [
           {
            "colorbar": {
             "outlinewidth": 0,
             "ticks": ""
            },
            "type": "mesh3d"
           }
          ],
          "parcoords": [
           {
            "line": {
             "colorbar": {
              "outlinewidth": 0,
              "ticks": ""
             }
            },
            "type": "parcoords"
           }
          ],
          "pie": [
           {
            "automargin": true,
            "type": "pie"
           }
          ],
          "scatter": [
           {
            "marker": {
             "colorbar": {
              "outlinewidth": 0,
              "ticks": ""
             }
            },
            "type": "scatter"
           }
          ],
          "scatter3d": [
           {
            "line": {
             "colorbar": {
              "outlinewidth": 0,
              "ticks": ""
             }
            },
            "marker": {
             "colorbar": {
              "outlinewidth": 0,
              "ticks": ""
             }
            },
            "type": "scatter3d"
           }
          ],
          "scattercarpet": [
           {
            "marker": {
             "colorbar": {
              "outlinewidth": 0,
              "ticks": ""
             }
            },
            "type": "scattercarpet"
           }
          ],
          "scattergeo": [
           {
            "marker": {
             "colorbar": {
              "outlinewidth": 0,
              "ticks": ""
             }
            },
            "type": "scattergeo"
           }
          ],
          "scattergl": [
           {
            "marker": {
             "colorbar": {
              "outlinewidth": 0,
              "ticks": ""
             }
            },
            "type": "scattergl"
           }
          ],
          "scattermapbox": [
           {
            "marker": {
             "colorbar": {
              "outlinewidth": 0,
              "ticks": ""
             }
            },
            "type": "scattermapbox"
           }
          ],
          "scatterpolar": [
           {
            "marker": {
             "colorbar": {
              "outlinewidth": 0,
              "ticks": ""
             }
            },
            "type": "scatterpolar"
           }
          ],
          "scatterpolargl": [
           {
            "marker": {
             "colorbar": {
              "outlinewidth": 0,
              "ticks": ""
             }
            },
            "type": "scatterpolargl"
           }
          ],
          "scatterternary": [
           {
            "marker": {
             "colorbar": {
              "outlinewidth": 0,
              "ticks": ""
             }
            },
            "type": "scatterternary"
           }
          ],
          "surface": [
           {
            "colorbar": {
             "outlinewidth": 0,
             "ticks": ""
            },
            "colorscale": [
             [
              0.0,
              "#0d0887"
             ],
             [
              0.1111111111111111,
              "#46039f"
             ],
             [
              0.2222222222222222,
              "#7201a8"
             ],
             [
              0.3333333333333333,
              "#9c179e"
             ],
             [
              0.4444444444444444,
              "#bd3786"
             ],
             [
              0.5555555555555556,
              "#d8576b"
             ],
             [
              0.6666666666666666,
              "#ed7953"
             ],
             [
              0.7777777777777778,
              "#fb9f3a"
             ],
             [
              0.8888888888888888,
              "#fdca26"
             ],
             [
              1.0,
              "#f0f921"
             ]
            ],
            "type": "surface"
           }
          ],
          "table": [
           {
            "cells": {
             "fill": {
              "color": "#EBF0F8"
             },
             "line": {
              "color": "white"
             }
            },
            "header": {
             "fill": {
              "color": "#C8D4E3"
             },
             "line": {
              "color": "white"
             }
            },
            "type": "table"
           }
          ]
         },
         "layout": {
          "annotationdefaults": {
           "arrowcolor": "#2a3f5f",
           "arrowhead": 0,
           "arrowwidth": 1
          },
          "autotypenumbers": "strict",
          "coloraxis": {
           "colorbar": {
            "outlinewidth": 0,
            "ticks": ""
           }
          },
          "colorscale": {
           "diverging": [
            [
             0,
             "#8e0152"
            ],
            [
             0.1,
             "#c51b7d"
            ],
            [
             0.2,
             "#de77ae"
            ],
            [
             0.3,
             "#f1b6da"
            ],
            [
             0.4,
             "#fde0ef"
            ],
            [
             0.5,
             "#f7f7f7"
            ],
            [
             0.6,
             "#e6f5d0"
            ],
            [
             0.7,
             "#b8e186"
            ],
            [
             0.8,
             "#7fbc41"
            ],
            [
             0.9,
             "#4d9221"
            ],
            [
             1,
             "#276419"
            ]
           ],
           "sequential": [
            [
             0.0,
             "#0d0887"
            ],
            [
             0.1111111111111111,
             "#46039f"
            ],
            [
             0.2222222222222222,
             "#7201a8"
            ],
            [
             0.3333333333333333,
             "#9c179e"
            ],
            [
             0.4444444444444444,
             "#bd3786"
            ],
            [
             0.5555555555555556,
             "#d8576b"
            ],
            [
             0.6666666666666666,
             "#ed7953"
            ],
            [
             0.7777777777777778,
             "#fb9f3a"
            ],
            [
             0.8888888888888888,
             "#fdca26"
            ],
            [
             1.0,
             "#f0f921"
            ]
           ],
           "sequentialminus": [
            [
             0.0,
             "#0d0887"
            ],
            [
             0.1111111111111111,
             "#46039f"
            ],
            [
             0.2222222222222222,
             "#7201a8"
            ],
            [
             0.3333333333333333,
             "#9c179e"
            ],
            [
             0.4444444444444444,
             "#bd3786"
            ],
            [
             0.5555555555555556,
             "#d8576b"
            ],
            [
             0.6666666666666666,
             "#ed7953"
            ],
            [
             0.7777777777777778,
             "#fb9f3a"
            ],
            [
             0.8888888888888888,
             "#fdca26"
            ],
            [
             1.0,
             "#f0f921"
            ]
           ]
          },
          "colorway": [
           "#636efa",
           "#EF553B",
           "#00cc96",
           "#ab63fa",
           "#FFA15A",
           "#19d3f3",
           "#FF6692",
           "#B6E880",
           "#FF97FF",
           "#FECB52"
          ],
          "font": {
           "color": "#2a3f5f"
          },
          "geo": {
           "bgcolor": "white",
           "lakecolor": "white",
           "landcolor": "#E5ECF6",
           "showlakes": true,
           "showland": true,
           "subunitcolor": "white"
          },
          "hoverlabel": {
           "align": "left"
          },
          "hovermode": "closest",
          "mapbox": {
           "style": "light"
          },
          "paper_bgcolor": "white",
          "plot_bgcolor": "#E5ECF6",
          "polar": {
           "angularaxis": {
            "gridcolor": "white",
            "linecolor": "white",
            "ticks": ""
           },
           "bgcolor": "#E5ECF6",
           "radialaxis": {
            "gridcolor": "white",
            "linecolor": "white",
            "ticks": ""
           }
          },
          "scene": {
           "xaxis": {
            "backgroundcolor": "#E5ECF6",
            "gridcolor": "white",
            "gridwidth": 2,
            "linecolor": "white",
            "showbackground": true,
            "ticks": "",
            "zerolinecolor": "white"
           },
           "yaxis": {
            "backgroundcolor": "#E5ECF6",
            "gridcolor": "white",
            "gridwidth": 2,
            "linecolor": "white",
            "showbackground": true,
            "ticks": "",
            "zerolinecolor": "white"
           },
           "zaxis": {
            "backgroundcolor": "#E5ECF6",
            "gridcolor": "white",
            "gridwidth": 2,
            "linecolor": "white",
            "showbackground": true,
            "ticks": "",
            "zerolinecolor": "white"
           }
          },
          "shapedefaults": {
           "line": {
            "color": "#2a3f5f"
           }
          },
          "ternary": {
           "aaxis": {
            "gridcolor": "white",
            "linecolor": "white",
            "ticks": ""
           },
           "baxis": {
            "gridcolor": "white",
            "linecolor": "white",
            "ticks": ""
           },
           "bgcolor": "#E5ECF6",
           "caxis": {
            "gridcolor": "white",
            "linecolor": "white",
            "ticks": ""
           }
          },
          "title": {
           "x": 0.05
          },
          "xaxis": {
           "automargin": true,
           "gridcolor": "white",
           "linecolor": "white",
           "ticks": "",
           "title": {
            "standoff": 15
           },
           "zerolinecolor": "white",
           "zerolinewidth": 2
          },
          "yaxis": {
           "automargin": true,
           "gridcolor": "white",
           "linecolor": "white",
           "ticks": "",
           "title": {
            "standoff": 15
           },
           "zerolinecolor": "white",
           "zerolinewidth": 2
          }
         }
        },
        "xaxis": {
         "anchor": "y",
         "domain": [
          0.0,
          0.7363
         ],
         "title": {
          "text": "date_idx"
         }
        },
        "yaxis": {
         "anchor": "x",
         "domain": [
          0.0,
          1.0
         ],
         "title": {
          "text": "recovery_rate"
         }
        },
        "xaxis2": {
         "anchor": "y2",
         "domain": [
          0.7413,
          1.0
         ],
         "matches": "x2",
         "showticklabels": false,
         "showline": false,
         "ticks": "",
         "showgrid": false
        },
        "yaxis2": {
         "anchor": "x2",
         "domain": [
          0.0,
          1.0
         ],
         "matches": "y",
         "showticklabels": false,
         "showgrid": true
        },
        "legend": {
         "title": {
          "text": "reg_type"
         },
         "tracegroupgap": 0
        },
        "margin": {
         "t": 60
        }
       },
       "config": {
        "plotlyServerURL": "https://plot.ly"
       }
      },
      "text/html": "<div>                            <div id=\"13ddd0ef-e676-4ae1-bf8f-b9dece63e216\" class=\"plotly-graph-div\" style=\"height:525px; width:100%;\"></div>            <script type=\"text/javascript\">                require([\"plotly\"], function(Plotly) {                    window.PLOTLYENV=window.PLOTLYENV || {};                                    if (document.getElementById(\"13ddd0ef-e676-4ae1-bf8f-b9dece63e216\")) {                    Plotly.newPlot(                        \"13ddd0ef-e676-4ae1-bf8f-b9dece63e216\",                        [{\"customdata\":[[\"24\",7,null,null,\"O - Other\",\"public holiday opening hours\",\"None\"],[\"36\",-4,7.0,10.666666666666666,\"O - Other\",\"public holiday opening hours\",\"None\"],[\"36\",-30,-15.0,34.333333333333336,\"O - Other\",\"Works on the RWY\",\"None\"],[\"60\",13,4.0,31.666666666666668,\"O - Other\",\"FIRE\",\"None\"],[\"12\",14,-1.0,0.3333333333333333,\"O - Other\",\"Additional traffic due to French Industrial Action\",\"None\"],[\"84\",-4,-6.0,28.0,\"O - Other\",\"BACKLOG DUE TO ETFMS SITUATION\",\"None\"],[\"12\",48,3.0,1.0,\"O - Other\",\"Additional traffic due to LFMM industrial action\",\"None\"],[\"12\",37,5.0,1.6666666666666667,\"O - Other\",\"Additional traffic due to LFMM industrial action\",\"None\"],[\"12\",28,3.0,1.0,\"O - Other\",\"Additional traffic due to LFMM industrial action\",\"None\"],[\"12\",43,2.0,0.6666666666666666,\"O - Other\",\"FRENCH INDUSTRIAL ACTION\",\"None\"],[\"12\",31,2.0,0.6666666666666666,\"O - Other\",\"MARSEILLE ATC INDUSTRIAL ACTION\",\"None\"],[\"12\",55,5.0,1.6666666666666667,\"O - Other\",\"W.I.P  NOTAM A1874/18\",\"None\"],[\"24\",27,55.0,26.0,\"O - Other\",\"W.I.P  NOTAM A1874/18\",\"None\"],[\"12\",48,4.0,1.3333333333333333,\"O - Other\",\"W.I.P  NOTAM A1874/18\",\"None\"],[\"12\",49,3.0,1.0,\"O - Other\",\"W.I.P  NOTAM A1874/18\",\"None\"],[\"12\",37,3.0,1.0,\"O - Other\",\"MARSEILLE ATC INDUSTRIAL ACTION\",\"None\"]],\"hovertemplate\":\"reg_type=%{customdata[4]}<br>date_idx=%{x}<br>recovery_rate=%{y}<br>tw_idx=%{customdata[0]}<br>capacity_change=%{customdata[1]}<br>prev_capacity_change=%{customdata[2]}<br>prev_avg_capacity=%{customdata[3]}<br>reg_cause=%{customdata[5]}<br>reg_bool_type=%{customdata[6]}<extra></extra>\",\"legendgroup\":\"O - Other\",\"marker\":{\"color\":\"#636efa\",\"symbol\":\"circle\"},\"mode\":\"markers\",\"name\":\"O - Other\",\"showlegend\":true,\"x\":[\"2018-01-01\",\"2018-01-01\",\"2018-01-24\",\"2018-02-20\",\"2018-03-22\",\"2018-04-03\",\"2018-04-28\",\"2018-05-06\",\"2018-05-13\",\"2018-05-23\",\"2018-05-27\",\"2018-06-18\",\"2018-06-18\",\"2018-06-19\",\"2018-06-20\",\"2018-06-24\"],\"xaxis\":\"x\",\"y\":[1.9710205883420722,1.2219463186297514,2.1460513219146344,1.0160162184158645,0.9250890925362377,1.7438478245239464,1.72399268834291,1.6081485919232756,1.5654552814077447,2.5050491997544113,1.9447214391273617,1.3664572768493264,1.71030852293808,1.5082812405495813,1.6803328792032137,2.0057445253158304],\"yaxis\":\"y\",\"type\":\"scattergl\"},{\"alignmentgroup\":\"True\",\"customdata\":[[\"24\",7,null,null,\"O - Other\",\"public holiday opening hours\",\"None\"],[\"36\",-4,7.0,10.666666666666666,\"O - Other\",\"public holiday opening hours\",\"None\"],[\"36\",-30,-15.0,34.333333333333336,\"O - Other\",\"Works on the RWY\",\"None\"],[\"60\",13,4.0,31.666666666666668,\"O - Other\",\"FIRE\",\"None\"],[\"12\",14,-1.0,0.3333333333333333,\"O - Other\",\"Additional traffic due to French Industrial Action\",\"None\"],[\"84\",-4,-6.0,28.0,\"O - Other\",\"BACKLOG DUE TO ETFMS SITUATION\",\"None\"],[\"12\",48,3.0,1.0,\"O - Other\",\"Additional traffic due to LFMM industrial action\",\"None\"],[\"12\",37,5.0,1.6666666666666667,\"O - Other\",\"Additional traffic due to LFMM industrial action\",\"None\"],[\"12\",28,3.0,1.0,\"O - Other\",\"Additional traffic due to LFMM industrial action\",\"None\"],[\"12\",43,2.0,0.6666666666666666,\"O - Other\",\"FRENCH INDUSTRIAL ACTION\",\"None\"],[\"12\",31,2.0,0.6666666666666666,\"O - Other\",\"MARSEILLE ATC INDUSTRIAL ACTION\",\"None\"],[\"12\",55,5.0,1.6666666666666667,\"O - Other\",\"W.I.P  NOTAM A1874/18\",\"None\"],[\"24\",27,55.0,26.0,\"O - Other\",\"W.I.P  NOTAM A1874/18\",\"None\"],[\"12\",48,4.0,1.3333333333333333,\"O - Other\",\"W.I.P  NOTAM A1874/18\",\"None\"],[\"12\",49,3.0,1.0,\"O - Other\",\"W.I.P  NOTAM A1874/18\",\"None\"],[\"12\",37,3.0,1.0,\"O - Other\",\"MARSEILLE ATC INDUSTRIAL ACTION\",\"None\"]],\"hovertemplate\":\"reg_type=%{customdata[4]}<br>recovery_rate=%{y}<br>tw_idx=%{customdata[0]}<br>capacity_change=%{customdata[1]}<br>prev_capacity_change=%{customdata[2]}<br>prev_avg_capacity=%{customdata[3]}<br>reg_cause=%{customdata[5]}<br>reg_bool_type=%{customdata[6]}<extra></extra>\",\"legendgroup\":\"O - Other\",\"marker\":{\"color\":\"#636efa\",\"symbol\":\"circle\"},\"name\":\"O - Other\",\"notched\":true,\"offsetgroup\":\"O - Other\",\"showlegend\":false,\"xaxis\":\"x2\",\"y\":[1.9710205883420722,1.2219463186297514,2.1460513219146344,1.0160162184158645,0.9250890925362377,1.7438478245239464,1.72399268834291,1.6081485919232756,1.5654552814077447,2.5050491997544113,1.9447214391273617,1.3664572768493264,1.71030852293808,1.5082812405495813,1.6803328792032137,2.0057445253158304],\"yaxis\":\"y2\",\"type\":\"box\"},{\"customdata\":[[\"48\",-9,-4.0,13.666666666666666,\"G - Aerodrome Capacity\",null,\"None\"],[\"60\",9,-9.0,17.666666666666668,\"G - Aerodrome Capacity\",null,\"None\"],[\"36\",-10,10.0,21.0,\"G - Aerodrome Capacity\",null,\"None\"],[\"60\",12,-24.0,30.666666666666668,\"G - Aerodrome Capacity\",null,\"None\"],[\"84\",-9,5.0,25.333333333333332,\"G - Aerodrome Capacity\",null,\"None\"],[\"60\",17,-5.0,28.333333333333332,\"G - Aerodrome Capacity\",null,\"None\"],[\"72\",2,17.0,26.666666666666668,\"G - Aerodrome Capacity\",null,\"None\"],[\"48\",-11,-18.0,27.0,\"G - Aerodrome Capacity\",null,\"None\"],[\"12\",9,-1.0,0.3333333333333333,\"G - Aerodrome Capacity\",\"WIP NOTAM A0065/18. REGULATION EXTENDED.\",\"None\"],[\"24\",13,9.0,7.0,\"G - Aerodrome Capacity\",\"WIP NOTAM A0065/18. REGULATION EXTENDED.\",\"None\"],[\"36\",-17,13.0,21.333333333333332,\"G - Aerodrome Capacity\",\"WIP NOTAM A0065/18. REGULATION EXTENDED.\",\"None\"],[\"60\",17,-17.0,28.666666666666668,\"G - Aerodrome Capacity\",null,\"None\"],[\"72\",-1,17.0,28.0,\"G - Aerodrome Capacity\",null,\"None\"],[\"60\",4,-15.0,27.0,\"G - Aerodrome Capacity\",null,\"None\"],[\"84\",-6,-13.0,22.0,\"G - Aerodrome Capacity\",null,\"None\"],[\"36\",-11,12.0,16.666666666666668,\"G - Aerodrome Capacity\",null,\"None\"],[\"60\",16,-15.0,26.333333333333332,\"G - Aerodrome Capacity\",null,\"None\"],[\"84\",-12,-5.0,34.0,\"G - Aerodrome Capacity\",null,\"None\"],[\"12\",9,0.0,0.0,\"G - Aerodrome Capacity\",\"WIP on RWY NOTAM A4346/17\",\"None\"],[\"48\",-17,-26.0,27.0,\"G - Aerodrome Capacity\",\"WIP RVR 700mt\",\"None\"],[\"60\",11,-17.0,32.333333333333336,\"G - Aerodrome Capacity\",null,\"None\"],[\"72\",8,11.0,30.666666666666668,\"G - Aerodrome Capacity\",\"WIP RVR 700mt\",\"None\"],[\"24\",-14,13.0,8.0,\"G - Aerodrome Capacity\",\"WIP in the TWR\",\"None\"],[\"60\",15,-22.0,31.666666666666668,\"G - Aerodrome Capacity\",null,\"None\"],[\"84\",-11,7.0,34.666666666666664,\"G - Aerodrome Capacity\",\"WIP RATE REDUCED DUE TO LOW VISIBILITY\",\"None\"],[\"24\",-11,11.0,9.0,\"G - Aerodrome Capacity\",\"WIP in the TWR\",\"None\"],[\"36\",-28,-11.0,31.0,\"G - Aerodrome Capacity\",\"WIP in the TWR\",\"None\"],[\"48\",-12,-28.0,31.666666666666668,\"G - Aerodrome Capacity\",null,\"None\"],[\"60\",13,-12.0,32.666666666666664,\"G - Aerodrome Capacity\",\"WIP Reg extended\",\"None\"],[\"84\",-10,4.0,36.666666666666664,\"G - Aerodrome Capacity\",null,\"None\"],[\"36\",-26,-4.0,33.333333333333336,\"G - Aerodrome Capacity\",\"WIP\",\"None\"],[\"72\",9,18.0,33.0,\"G - Aerodrome Capacity\",null,\"None\"],[\"84\",-12,9.0,35.0,\"G - Aerodrome Capacity\",null,\"None\"],[\"60\",11,-22.0,27.666666666666668,\"G - Aerodrome Capacity\",null,\"None\"],[\"60\",15,-12.0,26.0,\"G - Aerodrome Capacity\",null,\"None\"],[\"72\",-13,15.0,32.0,\"G - Aerodrome Capacity\",null,\"None\"],[\"84\",-13,-13.0,33.666666666666664,\"G - Aerodrome Capacity\",null,\"None\"],[\"60\",10,-14.0,30.666666666666668,\"G - Aerodrome Capacity\",null,\"None\"],[\"24\",-16,13.0,8.666666666666666,\"G - Aerodrome Capacity\",\"WIP in the TWR\",\"None\"],[\"60\",10,-17.0,29.0,\"G - Aerodrome Capacity\",\"RWY CONFIGURATION REG. EXE.\",\"None\"],[\"72\",5,10.0,34.333333333333336,\"G - Aerodrome Capacity\",\"RWY CONFIGURATION REG. EXE.\",\"None\"],[\"84\",-16,5.0,31.666666666666668,\"G - Aerodrome Capacity\",\"RWY CONFIGURATION REG. EXE.\",\"None\"],[\"12\",13,-1.0,0.3333333333333333,\"G - Aerodrome Capacity\",\"rwy configuration\",\"None\"],[\"24\",-15,13.0,8.0,\"G - Aerodrome Capacity\",\"WIP in the TWR\",\"None\"],[\"36\",-20,-15.0,32.333333333333336,\"G - Aerodrome Capacity\",\"lack of stands due snow removal\",\"None\"],[\"48\",-12,-20.0,32.333333333333336,\"G - Aerodrome Capacity\",\"lack of stands due snow removal\",\"None\"],[\"48\",-11,-28.0,29.0,\"G - Aerodrome Capacity\",\"Reg shortened\",\"None\"],[\"60\",16,-11.0,28.666666666666668,\"G - Aerodrome Capacity\",null,\"None\"],[\"84\",-21,-5.0,33.333333333333336,\"G - Aerodrome Capacity\",null,\"None\"],[\"60\",20,-9.0,31.333333333333332,\"G - Aerodrome Capacity\",\"rwy config due to wind direction\",\"None\"],[\"72\",8,20.0,34.333333333333336,\"G - Aerodrome Capacity\",\"rwy config due to wind direction\",\"None\"],[\"84\",-14,8.0,35.0,\"G - Aerodrome Capacity\",\"rwy config due to wind direction\",\"None\"],[\"12\",10,-1.0,0.3333333333333333,\"G - Aerodrome Capacity\",null,\"None\"],[\"24\",-7,10.0,6.333333333333333,\"G - Aerodrome Capacity\",null,\"None\"],[\"60\",13,-10.0,26.0,\"G - Aerodrome Capacity\",\"Rwy configuration\",\"None\"],[\"72\",-6,13.0,26.0,\"G - Aerodrome Capacity\",\"Rwy configuration\",\"None\"],[\"84\",-5,-6.0,20.333333333333332,\"G - Aerodrome Capacity\",\"Rwy configuration\",\"None\"],[\"60\",10,-15.0,26.0,\"G - Aerodrome Capacity\",null,\"None\"],[\"72\",6,10.0,33.666666666666664,\"G - Aerodrome Capacity\",\"HOLE ON THE TAXIWAY\",\"None\"],[\"84\",-12,6.0,35.0,\"G - Aerodrome Capacity\",null,\"None\"],[\"24\",-15,10.0,7.666666666666667,\"G - Aerodrome Capacity\",\"WIP in the TWR\",\"None\"],[\"36\",-3,-15.0,36.0,\"G - Aerodrome Capacity\",null,\"None\"],[\"48\",18,-3.0,25.333333333333332,\"G - Aerodrome Capacity\",null,\"None\"],[\"60\",4,18.0,28.333333333333332,\"G - Aerodrome Capacity\",null,\"None\"],[\"24\",-15,15.0,9.0,\"G - Aerodrome Capacity\",\"WIP in the TWR\",\"None\"],[\"60\",13,-20.0,32.333333333333336,\"G - Aerodrome Capacity\",null,\"None\"],[\"72\",13,13.0,33.333333333333336,\"G - Aerodrome Capacity\",null,\"None\"],[\"84\",-11,13.0,32.333333333333336,\"G - Aerodrome Capacity\",null,\"None\"],[\"84\",-13,6.0,34.666666666666664,\"G - Aerodrome Capacity\",null,\"None\"],[\"24\",-13,13.0,8.333333333333334,\"G - Aerodrome Capacity\",\"WIP in the TWR\",\"None\"],[\"60\",15,-25.0,33.0,\"G - Aerodrome Capacity\",null,\"None\"],[\"72\",5,15.0,33.0,\"G - Aerodrome Capacity\",null,\"None\"],[\"24\",-12,16.0,8.333333333333334,\"G - Aerodrome Capacity\",\"WIP in the TWR\",\"None\"],[\"60\",17,-14.0,34.0,\"G - Aerodrome Capacity\",null,\"None\"],[\"72\",7,17.0,36.0,\"G - Aerodrome Capacity\",\"extended\",\"None\"],[\"84\",-13,7.0,35.333333333333336,\"G - Aerodrome Capacity\",null,\"None\"],[\"36\",-29,-7.0,30.666666666666668,\"G - Aerodrome Capacity\",null,\"None\"],[\"60\",10,-18.0,27.666666666666668,\"G - Aerodrome Capacity\",null,\"None\"],[\"84\",-3,0.0,19.333333333333332,\"G - Aerodrome Capacity\",null,\"None\"],[\"36\",-20,12.0,20.666666666666668,\"G - Aerodrome Capacity\",\"EXTENDED\",\"None\"],[\"48\",-18,-20.0,22.666666666666668,\"G - Aerodrome Capacity\",\"EXTENDED\",\"None\"],[\"24\",-15,19.0,9.333333333333334,\"G - Aerodrome Capacity\",\"WIP in the TWR\",\"None\"],[\"36\",-24,-15.0,36.0,\"G - Aerodrome Capacity\",null,\"None\"],[\"60\",11,-18.0,34.666666666666664,\"G - Aerodrome Capacity\",null,\"None\"],[\"24\",-15,17.0,9.0,\"G - Aerodrome Capacity\",\"WIP in the TWR\",\"None\"],[\"36\",-30,-15.0,33.666666666666664,\"G - Aerodrome Capacity\",null,\"None\"],[\"60\",14,-20.0,32.333333333333336,\"G - Aerodrome Capacity\",null,\"None\"],[\"72\",9,14.0,35.0,\"G - Aerodrome Capacity\",\"REG EXTENDED\",\"None\"],[\"84\",-14,9.0,33.666666666666664,\"G - Aerodrome Capacity\",null,\"None\"],[\"24\",-15,16.0,8.666666666666666,\"G - Aerodrome Capacity\",\"WIP in the TWR\",\"None\"],[\"48\",-17,-24.0,32.0,\"G - Aerodrome Capacity\",null,\"None\"],[\"84\",-13,13.0,35.0,\"G - Aerodrome Capacity\",null,\"None\"],[\"36\",-35,-20.0,32.0,\"G - Aerodrome Capacity\",null,\"None\"],[\"60\",20,-15.0,34.0,\"G - Aerodrome Capacity\",null,\"None\"],[\"84\",-10,16.0,37.333333333333336,\"G - Aerodrome Capacity\",null,\"None\"],[\"36\",-34,-15.0,34.666666666666664,\"G - Aerodrome Capacity\",null,\"None\"],[\"60\",8,-19.0,35.666666666666664,\"G - Aerodrome Capacity\",null,\"None\"],[\"60\",9,-15.0,31.666666666666668,\"G - Aerodrome Capacity\",null,\"None\"],[\"84\",-6,-2.0,23.333333333333332,\"G - Aerodrome Capacity\",null,\"None\"],[\"24\",4,8.0,6.666666666666667,\"G - Aerodrome Capacity\",null,\"None\"],[\"60\",4,-18.0,28.0,\"G - Aerodrome Capacity\",null,\"None\"],[\"72\",2,4.0,31.333333333333332,\"G - Aerodrome Capacity\",null,\"None\"],[\"84\",-9,2.0,36.0,\"G - Aerodrome Capacity\",null,\"None\"],[\"60\",10,-20.0,32.0,\"G - Aerodrome Capacity\",null,\"None\"],[\"60\",16,-17.0,31.666666666666668,\"G - Aerodrome Capacity\",null,\"None\"],[\"84\",-13,8.0,36.0,\"G - Aerodrome Capacity\",null,\"None\"],[\"72\",11,15.0,35.666666666666664,\"G - Aerodrome Capacity\",null,\"None\"],[\"36\",-25,-7.0,32.0,\"G - Aerodrome Capacity\",null,\"None\"],[\"48\",-17,-25.0,30.0,\"G - Aerodrome Capacity\",\"Extended\",\"None\"],[\"60\",3,-17.0,29.333333333333332,\"G - Aerodrome Capacity\",null,\"None\"],[\"72\",-7,3.0,29.0,\"G - Aerodrome Capacity\",\"Extended\",\"None\"],[\"84\",-5,-7.0,26.666666666666668,\"G - Aerodrome Capacity\",null,\"None\"],[\"48\",-10,-18.0,24.0,\"G - Aerodrome Capacity\",null,\"None\"],[\"84\",-11,5.0,36.666666666666664,\"G - Aerodrome Capacity\",null,\"None\"],[\"24\",-12,14.0,8.666666666666666,\"G - Aerodrome Capacity\",\"WIP in the TWR / REDUCED RATE DUE TO LIMITED PARKING (DE-ICING)\",\"None\"],[\"36\",-29,-12.0,35.333333333333336,\"G - Aerodrome Capacity\",null,\"None\"],[\"72\",12,15.0,31.666666666666668,\"G - Aerodrome Capacity\",\"WIP in TWR and on TWYs\",\"None\"],[\"36\",-31,-17.0,33.0,\"G - Aerodrome Capacity\",null,\"None\"],[\"48\",-19,-31.0,30.666666666666668,\"G - Aerodrome Capacity\",\"WIP ON RWY\",\"None\"],[\"72\",19,13.0,32.666666666666664,\"G - Aerodrome Capacity\",\"wip\",\"None\"],[\"84\",-11,19.0,33.666666666666664,\"G - Aerodrome Capacity\",\"wip\",\"None\"],[\"36\",-25,-12.0,35.333333333333336,\"G - Aerodrome Capacity\",null,\"None\"],[\"60\",17,-17.0,31.333333333333332,\"G - Aerodrome Capacity\",null,\"None\"],[\"12\",14,0.0,0.6666666666666666,\"G - Aerodrome Capacity\",\"WIP - NOTAM A0551/18\",\"None\"],[\"36\",-25,-12.0,33.666666666666664,\"G - Aerodrome Capacity\",null,\"None\"],[\"60\",9,-7.0,34.666666666666664,\"G - Aerodrome Capacity\",null,\"None\"],[\"84\",-23,12.0,31.666666666666668,\"G - Aerodrome Capacity\",null,\"None\"],[\"24\",-9,13.0,8.0,\"G - Aerodrome Capacity\",\"WIP in the TWR, regulation ends earlier\",\"None\"],[\"84\",-15,3.0,37.666666666666664,\"G - Aerodrome Capacity\",null,\"None\"],[\"72\",-9,7.0,17.666666666666668,\"G - Aerodrome Capacity\",null,\"None\"],[\"36\",-20,15.0,19.333333333333332,\"G - Aerodrome Capacity\",null,\"None\"],[\"60\",16,-3.0,28.0,\"G - Aerodrome Capacity\",null,\"None\"],[\"36\",-24,-10.0,36.333333333333336,\"G - Aerodrome Capacity\",null,\"None\"],[\"60\",11,-1.0,36.333333333333336,\"G - Aerodrome Capacity\",null,\"None\"],[\"84\",-10,1.0,36.666666666666664,\"G - Aerodrome Capacity\",null,\"None\"],[\"84\",-17,-5.0,35.0,\"G - Aerodrome Capacity\",null,\"None\"],[\"24\",-19,11.0,6.333333333333333,\"G - Aerodrome Capacity\",\"WIP in the TWR\",\"None\"],[\"36\",-29,-10.0,34.666666666666664,\"G - Aerodrome Capacity\",null,\"None\"],[\"60\",13,-5.0,35.666666666666664,\"G - Aerodrome Capacity\",null,\"None\"],[\"36\",-24,-4.0,35.0,\"G - Aerodrome Capacity\",null,\"None\"],[\"60\",14,-11.0,35.666666666666664,\"G - Aerodrome Capacity\",null,\"None\"],[\"72\",5,14.0,32.666666666666664,\"G - Aerodrome Capacity\",null,\"None\"],[\"84\",-12,5.0,36.666666666666664,\"G - Aerodrome Capacity\",null,\"None\"],[\"84\",-6,-9.0,24.666666666666668,\"G - Aerodrome Capacity\",null,\"None\"],[\"60\",13,-7.0,36.333333333333336,\"G - Aerodrome Capacity\",null,\"None\"],[\"36\",-35,-11.0,34.666666666666664,\"G - Aerodrome Capacity\",null,\"None\"],[\"60\",7,-10.0,34.0,\"G - Aerodrome Capacity\",null,\"None\"],[\"72\",10,7.0,32.0,\"G - Aerodrome Capacity\",\"high demand\",\"None\"],[\"84\",-15,10.0,34.333333333333336,\"G - Aerodrome Capacity\",null,\"None\"],[\"24\",-21,8.0,7.0,\"G - Aerodrome Capacity\",\"WIP in the TWR\",\"None\"],[\"36\",-29,-4.0,32.333333333333336,\"G - Aerodrome Capacity\",null,\"None\"],[\"60\",13,-7.0,35.333333333333336,\"G - Aerodrome Capacity\",null,\"None\"],[\"12\",8,-1.0,0.3333333333333333,\"G - Aerodrome Capacity\",\"RWY maintenance\",\"None\"],[\"24\",2,8.0,7.0,\"G - Aerodrome Capacity\",\"RWY maintenance\",\"None\"],[\"48\",-14,-27.0,25.333333333333332,\"G - Aerodrome Capacity\",null,\"None\"],[\"60\",7,-14.0,27.666666666666668,\"G - Aerodrome Capacity\",null,\"None\"],[\"72\",-8,7.0,34.0,\"G - Aerodrome Capacity\",null,\"None\"],[\"84\",-11,-8.0,36.333333333333336,\"G - Aerodrome Capacity\",null,\"None\"],[\"84\",-12,10.0,37.0,\"G - Aerodrome Capacity\",null,\"None\"],[\"60\",13,-18.0,35.666666666666664,\"G - Aerodrome Capacity\",null,\"None\"],[\"60\",10,-23.0,34.666666666666664,\"G - Aerodrome Capacity\",null,\"None\"],[\"72\",6,10.0,36.0,\"G - Aerodrome Capacity\",null,\"None\"],[\"84\",-10,6.0,39.333333333333336,\"G - Aerodrome Capacity\",null,\"None\"],[\"60\",8,-18.0,28.666666666666668,\"G - Aerodrome Capacity\",null,\"None\"],[\"72\",-3,8.0,34.333333333333336,\"G - Aerodrome Capacity\",null,\"None\"],[\"84\",-15,5.0,35.333333333333336,\"G - Aerodrome Capacity\",null,\"None\"],[\"36\",-32,-10.0,37.666666666666664,\"G - Aerodrome Capacity\",null,\"None\"],[\"84\",-14,9.0,33.0,\"G - Aerodrome Capacity\",null,\"None\"],[\"36\",-35,-20.0,36.666666666666664,\"G - Aerodrome Capacity\",\"TRAFFIC CONGESTION\",\"None\"],[\"60\",14,-14.0,35.0,\"G - Aerodrome Capacity\",null,\"None\"],[\"84\",-11,9.0,38.666666666666664,\"G - Aerodrome Capacity\",null,\"None\"],[\"36\",-32,-18.0,36.666666666666664,\"G - Aerodrome Capacity\",null,\"None\"],[\"60\",8,-12.0,36.666666666666664,\"G - Aerodrome Capacity\",null,\"None\"],[\"84\",-10,12.0,38.333333333333336,\"G - Aerodrome Capacity\",null,\"None\"],[\"24\",-16,13.0,8.333333333333334,\"G - Aerodrome Capacity\",\"WIP in TWR\",\"None\"],[\"60\",15,-6.0,36.666666666666664,\"G - Aerodrome Capacity\",null,\"None\"],[\"72\",7,15.0,34.333333333333336,\"G - Aerodrome Capacity\",null,\"None\"],[\"84\",-15,7.0,34.666666666666664,\"G - Aerodrome Capacity\",null,\"None\"],[\"36\",-30,-12.0,31.333333333333332,\"G - Aerodrome Capacity\",null,\"None\"],[\"84\",-4,-5.0,27.333333333333332,\"G - Aerodrome Capacity\",null,\"None\"],[\"48\",20,-22.0,24.666666666666668,\"G - Aerodrome Capacity\",null,\"None\"],[\"36\",-28,-6.0,31.333333333333332,\"G - Aerodrome Capacity\",null,\"None\"],[\"48\",13,-28.0,35.0,\"G - Aerodrome Capacity\",null,\"None\"],[\"60\",5,13.0,32.333333333333336,\"G - Aerodrome Capacity\",null,\"None\"],[\"72\",3,5.0,30.0,\"G - Aerodrome Capacity\",null,\"None\"],[\"84\",-23,3.0,31.0,\"G - Aerodrome Capacity\",null,\"None\"],[\"36\",-28,-26.0,34.666666666666664,\"G - Aerodrome Capacity\",null,\"None\"],[\"84\",-15,7.0,35.0,\"G - Aerodrome Capacity\",null,\"None\"],[\"36\",-27,-2.0,34.333333333333336,\"G - Aerodrome Capacity\",null,\"None\"],[\"60\",13,-4.0,35.666666666666664,\"G - Aerodrome Capacity\",null,\"None\"],[\"72\",12,13.0,33.333333333333336,\"G - Aerodrome Capacity\",null,\"None\"],[\"84\",-15,12.0,35.0,\"G - Aerodrome Capacity\",null,\"None\"],[\"36\",-32,-20.0,35.666666666666664,\"G - Aerodrome Capacity\",null,\"None\"],[\"60\",20,-6.0,36.666666666666664,\"G - Aerodrome Capacity\",null,\"None\"],[\"72\",10,20.0,35.0,\"G - Aerodrome Capacity\",null,\"None\"],[\"84\",-13,10.0,36.333333333333336,\"G - Aerodrome Capacity\",null,\"None\"],[\"60\",4,-14.0,31.0,\"G - Aerodrome Capacity\",null,\"None\"],[\"84\",-13,-9.0,28.333333333333332,\"G - Aerodrome Capacity\",null,\"None\"],[\"36\",8,24.0,35.333333333333336,\"G - Aerodrome Capacity\",null,\"None\"],[\"24\",27,44.0,22.0,\"G - Aerodrome Capacity\",null,\"None\"],[\"36\",8,27.0,35.0,\"G - Aerodrome Capacity\",null,\"None\"],[\"60\",-13,-31.0,31.666666666666668,\"G - Aerodrome Capacity\",null,\"None\"],[\"84\",-2,-17.0,28.0,\"G - Aerodrome Capacity\",\"Reg extended\",\"None\"],[\"48\",-32,1.0,27.0,\"G - Aerodrome Capacity\",null,\"None\"],[\"60\",-11,-32.0,33.666666666666664,\"G - Aerodrome Capacity\",null,\"None\"],[\"84\",-9,-13.0,27.333333333333332,\"G - Aerodrome Capacity\",null,\"None\"],[\"36\",5,34.0,37.333333333333336,\"G - Aerodrome Capacity\",null,\"None\"],[\"72\",-9,-6.0,36.666666666666664,\"G - Aerodrome Capacity\",null,\"None\"],[\"84\",-8,-9.0,28.666666666666668,\"G - Aerodrome Capacity\",null,\"None\"],[\"24\",22,39.0,20.333333333333332,\"G - Aerodrome Capacity\",\"EXTENDED\",\"None\"],[\"36\",10,22.0,35.333333333333336,\"G - Aerodrome Capacity\",null,\"None\"],[\"48\",-19,10.0,23.666666666666668,\"G - Aerodrome Capacity\",\"EXTENDED\",\"None\"],[\"60\",-6,-19.0,31.333333333333332,\"G - Aerodrome Capacity\",null,\"None\"],[\"72\",-14,-6.0,36.0,\"G - Aerodrome Capacity\",\"EXTENDED\",\"None\"],[\"84\",-7,-14.0,22.333333333333332,\"G - Aerodrome Capacity\",\"EXTENDED\",\"None\"],[\"36\",10,21.0,31.333333333333332,\"G - Aerodrome Capacity\",null,\"None\"],[\"60\",-23,-20.0,25.666666666666668,\"G - Aerodrome Capacity\",null,\"None\"],[\"84\",-7,-20.0,18.333333333333332,\"G - Aerodrome Capacity\",null,\"None\"],[\"36\",6,13.0,25.0,\"G - Aerodrome Capacity\",\"RATE REDUCED DUE TO RWY CONFIGURATION AND HOLDINGS\",\"None\"],[\"48\",-23,6.0,18.333333333333332,\"G - Aerodrome Capacity\",\"RATE REDUCED DUE TO RWY CONFIGURATION AND HOLDINGS\",\"None\"],[\"60\",-20,-23.0,25.0,\"G - Aerodrome Capacity\",\"RATE REDUCED DUE TO RWY CONFIGURATION AND HOLDINGS\",\"None\"],[\"72\",-23,-20.0,28.0,\"G - Aerodrome Capacity\",\"RATE REDUCED DUE TO RWY CONFIGURATION AND HOLDINGS\",\"None\"],[\"84\",-4,-23.0,21.666666666666668,\"G - Aerodrome Capacity\",\"RATE REDUCED DUE TO RWY CONFIGURATION AND HOLDINGS\",\"None\"],[\"48\",-32,5.0,23.0,\"G - Aerodrome Capacity\",null,\"None\"],[\"60\",-9,-32.0,30.0,\"G - Aerodrome Capacity\",null,\"None\"],[\"84\",-8,-15.0,26.333333333333332,\"G - Aerodrome Capacity\",\"WIP\",\"None\"],[\"48\",4,1.0,0.3333333333333333,\"G - Aerodrome Capacity\",null,\"None\"],[\"36\",7,22.0,33.666666666666664,\"G - Aerodrome Capacity\",null,\"None\"],[\"60\",-10,-38.0,30.666666666666668,\"G - Aerodrome Capacity\",null,\"None\"],[\"84\",-5,-19.0,30.333333333333332,\"G - Aerodrome Capacity\",null,\"None\"],[\"84\",-6,-19.0,28.333333333333332,\"G - Aerodrome Capacity\",null,\"None\"],[\"24\",27,42.0,22.333333333333332,\"G - Aerodrome Capacity\",null,\"None\"],[\"84\",-6,-15.0,28.666666666666668,\"G - Aerodrome Capacity\",null,\"None\"],[\"36\",11,28.0,35.666666666666664,\"G - Aerodrome Capacity\",null,\"None\"],[\"60\",-25,-37.0,27.666666666666668,\"G - Aerodrome Capacity\",null,\"None\"],[\"84\",-8,-20.0,20.333333333333332,\"G - Aerodrome Capacity\",null,\"None\"],[\"84\",-5,-19.0,32.0,\"G - Aerodrome Capacity\",null,\"None\"],[\"60\",-9,-29.0,32.333333333333336,\"G - Aerodrome Capacity\",null,\"None\"],[\"72\",-18,-9.0,40.0,\"G - Aerodrome Capacity\",null,\"None\"],[\"84\",-8,-18.0,31.0,\"G - Aerodrome Capacity\",null,\"None\"],[\"60\",-4,-19.0,25.0,\"G - Aerodrome Capacity\",null,\"None\"],[\"24\",24,48.0,24.0,\"G - Aerodrome Capacity\",null,\"None\"],[\"36\",1,24.0,36.333333333333336,\"G - Aerodrome Capacity\",null,\"None\"],[\"60\",-8,-25.0,34.0,\"G - Aerodrome Capacity\",null,\"None\"],[\"36\",-5,19.0,38.666666666666664,\"G - Aerodrome Capacity\",null,\"None\"],[\"60\",-18,-36.0,34.666666666666664,\"G - Aerodrome Capacity\",null,\"None\"],[\"72\",-15,-18.0,38.0,\"G - Aerodrome Capacity\",null,\"None\"],[\"84\",-4,-15.0,32.333333333333336,\"G - Aerodrome Capacity\",null,\"None\"],[\"84\",-11,-6.0,32.0,\"G - Aerodrome Capacity\",null,\"None\"],[\"36\",9,27.0,38.333333333333336,\"G - Aerodrome Capacity\",null,\"None\"],[\"72\",-22,-25.0,31.0,\"G - Aerodrome Capacity\",\"wip on rwy\",\"None\"],[\"36\",12,25.0,30.0,\"G - Aerodrome Capacity\",null,\"None\"],[\"60\",-18,-16.0,33.333333333333336,\"G - Aerodrome Capacity\",null,\"None\"],[\"72\",-28,-18.0,36.333333333333336,\"G - Aerodrome Capacity\",null,\"None\"],[\"84\",-7,-28.0,32.333333333333336,\"G - Aerodrome Capacity\",null,\"None\"],[\"36\",2,23.0,39.333333333333336,\"G - Aerodrome Capacity\",null,\"None\"],[\"60\",-10,-37.0,32.666666666666664,\"G - Aerodrome Capacity\",null,\"None\"],[\"84\",-4,-16.0,31.333333333333332,\"G - Aerodrome Capacity\",null,\"None\"],[\"60\",-17,-35.0,35.0,\"G - Aerodrome Capacity\",null,\"None\"],[\"84\",-3,-14.0,30.666666666666668,\"G - Aerodrome Capacity\",null,\"None\"],[\"24\",23,51.0,25.0,\"G - Aerodrome Capacity\",null,\"None\"],[\"36\",8,23.0,37.0,\"G - Aerodrome Capacity\",null,\"None\"],[\"60\",-17,-31.0,36.0,\"G - Aerodrome Capacity\",null,\"None\"],[\"84\",-3,-22.0,33.666666666666664,\"G - Aerodrome Capacity\",null,\"None\"],[\"24\",23,52.0,26.666666666666668,\"G - Aerodrome Capacity\",null,\"None\"],[\"36\",9,23.0,37.666666666666664,\"G - Aerodrome Capacity\",null,\"None\"],[\"60\",-15,-29.0,32.666666666666664,\"G - Aerodrome Capacity\",null,\"None\"],[\"84\",-3,-15.0,33.666666666666664,\"G - Aerodrome Capacity\",null,\"None\"],[\"36\",8,22.0,36.0,\"G - Aerodrome Capacity\",null,\"None\"],[\"72\",-26,-22.0,31.666666666666668,\"G - Aerodrome Capacity\",null,\"None\"],[\"48\",-31,3.0,28.333333333333332,\"G - Aerodrome Capacity\",null,\"None\"],[\"60\",-19,-31.0,34.0,\"G - Aerodrome Capacity\",null,\"None\"],[\"36\",4,22.0,37.0,\"G - Aerodrome Capacity\",null,\"None\"],[\"60\",-18,-38.0,33.0,\"G - Aerodrome Capacity\",null,\"None\"],[\"72\",-19,-18.0,42.333333333333336,\"G - Aerodrome Capacity\",null,\"None\"],[\"84\",-4,-19.0,30.333333333333332,\"G - Aerodrome Capacity\",null,\"None\"],[\"60\",-22,-31.0,33.333333333333336,\"G - Aerodrome Capacity\",null,\"None\"],[\"48\",-23,3.0,29.0,\"G - Aerodrome Capacity\",\"reg extended\",\"None\"],[\"60\",-13,-23.0,33.333333333333336,\"G - Aerodrome Capacity\",null,\"None\"],[\"60\",-24,-32.0,32.0,\"G - Aerodrome Capacity\",\"RATE INCREASED\",\"None\"],[\"84\",-6,-18.0,23.333333333333332,\"G - Aerodrome Capacity\",null,\"None\"],[\"72\",-13,-17.0,33.666666666666664,\"G - Aerodrome Capacity\",null,\"None\"],[\"84\",-7,-13.0,24.666666666666668,\"G - Aerodrome Capacity\",null,\"None\"],[\"36\",-4,10.0,30.0,\"G - Aerodrome Capacity\",null,\"None\"],[\"84\",-4,-12.0,26.333333333333332,\"G - Aerodrome Capacity\",null,\"None\"],[\"60\",-17,-27.0,29.333333333333332,\"G - Aerodrome Capacity\",null,\"None\"],[\"24\",21,42.0,25.666666666666668,\"G - Aerodrome Capacity\",null,\"None\"],[\"36\",5,21.0,36.333333333333336,\"G - Aerodrome Capacity\",null,\"None\"],[\"48\",-31,5.0,33.333333333333336,\"G - Aerodrome Capacity\",null,\"None\"],[\"60\",-14,-31.0,33.666666666666664,\"G - Aerodrome Capacity\",null,\"None\"],[\"72\",-18,-14.0,42.333333333333336,\"G - Aerodrome Capacity\",null,\"None\"],[\"84\",-6,-18.0,32.333333333333336,\"G - Aerodrome Capacity\",null,\"None\"],[\"36\",0,25.0,30.0,\"G - Aerodrome Capacity\",null,\"None\"],[\"48\",-33,0.0,27.333333333333332,\"G - Aerodrome Capacity\",null,\"None\"],[\"60\",-12,-33.0,33.333333333333336,\"G - Aerodrome Capacity\",\"Reg shortened\",\"None\"],[\"84\",-7,-28.0,35.333333333333336,\"G - Aerodrome Capacity\",null,\"None\"],[\"84\",-6,-17.0,34.0,\"G - Aerodrome Capacity\",null,\"None\"],[\"36\",0,27.0,40.0,\"G - Aerodrome Capacity\",\"Reg extended\",\"None\"],[\"48\",-25,0.0,31.666666666666668,\"G - Aerodrome Capacity\",\"Reg extended\",\"None\"],[\"60\",-4,-25.0,34.0,\"G - Aerodrome Capacity\",null,\"None\"],[\"84\",-7,-17.0,33.666666666666664,\"G - Aerodrome Capacity\",null,\"None\"],[\"36\",4,12.0,34.0,\"G - Aerodrome Capacity\",null,\"None\"],[\"48\",-25,4.0,33.666666666666664,\"G - Aerodrome Capacity\",null,\"None\"],[\"60\",-17,-25.0,30.666666666666668,\"G - Aerodrome Capacity\",null,\"None\"],[\"72\",-17,-17.0,35.0,\"G - Aerodrome Capacity\",null,\"None\"],[\"84\",-6,-17.0,28.0,\"G - Aerodrome Capacity\",null,\"None\"],[\"60\",-17,-23.0,30.666666666666668,\"G - Aerodrome Capacity\",null,\"None\"],[\"72\",-17,-17.0,38.666666666666664,\"G - Aerodrome Capacity\",null,\"None\"],[\"84\",-9,-19.0,27.666666666666668,\"G - Aerodrome Capacity\",null,\"None\"],[\"24\",33,44.0,23.666666666666668,\"G - Aerodrome Capacity\",\"RWY 08/26 CLOSED DUE TO WIP. NOTAM A0893/18.\",\"None\"],[\"36\",-8,33.0,38.333333333333336,\"G - Aerodrome Capacity\",\"RWY 08/26 CLOSED DUE TO WIP. NOTAM A0893/18.\",\"None\"],[\"48\",-34,-8.0,28.333333333333332,\"G - Aerodrome Capacity\",\"RWY 08/26 CLOSED DUE TO WIP. NOTAM A0893/18.\",\"None\"],[\"60\",-7,-34.0,35.333333333333336,\"G - Aerodrome Capacity\",\"RWY 08/26 CLOSED DUE TO WIP. NOTAM A0893/18.\",\"None\"],[\"72\",-14,-7.0,37.0,\"G - Aerodrome Capacity\",null,\"None\"],[\"24\",25,45.0,24.333333333333332,\"G - Aerodrome Capacity\",null,\"None\"],[\"60\",-6,-29.0,33.333333333333336,\"G - Aerodrome Capacity\",null,\"None\"],[\"24\",22,46.0,25.333333333333332,\"G - Aerodrome Capacity\",null,\"None\"],[\"84\",-15,-11.0,29.333333333333332,\"G - Aerodrome Capacity\",null,\"None\"],[\"36\",-2,32.0,39.333333333333336,\"G - Aerodrome Capacity\",null,\"None\"],[\"60\",-19,-40.0,34.0,\"G - Aerodrome Capacity\",null,\"None\"],[\"48\",-24,5.0,32.666666666666664,\"G - Aerodrome Capacity\",null,\"None\"],[\"60\",-10,-24.0,33.666666666666664,\"G - Aerodrome Capacity\",null,\"None\"],[\"60\",-23,-32.0,30.0,\"G - Aerodrome Capacity\",null,\"None\"],[\"36\",7,15.0,33.0,\"G - Aerodrome Capacity\",null,\"None\"],[\"48\",-38,7.0,30.0,\"G - Aerodrome Capacity\",null,\"None\"],[\"60\",-14,-38.0,32.0,\"G - Aerodrome Capacity\",null,\"None\"],[\"24\",22,38.0,22.333333333333332,\"G - Aerodrome Capacity\",null,\"None\"],[\"60\",-15,-24.0,35.333333333333336,\"G - Aerodrome Capacity\",\"SINGLE RUNWAY OPERATIONS\",\"None\"],[\"84\",-9,-12.0,34.666666666666664,\"G - Aerodrome Capacity\",null,\"None\"],[\"12\",43,4.0,1.3333333333333333,\"G - Aerodrome Capacity\",\"uefa final 2018\",\"None\"],[\"24\",30,43.0,20.666666666666668,\"G - Aerodrome Capacity\",null,\"None\"],[\"36\",9,30.0,36.0,\"G - Aerodrome Capacity\",null,\"None\"],[\"48\",-28,9.0,28.333333333333332,\"G - Aerodrome Capacity\",null,\"None\"],[\"60\",-17,-28.0,29.333333333333332,\"G - Aerodrome Capacity\",null,\"None\"],[\"72\",-19,-17.0,33.333333333333336,\"G - Aerodrome Capacity\",\"uefa final 2018\",\"None\"],[\"60\",-19,-35.0,32.0,\"G - Aerodrome Capacity\",null,\"None\"],[\"84\",-10,-14.0,29.0,\"G - Aerodrome Capacity\",null,\"None\"],[\"24\",28,44.0,23.333333333333332,\"G - Aerodrome Capacity\",null,\"None\"],[\"60\",-20,-42.0,33.0,\"G - Aerodrome Capacity\",null,\"None\"],[\"24\",23,24.0,18.333333333333332,\"G - Aerodrome Capacity\",\",\",\"None\"],[\"84\",-15,-11.0,27.333333333333332,\"G - Aerodrome Capacity\",null,\"None\"],[\"48\",-27,7.0,26.666666666666668,\"G - Aerodrome Capacity\",null,\"None\"],[\"36\",7,21.0,31.666666666666668,\"G - Aerodrome Capacity\",null,\"None\"],[\"36\",-2,24.0,38.666666666666664,\"G - Aerodrome Capacity\",null,\"None\"],[\"60\",-18,-29.0,33.0,\"G - Aerodrome Capacity\",null,\"None\"],[\"24\",28,49.0,24.666666666666668,\"G - Aerodrome Capacity\",null,\"None\"],[\"72\",-19,-15.0,38.666666666666664,\"G - Aerodrome Capacity\",null,\"None\"],[\"24\",29,48.0,26.666666666666668,\"G - Aerodrome Capacity\",null,\"None\"],[\"60\",-21,-28.0,32.333333333333336,\"G - Aerodrome Capacity\",null,\"None\"],[\"36\",-6,33.0,41.666666666666664,\"G - Aerodrome Capacity\",null,\"None\"],[\"24\",29,32.0,18.0,\"G - Aerodrome Capacity\",null,\"None\"],[\"12\",45,3.0,1.0,\"G - Aerodrome Capacity\",\"RWY REPARATION\",\"None\"],[\"24\",30,45.0,25.0,\"G - Aerodrome Capacity\",null,\"None\"],[\"60\",-13,-35.0,32.666666666666664,\"G - Aerodrome Capacity\",null,\"None\"],[\"72\",-6,-13.0,39.333333333333336,\"G - Aerodrome Capacity\",null,\"None\"],[\"84\",-11,-6.0,25.666666666666668,\"G - Aerodrome Capacity\",null,\"None\"],[\"48\",-25,0.0,32.0,\"G - Aerodrome Capacity\",null,\"None\"],[\"60\",-19,-25.0,35.333333333333336,\"G - Aerodrome Capacity\",null,\"None\"],[\"60\",-15,-20.0,35.333333333333336,\"G - Aerodrome Capacity\",null,\"None\"],[\"84\",-9,-20.0,36.0,\"G - Aerodrome Capacity\",null,\"None\"],[\"84\",-10,-13.0,35.666666666666664,\"G - Aerodrome Capacity\",\"REG EXTENDED\",\"None\"],[\"84\",-9,-25.0,35.333333333333336,\"G - Aerodrome Capacity\",null,\"None\"],[\"84\",-11,-16.0,34.666666666666664,\"G - Aerodrome Capacity\",null,\"None\"],[\"84\",-11,-22.0,37.666666666666664,\"G - Aerodrome Capacity\",null,\"None\"],[\"84\",-9,-21.0,37.0,\"G - Aerodrome Capacity\",null,\"None\"],[\"36\",4,21.0,38.0,\"G - Aerodrome Capacity\",null,\"None\"],[\"60\",-21,-36.0,29.333333333333332,\"G - Aerodrome Capacity\",null,\"None\"],[\"72\",-24,-21.0,33.0,\"G - Aerodrome Capacity\",null,\"None\"],[\"36\",13,31.0,30.666666666666668,\"G - Aerodrome Capacity\",null,\"None\"],[\"60\",-20,-32.0,32.0,\"G - Aerodrome Capacity\",null,\"None\"],[\"84\",-12,-29.0,34.333333333333336,\"G - Aerodrome Capacity\",null,\"None\"],[\"84\",-8,-16.0,34.333333333333336,\"G - Aerodrome Capacity\",null,\"None\"],[\"60\",-13,-39.0,34.666666666666664,\"G - Aerodrome Capacity\",null,\"None\"],[\"72\",-18,-13.0,40.333333333333336,\"G - Aerodrome Capacity\",\"reg extended\",\"None\"],[\"84\",-8,-18.0,35.666666666666664,\"G - Aerodrome Capacity\",null,\"None\"],[\"36\",1,29.0,38.666666666666664,\"G - Aerodrome Capacity\",\"rain reg amended From 07:20 reason is aerodrome capacity.\",\"None\"],[\"48\",-37,1.0,32.333333333333336,\"G - Aerodrome Capacity\",\"rain reg amended From 07:20 reason is aerodrome capacity.\",\"None\"],[\"60\",-1,-37.0,36.0,\"G - Aerodrome Capacity\",\"REG EXTENDED\",\"None\"],[\"72\",-9,-1.0,38.0,\"G - Aerodrome Capacity\",null,\"None\"],[\"36\",-3,20.0,39.0,\"G - Aerodrome Capacity\",null,\"None\"],[\"60\",-13,-31.0,34.0,\"G - Aerodrome Capacity\",\"cb\",\"None\"],[\"24\",29,46.0,26.333333333333332,\"G - Aerodrome Capacity\",\"REG EXTENDED\",\"None\"],[\"36\",-4,29.0,40.666666666666664,\"G - Aerodrome Capacity\",null,\"None\"],[\"72\",-7,-7.0,38.0,\"G - Aerodrome Capacity\",null,\"None\"],[\"60\",-19,-30.0,30.0,\"G - Aerodrome Capacity\",null,\"None\"]],\"hovertemplate\":\"reg_type=%{customdata[4]}<br>date_idx=%{x}<br>recovery_rate=%{y}<br>tw_idx=%{customdata[0]}<br>capacity_change=%{customdata[1]}<br>prev_capacity_change=%{customdata[2]}<br>prev_avg_capacity=%{customdata[3]}<br>reg_cause=%{customdata[5]}<br>reg_bool_type=%{customdata[6]}<extra></extra>\",\"legendgroup\":\"G - Aerodrome Capacity\",\"marker\":{\"color\":\"#EF553B\",\"symbol\":\"circle\"},\"mode\":\"markers\",\"name\":\"G - Aerodrome Capacity\",\"showlegend\":true,\"x\":[\"2018-01-01\",\"2018-01-01\",\"2018-01-02\",\"2018-01-02\",\"2018-01-02\",\"2018-01-03\",\"2018-01-03\",\"2018-01-04\",\"2018-01-05\",\"2018-01-05\",\"2018-01-05\",\"2018-01-05\",\"2018-01-05\",\"2018-01-06\",\"2018-01-06\",\"2018-01-07\",\"2018-01-07\",\"2018-01-07\",\"2018-01-08\",\"2018-01-09\",\"2018-01-09\",\"2018-01-09\",\"2018-01-10\",\"2018-01-10\",\"2018-01-10\",\"2018-01-11\",\"2018-01-11\",\"2018-01-11\",\"2018-01-11\",\"2018-01-11\",\"2018-01-12\",\"2018-01-12\",\"2018-01-12\",\"2018-01-13\",\"2018-01-14\",\"2018-01-14\",\"2018-01-14\",\"2018-01-15\",\"2018-01-16\",\"2018-01-16\",\"2018-01-16\",\"2018-01-16\",\"2018-01-17\",\"2018-01-17\",\"2018-01-17\",\"2018-01-17\",\"2018-01-18\",\"2018-01-18\",\"2018-01-18\",\"2018-01-19\",\"2018-01-19\",\"2018-01-19\",\"2018-01-20\",\"2018-01-20\",\"2018-01-20\",\"2018-01-20\",\"2018-01-20\",\"2018-01-21\",\"2018-01-21\",\"2018-01-21\",\"2018-01-22\",\"2018-01-22\",\"2018-01-22\",\"2018-01-22\",\"2018-01-23\",\"2018-01-23\",\"2018-01-23\",\"2018-01-23\",\"2018-01-24\",\"2018-01-25\",\"2018-01-25\",\"2018-01-25\",\"2018-01-26\",\"2018-01-26\",\"2018-01-26\",\"2018-01-26\",\"2018-01-27\",\"2018-01-27\",\"2018-01-27\",\"2018-01-28\",\"2018-01-28\",\"2018-01-29\",\"2018-01-29\",\"2018-01-29\",\"2018-01-30\",\"2018-01-30\",\"2018-01-30\",\"2018-01-30\",\"2018-01-30\",\"2018-01-31\",\"2018-01-31\",\"2018-01-31\",\"2018-02-01\",\"2018-02-01\",\"2018-02-01\",\"2018-02-02\",\"2018-02-02\",\"2018-02-03\",\"2018-02-03\",\"2018-02-04\",\"2018-02-04\",\"2018-02-04\",\"2018-02-04\",\"2018-02-06\",\"2018-02-07\",\"2018-02-08\",\"2018-02-09\",\"2018-02-10\",\"2018-02-10\",\"2018-02-10\",\"2018-02-10\",\"2018-02-10\",\"2018-02-11\",\"2018-02-11\",\"2018-02-12\",\"2018-02-12\",\"2018-02-12\",\"2018-02-13\",\"2018-02-13\",\"2018-02-13\",\"2018-02-13\",\"2018-02-14\",\"2018-02-14\",\"2018-02-15\",\"2018-02-15\",\"2018-02-15\",\"2018-02-15\",\"2018-02-16\",\"2018-02-16\",\"2018-02-17\",\"2018-02-18\",\"2018-02-18\",\"2018-02-19\",\"2018-02-19\",\"2018-02-19\",\"2018-02-20\",\"2018-02-21\",\"2018-02-22\",\"2018-02-22\",\"2018-02-23\",\"2018-02-23\",\"2018-02-23\",\"2018-02-23\",\"2018-02-24\",\"2018-02-26\",\"2018-02-27\",\"2018-02-27\",\"2018-02-27\",\"2018-02-27\",\"2018-02-28\",\"2018-03-02\",\"2018-03-02\",\"2018-03-04\",\"2018-03-04\",\"2018-03-04\",\"2018-03-04\",\"2018-03-04\",\"2018-03-04\",\"2018-03-05\",\"2018-03-06\",\"2018-03-07\",\"2018-03-07\",\"2018-03-07\",\"2018-03-11\",\"2018-03-11\",\"2018-03-12\",\"2018-03-13\",\"2018-03-13\",\"2018-03-14\",\"2018-03-14\",\"2018-03-14\",\"2018-03-15\",\"2018-03-15\",\"2018-03-15\",\"2018-03-16\",\"2018-03-16\",\"2018-03-16\",\"2018-03-16\",\"2018-03-17\",\"2018-03-17\",\"2018-03-18\",\"2018-03-19\",\"2018-03-19\",\"2018-03-19\",\"2018-03-19\",\"2018-03-19\",\"2018-03-20\",\"2018-03-20\",\"2018-03-22\",\"2018-03-22\",\"2018-03-22\",\"2018-03-22\",\"2018-03-23\",\"2018-03-23\",\"2018-03-23\",\"2018-03-23\",\"2018-03-24\",\"2018-03-24\",\"2018-03-26\",\"2018-03-27\",\"2018-03-27\",\"2018-03-27\",\"2018-03-27\",\"2018-03-28\",\"2018-03-28\",\"2018-03-28\",\"2018-03-29\",\"2018-03-29\",\"2018-03-29\",\"2018-03-30\",\"2018-03-30\",\"2018-03-30\",\"2018-03-30\",\"2018-03-30\",\"2018-03-30\",\"2018-03-31\",\"2018-03-31\",\"2018-03-31\",\"2018-04-01\",\"2018-04-01\",\"2018-04-01\",\"2018-04-01\",\"2018-04-01\",\"2018-04-02\",\"2018-04-02\",\"2018-04-02\",\"2018-04-03\",\"2018-04-04\",\"2018-04-04\",\"2018-04-04\",\"2018-04-05\",\"2018-04-06\",\"2018-04-06\",\"2018-04-07\",\"2018-04-07\",\"2018-04-07\",\"2018-04-08\",\"2018-04-09\",\"2018-04-09\",\"2018-04-09\",\"2018-04-10\",\"2018-04-11\",\"2018-04-11\",\"2018-04-11\",\"2018-04-12\",\"2018-04-12\",\"2018-04-12\",\"2018-04-12\",\"2018-04-13\",\"2018-04-14\",\"2018-04-14\",\"2018-04-15\",\"2018-04-15\",\"2018-04-15\",\"2018-04-15\",\"2018-04-16\",\"2018-04-16\",\"2018-04-16\",\"2018-04-17\",\"2018-04-17\",\"2018-04-18\",\"2018-04-18\",\"2018-04-19\",\"2018-04-19\",\"2018-04-20\",\"2018-04-20\",\"2018-04-20\",\"2018-04-20\",\"2018-04-21\",\"2018-04-21\",\"2018-04-23\",\"2018-04-23\",\"2018-04-24\",\"2018-04-24\",\"2018-04-24\",\"2018-04-24\",\"2018-04-26\",\"2018-04-27\",\"2018-04-27\",\"2018-04-28\",\"2018-04-28\",\"2018-04-29\",\"2018-04-29\",\"2018-04-30\",\"2018-04-30\",\"2018-05-01\",\"2018-05-02\",\"2018-05-02\",\"2018-05-02\",\"2018-05-02\",\"2018-05-02\",\"2018-05-03\",\"2018-05-06\",\"2018-05-06\",\"2018-05-06\",\"2018-05-06\",\"2018-05-07\",\"2018-05-09\",\"2018-05-09\",\"2018-05-09\",\"2018-05-09\",\"2018-05-10\",\"2018-05-10\",\"2018-05-10\",\"2018-05-10\",\"2018-05-10\",\"2018-05-11\",\"2018-05-11\",\"2018-05-13\",\"2018-05-14\",\"2018-05-14\",\"2018-05-14\",\"2018-05-14\",\"2018-05-14\",\"2018-05-15\",\"2018-05-15\",\"2018-05-16\",\"2018-05-16\",\"2018-05-17\",\"2018-05-17\",\"2018-05-18\",\"2018-05-18\",\"2018-05-19\",\"2018-05-21\",\"2018-05-21\",\"2018-05-21\",\"2018-05-25\",\"2018-05-25\",\"2018-05-25\",\"2018-05-26\",\"2018-05-26\",\"2018-05-26\",\"2018-05-26\",\"2018-05-26\",\"2018-05-26\",\"2018-05-27\",\"2018-05-27\",\"2018-05-29\",\"2018-05-29\",\"2018-06-01\",\"2018-06-01\",\"2018-06-02\",\"2018-06-03\",\"2018-06-04\",\"2018-06-04\",\"2018-06-05\",\"2018-06-05\",\"2018-06-06\",\"2018-06-07\",\"2018-06-08\",\"2018-06-10\",\"2018-06-11\",\"2018-06-11\",\"2018-06-11\",\"2018-06-11\",\"2018-06-11\",\"2018-06-14\",\"2018-06-14\",\"2018-06-15\",\"2018-06-15\",\"2018-06-18\",\"2018-06-19\",\"2018-06-20\",\"2018-06-21\",\"2018-06-22\",\"2018-06-23\",\"2018-06-23\",\"2018-06-23\",\"2018-06-24\",\"2018-06-24\",\"2018-06-24\",\"2018-06-25\",\"2018-06-26\",\"2018-06-26\",\"2018-06-26\",\"2018-06-27\",\"2018-06-27\",\"2018-06-27\",\"2018-06-27\",\"2018-06-28\",\"2018-06-28\",\"2018-06-29\",\"2018-06-29\",\"2018-06-29\",\"2018-06-30\"],\"xaxis\":\"x\",\"y\":[1.0845954723006224,2.59291192270578,1.5667721233274132,2.277487348554005,1.255019799201335,2.7358854280264757,1.26172371812984,1.8970951745863156,0.8065822915811066,3.4482478171544497,1.5225185387912634,1.944803447026518,1.8044127079400551,2.675298745095204,1.2382032504984202,1.3801029757599887,3.2629957339797984,1.3807720604899558,0.8339935765017868,2.1284466311530252,2.3951139643181407,2.013928546691709,5.161805360108534,1.3477944100373576,1.2271757538903172,2.831113955467011,1.6657269659144507,2.131210548111644,3.410188138310407,1.8337343322994444,2.438397376675571,1.928636333500159,1.3448089730959878,3.3318564813006524,3.3353776216163693,1.404398418863382,1.337773365349237,3.5505595656115894,2.905445863209052,3.1710270965754748,1.9256136821028784,1.3672382977137776,1.308896671010846,1.9959396013762432,2.0654293934232735,2.4973000495157893,2.1246597155738245,1.817352686024963,1.6223716080141537,2.060768288484381,1.6834237142111275,1.2201098227459375,0.7337507084052057,3.4660165753686543,2.447817928040351,0.01631335847796069,1.0482290775063676,2.561600888908734,1.7560385546563504,1.1825099546191602,0.05959293419949362,0.36800008813654,0.9637952920680579,1.74071447004543,3.5209863433019124,2.7159867524584493,2.374259794974439,1.5024499799113378,1.8556142171679422,3.2032523481443382,2.4870760101481557,2.538749637446584,4.417801674460996,2.7823594032475514,1.6147445126253979,1.294049176369496,2.563957981217864,2.831019256111173,1.1715598945106351,2.7309390255213275,2.6634457440018635,3.2229146857800623,2.303119927484406,2.8449292943988045,5.1979370170926575,3.2605561204967,3.399015727625455,1.8423803073697287,1.6414429062200984,5.581868916634292,3.079926785925047,1.5786119509473857,2.2985237279006023,1.864351150918899,1.2233852430945418,2.2635768325053505,2.7657823447176306,2.7119237322959817,1.0905686138920319,5.005061944479396,1.9921973116371803,2.0178910292865564,1.0671856569676699,3.4198746439147327,-0.16334370086878577,1.2693038517303876,1.6819497429390307,3.122265960616778,1.7811161565238105,3.207421899500166,0.9844440323286664,1.1902640272077964,2.6916210421553477,1.3073828630411986,2.2728096635151083,1.9968077254875645,2.421109690729623,2.1794871567271565,3.282748066608618,1.7074197043165569,1.1632826804510015,2.2284746926789762,3.9014813859515822,0.6894727312396243,3.446834132131959,0.20706881611626096,0.6910133062610536,3.335869511204021,0.541520098806798,-0.17750475328280454,0.4767540513936833,1.905476189587696,1.563199826547406,1.5307768084400066,-0.2928993187547369,0.17462388877159618,2.2926734549751218,2.561357005841527,0.8756611810441297,1.8232644224301204,1.3810742371918308,1.662859110759882,1.2341392901247414,1.166304778980389,1.8291966097381598,1.563608775027195,2.1453927791646725,2.0126378297481473,1.5832918226479336,2.958210699029368,1.8115195001709423,1.8783449995192383,0.892055222440569,3.0654439371342854,1.9926768211987758,4.230629193761589,1.7867544393542785,1.3830510331803438,1.260450828112235,3.27310636857005,3.375150519793945,1.667181575630817,1.3111564273981655,2.7070219835966167,1.6318443027243188,1.6437863004014581,1.721593919766125,1.5145128744674097,1.7515582834840218,2.6285900080490796,1.3445914556998644,2.219118510507952,3.017753430860824,1.2249856236037397,3.1629283615779547,2.117604121745341,1.8331985428588435,1.3048896980240685,1.3867666780757302,1.0314123901776528,0.891805228316932,0.08646532760167147,0.4353874328316747,0.6423469136287435,0.6882796396182099,1.0010421130658025,1.8042141438186883,0.5656040335204822,1.7062785462870653,1.5859072375315633,0.8925658532028669,0.7677207831822187,1.7721235591065982,1.6407996881269993,1.3889080939260996,1.4165817525693092,2.025131523039023,1.3742921757875972,2.008852667983321,1.833331386001555,1.8151440804768009,3.0722019766951423,1.6137031764275815,2.0083926871598132,2.383763021541161,2.2153408423943213,1.3165155668540178,1.4487583221943734,1.5289740579891686,1.5814768096662346,1.6514588925106806,1.9376274796917015,2.7964061844801207,0.42912159895507507,1.8339396392023009,1.5587230850962217,4.012409583581952,1.6221099849837521,2.151796553518625,2.0928785231490394,2.584843802942093,1.7334172613890928,1.4209610408064408,2.468074863324553,2.9978330091636876,2.4499933929787354,0.24723826341597843,2.148992165870812,1.9642433993731345,1.945509597063124,1.3327983856328067,1.5717425635444486,1.6805612036598494,1.5659342902396312,2.385322995326177,2.2829555241470887,1.499873479892771,2.269635088583547,1.2493269289345394,1.7963906799947797,1.2405106867127567,1.4290443476771244,1.9048453248875423,1.87723125702926,1.4944070228910358,1.4454598832643373,1.7743180745850395,1.3302363195958986,2.659567622197064,1.4547191815974398,3.4025496889232976,1.8648089624413127,2.296880538649802,1.327284780751454,1.6789288793191575,1.7140295295803991,3.0926732169453013,1.9433525795703028,3.5197008047721896,1.31932703722106,2.186320993123632,1.8093585010645528,3.085698310994714,1.9556890168400412,1.7712833766560259,1.8719700471176361,2.4989775547800535,2.294031913782186,1.894990523610713,2.6180895862948588,1.5217955799065437,1.6874825899435848,2.0101175172575814,3.3140327350858034,1.8263560153936227,1.3377871058305872,2.1619137808186673,1.5599955520197,1.7722310414102829,3.074723625265801,1.2242902105700093,1.513134258122711,1.2766742915706635,2.7327871079867925,2.0589483612106,3.393291712052076,1.5266989732222869,1.5518020409320339,1.650870779258256,2.919649387316827,2.4254792081115975,1.5928532705741303,1.7224023415278098,1.6927953675090655,2.665815592844795,1.4134153225927344,1.4392785702770157,1.3033947714317524,1.4846061954477126,1.518037023177334,1.9765735397086717,1.5899660363734178,1.232174589539095,2.410698718459788,2.1754650615100353,2.3827024259473837,2.2453265124998665,1.4407446571055913,1.1591617781770769,1.1207382247200843,1.2486236473347747,0.8701500514698675,1.0109881723641976,0.9484790638212676,1.5374235493762802,0.1409096334838134,1.6450447537583877,1.8687952813663062,1.7378733683487277,3.033501170164737,2.2411312964285686,2.09627917746795,1.8457751752591782,1.5157319266528608,1.970661972552998,1.4027740763428893,1.5651916274900752,1.3184401840758522,2.2287782311696267,1.7714508747810689,1.2934281249235953,1.4096436810307647,1.5229896663751132,2.7245382726455403,2.1244243852503115,0.9546724539072987,1.5279291617261372,1.9261673757351578,2.1284709696774264,1.6978443051545857,1.4958525766170776,2.1081054397709247,1.8104530320787169,1.4468344157880138,2.275627414290925,2.1637783167893763,1.5850677113953182,2.126176429337841,0.49189050624206954,1.29716163979373,1.5768766470076914,1.9113447664755663,1.4071732667946044,0.47922893005175426,0.4251309659853857,1.7377708012180477,1.894308402162971,2.6050866177164353,2.1257217579231305,1.768868172716465,1.6670086944557247,2.4427368895323127,1.9447528653024202,1.312317329009738,1.2194931862508043,1.4976454612682413,3.2001572262594933,1.4368162052528752,2.0472952309394623,2.13400664809976,1.617653754223936,2.3507075962696278,2.7377467193341474,2.363226953137875,1.6523120586233977,1.3347413770423076,1.212304208868575,2.0686838452359244,1.4053405855409942,1.3616689214638653,2.0389441776066297,1.5440028665713934,1.4836615339486505,1.3636802054630404,2.683368317000681],\"yaxis\":\"y\",\"type\":\"scattergl\"},{\"alignmentgroup\":\"True\",\"customdata\":[[\"48\",-9,-4.0,13.666666666666666,\"G - Aerodrome Capacity\",null,\"None\"],[\"60\",9,-9.0,17.666666666666668,\"G - Aerodrome Capacity\",null,\"None\"],[\"36\",-10,10.0,21.0,\"G - Aerodrome Capacity\",null,\"None\"],[\"60\",12,-24.0,30.666666666666668,\"G - Aerodrome Capacity\",null,\"None\"],[\"84\",-9,5.0,25.333333333333332,\"G - Aerodrome Capacity\",null,\"None\"],[\"60\",17,-5.0,28.333333333333332,\"G - Aerodrome Capacity\",null,\"None\"],[\"72\",2,17.0,26.666666666666668,\"G - Aerodrome Capacity\",null,\"None\"],[\"48\",-11,-18.0,27.0,\"G - Aerodrome Capacity\",null,\"None\"],[\"12\",9,-1.0,0.3333333333333333,\"G - Aerodrome Capacity\",\"WIP NOTAM A0065/18. REGULATION EXTENDED.\",\"None\"],[\"24\",13,9.0,7.0,\"G - Aerodrome Capacity\",\"WIP NOTAM A0065/18. REGULATION EXTENDED.\",\"None\"],[\"36\",-17,13.0,21.333333333333332,\"G - Aerodrome Capacity\",\"WIP NOTAM A0065/18. REGULATION EXTENDED.\",\"None\"],[\"60\",17,-17.0,28.666666666666668,\"G - Aerodrome Capacity\",null,\"None\"],[\"72\",-1,17.0,28.0,\"G - Aerodrome Capacity\",null,\"None\"],[\"60\",4,-15.0,27.0,\"G - Aerodrome Capacity\",null,\"None\"],[\"84\",-6,-13.0,22.0,\"G - Aerodrome Capacity\",null,\"None\"],[\"36\",-11,12.0,16.666666666666668,\"G - Aerodrome Capacity\",null,\"None\"],[\"60\",16,-15.0,26.333333333333332,\"G - Aerodrome Capacity\",null,\"None\"],[\"84\",-12,-5.0,34.0,\"G - Aerodrome Capacity\",null,\"None\"],[\"12\",9,0.0,0.0,\"G - Aerodrome Capacity\",\"WIP on RWY NOTAM A4346/17\",\"None\"],[\"48\",-17,-26.0,27.0,\"G - Aerodrome Capacity\",\"WIP RVR 700mt\",\"None\"],[\"60\",11,-17.0,32.333333333333336,\"G - Aerodrome Capacity\",null,\"None\"],[\"72\",8,11.0,30.666666666666668,\"G - Aerodrome Capacity\",\"WIP RVR 700mt\",\"None\"],[\"24\",-14,13.0,8.0,\"G - Aerodrome Capacity\",\"WIP in the TWR\",\"None\"],[\"60\",15,-22.0,31.666666666666668,\"G - Aerodrome Capacity\",null,\"None\"],[\"84\",-11,7.0,34.666666666666664,\"G - Aerodrome Capacity\",\"WIP RATE REDUCED DUE TO LOW VISIBILITY\",\"None\"],[\"24\",-11,11.0,9.0,\"G - Aerodrome Capacity\",\"WIP in the TWR\",\"None\"],[\"36\",-28,-11.0,31.0,\"G - Aerodrome Capacity\",\"WIP in the TWR\",\"None\"],[\"48\",-12,-28.0,31.666666666666668,\"G - Aerodrome Capacity\",null,\"None\"],[\"60\",13,-12.0,32.666666666666664,\"G - Aerodrome Capacity\",\"WIP Reg extended\",\"None\"],[\"84\",-10,4.0,36.666666666666664,\"G - Aerodrome Capacity\",null,\"None\"],[\"36\",-26,-4.0,33.333333333333336,\"G - Aerodrome Capacity\",\"WIP\",\"None\"],[\"72\",9,18.0,33.0,\"G - Aerodrome Capacity\",null,\"None\"],[\"84\",-12,9.0,35.0,\"G - Aerodrome Capacity\",null,\"None\"],[\"60\",11,-22.0,27.666666666666668,\"G - Aerodrome Capacity\",null,\"None\"],[\"60\",15,-12.0,26.0,\"G - Aerodrome Capacity\",null,\"None\"],[\"72\",-13,15.0,32.0,\"G - Aerodrome Capacity\",null,\"None\"],[\"84\",-13,-13.0,33.666666666666664,\"G - Aerodrome Capacity\",null,\"None\"],[\"60\",10,-14.0,30.666666666666668,\"G - Aerodrome Capacity\",null,\"None\"],[\"24\",-16,13.0,8.666666666666666,\"G - Aerodrome Capacity\",\"WIP in the TWR\",\"None\"],[\"60\",10,-17.0,29.0,\"G - Aerodrome Capacity\",\"RWY CONFIGURATION REG. EXE.\",\"None\"],[\"72\",5,10.0,34.333333333333336,\"G - Aerodrome Capacity\",\"RWY CONFIGURATION REG. EXE.\",\"None\"],[\"84\",-16,5.0,31.666666666666668,\"G - Aerodrome Capacity\",\"RWY CONFIGURATION REG. EXE.\",\"None\"],[\"12\",13,-1.0,0.3333333333333333,\"G - Aerodrome Capacity\",\"rwy configuration\",\"None\"],[\"24\",-15,13.0,8.0,\"G - Aerodrome Capacity\",\"WIP in the TWR\",\"None\"],[\"36\",-20,-15.0,32.333333333333336,\"G - Aerodrome Capacity\",\"lack of stands due snow removal\",\"None\"],[\"48\",-12,-20.0,32.333333333333336,\"G - Aerodrome Capacity\",\"lack of stands due snow removal\",\"None\"],[\"48\",-11,-28.0,29.0,\"G - Aerodrome Capacity\",\"Reg shortened\",\"None\"],[\"60\",16,-11.0,28.666666666666668,\"G - Aerodrome Capacity\",null,\"None\"],[\"84\",-21,-5.0,33.333333333333336,\"G - Aerodrome Capacity\",null,\"None\"],[\"60\",20,-9.0,31.333333333333332,\"G - Aerodrome Capacity\",\"rwy config due to wind direction\",\"None\"],[\"72\",8,20.0,34.333333333333336,\"G - Aerodrome Capacity\",\"rwy config due to wind direction\",\"None\"],[\"84\",-14,8.0,35.0,\"G - Aerodrome Capacity\",\"rwy config due to wind direction\",\"None\"],[\"12\",10,-1.0,0.3333333333333333,\"G - Aerodrome Capacity\",null,\"None\"],[\"24\",-7,10.0,6.333333333333333,\"G - Aerodrome Capacity\",null,\"None\"],[\"60\",13,-10.0,26.0,\"G - Aerodrome Capacity\",\"Rwy configuration\",\"None\"],[\"72\",-6,13.0,26.0,\"G - Aerodrome Capacity\",\"Rwy configuration\",\"None\"],[\"84\",-5,-6.0,20.333333333333332,\"G - Aerodrome Capacity\",\"Rwy configuration\",\"None\"],[\"60\",10,-15.0,26.0,\"G - Aerodrome Capacity\",null,\"None\"],[\"72\",6,10.0,33.666666666666664,\"G - Aerodrome Capacity\",\"HOLE ON THE TAXIWAY\",\"None\"],[\"84\",-12,6.0,35.0,\"G - Aerodrome Capacity\",null,\"None\"],[\"24\",-15,10.0,7.666666666666667,\"G - Aerodrome Capacity\",\"WIP in the TWR\",\"None\"],[\"36\",-3,-15.0,36.0,\"G - Aerodrome Capacity\",null,\"None\"],[\"48\",18,-3.0,25.333333333333332,\"G - Aerodrome Capacity\",null,\"None\"],[\"60\",4,18.0,28.333333333333332,\"G - Aerodrome Capacity\",null,\"None\"],[\"24\",-15,15.0,9.0,\"G - Aerodrome Capacity\",\"WIP in the TWR\",\"None\"],[\"60\",13,-20.0,32.333333333333336,\"G - Aerodrome Capacity\",null,\"None\"],[\"72\",13,13.0,33.333333333333336,\"G - Aerodrome Capacity\",null,\"None\"],[\"84\",-11,13.0,32.333333333333336,\"G - Aerodrome Capacity\",null,\"None\"],[\"84\",-13,6.0,34.666666666666664,\"G - Aerodrome Capacity\",null,\"None\"],[\"24\",-13,13.0,8.333333333333334,\"G - Aerodrome Capacity\",\"WIP in the TWR\",\"None\"],[\"60\",15,-25.0,33.0,\"G - Aerodrome Capacity\",null,\"None\"],[\"72\",5,15.0,33.0,\"G - Aerodrome Capacity\",null,\"None\"],[\"24\",-12,16.0,8.333333333333334,\"G - Aerodrome Capacity\",\"WIP in the TWR\",\"None\"],[\"60\",17,-14.0,34.0,\"G - Aerodrome Capacity\",null,\"None\"],[\"72\",7,17.0,36.0,\"G - Aerodrome Capacity\",\"extended\",\"None\"],[\"84\",-13,7.0,35.333333333333336,\"G - Aerodrome Capacity\",null,\"None\"],[\"36\",-29,-7.0,30.666666666666668,\"G - Aerodrome Capacity\",null,\"None\"],[\"60\",10,-18.0,27.666666666666668,\"G - Aerodrome Capacity\",null,\"None\"],[\"84\",-3,0.0,19.333333333333332,\"G - Aerodrome Capacity\",null,\"None\"],[\"36\",-20,12.0,20.666666666666668,\"G - Aerodrome Capacity\",\"EXTENDED\",\"None\"],[\"48\",-18,-20.0,22.666666666666668,\"G - Aerodrome Capacity\",\"EXTENDED\",\"None\"],[\"24\",-15,19.0,9.333333333333334,\"G - Aerodrome Capacity\",\"WIP in the TWR\",\"None\"],[\"36\",-24,-15.0,36.0,\"G - Aerodrome Capacity\",null,\"None\"],[\"60\",11,-18.0,34.666666666666664,\"G - Aerodrome Capacity\",null,\"None\"],[\"24\",-15,17.0,9.0,\"G - Aerodrome Capacity\",\"WIP in the TWR\",\"None\"],[\"36\",-30,-15.0,33.666666666666664,\"G - Aerodrome Capacity\",null,\"None\"],[\"60\",14,-20.0,32.333333333333336,\"G - Aerodrome Capacity\",null,\"None\"],[\"72\",9,14.0,35.0,\"G - Aerodrome Capacity\",\"REG EXTENDED\",\"None\"],[\"84\",-14,9.0,33.666666666666664,\"G - Aerodrome Capacity\",null,\"None\"],[\"24\",-15,16.0,8.666666666666666,\"G - Aerodrome Capacity\",\"WIP in the TWR\",\"None\"],[\"48\",-17,-24.0,32.0,\"G - Aerodrome Capacity\",null,\"None\"],[\"84\",-13,13.0,35.0,\"G - Aerodrome Capacity\",null,\"None\"],[\"36\",-35,-20.0,32.0,\"G - Aerodrome Capacity\",null,\"None\"],[\"60\",20,-15.0,34.0,\"G - Aerodrome Capacity\",null,\"None\"],[\"84\",-10,16.0,37.333333333333336,\"G - Aerodrome Capacity\",null,\"None\"],[\"36\",-34,-15.0,34.666666666666664,\"G - Aerodrome Capacity\",null,\"None\"],[\"60\",8,-19.0,35.666666666666664,\"G - Aerodrome Capacity\",null,\"None\"],[\"60\",9,-15.0,31.666666666666668,\"G - Aerodrome Capacity\",null,\"None\"],[\"84\",-6,-2.0,23.333333333333332,\"G - Aerodrome Capacity\",null,\"None\"],[\"24\",4,8.0,6.666666666666667,\"G - Aerodrome Capacity\",null,\"None\"],[\"60\",4,-18.0,28.0,\"G - Aerodrome Capacity\",null,\"None\"],[\"72\",2,4.0,31.333333333333332,\"G - Aerodrome Capacity\",null,\"None\"],[\"84\",-9,2.0,36.0,\"G - Aerodrome Capacity\",null,\"None\"],[\"60\",10,-20.0,32.0,\"G - Aerodrome Capacity\",null,\"None\"],[\"60\",16,-17.0,31.666666666666668,\"G - Aerodrome Capacity\",null,\"None\"],[\"84\",-13,8.0,36.0,\"G - Aerodrome Capacity\",null,\"None\"],[\"72\",11,15.0,35.666666666666664,\"G - Aerodrome Capacity\",null,\"None\"],[\"36\",-25,-7.0,32.0,\"G - Aerodrome Capacity\",null,\"None\"],[\"48\",-17,-25.0,30.0,\"G - Aerodrome Capacity\",\"Extended\",\"None\"],[\"60\",3,-17.0,29.333333333333332,\"G - Aerodrome Capacity\",null,\"None\"],[\"72\",-7,3.0,29.0,\"G - Aerodrome Capacity\",\"Extended\",\"None\"],[\"84\",-5,-7.0,26.666666666666668,\"G - Aerodrome Capacity\",null,\"None\"],[\"48\",-10,-18.0,24.0,\"G - Aerodrome Capacity\",null,\"None\"],[\"84\",-11,5.0,36.666666666666664,\"G - Aerodrome Capacity\",null,\"None\"],[\"24\",-12,14.0,8.666666666666666,\"G - Aerodrome Capacity\",\"WIP in the TWR / REDUCED RATE DUE TO LIMITED PARKING (DE-ICING)\",\"None\"],[\"36\",-29,-12.0,35.333333333333336,\"G - Aerodrome Capacity\",null,\"None\"],[\"72\",12,15.0,31.666666666666668,\"G - Aerodrome Capacity\",\"WIP in TWR and on TWYs\",\"None\"],[\"36\",-31,-17.0,33.0,\"G - Aerodrome Capacity\",null,\"None\"],[\"48\",-19,-31.0,30.666666666666668,\"G - Aerodrome Capacity\",\"WIP ON RWY\",\"None\"],[\"72\",19,13.0,32.666666666666664,\"G - Aerodrome Capacity\",\"wip\",\"None\"],[\"84\",-11,19.0,33.666666666666664,\"G - Aerodrome Capacity\",\"wip\",\"None\"],[\"36\",-25,-12.0,35.333333333333336,\"G - Aerodrome Capacity\",null,\"None\"],[\"60\",17,-17.0,31.333333333333332,\"G - Aerodrome Capacity\",null,\"None\"],[\"12\",14,0.0,0.6666666666666666,\"G - Aerodrome Capacity\",\"WIP - NOTAM A0551/18\",\"None\"],[\"36\",-25,-12.0,33.666666666666664,\"G - Aerodrome Capacity\",null,\"None\"],[\"60\",9,-7.0,34.666666666666664,\"G - Aerodrome Capacity\",null,\"None\"],[\"84\",-23,12.0,31.666666666666668,\"G - Aerodrome Capacity\",null,\"None\"],[\"24\",-9,13.0,8.0,\"G - Aerodrome Capacity\",\"WIP in the TWR, regulation ends earlier\",\"None\"],[\"84\",-15,3.0,37.666666666666664,\"G - Aerodrome Capacity\",null,\"None\"],[\"72\",-9,7.0,17.666666666666668,\"G - Aerodrome Capacity\",null,\"None\"],[\"36\",-20,15.0,19.333333333333332,\"G - Aerodrome Capacity\",null,\"None\"],[\"60\",16,-3.0,28.0,\"G - Aerodrome Capacity\",null,\"None\"],[\"36\",-24,-10.0,36.333333333333336,\"G - Aerodrome Capacity\",null,\"None\"],[\"60\",11,-1.0,36.333333333333336,\"G - Aerodrome Capacity\",null,\"None\"],[\"84\",-10,1.0,36.666666666666664,\"G - Aerodrome Capacity\",null,\"None\"],[\"84\",-17,-5.0,35.0,\"G - Aerodrome Capacity\",null,\"None\"],[\"24\",-19,11.0,6.333333333333333,\"G - Aerodrome Capacity\",\"WIP in the TWR\",\"None\"],[\"36\",-29,-10.0,34.666666666666664,\"G - Aerodrome Capacity\",null,\"None\"],[\"60\",13,-5.0,35.666666666666664,\"G - Aerodrome Capacity\",null,\"None\"],[\"36\",-24,-4.0,35.0,\"G - Aerodrome Capacity\",null,\"None\"],[\"60\",14,-11.0,35.666666666666664,\"G - Aerodrome Capacity\",null,\"None\"],[\"72\",5,14.0,32.666666666666664,\"G - Aerodrome Capacity\",null,\"None\"],[\"84\",-12,5.0,36.666666666666664,\"G - Aerodrome Capacity\",null,\"None\"],[\"84\",-6,-9.0,24.666666666666668,\"G - Aerodrome Capacity\",null,\"None\"],[\"60\",13,-7.0,36.333333333333336,\"G - Aerodrome Capacity\",null,\"None\"],[\"36\",-35,-11.0,34.666666666666664,\"G - Aerodrome Capacity\",null,\"None\"],[\"60\",7,-10.0,34.0,\"G - Aerodrome Capacity\",null,\"None\"],[\"72\",10,7.0,32.0,\"G - Aerodrome Capacity\",\"high demand\",\"None\"],[\"84\",-15,10.0,34.333333333333336,\"G - Aerodrome Capacity\",null,\"None\"],[\"24\",-21,8.0,7.0,\"G - Aerodrome Capacity\",\"WIP in the TWR\",\"None\"],[\"36\",-29,-4.0,32.333333333333336,\"G - Aerodrome Capacity\",null,\"None\"],[\"60\",13,-7.0,35.333333333333336,\"G - Aerodrome Capacity\",null,\"None\"],[\"12\",8,-1.0,0.3333333333333333,\"G - Aerodrome Capacity\",\"RWY maintenance\",\"None\"],[\"24\",2,8.0,7.0,\"G - Aerodrome Capacity\",\"RWY maintenance\",\"None\"],[\"48\",-14,-27.0,25.333333333333332,\"G - Aerodrome Capacity\",null,\"None\"],[\"60\",7,-14.0,27.666666666666668,\"G - Aerodrome Capacity\",null,\"None\"],[\"72\",-8,7.0,34.0,\"G - Aerodrome Capacity\",null,\"None\"],[\"84\",-11,-8.0,36.333333333333336,\"G - Aerodrome Capacity\",null,\"None\"],[\"84\",-12,10.0,37.0,\"G - Aerodrome Capacity\",null,\"None\"],[\"60\",13,-18.0,35.666666666666664,\"G - Aerodrome Capacity\",null,\"None\"],[\"60\",10,-23.0,34.666666666666664,\"G - Aerodrome Capacity\",null,\"None\"],[\"72\",6,10.0,36.0,\"G - Aerodrome Capacity\",null,\"None\"],[\"84\",-10,6.0,39.333333333333336,\"G - Aerodrome Capacity\",null,\"None\"],[\"60\",8,-18.0,28.666666666666668,\"G - Aerodrome Capacity\",null,\"None\"],[\"72\",-3,8.0,34.333333333333336,\"G - Aerodrome Capacity\",null,\"None\"],[\"84\",-15,5.0,35.333333333333336,\"G - Aerodrome Capacity\",null,\"None\"],[\"36\",-32,-10.0,37.666666666666664,\"G - Aerodrome Capacity\",null,\"None\"],[\"84\",-14,9.0,33.0,\"G - Aerodrome Capacity\",null,\"None\"],[\"36\",-35,-20.0,36.666666666666664,\"G - Aerodrome Capacity\",\"TRAFFIC CONGESTION\",\"None\"],[\"60\",14,-14.0,35.0,\"G - Aerodrome Capacity\",null,\"None\"],[\"84\",-11,9.0,38.666666666666664,\"G - Aerodrome Capacity\",null,\"None\"],[\"36\",-32,-18.0,36.666666666666664,\"G - Aerodrome Capacity\",null,\"None\"],[\"60\",8,-12.0,36.666666666666664,\"G - Aerodrome Capacity\",null,\"None\"],[\"84\",-10,12.0,38.333333333333336,\"G - Aerodrome Capacity\",null,\"None\"],[\"24\",-16,13.0,8.333333333333334,\"G - Aerodrome Capacity\",\"WIP in TWR\",\"None\"],[\"60\",15,-6.0,36.666666666666664,\"G - Aerodrome Capacity\",null,\"None\"],[\"72\",7,15.0,34.333333333333336,\"G - Aerodrome Capacity\",null,\"None\"],[\"84\",-15,7.0,34.666666666666664,\"G - Aerodrome Capacity\",null,\"None\"],[\"36\",-30,-12.0,31.333333333333332,\"G - Aerodrome Capacity\",null,\"None\"],[\"84\",-4,-5.0,27.333333333333332,\"G - Aerodrome Capacity\",null,\"None\"],[\"48\",20,-22.0,24.666666666666668,\"G - Aerodrome Capacity\",null,\"None\"],[\"36\",-28,-6.0,31.333333333333332,\"G - Aerodrome Capacity\",null,\"None\"],[\"48\",13,-28.0,35.0,\"G - Aerodrome Capacity\",null,\"None\"],[\"60\",5,13.0,32.333333333333336,\"G - Aerodrome Capacity\",null,\"None\"],[\"72\",3,5.0,30.0,\"G - Aerodrome Capacity\",null,\"None\"],[\"84\",-23,3.0,31.0,\"G - Aerodrome Capacity\",null,\"None\"],[\"36\",-28,-26.0,34.666666666666664,\"G - Aerodrome Capacity\",null,\"None\"],[\"84\",-15,7.0,35.0,\"G - Aerodrome Capacity\",null,\"None\"],[\"36\",-27,-2.0,34.333333333333336,\"G - Aerodrome Capacity\",null,\"None\"],[\"60\",13,-4.0,35.666666666666664,\"G - Aerodrome Capacity\",null,\"None\"],[\"72\",12,13.0,33.333333333333336,\"G - Aerodrome Capacity\",null,\"None\"],[\"84\",-15,12.0,35.0,\"G - Aerodrome Capacity\",null,\"None\"],[\"36\",-32,-20.0,35.666666666666664,\"G - Aerodrome Capacity\",null,\"None\"],[\"60\",20,-6.0,36.666666666666664,\"G - Aerodrome Capacity\",null,\"None\"],[\"72\",10,20.0,35.0,\"G - Aerodrome Capacity\",null,\"None\"],[\"84\",-13,10.0,36.333333333333336,\"G - Aerodrome Capacity\",null,\"None\"],[\"60\",4,-14.0,31.0,\"G - Aerodrome Capacity\",null,\"None\"],[\"84\",-13,-9.0,28.333333333333332,\"G - Aerodrome Capacity\",null,\"None\"],[\"36\",8,24.0,35.333333333333336,\"G - Aerodrome Capacity\",null,\"None\"],[\"24\",27,44.0,22.0,\"G - Aerodrome Capacity\",null,\"None\"],[\"36\",8,27.0,35.0,\"G - Aerodrome Capacity\",null,\"None\"],[\"60\",-13,-31.0,31.666666666666668,\"G - Aerodrome Capacity\",null,\"None\"],[\"84\",-2,-17.0,28.0,\"G - Aerodrome Capacity\",\"Reg extended\",\"None\"],[\"48\",-32,1.0,27.0,\"G - Aerodrome Capacity\",null,\"None\"],[\"60\",-11,-32.0,33.666666666666664,\"G - Aerodrome Capacity\",null,\"None\"],[\"84\",-9,-13.0,27.333333333333332,\"G - Aerodrome Capacity\",null,\"None\"],[\"36\",5,34.0,37.333333333333336,\"G - Aerodrome Capacity\",null,\"None\"],[\"72\",-9,-6.0,36.666666666666664,\"G - Aerodrome Capacity\",null,\"None\"],[\"84\",-8,-9.0,28.666666666666668,\"G - Aerodrome Capacity\",null,\"None\"],[\"24\",22,39.0,20.333333333333332,\"G - Aerodrome Capacity\",\"EXTENDED\",\"None\"],[\"36\",10,22.0,35.333333333333336,\"G - Aerodrome Capacity\",null,\"None\"],[\"48\",-19,10.0,23.666666666666668,\"G - Aerodrome Capacity\",\"EXTENDED\",\"None\"],[\"60\",-6,-19.0,31.333333333333332,\"G - Aerodrome Capacity\",null,\"None\"],[\"72\",-14,-6.0,36.0,\"G - Aerodrome Capacity\",\"EXTENDED\",\"None\"],[\"84\",-7,-14.0,22.333333333333332,\"G - Aerodrome Capacity\",\"EXTENDED\",\"None\"],[\"36\",10,21.0,31.333333333333332,\"G - Aerodrome Capacity\",null,\"None\"],[\"60\",-23,-20.0,25.666666666666668,\"G - Aerodrome Capacity\",null,\"None\"],[\"84\",-7,-20.0,18.333333333333332,\"G - Aerodrome Capacity\",null,\"None\"],[\"36\",6,13.0,25.0,\"G - Aerodrome Capacity\",\"RATE REDUCED DUE TO RWY CONFIGURATION AND HOLDINGS\",\"None\"],[\"48\",-23,6.0,18.333333333333332,\"G - Aerodrome Capacity\",\"RATE REDUCED DUE TO RWY CONFIGURATION AND HOLDINGS\",\"None\"],[\"60\",-20,-23.0,25.0,\"G - Aerodrome Capacity\",\"RATE REDUCED DUE TO RWY CONFIGURATION AND HOLDINGS\",\"None\"],[\"72\",-23,-20.0,28.0,\"G - Aerodrome Capacity\",\"RATE REDUCED DUE TO RWY CONFIGURATION AND HOLDINGS\",\"None\"],[\"84\",-4,-23.0,21.666666666666668,\"G - Aerodrome Capacity\",\"RATE REDUCED DUE TO RWY CONFIGURATION AND HOLDINGS\",\"None\"],[\"48\",-32,5.0,23.0,\"G - Aerodrome Capacity\",null,\"None\"],[\"60\",-9,-32.0,30.0,\"G - Aerodrome Capacity\",null,\"None\"],[\"84\",-8,-15.0,26.333333333333332,\"G - Aerodrome Capacity\",\"WIP\",\"None\"],[\"48\",4,1.0,0.3333333333333333,\"G - Aerodrome Capacity\",null,\"None\"],[\"36\",7,22.0,33.666666666666664,\"G - Aerodrome Capacity\",null,\"None\"],[\"60\",-10,-38.0,30.666666666666668,\"G - Aerodrome Capacity\",null,\"None\"],[\"84\",-5,-19.0,30.333333333333332,\"G - Aerodrome Capacity\",null,\"None\"],[\"84\",-6,-19.0,28.333333333333332,\"G - Aerodrome Capacity\",null,\"None\"],[\"24\",27,42.0,22.333333333333332,\"G - Aerodrome Capacity\",null,\"None\"],[\"84\",-6,-15.0,28.666666666666668,\"G - Aerodrome Capacity\",null,\"None\"],[\"36\",11,28.0,35.666666666666664,\"G - Aerodrome Capacity\",null,\"None\"],[\"60\",-25,-37.0,27.666666666666668,\"G - Aerodrome Capacity\",null,\"None\"],[\"84\",-8,-20.0,20.333333333333332,\"G - Aerodrome Capacity\",null,\"None\"],[\"84\",-5,-19.0,32.0,\"G - Aerodrome Capacity\",null,\"None\"],[\"60\",-9,-29.0,32.333333333333336,\"G - Aerodrome Capacity\",null,\"None\"],[\"72\",-18,-9.0,40.0,\"G - Aerodrome Capacity\",null,\"None\"],[\"84\",-8,-18.0,31.0,\"G - Aerodrome Capacity\",null,\"None\"],[\"60\",-4,-19.0,25.0,\"G - Aerodrome Capacity\",null,\"None\"],[\"24\",24,48.0,24.0,\"G - Aerodrome Capacity\",null,\"None\"],[\"36\",1,24.0,36.333333333333336,\"G - Aerodrome Capacity\",null,\"None\"],[\"60\",-8,-25.0,34.0,\"G - Aerodrome Capacity\",null,\"None\"],[\"36\",-5,19.0,38.666666666666664,\"G - Aerodrome Capacity\",null,\"None\"],[\"60\",-18,-36.0,34.666666666666664,\"G - Aerodrome Capacity\",null,\"None\"],[\"72\",-15,-18.0,38.0,\"G - Aerodrome Capacity\",null,\"None\"],[\"84\",-4,-15.0,32.333333333333336,\"G - Aerodrome Capacity\",null,\"None\"],[\"84\",-11,-6.0,32.0,\"G - Aerodrome Capacity\",null,\"None\"],[\"36\",9,27.0,38.333333333333336,\"G - Aerodrome Capacity\",null,\"None\"],[\"72\",-22,-25.0,31.0,\"G - Aerodrome Capacity\",\"wip on rwy\",\"None\"],[\"36\",12,25.0,30.0,\"G - Aerodrome Capacity\",null,\"None\"],[\"60\",-18,-16.0,33.333333333333336,\"G - Aerodrome Capacity\",null,\"None\"],[\"72\",-28,-18.0,36.333333333333336,\"G - Aerodrome Capacity\",null,\"None\"],[\"84\",-7,-28.0,32.333333333333336,\"G - Aerodrome Capacity\",null,\"None\"],[\"36\",2,23.0,39.333333333333336,\"G - Aerodrome Capacity\",null,\"None\"],[\"60\",-10,-37.0,32.666666666666664,\"G - Aerodrome Capacity\",null,\"None\"],[\"84\",-4,-16.0,31.333333333333332,\"G - Aerodrome Capacity\",null,\"None\"],[\"60\",-17,-35.0,35.0,\"G - Aerodrome Capacity\",null,\"None\"],[\"84\",-3,-14.0,30.666666666666668,\"G - Aerodrome Capacity\",null,\"None\"],[\"24\",23,51.0,25.0,\"G - Aerodrome Capacity\",null,\"None\"],[\"36\",8,23.0,37.0,\"G - Aerodrome Capacity\",null,\"None\"],[\"60\",-17,-31.0,36.0,\"G - Aerodrome Capacity\",null,\"None\"],[\"84\",-3,-22.0,33.666666666666664,\"G - Aerodrome Capacity\",null,\"None\"],[\"24\",23,52.0,26.666666666666668,\"G - Aerodrome Capacity\",null,\"None\"],[\"36\",9,23.0,37.666666666666664,\"G - Aerodrome Capacity\",null,\"None\"],[\"60\",-15,-29.0,32.666666666666664,\"G - Aerodrome Capacity\",null,\"None\"],[\"84\",-3,-15.0,33.666666666666664,\"G - Aerodrome Capacity\",null,\"None\"],[\"36\",8,22.0,36.0,\"G - Aerodrome Capacity\",null,\"None\"],[\"72\",-26,-22.0,31.666666666666668,\"G - Aerodrome Capacity\",null,\"None\"],[\"48\",-31,3.0,28.333333333333332,\"G - Aerodrome Capacity\",null,\"None\"],[\"60\",-19,-31.0,34.0,\"G - Aerodrome Capacity\",null,\"None\"],[\"36\",4,22.0,37.0,\"G - Aerodrome Capacity\",null,\"None\"],[\"60\",-18,-38.0,33.0,\"G - Aerodrome Capacity\",null,\"None\"],[\"72\",-19,-18.0,42.333333333333336,\"G - Aerodrome Capacity\",null,\"None\"],[\"84\",-4,-19.0,30.333333333333332,\"G - Aerodrome Capacity\",null,\"None\"],[\"60\",-22,-31.0,33.333333333333336,\"G - Aerodrome Capacity\",null,\"None\"],[\"48\",-23,3.0,29.0,\"G - Aerodrome Capacity\",\"reg extended\",\"None\"],[\"60\",-13,-23.0,33.333333333333336,\"G - Aerodrome Capacity\",null,\"None\"],[\"60\",-24,-32.0,32.0,\"G - Aerodrome Capacity\",\"RATE INCREASED\",\"None\"],[\"84\",-6,-18.0,23.333333333333332,\"G - Aerodrome Capacity\",null,\"None\"],[\"72\",-13,-17.0,33.666666666666664,\"G - Aerodrome Capacity\",null,\"None\"],[\"84\",-7,-13.0,24.666666666666668,\"G - Aerodrome Capacity\",null,\"None\"],[\"36\",-4,10.0,30.0,\"G - Aerodrome Capacity\",null,\"None\"],[\"84\",-4,-12.0,26.333333333333332,\"G - Aerodrome Capacity\",null,\"None\"],[\"60\",-17,-27.0,29.333333333333332,\"G - Aerodrome Capacity\",null,\"None\"],[\"24\",21,42.0,25.666666666666668,\"G - Aerodrome Capacity\",null,\"None\"],[\"36\",5,21.0,36.333333333333336,\"G - Aerodrome Capacity\",null,\"None\"],[\"48\",-31,5.0,33.333333333333336,\"G - Aerodrome Capacity\",null,\"None\"],[\"60\",-14,-31.0,33.666666666666664,\"G - Aerodrome Capacity\",null,\"None\"],[\"72\",-18,-14.0,42.333333333333336,\"G - Aerodrome Capacity\",null,\"None\"],[\"84\",-6,-18.0,32.333333333333336,\"G - Aerodrome Capacity\",null,\"None\"],[\"36\",0,25.0,30.0,\"G - Aerodrome Capacity\",null,\"None\"],[\"48\",-33,0.0,27.333333333333332,\"G - Aerodrome Capacity\",null,\"None\"],[\"60\",-12,-33.0,33.333333333333336,\"G - Aerodrome Capacity\",\"Reg shortened\",\"None\"],[\"84\",-7,-28.0,35.333333333333336,\"G - Aerodrome Capacity\",null,\"None\"],[\"84\",-6,-17.0,34.0,\"G - Aerodrome Capacity\",null,\"None\"],[\"36\",0,27.0,40.0,\"G - Aerodrome Capacity\",\"Reg extended\",\"None\"],[\"48\",-25,0.0,31.666666666666668,\"G - Aerodrome Capacity\",\"Reg extended\",\"None\"],[\"60\",-4,-25.0,34.0,\"G - Aerodrome Capacity\",null,\"None\"],[\"84\",-7,-17.0,33.666666666666664,\"G - Aerodrome Capacity\",null,\"None\"],[\"36\",4,12.0,34.0,\"G - Aerodrome Capacity\",null,\"None\"],[\"48\",-25,4.0,33.666666666666664,\"G - Aerodrome Capacity\",null,\"None\"],[\"60\",-17,-25.0,30.666666666666668,\"G - Aerodrome Capacity\",null,\"None\"],[\"72\",-17,-17.0,35.0,\"G - Aerodrome Capacity\",null,\"None\"],[\"84\",-6,-17.0,28.0,\"G - Aerodrome Capacity\",null,\"None\"],[\"60\",-17,-23.0,30.666666666666668,\"G - Aerodrome Capacity\",null,\"None\"],[\"72\",-17,-17.0,38.666666666666664,\"G - Aerodrome Capacity\",null,\"None\"],[\"84\",-9,-19.0,27.666666666666668,\"G - Aerodrome Capacity\",null,\"None\"],[\"24\",33,44.0,23.666666666666668,\"G - Aerodrome Capacity\",\"RWY 08/26 CLOSED DUE TO WIP. NOTAM A0893/18.\",\"None\"],[\"36\",-8,33.0,38.333333333333336,\"G - Aerodrome Capacity\",\"RWY 08/26 CLOSED DUE TO WIP. NOTAM A0893/18.\",\"None\"],[\"48\",-34,-8.0,28.333333333333332,\"G - Aerodrome Capacity\",\"RWY 08/26 CLOSED DUE TO WIP. NOTAM A0893/18.\",\"None\"],[\"60\",-7,-34.0,35.333333333333336,\"G - Aerodrome Capacity\",\"RWY 08/26 CLOSED DUE TO WIP. NOTAM A0893/18.\",\"None\"],[\"72\",-14,-7.0,37.0,\"G - Aerodrome Capacity\",null,\"None\"],[\"24\",25,45.0,24.333333333333332,\"G - Aerodrome Capacity\",null,\"None\"],[\"60\",-6,-29.0,33.333333333333336,\"G - Aerodrome Capacity\",null,\"None\"],[\"24\",22,46.0,25.333333333333332,\"G - Aerodrome Capacity\",null,\"None\"],[\"84\",-15,-11.0,29.333333333333332,\"G - Aerodrome Capacity\",null,\"None\"],[\"36\",-2,32.0,39.333333333333336,\"G - Aerodrome Capacity\",null,\"None\"],[\"60\",-19,-40.0,34.0,\"G - Aerodrome Capacity\",null,\"None\"],[\"48\",-24,5.0,32.666666666666664,\"G - Aerodrome Capacity\",null,\"None\"],[\"60\",-10,-24.0,33.666666666666664,\"G - Aerodrome Capacity\",null,\"None\"],[\"60\",-23,-32.0,30.0,\"G - Aerodrome Capacity\",null,\"None\"],[\"36\",7,15.0,33.0,\"G - Aerodrome Capacity\",null,\"None\"],[\"48\",-38,7.0,30.0,\"G - Aerodrome Capacity\",null,\"None\"],[\"60\",-14,-38.0,32.0,\"G - Aerodrome Capacity\",null,\"None\"],[\"24\",22,38.0,22.333333333333332,\"G - Aerodrome Capacity\",null,\"None\"],[\"60\",-15,-24.0,35.333333333333336,\"G - Aerodrome Capacity\",\"SINGLE RUNWAY OPERATIONS\",\"None\"],[\"84\",-9,-12.0,34.666666666666664,\"G - Aerodrome Capacity\",null,\"None\"],[\"12\",43,4.0,1.3333333333333333,\"G - Aerodrome Capacity\",\"uefa final 2018\",\"None\"],[\"24\",30,43.0,20.666666666666668,\"G - Aerodrome Capacity\",null,\"None\"],[\"36\",9,30.0,36.0,\"G - Aerodrome Capacity\",null,\"None\"],[\"48\",-28,9.0,28.333333333333332,\"G - Aerodrome Capacity\",null,\"None\"],[\"60\",-17,-28.0,29.333333333333332,\"G - Aerodrome Capacity\",null,\"None\"],[\"72\",-19,-17.0,33.333333333333336,\"G - Aerodrome Capacity\",\"uefa final 2018\",\"None\"],[\"60\",-19,-35.0,32.0,\"G - Aerodrome Capacity\",null,\"None\"],[\"84\",-10,-14.0,29.0,\"G - Aerodrome Capacity\",null,\"None\"],[\"24\",28,44.0,23.333333333333332,\"G - Aerodrome Capacity\",null,\"None\"],[\"60\",-20,-42.0,33.0,\"G - Aerodrome Capacity\",null,\"None\"],[\"24\",23,24.0,18.333333333333332,\"G - Aerodrome Capacity\",\",\",\"None\"],[\"84\",-15,-11.0,27.333333333333332,\"G - Aerodrome Capacity\",null,\"None\"],[\"48\",-27,7.0,26.666666666666668,\"G - Aerodrome Capacity\",null,\"None\"],[\"36\",7,21.0,31.666666666666668,\"G - Aerodrome Capacity\",null,\"None\"],[\"36\",-2,24.0,38.666666666666664,\"G - Aerodrome Capacity\",null,\"None\"],[\"60\",-18,-29.0,33.0,\"G - Aerodrome Capacity\",null,\"None\"],[\"24\",28,49.0,24.666666666666668,\"G - Aerodrome Capacity\",null,\"None\"],[\"72\",-19,-15.0,38.666666666666664,\"G - Aerodrome Capacity\",null,\"None\"],[\"24\",29,48.0,26.666666666666668,\"G - Aerodrome Capacity\",null,\"None\"],[\"60\",-21,-28.0,32.333333333333336,\"G - Aerodrome Capacity\",null,\"None\"],[\"36\",-6,33.0,41.666666666666664,\"G - Aerodrome Capacity\",null,\"None\"],[\"24\",29,32.0,18.0,\"G - Aerodrome Capacity\",null,\"None\"],[\"12\",45,3.0,1.0,\"G - Aerodrome Capacity\",\"RWY REPARATION\",\"None\"],[\"24\",30,45.0,25.0,\"G - Aerodrome Capacity\",null,\"None\"],[\"60\",-13,-35.0,32.666666666666664,\"G - Aerodrome Capacity\",null,\"None\"],[\"72\",-6,-13.0,39.333333333333336,\"G - Aerodrome Capacity\",null,\"None\"],[\"84\",-11,-6.0,25.666666666666668,\"G - Aerodrome Capacity\",null,\"None\"],[\"48\",-25,0.0,32.0,\"G - Aerodrome Capacity\",null,\"None\"],[\"60\",-19,-25.0,35.333333333333336,\"G - Aerodrome Capacity\",null,\"None\"],[\"60\",-15,-20.0,35.333333333333336,\"G - Aerodrome Capacity\",null,\"None\"],[\"84\",-9,-20.0,36.0,\"G - Aerodrome Capacity\",null,\"None\"],[\"84\",-10,-13.0,35.666666666666664,\"G - Aerodrome Capacity\",\"REG EXTENDED\",\"None\"],[\"84\",-9,-25.0,35.333333333333336,\"G - Aerodrome Capacity\",null,\"None\"],[\"84\",-11,-16.0,34.666666666666664,\"G - Aerodrome Capacity\",null,\"None\"],[\"84\",-11,-22.0,37.666666666666664,\"G - Aerodrome Capacity\",null,\"None\"],[\"84\",-9,-21.0,37.0,\"G - Aerodrome Capacity\",null,\"None\"],[\"36\",4,21.0,38.0,\"G - Aerodrome Capacity\",null,\"None\"],[\"60\",-21,-36.0,29.333333333333332,\"G - Aerodrome Capacity\",null,\"None\"],[\"72\",-24,-21.0,33.0,\"G - Aerodrome Capacity\",null,\"None\"],[\"36\",13,31.0,30.666666666666668,\"G - Aerodrome Capacity\",null,\"None\"],[\"60\",-20,-32.0,32.0,\"G - Aerodrome Capacity\",null,\"None\"],[\"84\",-12,-29.0,34.333333333333336,\"G - Aerodrome Capacity\",null,\"None\"],[\"84\",-8,-16.0,34.333333333333336,\"G - Aerodrome Capacity\",null,\"None\"],[\"60\",-13,-39.0,34.666666666666664,\"G - Aerodrome Capacity\",null,\"None\"],[\"72\",-18,-13.0,40.333333333333336,\"G - Aerodrome Capacity\",\"reg extended\",\"None\"],[\"84\",-8,-18.0,35.666666666666664,\"G - Aerodrome Capacity\",null,\"None\"],[\"36\",1,29.0,38.666666666666664,\"G - Aerodrome Capacity\",\"rain reg amended From 07:20 reason is aerodrome capacity.\",\"None\"],[\"48\",-37,1.0,32.333333333333336,\"G - Aerodrome Capacity\",\"rain reg amended From 07:20 reason is aerodrome capacity.\",\"None\"],[\"60\",-1,-37.0,36.0,\"G - Aerodrome Capacity\",\"REG EXTENDED\",\"None\"],[\"72\",-9,-1.0,38.0,\"G - Aerodrome Capacity\",null,\"None\"],[\"36\",-3,20.0,39.0,\"G - Aerodrome Capacity\",null,\"None\"],[\"60\",-13,-31.0,34.0,\"G - Aerodrome Capacity\",\"cb\",\"None\"],[\"24\",29,46.0,26.333333333333332,\"G - Aerodrome Capacity\",\"REG EXTENDED\",\"None\"],[\"36\",-4,29.0,40.666666666666664,\"G - Aerodrome Capacity\",null,\"None\"],[\"72\",-7,-7.0,38.0,\"G - Aerodrome Capacity\",null,\"None\"],[\"60\",-19,-30.0,30.0,\"G - Aerodrome Capacity\",null,\"None\"]],\"hovertemplate\":\"reg_type=%{customdata[4]}<br>recovery_rate=%{y}<br>tw_idx=%{customdata[0]}<br>capacity_change=%{customdata[1]}<br>prev_capacity_change=%{customdata[2]}<br>prev_avg_capacity=%{customdata[3]}<br>reg_cause=%{customdata[5]}<br>reg_bool_type=%{customdata[6]}<extra></extra>\",\"legendgroup\":\"G - Aerodrome Capacity\",\"marker\":{\"color\":\"#EF553B\",\"symbol\":\"circle\"},\"name\":\"G - Aerodrome Capacity\",\"notched\":true,\"offsetgroup\":\"G - Aerodrome Capacity\",\"showlegend\":false,\"xaxis\":\"x2\",\"y\":[1.0845954723006224,2.59291192270578,1.5667721233274132,2.277487348554005,1.255019799201335,2.7358854280264757,1.26172371812984,1.8970951745863156,0.8065822915811066,3.4482478171544497,1.5225185387912634,1.944803447026518,1.8044127079400551,2.675298745095204,1.2382032504984202,1.3801029757599887,3.2629957339797984,1.3807720604899558,0.8339935765017868,2.1284466311530252,2.3951139643181407,2.013928546691709,5.161805360108534,1.3477944100373576,1.2271757538903172,2.831113955467011,1.6657269659144507,2.131210548111644,3.410188138310407,1.8337343322994444,2.438397376675571,1.928636333500159,1.3448089730959878,3.3318564813006524,3.3353776216163693,1.404398418863382,1.337773365349237,3.5505595656115894,2.905445863209052,3.1710270965754748,1.9256136821028784,1.3672382977137776,1.308896671010846,1.9959396013762432,2.0654293934232735,2.4973000495157893,2.1246597155738245,1.817352686024963,1.6223716080141537,2.060768288484381,1.6834237142111275,1.2201098227459375,0.7337507084052057,3.4660165753686543,2.447817928040351,0.01631335847796069,1.0482290775063676,2.561600888908734,1.7560385546563504,1.1825099546191602,0.05959293419949362,0.36800008813654,0.9637952920680579,1.74071447004543,3.5209863433019124,2.7159867524584493,2.374259794974439,1.5024499799113378,1.8556142171679422,3.2032523481443382,2.4870760101481557,2.538749637446584,4.417801674460996,2.7823594032475514,1.6147445126253979,1.294049176369496,2.563957981217864,2.831019256111173,1.1715598945106351,2.7309390255213275,2.6634457440018635,3.2229146857800623,2.303119927484406,2.8449292943988045,5.1979370170926575,3.2605561204967,3.399015727625455,1.8423803073697287,1.6414429062200984,5.581868916634292,3.079926785925047,1.5786119509473857,2.2985237279006023,1.864351150918899,1.2233852430945418,2.2635768325053505,2.7657823447176306,2.7119237322959817,1.0905686138920319,5.005061944479396,1.9921973116371803,2.0178910292865564,1.0671856569676699,3.4198746439147327,-0.16334370086878577,1.2693038517303876,1.6819497429390307,3.122265960616778,1.7811161565238105,3.207421899500166,0.9844440323286664,1.1902640272077964,2.6916210421553477,1.3073828630411986,2.2728096635151083,1.9968077254875645,2.421109690729623,2.1794871567271565,3.282748066608618,1.7074197043165569,1.1632826804510015,2.2284746926789762,3.9014813859515822,0.6894727312396243,3.446834132131959,0.20706881611626096,0.6910133062610536,3.335869511204021,0.541520098806798,-0.17750475328280454,0.4767540513936833,1.905476189587696,1.563199826547406,1.5307768084400066,-0.2928993187547369,0.17462388877159618,2.2926734549751218,2.561357005841527,0.8756611810441297,1.8232644224301204,1.3810742371918308,1.662859110759882,1.2341392901247414,1.166304778980389,1.8291966097381598,1.563608775027195,2.1453927791646725,2.0126378297481473,1.5832918226479336,2.958210699029368,1.8115195001709423,1.8783449995192383,0.892055222440569,3.0654439371342854,1.9926768211987758,4.230629193761589,1.7867544393542785,1.3830510331803438,1.260450828112235,3.27310636857005,3.375150519793945,1.667181575630817,1.3111564273981655,2.7070219835966167,1.6318443027243188,1.6437863004014581,1.721593919766125,1.5145128744674097,1.7515582834840218,2.6285900080490796,1.3445914556998644,2.219118510507952,3.017753430860824,1.2249856236037397,3.1629283615779547,2.117604121745341,1.8331985428588435,1.3048896980240685,1.3867666780757302,1.0314123901776528,0.891805228316932,0.08646532760167147,0.4353874328316747,0.6423469136287435,0.6882796396182099,1.0010421130658025,1.8042141438186883,0.5656040335204822,1.7062785462870653,1.5859072375315633,0.8925658532028669,0.7677207831822187,1.7721235591065982,1.6407996881269993,1.3889080939260996,1.4165817525693092,2.025131523039023,1.3742921757875972,2.008852667983321,1.833331386001555,1.8151440804768009,3.0722019766951423,1.6137031764275815,2.0083926871598132,2.383763021541161,2.2153408423943213,1.3165155668540178,1.4487583221943734,1.5289740579891686,1.5814768096662346,1.6514588925106806,1.9376274796917015,2.7964061844801207,0.42912159895507507,1.8339396392023009,1.5587230850962217,4.012409583581952,1.6221099849837521,2.151796553518625,2.0928785231490394,2.584843802942093,1.7334172613890928,1.4209610408064408,2.468074863324553,2.9978330091636876,2.4499933929787354,0.24723826341597843,2.148992165870812,1.9642433993731345,1.945509597063124,1.3327983856328067,1.5717425635444486,1.6805612036598494,1.5659342902396312,2.385322995326177,2.2829555241470887,1.499873479892771,2.269635088583547,1.2493269289345394,1.7963906799947797,1.2405106867127567,1.4290443476771244,1.9048453248875423,1.87723125702926,1.4944070228910358,1.4454598832643373,1.7743180745850395,1.3302363195958986,2.659567622197064,1.4547191815974398,3.4025496889232976,1.8648089624413127,2.296880538649802,1.327284780751454,1.6789288793191575,1.7140295295803991,3.0926732169453013,1.9433525795703028,3.5197008047721896,1.31932703722106,2.186320993123632,1.8093585010645528,3.085698310994714,1.9556890168400412,1.7712833766560259,1.8719700471176361,2.4989775547800535,2.294031913782186,1.894990523610713,2.6180895862948588,1.5217955799065437,1.6874825899435848,2.0101175172575814,3.3140327350858034,1.8263560153936227,1.3377871058305872,2.1619137808186673,1.5599955520197,1.7722310414102829,3.074723625265801,1.2242902105700093,1.513134258122711,1.2766742915706635,2.7327871079867925,2.0589483612106,3.393291712052076,1.5266989732222869,1.5518020409320339,1.650870779258256,2.919649387316827,2.4254792081115975,1.5928532705741303,1.7224023415278098,1.6927953675090655,2.665815592844795,1.4134153225927344,1.4392785702770157,1.3033947714317524,1.4846061954477126,1.518037023177334,1.9765735397086717,1.5899660363734178,1.232174589539095,2.410698718459788,2.1754650615100353,2.3827024259473837,2.2453265124998665,1.4407446571055913,1.1591617781770769,1.1207382247200843,1.2486236473347747,0.8701500514698675,1.0109881723641976,0.9484790638212676,1.5374235493762802,0.1409096334838134,1.6450447537583877,1.8687952813663062,1.7378733683487277,3.033501170164737,2.2411312964285686,2.09627917746795,1.8457751752591782,1.5157319266528608,1.970661972552998,1.4027740763428893,1.5651916274900752,1.3184401840758522,2.2287782311696267,1.7714508747810689,1.2934281249235953,1.4096436810307647,1.5229896663751132,2.7245382726455403,2.1244243852503115,0.9546724539072987,1.5279291617261372,1.9261673757351578,2.1284709696774264,1.6978443051545857,1.4958525766170776,2.1081054397709247,1.8104530320787169,1.4468344157880138,2.275627414290925,2.1637783167893763,1.5850677113953182,2.126176429337841,0.49189050624206954,1.29716163979373,1.5768766470076914,1.9113447664755663,1.4071732667946044,0.47922893005175426,0.4251309659853857,1.7377708012180477,1.894308402162971,2.6050866177164353,2.1257217579231305,1.768868172716465,1.6670086944557247,2.4427368895323127,1.9447528653024202,1.312317329009738,1.2194931862508043,1.4976454612682413,3.2001572262594933,1.4368162052528752,2.0472952309394623,2.13400664809976,1.617653754223936,2.3507075962696278,2.7377467193341474,2.363226953137875,1.6523120586233977,1.3347413770423076,1.212304208868575,2.0686838452359244,1.4053405855409942,1.3616689214638653,2.0389441776066297,1.5440028665713934,1.4836615339486505,1.3636802054630404,2.683368317000681],\"yaxis\":\"y2\",\"type\":\"box\"},{\"customdata\":[[\"72\",-11,9.0,27.666666666666668,\"S - ATC Staffing\",null,\"None\"],[\"72\",-5,16.0,32.0,\"S - ATC Staffing\",null,\"None\"],[\"84\",-15,2.0,35.666666666666664,\"S - ATC Staffing\",\"SA\",\"None\"],[\"24\",-4,13.0,8.0,\"S - ATC Staffing\",null,\"None\"],[\"36\",-24,-4.0,36.0,\"S - ATC Staffing\",null,\"None\"],[\"36\",-32,-13.0,34.333333333333336,\"S - ATC Staffing\",null,\"None\"],[\"60\",16,-17.0,31.666666666666668,\"S - ATC Staffing\",null,\"None\"],[\"72\",13,16.0,36.0,\"S - ATC Staffing\",null,\"None\"],[\"48\",-3,-20.0,22.666666666666668,\"S - ATC Staffing\",null,\"None\"],[\"36\",-21,-19.0,36.0,\"S - ATC Staffing\",null,\"None\"],[\"48\",-17,-21.0,30.333333333333332,\"S - ATC Staffing\",null,\"None\"],[\"84\",-15,9.0,34.666666666666664,\"S - ATC Staffing\",null,\"None\"],[\"24\",-5,11.0,7.0,\"S - ATC Staffing\",null,\"None\"],[\"36\",-33,-5.0,32.666666666666664,\"S - ATC Staffing\",null,\"None\"],[\"36\",-34,-15.0,36.333333333333336,\"S - ATC Staffing\",null,\"None\"],[\"36\",-32,-8.0,37.0,\"S - ATC Staffing\",null,\"None\"],[\"48\",-8,-28.0,32.666666666666664,\"S - ATC Staffing\",null,\"None\"],[\"72\",3,9.0,35.0,\"S - ATC Staffing\",null,\"None\"],[\"72\",-9,4.0,29.0,\"S - ATC Staffing\",null,\"None\"],[\"48\",-27,7.0,24.333333333333332,\"S - ATC Staffing\",null,\"None\"],[\"60\",-17,-27.0,29.333333333333332,\"S - ATC Staffing\",null,\"None\"],[\"84\",-8,-27.0,31.333333333333332,\"S - ATC Staffing\",null,\"None\"],[\"48\",-20,10.0,24.333333333333332,\"S - ATC Staffing\",null,\"None\"],[\"24\",-4,33.0,20.333333333333332,\"S - ATC Staffing\",null,\"None\"],[\"84\",-6,-22.0,21.333333333333332,\"S - ATC Staffing\",\".\",\"None\"],[\"12\",48,2.0,0.6666666666666666,\"S - ATC Staffing\",null,\"None\"],[\"12\",45,2.0,0.6666666666666666,\"S - ATC Staffing\",\"notam B0810/18 refers.\",\"None\"],[\"48\",-31,5.0,27.333333333333332,\"S - ATC Staffing\",null,\"None\"],[\"48\",-29,9.0,29.666666666666668,\"S - ATC Staffing\",null,\"None\"],[\"24\",22,54.0,27.0,\"S - ATC Staffing\",null,\"None\"],[\"36\",2,25.0,36.0,\"S - ATC Staffing\",null,\"None\"],[\"48\",-25,2.0,35.0,\"S - ATC Staffing\",null,\"None\"],[\"84\",-7,-26.0,33.333333333333336,\"S - ATC Staffing\",null,\"None\"],[\"84\",-4,-21.0,36.0,\"S - ATC Staffing\",null,\"None\"],[\"72\",-18,-24.0,33.666666666666664,\"S - ATC Staffing\",null,\"None\"],[\"12\",42,4.0,1.3333333333333333,\"S - ATC Staffing\",null,\"None\"],[\"84\",-9,-25.0,33.666666666666664,\"S - ATC Staffing\",null,\"None\"],[\"12\",47,4.0,1.3333333333333333,\"S - ATC Staffing\",\"NOTAM C2401/18 refers\",\"None\"],[\"24\",18,44.0,25.0,\"S - ATC Staffing\",\"reg extended\",\"None\"],[\"36\",13,13.0,28.666666666666668,\"S - ATC Staffing\",null,\"None\"],[\"84\",-8,-14.0,31.666666666666668,\"S - ATC Staffing\",null,\"None\"],[\"48\",-31,3.0,31.0,\"S - ATC Staffing\",null,\"None\"],[\"72\",-11,-11.0,35.666666666666664,\"S - ATC Staffing\",null,\"None\"],[\"72\",-19,-19.0,39.333333333333336,\"S - ATC Staffing\",null,\"None\"],[\"48\",-24,-3.0,30.0,\"S - ATC Staffing\",null,\"None\"],[\"12\",39,2.0,1.0,\"S - ATC Staffing\",null,\"None\"],[\"36\",7,29.0,38.666666666666664,\"S - ATC Staffing\",null,\"None\"],[\"12\",38,4.0,1.3333333333333333,\"S - ATC Staffing\",\"NOTAM B1133/18 REFERS.\",\"None\"],[\"84\",-9,-17.0,36.666666666666664,\"S - ATC Staffing\",null,\"None\"],[\"36\",2,29.0,38.0,\"S - ATC Staffing\",\"Radar Maintenance\",\"None\"],[\"24\",36,37.0,20.666666666666668,\"S - ATC Staffing\",null,\"None\"],[\"72\",2,-12.0,31.666666666666668,\"S - ATC Staffing\",null,\"None\"],[\"84\",-8,2.0,21.333333333333332,\"S - ATC Staffing\",null,\"None\"],[\"12\",50,4.0,1.3333333333333333,\"S - ATC Staffing\",null,\"None\"],[\"24\",28,50.0,28.333333333333332,\"S - ATC Staffing\",null,\"None\"],[\"24\",24,28.0,20.0,\"S - ATC Staffing\",null,\"None\"],[\"72\",-16,-19.0,37.666666666666664,\"S - ATC Staffing\",null,\"None\"],[\"48\",-40,-5.0,31.333333333333332,\"S - ATC Staffing\",null,\"None\"],[\"12\",46,5.0,1.6666666666666667,\"S - ATC Staffing\",null,\"None\"],[\"12\",46,2.0,0.6666666666666666,\"S - ATC Staffing\",null,\"None\"],[\"0\",4,-13.0,4.333333333333333,\"S - ATC Staffing\",null,\"None\"],[\"12\",47,4.0,1.3333333333333333,\"S - ATC Staffing\",null,\"None\"],[\"84\",-9,-7.0,38.0,\"S - ATC Staffing\",null,\"None\"],[\"24\",36,47.0,23.666666666666668,\"S - ATC Staffing\",null,\"None\"]],\"hovertemplate\":\"reg_type=%{customdata[4]}<br>date_idx=%{x}<br>recovery_rate=%{y}<br>tw_idx=%{customdata[0]}<br>capacity_change=%{customdata[1]}<br>prev_capacity_change=%{customdata[2]}<br>prev_avg_capacity=%{customdata[3]}<br>reg_cause=%{customdata[5]}<br>reg_bool_type=%{customdata[6]}<extra></extra>\",\"legendgroup\":\"S - ATC Staffing\",\"marker\":{\"color\":\"#00cc96\",\"symbol\":\"circle\"},\"mode\":\"markers\",\"name\":\"S - ATC Staffing\",\"showlegend\":true,\"x\":[\"2018-01-01\",\"2018-01-07\",\"2018-01-08\",\"2018-01-19\",\"2018-01-19\",\"2018-01-25\",\"2018-01-31\",\"2018-01-31\",\"2018-02-18\",\"2018-02-21\",\"2018-02-21\",\"2018-02-21\",\"2018-02-24\",\"2018-02-24\",\"2018-03-06\",\"2018-03-07\",\"2018-03-20\",\"2018-03-21\",\"2018-03-24\",\"2018-03-25\",\"2018-03-25\",\"2018-03-25\",\"2018-03-31\",\"2018-04-10\",\"2018-04-14\",\"2018-04-16\",\"2018-04-17\",\"2018-04-19\",\"2018-04-20\",\"2018-04-24\",\"2018-04-25\",\"2018-04-25\",\"2018-04-25\",\"2018-04-27\",\"2018-04-28\",\"2018-05-02\",\"2018-05-04\",\"2018-05-07\",\"2018-05-08\",\"2018-05-12\",\"2018-05-14\",\"2018-05-16\",\"2018-05-16\",\"2018-05-17\",\"2018-05-25\",\"2018-05-30\",\"2018-05-30\",\"2018-05-31\",\"2018-06-04\",\"2018-06-06\",\"2018-06-09\",\"2018-06-09\",\"2018-06-09\",\"2018-06-15\",\"2018-06-15\",\"2018-06-17\",\"2018-06-20\",\"2018-06-25\",\"2018-06-26\",\"2018-06-27\",\"2018-06-28\",\"2018-06-28\",\"2018-06-29\",\"2018-06-30\"],\"xaxis\":\"x\",\"y\":[1.8035829468368758,2.0184369363216645,1.4378934154197913,7.13067487264075,1.8119504221000169,2.19151165221722,2.280576096726257,1.545045307916958,0.9896492221578091,1.5853178711407663,1.287754952426462,1.5349661719959249,3.8406084051854417,2.020859103692064,1.4867996556312812,1.6727914627128035,1.9910878593225265,1.614689474096325,1.5766258395403172,2.0187796384081387,2.2264189586100787,1.3507151553318977,2.691681489372489,0.4281488368915332,1.3817285678778772,1.9376899414719897,1.6174870214087091,1.7844459190103994,1.9728745921238866,1.569272859745289,2.1180008532844603,2.3590779788050127,1.382752703258409,1.2721541652084216,3.275334616542408,1.8197770417853418,2.5676395998451977,2.457682710529078,1.859332813702789,1.4953331791226232,1.5393856993144626,0.9690441724410975,1.492700300411824,1.7677432570543223,1.6066213575819295,1.8806471645049618,1.5573564910713213,1.3822361358590594,1.3463098885087983,1.7838761901873792,1.6629786501750814,1.0730320977475267,1.2317775595525766,2.6293250500072523,1.3471447916674697,1.2876029377314349,1.4103387082362218,1.3757420387083414,2.4259537790309094,2.363245534304513,0.3845690235690235,2.5943175686091386,1.5077494580014201,1.3598648782144813],\"yaxis\":\"y\",\"type\":\"scattergl\"},{\"alignmentgroup\":\"True\",\"customdata\":[[\"72\",-11,9.0,27.666666666666668,\"S - ATC Staffing\",null,\"None\"],[\"72\",-5,16.0,32.0,\"S - ATC Staffing\",null,\"None\"],[\"84\",-15,2.0,35.666666666666664,\"S - ATC Staffing\",\"SA\",\"None\"],[\"24\",-4,13.0,8.0,\"S - ATC Staffing\",null,\"None\"],[\"36\",-24,-4.0,36.0,\"S - ATC Staffing\",null,\"None\"],[\"36\",-32,-13.0,34.333333333333336,\"S - ATC Staffing\",null,\"None\"],[\"60\",16,-17.0,31.666666666666668,\"S - ATC Staffing\",null,\"None\"],[\"72\",13,16.0,36.0,\"S - ATC Staffing\",null,\"None\"],[\"48\",-3,-20.0,22.666666666666668,\"S - ATC Staffing\",null,\"None\"],[\"36\",-21,-19.0,36.0,\"S - ATC Staffing\",null,\"None\"],[\"48\",-17,-21.0,30.333333333333332,\"S - ATC Staffing\",null,\"None\"],[\"84\",-15,9.0,34.666666666666664,\"S - ATC Staffing\",null,\"None\"],[\"24\",-5,11.0,7.0,\"S - ATC Staffing\",null,\"None\"],[\"36\",-33,-5.0,32.666666666666664,\"S - ATC Staffing\",null,\"None\"],[\"36\",-34,-15.0,36.333333333333336,\"S - ATC Staffing\",null,\"None\"],[\"36\",-32,-8.0,37.0,\"S - ATC Staffing\",null,\"None\"],[\"48\",-8,-28.0,32.666666666666664,\"S - ATC Staffing\",null,\"None\"],[\"72\",3,9.0,35.0,\"S - ATC Staffing\",null,\"None\"],[\"72\",-9,4.0,29.0,\"S - ATC Staffing\",null,\"None\"],[\"48\",-27,7.0,24.333333333333332,\"S - ATC Staffing\",null,\"None\"],[\"60\",-17,-27.0,29.333333333333332,\"S - ATC Staffing\",null,\"None\"],[\"84\",-8,-27.0,31.333333333333332,\"S - ATC Staffing\",null,\"None\"],[\"48\",-20,10.0,24.333333333333332,\"S - ATC Staffing\",null,\"None\"],[\"24\",-4,33.0,20.333333333333332,\"S - ATC Staffing\",null,\"None\"],[\"84\",-6,-22.0,21.333333333333332,\"S - ATC Staffing\",\".\",\"None\"],[\"12\",48,2.0,0.6666666666666666,\"S - ATC Staffing\",null,\"None\"],[\"12\",45,2.0,0.6666666666666666,\"S - ATC Staffing\",\"notam B0810/18 refers.\",\"None\"],[\"48\",-31,5.0,27.333333333333332,\"S - ATC Staffing\",null,\"None\"],[\"48\",-29,9.0,29.666666666666668,\"S - ATC Staffing\",null,\"None\"],[\"24\",22,54.0,27.0,\"S - ATC Staffing\",null,\"None\"],[\"36\",2,25.0,36.0,\"S - ATC Staffing\",null,\"None\"],[\"48\",-25,2.0,35.0,\"S - ATC Staffing\",null,\"None\"],[\"84\",-7,-26.0,33.333333333333336,\"S - ATC Staffing\",null,\"None\"],[\"84\",-4,-21.0,36.0,\"S - ATC Staffing\",null,\"None\"],[\"72\",-18,-24.0,33.666666666666664,\"S - ATC Staffing\",null,\"None\"],[\"12\",42,4.0,1.3333333333333333,\"S - ATC Staffing\",null,\"None\"],[\"84\",-9,-25.0,33.666666666666664,\"S - ATC Staffing\",null,\"None\"],[\"12\",47,4.0,1.3333333333333333,\"S - ATC Staffing\",\"NOTAM C2401/18 refers\",\"None\"],[\"24\",18,44.0,25.0,\"S - ATC Staffing\",\"reg extended\",\"None\"],[\"36\",13,13.0,28.666666666666668,\"S - ATC Staffing\",null,\"None\"],[\"84\",-8,-14.0,31.666666666666668,\"S - ATC Staffing\",null,\"None\"],[\"48\",-31,3.0,31.0,\"S - ATC Staffing\",null,\"None\"],[\"72\",-11,-11.0,35.666666666666664,\"S - ATC Staffing\",null,\"None\"],[\"72\",-19,-19.0,39.333333333333336,\"S - ATC Staffing\",null,\"None\"],[\"48\",-24,-3.0,30.0,\"S - ATC Staffing\",null,\"None\"],[\"12\",39,2.0,1.0,\"S - ATC Staffing\",null,\"None\"],[\"36\",7,29.0,38.666666666666664,\"S - ATC Staffing\",null,\"None\"],[\"12\",38,4.0,1.3333333333333333,\"S - ATC Staffing\",\"NOTAM B1133/18 REFERS.\",\"None\"],[\"84\",-9,-17.0,36.666666666666664,\"S - ATC Staffing\",null,\"None\"],[\"36\",2,29.0,38.0,\"S - ATC Staffing\",\"Radar Maintenance\",\"None\"],[\"24\",36,37.0,20.666666666666668,\"S - ATC Staffing\",null,\"None\"],[\"72\",2,-12.0,31.666666666666668,\"S - ATC Staffing\",null,\"None\"],[\"84\",-8,2.0,21.333333333333332,\"S - ATC Staffing\",null,\"None\"],[\"12\",50,4.0,1.3333333333333333,\"S - ATC Staffing\",null,\"None\"],[\"24\",28,50.0,28.333333333333332,\"S - ATC Staffing\",null,\"None\"],[\"24\",24,28.0,20.0,\"S - ATC Staffing\",null,\"None\"],[\"72\",-16,-19.0,37.666666666666664,\"S - ATC Staffing\",null,\"None\"],[\"48\",-40,-5.0,31.333333333333332,\"S - ATC Staffing\",null,\"None\"],[\"12\",46,5.0,1.6666666666666667,\"S - ATC Staffing\",null,\"None\"],[\"12\",46,2.0,0.6666666666666666,\"S - ATC Staffing\",null,\"None\"],[\"0\",4,-13.0,4.333333333333333,\"S - ATC Staffing\",null,\"None\"],[\"12\",47,4.0,1.3333333333333333,\"S - ATC Staffing\",null,\"None\"],[\"84\",-9,-7.0,38.0,\"S - ATC Staffing\",null,\"None\"],[\"24\",36,47.0,23.666666666666668,\"S - ATC Staffing\",null,\"None\"]],\"hovertemplate\":\"reg_type=%{customdata[4]}<br>recovery_rate=%{y}<br>tw_idx=%{customdata[0]}<br>capacity_change=%{customdata[1]}<br>prev_capacity_change=%{customdata[2]}<br>prev_avg_capacity=%{customdata[3]}<br>reg_cause=%{customdata[5]}<br>reg_bool_type=%{customdata[6]}<extra></extra>\",\"legendgroup\":\"S - ATC Staffing\",\"marker\":{\"color\":\"#00cc96\",\"symbol\":\"circle\"},\"name\":\"S - ATC Staffing\",\"notched\":true,\"offsetgroup\":\"S - ATC Staffing\",\"showlegend\":false,\"xaxis\":\"x2\",\"y\":[1.8035829468368758,2.0184369363216645,1.4378934154197913,7.13067487264075,1.8119504221000169,2.19151165221722,2.280576096726257,1.545045307916958,0.9896492221578091,1.5853178711407663,1.287754952426462,1.5349661719959249,3.8406084051854417,2.020859103692064,1.4867996556312812,1.6727914627128035,1.9910878593225265,1.614689474096325,1.5766258395403172,2.0187796384081387,2.2264189586100787,1.3507151553318977,2.691681489372489,0.4281488368915332,1.3817285678778772,1.9376899414719897,1.6174870214087091,1.7844459190103994,1.9728745921238866,1.569272859745289,2.1180008532844603,2.3590779788050127,1.382752703258409,1.2721541652084216,3.275334616542408,1.8197770417853418,2.5676395998451977,2.457682710529078,1.859332813702789,1.4953331791226232,1.5393856993144626,0.9690441724410975,1.492700300411824,1.7677432570543223,1.6066213575819295,1.8806471645049618,1.5573564910713213,1.3822361358590594,1.3463098885087983,1.7838761901873792,1.6629786501750814,1.0730320977475267,1.2317775595525766,2.6293250500072523,1.3471447916674697,1.2876029377314349,1.4103387082362218,1.3757420387083414,2.4259537790309094,2.363245534304513,0.3845690235690235,2.5943175686091386,1.5077494580014201,1.3598648782144813],\"yaxis\":\"y2\",\"type\":\"box\"},{\"customdata\":[[\"84\",-7,-11.0,25.666666666666668,\"C - ATC Capacity\",null,\"None\"],[\"12\",9,0.0,0.0,\"C - ATC Capacity\",null,\"None\"],[\"24\",10,9.0,5.666666666666667,\"C - ATC Capacity\",null,\"None\"],[\"12\",6,0.0,0.0,\"C - ATC Capacity\",null,\"None\"],[\"24\",-1,6.0,5.0,\"C - ATC Capacity\",null,\"None\"],[\"36\",-20,-1.0,22.333333333333332,\"C - ATC Capacity\",\"NETWORK CHERRY PICK\",\"None\"],[\"48\",-15,-20.0,28.333333333333332,\"C - ATC Capacity\",\"NETWORK CHERRY PICK\",\"None\"],[\"72\",-13,4.0,25.0,\"C - ATC Capacity\",null,\"None\"],[\"12\",3,0.0,0.0,\"C - ATC Capacity\",null,\"None\"],[\"48\",-15,-11.0,22.333333333333332,\"C - ATC Capacity\",null,\"None\"],[\"72\",4,13.0,32.333333333333336,\"C - ATC Capacity\",null,\"None\"],[\"48\",-20,-26.0,29.333333333333332,\"C - ATC Capacity\",null,\"None\"],[\"60\",18,-20.0,33.666666666666664,\"C - ATC Capacity\",null,\"None\"],[\"12\",11,-1.0,0.3333333333333333,\"C - ATC Capacity\",null,\"None\"],[\"48\",-22,-27.0,27.0,\"C - ATC Capacity\",null,\"None\"],[\"24\",-23,16.0,9.666666666666666,\"C - ATC Capacity\",null,\"None\"],[\"36\",-22,-23.0,33.666666666666664,\"C - ATC Capacity\",null,\"None\"],[\"72\",14,10.0,34.666666666666664,\"C - ATC Capacity\",null,\"None\"],[\"12\",9,0.0,0.0,\"C - ATC Capacity\",null,\"None\"],[\"24\",15,9.0,7.0,\"C - ATC Capacity\",null,\"None\"],[\"36\",-17,15.0,20.0,\"C - ATC Capacity\",null,\"None\"],[\"48\",-15,-17.0,23.666666666666668,\"C - ATC Capacity\",null,\"None\"],[\"72\",-10,4.0,28.0,\"C - ATC Capacity\",\"NETWORK CHERRY PICK\",\"None\"],[\"72\",6,23.0,33.666666666666664,\"C - ATC Capacity\",null,\"None\"],[\"48\",-18,-29.0,27.333333333333332,\"C - ATC Capacity\",null,\"None\"],[\"12\",12,1.0,0.3333333333333333,\"C - ATC Capacity\",null,\"None\"],[\"24\",12,12.0,7.0,\"C - ATC Capacity\",null,\"None\"],[\"60\",8,-18.0,26.333333333333332,\"C - ATC Capacity\",null,\"None\"],[\"72\",-1,8.0,32.333333333333336,\"C - ATC Capacity\",null,\"None\"],[\"84\",-9,-1.0,36.333333333333336,\"C - ATC Capacity\",null,\"None\"],[\"48\",-18,-24.0,33.333333333333336,\"C - ATC Capacity\",null,\"None\"],[\"48\",-15,-35.0,34.333333333333336,\"C - ATC Capacity\",null,\"None\"],[\"48\",-19,-34.0,30.333333333333332,\"C - ATC Capacity\",null,\"None\"],[\"36\",-26,-11.0,36.666666666666664,\"C - ATC Capacity\",null,\"None\"],[\"36\",-19,-13.0,32.666666666666664,\"C - ATC Capacity\",null,\"None\"],[\"36\",-37,-17.0,32.333333333333336,\"C - ATC Capacity\",null,\"None\"],[\"48\",-14,-37.0,32.666666666666664,\"C - ATC Capacity\",null,\"None\"],[\"60\",15,-14.0,35.333333333333336,\"C - ATC Capacity\",null,\"None\"],[\"24\",-7,14.0,7.666666666666667,\"C - ATC Capacity\",null,\"None\"],[\"48\",-12,-29.0,31.333333333333332,\"C - ATC Capacity\",null,\"None\"],[\"24\",-17,18.0,9.666666666666666,\"C - ATC Capacity\",\"WIP in the TWR\",\"None\"],[\"48\",-14,-33.0,35.666666666666664,\"C - ATC Capacity\",null,\"None\"],[\"60\",19,-14.0,40.333333333333336,\"C - ATC Capacity\",null,\"None\"],[\"12\",12,-1.0,0.3333333333333333,\"C - ATC Capacity\",null,\"None\"],[\"60\",7,2.0,29.0,\"C - ATC Capacity\",null,\"None\"],[\"84\",-12,-9.0,17.666666666666668,\"C - ATC Capacity\",null,\"None\"],[\"0\",-1,-11.0,5.0,\"C - ATC Capacity\",null,\"None\"],[\"12\",8,-1.0,0.3333333333333333,\"C - ATC Capacity\",null,\"None\"],[\"24\",15,8.0,6.0,\"C - ATC Capacity\",null,\"None\"],[\"72\",4,16.0,34.0,\"C - ATC Capacity\",null,\"None\"],[\"24\",-10,9.0,7.666666666666667,\"C - ATC Capacity\",null,\"None\"],[\"48\",-1,-24.0,34.333333333333336,\"C - ATC Capacity\",null,\"None\"],[\"24\",-17,11.0,7.333333333333333,\"C - ATC Capacity\",null,\"None\"],[\"36\",-26,-17.0,36.666666666666664,\"C - ATC Capacity\",null,\"None\"],[\"48\",4,-26.0,31.666666666666668,\"C - ATC Capacity\",null,\"None\"],[\"72\",-5,13.0,31.333333333333332,\"C - ATC Capacity\",null,\"None\"],[\"60\",15,-17.0,33.666666666666664,\"C - ATC Capacity\",null,\"None\"],[\"24\",-10,15.0,8.0,\"C - ATC Capacity\",\"WIP in the TWR\",\"None\"],[\"48\",-5,-29.0,32.0,\"C - ATC Capacity\",\"NETWORK CHERRY PICK\",\"None\"],[\"84\",-16,8.0,33.333333333333336,\"C - ATC Capacity\",null,\"None\"],[\"12\",11,0.0,0.0,\"C - ATC Capacity\",null,\"None\"],[\"12\",3,0.0,0.0,\"C - ATC Capacity\",null,\"None\"],[\"24\",1,3.0,6.333333333333333,\"C - ATC Capacity\",null,\"None\"],[\"36\",-29,1.0,22.0,\"C - ATC Capacity\",\"NETWORK CHERRY PICK\",\"None\"],[\"24\",-11,8.0,7.333333333333333,\"C - ATC Capacity\",\"WIP in the TWR\",\"None\"],[\"36\",-27,-21.0,33.666666666666664,\"C - ATC Capacity\",null,\"None\"],[\"48\",-5,-27.0,31.0,\"C - ATC Capacity\",null,\"None\"],[\"48\",-7,-29.0,30.333333333333332,\"C - ATC Capacity\",null,\"None\"],[\"24\",-14,13.0,8.0,\"C - ATC Capacity\",null,\"None\"],[\"36\",-27,-14.0,36.666666666666664,\"C - ATC Capacity\",null,\"None\"],[\"48\",-21,-27.0,34.333333333333336,\"C - ATC Capacity\",null,\"None\"],[\"60\",11,-21.0,34.0,\"C - ATC Capacity\",null,\"None\"],[\"72\",10,11.0,36.0,\"C - ATC Capacity\",null,\"None\"],[\"24\",-15,12.0,8.333333333333334,\"C - ATC Capacity\",\"WIP in the TWR\",\"None\"],[\"24\",-8,14.0,8.0,\"C - ATC Capacity\",\"WIP in the TWR\",\"None\"],[\"48\",-23,-32.0,31.666666666666668,\"C - ATC Capacity\",null,\"None\"],[\"24\",-14,14.0,9.0,\"C - ATC Capacity\",\"WIP in the TWR\",\"None\"],[\"48\",-16,-32.0,31.333333333333332,\"C - ATC Capacity\",null,\"None\"],[\"72\",3,12.0,33.333333333333336,\"C - ATC Capacity\",null,\"None\"],[\"84\",-15,3.0,34.0,\"C - ATC Capacity\",null,\"None\"],[\"24\",-18,12.0,7.333333333333333,\"C - ATC Capacity\",\"WIP in the TWR\",\"None\"],[\"36\",-26,-18.0,37.333333333333336,\"C - ATC Capacity\",null,\"None\"],[\"72\",-1,13.0,33.333333333333336,\"C - ATC Capacity\",null,\"None\"],[\"24\",-12,16.0,8.333333333333334,\"C - ATC Capacity\",\"WIP in the TWR\",\"None\"],[\"36\",-32,-12.0,37.666666666666664,\"C - ATC Capacity\",null,\"None\"],[\"48\",-14,-32.0,34.333333333333336,\"C - ATC Capacity\",null,\"None\"],[\"24\",-10,11.0,8.333333333333334,\"C - ATC Capacity\",\"WIP in the TWR\",\"None\"],[\"48\",-19,-32.0,30.666666666666668,\"C - ATC Capacity\",null,\"None\"],[\"72\",9,14.0,34.333333333333336,\"C - ATC Capacity\",null,\"None\"],[\"24\",-18,15.0,9.333333333333334,\"C - ATC Capacity\",\"WIP in the TWR\",\"None\"],[\"48\",-12,-32.0,32.333333333333336,\"C - ATC Capacity\",null,\"None\"],[\"36\",-39,-16.0,35.333333333333336,\"C - ATC Capacity\",null,\"None\"],[\"48\",-6,-39.0,35.0,\"C - ATC Capacity\",null,\"None\"],[\"12\",10,0.0,0.3333333333333333,\"C - ATC Capacity\",null,\"None\"],[\"48\",-8,-30.0,32.0,\"C - ATC Capacity\",null,\"None\"],[\"60\",17,-8.0,28.333333333333332,\"C - ATC Capacity\",\"Reg amended\",\"None\"],[\"72\",-5,17.0,27.333333333333332,\"C - ATC Capacity\",\"Reg amended\",\"None\"],[\"12\",9,0.0,0.0,\"C - ATC Capacity\",null,\"None\"],[\"24\",-1,9.0,7.0,\"C - ATC Capacity\",null,\"None\"],[\"36\",-22,-1.0,21.0,\"C - ATC Capacity\",null,\"None\"],[\"24\",-26,10.0,7.333333333333333,\"C - ATC Capacity\",\"WIP in the TWR\",\"None\"],[\"60\",14,-8.0,34.666666666666664,\"C - ATC Capacity\",null,\"None\"],[\"72\",7,14.0,34.0,\"C - ATC Capacity\",null,\"None\"],[\"24\",-16,14.0,7.666666666666667,\"C - ATC Capacity\",null,\"None\"],[\"24\",-20,13.0,8.0,\"C - ATC Capacity\",\"WIP in the TWR.\",\"None\"],[\"48\",-6,-32.0,33.666666666666664,\"C - ATC Capacity\",null,\"None\"],[\"12\",15,-1.0,0.3333333333333333,\"C - ATC Capacity\",null,\"None\"],[\"24\",-8,15.0,8.333333333333334,\"C - ATC Capacity\",null,\"None\"],[\"36\",-25,-8.0,32.333333333333336,\"C - ATC Capacity\",null,\"None\"],[\"48\",-14,-25.0,31.0,\"C - ATC Capacity\",null,\"None\"],[\"12\",26,0.0,0.0,\"C - ATC Capacity\",null,\"None\"],[\"24\",27,26.0,18.333333333333332,\"C - ATC Capacity\",null,\"None\"],[\"72\",-27,-17.0,38.666666666666664,\"C - ATC Capacity\",null,\"None\"],[\"48\",-21,8.0,29.666666666666668,\"C - ATC Capacity\",null,\"None\"],[\"48\",-31,8.0,23.666666666666668,\"C - ATC Capacity\",null,\"None\"],[\"72\",-17,-13.0,36.333333333333336,\"C - ATC Capacity\",null,\"None\"],[\"24\",18,41.0,21.333333333333332,\"C - ATC Capacity\",\"NETWORK CHERRY PICK\",\"None\"],[\"24\",34,43.0,24.0,\"C - ATC Capacity\",null,\"None\"],[\"60\",-6,-26.0,32.333333333333336,\"C - ATC Capacity\",null,\"None\"],[\"12\",23,0.0,0.3333333333333333,\"C - ATC Capacity\",null,\"None\"],[\"12\",6,2.0,0.6666666666666666,\"C - ATC Capacity\",null,\"None\"],[\"24\",11,20.0,13.0,\"C - ATC Capacity\",null,\"None\"],[\"72\",-15,-9.0,37.333333333333336,\"C - ATC Capacity\",null,\"None\"],[\"48\",-38,7.0,25.666666666666668,\"C - ATC Capacity\",null,\"None\"],[\"36\",4,20.0,33.0,\"C - ATC Capacity\",null,\"None\"],[\"60\",-15,-34.0,33.0,\"C - ATC Capacity\",null,\"None\"],[\"36\",8,21.0,30.333333333333332,\"C - ATC Capacity\",null,\"None\"],[\"48\",-33,8.0,22.666666666666668,\"C - ATC Capacity\",null,\"None\"],[\"36\",5,25.0,40.0,\"C - ATC Capacity\",null,\"None\"],[\"48\",-29,5.0,33.0,\"C - ATC Capacity\",null,\"None\"],[\"36\",0,-4.0,17.0,\"C - ATC Capacity\",null,\"None\"],[\"48\",-19,0.0,13.666666666666666,\"C - ATC Capacity\",null,\"None\"],[\"48\",-25,1.0,29.333333333333332,\"C - ATC Capacity\",null,\"None\"],[\"48\",-36,-5.0,29.0,\"C - ATC Capacity\",null,\"None\"],[\"36\",4,15.0,36.666666666666664,\"C - ATC Capacity\",null,\"None\"],[\"48\",-23,4.0,31.0,\"C - ATC Capacity\",null,\"None\"],[\"72\",-6,-19.0,40.666666666666664,\"C - ATC Capacity\",\"WIP. NOTAM A0182/18.\",\"None\"],[\"24\",23,48.0,26.0,\"C - ATC Capacity\",null,\"None\"],[\"48\",-35,9.0,26.333333333333332,\"C - ATC Capacity\",null,\"None\"],[\"84\",-3,-19.0,31.0,\"C - ATC Capacity\",null,\"None\"],[\"72\",-15,-15.0,41.0,\"C - ATC Capacity\",null,\"None\"],[\"48\",-31,8.0,27.333333333333332,\"C - ATC Capacity\",null,\"None\"],[\"60\",-22,-31.0,30.333333333333332,\"C - ATC Capacity\",null,\"None\"],[\"36\",3,27.0,38.666666666666664,\"C - ATC Capacity\",\"regul extended\",\"None\"],[\"84\",-4,-15.0,32.666666666666664,\"C - ATC Capacity\",null,\"None\"],[\"48\",-38,4.0,26.333333333333332,\"C - ATC Capacity\",null,\"None\"],[\"36\",-6,23.0,36.666666666666664,\"C - ATC Capacity\",null,\"None\"],[\"48\",-31,-6.0,30.666666666666668,\"C - ATC Capacity\",\"APP service for LFCR\",\"None\"],[\"72\",-17,-22.0,40.333333333333336,\"C - ATC Capacity\",\"APP service for LFCR\",\"None\"],[\"36\",3,36.0,39.333333333333336,\"C - ATC Capacity\",null,\"None\"],[\"72\",-21,-13.0,39.0,\"C - ATC Capacity\",\"REG EXTENDED\",\"None\"],[\"24\",10,25.0,15.666666666666666,\"C - ATC Capacity\",\"APP service for LFCR\",\"None\"],[\"48\",-26,-4.0,25.333333333333332,\"C - ATC Capacity\",null,\"None\"],[\"24\",22,26.0,14.666666666666666,\"C - ATC Capacity\",\"NETWORK CHERRY PICK\",\"None\"],[\"36\",2,22.0,31.333333333333332,\"C - ATC Capacity\",null,\"None\"],[\"48\",-27,2.0,27.0,\"C - ATC Capacity\",\".\",\"None\"],[\"72\",-19,-17.0,40.333333333333336,\"C - ATC Capacity\",\"REGULATION EXTENDED\",\"None\"],[\"24\",21,47.0,27.0,\"C - ATC Capacity\",\"APP service for LFCR\",\"None\"],[\"36\",-1,21.0,39.333333333333336,\"C - ATC Capacity\",null,\"None\"],[\"24\",20,48.0,27.333333333333332,\"C - ATC Capacity\",null,\"None\"],[\"48\",-19,-2.0,32.333333333333336,\"C - ATC Capacity\",null,\"None\"],[\"72\",-17,-17.0,32.666666666666664,\"C - ATC Capacity\",\"REG EXTENDED\",\"None\"],[\"24\",22,47.0,25.333333333333332,\"C - ATC Capacity\",\"APP service for LFCR\",\"None\"],[\"36\",-1,18.0,39.666666666666664,\"C - ATC Capacity\",null,\"None\"],[\"24\",27,47.0,26.666666666666668,\"C - ATC Capacity\",\"APP service for LFCR\",\"None\"],[\"24\",12,21.0,15.0,\"C - ATC Capacity\",null,\"None\"],[\"48\",-33,13.0,26.333333333333332,\"C - ATC Capacity\",null,\"None\"],[\"36\",14,24.0,29.666666666666668,\"C - ATC Capacity\",null,\"None\"],[\"36\",0,25.0,38.0,\"C - ATC Capacity\",null,\"None\"],[\"36\",3,22.0,38.333333333333336,\"C - ATC Capacity\",null,\"None\"],[\"24\",32,43.0,27.0,\"C - ATC Capacity\",null,\"None\"],[\"48\",-40,-2.0,30.0,\"C - ATC Capacity\",null,\"None\"],[\"84\",-6,-19.0,37.0,\"C - ATC Capacity\",null,\"None\"],[\"24\",21,43.0,26.666666666666668,\"C - ATC Capacity\",null,\"None\"],[\"36\",5,21.0,41.666666666666664,\"C - ATC Capacity\",null,\"None\"],[\"72\",-18,-10.0,40.666666666666664,\"C - ATC Capacity\",null,\"None\"],[\"84\",-10,-18.0,35.333333333333336,\"C - ATC Capacity\",null,\"None\"],[\"36\",17,29.0,37.0,\"C - ATC Capacity\",null,\"None\"],[\"48\",-32,17.0,30.666666666666668,\"C - ATC Capacity\",null,\"None\"],[\"84\",-10,-24.0,25.333333333333332,\"C - ATC Capacity\",null,\"None\"],[\"24\",26,27.0,15.0,\"C - ATC Capacity\",\"NETWORK CHERRY PICK\",\"None\"],[\"36\",2,27.0,38.666666666666664,\"C - ATC Capacity\",null,\"None\"],[\"24\",28,43.0,24.333333333333332,\"C - ATC Capacity\",null,\"None\"],[\"36\",8,28.0,37.666666666666664,\"C - ATC Capacity\",null,\"None\"],[\"48\",-22,8.0,31.666666666666668,\"C - ATC Capacity\",null,\"None\"],[\"36\",9,21.0,38.0,\"C - ATC Capacity\",null,\"None\"],[\"48\",-29,9.0,30.333333333333332,\"C - ATC Capacity\",null,\"None\"],[\"84\",-12,-24.0,32.333333333333336,\"C - ATC Capacity\",null,\"None\"],[\"36\",0,25.0,29.333333333333332,\"C - ATC Capacity\",null,\"None\"],[\"48\",-35,0.0,25.333333333333332,\"C - ATC Capacity\",null,\"None\"],[\"12\",44,3.0,1.3333333333333333,\"C - ATC Capacity\",null,\"None\"],[\"36\",0,28.0,39.666666666666664,\"C - ATC Capacity\",null,\"None\"],[\"48\",-35,0.0,30.666666666666668,\"C - ATC Capacity\",\"REG EXTENDED\",\"None\"],[\"84\",-9,-8.0,31.0,\"C - ATC Capacity\",null,\"None\"],[\"84\",-6,-23.0,28.0,\"C - ATC Capacity\",null,\"None\"],[\"36\",3,31.0,36.666666666666664,\"C - ATC Capacity\",null,\"None\"],[\"48\",-35,3.0,29.666666666666668,\"C - ATC Capacity\",null,\"None\"],[\"36\",-2,23.0,36.333333333333336,\"C - ATC Capacity\",null,\"None\"],[\"48\",-17,-2.0,29.666666666666668,\"C - ATC Capacity\",null,\"None\"],[\"36\",7,37.0,35.333333333333336,\"C - ATC Capacity\",null,\"None\"],[\"84\",-6,-11.0,27.333333333333332,\"C - ATC Capacity\",null,\"None\"],[\"48\",-38,7.0,28.0,\"C - ATC Capacity\",null,\"None\"],[\"84\",-10,-25.0,35.666666666666664,\"C - ATC Capacity\",null,\"None\"],[\"24\",24,47.0,24.0,\"C - ATC Capacity\",null,\"None\"],[\"36\",7,28.0,40.333333333333336,\"C - ATC Capacity\",null,\"None\"],[\"48\",-34,7.0,32.0,\"C - ATC Capacity\",null,\"None\"],[\"48\",-30,2.0,34.333333333333336,\"C - ATC Capacity\",null,\"None\"],[\"60\",-14,-30.0,32.666666666666664,\"C - ATC Capacity\",null,\"None\"],[\"24\",27,42.0,26.666666666666668,\"C - ATC Capacity\",null,\"None\"],[\"36\",1,27.0,38.333333333333336,\"C - ATC Capacity\",null,\"None\"],[\"48\",-28,1.0,32.333333333333336,\"C - ATC Capacity\",null,\"None\"],[\"84\",-16,-4.0,24.333333333333332,\"C - ATC Capacity\",null,\"None\"],[\"24\",33,46.0,26.666666666666668,\"C - ATC Capacity\",null,\"None\"],[\"48\",-17,-6.0,30.333333333333332,\"C - ATC Capacity\",null,\"None\"],[\"36\",6,36.0,40.333333333333336,\"C - ATC Capacity\",null,\"None\"],[\"48\",-34,6.0,27.0,\"C - ATC Capacity\",null,\"None\"],[\"36\",6,29.0,31.666666666666668,\"C - ATC Capacity\",\"REGULATION EXTENDED\",\"None\"],[\"72\",-15,-8.0,36.0,\"C - ATC Capacity\",null,\"None\"],[\"84\",-11,-15.0,33.666666666666664,\"C - ATC Capacity\",null,\"None\"],[\"36\",4,30.0,41.0,\"C - ATC Capacity\",null,\"None\"],[\"48\",-35,4.0,32.666666666666664,\"C - ATC Capacity\",null,\"None\"],[\"24\",16,44.0,25.0,\"C - ATC Capacity\",null,\"None\"],[\"36\",0,16.0,40.666666666666664,\"C - ATC Capacity\",null,\"None\"],[\"48\",-28,0.0,33.333333333333336,\"C - ATC Capacity\",\"REG EXT\",\"None\"],[\"72\",-3,-22.0,33.666666666666664,\"C - ATC Capacity\",null,\"None\"],[\"84\",-12,-3.0,16.0,\"C - ATC Capacity\",null,\"None\"],[\"24\",27,44.0,27.0,\"C - ATC Capacity\",null,\"None\"],[\"36\",0,27.0,39.0,\"C - ATC Capacity\",null,\"None\"],[\"36\",-2,28.0,39.666666666666664,\"C - ATC Capacity\",null,\"None\"],[\"48\",-20,-2.0,31.666666666666668,\"C - ATC Capacity\",null,\"None\"],[\"72\",-20,-15.0,39.0,\"C - ATC Capacity\",null,\"None\"],[\"36\",0,29.0,36.0,\"C - ATC Capacity\",null,\"None\"],[\"48\",-29,0.0,31.666666666666668,\"C - ATC Capacity\",null,\"None\"],[\"36\",-1,24.0,33.0,\"C - ATC Capacity\",\"REG EXTENDED\",\"None\"],[\"60\",-12,-23.0,37.333333333333336,\"C - ATC Capacity\",null,\"None\"],[\"84\",-13,-29.0,34.0,\"C - ATC Capacity\",null,\"None\"],[\"24\",27,48.0,27.333333333333332,\"C - ATC Capacity\",\"NETWORK CHERRY PICK\",\"None\"],[\"24\",36,49.0,27.0,\"C - ATC Capacity\",null,\"None\"],[\"36\",-1,36.0,39.666666666666664,\"C - ATC Capacity\",null,\"None\"],[\"48\",-28,-1.0,30.0,\"C - ATC Capacity\",null,\"None\"],[\"60\",-19,-28.0,34.666666666666664,\"C - ATC Capacity\",null,\"None\"],[\"24\",21,49.0,27.333333333333332,\"C - ATC Capacity\",null,\"None\"],[\"36\",-1,21.0,41.0,\"C - ATC Capacity\",null,\"None\"],[\"36\",-2,27.0,42.0,\"C - ATC Capacity\",null,\"None\"],[\"24\",21,46.0,22.666666666666668,\"C - ATC Capacity\",null,\"None\"],[\"48\",-36,4.0,31.0,\"C - ATC Capacity\",null,\"None\"],[\"84\",-8,-24.0,24.666666666666668,\"C - ATC Capacity\",null,\"None\"],[\"24\",31,37.0,20.0,\"C - ATC Capacity\",null,\"None\"],[\"48\",-32,13.0,29.0,\"C - ATC Capacity\",null,\"None\"],[\"72\",-29,-20.0,38.0,\"C - ATC Capacity\",null,\"None\"],[\"12\",53,4.0,1.3333333333333333,\"C - ATC Capacity\",null,\"None\"],[\"24\",41,53.0,27.333333333333332,\"C - ATC Capacity\",null,\"None\"],[\"36\",-5,41.0,36.666666666666664,\"C - ATC Capacity\",null,\"None\"],[\"60\",-21,-40.0,31.0,\"C - ATC Capacity\",null,\"None\"],[\"72\",-16,-21.0,42.666666666666664,\"C - ATC Capacity\",\"reg amended\",\"None\"],[\"24\",27,46.0,25.333333333333332,\"C - ATC Capacity\",null,\"None\"],[\"36\",5,27.0,41.0,\"C - ATC Capacity\",null,\"None\"],[\"48\",-39,5.0,31.0,\"C - ATC Capacity\",null,\"None\"],[\"24\",29,46.0,26.666666666666668,\"C - ATC Capacity\",null,\"None\"],[\"24\",20,47.0,27.0,\"C - ATC Capacity\",null,\"None\"],[\"48\",-31,-3.0,33.666666666666664,\"C - ATC Capacity\",null,\"None\"],[\"72\",-8,-13.0,41.666666666666664,\"C - ATC Capacity\",null,\"None\"],[\"84\",-13,-8.0,35.666666666666664,\"C - ATC Capacity\",null,\"None\"],[\"12\",46,4.0,1.3333333333333333,\"C - ATC Capacity\",null,\"None\"],[\"48\",-12,-4.0,31.666666666666668,\"C - ATC Capacity\",null,\"None\"],[\"12\",47,4.0,1.3333333333333333,\"C - ATC Capacity\",null,\"None\"],[\"72\",-17,-19.0,32.0,\"C - ATC Capacity\",null,\"None\"],[\"84\",-6,-17.0,27.0,\"C - ATC Capacity\",null,\"None\"]],\"hovertemplate\":\"reg_type=%{customdata[4]}<br>date_idx=%{x}<br>recovery_rate=%{y}<br>tw_idx=%{customdata[0]}<br>capacity_change=%{customdata[1]}<br>prev_capacity_change=%{customdata[2]}<br>prev_avg_capacity=%{customdata[3]}<br>reg_cause=%{customdata[5]}<br>reg_bool_type=%{customdata[6]}<extra></extra>\",\"legendgroup\":\"C - ATC Capacity\",\"marker\":{\"color\":\"#ab63fa\",\"symbol\":\"circle\"},\"mode\":\"markers\",\"name\":\"C - ATC Capacity\",\"showlegend\":true,\"x\":[\"2018-01-01\",\"2018-01-02\",\"2018-01-02\",\"2018-01-06\",\"2018-01-06\",\"2018-01-06\",\"2018-01-06\",\"2018-01-06\",\"2018-01-07\",\"2018-01-07\",\"2018-01-11\",\"2018-01-12\",\"2018-01-12\",\"2018-01-13\",\"2018-01-13\",\"2018-01-15\",\"2018-01-15\",\"2018-01-15\",\"2018-01-21\",\"2018-01-21\",\"2018-01-21\",\"2018-01-21\",\"2018-01-22\",\"2018-01-24\",\"2018-01-27\",\"2018-01-28\",\"2018-01-28\",\"2018-01-28\",\"2018-01-28\",\"2018-01-28\",\"2018-01-29\",\"2018-02-01\",\"2018-02-02\",\"2018-02-06\",\"2018-02-08\",\"2018-02-09\",\"2018-02-09\",\"2018-02-09\",\"2018-02-10\",\"2018-02-12\",\"2018-02-13\",\"2018-02-16\",\"2018-02-16\",\"2018-02-17\",\"2018-02-17\",\"2018-02-17\",\"2018-02-18\",\"2018-02-18\",\"2018-02-18\",\"2018-02-18\",\"2018-02-19\",\"2018-02-19\",\"2018-02-20\",\"2018-02-20\",\"2018-02-20\",\"2018-02-20\",\"2018-02-21\",\"2018-02-22\",\"2018-02-22\",\"2018-02-22\",\"2018-02-24\",\"2018-02-25\",\"2018-02-25\",\"2018-02-25\",\"2018-02-27\",\"2018-02-28\",\"2018-02-28\",\"2018-03-02\",\"2018-03-05\",\"2018-03-05\",\"2018-03-05\",\"2018-03-05\",\"2018-03-05\",\"2018-03-06\",\"2018-03-07\",\"2018-03-07\",\"2018-03-08\",\"2018-03-08\",\"2018-03-08\",\"2018-03-08\",\"2018-03-09\",\"2018-03-09\",\"2018-03-09\",\"2018-03-12\",\"2018-03-12\",\"2018-03-12\",\"2018-03-13\",\"2018-03-13\",\"2018-03-14\",\"2018-03-15\",\"2018-03-15\",\"2018-03-16\",\"2018-03-16\",\"2018-03-17\",\"2018-03-17\",\"2018-03-17\",\"2018-03-17\",\"2018-03-18\",\"2018-03-18\",\"2018-03-18\",\"2018-03-20\",\"2018-03-20\",\"2018-03-20\",\"2018-03-21\",\"2018-03-23\",\"2018-03-23\",\"2018-03-24\",\"2018-03-24\",\"2018-03-24\",\"2018-03-24\",\"2018-03-25\",\"2018-03-25\",\"2018-03-25\",\"2018-03-26\",\"2018-03-27\",\"2018-03-27\",\"2018-03-28\",\"2018-03-29\",\"2018-03-29\",\"2018-03-31\",\"2018-04-01\",\"2018-04-02\",\"2018-04-02\",\"2018-04-04\",\"2018-04-05\",\"2018-04-05\",\"2018-04-08\",\"2018-04-08\",\"2018-04-09\",\"2018-04-09\",\"2018-04-10\",\"2018-04-10\",\"2018-04-11\",\"2018-04-12\",\"2018-04-13\",\"2018-04-13\",\"2018-04-13\",\"2018-04-16\",\"2018-04-17\",\"2018-04-18\",\"2018-04-20\",\"2018-04-21\",\"2018-04-21\",\"2018-04-23\",\"2018-04-23\",\"2018-04-24\",\"2018-04-26\",\"2018-04-26\",\"2018-04-26\",\"2018-04-27\",\"2018-04-27\",\"2018-04-30\",\"2018-04-30\",\"2018-05-01\",\"2018-05-01\",\"2018-05-01\",\"2018-05-01\",\"2018-05-03\",\"2018-05-03\",\"2018-05-04\",\"2018-05-04\",\"2018-05-05\",\"2018-05-07\",\"2018-05-08\",\"2018-05-09\",\"2018-05-11\",\"2018-05-12\",\"2018-05-13\",\"2018-05-15\",\"2018-05-16\",\"2018-05-17\",\"2018-05-17\",\"2018-05-17\",\"2018-05-18\",\"2018-05-18\",\"2018-05-18\",\"2018-05-18\",\"2018-05-19\",\"2018-05-19\",\"2018-05-19\",\"2018-05-20\",\"2018-05-22\",\"2018-05-23\",\"2018-05-23\",\"2018-05-23\",\"2018-05-24\",\"2018-05-24\",\"2018-05-24\",\"2018-05-27\",\"2018-05-27\",\"2018-05-28\",\"2018-05-28\",\"2018-05-28\",\"2018-05-28\",\"2018-05-29\",\"2018-05-31\",\"2018-05-31\",\"2018-06-01\",\"2018-06-01\",\"2018-06-02\",\"2018-06-02\",\"2018-06-03\",\"2018-06-03\",\"2018-06-04\",\"2018-06-05\",\"2018-06-05\",\"2018-06-06\",\"2018-06-06\",\"2018-06-07\",\"2018-06-07\",\"2018-06-07\",\"2018-06-07\",\"2018-06-08\",\"2018-06-08\",\"2018-06-09\",\"2018-06-09\",\"2018-06-10\",\"2018-06-10\",\"2018-06-10\",\"2018-06-11\",\"2018-06-11\",\"2018-06-12\",\"2018-06-12\",\"2018-06-12\",\"2018-06-12\",\"2018-06-12\",\"2018-06-14\",\"2018-06-14\",\"2018-06-15\",\"2018-06-15\",\"2018-06-15\",\"2018-06-16\",\"2018-06-16\",\"2018-06-17\",\"2018-06-17\",\"2018-06-17\",\"2018-06-19\",\"2018-06-20\",\"2018-06-20\",\"2018-06-20\",\"2018-06-20\",\"2018-06-21\",\"2018-06-21\",\"2018-06-22\",\"2018-06-23\",\"2018-06-23\",\"2018-06-23\",\"2018-06-24\",\"2018-06-24\",\"2018-06-24\",\"2018-06-25\",\"2018-06-25\",\"2018-06-25\",\"2018-06-25\",\"2018-06-25\",\"2018-06-26\",\"2018-06-26\",\"2018-06-26\",\"2018-06-27\",\"2018-06-28\",\"2018-06-28\",\"2018-06-28\",\"2018-06-28\",\"2018-06-29\",\"2018-06-29\",\"2018-06-30\",\"2018-06-30\",\"2018-06-30\"],\"xaxis\":\"x\",\"y\":[1.1925467651191053,0.7682780851476865,2.5235035585575716,0.2814857649767441,3.5804970786392585,1.904161150860089,1.161398841859823,1.3009635804488098,0.6454428550935813,2.0052787121414677,2.942208388041641,2.4696119108391463,2.1372886427636812,0.8693542102558653,2.0358459707340573,2.9887682213587228,2.752055930463977,1.5702473123426468,0.8061684248946231,3.036175493641252,1.7945078955381721,0.6300355087307777,2.0351326616633694,2.197646551914338,2.735288105634737,1.1854687990732264,4.096308276101673,3.084064203414031,1.6842061589198996,1.387425194146064,2.2924095547422065,1.3902892841550867,2.5088718825692,2.666073241223415,0.9853936754928422,2.0770867883027195,1.7159633536875376,2.049145274463816,3.9411924033730923,2.108247123519264,3.1800887690673867,2.545300725849916,2.1557398070887794,0.7964264428616054,0.3307425711671657,1.217662311408443,1.038426873385013,0.6455157055066383,1.9105635261627192,0.6995245803923125,1.9391511614354642,0.983061758483362,1.548447447188882,-0.1628542333978705,0.8401330561732654,1.2150000507608574,1.7023698758510137,3.6675303868569986,1.7604123351992338,1.3417885851484361,0.9524746810298653,0.6487086989201197,3.398010634349709,2.248036230250811,3.400706555514735,1.979171375125491,1.69978822434286,2.5026441797646197,2.9422024021771156,2.1288151834467244,2.074263929162506,2.6449471285646555,1.660450728390049,3.963994659505881,4.353382309740148,2.4435028403120587,3.420850528915175,1.4768579480072472,1.9467795495365023,1.3630604028606135,3.314420175311568,0.7145962955617117,1.7721663829640848,2.208930574785654,1.4300569205489324,1.610566407239685,3.7363318043841263,2.559827068600514,1.7461189263933876,2.156940344408431,2.4739139497469984,1.4542280365497664,2.788097083030565,0.6304338613751804,1.5514934574424257,2.528388713571261,1.0159857019251979,0.5072424034511003,1.087829733789598,0.4148434571424015,2.885699938691626,2.2578949083863207,0.9806417401981943,2.6558964923830324,2.2645191493371652,2.2445930931272406,0.5753385281668246,2.4526672930417415,1.9193529477398732,1.479441307132803,1.5027141310795804,1.621759207516043,1.2433032005109799,2.4670963997189386,2.6318583590049185,2.37254044292138,1.8104352182924914,1.6257761536626247,2.5415072064129807,1.5275187227999418,1.218023121186278,2.679438663089691,2.072201920452391,2.0644450486828725,2.0335379117561883,3.0702635077035234,1.756434742504775,3.4611229367517975,1.7747865685630053,1.6405938024709183,0.5416688930096736,1.6993604361441341,1.8835352708556534,2.061905465812419,1.7610453146993859,1.5298122761581063,1.2550994761024359,1.5717447392983588,2.2210544214973376,2.727353237220497,2.2100831602502087,1.799771054582031,3.778410022067951,1.8665623700415264,1.4420385927475872,2.4483472939833795,1.73199999832329,2.432094037719078,2.4912451187370337,1.3520705503998531,1.7694745189285115,2.206500809059734,2.799388048529297,1.6582401600484653,2.155549241649336,1.9937309871970668,1.450754808438866,1.944147318264583,1.8891130858313037,1.8021918371673475,2.1374293878002586,1.7958688869054602,2.097042415575926,3.572139034432108,1.575817363072716,1.5180207187067627,2.030332416761049,1.669661248858436,1.299763455558761,1.3756698714412479,1.503306896581486,2.057060192708522,1.4258034012141632,1.5105142130790932,1.5077882306652148,1.611041286978646,1.7097676001862396,1.4347346641384875,1.0660701558781973,1.4036627436938574,1.7483473903221824,2.318106247161869,1.755928424235934,1.7866290576681576,1.156761108665887,1.4706579931451125,1.088961795534175,1.2022954348072195,1.3635526874766792,2.089681991788956,2.1804848586794994,1.658747540061328,1.1641544156185935,1.6505984107776936,1.607975389903132,1.36272712075862,1.4435405448934946,1.5370461949132597,1.6985736159994789,1.2979213662002653,1.2959091884360092,1.5123186404754805,1.8732365084757951,1.5342573379343758,1.4525998459666316,1.6518502326134217,1.25928407195387,-0.3008388380254212,1.4239158401142389,1.4511662984276028,1.6984908372856617,1.4765705092706405,1.3863020916294924,1.826070465970873,1.0500335433821193,0.619163048566332,1.3284501421617663,1.3028322964699752,1.1761237901795205,1.1115277336442677,1.4630421574798653,1.5228925840181604,1.6397754983278665,-1.0189578723471864,0.4143395877963537,1.4381478285833826,1.659742013993024,1.1107255671105862,1.5411056435144808,1.6939635019899897,1.349762171798322,0.6461557998388181,1.4197418866320233,1.3336059997481593,2.738390056304953,1.7103249749225056,1.5402396924944008,1.9493767759241118,1.265874924500187,1.7323940376023537,1.8079705275847229,1.362712944465071,0.9829439026947698,1.4760111332331374,1.6922850823771756,1.378883771354258,1.509743299480187,1.5517676780092617,1.992204893969303,1.7040218901064699,1.9756895720382277,1.357311208413803,1.3557157167194953,2.12236958763838,1.9621344309569864,1.6042429208957651,2.3545191650226966,2.5497980778197022,1.7165534863645968,1.500553828556926,1.26226587175427,0.8527113046063002,1.386458404663324,3.066794614456683,1.6752226190648905,1.6707805136285487,1.7030560300926092,1.2889374364516486],\"yaxis\":\"y\",\"type\":\"scattergl\"},{\"alignmentgroup\":\"True\",\"customdata\":[[\"84\",-7,-11.0,25.666666666666668,\"C - ATC Capacity\",null,\"None\"],[\"12\",9,0.0,0.0,\"C - ATC Capacity\",null,\"None\"],[\"24\",10,9.0,5.666666666666667,\"C - ATC Capacity\",null,\"None\"],[\"12\",6,0.0,0.0,\"C - ATC Capacity\",null,\"None\"],[\"24\",-1,6.0,5.0,\"C - ATC Capacity\",null,\"None\"],[\"36\",-20,-1.0,22.333333333333332,\"C - ATC Capacity\",\"NETWORK CHERRY PICK\",\"None\"],[\"48\",-15,-20.0,28.333333333333332,\"C - ATC Capacity\",\"NETWORK CHERRY PICK\",\"None\"],[\"72\",-13,4.0,25.0,\"C - ATC Capacity\",null,\"None\"],[\"12\",3,0.0,0.0,\"C - ATC Capacity\",null,\"None\"],[\"48\",-15,-11.0,22.333333333333332,\"C - ATC Capacity\",null,\"None\"],[\"72\",4,13.0,32.333333333333336,\"C - ATC Capacity\",null,\"None\"],[\"48\",-20,-26.0,29.333333333333332,\"C - ATC Capacity\",null,\"None\"],[\"60\",18,-20.0,33.666666666666664,\"C - ATC Capacity\",null,\"None\"],[\"12\",11,-1.0,0.3333333333333333,\"C - ATC Capacity\",null,\"None\"],[\"48\",-22,-27.0,27.0,\"C - ATC Capacity\",null,\"None\"],[\"24\",-23,16.0,9.666666666666666,\"C - ATC Capacity\",null,\"None\"],[\"36\",-22,-23.0,33.666666666666664,\"C - ATC Capacity\",null,\"None\"],[\"72\",14,10.0,34.666666666666664,\"C - ATC Capacity\",null,\"None\"],[\"12\",9,0.0,0.0,\"C - ATC Capacity\",null,\"None\"],[\"24\",15,9.0,7.0,\"C - ATC Capacity\",null,\"None\"],[\"36\",-17,15.0,20.0,\"C - ATC Capacity\",null,\"None\"],[\"48\",-15,-17.0,23.666666666666668,\"C - ATC Capacity\",null,\"None\"],[\"72\",-10,4.0,28.0,\"C - ATC Capacity\",\"NETWORK CHERRY PICK\",\"None\"],[\"72\",6,23.0,33.666666666666664,\"C - ATC Capacity\",null,\"None\"],[\"48\",-18,-29.0,27.333333333333332,\"C - ATC Capacity\",null,\"None\"],[\"12\",12,1.0,0.3333333333333333,\"C - ATC Capacity\",null,\"None\"],[\"24\",12,12.0,7.0,\"C - ATC Capacity\",null,\"None\"],[\"60\",8,-18.0,26.333333333333332,\"C - ATC Capacity\",null,\"None\"],[\"72\",-1,8.0,32.333333333333336,\"C - ATC Capacity\",null,\"None\"],[\"84\",-9,-1.0,36.333333333333336,\"C - ATC Capacity\",null,\"None\"],[\"48\",-18,-24.0,33.333333333333336,\"C - ATC Capacity\",null,\"None\"],[\"48\",-15,-35.0,34.333333333333336,\"C - ATC Capacity\",null,\"None\"],[\"48\",-19,-34.0,30.333333333333332,\"C - ATC Capacity\",null,\"None\"],[\"36\",-26,-11.0,36.666666666666664,\"C - ATC Capacity\",null,\"None\"],[\"36\",-19,-13.0,32.666666666666664,\"C - ATC Capacity\",null,\"None\"],[\"36\",-37,-17.0,32.333333333333336,\"C - ATC Capacity\",null,\"None\"],[\"48\",-14,-37.0,32.666666666666664,\"C - ATC Capacity\",null,\"None\"],[\"60\",15,-14.0,35.333333333333336,\"C - ATC Capacity\",null,\"None\"],[\"24\",-7,14.0,7.666666666666667,\"C - ATC Capacity\",null,\"None\"],[\"48\",-12,-29.0,31.333333333333332,\"C - ATC Capacity\",null,\"None\"],[\"24\",-17,18.0,9.666666666666666,\"C - ATC Capacity\",\"WIP in the TWR\",\"None\"],[\"48\",-14,-33.0,35.666666666666664,\"C - ATC Capacity\",null,\"None\"],[\"60\",19,-14.0,40.333333333333336,\"C - ATC Capacity\",null,\"None\"],[\"12\",12,-1.0,0.3333333333333333,\"C - ATC Capacity\",null,\"None\"],[\"60\",7,2.0,29.0,\"C - ATC Capacity\",null,\"None\"],[\"84\",-12,-9.0,17.666666666666668,\"C - ATC Capacity\",null,\"None\"],[\"0\",-1,-11.0,5.0,\"C - ATC Capacity\",null,\"None\"],[\"12\",8,-1.0,0.3333333333333333,\"C - ATC Capacity\",null,\"None\"],[\"24\",15,8.0,6.0,\"C - ATC Capacity\",null,\"None\"],[\"72\",4,16.0,34.0,\"C - ATC Capacity\",null,\"None\"],[\"24\",-10,9.0,7.666666666666667,\"C - ATC Capacity\",null,\"None\"],[\"48\",-1,-24.0,34.333333333333336,\"C - ATC Capacity\",null,\"None\"],[\"24\",-17,11.0,7.333333333333333,\"C - ATC Capacity\",null,\"None\"],[\"36\",-26,-17.0,36.666666666666664,\"C - ATC Capacity\",null,\"None\"],[\"48\",4,-26.0,31.666666666666668,\"C - ATC Capacity\",null,\"None\"],[\"72\",-5,13.0,31.333333333333332,\"C - ATC Capacity\",null,\"None\"],[\"60\",15,-17.0,33.666666666666664,\"C - ATC Capacity\",null,\"None\"],[\"24\",-10,15.0,8.0,\"C - ATC Capacity\",\"WIP in the TWR\",\"None\"],[\"48\",-5,-29.0,32.0,\"C - ATC Capacity\",\"NETWORK CHERRY PICK\",\"None\"],[\"84\",-16,8.0,33.333333333333336,\"C - ATC Capacity\",null,\"None\"],[\"12\",11,0.0,0.0,\"C - ATC Capacity\",null,\"None\"],[\"12\",3,0.0,0.0,\"C - ATC Capacity\",null,\"None\"],[\"24\",1,3.0,6.333333333333333,\"C - ATC Capacity\",null,\"None\"],[\"36\",-29,1.0,22.0,\"C - ATC Capacity\",\"NETWORK CHERRY PICK\",\"None\"],[\"24\",-11,8.0,7.333333333333333,\"C - ATC Capacity\",\"WIP in the TWR\",\"None\"],[\"36\",-27,-21.0,33.666666666666664,\"C - ATC Capacity\",null,\"None\"],[\"48\",-5,-27.0,31.0,\"C - ATC Capacity\",null,\"None\"],[\"48\",-7,-29.0,30.333333333333332,\"C - ATC Capacity\",null,\"None\"],[\"24\",-14,13.0,8.0,\"C - ATC Capacity\",null,\"None\"],[\"36\",-27,-14.0,36.666666666666664,\"C - ATC Capacity\",null,\"None\"],[\"48\",-21,-27.0,34.333333333333336,\"C - ATC Capacity\",null,\"None\"],[\"60\",11,-21.0,34.0,\"C - ATC Capacity\",null,\"None\"],[\"72\",10,11.0,36.0,\"C - ATC Capacity\",null,\"None\"],[\"24\",-15,12.0,8.333333333333334,\"C - ATC Capacity\",\"WIP in the TWR\",\"None\"],[\"24\",-8,14.0,8.0,\"C - ATC Capacity\",\"WIP in the TWR\",\"None\"],[\"48\",-23,-32.0,31.666666666666668,\"C - ATC Capacity\",null,\"None\"],[\"24\",-14,14.0,9.0,\"C - ATC Capacity\",\"WIP in the TWR\",\"None\"],[\"48\",-16,-32.0,31.333333333333332,\"C - ATC Capacity\",null,\"None\"],[\"72\",3,12.0,33.333333333333336,\"C - ATC Capacity\",null,\"None\"],[\"84\",-15,3.0,34.0,\"C - ATC Capacity\",null,\"None\"],[\"24\",-18,12.0,7.333333333333333,\"C - ATC Capacity\",\"WIP in the TWR\",\"None\"],[\"36\",-26,-18.0,37.333333333333336,\"C - ATC Capacity\",null,\"None\"],[\"72\",-1,13.0,33.333333333333336,\"C - ATC Capacity\",null,\"None\"],[\"24\",-12,16.0,8.333333333333334,\"C - ATC Capacity\",\"WIP in the TWR\",\"None\"],[\"36\",-32,-12.0,37.666666666666664,\"C - ATC Capacity\",null,\"None\"],[\"48\",-14,-32.0,34.333333333333336,\"C - ATC Capacity\",null,\"None\"],[\"24\",-10,11.0,8.333333333333334,\"C - ATC Capacity\",\"WIP in the TWR\",\"None\"],[\"48\",-19,-32.0,30.666666666666668,\"C - ATC Capacity\",null,\"None\"],[\"72\",9,14.0,34.333333333333336,\"C - ATC Capacity\",null,\"None\"],[\"24\",-18,15.0,9.333333333333334,\"C - ATC Capacity\",\"WIP in the TWR\",\"None\"],[\"48\",-12,-32.0,32.333333333333336,\"C - ATC Capacity\",null,\"None\"],[\"36\",-39,-16.0,35.333333333333336,\"C - ATC Capacity\",null,\"None\"],[\"48\",-6,-39.0,35.0,\"C - ATC Capacity\",null,\"None\"],[\"12\",10,0.0,0.3333333333333333,\"C - ATC Capacity\",null,\"None\"],[\"48\",-8,-30.0,32.0,\"C - ATC Capacity\",null,\"None\"],[\"60\",17,-8.0,28.333333333333332,\"C - ATC Capacity\",\"Reg amended\",\"None\"],[\"72\",-5,17.0,27.333333333333332,\"C - ATC Capacity\",\"Reg amended\",\"None\"],[\"12\",9,0.0,0.0,\"C - ATC Capacity\",null,\"None\"],[\"24\",-1,9.0,7.0,\"C - ATC Capacity\",null,\"None\"],[\"36\",-22,-1.0,21.0,\"C - ATC Capacity\",null,\"None\"],[\"24\",-26,10.0,7.333333333333333,\"C - ATC Capacity\",\"WIP in the TWR\",\"None\"],[\"60\",14,-8.0,34.666666666666664,\"C - ATC Capacity\",null,\"None\"],[\"72\",7,14.0,34.0,\"C - ATC Capacity\",null,\"None\"],[\"24\",-16,14.0,7.666666666666667,\"C - ATC Capacity\",null,\"None\"],[\"24\",-20,13.0,8.0,\"C - ATC Capacity\",\"WIP in the TWR.\",\"None\"],[\"48\",-6,-32.0,33.666666666666664,\"C - ATC Capacity\",null,\"None\"],[\"12\",15,-1.0,0.3333333333333333,\"C - ATC Capacity\",null,\"None\"],[\"24\",-8,15.0,8.333333333333334,\"C - ATC Capacity\",null,\"None\"],[\"36\",-25,-8.0,32.333333333333336,\"C - ATC Capacity\",null,\"None\"],[\"48\",-14,-25.0,31.0,\"C - ATC Capacity\",null,\"None\"],[\"12\",26,0.0,0.0,\"C - ATC Capacity\",null,\"None\"],[\"24\",27,26.0,18.333333333333332,\"C - ATC Capacity\",null,\"None\"],[\"72\",-27,-17.0,38.666666666666664,\"C - ATC Capacity\",null,\"None\"],[\"48\",-21,8.0,29.666666666666668,\"C - ATC Capacity\",null,\"None\"],[\"48\",-31,8.0,23.666666666666668,\"C - ATC Capacity\",null,\"None\"],[\"72\",-17,-13.0,36.333333333333336,\"C - ATC Capacity\",null,\"None\"],[\"24\",18,41.0,21.333333333333332,\"C - ATC Capacity\",\"NETWORK CHERRY PICK\",\"None\"],[\"24\",34,43.0,24.0,\"C - ATC Capacity\",null,\"None\"],[\"60\",-6,-26.0,32.333333333333336,\"C - ATC Capacity\",null,\"None\"],[\"12\",23,0.0,0.3333333333333333,\"C - ATC Capacity\",null,\"None\"],[\"12\",6,2.0,0.6666666666666666,\"C - ATC Capacity\",null,\"None\"],[\"24\",11,20.0,13.0,\"C - ATC Capacity\",null,\"None\"],[\"72\",-15,-9.0,37.333333333333336,\"C - ATC Capacity\",null,\"None\"],[\"48\",-38,7.0,25.666666666666668,\"C - ATC Capacity\",null,\"None\"],[\"36\",4,20.0,33.0,\"C - ATC Capacity\",null,\"None\"],[\"60\",-15,-34.0,33.0,\"C - ATC Capacity\",null,\"None\"],[\"36\",8,21.0,30.333333333333332,\"C - ATC Capacity\",null,\"None\"],[\"48\",-33,8.0,22.666666666666668,\"C - ATC Capacity\",null,\"None\"],[\"36\",5,25.0,40.0,\"C - ATC Capacity\",null,\"None\"],[\"48\",-29,5.0,33.0,\"C - ATC Capacity\",null,\"None\"],[\"36\",0,-4.0,17.0,\"C - ATC Capacity\",null,\"None\"],[\"48\",-19,0.0,13.666666666666666,\"C - ATC Capacity\",null,\"None\"],[\"48\",-25,1.0,29.333333333333332,\"C - ATC Capacity\",null,\"None\"],[\"48\",-36,-5.0,29.0,\"C - ATC Capacity\",null,\"None\"],[\"36\",4,15.0,36.666666666666664,\"C - ATC Capacity\",null,\"None\"],[\"48\",-23,4.0,31.0,\"C - ATC Capacity\",null,\"None\"],[\"72\",-6,-19.0,40.666666666666664,\"C - ATC Capacity\",\"WIP. NOTAM A0182/18.\",\"None\"],[\"24\",23,48.0,26.0,\"C - ATC Capacity\",null,\"None\"],[\"48\",-35,9.0,26.333333333333332,\"C - ATC Capacity\",null,\"None\"],[\"84\",-3,-19.0,31.0,\"C - ATC Capacity\",null,\"None\"],[\"72\",-15,-15.0,41.0,\"C - ATC Capacity\",null,\"None\"],[\"48\",-31,8.0,27.333333333333332,\"C - ATC Capacity\",null,\"None\"],[\"60\",-22,-31.0,30.333333333333332,\"C - ATC Capacity\",null,\"None\"],[\"36\",3,27.0,38.666666666666664,\"C - ATC Capacity\",\"regul extended\",\"None\"],[\"84\",-4,-15.0,32.666666666666664,\"C - ATC Capacity\",null,\"None\"],[\"48\",-38,4.0,26.333333333333332,\"C - ATC Capacity\",null,\"None\"],[\"36\",-6,23.0,36.666666666666664,\"C - ATC Capacity\",null,\"None\"],[\"48\",-31,-6.0,30.666666666666668,\"C - ATC Capacity\",\"APP service for LFCR\",\"None\"],[\"72\",-17,-22.0,40.333333333333336,\"C - ATC Capacity\",\"APP service for LFCR\",\"None\"],[\"36\",3,36.0,39.333333333333336,\"C - ATC Capacity\",null,\"None\"],[\"72\",-21,-13.0,39.0,\"C - ATC Capacity\",\"REG EXTENDED\",\"None\"],[\"24\",10,25.0,15.666666666666666,\"C - ATC Capacity\",\"APP service for LFCR\",\"None\"],[\"48\",-26,-4.0,25.333333333333332,\"C - ATC Capacity\",null,\"None\"],[\"24\",22,26.0,14.666666666666666,\"C - ATC Capacity\",\"NETWORK CHERRY PICK\",\"None\"],[\"36\",2,22.0,31.333333333333332,\"C - ATC Capacity\",null,\"None\"],[\"48\",-27,2.0,27.0,\"C - ATC Capacity\",\".\",\"None\"],[\"72\",-19,-17.0,40.333333333333336,\"C - ATC Capacity\",\"REGULATION EXTENDED\",\"None\"],[\"24\",21,47.0,27.0,\"C - ATC Capacity\",\"APP service for LFCR\",\"None\"],[\"36\",-1,21.0,39.333333333333336,\"C - ATC Capacity\",null,\"None\"],[\"24\",20,48.0,27.333333333333332,\"C - ATC Capacity\",null,\"None\"],[\"48\",-19,-2.0,32.333333333333336,\"C - ATC Capacity\",null,\"None\"],[\"72\",-17,-17.0,32.666666666666664,\"C - ATC Capacity\",\"REG EXTENDED\",\"None\"],[\"24\",22,47.0,25.333333333333332,\"C - ATC Capacity\",\"APP service for LFCR\",\"None\"],[\"36\",-1,18.0,39.666666666666664,\"C - ATC Capacity\",null,\"None\"],[\"24\",27,47.0,26.666666666666668,\"C - ATC Capacity\",\"APP service for LFCR\",\"None\"],[\"24\",12,21.0,15.0,\"C - ATC Capacity\",null,\"None\"],[\"48\",-33,13.0,26.333333333333332,\"C - ATC Capacity\",null,\"None\"],[\"36\",14,24.0,29.666666666666668,\"C - ATC Capacity\",null,\"None\"],[\"36\",0,25.0,38.0,\"C - ATC Capacity\",null,\"None\"],[\"36\",3,22.0,38.333333333333336,\"C - ATC Capacity\",null,\"None\"],[\"24\",32,43.0,27.0,\"C - ATC Capacity\",null,\"None\"],[\"48\",-40,-2.0,30.0,\"C - ATC Capacity\",null,\"None\"],[\"84\",-6,-19.0,37.0,\"C - ATC Capacity\",null,\"None\"],[\"24\",21,43.0,26.666666666666668,\"C - ATC Capacity\",null,\"None\"],[\"36\",5,21.0,41.666666666666664,\"C - ATC Capacity\",null,\"None\"],[\"72\",-18,-10.0,40.666666666666664,\"C - ATC Capacity\",null,\"None\"],[\"84\",-10,-18.0,35.333333333333336,\"C - ATC Capacity\",null,\"None\"],[\"36\",17,29.0,37.0,\"C - ATC Capacity\",null,\"None\"],[\"48\",-32,17.0,30.666666666666668,\"C - ATC Capacity\",null,\"None\"],[\"84\",-10,-24.0,25.333333333333332,\"C - ATC Capacity\",null,\"None\"],[\"24\",26,27.0,15.0,\"C - ATC Capacity\",\"NETWORK CHERRY PICK\",\"None\"],[\"36\",2,27.0,38.666666666666664,\"C - ATC Capacity\",null,\"None\"],[\"24\",28,43.0,24.333333333333332,\"C - ATC Capacity\",null,\"None\"],[\"36\",8,28.0,37.666666666666664,\"C - ATC Capacity\",null,\"None\"],[\"48\",-22,8.0,31.666666666666668,\"C - ATC Capacity\",null,\"None\"],[\"36\",9,21.0,38.0,\"C - ATC Capacity\",null,\"None\"],[\"48\",-29,9.0,30.333333333333332,\"C - ATC Capacity\",null,\"None\"],[\"84\",-12,-24.0,32.333333333333336,\"C - ATC Capacity\",null,\"None\"],[\"36\",0,25.0,29.333333333333332,\"C - ATC Capacity\",null,\"None\"],[\"48\",-35,0.0,25.333333333333332,\"C - ATC Capacity\",null,\"None\"],[\"12\",44,3.0,1.3333333333333333,\"C - ATC Capacity\",null,\"None\"],[\"36\",0,28.0,39.666666666666664,\"C - ATC Capacity\",null,\"None\"],[\"48\",-35,0.0,30.666666666666668,\"C - ATC Capacity\",\"REG EXTENDED\",\"None\"],[\"84\",-9,-8.0,31.0,\"C - ATC Capacity\",null,\"None\"],[\"84\",-6,-23.0,28.0,\"C - ATC Capacity\",null,\"None\"],[\"36\",3,31.0,36.666666666666664,\"C - ATC Capacity\",null,\"None\"],[\"48\",-35,3.0,29.666666666666668,\"C - ATC Capacity\",null,\"None\"],[\"36\",-2,23.0,36.333333333333336,\"C - ATC Capacity\",null,\"None\"],[\"48\",-17,-2.0,29.666666666666668,\"C - ATC Capacity\",null,\"None\"],[\"36\",7,37.0,35.333333333333336,\"C - ATC Capacity\",null,\"None\"],[\"84\",-6,-11.0,27.333333333333332,\"C - ATC Capacity\",null,\"None\"],[\"48\",-38,7.0,28.0,\"C - ATC Capacity\",null,\"None\"],[\"84\",-10,-25.0,35.666666666666664,\"C - ATC Capacity\",null,\"None\"],[\"24\",24,47.0,24.0,\"C - ATC Capacity\",null,\"None\"],[\"36\",7,28.0,40.333333333333336,\"C - ATC Capacity\",null,\"None\"],[\"48\",-34,7.0,32.0,\"C - ATC Capacity\",null,\"None\"],[\"48\",-30,2.0,34.333333333333336,\"C - ATC Capacity\",null,\"None\"],[\"60\",-14,-30.0,32.666666666666664,\"C - ATC Capacity\",null,\"None\"],[\"24\",27,42.0,26.666666666666668,\"C - ATC Capacity\",null,\"None\"],[\"36\",1,27.0,38.333333333333336,\"C - ATC Capacity\",null,\"None\"],[\"48\",-28,1.0,32.333333333333336,\"C - ATC Capacity\",null,\"None\"],[\"84\",-16,-4.0,24.333333333333332,\"C - ATC Capacity\",null,\"None\"],[\"24\",33,46.0,26.666666666666668,\"C - ATC Capacity\",null,\"None\"],[\"48\",-17,-6.0,30.333333333333332,\"C - ATC Capacity\",null,\"None\"],[\"36\",6,36.0,40.333333333333336,\"C - ATC Capacity\",null,\"None\"],[\"48\",-34,6.0,27.0,\"C - ATC Capacity\",null,\"None\"],[\"36\",6,29.0,31.666666666666668,\"C - ATC Capacity\",\"REGULATION EXTENDED\",\"None\"],[\"72\",-15,-8.0,36.0,\"C - ATC Capacity\",null,\"None\"],[\"84\",-11,-15.0,33.666666666666664,\"C - ATC Capacity\",null,\"None\"],[\"36\",4,30.0,41.0,\"C - ATC Capacity\",null,\"None\"],[\"48\",-35,4.0,32.666666666666664,\"C - ATC Capacity\",null,\"None\"],[\"24\",16,44.0,25.0,\"C - ATC Capacity\",null,\"None\"],[\"36\",0,16.0,40.666666666666664,\"C - ATC Capacity\",null,\"None\"],[\"48\",-28,0.0,33.333333333333336,\"C - ATC Capacity\",\"REG EXT\",\"None\"],[\"72\",-3,-22.0,33.666666666666664,\"C - ATC Capacity\",null,\"None\"],[\"84\",-12,-3.0,16.0,\"C - ATC Capacity\",null,\"None\"],[\"24\",27,44.0,27.0,\"C - ATC Capacity\",null,\"None\"],[\"36\",0,27.0,39.0,\"C - ATC Capacity\",null,\"None\"],[\"36\",-2,28.0,39.666666666666664,\"C - ATC Capacity\",null,\"None\"],[\"48\",-20,-2.0,31.666666666666668,\"C - ATC Capacity\",null,\"None\"],[\"72\",-20,-15.0,39.0,\"C - ATC Capacity\",null,\"None\"],[\"36\",0,29.0,36.0,\"C - ATC Capacity\",null,\"None\"],[\"48\",-29,0.0,31.666666666666668,\"C - ATC Capacity\",null,\"None\"],[\"36\",-1,24.0,33.0,\"C - ATC Capacity\",\"REG EXTENDED\",\"None\"],[\"60\",-12,-23.0,37.333333333333336,\"C - ATC Capacity\",null,\"None\"],[\"84\",-13,-29.0,34.0,\"C - ATC Capacity\",null,\"None\"],[\"24\",27,48.0,27.333333333333332,\"C - ATC Capacity\",\"NETWORK CHERRY PICK\",\"None\"],[\"24\",36,49.0,27.0,\"C - ATC Capacity\",null,\"None\"],[\"36\",-1,36.0,39.666666666666664,\"C - ATC Capacity\",null,\"None\"],[\"48\",-28,-1.0,30.0,\"C - ATC Capacity\",null,\"None\"],[\"60\",-19,-28.0,34.666666666666664,\"C - ATC Capacity\",null,\"None\"],[\"24\",21,49.0,27.333333333333332,\"C - ATC Capacity\",null,\"None\"],[\"36\",-1,21.0,41.0,\"C - ATC Capacity\",null,\"None\"],[\"36\",-2,27.0,42.0,\"C - ATC Capacity\",null,\"None\"],[\"24\",21,46.0,22.666666666666668,\"C - ATC Capacity\",null,\"None\"],[\"48\",-36,4.0,31.0,\"C - ATC Capacity\",null,\"None\"],[\"84\",-8,-24.0,24.666666666666668,\"C - ATC Capacity\",null,\"None\"],[\"24\",31,37.0,20.0,\"C - ATC Capacity\",null,\"None\"],[\"48\",-32,13.0,29.0,\"C - ATC Capacity\",null,\"None\"],[\"72\",-29,-20.0,38.0,\"C - ATC Capacity\",null,\"None\"],[\"12\",53,4.0,1.3333333333333333,\"C - ATC Capacity\",null,\"None\"],[\"24\",41,53.0,27.333333333333332,\"C - ATC Capacity\",null,\"None\"],[\"36\",-5,41.0,36.666666666666664,\"C - ATC Capacity\",null,\"None\"],[\"60\",-21,-40.0,31.0,\"C - ATC Capacity\",null,\"None\"],[\"72\",-16,-21.0,42.666666666666664,\"C - ATC Capacity\",\"reg amended\",\"None\"],[\"24\",27,46.0,25.333333333333332,\"C - ATC Capacity\",null,\"None\"],[\"36\",5,27.0,41.0,\"C - ATC Capacity\",null,\"None\"],[\"48\",-39,5.0,31.0,\"C - ATC Capacity\",null,\"None\"],[\"24\",29,46.0,26.666666666666668,\"C - ATC Capacity\",null,\"None\"],[\"24\",20,47.0,27.0,\"C - ATC Capacity\",null,\"None\"],[\"48\",-31,-3.0,33.666666666666664,\"C - ATC Capacity\",null,\"None\"],[\"72\",-8,-13.0,41.666666666666664,\"C - ATC Capacity\",null,\"None\"],[\"84\",-13,-8.0,35.666666666666664,\"C - ATC Capacity\",null,\"None\"],[\"12\",46,4.0,1.3333333333333333,\"C - ATC Capacity\",null,\"None\"],[\"48\",-12,-4.0,31.666666666666668,\"C - ATC Capacity\",null,\"None\"],[\"12\",47,4.0,1.3333333333333333,\"C - ATC Capacity\",null,\"None\"],[\"72\",-17,-19.0,32.0,\"C - ATC Capacity\",null,\"None\"],[\"84\",-6,-17.0,27.0,\"C - ATC Capacity\",null,\"None\"]],\"hovertemplate\":\"reg_type=%{customdata[4]}<br>recovery_rate=%{y}<br>tw_idx=%{customdata[0]}<br>capacity_change=%{customdata[1]}<br>prev_capacity_change=%{customdata[2]}<br>prev_avg_capacity=%{customdata[3]}<br>reg_cause=%{customdata[5]}<br>reg_bool_type=%{customdata[6]}<extra></extra>\",\"legendgroup\":\"C - ATC Capacity\",\"marker\":{\"color\":\"#ab63fa\",\"symbol\":\"circle\"},\"name\":\"C - ATC Capacity\",\"notched\":true,\"offsetgroup\":\"C - ATC Capacity\",\"showlegend\":false,\"xaxis\":\"x2\",\"y\":[1.1925467651191053,0.7682780851476865,2.5235035585575716,0.2814857649767441,3.5804970786392585,1.904161150860089,1.161398841859823,1.3009635804488098,0.6454428550935813,2.0052787121414677,2.942208388041641,2.4696119108391463,2.1372886427636812,0.8693542102558653,2.0358459707340573,2.9887682213587228,2.752055930463977,1.5702473123426468,0.8061684248946231,3.036175493641252,1.7945078955381721,0.6300355087307777,2.0351326616633694,2.197646551914338,2.735288105634737,1.1854687990732264,4.096308276101673,3.084064203414031,1.6842061589198996,1.387425194146064,2.2924095547422065,1.3902892841550867,2.5088718825692,2.666073241223415,0.9853936754928422,2.0770867883027195,1.7159633536875376,2.049145274463816,3.9411924033730923,2.108247123519264,3.1800887690673867,2.545300725849916,2.1557398070887794,0.7964264428616054,0.3307425711671657,1.217662311408443,1.038426873385013,0.6455157055066383,1.9105635261627192,0.6995245803923125,1.9391511614354642,0.983061758483362,1.548447447188882,-0.1628542333978705,0.8401330561732654,1.2150000507608574,1.7023698758510137,3.6675303868569986,1.7604123351992338,1.3417885851484361,0.9524746810298653,0.6487086989201197,3.398010634349709,2.248036230250811,3.400706555514735,1.979171375125491,1.69978822434286,2.5026441797646197,2.9422024021771156,2.1288151834467244,2.074263929162506,2.6449471285646555,1.660450728390049,3.963994659505881,4.353382309740148,2.4435028403120587,3.420850528915175,1.4768579480072472,1.9467795495365023,1.3630604028606135,3.314420175311568,0.7145962955617117,1.7721663829640848,2.208930574785654,1.4300569205489324,1.610566407239685,3.7363318043841263,2.559827068600514,1.7461189263933876,2.156940344408431,2.4739139497469984,1.4542280365497664,2.788097083030565,0.6304338613751804,1.5514934574424257,2.528388713571261,1.0159857019251979,0.5072424034511003,1.087829733789598,0.4148434571424015,2.885699938691626,2.2578949083863207,0.9806417401981943,2.6558964923830324,2.2645191493371652,2.2445930931272406,0.5753385281668246,2.4526672930417415,1.9193529477398732,1.479441307132803,1.5027141310795804,1.621759207516043,1.2433032005109799,2.4670963997189386,2.6318583590049185,2.37254044292138,1.8104352182924914,1.6257761536626247,2.5415072064129807,1.5275187227999418,1.218023121186278,2.679438663089691,2.072201920452391,2.0644450486828725,2.0335379117561883,3.0702635077035234,1.756434742504775,3.4611229367517975,1.7747865685630053,1.6405938024709183,0.5416688930096736,1.6993604361441341,1.8835352708556534,2.061905465812419,1.7610453146993859,1.5298122761581063,1.2550994761024359,1.5717447392983588,2.2210544214973376,2.727353237220497,2.2100831602502087,1.799771054582031,3.778410022067951,1.8665623700415264,1.4420385927475872,2.4483472939833795,1.73199999832329,2.432094037719078,2.4912451187370337,1.3520705503998531,1.7694745189285115,2.206500809059734,2.799388048529297,1.6582401600484653,2.155549241649336,1.9937309871970668,1.450754808438866,1.944147318264583,1.8891130858313037,1.8021918371673475,2.1374293878002586,1.7958688869054602,2.097042415575926,3.572139034432108,1.575817363072716,1.5180207187067627,2.030332416761049,1.669661248858436,1.299763455558761,1.3756698714412479,1.503306896581486,2.057060192708522,1.4258034012141632,1.5105142130790932,1.5077882306652148,1.611041286978646,1.7097676001862396,1.4347346641384875,1.0660701558781973,1.4036627436938574,1.7483473903221824,2.318106247161869,1.755928424235934,1.7866290576681576,1.156761108665887,1.4706579931451125,1.088961795534175,1.2022954348072195,1.3635526874766792,2.089681991788956,2.1804848586794994,1.658747540061328,1.1641544156185935,1.6505984107776936,1.607975389903132,1.36272712075862,1.4435405448934946,1.5370461949132597,1.6985736159994789,1.2979213662002653,1.2959091884360092,1.5123186404754805,1.8732365084757951,1.5342573379343758,1.4525998459666316,1.6518502326134217,1.25928407195387,-0.3008388380254212,1.4239158401142389,1.4511662984276028,1.6984908372856617,1.4765705092706405,1.3863020916294924,1.826070465970873,1.0500335433821193,0.619163048566332,1.3284501421617663,1.3028322964699752,1.1761237901795205,1.1115277336442677,1.4630421574798653,1.5228925840181604,1.6397754983278665,-1.0189578723471864,0.4143395877963537,1.4381478285833826,1.659742013993024,1.1107255671105862,1.5411056435144808,1.6939635019899897,1.349762171798322,0.6461557998388181,1.4197418866320233,1.3336059997481593,2.738390056304953,1.7103249749225056,1.5402396924944008,1.9493767759241118,1.265874924500187,1.7323940376023537,1.8079705275847229,1.362712944465071,0.9829439026947698,1.4760111332331374,1.6922850823771756,1.378883771354258,1.509743299480187,1.5517676780092617,1.992204893969303,1.7040218901064699,1.9756895720382277,1.357311208413803,1.3557157167194953,2.12236958763838,1.9621344309569864,1.6042429208957651,2.3545191650226966,2.5497980778197022,1.7165534863645968,1.500553828556926,1.26226587175427,0.8527113046063002,1.386458404663324,3.066794614456683,1.6752226190648905,1.6707805136285487,1.7030560300926092,1.2889374364516486],\"yaxis\":\"y2\",\"type\":\"box\"},{\"customdata\":[[\"48\",-24,-10.0,23.333333333333332,\"W - Weather\",\"LVP.\",\"None\"],[\"72\",5,12.0,28.666666666666668,\"W - Weather\",\"LVP.\",\"None\"],[\"24\",11,12.0,7.666666666666667,\"W - Weather\",\"WIND GUSTS/RATE REDUCED/REGUL EXTENDED\",\"Wind\"],[\"36\",-11,11.0,22.0,\"W - Weather\",\"WIND GUSTS/RATE REDUCED/REGUL EXTENDED\",\"Wind\"],[\"48\",-5,-11.0,25.0,\"W - Weather\",\"WIND GUSTS/RATE REDUCED/REGUL EXTENDED\",\"Wind\"],[\"60\",15,-11.0,28.0,\"W - Weather\",\"WIND\",\"Wind\"],[\"72\",-2,15.0,28.333333333333332,\"W - Weather\",\"strong winds\",\"Wind\"],[\"84\",-11,-2.0,25.0,\"W - Weather\",\"WIND\",\"Wind\"],[\"48\",-17,-17.0,26.666666666666668,\"W - Weather\",\"STRONG WIND\",\"Wind\"],[\"24\",-11,9.0,7.666666666666667,\"W - Weather\",\"FOG Reg extended\",\"Fog\"],[\"36\",-30,-11.0,32.0,\"W - Weather\",\"FOG Reg extended\",\"Fog\"],[\"48\",-11,-30.0,32.666666666666664,\"W - Weather\",\"LVP reg.ext.\",\"None\"],[\"60\",14,-11.0,33.0,\"W - Weather\",\"storm\",\"None\"],[\"72\",2,14.0,32.0,\"W - Weather\",\"lvp\",\"None\"],[\"24\",-9,12.0,8.333333333333334,\"W - Weather\",\"fog reg. ext. RVR 700mt\",\"Fog\"],[\"36\",-26,-9.0,35.333333333333336,\"W - Weather\",\"fog reg. ext. RVR 700mt\",\"Fog\"],[\"36\",-18,-14.0,33.666666666666664,\"W - Weather\",\"lvp\",\"None\"],[\"48\",-22,-18.0,30.666666666666668,\"W - Weather\",\"lvp\",\"None\"],[\"72\",7,15.0,33.0,\"W - Weather\",\"LOW VISIBILITY\",\"Fog\"],[\"24\",-4,11.0,9.333333333333334,\"W - Weather\",\"Low vis\",\"Fog\"],[\"36\",-27,-3.0,31.0,\"W - Weather\",\"STRONG WIND REG EXTENDED\",\"Wind\"],[\"72\",-4,11.0,24.666666666666668,\"W - Weather\",\"STRONG WINDS\",\"Wind\"],[\"84\",-6,-4.0,19.666666666666668,\"W - Weather\",\"STRONG WINDS\",\"Wind\"],[\"84\",-11,14.0,36.0,\"W - Weather\",\"LOW VISIBILITY\",\"Fog\"],[\"36\",-25,-16.0,34.333333333333336,\"W - Weather\",\"L.V.P.//FOG//REDUCED RATE\",\"Fog\"],[\"48\",-17,-25.0,28.0,\"W - Weather\",\"WINDS\",\"Wind\"],[\"60\",7,-12.0,31.0,\"W - Weather\",\"STRONG WINDS EXPECTED REGULATION EXTENDED\",\"Wind\"],[\"72\",6,7.0,34.666666666666664,\"W - Weather\",\"STRONG WINDS EXPECTED REGULATION EXTENDED\",\"Wind\"],[\"84\",-19,6.0,35.333333333333336,\"W - Weather\",\"STRONG WINDS EXPECTED REGULATION EXTENDED\",\"Wind\"],[\"36\",-28,-12.0,33.666666666666664,\"W - Weather\",\"FORECAST CB ACTIVITY\",\"CB\"],[\"72\",-5,16.0,33.666666666666664,\"W - Weather\",\"RWY CONFIGURATION (WIND)\",\"Wind\"],[\"48\",-9,-24.0,29.0,\"W - Weather\",\"WIND DIRECTION\",\"Wind\"],[\"84\",-20,-10.0,37.0,\"W - Weather\",\"strong winds\",\"Wind\"],[\"48\",-20,-33.0,27.666666666666668,\"W - Weather\",\"snow\",\"Snow\"],[\"24\",-15,15.0,8.333333333333334,\"W - Weather\",\"SNOW\",\"Snow\"],[\"60\",23,-16.0,33.333333333333336,\"W - Weather\",\"SNOW\",\"Snow\"],[\"72\",0,10.0,27.0,\"W - Weather\",\"TURBULENCE\",\"None\"],[\"72\",6,11.0,34.333333333333336,\"W - Weather\",\"LVP/RATE INCREASED/REGUL EXTENDED\",\"None\"],[\"72\",12,8.0,31.666666666666668,\"W - Weather\",\"RWY CONFIGURATION - STRONG WINDS\",\"Wind\"],[\"84\",-14,12.0,34.0,\"W - Weather\",\"RWY CONFIGURATION - STRONG WINDS\",\"Wind\"],[\"24\",-10,14.0,6.666666666666667,\"W - Weather\",\"STRONG WIND\",\"Wind\"],[\"36\",-32,-10.0,29.333333333333332,\"W - Weather\",\"STRONG WIND\",\"Wind\"],[\"48\",-15,-32.0,28.666666666666668,\"W - Weather\",\"STRONG WIND\",\"Wind\"],[\"72\",-2,9.0,27.0,\"W - Weather\",\"STRONG WIND\",\"Wind\"],[\"36\",-27,4.0,21.0,\"W - Weather\",\"strong winds\",\"Wind\"],[\"48\",-18,-27.0,24.0,\"W - Weather\",\"strong winds\",\"Wind\"],[\"36\",-28,-16.0,37.333333333333336,\"W - Weather\",\"WIND DIRECTION\",\"Wind\"],[\"60\",14,-14.0,35.333333333333336,\"W - Weather\",\"snow/winds after 1400z REG ENDS EARLIER\",\"Snow\"],[\"72\",4,14.0,32.666666666666664,\"W - Weather\",\"snow/winds after 1400z REG ENDS EARLIER\",\"Snow\"],[\"24\",-12,14.0,8.666666666666666,\"W - Weather\",\"SNOW  / REGULATION EXTENDED/ rate INCREASED\",\"Snow\"],[\"48\",-17,-26.0,30.333333333333332,\"W - Weather\",\"SNOW/REG EXTENDED\",\"Snow\"],[\"84\",-11,-1.0,26.0,\"W - Weather\",\"SNOW  / REGULATION EXTENDED/ rate INCREASED\",\"Snow\"],[\"24\",13,10.0,7.0,\"W - Weather\",\"strong winds\",\"Wind\"],[\"36\",-18,13.0,22.666666666666668,\"W - Weather\",\"LVP\",\"None\"],[\"60\",6,-10.0,29.0,\"W - Weather\",\"STRONG WIND\",\"Wind\"],[\"72\",5,6.0,31.0,\"W - Weather\",\"SNOW\",\"Snow\"],[\"84\",-14,12.0,36.0,\"W - Weather\",\"CB ACTIVITY\",\"CB\"],[\"60\",13,-19.0,32.333333333333336,\"W - Weather\",\"WIND DIRECTION\",\"Wind\"],[\"48\",-17,-25.0,31.666666666666668,\"W - Weather\",\"LVP\",\"None\"],[\"72\",12,17.0,35.333333333333336,\"W - Weather\",\"LVP\",\"None\"],[\"84\",-12,12.0,36.333333333333336,\"W - Weather\",\"LVP\",\"None\"],[\"24\",-12,14.0,8.333333333333334,\"W - Weather\",\"LOW VISIBILITY\",\"Fog\"],[\"48\",-7,-25.0,32.333333333333336,\"W - Weather\",\"LVP Rate increased\",\"None\"],[\"72\",12,9.0,35.0,\"W - Weather\",\"LVP Rate increased\",\"None\"],[\"36\",-33,-9.0,35.666666666666664,\"W - Weather\",\"FOG\",\"Fog\"],[\"72\",3,19.0,37.0,\"W - Weather\",\"low ceiling\",\"None\"],[\"36\",-21,1.0,33.333333333333336,\"W - Weather\",\"LVP\",\"None\"],[\"72\",1,11.0,32.666666666666664,\"W - Weather\",\"low ceilings\",\"None\"],[\"72\",9,15.0,36.0,\"W - Weather\",\"WIND DIRECTION\",\"Wind\"],[\"72\",8,13.0,32.0,\"W - Weather\",\"WIND DIRECTION\",\"Wind\"],[\"48\",-11,-24.0,31.0,\"W - Weather\",\"wind direction\",\"Wind\"],[\"48\",-11,-33.0,29.333333333333332,\"W - Weather\",\"WIND DIRECTION\",\"Wind\"],[\"60\",12,-11.0,28.666666666666668,\"W - Weather\",\"WIND DIRECTION\",\"Wind\"],[\"72\",-9,12.0,29.333333333333332,\"W - Weather\",\"strong winds\",\"Wind\"],[\"48\",-16,-29.0,26.0,\"W - Weather\",\"STORM reg extended\",\"None\"],[\"60\",11,-16.0,28.666666666666668,\"W - Weather\",\"wind direction\",\"Wind\"],[\"72\",0,11.0,33.333333333333336,\"W - Weather\",\"STORM reg extended\",\"None\"],[\"84\",-10,0.0,37.333333333333336,\"W - Weather\",\"STORM reg extended\",\"None\"],[\"24\",-11,11.0,8.0,\"W - Weather\",\"SNOW\",\"Snow\"],[\"36\",-30,-11.0,34.333333333333336,\"W - Weather\",\"wind direction\",\"Wind\"],[\"48\",-7,-30.0,31.333333333333332,\"W - Weather\",\"wind direction\",\"Wind\"],[\"72\",2,13.0,30.333333333333332,\"W - Weather\",\"Wind direction\",\"Wind\"],[\"84\",-15,2.0,35.333333333333336,\"W - Weather\",\"heavy rain Reg extended\",\"Rain\"],[\"48\",-10,-35.0,30.333333333333332,\"W - Weather\",\"WIND DIRECTION\",\"Wind\"],[\"60\",3,-5.0,31.666666666666668,\"W - Weather\",\"rain , snow and strong wind/shortened\",\"Snow\"],[\"72\",4,3.0,33.666666666666664,\"W - Weather\",\"FORECAST SNOW SHOWERS\",\"Snow\"],[\"84\",-16,4.0,36.0,\"W - Weather\",\"forecast Snowfall.\",\"Snow\"],[\"24\",-7,8.0,7.333333333333333,\"W - Weather\",\"SNOW. REGULATION EXTENDED.\",\"Snow\"],[\"36\",-32,-7.0,30.333333333333332,\"W - Weather\",\"SNOW. REGULATION EXTENDED.\",\"Snow\"],[\"48\",2,-32.0,32.666666666666664,\"W - Weather\",\"SNOW. REGULATION EXTENDED.\",\"Snow\"],[\"60\",11,2.0,33.333333333333336,\"W - Weather\",\"SNOW. REGULATION EXTENDED.\",\"Snow\"],[\"72\",10,11.0,30.0,\"W - Weather\",\"SNOW. REGULATION EXTENDED.\",\"Snow\"],[\"84\",-15,10.0,33.0,\"W - Weather\",\"SNOW, 0-RATE 0400-1100 Reg extended.\",\"Snow\"],[\"72\",9,13.0,31.0,\"W - Weather\",\"strong wind\",\"Wind\"],[\"84\",-13,9.0,33.666666666666664,\"W - Weather\",\"strong wind\",\"Wind\"],[\"12\",8,-1.0,0.3333333333333333,\"W - Weather\",\"snow\",\"Snow\"],[\"24\",-5,8.0,6.333333333333333,\"W - Weather\",\"snow\",\"Snow\"],[\"36\",-22,-5.0,28.666666666666668,\"W - Weather\",\"snow\",\"Snow\"],[\"48\",-10,-22.0,29.666666666666668,\"W - Weather\",\"snow\",\"Snow\"],[\"60\",12,-10.0,30.0,\"W - Weather\",\"SNOW FALL//REDUCED RATE\",\"Snow\"],[\"72\",4,12.0,29.0,\"W - Weather\",\"SNOW FALL//REDUCED RATE\",\"Snow\"],[\"84\",-5,4.0,27.0,\"W - Weather\",\"SNOW FALL//REDUCED RATE\",\"Snow\"],[\"36\",-27,2.0,22.0,\"W - Weather\",\"STRONG WINDS - RWY CONFIG\",\"Wind\"],[\"72\",8,13.0,33.333333333333336,\"W - Weather\",\"RWY CONF. DUE WIND DIRECTION\",\"Wind\"],[\"84\",-14,8.0,34.0,\"W - Weather\",\"RWY CONF. DUE WIND DIRECTION\",\"Wind\"],[\"12\",14,-1.0,0.3333333333333333,\"W - Weather\",\"wind rwy config\",\"Wind\"],[\"36\",-32,-14.0,35.666666666666664,\"W - Weather\",\"CBs\",\"CB\"],[\"48\",4,-26.0,34.0,\"W - Weather\",\"LOW CLOUDS, regulation extended\",\"None\"],[\"36\",-34,-7.0,34.666666666666664,\"W - Weather\",\"a/d capacity reason after 1700 UTC: low visibility\",\"Fog\"],[\"48\",-14,-34.0,28.333333333333332,\"W - Weather\",\"a/d capacity reason after 1700 UTC: low visibility\",\"Fog\"],[\"60\",7,-14.0,31.666666666666668,\"W - Weather\",\"a/d capacity reason after 1700 UTC: low visibility\",\"Fog\"],[\"72\",-10,7.0,26.666666666666668,\"W - Weather\",\"a/d capacity reason after 1700 UTC: low visibility\",\"Fog\"],[\"84\",-4,-10.0,26.666666666666668,\"W - Weather\",\"a/d capacity reason after 1700 UTC: low visibility\",\"Fog\"],[\"12\",11,0.0,0.0,\"W - Weather\",\"FROM 1700 REASON A/D CAPACITY.\",\"None\"],[\"24\",3,11.0,7.0,\"W - Weather\",\"FROM 1700 REASON A/D CAPACITY.\",\"None\"],[\"36\",-27,3.0,21.0,\"W - Weather\",\"FROM 1700 REASON A/D CAPACITY.\",\"None\"],[\"48\",-18,-27.0,26.0,\"W - Weather\",\"FROM 1700 REASON A/D CAPACITY.\",\"None\"],[\"84\",-12,-3.0,36.333333333333336,\"W - Weather\",\"FROM 1700 REASON A/D CAPACITY.\",\"None\"],[\"12\",16,0.0,0.0,\"W - Weather\",\"Fog\",\"Fog\"],[\"60\",17,-14.0,35.0,\"W - Weather\",\"CB\",\"CB\"],[\"60\",9,-19.0,34.666666666666664,\"W - Weather\",\"CB\",\"CB\"],[\"72\",9,9.0,35.666666666666664,\"W - Weather\",\"WIND DIRECTION\",\"Wind\"],[\"24\",-20,13.0,8.0,\"W - Weather\",\"LOW VIS\",\"Fog\"],[\"48\",-14,-35.0,33.666666666666664,\"W - Weather\",\"TURBULENCE\",\"None\"],[\"60\",4,20.0,23.333333333333332,\"W - Weather\",\"WIND DIRECTION.\",\"Wind\"],[\"72\",2,4.0,29.0,\"W - Weather\",\"WIND DIRECTION.\",\"Wind\"],[\"84\",-20,2.0,33.666666666666664,\"W - Weather\",\"WIND DIRECTION.\",\"Wind\"],[\"24\",-6,12.0,8.0,\"W - Weather\",\"SNOW\",\"Snow\"],[\"36\",-25,-16.0,36.333333333333336,\"W - Weather\",\"SNOW\",\"Snow\"],[\"60\",9,-9.0,34.0,\"W - Weather\",\"Wind direction\",\"Wind\"],[\"60\",-7,-21.0,32.0,\"W - Weather\",\"STRONG WIND.\",\"Wind\"],[\"72\",-18,-7.0,38.333333333333336,\"W - Weather\",\"STRONG WIND.\",\"Wind\"],[\"84\",-5,-18.0,29.0,\"W - Weather\",\"STRONG WIND.\",\"Wind\"],[\"72\",-13,-11.0,40.333333333333336,\"W - Weather\",\"CB/s\",\"CB\"],[\"24\",22,39.0,23.666666666666668,\"W - Weather\",\"snow and expectation of freezing rain\",\"Snow\"],[\"72\",-19,-10.0,40.0,\"W - Weather\",\"STORMS IN BARCELONA TMA\",\"None\"],[\"24\",20,38.0,22.666666666666668,\"W - Weather\",\"LVP.\",\"None\"],[\"72\",-19,-15.0,37.666666666666664,\"W - Weather\",\"WIND DIRECTION\",\"Wind\"],[\"36\",3,27.0,34.666666666666664,\"W - Weather\",\"wind direction\",\"Wind\"],[\"72\",-14,-4.0,28.333333333333332,\"W - Weather\",\"Towering CB's\",\"CB\"],[\"72\",-22,-8.0,43.0,\"W - Weather\",\"Wind direction\",\"Wind\"],[\"24\",19,48.0,26.333333333333332,\"W - Weather\",\"LOW VIS, LOW CLOUDBASE, RAIN\",\"Fog\"],[\"60\",-19,-23.0,30.666666666666668,\"W - Weather\",\"WIND DIRECTION\",\"Wind\"],[\"24\",27,45.0,26.333333333333332,\"W - Weather\",\"FOG,LVP\",\"Fog\"],[\"72\",-14,-17.0,38.0,\"W - Weather\",\"wind\",\"Wind\"],[\"72\",-19,-19.0,40.666666666666664,\"W - Weather\",\"WIND DIRECTION/regul extended\",\"Wind\"],[\"84\",-4,-26.0,23.666666666666668,\"W - Weather\",\"TS\",\"None\"],[\"84\",-7,-32.0,32.333333333333336,\"W - Weather\",\"TS,CB'S HEAVY RAIN\",\"CB\"],[\"24\",27,44.0,25.333333333333332,\"W - Weather\",\"CB'S\",\"CB\"],[\"72\",-15,-19.0,40.666666666666664,\"W - Weather\",\"CB\",\"CB\"],[\"60\",-16,-25.0,34.0,\"W - Weather\",\"WIND DIRECTION\",\"Wind\"],[\"72\",-26,-16.0,43.0,\"W - Weather\",\"STRONG WINDS\",\"Wind\"],[\"24\",23,49.0,27.333333333333332,\"W - Weather\",\"CBs\",\"CB\"],[\"36\",4,26.0,30.666666666666668,\"W - Weather\",\"FORECAST CB\",\"CB\"],[\"48\",-38,4.0,22.666666666666668,\"W - Weather\",\"FORECAST CB\",\"CB\"],[\"60\",-17,-38.0,32.0,\"W - Weather\",\"FORECAST CB\",\"CB\"],[\"60\",-16,-26.0,32.333333333333336,\"W - Weather\",\"WIND DIRECTION\",\"Wind\"],[\"72\",-12,-16.0,37.0,\"W - Weather\",\"WIND DIRECTION\",\"Wind\"],[\"60\",-20,-33.0,34.0,\"W - Weather\",\"WIND DIRECTION/RWY CONFIG\",\"Wind\"],[\"72\",-18,-20.0,39.666666666666664,\"W - Weather\",\"TS\",\"None\"],[\"36\",-2,20.0,36.333333333333336,\"W - Weather\",\"Wind direction\",\"Wind\"],[\"60\",-13,-19.0,32.666666666666664,\"W - Weather\",\"Wind direction\",\"Wind\"],[\"72\",-25,-13.0,42.666666666666664,\"W - Weather\",\"CB'S\",\"CB\"],[\"60\",-17,-30.0,30.666666666666668,\"W - Weather\",\"WIND DIRECTION\",\"Wind\"],[\"84\",-10,-17.0,23.333333333333332,\"W - Weather\",\"CB'S\",\"CB\"],[\"72\",-28,-12.0,35.0,\"W - Weather\",\"cb\",\"CB\"],[\"60\",-22,-25.0,32.333333333333336,\"W - Weather\",\"CB\",\"CB\"],[\"72\",-17,-22.0,41.666666666666664,\"W - Weather\",\"STRONG WINDS AND RAIN\",\"Rain\"],[\"60\",-16,-25.0,31.666666666666668,\"W - Weather\",\"Cb's\",\"CB\"],[\"72\",-19,-16.0,35.0,\"W - Weather\",\"cb activity, reg ext\",\"CB\"],[\"72\",-17,-4.0,39.0,\"W - Weather\",\"CB's\",\"CB\"],[\"24\",12,37.0,22.333333333333332,\"W - Weather\",\"CB'S\",\"CB\"],[\"36\",5,12.0,31.666666666666668,\"W - Weather\",\"CB ACTIVITIES\",\"CB\"],[\"48\",-23,5.0,27.0,\"W - Weather\",\"CB ACTIVITIES\",\"CB\"],[\"84\",-7,-17.0,26.666666666666668,\"W - Weather\",\"RAIN\",\"Rain\"],[\"60\",-27,-33.0,30.333333333333332,\"W - Weather\",\"CB ACTIVITY\",\"CB\"],[\"84\",-7,-21.0,23.333333333333332,\"W - Weather\",\"CB activity\",\"CB\"],[\"48\",-37,14.0,26.0,\"W - Weather\",\"CB'S\",\"CB\"],[\"60\",-22,-37.0,32.0,\"W - Weather\",\"CB'S\",\"CB\"],[\"72\",-19,-22.0,37.333333333333336,\"W - Weather\",\"THUNDE3RSTORMS\",\"Thunder\"],[\"72\",-5,-6.0,37.333333333333336,\"W - Weather\",\"CBs\",\"CB\"],[\"84\",-18,-5.0,28.333333333333332,\"W - Weather\",\"CB activity\",\"CB\"],[\"60\",-11,-31.0,33.666666666666664,\"W - Weather\",\"CB\",\"CB\"],[\"72\",-24,-23.0,33.333333333333336,\"W - Weather\",\"CB's\",\"CB\"],[\"48\",-27,15.0,26.333333333333332,\"W - Weather\",\"CB\",\"CB\"],[\"60\",-24,-27.0,30.333333333333332,\"W - Weather\",\"CB ACTIVITY\",\"CB\"],[\"72\",-22,-24.0,36.333333333333336,\"W - Weather\",\"CB ACTIVITY\",\"CB\"],[\"84\",-9,-22.0,29.666666666666668,\"W - Weather\",\"CB ACTIVITY\",\"CB\"],[\"72\",-17,-14.0,38.666666666666664,\"W - Weather\",\"CB\",\"CB\"],[\"84\",-5,-17.0,32.0,\"W - Weather\",\"CB\",\"CB\"],[\"48\",-23,2.0,30.666666666666668,\"W - Weather\",\"CB ACT\",\"CB\"],[\"60\",-18,-23.0,32.333333333333336,\"W - Weather\",\"CB ACT\",\"CB\"],[\"72\",-9,-18.0,34.333333333333336,\"W - Weather\",\"CB ACT\",\"CB\"],[\"60\",-15,-22.0,33.333333333333336,\"W - Weather\",\"CBS\",\"CB\"],[\"72\",-16,-15.0,36.0,\"W - Weather\",\"CB\",\"CB\"],[\"84\",-13,-16.0,30.0,\"W - Weather\",\"CB ACTIVITY\",\"CB\"],[\"24\",21,40.0,24.333333333333332,\"W - Weather\",\"CB's\",\"CB\"],[\"60\",-8,-29.0,33.333333333333336,\"W - Weather\",\"CB's\",\"CB\"],[\"72\",-24,-8.0,35.0,\"W - Weather\",\"CB's\",\"CB\"],[\"36\",-3,22.0,37.333333333333336,\"W - Weather\",\"CB+TS\",\"CB\"],[\"72\",-12,-15.0,38.333333333333336,\"W - Weather\",\"cb`s\",\"CB\"],[\"84\",-9,-19.0,24.666666666666668,\"W - Weather\",\"cb's\",\"CB\"],[\"72\",-14,-19.0,35.333333333333336,\"W - Weather\",\"CB\",\"CB\"],[\"60\",-7,-35.0,33.666666666666664,\"W - Weather\",\"cb's\",\"CB\"],[\"72\",-8,-7.0,37.333333333333336,\"W - Weather\",\"cb\",\"CB\"],[\"12\",44,4.0,1.3333333333333333,\"W - Weather\",\"cb's\",\"CB\"],[\"72\",-23,-20.0,35.333333333333336,\"W - Weather\",\"CB\",\"CB\"],[\"24\",29,39.0,22.666666666666668,\"W - Weather\",\"cb'S\",\"CB\"],[\"48\",-26,7.0,29.333333333333332,\"W - Weather\",\"cb\",\"CB\"],[\"60\",-15,-26.0,34.0,\"W - Weather\",\"CB ACT\",\"CB\"],[\"72\",-18,-15.0,38.0,\"W - Weather\",\"CB ACT\",\"CB\"],[\"60\",-18,-35.0,31.333333333333332,\"W - Weather\",\"CB's\",\"CB\"],[\"72\",-23,-18.0,35.666666666666664,\"W - Weather\",\"CB'S\",\"CB\"],[\"84\",-10,-23.0,20.333333333333332,\"W - Weather\",\"CB ACTIVITY\",\"CB\"],[\"60\",-3,-17.0,29.333333333333332,\"W - Weather\",\"CB ACT\",\"CB\"],[\"72\",-11,-3.0,40.333333333333336,\"W - Weather\",\"CB ACTIVITY\",\"CB\"],[\"60\",-14,-27.0,31.666666666666668,\"W - Weather\",\"CB ACTIVITY\",\"CB\"],[\"72\",-11,-14.0,34.666666666666664,\"W - Weather\",\"CB ACTIVITY\",\"CB\"],[\"60\",-23,-38.0,33.666666666666664,\"W - Weather\",\"THUNDERSTORMS\",\"Thunder\"],[\"72\",-25,-23.0,38.333333333333336,\"W - Weather\",\"cb's\",\"CB\"],[\"48\",-29,-2.0,34.666666666666664,\"W - Weather\",\"CB ACTIVITY\",\"CB\"],[\"72\",-17,-18.0,40.666666666666664,\"W - Weather\",\"CB ACTVITY\",\"CB\"],[\"60\",-15,-34.0,34.333333333333336,\"W - Weather\",\"cb's\",\"CB\"],[\"84\",-6,-19.0,35.0,\"W - Weather\",\"CB REG EXTENDED WITH LOWER RATE\",\"CB\"],[\"72\",-15,-14.0,39.666666666666664,\"W - Weather\",\"CB\",\"CB\"],[\"84\",-12,-15.0,27.0,\"W - Weather\",\"cb\",\"CB\"],[\"72\",-4,-21.0,37.666666666666664,\"W - Weather\",\"cb's, reg extended\",\"CB\"],[\"60\",-11,-17.0,32.666666666666664,\"W - Weather\",\"CB ACTIVITY\",\"CB\"],[\"72\",-9,-11.0,38.666666666666664,\"W - Weather\",\"CB'S\",\"CB\"],[\"84\",-8,-9.0,31.333333333333332,\"W - Weather\",\"CB\",\"CB\"],[\"60\",-12,-34.0,33.333333333333336,\"W - Weather\",\"CB'S\",\"CB\"],[\"48\",-35,6.0,28.0,\"W - Weather\",\"STRONG WIND REG EXTENDED UNTIL 1400 AFTER CAPACITY\",\"Wind\"],[\"60\",-8,-35.0,32.666666666666664,\"W - Weather\",\"STRONG WIND REG EXTENDED UNTIL 1400 AFTER CAPACITY\",\"Wind\"],[\"60\",-22,-28.0,34.0,\"W - Weather\",\"CB'S\",\"CB\"],[\"36\",-1,26.0,36.666666666666664,\"W - Weather\",\"WIND DIRECTION\",\"Wind\"],[\"60\",-11,-26.0,35.666666666666664,\"W - Weather\",\"Avoiding traffic from ajacent acc\",\"None\"],[\"72\",-18,-11.0,39.666666666666664,\"W - Weather\",\"cb\",\"CB\"],[\"84\",-10,-18.0,36.333333333333336,\"W - Weather\",\"CB ACTIVITY\",\"CB\"],[\"72\",-20,-19.0,39.666666666666664,\"W - Weather\",\"CB'S\",\"CB\"],[\"84\",-10,-20.0,35.0,\"W - Weather\",\"CB'S\",\"CB\"],[\"60\",-15,-29.0,30.333333333333332,\"W - Weather\",\"CB ACTIVITY REG EXTENDED\",\"CB\"],[\"72\",-10,-15.0,32.666666666666664,\"W - Weather\",\"cb activities\",\"CB\"],[\"84\",-6,-10.0,25.666666666666668,\"W - Weather\",\"cb activities\",\"CB\"],[\"48\",-23,-1.0,26.333333333333332,\"W - Weather\",\"CB\",\"CB\"],[\"72\",-29,-12.0,35.0,\"W - Weather\",\"CBs\",\"CB\"],[\"36\",-3,27.0,39.0,\"W - Weather\",\"CB ACTIVITY REG EXTENDED\",\"CB\"],[\"48\",-32,-3.0,32.333333333333336,\"W - Weather\",\"CB ACTIVITY REG EXTENDED\",\"CB\"],[\"60\",-19,-32.0,32.333333333333336,\"W - Weather\",\"CB ACTIVITY REG EXTENDED\",\"CB\"],[\"72\",-13,-19.0,39.666666666666664,\"W - Weather\",\"CB ACTIVITY REG EXTENDED\",\"CB\"],[\"36\",-4,27.0,39.666666666666664,\"W - Weather\",\"CB\",\"CB\"],[\"48\",-41,-4.0,28.0,\"W - Weather\",\"CB\",\"CB\"],[\"60\",-18,-41.0,36.666666666666664,\"W - Weather\",\"CB\",\"CB\"],[\"72\",-25,-18.0,38.0,\"W - Weather\",\"CB's\",\"CB\"],[\"48\",-31,-1.0,30.666666666666668,\"W - Weather\",\"cb\",\"CB\"],[\"60\",-12,-31.0,35.666666666666664,\"W - Weather\",\"cb\",\"CB\"],[\"72\",-22,-12.0,39.0,\"W - Weather\",\"CB\",\"CB\"],[\"24\",27,47.0,27.0,\"W - Weather\",\"CB\",\"CB\"],[\"48\",-25,-2.0,33.333333333333336,\"W - Weather\",\"CB\",\"CB\"],[\"60\",-14,-25.0,33.333333333333336,\"W - Weather\",\"CB\",\"CB\"],[\"72\",-21,-14.0,42.0,\"W - Weather\",\"CB\",\"CB\"],[\"84\",-13,-9.0,33.666666666666664,\"W - Weather\",\"TS\",\"None\"],[\"60\",-7,-12.0,33.333333333333336,\"W - Weather\",\"TS\",\"None\"],[\"36\",7,36.0,37.0,\"W - Weather\",\"CB\",\"CB\"],[\"48\",-30,7.0,31.0,\"W - Weather\",\"CB\",\"CB\"]],\"hovertemplate\":\"reg_type=%{customdata[4]}<br>date_idx=%{x}<br>recovery_rate=%{y}<br>tw_idx=%{customdata[0]}<br>capacity_change=%{customdata[1]}<br>prev_capacity_change=%{customdata[2]}<br>prev_avg_capacity=%{customdata[3]}<br>reg_cause=%{customdata[5]}<br>reg_bool_type=%{customdata[6]}<extra></extra>\",\"legendgroup\":\"W - Weather\",\"marker\":{\"color\":\"#FFA15A\",\"symbol\":\"circle\"},\"mode\":\"markers\",\"name\":\"W - Weather\",\"showlegend\":true,\"x\":[\"2018-01-02\",\"2018-01-02\",\"2018-01-03\",\"2018-01-03\",\"2018-01-03\",\"2018-01-04\",\"2018-01-04\",\"2018-01-04\",\"2018-01-05\",\"2018-01-08\",\"2018-01-08\",\"2018-01-08\",\"2018-01-08\",\"2018-01-08\",\"2018-01-09\",\"2018-01-09\",\"2018-01-10\",\"2018-01-10\",\"2018-01-10\",\"2018-01-12\",\"2018-01-13\",\"2018-01-13\",\"2018-01-13\",\"2018-01-15\",\"2018-01-16\",\"2018-01-16\",\"2018-01-17\",\"2018-01-17\",\"2018-01-17\",\"2018-01-18\",\"2018-01-18\",\"2018-01-19\",\"2018-01-22\",\"2018-01-23\",\"2018-01-24\",\"2018-01-24\",\"2018-01-27\",\"2018-01-29\",\"2018-02-02\",\"2018-02-02\",\"2018-02-03\",\"2018-02-03\",\"2018-02-03\",\"2018-02-03\",\"2018-02-04\",\"2018-02-04\",\"2018-02-05\",\"2018-02-05\",\"2018-02-05\",\"2018-02-07\",\"2018-02-07\",\"2018-02-07\",\"2018-02-11\",\"2018-02-11\",\"2018-02-11\",\"2018-02-11\",\"2018-02-12\",\"2018-02-13\",\"2018-02-14\",\"2018-02-14\",\"2018-02-14\",\"2018-02-15\",\"2018-02-15\",\"2018-02-15\",\"2018-02-16\",\"2018-02-16\",\"2018-02-17\",\"2018-02-19\",\"2018-02-21\",\"2018-02-22\",\"2018-02-23\",\"2018-02-24\",\"2018-02-24\",\"2018-02-24\",\"2018-02-25\",\"2018-02-25\",\"2018-02-25\",\"2018-02-25\",\"2018-02-26\",\"2018-02-26\",\"2018-02-26\",\"2018-02-26\",\"2018-02-26\",\"2018-02-27\",\"2018-02-28\",\"2018-02-28\",\"2018-02-28\",\"2018-03-01\",\"2018-03-01\",\"2018-03-01\",\"2018-03-01\",\"2018-03-01\",\"2018-03-01\",\"2018-03-02\",\"2018-03-02\",\"2018-03-03\",\"2018-03-03\",\"2018-03-03\",\"2018-03-03\",\"2018-03-03\",\"2018-03-03\",\"2018-03-03\",\"2018-03-04\",\"2018-03-06\",\"2018-03-06\",\"2018-03-07\",\"2018-03-08\",\"2018-03-09\",\"2018-03-10\",\"2018-03-10\",\"2018-03-10\",\"2018-03-10\",\"2018-03-10\",\"2018-03-11\",\"2018-03-11\",\"2018-03-11\",\"2018-03-11\",\"2018-03-11\",\"2018-03-12\",\"2018-03-12\",\"2018-03-13\",\"2018-03-13\",\"2018-03-14\",\"2018-03-14\",\"2018-03-18\",\"2018-03-18\",\"2018-03-18\",\"2018-03-19\",\"2018-03-21\",\"2018-03-21\",\"2018-03-26\",\"2018-03-26\",\"2018-03-26\",\"2018-03-28\",\"2018-04-04\",\"2018-04-04\",\"2018-04-05\",\"2018-04-05\",\"2018-04-06\",\"2018-04-10\",\"2018-04-11\",\"2018-04-12\",\"2018-04-13\",\"2018-04-17\",\"2018-04-17\",\"2018-04-18\",\"2018-04-21\",\"2018-04-22\",\"2018-04-23\",\"2018-04-23\",\"2018-04-25\",\"2018-04-25\",\"2018-04-26\",\"2018-04-29\",\"2018-04-29\",\"2018-04-29\",\"2018-04-30\",\"2018-04-30\",\"2018-05-03\",\"2018-05-03\",\"2018-05-04\",\"2018-05-04\",\"2018-05-04\",\"2018-05-05\",\"2018-05-05\",\"2018-05-06\",\"2018-05-07\",\"2018-05-07\",\"2018-05-08\",\"2018-05-08\",\"2018-05-09\",\"2018-05-10\",\"2018-05-11\",\"2018-05-11\",\"2018-05-11\",\"2018-05-12\",\"2018-05-12\",\"2018-05-13\",\"2018-05-13\",\"2018-05-13\",\"2018-05-15\",\"2018-05-15\",\"2018-05-16\",\"2018-05-19\",\"2018-05-20\",\"2018-05-20\",\"2018-05-20\",\"2018-05-20\",\"2018-05-21\",\"2018-05-21\",\"2018-05-22\",\"2018-05-22\",\"2018-05-22\",\"2018-05-23\",\"2018-05-23\",\"2018-05-23\",\"2018-05-24\",\"2018-05-24\",\"2018-05-24\",\"2018-05-25\",\"2018-05-25\",\"2018-05-26\",\"2018-05-27\",\"2018-05-28\",\"2018-05-28\",\"2018-05-29\",\"2018-05-29\",\"2018-05-30\",\"2018-05-30\",\"2018-05-30\",\"2018-05-30\",\"2018-05-31\",\"2018-05-31\",\"2018-05-31\",\"2018-06-01\",\"2018-06-01\",\"2018-06-02\",\"2018-06-02\",\"2018-06-03\",\"2018-06-03\",\"2018-06-04\",\"2018-06-04\",\"2018-06-05\",\"2018-06-05\",\"2018-06-06\",\"2018-06-06\",\"2018-06-07\",\"2018-06-08\",\"2018-06-08\",\"2018-06-08\",\"2018-06-09\",\"2018-06-10\",\"2018-06-10\",\"2018-06-12\",\"2018-06-13\",\"2018-06-13\",\"2018-06-13\",\"2018-06-13\",\"2018-06-14\",\"2018-06-14\",\"2018-06-16\",\"2018-06-16\",\"2018-06-16\",\"2018-06-17\",\"2018-06-17\",\"2018-06-18\",\"2018-06-18\",\"2018-06-18\",\"2018-06-18\",\"2018-06-19\",\"2018-06-19\",\"2018-06-19\",\"2018-06-19\",\"2018-06-21\",\"2018-06-21\",\"2018-06-21\",\"2018-06-22\",\"2018-06-22\",\"2018-06-22\",\"2018-06-22\",\"2018-06-27\",\"2018-06-29\",\"2018-06-30\",\"2018-06-30\"],\"xaxis\":\"x\",\"y\":[1.2810167906620034,1.4417969614626702,1.7418933981083584,1.1441732734763228,1.5745537343339444,2.6801932879127315,1.7327906880877626,1.328485160501343,1.7372819010858485,3.350728391656842,1.7104024489382692,1.9596874980254302,2.562998551372218,1.777754296300784,4.677255508410028,1.962124051493444,2.940441224404127,1.768127775846662,0.7587615302643972,3.4071968662721352,2.570153124109337,1.5819722640795006,1.0823751012946892,1.6025003513968392,1.8383501115713363,2.7301331695759563,1.5019076797589275,0.13037279052652345,0.4141968501317387,3.73066692555385,1.940027596610458,1.6692755823257253,2.385588144469881,2.6652569733893827,4.81703169137636,3.5956564319303363,1.724119396978574,2.1409152778150355,1.804153143868317,1.469923055733884,4.508521617937517,2.404564308317741,2.033867098904965,1.0584475403525662,2.0532347795676853,1.778315762132021,1.9975681673980181,2.4534438846658264,1.6935108988020307,4.007283814789825,-2.5043565760662174,0.8062463773487512,3.9213139112528212,2.8181381904649623,3.587480594643506,1.9556641941304675,1.4816998210014392,1.8868908502347979,2.4192605314107896,2.354555510076378,1.4294813389245977,3.60126131923726,1.3387901361886372,0.8141479711956939,2.3833353954195733,1.1725988145485344,-1.548919447122807,1.2247065233543108,1.6184973108077074,1.1401338542559925,1.598906544752212,3.1389111113591914,3.2414238302399148,1.8482404363914526,2.0251916888669035,2.1943541576804626,2.094265284357474,1.375167883632198,3.5142555607159425,1.905254072007294,2.5898507171221907,1.4899606398258325,1.394085208500662,2.8013455885302223,2.20912721894181,1.5378188491748146,1.3908539854687143,4.7418628947057275,2.1834585767921646,2.513030730766756,1.6925630081583416,1.7652152349508687,1.367524608828554,1.5619758705109459,1.2200505806305857,0.7032511921237765,2.4413686083063513,2.6132917892918965,1.6338386232317732,2.2742323047021347,1.7318960814264404,-2.5336707712658164,1.9814616576396187,1.835807922328533,1.3214505563696815,0.9017349862682412,2.689554121786405,1.1089448372852238,1.261248549243766,2.023024481455297,2.6112556066312473,2.117201998035111,1.1989322771903,0.9231403042846209,2.9473301754142724,2.9938132325578013,2.528274492556592,1.2848285848392194,0.9340483547981594,2.1439037598346498,2.888224777012734,2.487771240147308,3.3893705300099386,2.643943714535628,1.035967791470398,1.143466400255787,1.4218797846257207,1.9403673338233187,2.2633603029173974,2.5107284687894804,2.064422575918821,1.1946393014076127,1.5713709200611463,1.4372736572743996,1.5111064399175147,2.0312454640422204,2.0300251113249477,1.8606448800547366,1.7161445885225548,1.843519349325764,1.561171127340574,1.616179288483728,1.3182895364453076,2.0696699869844815,2.4030763555327863,1.5934567753594533,2.9159236506430526,1.4695394224499936,2.0193027869892806,2.2544928587654067,2.514135955839685,2.633032724656551,1.7710451719391753,1.9950861096306658,3.0655553934096953,3.039795045088365,2.9935041892795837,1.3737375966240297,2.0341780134347345,3.0140061774751277,1.4268021102861748,2.440682761084328,1.5692304518415807,3.170564200281052,1.451345634781498,2.185660364518087,2.64656735470571,3.1223984118655386,2.185909782685603,1.7649950636121186,1.2252235839254293,1.5138776655069348,1.648162772694663,2.9400300300983093,1.9993326143998396,2.5003104877093345,1.2549677041303722,1.4003173924163856,0.15117352047242089,0.3602318700142644,1.0248412985392765,1.6825820139058707,1.0190881429612837,0.2124930619752189,1.1910540571630748,2.8623716076138974,1.2169637988950583,1.6135007424648489,1.406233077309437,-3.9963788423628888,2.952049439380477,1.2955276384284578,1.3345818318008182,1.1887754550698102,0.2982122687558142,1.3719485934738138,1.422922193959532,1.3932343157890734,-0.649319020208597,1.3306686208450353,1.6747748284264412,1.425572048763319,1.439292995202534,2.1873775662549746,2.0268727697812974,1.9211582046792697,1.2547412589696316,1.948598222085388,1.1222461566914315,2.2458490880461244,1.266248875562377,-0.306890296827994,0.1652406817150348,1.2328550954148945,2.6773514477577223,1.4623295504449245,3.0637476153163994,1.4394581438262637,2.674897175837905,1.8481275633176113,1.2305995373896905,2.309227104431676,3.2406775733583673,1.6853314832183703,0.5285282601790842,1.878099065763932,1.0310497684657705,0.4607021255494514,0.5154377271333098,1.1452624631182613,1.7014249043687082,1.08363528320459,1.9739243293664028,-0.21594458181479767,1.2816083160224012,2.0866743035616326,1.7933905680038629,-3.1006594951921658,1.692138442748753,2.262878908874817,1.6811907989202184,2.844126673005756,1.5969190683671601,1.9083499599683573,1.1828525582828582,1.3275313083363296,1.352728022971193,1.5714013930997288,2.0564257535561223,1.4709537273950135,1.801651093227424,1.84385860846086,1.705865248692164,1.6559408890139329,1.6474063089618638,1.0828310888697872,1.4102974331942977,1.49692582226026,1.8528857656801352,1.638161082310336,1.7125117392926759,2.3105883605623716,1.1648233320524268,1.5432291171995474],\"yaxis\":\"y\",\"type\":\"scattergl\"},{\"alignmentgroup\":\"True\",\"customdata\":[[\"48\",-24,-10.0,23.333333333333332,\"W - Weather\",\"LVP.\",\"None\"],[\"72\",5,12.0,28.666666666666668,\"W - Weather\",\"LVP.\",\"None\"],[\"24\",11,12.0,7.666666666666667,\"W - Weather\",\"WIND GUSTS/RATE REDUCED/REGUL EXTENDED\",\"Wind\"],[\"36\",-11,11.0,22.0,\"W - Weather\",\"WIND GUSTS/RATE REDUCED/REGUL EXTENDED\",\"Wind\"],[\"48\",-5,-11.0,25.0,\"W - Weather\",\"WIND GUSTS/RATE REDUCED/REGUL EXTENDED\",\"Wind\"],[\"60\",15,-11.0,28.0,\"W - Weather\",\"WIND\",\"Wind\"],[\"72\",-2,15.0,28.333333333333332,\"W - Weather\",\"strong winds\",\"Wind\"],[\"84\",-11,-2.0,25.0,\"W - Weather\",\"WIND\",\"Wind\"],[\"48\",-17,-17.0,26.666666666666668,\"W - Weather\",\"STRONG WIND\",\"Wind\"],[\"24\",-11,9.0,7.666666666666667,\"W - Weather\",\"FOG Reg extended\",\"Fog\"],[\"36\",-30,-11.0,32.0,\"W - Weather\",\"FOG Reg extended\",\"Fog\"],[\"48\",-11,-30.0,32.666666666666664,\"W - Weather\",\"LVP reg.ext.\",\"None\"],[\"60\",14,-11.0,33.0,\"W - Weather\",\"storm\",\"None\"],[\"72\",2,14.0,32.0,\"W - Weather\",\"lvp\",\"None\"],[\"24\",-9,12.0,8.333333333333334,\"W - Weather\",\"fog reg. ext. RVR 700mt\",\"Fog\"],[\"36\",-26,-9.0,35.333333333333336,\"W - Weather\",\"fog reg. ext. RVR 700mt\",\"Fog\"],[\"36\",-18,-14.0,33.666666666666664,\"W - Weather\",\"lvp\",\"None\"],[\"48\",-22,-18.0,30.666666666666668,\"W - Weather\",\"lvp\",\"None\"],[\"72\",7,15.0,33.0,\"W - Weather\",\"LOW VISIBILITY\",\"Fog\"],[\"24\",-4,11.0,9.333333333333334,\"W - Weather\",\"Low vis\",\"Fog\"],[\"36\",-27,-3.0,31.0,\"W - Weather\",\"STRONG WIND REG EXTENDED\",\"Wind\"],[\"72\",-4,11.0,24.666666666666668,\"W - Weather\",\"STRONG WINDS\",\"Wind\"],[\"84\",-6,-4.0,19.666666666666668,\"W - Weather\",\"STRONG WINDS\",\"Wind\"],[\"84\",-11,14.0,36.0,\"W - Weather\",\"LOW VISIBILITY\",\"Fog\"],[\"36\",-25,-16.0,34.333333333333336,\"W - Weather\",\"L.V.P.//FOG//REDUCED RATE\",\"Fog\"],[\"48\",-17,-25.0,28.0,\"W - Weather\",\"WINDS\",\"Wind\"],[\"60\",7,-12.0,31.0,\"W - Weather\",\"STRONG WINDS EXPECTED REGULATION EXTENDED\",\"Wind\"],[\"72\",6,7.0,34.666666666666664,\"W - Weather\",\"STRONG WINDS EXPECTED REGULATION EXTENDED\",\"Wind\"],[\"84\",-19,6.0,35.333333333333336,\"W - Weather\",\"STRONG WINDS EXPECTED REGULATION EXTENDED\",\"Wind\"],[\"36\",-28,-12.0,33.666666666666664,\"W - Weather\",\"FORECAST CB ACTIVITY\",\"CB\"],[\"72\",-5,16.0,33.666666666666664,\"W - Weather\",\"RWY CONFIGURATION (WIND)\",\"Wind\"],[\"48\",-9,-24.0,29.0,\"W - Weather\",\"WIND DIRECTION\",\"Wind\"],[\"84\",-20,-10.0,37.0,\"W - Weather\",\"strong winds\",\"Wind\"],[\"48\",-20,-33.0,27.666666666666668,\"W - Weather\",\"snow\",\"Snow\"],[\"24\",-15,15.0,8.333333333333334,\"W - Weather\",\"SNOW\",\"Snow\"],[\"60\",23,-16.0,33.333333333333336,\"W - Weather\",\"SNOW\",\"Snow\"],[\"72\",0,10.0,27.0,\"W - Weather\",\"TURBULENCE\",\"None\"],[\"72\",6,11.0,34.333333333333336,\"W - Weather\",\"LVP/RATE INCREASED/REGUL EXTENDED\",\"None\"],[\"72\",12,8.0,31.666666666666668,\"W - Weather\",\"RWY CONFIGURATION - STRONG WINDS\",\"Wind\"],[\"84\",-14,12.0,34.0,\"W - Weather\",\"RWY CONFIGURATION - STRONG WINDS\",\"Wind\"],[\"24\",-10,14.0,6.666666666666667,\"W - Weather\",\"STRONG WIND\",\"Wind\"],[\"36\",-32,-10.0,29.333333333333332,\"W - Weather\",\"STRONG WIND\",\"Wind\"],[\"48\",-15,-32.0,28.666666666666668,\"W - Weather\",\"STRONG WIND\",\"Wind\"],[\"72\",-2,9.0,27.0,\"W - Weather\",\"STRONG WIND\",\"Wind\"],[\"36\",-27,4.0,21.0,\"W - Weather\",\"strong winds\",\"Wind\"],[\"48\",-18,-27.0,24.0,\"W - Weather\",\"strong winds\",\"Wind\"],[\"36\",-28,-16.0,37.333333333333336,\"W - Weather\",\"WIND DIRECTION\",\"Wind\"],[\"60\",14,-14.0,35.333333333333336,\"W - Weather\",\"snow/winds after 1400z REG ENDS EARLIER\",\"Snow\"],[\"72\",4,14.0,32.666666666666664,\"W - Weather\",\"snow/winds after 1400z REG ENDS EARLIER\",\"Snow\"],[\"24\",-12,14.0,8.666666666666666,\"W - Weather\",\"SNOW  / REGULATION EXTENDED/ rate INCREASED\",\"Snow\"],[\"48\",-17,-26.0,30.333333333333332,\"W - Weather\",\"SNOW/REG EXTENDED\",\"Snow\"],[\"84\",-11,-1.0,26.0,\"W - Weather\",\"SNOW  / REGULATION EXTENDED/ rate INCREASED\",\"Snow\"],[\"24\",13,10.0,7.0,\"W - Weather\",\"strong winds\",\"Wind\"],[\"36\",-18,13.0,22.666666666666668,\"W - Weather\",\"LVP\",\"None\"],[\"60\",6,-10.0,29.0,\"W - Weather\",\"STRONG WIND\",\"Wind\"],[\"72\",5,6.0,31.0,\"W - Weather\",\"SNOW\",\"Snow\"],[\"84\",-14,12.0,36.0,\"W - Weather\",\"CB ACTIVITY\",\"CB\"],[\"60\",13,-19.0,32.333333333333336,\"W - Weather\",\"WIND DIRECTION\",\"Wind\"],[\"48\",-17,-25.0,31.666666666666668,\"W - Weather\",\"LVP\",\"None\"],[\"72\",12,17.0,35.333333333333336,\"W - Weather\",\"LVP\",\"None\"],[\"84\",-12,12.0,36.333333333333336,\"W - Weather\",\"LVP\",\"None\"],[\"24\",-12,14.0,8.333333333333334,\"W - Weather\",\"LOW VISIBILITY\",\"Fog\"],[\"48\",-7,-25.0,32.333333333333336,\"W - Weather\",\"LVP Rate increased\",\"None\"],[\"72\",12,9.0,35.0,\"W - Weather\",\"LVP Rate increased\",\"None\"],[\"36\",-33,-9.0,35.666666666666664,\"W - Weather\",\"FOG\",\"Fog\"],[\"72\",3,19.0,37.0,\"W - Weather\",\"low ceiling\",\"None\"],[\"36\",-21,1.0,33.333333333333336,\"W - Weather\",\"LVP\",\"None\"],[\"72\",1,11.0,32.666666666666664,\"W - Weather\",\"low ceilings\",\"None\"],[\"72\",9,15.0,36.0,\"W - Weather\",\"WIND DIRECTION\",\"Wind\"],[\"72\",8,13.0,32.0,\"W - Weather\",\"WIND DIRECTION\",\"Wind\"],[\"48\",-11,-24.0,31.0,\"W - Weather\",\"wind direction\",\"Wind\"],[\"48\",-11,-33.0,29.333333333333332,\"W - Weather\",\"WIND DIRECTION\",\"Wind\"],[\"60\",12,-11.0,28.666666666666668,\"W - Weather\",\"WIND DIRECTION\",\"Wind\"],[\"72\",-9,12.0,29.333333333333332,\"W - Weather\",\"strong winds\",\"Wind\"],[\"48\",-16,-29.0,26.0,\"W - Weather\",\"STORM reg extended\",\"None\"],[\"60\",11,-16.0,28.666666666666668,\"W - Weather\",\"wind direction\",\"Wind\"],[\"72\",0,11.0,33.333333333333336,\"W - Weather\",\"STORM reg extended\",\"None\"],[\"84\",-10,0.0,37.333333333333336,\"W - Weather\",\"STORM reg extended\",\"None\"],[\"24\",-11,11.0,8.0,\"W - Weather\",\"SNOW\",\"Snow\"],[\"36\",-30,-11.0,34.333333333333336,\"W - Weather\",\"wind direction\",\"Wind\"],[\"48\",-7,-30.0,31.333333333333332,\"W - Weather\",\"wind direction\",\"Wind\"],[\"72\",2,13.0,30.333333333333332,\"W - Weather\",\"Wind direction\",\"Wind\"],[\"84\",-15,2.0,35.333333333333336,\"W - Weather\",\"heavy rain Reg extended\",\"Rain\"],[\"48\",-10,-35.0,30.333333333333332,\"W - Weather\",\"WIND DIRECTION\",\"Wind\"],[\"60\",3,-5.0,31.666666666666668,\"W - Weather\",\"rain , snow and strong wind/shortened\",\"Snow\"],[\"72\",4,3.0,33.666666666666664,\"W - Weather\",\"FORECAST SNOW SHOWERS\",\"Snow\"],[\"84\",-16,4.0,36.0,\"W - Weather\",\"forecast Snowfall.\",\"Snow\"],[\"24\",-7,8.0,7.333333333333333,\"W - Weather\",\"SNOW. REGULATION EXTENDED.\",\"Snow\"],[\"36\",-32,-7.0,30.333333333333332,\"W - Weather\",\"SNOW. REGULATION EXTENDED.\",\"Snow\"],[\"48\",2,-32.0,32.666666666666664,\"W - Weather\",\"SNOW. REGULATION EXTENDED.\",\"Snow\"],[\"60\",11,2.0,33.333333333333336,\"W - Weather\",\"SNOW. REGULATION EXTENDED.\",\"Snow\"],[\"72\",10,11.0,30.0,\"W - Weather\",\"SNOW. REGULATION EXTENDED.\",\"Snow\"],[\"84\",-15,10.0,33.0,\"W - Weather\",\"SNOW, 0-RATE 0400-1100 Reg extended.\",\"Snow\"],[\"72\",9,13.0,31.0,\"W - Weather\",\"strong wind\",\"Wind\"],[\"84\",-13,9.0,33.666666666666664,\"W - Weather\",\"strong wind\",\"Wind\"],[\"12\",8,-1.0,0.3333333333333333,\"W - Weather\",\"snow\",\"Snow\"],[\"24\",-5,8.0,6.333333333333333,\"W - Weather\",\"snow\",\"Snow\"],[\"36\",-22,-5.0,28.666666666666668,\"W - Weather\",\"snow\",\"Snow\"],[\"48\",-10,-22.0,29.666666666666668,\"W - Weather\",\"snow\",\"Snow\"],[\"60\",12,-10.0,30.0,\"W - Weather\",\"SNOW FALL//REDUCED RATE\",\"Snow\"],[\"72\",4,12.0,29.0,\"W - Weather\",\"SNOW FALL//REDUCED RATE\",\"Snow\"],[\"84\",-5,4.0,27.0,\"W - Weather\",\"SNOW FALL//REDUCED RATE\",\"Snow\"],[\"36\",-27,2.0,22.0,\"W - Weather\",\"STRONG WINDS - RWY CONFIG\",\"Wind\"],[\"72\",8,13.0,33.333333333333336,\"W - Weather\",\"RWY CONF. DUE WIND DIRECTION\",\"Wind\"],[\"84\",-14,8.0,34.0,\"W - Weather\",\"RWY CONF. DUE WIND DIRECTION\",\"Wind\"],[\"12\",14,-1.0,0.3333333333333333,\"W - Weather\",\"wind rwy config\",\"Wind\"],[\"36\",-32,-14.0,35.666666666666664,\"W - Weather\",\"CBs\",\"CB\"],[\"48\",4,-26.0,34.0,\"W - Weather\",\"LOW CLOUDS, regulation extended\",\"None\"],[\"36\",-34,-7.0,34.666666666666664,\"W - Weather\",\"a/d capacity reason after 1700 UTC: low visibility\",\"Fog\"],[\"48\",-14,-34.0,28.333333333333332,\"W - Weather\",\"a/d capacity reason after 1700 UTC: low visibility\",\"Fog\"],[\"60\",7,-14.0,31.666666666666668,\"W - Weather\",\"a/d capacity reason after 1700 UTC: low visibility\",\"Fog\"],[\"72\",-10,7.0,26.666666666666668,\"W - Weather\",\"a/d capacity reason after 1700 UTC: low visibility\",\"Fog\"],[\"84\",-4,-10.0,26.666666666666668,\"W - Weather\",\"a/d capacity reason after 1700 UTC: low visibility\",\"Fog\"],[\"12\",11,0.0,0.0,\"W - Weather\",\"FROM 1700 REASON A/D CAPACITY.\",\"None\"],[\"24\",3,11.0,7.0,\"W - Weather\",\"FROM 1700 REASON A/D CAPACITY.\",\"None\"],[\"36\",-27,3.0,21.0,\"W - Weather\",\"FROM 1700 REASON A/D CAPACITY.\",\"None\"],[\"48\",-18,-27.0,26.0,\"W - Weather\",\"FROM 1700 REASON A/D CAPACITY.\",\"None\"],[\"84\",-12,-3.0,36.333333333333336,\"W - Weather\",\"FROM 1700 REASON A/D CAPACITY.\",\"None\"],[\"12\",16,0.0,0.0,\"W - Weather\",\"Fog\",\"Fog\"],[\"60\",17,-14.0,35.0,\"W - Weather\",\"CB\",\"CB\"],[\"60\",9,-19.0,34.666666666666664,\"W - Weather\",\"CB\",\"CB\"],[\"72\",9,9.0,35.666666666666664,\"W - Weather\",\"WIND DIRECTION\",\"Wind\"],[\"24\",-20,13.0,8.0,\"W - Weather\",\"LOW VIS\",\"Fog\"],[\"48\",-14,-35.0,33.666666666666664,\"W - Weather\",\"TURBULENCE\",\"None\"],[\"60\",4,20.0,23.333333333333332,\"W - Weather\",\"WIND DIRECTION.\",\"Wind\"],[\"72\",2,4.0,29.0,\"W - Weather\",\"WIND DIRECTION.\",\"Wind\"],[\"84\",-20,2.0,33.666666666666664,\"W - Weather\",\"WIND DIRECTION.\",\"Wind\"],[\"24\",-6,12.0,8.0,\"W - Weather\",\"SNOW\",\"Snow\"],[\"36\",-25,-16.0,36.333333333333336,\"W - Weather\",\"SNOW\",\"Snow\"],[\"60\",9,-9.0,34.0,\"W - Weather\",\"Wind direction\",\"Wind\"],[\"60\",-7,-21.0,32.0,\"W - Weather\",\"STRONG WIND.\",\"Wind\"],[\"72\",-18,-7.0,38.333333333333336,\"W - Weather\",\"STRONG WIND.\",\"Wind\"],[\"84\",-5,-18.0,29.0,\"W - Weather\",\"STRONG WIND.\",\"Wind\"],[\"72\",-13,-11.0,40.333333333333336,\"W - Weather\",\"CB/s\",\"CB\"],[\"24\",22,39.0,23.666666666666668,\"W - Weather\",\"snow and expectation of freezing rain\",\"Snow\"],[\"72\",-19,-10.0,40.0,\"W - Weather\",\"STORMS IN BARCELONA TMA\",\"None\"],[\"24\",20,38.0,22.666666666666668,\"W - Weather\",\"LVP.\",\"None\"],[\"72\",-19,-15.0,37.666666666666664,\"W - Weather\",\"WIND DIRECTION\",\"Wind\"],[\"36\",3,27.0,34.666666666666664,\"W - Weather\",\"wind direction\",\"Wind\"],[\"72\",-14,-4.0,28.333333333333332,\"W - Weather\",\"Towering CB's\",\"CB\"],[\"72\",-22,-8.0,43.0,\"W - Weather\",\"Wind direction\",\"Wind\"],[\"24\",19,48.0,26.333333333333332,\"W - Weather\",\"LOW VIS, LOW CLOUDBASE, RAIN\",\"Fog\"],[\"60\",-19,-23.0,30.666666666666668,\"W - Weather\",\"WIND DIRECTION\",\"Wind\"],[\"24\",27,45.0,26.333333333333332,\"W - Weather\",\"FOG,LVP\",\"Fog\"],[\"72\",-14,-17.0,38.0,\"W - Weather\",\"wind\",\"Wind\"],[\"72\",-19,-19.0,40.666666666666664,\"W - Weather\",\"WIND DIRECTION/regul extended\",\"Wind\"],[\"84\",-4,-26.0,23.666666666666668,\"W - Weather\",\"TS\",\"None\"],[\"84\",-7,-32.0,32.333333333333336,\"W - Weather\",\"TS,CB'S HEAVY RAIN\",\"CB\"],[\"24\",27,44.0,25.333333333333332,\"W - Weather\",\"CB'S\",\"CB\"],[\"72\",-15,-19.0,40.666666666666664,\"W - Weather\",\"CB\",\"CB\"],[\"60\",-16,-25.0,34.0,\"W - Weather\",\"WIND DIRECTION\",\"Wind\"],[\"72\",-26,-16.0,43.0,\"W - Weather\",\"STRONG WINDS\",\"Wind\"],[\"24\",23,49.0,27.333333333333332,\"W - Weather\",\"CBs\",\"CB\"],[\"36\",4,26.0,30.666666666666668,\"W - Weather\",\"FORECAST CB\",\"CB\"],[\"48\",-38,4.0,22.666666666666668,\"W - Weather\",\"FORECAST CB\",\"CB\"],[\"60\",-17,-38.0,32.0,\"W - Weather\",\"FORECAST CB\",\"CB\"],[\"60\",-16,-26.0,32.333333333333336,\"W - Weather\",\"WIND DIRECTION\",\"Wind\"],[\"72\",-12,-16.0,37.0,\"W - Weather\",\"WIND DIRECTION\",\"Wind\"],[\"60\",-20,-33.0,34.0,\"W - Weather\",\"WIND DIRECTION/RWY CONFIG\",\"Wind\"],[\"72\",-18,-20.0,39.666666666666664,\"W - Weather\",\"TS\",\"None\"],[\"36\",-2,20.0,36.333333333333336,\"W - Weather\",\"Wind direction\",\"Wind\"],[\"60\",-13,-19.0,32.666666666666664,\"W - Weather\",\"Wind direction\",\"Wind\"],[\"72\",-25,-13.0,42.666666666666664,\"W - Weather\",\"CB'S\",\"CB\"],[\"60\",-17,-30.0,30.666666666666668,\"W - Weather\",\"WIND DIRECTION\",\"Wind\"],[\"84\",-10,-17.0,23.333333333333332,\"W - Weather\",\"CB'S\",\"CB\"],[\"72\",-28,-12.0,35.0,\"W - Weather\",\"cb\",\"CB\"],[\"60\",-22,-25.0,32.333333333333336,\"W - Weather\",\"CB\",\"CB\"],[\"72\",-17,-22.0,41.666666666666664,\"W - Weather\",\"STRONG WINDS AND RAIN\",\"Rain\"],[\"60\",-16,-25.0,31.666666666666668,\"W - Weather\",\"Cb's\",\"CB\"],[\"72\",-19,-16.0,35.0,\"W - Weather\",\"cb activity, reg ext\",\"CB\"],[\"72\",-17,-4.0,39.0,\"W - Weather\",\"CB's\",\"CB\"],[\"24\",12,37.0,22.333333333333332,\"W - Weather\",\"CB'S\",\"CB\"],[\"36\",5,12.0,31.666666666666668,\"W - Weather\",\"CB ACTIVITIES\",\"CB\"],[\"48\",-23,5.0,27.0,\"W - Weather\",\"CB ACTIVITIES\",\"CB\"],[\"84\",-7,-17.0,26.666666666666668,\"W - Weather\",\"RAIN\",\"Rain\"],[\"60\",-27,-33.0,30.333333333333332,\"W - Weather\",\"CB ACTIVITY\",\"CB\"],[\"84\",-7,-21.0,23.333333333333332,\"W - Weather\",\"CB activity\",\"CB\"],[\"48\",-37,14.0,26.0,\"W - Weather\",\"CB'S\",\"CB\"],[\"60\",-22,-37.0,32.0,\"W - Weather\",\"CB'S\",\"CB\"],[\"72\",-19,-22.0,37.333333333333336,\"W - Weather\",\"THUNDE3RSTORMS\",\"Thunder\"],[\"72\",-5,-6.0,37.333333333333336,\"W - Weather\",\"CBs\",\"CB\"],[\"84\",-18,-5.0,28.333333333333332,\"W - Weather\",\"CB activity\",\"CB\"],[\"60\",-11,-31.0,33.666666666666664,\"W - Weather\",\"CB\",\"CB\"],[\"72\",-24,-23.0,33.333333333333336,\"W - Weather\",\"CB's\",\"CB\"],[\"48\",-27,15.0,26.333333333333332,\"W - Weather\",\"CB\",\"CB\"],[\"60\",-24,-27.0,30.333333333333332,\"W - Weather\",\"CB ACTIVITY\",\"CB\"],[\"72\",-22,-24.0,36.333333333333336,\"W - Weather\",\"CB ACTIVITY\",\"CB\"],[\"84\",-9,-22.0,29.666666666666668,\"W - Weather\",\"CB ACTIVITY\",\"CB\"],[\"72\",-17,-14.0,38.666666666666664,\"W - Weather\",\"CB\",\"CB\"],[\"84\",-5,-17.0,32.0,\"W - Weather\",\"CB\",\"CB\"],[\"48\",-23,2.0,30.666666666666668,\"W - Weather\",\"CB ACT\",\"CB\"],[\"60\",-18,-23.0,32.333333333333336,\"W - Weather\",\"CB ACT\",\"CB\"],[\"72\",-9,-18.0,34.333333333333336,\"W - Weather\",\"CB ACT\",\"CB\"],[\"60\",-15,-22.0,33.333333333333336,\"W - Weather\",\"CBS\",\"CB\"],[\"72\",-16,-15.0,36.0,\"W - Weather\",\"CB\",\"CB\"],[\"84\",-13,-16.0,30.0,\"W - Weather\",\"CB ACTIVITY\",\"CB\"],[\"24\",21,40.0,24.333333333333332,\"W - Weather\",\"CB's\",\"CB\"],[\"60\",-8,-29.0,33.333333333333336,\"W - Weather\",\"CB's\",\"CB\"],[\"72\",-24,-8.0,35.0,\"W - Weather\",\"CB's\",\"CB\"],[\"36\",-3,22.0,37.333333333333336,\"W - Weather\",\"CB+TS\",\"CB\"],[\"72\",-12,-15.0,38.333333333333336,\"W - Weather\",\"cb`s\",\"CB\"],[\"84\",-9,-19.0,24.666666666666668,\"W - Weather\",\"cb's\",\"CB\"],[\"72\",-14,-19.0,35.333333333333336,\"W - Weather\",\"CB\",\"CB\"],[\"60\",-7,-35.0,33.666666666666664,\"W - Weather\",\"cb's\",\"CB\"],[\"72\",-8,-7.0,37.333333333333336,\"W - Weather\",\"cb\",\"CB\"],[\"12\",44,4.0,1.3333333333333333,\"W - Weather\",\"cb's\",\"CB\"],[\"72\",-23,-20.0,35.333333333333336,\"W - Weather\",\"CB\",\"CB\"],[\"24\",29,39.0,22.666666666666668,\"W - Weather\",\"cb'S\",\"CB\"],[\"48\",-26,7.0,29.333333333333332,\"W - Weather\",\"cb\",\"CB\"],[\"60\",-15,-26.0,34.0,\"W - Weather\",\"CB ACT\",\"CB\"],[\"72\",-18,-15.0,38.0,\"W - Weather\",\"CB ACT\",\"CB\"],[\"60\",-18,-35.0,31.333333333333332,\"W - Weather\",\"CB's\",\"CB\"],[\"72\",-23,-18.0,35.666666666666664,\"W - Weather\",\"CB'S\",\"CB\"],[\"84\",-10,-23.0,20.333333333333332,\"W - Weather\",\"CB ACTIVITY\",\"CB\"],[\"60\",-3,-17.0,29.333333333333332,\"W - Weather\",\"CB ACT\",\"CB\"],[\"72\",-11,-3.0,40.333333333333336,\"W - Weather\",\"CB ACTIVITY\",\"CB\"],[\"60\",-14,-27.0,31.666666666666668,\"W - Weather\",\"CB ACTIVITY\",\"CB\"],[\"72\",-11,-14.0,34.666666666666664,\"W - Weather\",\"CB ACTIVITY\",\"CB\"],[\"60\",-23,-38.0,33.666666666666664,\"W - Weather\",\"THUNDERSTORMS\",\"Thunder\"],[\"72\",-25,-23.0,38.333333333333336,\"W - Weather\",\"cb's\",\"CB\"],[\"48\",-29,-2.0,34.666666666666664,\"W - Weather\",\"CB ACTIVITY\",\"CB\"],[\"72\",-17,-18.0,40.666666666666664,\"W - Weather\",\"CB ACTVITY\",\"CB\"],[\"60\",-15,-34.0,34.333333333333336,\"W - Weather\",\"cb's\",\"CB\"],[\"84\",-6,-19.0,35.0,\"W - Weather\",\"CB REG EXTENDED WITH LOWER RATE\",\"CB\"],[\"72\",-15,-14.0,39.666666666666664,\"W - Weather\",\"CB\",\"CB\"],[\"84\",-12,-15.0,27.0,\"W - Weather\",\"cb\",\"CB\"],[\"72\",-4,-21.0,37.666666666666664,\"W - Weather\",\"cb's, reg extended\",\"CB\"],[\"60\",-11,-17.0,32.666666666666664,\"W - Weather\",\"CB ACTIVITY\",\"CB\"],[\"72\",-9,-11.0,38.666666666666664,\"W - Weather\",\"CB'S\",\"CB\"],[\"84\",-8,-9.0,31.333333333333332,\"W - Weather\",\"CB\",\"CB\"],[\"60\",-12,-34.0,33.333333333333336,\"W - Weather\",\"CB'S\",\"CB\"],[\"48\",-35,6.0,28.0,\"W - Weather\",\"STRONG WIND REG EXTENDED UNTIL 1400 AFTER CAPACITY\",\"Wind\"],[\"60\",-8,-35.0,32.666666666666664,\"W - Weather\",\"STRONG WIND REG EXTENDED UNTIL 1400 AFTER CAPACITY\",\"Wind\"],[\"60\",-22,-28.0,34.0,\"W - Weather\",\"CB'S\",\"CB\"],[\"36\",-1,26.0,36.666666666666664,\"W - Weather\",\"WIND DIRECTION\",\"Wind\"],[\"60\",-11,-26.0,35.666666666666664,\"W - Weather\",\"Avoiding traffic from ajacent acc\",\"None\"],[\"72\",-18,-11.0,39.666666666666664,\"W - Weather\",\"cb\",\"CB\"],[\"84\",-10,-18.0,36.333333333333336,\"W - Weather\",\"CB ACTIVITY\",\"CB\"],[\"72\",-20,-19.0,39.666666666666664,\"W - Weather\",\"CB'S\",\"CB\"],[\"84\",-10,-20.0,35.0,\"W - Weather\",\"CB'S\",\"CB\"],[\"60\",-15,-29.0,30.333333333333332,\"W - Weather\",\"CB ACTIVITY REG EXTENDED\",\"CB\"],[\"72\",-10,-15.0,32.666666666666664,\"W - Weather\",\"cb activities\",\"CB\"],[\"84\",-6,-10.0,25.666666666666668,\"W - Weather\",\"cb activities\",\"CB\"],[\"48\",-23,-1.0,26.333333333333332,\"W - Weather\",\"CB\",\"CB\"],[\"72\",-29,-12.0,35.0,\"W - Weather\",\"CBs\",\"CB\"],[\"36\",-3,27.0,39.0,\"W - Weather\",\"CB ACTIVITY REG EXTENDED\",\"CB\"],[\"48\",-32,-3.0,32.333333333333336,\"W - Weather\",\"CB ACTIVITY REG EXTENDED\",\"CB\"],[\"60\",-19,-32.0,32.333333333333336,\"W - Weather\",\"CB ACTIVITY REG EXTENDED\",\"CB\"],[\"72\",-13,-19.0,39.666666666666664,\"W - Weather\",\"CB ACTIVITY REG EXTENDED\",\"CB\"],[\"36\",-4,27.0,39.666666666666664,\"W - Weather\",\"CB\",\"CB\"],[\"48\",-41,-4.0,28.0,\"W - Weather\",\"CB\",\"CB\"],[\"60\",-18,-41.0,36.666666666666664,\"W - Weather\",\"CB\",\"CB\"],[\"72\",-25,-18.0,38.0,\"W - Weather\",\"CB's\",\"CB\"],[\"48\",-31,-1.0,30.666666666666668,\"W - Weather\",\"cb\",\"CB\"],[\"60\",-12,-31.0,35.666666666666664,\"W - Weather\",\"cb\",\"CB\"],[\"72\",-22,-12.0,39.0,\"W - Weather\",\"CB\",\"CB\"],[\"24\",27,47.0,27.0,\"W - Weather\",\"CB\",\"CB\"],[\"48\",-25,-2.0,33.333333333333336,\"W - Weather\",\"CB\",\"CB\"],[\"60\",-14,-25.0,33.333333333333336,\"W - Weather\",\"CB\",\"CB\"],[\"72\",-21,-14.0,42.0,\"W - Weather\",\"CB\",\"CB\"],[\"84\",-13,-9.0,33.666666666666664,\"W - Weather\",\"TS\",\"None\"],[\"60\",-7,-12.0,33.333333333333336,\"W - Weather\",\"TS\",\"None\"],[\"36\",7,36.0,37.0,\"W - Weather\",\"CB\",\"CB\"],[\"48\",-30,7.0,31.0,\"W - Weather\",\"CB\",\"CB\"]],\"hovertemplate\":\"reg_type=%{customdata[4]}<br>recovery_rate=%{y}<br>tw_idx=%{customdata[0]}<br>capacity_change=%{customdata[1]}<br>prev_capacity_change=%{customdata[2]}<br>prev_avg_capacity=%{customdata[3]}<br>reg_cause=%{customdata[5]}<br>reg_bool_type=%{customdata[6]}<extra></extra>\",\"legendgroup\":\"W - Weather\",\"marker\":{\"color\":\"#FFA15A\",\"symbol\":\"circle\"},\"name\":\"W - Weather\",\"notched\":true,\"offsetgroup\":\"W - Weather\",\"showlegend\":false,\"xaxis\":\"x2\",\"y\":[1.2810167906620034,1.4417969614626702,1.7418933981083584,1.1441732734763228,1.5745537343339444,2.6801932879127315,1.7327906880877626,1.328485160501343,1.7372819010858485,3.350728391656842,1.7104024489382692,1.9596874980254302,2.562998551372218,1.777754296300784,4.677255508410028,1.962124051493444,2.940441224404127,1.768127775846662,0.7587615302643972,3.4071968662721352,2.570153124109337,1.5819722640795006,1.0823751012946892,1.6025003513968392,1.8383501115713363,2.7301331695759563,1.5019076797589275,0.13037279052652345,0.4141968501317387,3.73066692555385,1.940027596610458,1.6692755823257253,2.385588144469881,2.6652569733893827,4.81703169137636,3.5956564319303363,1.724119396978574,2.1409152778150355,1.804153143868317,1.469923055733884,4.508521617937517,2.404564308317741,2.033867098904965,1.0584475403525662,2.0532347795676853,1.778315762132021,1.9975681673980181,2.4534438846658264,1.6935108988020307,4.007283814789825,-2.5043565760662174,0.8062463773487512,3.9213139112528212,2.8181381904649623,3.587480594643506,1.9556641941304675,1.4816998210014392,1.8868908502347979,2.4192605314107896,2.354555510076378,1.4294813389245977,3.60126131923726,1.3387901361886372,0.8141479711956939,2.3833353954195733,1.1725988145485344,-1.548919447122807,1.2247065233543108,1.6184973108077074,1.1401338542559925,1.598906544752212,3.1389111113591914,3.2414238302399148,1.8482404363914526,2.0251916888669035,2.1943541576804626,2.094265284357474,1.375167883632198,3.5142555607159425,1.905254072007294,2.5898507171221907,1.4899606398258325,1.394085208500662,2.8013455885302223,2.20912721894181,1.5378188491748146,1.3908539854687143,4.7418628947057275,2.1834585767921646,2.513030730766756,1.6925630081583416,1.7652152349508687,1.367524608828554,1.5619758705109459,1.2200505806305857,0.7032511921237765,2.4413686083063513,2.6132917892918965,1.6338386232317732,2.2742323047021347,1.7318960814264404,-2.5336707712658164,1.9814616576396187,1.835807922328533,1.3214505563696815,0.9017349862682412,2.689554121786405,1.1089448372852238,1.261248549243766,2.023024481455297,2.6112556066312473,2.117201998035111,1.1989322771903,0.9231403042846209,2.9473301754142724,2.9938132325578013,2.528274492556592,1.2848285848392194,0.9340483547981594,2.1439037598346498,2.888224777012734,2.487771240147308,3.3893705300099386,2.643943714535628,1.035967791470398,1.143466400255787,1.4218797846257207,1.9403673338233187,2.2633603029173974,2.5107284687894804,2.064422575918821,1.1946393014076127,1.5713709200611463,1.4372736572743996,1.5111064399175147,2.0312454640422204,2.0300251113249477,1.8606448800547366,1.7161445885225548,1.843519349325764,1.561171127340574,1.616179288483728,1.3182895364453076,2.0696699869844815,2.4030763555327863,1.5934567753594533,2.9159236506430526,1.4695394224499936,2.0193027869892806,2.2544928587654067,2.514135955839685,2.633032724656551,1.7710451719391753,1.9950861096306658,3.0655553934096953,3.039795045088365,2.9935041892795837,1.3737375966240297,2.0341780134347345,3.0140061774751277,1.4268021102861748,2.440682761084328,1.5692304518415807,3.170564200281052,1.451345634781498,2.185660364518087,2.64656735470571,3.1223984118655386,2.185909782685603,1.7649950636121186,1.2252235839254293,1.5138776655069348,1.648162772694663,2.9400300300983093,1.9993326143998396,2.5003104877093345,1.2549677041303722,1.4003173924163856,0.15117352047242089,0.3602318700142644,1.0248412985392765,1.6825820139058707,1.0190881429612837,0.2124930619752189,1.1910540571630748,2.8623716076138974,1.2169637988950583,1.6135007424648489,1.406233077309437,-3.9963788423628888,2.952049439380477,1.2955276384284578,1.3345818318008182,1.1887754550698102,0.2982122687558142,1.3719485934738138,1.422922193959532,1.3932343157890734,-0.649319020208597,1.3306686208450353,1.6747748284264412,1.425572048763319,1.439292995202534,2.1873775662549746,2.0268727697812974,1.9211582046792697,1.2547412589696316,1.948598222085388,1.1222461566914315,2.2458490880461244,1.266248875562377,-0.306890296827994,0.1652406817150348,1.2328550954148945,2.6773514477577223,1.4623295504449245,3.0637476153163994,1.4394581438262637,2.674897175837905,1.8481275633176113,1.2305995373896905,2.309227104431676,3.2406775733583673,1.6853314832183703,0.5285282601790842,1.878099065763932,1.0310497684657705,0.4607021255494514,0.5154377271333098,1.1452624631182613,1.7014249043687082,1.08363528320459,1.9739243293664028,-0.21594458181479767,1.2816083160224012,2.0866743035616326,1.7933905680038629,-3.1006594951921658,1.692138442748753,2.262878908874817,1.6811907989202184,2.844126673005756,1.5969190683671601,1.9083499599683573,1.1828525582828582,1.3275313083363296,1.352728022971193,1.5714013930997288,2.0564257535561223,1.4709537273950135,1.801651093227424,1.84385860846086,1.705865248692164,1.6559408890139329,1.6474063089618638,1.0828310888697872,1.4102974331942977,1.49692582226026,1.8528857656801352,1.638161082310336,1.7125117392926759,2.3105883605623716,1.1648233320524268,1.5432291171995474],\"yaxis\":\"y2\",\"type\":\"box\"},{\"customdata\":[[\"12\",12,-1.0,0.6666666666666666,\"None\",\"None\",\"None\"],[\"12\",8,-1.0,0.3333333333333333,\"None\",\"None\",\"None\"],[\"24\",15,8.0,8.0,\"None\",\"None\",\"None\"],[\"84\",-14,-1.0,30.0,\"None\",\"None\",\"None\"],[\"12\",12,-1.0,0.3333333333333333,\"None\",\"None\",\"None\"],[\"84\",-12,8.0,33.0,\"None\",\"None\",\"None\"],[\"12\",11,0.0,0.6666666666666666,\"None\",\"None\",\"None\"],[\"12\",11,-1.0,0.3333333333333333,\"None\",\"None\",\"None\"],[\"12\",10,0.0,0.0,\"None\",\"None\",\"None\"],[\"24\",13,10.0,7.333333333333333,\"None\",\"None\",\"None\"],[\"12\",16,0.0,0.0,\"None\",\"None\",\"None\"],[\"0\",0,-16.0,5.666666666666667,\"None\",\"None\",\"None\"],[\"12\",13,0.0,0.6666666666666666,\"None\",\"None\",\"None\"],[\"12\",12,-2.0,0.6666666666666666,\"None\",\"None\",\"None\"],[\"12\",13,-1.0,0.3333333333333333,\"None\",\"None\",\"None\"],[\"12\",10,0.0,0.0,\"None\",\"None\",\"None\"],[\"12\",15,-1.0,0.3333333333333333,\"None\",\"None\",\"None\"],[\"12\",13,-1.0,0.3333333333333333,\"None\",\"None\",\"None\"],[\"84\",-10,5.0,37.666666666666664,\"None\",\"None\",\"None\"],[\"12\",16,-1.0,0.3333333333333333,\"None\",\"None\",\"None\"],[\"12\",12,-1.0,0.3333333333333333,\"None\",\"None\",\"None\"],[\"84\",-15,6.0,36.0,\"None\",\"None\",\"None\"],[\"84\",-12,4.0,35.333333333333336,\"None\",\"None\",\"None\"],[\"12\",14,-1.0,0.3333333333333333,\"None\",\"None\",\"None\"],[\"0\",-1,-13.0,4.666666666666667,\"None\",\"None\",\"None\"],[\"12\",14,-1.0,0.3333333333333333,\"None\",\"None\",\"None\"],[\"24\",-13,14.0,8.666666666666666,\"None\",\"None\",\"None\"],[\"12\",14,-1.0,0.3333333333333333,\"None\",\"None\",\"None\"],[\"12\",10,1.0,0.3333333333333333,\"None\",\"None\",\"None\"],[\"12\",14,1.0,0.3333333333333333,\"None\",\"None\",\"None\"],[\"12\",18,1.0,1.0,\"None\",\"None\",\"None\"],[\"12\",13,0.0,0.6666666666666666,\"None\",\"None\",\"None\"],[\"24\",-12,13.0,8.666666666666666,\"None\",\"None\",\"None\"],[\"12\",13,-2.0,0.6666666666666666,\"None\",\"None\",\"None\"],[\"12\",9,0.0,0.0,\"None\",\"None\",\"None\"],[\"12\",11,-1.0,0.3333333333333333,\"None\",\"None\",\"None\"],[\"12\",15,-1.0,0.3333333333333333,\"None\",\"None\",\"None\"],[\"12\",18,-1.0,0.3333333333333333,\"None\",\"None\",\"None\"],[\"24\",-4,18.0,8.666666666666666,\"None\",\"None\",\"None\"],[\"12\",11,0.0,0.0,\"None\",\"None\",\"None\"],[\"0\",-1,-15.0,5.666666666666667,\"None\",\"None\",\"None\"],[\"12\",8,-1.0,0.3333333333333333,\"None\",\"None\",\"None\"],[\"12\",8,-1.0,0.3333333333333333,\"None\",\"None\",\"None\"],[\"12\",8,-1.0,0.3333333333333333,\"None\",\"None\",\"None\"],[\"12\",15,-1.0,0.3333333333333333,\"None\",\"None\",\"None\"],[\"24\",-4,15.0,9.0,\"None\",\"None\",\"None\"],[\"12\",13,0.0,0.0,\"None\",\"None\",\"None\"],[\"12\",12,-1.0,0.3333333333333333,\"None\",\"None\",\"None\"],[\"48\",-18,-34.0,30.333333333333332,\"None\",\"None\",\"None\"],[\"12\",14,-1.0,0.3333333333333333,\"None\",\"None\",\"None\"],[\"12\",12,-1.0,0.3333333333333333,\"None\",\"None\",\"None\"],[\"12\",11,-1.0,0.3333333333333333,\"None\",\"None\",\"None\"],[\"12\",11,-1.0,0.3333333333333333,\"None\",\"None\",\"None\"],[\"0\",-1,-11.0,4.666666666666667,\"None\",\"None\",\"None\"],[\"12\",13,-1.0,0.3333333333333333,\"None\",\"None\",\"None\"],[\"12\",15,-2.0,0.6666666666666666,\"None\",\"None\",\"None\"],[\"12\",13,-1.0,0.6666666666666666,\"None\",\"None\",\"None\"],[\"12\",12,0.0,0.0,\"None\",\"None\",\"None\"],[\"12\",10,-1.0,0.3333333333333333,\"None\",\"None\",\"None\"],[\"12\",46,2.0,0.6666666666666666,\"None\",\"None\",\"None\"],[\"12\",44,3.0,1.0,\"None\",\"None\",\"None\"],[\"12\",41,2.0,0.6666666666666666,\"None\",\"None\",\"None\"],[\"12\",43,2.0,0.6666666666666666,\"None\",\"None\",\"None\"],[\"12\",39,2.0,0.6666666666666666,\"None\",\"None\",\"None\"],[\"12\",20,1.0,0.3333333333333333,\"None\",\"None\",\"None\"],[\"12\",39,2.0,0.6666666666666666,\"None\",\"None\",\"None\"],[\"12\",38,2.0,0.6666666666666666,\"None\",\"None\",\"None\"],[\"12\",42,3.0,1.0,\"None\",\"None\",\"None\"],[\"12\",49,3.0,1.0,\"None\",\"None\",\"None\"],[\"12\",33,2.0,0.6666666666666666,\"None\",\"None\",\"None\"],[\"12\",48,1.0,0.3333333333333333,\"None\",\"None\",\"None\"],[\"12\",48,2.0,0.6666666666666666,\"None\",\"None\",\"None\"],[\"12\",46,2.0,0.6666666666666666,\"None\",\"None\",\"None\"],[\"12\",44,3.0,1.0,\"None\",\"None\",\"None\"],[\"12\",33,3.0,1.0,\"None\",\"None\",\"None\"],[\"0\",3,-3.0,2.0,\"None\",\"None\",\"None\"],[\"12\",51,3.0,1.0,\"None\",\"None\",\"None\"],[\"12\",49,3.0,1.0,\"None\",\"None\",\"None\"],[\"12\",52,3.0,1.3333333333333333,\"None\",\"None\",\"None\"],[\"12\",43,2.0,0.6666666666666666,\"None\",\"None\",\"None\"],[\"12\",34,4.0,1.3333333333333333,\"None\",\"None\",\"None\"],[\"12\",44,2.0,0.6666666666666666,\"None\",\"None\",\"None\"],[\"12\",54,3.0,1.0,\"None\",\"None\",\"None\"],[\"12\",51,1.0,0.6666666666666666,\"None\",\"None\",\"None\"],[\"12\",49,2.0,0.6666666666666666,\"None\",\"None\",\"None\"],[\"0\",0,-4.0,2.0,\"None\",\"None\",\"None\"],[\"12\",51,0.0,0.6666666666666666,\"None\",\"None\",\"None\"],[\"12\",26,5.0,1.6666666666666667,\"None\",\"None\",\"None\"],[\"12\",47,3.0,1.0,\"None\",\"None\",\"None\"],[\"12\",48,4.0,1.3333333333333333,\"None\",\"None\",\"None\"],[\"12\",46,3.0,1.0,\"None\",\"None\",\"None\"],[\"0\",2,-5.0,2.0,\"None\",\"None\",\"None\"],[\"12\",44,2.0,0.6666666666666666,\"None\",\"None\",\"None\"],[\"12\",47,2.0,0.6666666666666666,\"None\",\"None\",\"None\"],[\"12\",37,4.0,1.3333333333333333,\"None\",\"None\",\"None\"],[\"12\",44,3.0,1.0,\"None\",\"None\",\"None\"],[\"12\",45,4.0,1.3333333333333333,\"None\",\"None\",\"None\"],[\"0\",1,-15.0,5.666666666666667,\"None\",\"None\",\"None\"],[\"12\",46,1.0,1.3333333333333333,\"None\",\"None\",\"None\"],[\"12\",43,3.0,1.0,\"None\",\"None\",\"None\"],[\"12\",43,1.0,0.3333333333333333,\"None\",\"None\",\"None\"],[\"12\",38,5.0,1.6666666666666667,\"None\",\"None\",\"None\"],[\"12\",27,3.0,1.0,\"None\",\"None\",\"None\"],[\"12\",33,3.0,1.0,\"None\",\"None\",\"None\"],[\"12\",38,4.0,1.3333333333333333,\"None\",\"None\",\"None\"],[\"12\",24,2.0,0.6666666666666666,\"None\",\"None\",\"None\"],[\"12\",33,5.0,1.6666666666666667,\"None\",\"None\",\"None\"],[\"12\",32,2.0,0.6666666666666666,\"None\",\"None\",\"None\"],[\"12\",47,5.0,1.6666666666666667,\"None\",\"None\",\"None\"],[\"12\",49,6.0,2.0,\"None\",\"None\",\"None\"],[\"12\",48,2.0,0.6666666666666666,\"None\",\"None\",\"None\"],[\"12\",42,2.0,0.6666666666666666,\"None\",\"None\",\"None\"],[\"12\",46,2.0,0.6666666666666666,\"None\",\"None\",\"None\"],[\"12\",37,4.0,1.3333333333333333,\"None\",\"None\",\"None\"],[\"12\",44,4.0,1.3333333333333333,\"None\",\"None\",\"None\"],[\"12\",47,2.0,0.6666666666666666,\"None\",\"None\",\"None\"],[\"12\",44,3.0,1.0,\"None\",\"None\",\"None\"],[\"12\",40,4.0,1.3333333333333333,\"None\",\"None\",\"None\"],[\"12\",49,3.0,1.0,\"None\",\"None\",\"None\"],[\"12\",47,3.0,1.0,\"None\",\"None\",\"None\"],[\"12\",46,4.0,1.3333333333333333,\"None\",\"None\",\"None\"]],\"hovertemplate\":\"reg_type=%{customdata[4]}<br>date_idx=%{x}<br>recovery_rate=%{y}<br>tw_idx=%{customdata[0]}<br>capacity_change=%{customdata[1]}<br>prev_capacity_change=%{customdata[2]}<br>prev_avg_capacity=%{customdata[3]}<br>reg_cause=%{customdata[5]}<br>reg_bool_type=%{customdata[6]}<extra></extra>\",\"legendgroup\":\"None\",\"marker\":{\"color\":\"#19d3f3\",\"symbol\":\"circle\"},\"mode\":\"markers\",\"name\":\"None\",\"showlegend\":true,\"x\":[\"2018-01-03\",\"2018-01-04\",\"2018-01-04\",\"2018-01-05\",\"2018-01-09\",\"2018-01-09\",\"2018-01-11\",\"2018-01-12\",\"2018-01-14\",\"2018-01-14\",\"2018-01-15\",\"2018-01-16\",\"2018-01-16\",\"2018-01-18\",\"2018-01-19\",\"2018-01-22\",\"2018-01-23\",\"2018-01-25\",\"2018-01-25\",\"2018-01-26\",\"2018-01-27\",\"2018-01-29\",\"2018-02-05\",\"2018-02-07\",\"2018-02-08\",\"2018-02-08\",\"2018-02-08\",\"2018-02-10\",\"2018-02-11\",\"2018-02-12\",\"2018-02-13\",\"2018-02-14\",\"2018-02-14\",\"2018-02-16\",\"2018-02-19\",\"2018-02-20\",\"2018-02-22\",\"2018-02-23\",\"2018-02-23\",\"2018-02-26\",\"2018-02-27\",\"2018-02-27\",\"2018-02-28\",\"2018-03-01\",\"2018-03-02\",\"2018-03-02\",\"2018-03-05\",\"2018-03-06\",\"2018-03-06\",\"2018-03-08\",\"2018-03-09\",\"2018-03-10\",\"2018-03-13\",\"2018-03-14\",\"2018-03-14\",\"2018-03-15\",\"2018-03-16\",\"2018-03-19\",\"2018-03-20\",\"2018-03-26\",\"2018-03-27\",\"2018-03-28\",\"2018-03-29\",\"2018-03-30\",\"2018-04-02\",\"2018-04-04\",\"2018-04-05\",\"2018-04-06\",\"2018-04-09\",\"2018-04-10\",\"2018-04-11\",\"2018-04-12\",\"2018-04-13\",\"2018-04-14\",\"2018-04-15\",\"2018-04-18\",\"2018-04-18\",\"2018-04-19\",\"2018-04-20\",\"2018-04-21\",\"2018-04-22\",\"2018-04-23\",\"2018-04-24\",\"2018-04-25\",\"2018-04-26\",\"2018-04-27\",\"2018-04-27\",\"2018-05-01\",\"2018-05-03\",\"2018-05-04\",\"2018-05-05\",\"2018-05-08\",\"2018-05-08\",\"2018-05-09\",\"2018-05-10\",\"2018-05-14\",\"2018-05-15\",\"2018-05-16\",\"2018-05-16\",\"2018-05-17\",\"2018-05-18\",\"2018-05-19\",\"2018-05-20\",\"2018-05-21\",\"2018-05-25\",\"2018-06-01\",\"2018-06-02\",\"2018-06-03\",\"2018-06-04\",\"2018-06-05\",\"2018-06-06\",\"2018-06-07\",\"2018-06-08\",\"2018-06-09\",\"2018-06-12\",\"2018-06-13\",\"2018-06-14\",\"2018-06-16\",\"2018-06-21\",\"2018-06-22\",\"2018-06-23\"],\"xaxis\":\"x\",\"y\":[0.8710958872476104,0.8592295453748849,3.4449964984837242,1.5106902777377347,0.8020611974376836,1.3492987592500345,0.6635773247842586,0.83918384281108,0.7758323023616435,2.7854695097169033,0.7472247255418386,-3.8430099206349198,1.2006602402719215,1.5136010425907755,1.5347424434826902,0.2694475972857457,1.0635616487066053,0.7822723950232011,0.44826975369650873,0.8509290681578405,0.85481768496337,1.7078494313748458,1.4556989493720935,0.9865402766550366,1.17670036831592,0.6662453725628237,1.0962367679178604,0.784928226915713,1.067691790892963,1.4632805875827466,0.667879906869844,0.8379931813178833,3.702978345858613,0.8816082901399659,0.6072322632629998,0.9300586746088447,0.8124467939142197,0.9119897934865875,3.2536284167857223,0.699948471407194,1.0337532392966269,0.8302005199175293,0.7319662163918015,0.7527773545314058,0.8173066269592639,3.0795378026967017,0.7328417315432513,1.0043647412278456,2.1095419711360943,0.9380992535913778,0.8160220549641923,0.8758932305350878,0.6468275891126527,1.0260358796296296,1.4432777963919243,0.8034053766432729,0.9727820427965738,0.5718712782063227,0.6329251782211157,2.0406062602599206,2.9644895356841108,2.341288422897788,2.759264224092204,1.4315062195617192,2.29078884240347,2.3653277009773506,2.246532892076785,1.9465762261346664,1.2965312952134656,1.104833592028191,2.1602776385814213,1.9553320998755914,4.561559115384104,1.3965496913945337,1.430852513044874,0.5281837877269772,2.0597381357214433,1.876540444313628,2.695864533583175,2.0895507202589405,1.7730151033861148,2.091242501263111,1.9933280155855946,2.332764104567572,3.1748102001403993,1.3740019378713617,1.7422506873138057,2.296332863610455,1.1205094920209033,2.6984179276141824,1.2932491709621172,0.11585662737317166,2.196368235235117,1.6789782380537082,1.6450711402678149,3.119312211801753,2.173132240748226,-0.06407687021603674,2.214820715104813,2.05798159359919,1.27189707464318,1.175546016657481,1.7754991724949032,1.1954800285982174,2.3911371983385132,1.5080616877196213,1.4295614599290598,1.6784375288192155,1.6669054756553676,1.4402044204441005,2.224643609088563,1.7173701967007007,2.3622818333584448,1.0071945373471323,2.063026287163448,1.9464594876011818,2.2232304786214496,1.20166215936221,1.9416247224400174,2.1061408493846274,1.7936750047015961],\"yaxis\":\"y\",\"type\":\"scattergl\"},{\"alignmentgroup\":\"True\",\"customdata\":[[\"12\",12,-1.0,0.6666666666666666,\"None\",\"None\",\"None\"],[\"12\",8,-1.0,0.3333333333333333,\"None\",\"None\",\"None\"],[\"24\",15,8.0,8.0,\"None\",\"None\",\"None\"],[\"84\",-14,-1.0,30.0,\"None\",\"None\",\"None\"],[\"12\",12,-1.0,0.3333333333333333,\"None\",\"None\",\"None\"],[\"84\",-12,8.0,33.0,\"None\",\"None\",\"None\"],[\"12\",11,0.0,0.6666666666666666,\"None\",\"None\",\"None\"],[\"12\",11,-1.0,0.3333333333333333,\"None\",\"None\",\"None\"],[\"12\",10,0.0,0.0,\"None\",\"None\",\"None\"],[\"24\",13,10.0,7.333333333333333,\"None\",\"None\",\"None\"],[\"12\",16,0.0,0.0,\"None\",\"None\",\"None\"],[\"0\",0,-16.0,5.666666666666667,\"None\",\"None\",\"None\"],[\"12\",13,0.0,0.6666666666666666,\"None\",\"None\",\"None\"],[\"12\",12,-2.0,0.6666666666666666,\"None\",\"None\",\"None\"],[\"12\",13,-1.0,0.3333333333333333,\"None\",\"None\",\"None\"],[\"12\",10,0.0,0.0,\"None\",\"None\",\"None\"],[\"12\",15,-1.0,0.3333333333333333,\"None\",\"None\",\"None\"],[\"12\",13,-1.0,0.3333333333333333,\"None\",\"None\",\"None\"],[\"84\",-10,5.0,37.666666666666664,\"None\",\"None\",\"None\"],[\"12\",16,-1.0,0.3333333333333333,\"None\",\"None\",\"None\"],[\"12\",12,-1.0,0.3333333333333333,\"None\",\"None\",\"None\"],[\"84\",-15,6.0,36.0,\"None\",\"None\",\"None\"],[\"84\",-12,4.0,35.333333333333336,\"None\",\"None\",\"None\"],[\"12\",14,-1.0,0.3333333333333333,\"None\",\"None\",\"None\"],[\"0\",-1,-13.0,4.666666666666667,\"None\",\"None\",\"None\"],[\"12\",14,-1.0,0.3333333333333333,\"None\",\"None\",\"None\"],[\"24\",-13,14.0,8.666666666666666,\"None\",\"None\",\"None\"],[\"12\",14,-1.0,0.3333333333333333,\"None\",\"None\",\"None\"],[\"12\",10,1.0,0.3333333333333333,\"None\",\"None\",\"None\"],[\"12\",14,1.0,0.3333333333333333,\"None\",\"None\",\"None\"],[\"12\",18,1.0,1.0,\"None\",\"None\",\"None\"],[\"12\",13,0.0,0.6666666666666666,\"None\",\"None\",\"None\"],[\"24\",-12,13.0,8.666666666666666,\"None\",\"None\",\"None\"],[\"12\",13,-2.0,0.6666666666666666,\"None\",\"None\",\"None\"],[\"12\",9,0.0,0.0,\"None\",\"None\",\"None\"],[\"12\",11,-1.0,0.3333333333333333,\"None\",\"None\",\"None\"],[\"12\",15,-1.0,0.3333333333333333,\"None\",\"None\",\"None\"],[\"12\",18,-1.0,0.3333333333333333,\"None\",\"None\",\"None\"],[\"24\",-4,18.0,8.666666666666666,\"None\",\"None\",\"None\"],[\"12\",11,0.0,0.0,\"None\",\"None\",\"None\"],[\"0\",-1,-15.0,5.666666666666667,\"None\",\"None\",\"None\"],[\"12\",8,-1.0,0.3333333333333333,\"None\",\"None\",\"None\"],[\"12\",8,-1.0,0.3333333333333333,\"None\",\"None\",\"None\"],[\"12\",8,-1.0,0.3333333333333333,\"None\",\"None\",\"None\"],[\"12\",15,-1.0,0.3333333333333333,\"None\",\"None\",\"None\"],[\"24\",-4,15.0,9.0,\"None\",\"None\",\"None\"],[\"12\",13,0.0,0.0,\"None\",\"None\",\"None\"],[\"12\",12,-1.0,0.3333333333333333,\"None\",\"None\",\"None\"],[\"48\",-18,-34.0,30.333333333333332,\"None\",\"None\",\"None\"],[\"12\",14,-1.0,0.3333333333333333,\"None\",\"None\",\"None\"],[\"12\",12,-1.0,0.3333333333333333,\"None\",\"None\",\"None\"],[\"12\",11,-1.0,0.3333333333333333,\"None\",\"None\",\"None\"],[\"12\",11,-1.0,0.3333333333333333,\"None\",\"None\",\"None\"],[\"0\",-1,-11.0,4.666666666666667,\"None\",\"None\",\"None\"],[\"12\",13,-1.0,0.3333333333333333,\"None\",\"None\",\"None\"],[\"12\",15,-2.0,0.6666666666666666,\"None\",\"None\",\"None\"],[\"12\",13,-1.0,0.6666666666666666,\"None\",\"None\",\"None\"],[\"12\",12,0.0,0.0,\"None\",\"None\",\"None\"],[\"12\",10,-1.0,0.3333333333333333,\"None\",\"None\",\"None\"],[\"12\",46,2.0,0.6666666666666666,\"None\",\"None\",\"None\"],[\"12\",44,3.0,1.0,\"None\",\"None\",\"None\"],[\"12\",41,2.0,0.6666666666666666,\"None\",\"None\",\"None\"],[\"12\",43,2.0,0.6666666666666666,\"None\",\"None\",\"None\"],[\"12\",39,2.0,0.6666666666666666,\"None\",\"None\",\"None\"],[\"12\",20,1.0,0.3333333333333333,\"None\",\"None\",\"None\"],[\"12\",39,2.0,0.6666666666666666,\"None\",\"None\",\"None\"],[\"12\",38,2.0,0.6666666666666666,\"None\",\"None\",\"None\"],[\"12\",42,3.0,1.0,\"None\",\"None\",\"None\"],[\"12\",49,3.0,1.0,\"None\",\"None\",\"None\"],[\"12\",33,2.0,0.6666666666666666,\"None\",\"None\",\"None\"],[\"12\",48,1.0,0.3333333333333333,\"None\",\"None\",\"None\"],[\"12\",48,2.0,0.6666666666666666,\"None\",\"None\",\"None\"],[\"12\",46,2.0,0.6666666666666666,\"None\",\"None\",\"None\"],[\"12\",44,3.0,1.0,\"None\",\"None\",\"None\"],[\"12\",33,3.0,1.0,\"None\",\"None\",\"None\"],[\"0\",3,-3.0,2.0,\"None\",\"None\",\"None\"],[\"12\",51,3.0,1.0,\"None\",\"None\",\"None\"],[\"12\",49,3.0,1.0,\"None\",\"None\",\"None\"],[\"12\",52,3.0,1.3333333333333333,\"None\",\"None\",\"None\"],[\"12\",43,2.0,0.6666666666666666,\"None\",\"None\",\"None\"],[\"12\",34,4.0,1.3333333333333333,\"None\",\"None\",\"None\"],[\"12\",44,2.0,0.6666666666666666,\"None\",\"None\",\"None\"],[\"12\",54,3.0,1.0,\"None\",\"None\",\"None\"],[\"12\",51,1.0,0.6666666666666666,\"None\",\"None\",\"None\"],[\"12\",49,2.0,0.6666666666666666,\"None\",\"None\",\"None\"],[\"0\",0,-4.0,2.0,\"None\",\"None\",\"None\"],[\"12\",51,0.0,0.6666666666666666,\"None\",\"None\",\"None\"],[\"12\",26,5.0,1.6666666666666667,\"None\",\"None\",\"None\"],[\"12\",47,3.0,1.0,\"None\",\"None\",\"None\"],[\"12\",48,4.0,1.3333333333333333,\"None\",\"None\",\"None\"],[\"12\",46,3.0,1.0,\"None\",\"None\",\"None\"],[\"0\",2,-5.0,2.0,\"None\",\"None\",\"None\"],[\"12\",44,2.0,0.6666666666666666,\"None\",\"None\",\"None\"],[\"12\",47,2.0,0.6666666666666666,\"None\",\"None\",\"None\"],[\"12\",37,4.0,1.3333333333333333,\"None\",\"None\",\"None\"],[\"12\",44,3.0,1.0,\"None\",\"None\",\"None\"],[\"12\",45,4.0,1.3333333333333333,\"None\",\"None\",\"None\"],[\"0\",1,-15.0,5.666666666666667,\"None\",\"None\",\"None\"],[\"12\",46,1.0,1.3333333333333333,\"None\",\"None\",\"None\"],[\"12\",43,3.0,1.0,\"None\",\"None\",\"None\"],[\"12\",43,1.0,0.3333333333333333,\"None\",\"None\",\"None\"],[\"12\",38,5.0,1.6666666666666667,\"None\",\"None\",\"None\"],[\"12\",27,3.0,1.0,\"None\",\"None\",\"None\"],[\"12\",33,3.0,1.0,\"None\",\"None\",\"None\"],[\"12\",38,4.0,1.3333333333333333,\"None\",\"None\",\"None\"],[\"12\",24,2.0,0.6666666666666666,\"None\",\"None\",\"None\"],[\"12\",33,5.0,1.6666666666666667,\"None\",\"None\",\"None\"],[\"12\",32,2.0,0.6666666666666666,\"None\",\"None\",\"None\"],[\"12\",47,5.0,1.6666666666666667,\"None\",\"None\",\"None\"],[\"12\",49,6.0,2.0,\"None\",\"None\",\"None\"],[\"12\",48,2.0,0.6666666666666666,\"None\",\"None\",\"None\"],[\"12\",42,2.0,0.6666666666666666,\"None\",\"None\",\"None\"],[\"12\",46,2.0,0.6666666666666666,\"None\",\"None\",\"None\"],[\"12\",37,4.0,1.3333333333333333,\"None\",\"None\",\"None\"],[\"12\",44,4.0,1.3333333333333333,\"None\",\"None\",\"None\"],[\"12\",47,2.0,0.6666666666666666,\"None\",\"None\",\"None\"],[\"12\",44,3.0,1.0,\"None\",\"None\",\"None\"],[\"12\",40,4.0,1.3333333333333333,\"None\",\"None\",\"None\"],[\"12\",49,3.0,1.0,\"None\",\"None\",\"None\"],[\"12\",47,3.0,1.0,\"None\",\"None\",\"None\"],[\"12\",46,4.0,1.3333333333333333,\"None\",\"None\",\"None\"]],\"hovertemplate\":\"reg_type=%{customdata[4]}<br>recovery_rate=%{y}<br>tw_idx=%{customdata[0]}<br>capacity_change=%{customdata[1]}<br>prev_capacity_change=%{customdata[2]}<br>prev_avg_capacity=%{customdata[3]}<br>reg_cause=%{customdata[5]}<br>reg_bool_type=%{customdata[6]}<extra></extra>\",\"legendgroup\":\"None\",\"marker\":{\"color\":\"#19d3f3\",\"symbol\":\"circle\"},\"name\":\"None\",\"notched\":true,\"offsetgroup\":\"None\",\"showlegend\":false,\"xaxis\":\"x2\",\"y\":[0.8710958872476104,0.8592295453748849,3.4449964984837242,1.5106902777377347,0.8020611974376836,1.3492987592500345,0.6635773247842586,0.83918384281108,0.7758323023616435,2.7854695097169033,0.7472247255418386,-3.8430099206349198,1.2006602402719215,1.5136010425907755,1.5347424434826902,0.2694475972857457,1.0635616487066053,0.7822723950232011,0.44826975369650873,0.8509290681578405,0.85481768496337,1.7078494313748458,1.4556989493720935,0.9865402766550366,1.17670036831592,0.6662453725628237,1.0962367679178604,0.784928226915713,1.067691790892963,1.4632805875827466,0.667879906869844,0.8379931813178833,3.702978345858613,0.8816082901399659,0.6072322632629998,0.9300586746088447,0.8124467939142197,0.9119897934865875,3.2536284167857223,0.699948471407194,1.0337532392966269,0.8302005199175293,0.7319662163918015,0.7527773545314058,0.8173066269592639,3.0795378026967017,0.7328417315432513,1.0043647412278456,2.1095419711360943,0.9380992535913778,0.8160220549641923,0.8758932305350878,0.6468275891126527,1.0260358796296296,1.4432777963919243,0.8034053766432729,0.9727820427965738,0.5718712782063227,0.6329251782211157,2.0406062602599206,2.9644895356841108,2.341288422897788,2.759264224092204,1.4315062195617192,2.29078884240347,2.3653277009773506,2.246532892076785,1.9465762261346664,1.2965312952134656,1.104833592028191,2.1602776385814213,1.9553320998755914,4.561559115384104,1.3965496913945337,1.430852513044874,0.5281837877269772,2.0597381357214433,1.876540444313628,2.695864533583175,2.0895507202589405,1.7730151033861148,2.091242501263111,1.9933280155855946,2.332764104567572,3.1748102001403993,1.3740019378713617,1.7422506873138057,2.296332863610455,1.1205094920209033,2.6984179276141824,1.2932491709621172,0.11585662737317166,2.196368235235117,1.6789782380537082,1.6450711402678149,3.119312211801753,2.173132240748226,-0.06407687021603674,2.214820715104813,2.05798159359919,1.27189707464318,1.175546016657481,1.7754991724949032,1.1954800285982174,2.3911371983385132,1.5080616877196213,1.4295614599290598,1.6784375288192155,1.6669054756553676,1.4402044204441005,2.224643609088563,1.7173701967007007,2.3622818333584448,1.0071945373471323,2.063026287163448,1.9464594876011818,2.2232304786214496,1.20166215936221,1.9416247224400174,2.1061408493846274,1.7936750047015961],\"yaxis\":\"y2\",\"type\":\"box\"},{\"customdata\":[[\"84\",-14,2.0,26.0,\"T - ATC Equipment\",\"FREQUENCY PROBLEMS\",\"None\"],[\"24\",-12,12.0,8.0,\"T - ATC Equipment\",\"TELECOMUNICATION PROBLEM\",\"None\"],[\"72\",8,19.0,33.666666666666664,\"T - ATC Equipment\",\"radar failure\",\"None\"],[\"48\",-9,-25.0,32.666666666666664,\"T - ATC Equipment\",\"NEW COMPUTER SYSTEM\",\"None\"],[\"60\",-25,-39.0,34.333333333333336,\"T - ATC Equipment\",\"FDP PROBLEMS\",\"None\"],[\"12\",21,4.0,1.3333333333333333,\"T - ATC Equipment\",\"TERMINAL PROBLEM DUE NETWORK FROM 0700 IMPLEMENTATION OF NEW STAR SID PROCEDURES\",\"None\"],[\"12\",28,6.0,2.0,\"T - ATC Equipment\",\"FDPS u/s\",\"None\"],[\"12\",40,2.0,0.6666666666666666,\"T - ATC Equipment\",\"RADIO COMMUNICATION ISSUES\",\"None\"],[\"48\",-26,-1.0,31.666666666666668,\"T - ATC Equipment\",\"RDR MAITENANCE\",\"None\"]],\"hovertemplate\":\"reg_type=%{customdata[4]}<br>date_idx=%{x}<br>recovery_rate=%{y}<br>tw_idx=%{customdata[0]}<br>capacity_change=%{customdata[1]}<br>prev_capacity_change=%{customdata[2]}<br>prev_avg_capacity=%{customdata[3]}<br>reg_cause=%{customdata[5]}<br>reg_bool_type=%{customdata[6]}<extra></extra>\",\"legendgroup\":\"T - ATC Equipment\",\"marker\":{\"color\":\"#FF6692\",\"symbol\":\"circle\"},\"mode\":\"markers\",\"name\":\"T - ATC Equipment\",\"showlegend\":true,\"x\":[\"2018-01-03\",\"2018-01-18\",\"2018-02-08\",\"2018-03-21\",\"2018-04-22\",\"2018-05-11\",\"2018-05-12\",\"2018-05-24\",\"2018-06-13\"],\"xaxis\":\"x\",\"y\":[1.675677791447507,3.915225254087856,1.8179381089842284,1.831688659731937,3.0922788006576285,2.181272136502962,1.3541164482918493,1.486011036928167,1.54509067636011],\"yaxis\":\"y\",\"type\":\"scattergl\"},{\"alignmentgroup\":\"True\",\"customdata\":[[\"84\",-14,2.0,26.0,\"T - ATC Equipment\",\"FREQUENCY PROBLEMS\",\"None\"],[\"24\",-12,12.0,8.0,\"T - ATC Equipment\",\"TELECOMUNICATION PROBLEM\",\"None\"],[\"72\",8,19.0,33.666666666666664,\"T - ATC Equipment\",\"radar failure\",\"None\"],[\"48\",-9,-25.0,32.666666666666664,\"T - ATC Equipment\",\"NEW COMPUTER SYSTEM\",\"None\"],[\"60\",-25,-39.0,34.333333333333336,\"T - ATC Equipment\",\"FDP PROBLEMS\",\"None\"],[\"12\",21,4.0,1.3333333333333333,\"T - ATC Equipment\",\"TERMINAL PROBLEM DUE NETWORK FROM 0700 IMPLEMENTATION OF NEW STAR SID PROCEDURES\",\"None\"],[\"12\",28,6.0,2.0,\"T - ATC Equipment\",\"FDPS u/s\",\"None\"],[\"12\",40,2.0,0.6666666666666666,\"T - ATC Equipment\",\"RADIO COMMUNICATION ISSUES\",\"None\"],[\"48\",-26,-1.0,31.666666666666668,\"T - ATC Equipment\",\"RDR MAITENANCE\",\"None\"]],\"hovertemplate\":\"reg_type=%{customdata[4]}<br>recovery_rate=%{y}<br>tw_idx=%{customdata[0]}<br>capacity_change=%{customdata[1]}<br>prev_capacity_change=%{customdata[2]}<br>prev_avg_capacity=%{customdata[3]}<br>reg_cause=%{customdata[5]}<br>reg_bool_type=%{customdata[6]}<extra></extra>\",\"legendgroup\":\"T - ATC Equipment\",\"marker\":{\"color\":\"#FF6692\",\"symbol\":\"circle\"},\"name\":\"T - ATC Equipment\",\"notched\":true,\"offsetgroup\":\"T - ATC Equipment\",\"showlegend\":false,\"xaxis\":\"x2\",\"y\":[1.675677791447507,3.915225254087856,1.8179381089842284,1.831688659731937,3.0922788006576285,2.181272136502962,1.3541164482918493,1.486011036928167,1.54509067636011],\"yaxis\":\"y2\",\"type\":\"box\"},{\"customdata\":[[\"36\",-18,15.0,20.333333333333332,\"R - ATC Routeings\",null,\"None\"],[\"36\",-18,13.0,21.0,\"R - ATC Routeings\",null,\"None\"],[\"48\",-12,-18.0,21.666666666666668,\"R - ATC Routeings\",null,\"None\"],[\"36\",-24,-7.0,29.666666666666668,\"R - ATC Routeings\",null,\"None\"],[\"48\",-10,-24.0,28.333333333333332,\"R - ATC Routeings\",null,\"None\"],[\"36\",-24,-15.0,34.333333333333336,\"R - ATC Routeings\",\"TRA NORTH B ACTIVATION\",\"None\"],[\"48\",-14,-28.0,31.333333333333332,\"R - ATC Routeings\",null,\"None\"],[\"48\",11,-19.0,30.666666666666668,\"R - ATC Routeings\",null,\"None\"],[\"48\",2,-21.0,27.666666666666668,\"R - ATC Routeings\",null,\"None\"],[\"60\",13,4.0,34.0,\"R - ATC Routeings\",null,\"None\"],[\"72\",5,17.0,34.333333333333336,\"R - ATC Routeings\",null,\"None\"],[\"72\",12,8.0,33.333333333333336,\"R - ATC Routeings\",null,\"None\"],[\"36\",7,27.0,29.666666666666668,\"R - ATC Routeings\",null,\"None\"],[\"24\",24,46.0,22.333333333333332,\"R - ATC Routeings\",null,\"None\"],[\"72\",-20,-23.0,30.0,\"R - ATC Routeings\",null,\"None\"],[\"48\",-34,4.0,25.333333333333332,\"R - ATC Routeings\",\"DELAY THRESHOLD 20 MINS\",\"None\"],[\"72\",-15,-13.0,39.666666666666664,\"R - ATC Routeings\",null,\"None\"],[\"12\",38,3.0,1.0,\"R - ATC Routeings\",null,\"None\"],[\"48\",-37,11.0,24.666666666666668,\"R - ATC Routeings\",null,\"None\"],[\"72\",-20,-25.0,31.666666666666668,\"R - ATC Routeings\",null,\"None\"],[\"60\",-16,-33.0,30.666666666666668,\"R - ATC Routeings\",null,\"None\"],[\"72\",-19,-16.0,39.0,\"R - ATC Routeings\",null,\"None\"],[\"84\",-4,-14.0,27.333333333333332,\"R - ATC Routeings\",null,\"None\"],[\"48\",-29,9.0,26.0,\"R - ATC Routeings\",null,\"None\"],[\"60\",-25,-29.0,29.333333333333332,\"R - ATC Routeings\",null,\"None\"],[\"48\",-37,2.0,30.333333333333332,\"R - ATC Routeings\",null,\"None\"],[\"36\",9,27.0,39.0,\"R - ATC Routeings\",null,\"None\"],[\"36\",6,23.0,31.333333333333332,\"R - ATC Routeings\",null,\"None\"],[\"48\",-39,6.0,23.333333333333332,\"R - ATC Routeings\",null,\"None\"],[\"72\",-32,-25.0,38.666666666666664,\"R - ATC Routeings\",null,\"None\"],[\"24\",36,51.0,28.0,\"R - ATC Routeings\",\"DELAY THRESHOLD 20 MINS\",\"None\"],[\"36\",4,24.0,33.0,\"R - ATC Routeings\",null,\"None\"],[\"48\",-32,4.0,28.0,\"R - ATC Routeings\",null,\"None\"],[\"48\",-33,-1.0,30.333333333333332,\"R - ATC Routeings\",null,\"None\"],[\"36\",9,27.0,35.666666666666664,\"R - ATC Routeings\",null,\"None\"],[\"48\",-30,9.0,27.333333333333332,\"R - ATC Routeings\",null,\"None\"],[\"36\",3,22.0,38.666666666666664,\"R - ATC Routeings\",null,\"None\"],[\"48\",-25,3.0,30.666666666666668,\"R - ATC Routeings\",null,\"None\"],[\"48\",-29,0.0,32.666666666666664,\"R - ATC Routeings\",null,\"None\"],[\"36\",15,26.0,32.333333333333336,\"R - ATC Routeings\",null,\"None\"],[\"24\",15,33.0,18.666666666666668,\"R - ATC Routeings\",null,\"None\"],[\"24\",28,44.0,24.333333333333332,\"R - ATC Routeings\",null,\"None\"],[\"36\",6,28.0,38.666666666666664,\"R - ATC Routeings\",null,\"None\"],[\"48\",-42,6.0,31.333333333333332,\"R - ATC Routeings\",null,\"None\"],[\"84\",-9,-18.0,32.0,\"R - ATC Routeings\",null,\"None\"],[\"24\",26,47.0,26.0,\"R - ATC Routeings\",null,\"None\"],[\"12\",28,3.0,1.0,\"R - ATC Routeings\",\"Available alternative routeing due to LFMM strike\",\"None\"]],\"hovertemplate\":\"reg_type=%{customdata[4]}<br>date_idx=%{x}<br>recovery_rate=%{y}<br>tw_idx=%{customdata[0]}<br>capacity_change=%{customdata[1]}<br>prev_capacity_change=%{customdata[2]}<br>prev_avg_capacity=%{customdata[3]}<br>reg_cause=%{customdata[5]}<br>reg_bool_type=%{customdata[6]}<extra></extra>\",\"legendgroup\":\"R - ATC Routeings\",\"marker\":{\"color\":\"#B6E880\",\"symbol\":\"circle\"},\"mode\":\"markers\",\"name\":\"R - ATC Routeings\",\"showlegend\":true,\"x\":[\"2018-01-04\",\"2018-01-14\",\"2018-01-14\",\"2018-01-20\",\"2018-01-20\",\"2018-01-31\",\"2018-02-05\",\"2018-02-08\",\"2018-02-17\",\"2018-03-09\",\"2018-03-12\",\"2018-03-15\",\"2018-03-25\",\"2018-03-26\",\"2018-03-31\",\"2018-04-05\",\"2018-04-06\",\"2018-04-07\",\"2018-04-07\",\"2018-04-07\",\"2018-04-08\",\"2018-04-08\",\"2018-04-10\",\"2018-04-14\",\"2018-04-14\",\"2018-04-16\",\"2018-04-17\",\"2018-04-22\",\"2018-04-22\",\"2018-04-22\",\"2018-04-27\",\"2018-04-28\",\"2018-04-28\",\"2018-05-03\",\"2018-05-05\",\"2018-05-05\",\"2018-05-07\",\"2018-05-07\",\"2018-05-15\",\"2018-05-20\",\"2018-05-21\",\"2018-05-28\",\"2018-05-29\",\"2018-05-29\",\"2018-05-30\",\"2018-06-13\",\"2018-06-17\"],\"xaxis\":\"x\",\"y\":[1.4709727350531672,1.669656184096371,1.720870628979518,2.919055597216373,1.7835763010703856,2.7091319010284347,1.7753961153314537,1.205415440044217,0.045374817265557324,1.888161384216557,1.496257300734045,1.6897574062774114,1.5703771651029976,1.7892018760728645,1.820401843703799,4.291491907727981,1.7558672393664998,2.071750062222502,2.583083743292051,1.8739953138866319,2.837662167089064,1.4250281597199521,2.0007350021052033,1.982597318310171,3.1417513602972877,1.7844318520086755,2.1493047507109635,1.8930756253738044,2.2257184062432764,2.1425201430898704,1.5232590947604558,1.8095218727065467,2.0960654186394225,2.3068372602608456,1.6730865514686433,2.190550945089868,1.3583106172954467,1.7391154336423027,1.0356416550069805,1.5536331752495347,2.3022503198713755,1.62089225496255,1.4319290017115638,0.919599352813716,2.8158986121925116,1.2186957555272315,1.7550612499857188],\"yaxis\":\"y\",\"type\":\"scattergl\"},{\"alignmentgroup\":\"True\",\"customdata\":[[\"36\",-18,15.0,20.333333333333332,\"R - ATC Routeings\",null,\"None\"],[\"36\",-18,13.0,21.0,\"R - ATC Routeings\",null,\"None\"],[\"48\",-12,-18.0,21.666666666666668,\"R - ATC Routeings\",null,\"None\"],[\"36\",-24,-7.0,29.666666666666668,\"R - ATC Routeings\",null,\"None\"],[\"48\",-10,-24.0,28.333333333333332,\"R - ATC Routeings\",null,\"None\"],[\"36\",-24,-15.0,34.333333333333336,\"R - ATC Routeings\",\"TRA NORTH B ACTIVATION\",\"None\"],[\"48\",-14,-28.0,31.333333333333332,\"R - ATC Routeings\",null,\"None\"],[\"48\",11,-19.0,30.666666666666668,\"R - ATC Routeings\",null,\"None\"],[\"48\",2,-21.0,27.666666666666668,\"R - ATC Routeings\",null,\"None\"],[\"60\",13,4.0,34.0,\"R - ATC Routeings\",null,\"None\"],[\"72\",5,17.0,34.333333333333336,\"R - ATC Routeings\",null,\"None\"],[\"72\",12,8.0,33.333333333333336,\"R - ATC Routeings\",null,\"None\"],[\"36\",7,27.0,29.666666666666668,\"R - ATC Routeings\",null,\"None\"],[\"24\",24,46.0,22.333333333333332,\"R - ATC Routeings\",null,\"None\"],[\"72\",-20,-23.0,30.0,\"R - ATC Routeings\",null,\"None\"],[\"48\",-34,4.0,25.333333333333332,\"R - ATC Routeings\",\"DELAY THRESHOLD 20 MINS\",\"None\"],[\"72\",-15,-13.0,39.666666666666664,\"R - ATC Routeings\",null,\"None\"],[\"12\",38,3.0,1.0,\"R - ATC Routeings\",null,\"None\"],[\"48\",-37,11.0,24.666666666666668,\"R - ATC Routeings\",null,\"None\"],[\"72\",-20,-25.0,31.666666666666668,\"R - ATC Routeings\",null,\"None\"],[\"60\",-16,-33.0,30.666666666666668,\"R - ATC Routeings\",null,\"None\"],[\"72\",-19,-16.0,39.0,\"R - ATC Routeings\",null,\"None\"],[\"84\",-4,-14.0,27.333333333333332,\"R - ATC Routeings\",null,\"None\"],[\"48\",-29,9.0,26.0,\"R - ATC Routeings\",null,\"None\"],[\"60\",-25,-29.0,29.333333333333332,\"R - ATC Routeings\",null,\"None\"],[\"48\",-37,2.0,30.333333333333332,\"R - ATC Routeings\",null,\"None\"],[\"36\",9,27.0,39.0,\"R - ATC Routeings\",null,\"None\"],[\"36\",6,23.0,31.333333333333332,\"R - ATC Routeings\",null,\"None\"],[\"48\",-39,6.0,23.333333333333332,\"R - ATC Routeings\",null,\"None\"],[\"72\",-32,-25.0,38.666666666666664,\"R - ATC Routeings\",null,\"None\"],[\"24\",36,51.0,28.0,\"R - ATC Routeings\",\"DELAY THRESHOLD 20 MINS\",\"None\"],[\"36\",4,24.0,33.0,\"R - ATC Routeings\",null,\"None\"],[\"48\",-32,4.0,28.0,\"R - ATC Routeings\",null,\"None\"],[\"48\",-33,-1.0,30.333333333333332,\"R - ATC Routeings\",null,\"None\"],[\"36\",9,27.0,35.666666666666664,\"R - ATC Routeings\",null,\"None\"],[\"48\",-30,9.0,27.333333333333332,\"R - ATC Routeings\",null,\"None\"],[\"36\",3,22.0,38.666666666666664,\"R - ATC Routeings\",null,\"None\"],[\"48\",-25,3.0,30.666666666666668,\"R - ATC Routeings\",null,\"None\"],[\"48\",-29,0.0,32.666666666666664,\"R - ATC Routeings\",null,\"None\"],[\"36\",15,26.0,32.333333333333336,\"R - ATC Routeings\",null,\"None\"],[\"24\",15,33.0,18.666666666666668,\"R - ATC Routeings\",null,\"None\"],[\"24\",28,44.0,24.333333333333332,\"R - ATC Routeings\",null,\"None\"],[\"36\",6,28.0,38.666666666666664,\"R - ATC Routeings\",null,\"None\"],[\"48\",-42,6.0,31.333333333333332,\"R - ATC Routeings\",null,\"None\"],[\"84\",-9,-18.0,32.0,\"R - ATC Routeings\",null,\"None\"],[\"24\",26,47.0,26.0,\"R - ATC Routeings\",null,\"None\"],[\"12\",28,3.0,1.0,\"R - ATC Routeings\",\"Available alternative routeing due to LFMM strike\",\"None\"]],\"hovertemplate\":\"reg_type=%{customdata[4]}<br>recovery_rate=%{y}<br>tw_idx=%{customdata[0]}<br>capacity_change=%{customdata[1]}<br>prev_capacity_change=%{customdata[2]}<br>prev_avg_capacity=%{customdata[3]}<br>reg_cause=%{customdata[5]}<br>reg_bool_type=%{customdata[6]}<extra></extra>\",\"legendgroup\":\"R - ATC Routeings\",\"marker\":{\"color\":\"#B6E880\",\"symbol\":\"circle\"},\"name\":\"R - ATC Routeings\",\"notched\":true,\"offsetgroup\":\"R - ATC Routeings\",\"showlegend\":false,\"xaxis\":\"x2\",\"y\":[1.4709727350531672,1.669656184096371,1.720870628979518,2.919055597216373,1.7835763010703856,2.7091319010284347,1.7753961153314537,1.205415440044217,0.045374817265557324,1.888161384216557,1.496257300734045,1.6897574062774114,1.5703771651029976,1.7892018760728645,1.820401843703799,4.291491907727981,1.7558672393664998,2.071750062222502,2.583083743292051,1.8739953138866319,2.837662167089064,1.4250281597199521,2.0007350021052033,1.982597318310171,3.1417513602972877,1.7844318520086755,2.1493047507109635,1.8930756253738044,2.2257184062432764,2.1425201430898704,1.5232590947604558,1.8095218727065467,2.0960654186394225,2.3068372602608456,1.6730865514686433,2.190550945089868,1.3583106172954467,1.7391154336423027,1.0356416550069805,1.5536331752495347,2.3022503198713755,1.62089225496255,1.4319290017115638,0.919599352813716,2.8158986121925116,1.2186957555272315,1.7550612499857188],\"yaxis\":\"y2\",\"type\":\"box\"},{\"customdata\":[[\"24\",12,3.0,6.0,\"V - Environmental Issues\",\"PRIDEP\",\"None\"],[\"24\",-3,11.0,7.0,\"V - Environmental Issues\",\"PRIORITY DEPARTURE WINDOW\",\"None\"],[\"24\",-7,12.0,6.666666666666667,\"V - Environmental Issues\",\"PRIDEP\",\"None\"],[\"24\",1,12.0,6.333333333333333,\"V - Environmental Issues\",\"Priority Departure Window\",\"None\"],[\"84\",-11,4.0,37.666666666666664,\"V - Environmental Issues\",null,\"None\"],[\"84\",-15,-1.0,35.333333333333336,\"V - Environmental Issues\",\"rwy configuration\",\"None\"],[\"24\",-7,11.0,6.333333333333333,\"V - Environmental Issues\",\"pridep trial\",\"None\"],[\"24\",-12,10.0,6.0,\"V - Environmental Issues\",\"Priority Departure Window\",\"None\"],[\"24\",21,23.0,14.333333333333334,\"V - Environmental Issues\",\"PRIDEP\",\"None\"],[\"24\",13,6.0,9.666666666666666,\"V - Environmental Issues\",\"Priority Departure Window REG AMENDED\",\"None\"],[\"24\",28,38.0,20.0,\"V - Environmental Issues\",\"PRIDEP\",\"None\"],[\"24\",21,29.0,16.666666666666668,\"V - Environmental Issues\",\"PRIDEP\",\"None\"],[\"24\",27,44.0,21.333333333333332,\"V - Environmental Issues\",\"PRIDEP\",\"None\"],[\"24\",25,33.0,19.333333333333332,\"V - Environmental Issues\",\"PRIDEP\",\"None\"],[\"48\",-16,12.0,24.666666666666668,\"V - Environmental Issues\",null,\"None\"],[\"24\",22,43.0,23.666666666666668,\"V - Environmental Issues\",\"PRIDEP\",\"None\"],[\"24\",23,34.0,18.0,\"V - Environmental Issues\",\"PRIDEP\",\"None\"],[\"24\",24,48.0,23.333333333333332,\"V - Environmental Issues\",\"PRIDEP\",\"None\"],[\"24\",26,26.0,17.666666666666668,\"V - Environmental Issues\",\"PRIDEP\",\"None\"],[\"24\",27,46.0,23.666666666666668,\"V - Environmental Issues\",\"PRIDEP\",\"None\"],[\"24\",25,37.0,19.0,\"V - Environmental Issues\",\"PRIDEP\",\"None\"],[\"24\",13,28.0,14.333333333333334,\"V - Environmental Issues\",\"Pridep\",\"None\"],[\"24\",24,28.0,15.666666666666666,\"V - Environmental Issues\",\"PRIDEP\",\"None\"],[\"24\",29,38.0,21.666666666666668,\"V - Environmental Issues\",\"PRIDEP\",\"None\"],[\"24\",25,31.0,18.333333333333332,\"V - Environmental Issues\",\"PRIDEP\",\"None\"],[\"24\",31,38.0,22.333333333333332,\"V - Environmental Issues\",\"PRIDEP\",\"None\"],[\"24\",37,33.0,17.666666666666668,\"V - Environmental Issues\",\"PRIDEP\",\"None\"],[\"24\",21,32.0,17.333333333333332,\"V - Environmental Issues\",\"PRIDEP\",\"None\"],[\"24\",29,40.0,22.666666666666668,\"V - Environmental Issues\",\"PRIDEP\",\"None\"]],\"hovertemplate\":\"reg_type=%{customdata[4]}<br>date_idx=%{x}<br>recovery_rate=%{y}<br>tw_idx=%{customdata[0]}<br>capacity_change=%{customdata[1]}<br>prev_capacity_change=%{customdata[2]}<br>prev_avg_capacity=%{customdata[3]}<br>reg_cause=%{customdata[5]}<br>reg_bool_type=%{customdata[6]}<extra></extra>\",\"legendgroup\":\"V - Environmental Issues\",\"marker\":{\"color\":\"#FF97FF\",\"symbol\":\"circle\"},\"mode\":\"markers\",\"name\":\"V - Environmental Issues\",\"showlegend\":true,\"x\":[\"2018-01-07\",\"2018-01-13\",\"2018-01-27\",\"2018-02-17\",\"2018-02-18\",\"2018-03-09\",\"2018-03-10\",\"2018-03-17\",\"2018-03-31\",\"2018-04-01\",\"2018-04-07\",\"2018-04-08\",\"2018-04-14\",\"2018-04-15\",\"2018-04-15\",\"2018-04-21\",\"2018-04-22\",\"2018-04-28\",\"2018-04-29\",\"2018-05-05\",\"2018-05-06\",\"2018-05-12\",\"2018-05-13\",\"2018-05-19\",\"2018-05-27\",\"2018-05-31\",\"2018-06-02\",\"2018-06-03\",\"2018-06-16\"],\"xaxis\":\"x\",\"y\":[2.559011732968214,4.656022801691818,4.747749094520433,3.059379676726908,1.1108121038816312,1.3078015633089786,3.6925743338721175,2.462581579625831,1.2151404651513262,2.0924791861243546,1.9052234615008752,1.3622391902842885,1.6796229855346994,1.984550392496521,2.4056434033160015,1.6977484225584083,1.9279982779987634,1.242552760235217,1.6205863382022583,1.684041006472513,1.8312264582691935,1.7662223898465519,1.6258899499032806,1.6348598931634606,1.6891515494254008,1.5455739783506224,1.422770740231572,1.4871576716507795,1.573194805818892],\"yaxis\":\"y\",\"type\":\"scattergl\"},{\"alignmentgroup\":\"True\",\"customdata\":[[\"24\",12,3.0,6.0,\"V - Environmental Issues\",\"PRIDEP\",\"None\"],[\"24\",-3,11.0,7.0,\"V - Environmental Issues\",\"PRIORITY DEPARTURE WINDOW\",\"None\"],[\"24\",-7,12.0,6.666666666666667,\"V - Environmental Issues\",\"PRIDEP\",\"None\"],[\"24\",1,12.0,6.333333333333333,\"V - Environmental Issues\",\"Priority Departure Window\",\"None\"],[\"84\",-11,4.0,37.666666666666664,\"V - Environmental Issues\",null,\"None\"],[\"84\",-15,-1.0,35.333333333333336,\"V - Environmental Issues\",\"rwy configuration\",\"None\"],[\"24\",-7,11.0,6.333333333333333,\"V - Environmental Issues\",\"pridep trial\",\"None\"],[\"24\",-12,10.0,6.0,\"V - Environmental Issues\",\"Priority Departure Window\",\"None\"],[\"24\",21,23.0,14.333333333333334,\"V - Environmental Issues\",\"PRIDEP\",\"None\"],[\"24\",13,6.0,9.666666666666666,\"V - Environmental Issues\",\"Priority Departure Window REG AMENDED\",\"None\"],[\"24\",28,38.0,20.0,\"V - Environmental Issues\",\"PRIDEP\",\"None\"],[\"24\",21,29.0,16.666666666666668,\"V - Environmental Issues\",\"PRIDEP\",\"None\"],[\"24\",27,44.0,21.333333333333332,\"V - Environmental Issues\",\"PRIDEP\",\"None\"],[\"24\",25,33.0,19.333333333333332,\"V - Environmental Issues\",\"PRIDEP\",\"None\"],[\"48\",-16,12.0,24.666666666666668,\"V - Environmental Issues\",null,\"None\"],[\"24\",22,43.0,23.666666666666668,\"V - Environmental Issues\",\"PRIDEP\",\"None\"],[\"24\",23,34.0,18.0,\"V - Environmental Issues\",\"PRIDEP\",\"None\"],[\"24\",24,48.0,23.333333333333332,\"V - Environmental Issues\",\"PRIDEP\",\"None\"],[\"24\",26,26.0,17.666666666666668,\"V - Environmental Issues\",\"PRIDEP\",\"None\"],[\"24\",27,46.0,23.666666666666668,\"V - Environmental Issues\",\"PRIDEP\",\"None\"],[\"24\",25,37.0,19.0,\"V - Environmental Issues\",\"PRIDEP\",\"None\"],[\"24\",13,28.0,14.333333333333334,\"V - Environmental Issues\",\"Pridep\",\"None\"],[\"24\",24,28.0,15.666666666666666,\"V - Environmental Issues\",\"PRIDEP\",\"None\"],[\"24\",29,38.0,21.666666666666668,\"V - Environmental Issues\",\"PRIDEP\",\"None\"],[\"24\",25,31.0,18.333333333333332,\"V - Environmental Issues\",\"PRIDEP\",\"None\"],[\"24\",31,38.0,22.333333333333332,\"V - Environmental Issues\",\"PRIDEP\",\"None\"],[\"24\",37,33.0,17.666666666666668,\"V - Environmental Issues\",\"PRIDEP\",\"None\"],[\"24\",21,32.0,17.333333333333332,\"V - Environmental Issues\",\"PRIDEP\",\"None\"],[\"24\",29,40.0,22.666666666666668,\"V - Environmental Issues\",\"PRIDEP\",\"None\"]],\"hovertemplate\":\"reg_type=%{customdata[4]}<br>recovery_rate=%{y}<br>tw_idx=%{customdata[0]}<br>capacity_change=%{customdata[1]}<br>prev_capacity_change=%{customdata[2]}<br>prev_avg_capacity=%{customdata[3]}<br>reg_cause=%{customdata[5]}<br>reg_bool_type=%{customdata[6]}<extra></extra>\",\"legendgroup\":\"V - Environmental Issues\",\"marker\":{\"color\":\"#FF97FF\",\"symbol\":\"circle\"},\"name\":\"V - Environmental Issues\",\"notched\":true,\"offsetgroup\":\"V - Environmental Issues\",\"showlegend\":false,\"xaxis\":\"x2\",\"y\":[2.559011732968214,4.656022801691818,4.747749094520433,3.059379676726908,1.1108121038816312,1.3078015633089786,3.6925743338721175,2.462581579625831,1.2151404651513262,2.0924791861243546,1.9052234615008752,1.3622391902842885,1.6796229855346994,1.984550392496521,2.4056434033160015,1.6977484225584083,1.9279982779987634,1.242552760235217,1.6205863382022583,1.684041006472513,1.8312264582691935,1.7662223898465519,1.6258899499032806,1.6348598931634606,1.6891515494254008,1.5455739783506224,1.422770740231572,1.4871576716507795,1.573194805818892],\"yaxis\":\"y2\",\"type\":\"box\"},{\"customdata\":[[\"48\",-14,-22.0,35.0,\"I - ATC Ind Action\",\"A0095/18 NOTAM\",\"None\"],[\"84\",-16,3.0,37.333333333333336,\"I - ATC Ind Action\",null,\"None\"],[\"24\",-2,14.0,9.333333333333334,\"I - ATC Ind Action\",null,\"None\"],[\"48\",-4,-27.0,31.333333333333332,\"I - ATC Ind Action\",null,\"None\"],[\"12\",13,-1.0,0.3333333333333333,\"I - ATC Ind Action\",null,\"None\"],[\"12\",29,5.0,1.6666666666666667,\"I - ATC Ind Action\",\"LFMM ACC INDUSTRIAL ACTION\",\"None\"],[\"12\",26,3.0,1.0,\"I - ATC Ind Action\",\"ATC INDUSTRIAL ACTION LFMM\",\"None\"],[\"12\",25,2.0,0.6666666666666666,\"I - ATC Ind Action\",\"ATC INDUSTRIAL ACTION LFMM\",\"None\"],[\"48\",-25,-1.0,29.666666666666668,\"I - ATC Ind Action\",null,\"None\"],[\"12\",46,5.0,1.6666666666666667,\"I - ATC Ind Action\",null,\"None\"],[\"24\",27,46.0,24.666666666666668,\"I - ATC Ind Action\",null,\"None\"],[\"84\",-14,-9.0,27.333333333333332,\"I - ATC Ind Action\",null,\"None\"],[\"12\",32,2.0,1.3333333333333333,\"I - ATC Ind Action\",\"LFMM\",\"None\"]],\"hovertemplate\":\"reg_type=%{customdata[4]}<br>date_idx=%{x}<br>recovery_rate=%{y}<br>tw_idx=%{customdata[0]}<br>capacity_change=%{customdata[1]}<br>prev_capacity_change=%{customdata[2]}<br>prev_avg_capacity=%{customdata[3]}<br>reg_cause=%{customdata[5]}<br>reg_bool_type=%{customdata[6]}<extra></extra>\",\"legendgroup\":\"I - ATC Ind Action\",\"marker\":{\"color\":\"#FECB52\",\"symbol\":\"circle\"},\"mode\":\"markers\",\"name\":\"I - ATC Ind Action\",\"showlegend\":true,\"x\":[\"2018-01-15\",\"2018-03-21\",\"2018-03-22\",\"2018-03-22\",\"2018-03-23\",\"2018-04-08\",\"2018-04-29\",\"2018-04-30\",\"2018-05-08\",\"2018-05-22\",\"2018-05-22\",\"2018-05-22\",\"2018-06-10\"],\"xaxis\":\"x\",\"y\":[2.2563513499262995,0.07025409912342984,3.409795213160588,2.8779374979241275,0.93136458811318,1.2946193099765841,2.220436829309393,2.28739570963269,4.840382220433594,1.9786364912070413,2.0388924888326345,1.3029138960345723,1.5617680467627983],\"yaxis\":\"y\",\"type\":\"scattergl\"},{\"alignmentgroup\":\"True\",\"customdata\":[[\"48\",-14,-22.0,35.0,\"I - ATC Ind Action\",\"A0095/18 NOTAM\",\"None\"],[\"84\",-16,3.0,37.333333333333336,\"I - ATC Ind Action\",null,\"None\"],[\"24\",-2,14.0,9.333333333333334,\"I - ATC Ind Action\",null,\"None\"],[\"48\",-4,-27.0,31.333333333333332,\"I - ATC Ind Action\",null,\"None\"],[\"12\",13,-1.0,0.3333333333333333,\"I - ATC Ind Action\",null,\"None\"],[\"12\",29,5.0,1.6666666666666667,\"I - ATC Ind Action\",\"LFMM ACC INDUSTRIAL ACTION\",\"None\"],[\"12\",26,3.0,1.0,\"I - ATC Ind Action\",\"ATC INDUSTRIAL ACTION LFMM\",\"None\"],[\"12\",25,2.0,0.6666666666666666,\"I - ATC Ind Action\",\"ATC INDUSTRIAL ACTION LFMM\",\"None\"],[\"48\",-25,-1.0,29.666666666666668,\"I - ATC Ind Action\",null,\"None\"],[\"12\",46,5.0,1.6666666666666667,\"I - ATC Ind Action\",null,\"None\"],[\"24\",27,46.0,24.666666666666668,\"I - ATC Ind Action\",null,\"None\"],[\"84\",-14,-9.0,27.333333333333332,\"I - ATC Ind Action\",null,\"None\"],[\"12\",32,2.0,1.3333333333333333,\"I - ATC Ind Action\",\"LFMM\",\"None\"]],\"hovertemplate\":\"reg_type=%{customdata[4]}<br>recovery_rate=%{y}<br>tw_idx=%{customdata[0]}<br>capacity_change=%{customdata[1]}<br>prev_capacity_change=%{customdata[2]}<br>prev_avg_capacity=%{customdata[3]}<br>reg_cause=%{customdata[5]}<br>reg_bool_type=%{customdata[6]}<extra></extra>\",\"legendgroup\":\"I - ATC Ind Action\",\"marker\":{\"color\":\"#FECB52\",\"symbol\":\"circle\"},\"name\":\"I - ATC Ind Action\",\"notched\":true,\"offsetgroup\":\"I - ATC Ind Action\",\"showlegend\":false,\"xaxis\":\"x2\",\"y\":[2.2563513499262995,0.07025409912342984,3.409795213160588,2.8779374979241275,0.93136458811318,1.2946193099765841,2.220436829309393,2.28739570963269,4.840382220433594,1.9786364912070413,2.0388924888326345,1.3029138960345723,1.5617680467627983],\"yaxis\":\"y2\",\"type\":\"box\"},{\"customdata\":[[\"36\",-33,-15.0,32.666666666666664,\"P - Special Event\",\"WORLD ECONOMIC FORUM\",\"None\"],[\"48\",-16,-30.0,29.666666666666668,\"P - Special Event\",\"ECONOMIC FORUM\",\"None\"],[\"48\",-25,-32.0,31.333333333333332,\"P - Special Event\",\"WORLD ECONOMIC FORUM DAVOS 2018\",\"None\"],[\"12\",15,-1.0,0.3333333333333333,\"P - Special Event\",\"NEW ATC STRUCTURE\",\"None\"],[\"24\",-20,15.0,8.333333333333334,\"P - Special Event\",\"NEW ATC STRUCTURE\",\"None\"],[\"72\",16,20.0,33.333333333333336,\"P - Special Event\",\"NEW ATC STRUCTURE\",\"None\"],[\"12\",15,-1.0,0.3333333333333333,\"P - Special Event\",\"IAM INTERFACE AIX-MARSEILLE AIRSPACE RE-ORGANISATION\",\"None\"],[\"24\",-15,15.0,8.666666666666666,\"P - Special Event\",\"IAM INTERFACE AIX-MARSEILLE AIRSPACE RE-ORGANISATION\",\"None\"],[\"12\",14,0.0,0.6666666666666666,\"P - Special Event\",\"IAM INTERFACE AIX-MARSEILLE AIRSPACE RE-ORGANISATION\",\"None\"],[\"12\",8,0.0,0.0,\"P - Special Event\",\"IAM INTERFACE AIX-MARSEILLE AIRSPACE RE-ORGANISATION\",\"None\"],[\"12\",10,0.0,0.0,\"P - Special Event\",\"IAM INTERFACE AIX-MARSEILLE AIRSPACE RE-ORGANISATION Reg amended\",\"None\"],[\"24\",-16,10.0,7.0,\"P - Special Event\",\"IAM INTERFACE AIX-MARSEILLE AIRSPACE RE-ORGANISATION Reg amended\",\"None\"],[\"12\",10,-1.0,0.3333333333333333,\"P - Special Event\",\"IAM INTERFACE AIX-MARSEILLE AIRSPACE RE-ORGANISATION\",\"None\"],[\"24\",-11,10.0,8.0,\"P - Special Event\",\"IAM INTERFACE AIX-MARSEILLE AIRSPACE RE-ORGANISATION\",\"None\"],[\"48\",-20,-26.0,29.0,\"P - Special Event\",\"IAM INTERFACE AIX-MARSEILLE AIRSPACE RE-ORGANISATION\",\"None\"],[\"72\",12,10.0,32.666666666666664,\"P - Special Event\",\"IAM INTERFACE AIX-MARSEILLE AIRSPACE RE-ORGANISATION\",\"None\"],[\"84\",-13,12.0,32.333333333333336,\"P - Special Event\",\"IAM INTERFACE AIX-MARSEILLE AIRSPACE RE-ORGANISATION\",\"None\"],[\"36\",-26,-12.0,34.666666666666664,\"P - Special Event\",\"ARSI SYSTEM IMPLEMENTATION\",\"None\"],[\"72\",-1,16.0,30.666666666666668,\"P - Special Event\",\"ARSI SYSTEM IMPLEMENTATION\",\"None\"],[\"60\",19,11.0,33.0,\"P - Special Event\",\"ARSI IMPLEMENTATION\",\"None\"],[\"12\",14,-1.0,0.3333333333333333,\"P - Special Event\",\"IAM INTERFACE AIX-MARSEILLE AIRSPACE RE-ORGANISATION\",\"None\"],[\"24\",-17,14.0,9.0,\"P - Special Event\",\"IAM INTERFACE AIX-MARSEILLE AIRSPACE RE-ORGANISATION\",\"None\"],[\"84\",-14,11.0,36.0,\"P - Special Event\",\"IAM INTERFACE AIX-MARSEILLE AIRSPACE RE-ORGANISATION\",\"None\"],[\"36\",5,11.0,29.666666666666668,\"P - Special Event\",\"APP service for LFCR\",\"None\"],[\"72\",-6,4.0,28.666666666666668,\"P - Special Event\",\"APP service for LFCR\",\"None\"],[\"24\",25,49.0,26.0,\"P - Special Event\",\"APP service for LFCR\",\"None\"],[\"84\",-7,-22.0,32.0,\"P - Special Event\",\"PE82\",\"None\"],[\"24\",15,46.0,28.0,\"P - Special Event\",\"APP service for LFCR\",\"None\"],[\"48\",-35,8.0,29.0,\"P - Special Event\",\"APPROACH SERVICE FOR LFCR\",\"None\"],[\"60\",-19,-35.0,33.666666666666664,\"P - Special Event\",\"EURO 2018\",\"None\"],[\"24\",27,49.0,27.666666666666668,\"P - Special Event\",\"Aero 2018\",\"None\"],[\"36\",5,27.0,38.666666666666664,\"P - Special Event\",\"Aero 2018\",\"None\"],[\"72\",-22,-17.0,37.0,\"P - Special Event\",\"APP service for LFCR\",\"None\"],[\"24\",25,51.0,27.333333333333332,\"P - Special Event\",\"APP service for LFCR\",\"None\"],[\"84\",-6,-17.0,33.333333333333336,\"P - Special Event\",\"NEW TERMINAL AREA PROCEDURES AT LFBZ\",\"None\"],[\"84\",-5,-19.0,32.333333333333336,\"P - Special Event\",\"NEW TERMINAL AREA PROCEDURES AT LFBZ\",\"None\"],[\"84\",-8,-18.0,32.666666666666664,\"P - Special Event\",\"NEW TERMINAL AREA PROCEDURES AT LFBZ\",\"None\"],[\"84\",-5,-19.0,34.666666666666664,\"P - Special Event\",\"NEW TERMINAL AREA PROCEDURES AT LFBZ\",\"None\"],[\"72\",-21,-27.0,32.666666666666664,\"P - Special Event\",\"Demonstration flight - NOTAM A2216/18\",\"None\"]],\"hovertemplate\":\"reg_type=%{customdata[4]}<br>date_idx=%{x}<br>recovery_rate=%{y}<br>tw_idx=%{customdata[0]}<br>capacity_change=%{customdata[1]}<br>prev_capacity_change=%{customdata[2]}<br>prev_avg_capacity=%{customdata[3]}<br>reg_cause=%{customdata[5]}<br>reg_bool_type=%{customdata[6]}<extra></extra>\",\"legendgroup\":\"P - Special Event\",\"marker\":{\"color\":\"#636efa\",\"symbol\":\"circle\"},\"mode\":\"markers\",\"name\":\"P - Special Event\",\"showlegend\":true,\"x\":[\"2018-01-23\",\"2018-01-24\",\"2018-01-25\",\"2018-02-01\",\"2018-02-01\",\"2018-02-01\",\"2018-02-02\",\"2018-02-02\",\"2018-02-03\",\"2018-02-04\",\"2018-02-05\",\"2018-02-05\",\"2018-02-06\",\"2018-02-06\",\"2018-02-06\",\"2018-02-06\",\"2018-02-06\",\"2018-02-07\",\"2018-02-07\",\"2018-02-08\",\"2018-02-09\",\"2018-02-09\",\"2018-02-09\",\"2018-04-02\",\"2018-04-03\",\"2018-04-09\",\"2018-04-11\",\"2018-04-13\",\"2018-04-18\",\"2018-04-18\",\"2018-04-19\",\"2018-04-19\",\"2018-04-19\",\"2018-04-25\",\"2018-04-26\",\"2018-05-01\",\"2018-05-02\",\"2018-05-08\",\"2018-05-12\"],\"xaxis\":\"x\",\"y\":[1.9728531881728995,2.6696875512512968,2.023095205959697,0.7901070706529206,4.269192636980053,1.576668360496261,0.8972427914827589,3.538784340943585,0.7457217344098012,0.45523295793465396,0.5059190065592413,2.1806703517582497,0.7008562736363991,3.6737014246467643,2.2375694821887824,1.789247783226926,0.08332171036060074,2.0389220012767892,0.17061120082008513,1.267404803394987,1.1071968806794446,3.9792344293417705,1.636504252033008,1.99900137888656,1.2046330283262539,1.568629675301535,2.137510021161266,1.8564223539073823,2.108011653637831,2.7107909253277143,2.1502014669846594,1.7132100635363163,2.012817177601901,2.1083840323094543,1.3281803180180147,1.3001299883450101,1.9744155402135777,1.3236291840723384,1.6038388461589697],\"yaxis\":\"y\",\"type\":\"scattergl\"},{\"alignmentgroup\":\"True\",\"customdata\":[[\"36\",-33,-15.0,32.666666666666664,\"P - Special Event\",\"WORLD ECONOMIC FORUM\",\"None\"],[\"48\",-16,-30.0,29.666666666666668,\"P - Special Event\",\"ECONOMIC FORUM\",\"None\"],[\"48\",-25,-32.0,31.333333333333332,\"P - Special Event\",\"WORLD ECONOMIC FORUM DAVOS 2018\",\"None\"],[\"12\",15,-1.0,0.3333333333333333,\"P - Special Event\",\"NEW ATC STRUCTURE\",\"None\"],[\"24\",-20,15.0,8.333333333333334,\"P - Special Event\",\"NEW ATC STRUCTURE\",\"None\"],[\"72\",16,20.0,33.333333333333336,\"P - Special Event\",\"NEW ATC STRUCTURE\",\"None\"],[\"12\",15,-1.0,0.3333333333333333,\"P - Special Event\",\"IAM INTERFACE AIX-MARSEILLE AIRSPACE RE-ORGANISATION\",\"None\"],[\"24\",-15,15.0,8.666666666666666,\"P - Special Event\",\"IAM INTERFACE AIX-MARSEILLE AIRSPACE RE-ORGANISATION\",\"None\"],[\"12\",14,0.0,0.6666666666666666,\"P - Special Event\",\"IAM INTERFACE AIX-MARSEILLE AIRSPACE RE-ORGANISATION\",\"None\"],[\"12\",8,0.0,0.0,\"P - Special Event\",\"IAM INTERFACE AIX-MARSEILLE AIRSPACE RE-ORGANISATION\",\"None\"],[\"12\",10,0.0,0.0,\"P - Special Event\",\"IAM INTERFACE AIX-MARSEILLE AIRSPACE RE-ORGANISATION Reg amended\",\"None\"],[\"24\",-16,10.0,7.0,\"P - Special Event\",\"IAM INTERFACE AIX-MARSEILLE AIRSPACE RE-ORGANISATION Reg amended\",\"None\"],[\"12\",10,-1.0,0.3333333333333333,\"P - Special Event\",\"IAM INTERFACE AIX-MARSEILLE AIRSPACE RE-ORGANISATION\",\"None\"],[\"24\",-11,10.0,8.0,\"P - Special Event\",\"IAM INTERFACE AIX-MARSEILLE AIRSPACE RE-ORGANISATION\",\"None\"],[\"48\",-20,-26.0,29.0,\"P - Special Event\",\"IAM INTERFACE AIX-MARSEILLE AIRSPACE RE-ORGANISATION\",\"None\"],[\"72\",12,10.0,32.666666666666664,\"P - Special Event\",\"IAM INTERFACE AIX-MARSEILLE AIRSPACE RE-ORGANISATION\",\"None\"],[\"84\",-13,12.0,32.333333333333336,\"P - Special Event\",\"IAM INTERFACE AIX-MARSEILLE AIRSPACE RE-ORGANISATION\",\"None\"],[\"36\",-26,-12.0,34.666666666666664,\"P - Special Event\",\"ARSI SYSTEM IMPLEMENTATION\",\"None\"],[\"72\",-1,16.0,30.666666666666668,\"P - Special Event\",\"ARSI SYSTEM IMPLEMENTATION\",\"None\"],[\"60\",19,11.0,33.0,\"P - Special Event\",\"ARSI IMPLEMENTATION\",\"None\"],[\"12\",14,-1.0,0.3333333333333333,\"P - Special Event\",\"IAM INTERFACE AIX-MARSEILLE AIRSPACE RE-ORGANISATION\",\"None\"],[\"24\",-17,14.0,9.0,\"P - Special Event\",\"IAM INTERFACE AIX-MARSEILLE AIRSPACE RE-ORGANISATION\",\"None\"],[\"84\",-14,11.0,36.0,\"P - Special Event\",\"IAM INTERFACE AIX-MARSEILLE AIRSPACE RE-ORGANISATION\",\"None\"],[\"36\",5,11.0,29.666666666666668,\"P - Special Event\",\"APP service for LFCR\",\"None\"],[\"72\",-6,4.0,28.666666666666668,\"P - Special Event\",\"APP service for LFCR\",\"None\"],[\"24\",25,49.0,26.0,\"P - Special Event\",\"APP service for LFCR\",\"None\"],[\"84\",-7,-22.0,32.0,\"P - Special Event\",\"PE82\",\"None\"],[\"24\",15,46.0,28.0,\"P - Special Event\",\"APP service for LFCR\",\"None\"],[\"48\",-35,8.0,29.0,\"P - Special Event\",\"APPROACH SERVICE FOR LFCR\",\"None\"],[\"60\",-19,-35.0,33.666666666666664,\"P - Special Event\",\"EURO 2018\",\"None\"],[\"24\",27,49.0,27.666666666666668,\"P - Special Event\",\"Aero 2018\",\"None\"],[\"36\",5,27.0,38.666666666666664,\"P - Special Event\",\"Aero 2018\",\"None\"],[\"72\",-22,-17.0,37.0,\"P - Special Event\",\"APP service for LFCR\",\"None\"],[\"24\",25,51.0,27.333333333333332,\"P - Special Event\",\"APP service for LFCR\",\"None\"],[\"84\",-6,-17.0,33.333333333333336,\"P - Special Event\",\"NEW TERMINAL AREA PROCEDURES AT LFBZ\",\"None\"],[\"84\",-5,-19.0,32.333333333333336,\"P - Special Event\",\"NEW TERMINAL AREA PROCEDURES AT LFBZ\",\"None\"],[\"84\",-8,-18.0,32.666666666666664,\"P - Special Event\",\"NEW TERMINAL AREA PROCEDURES AT LFBZ\",\"None\"],[\"84\",-5,-19.0,34.666666666666664,\"P - Special Event\",\"NEW TERMINAL AREA PROCEDURES AT LFBZ\",\"None\"],[\"72\",-21,-27.0,32.666666666666664,\"P - Special Event\",\"Demonstration flight - NOTAM A2216/18\",\"None\"]],\"hovertemplate\":\"reg_type=%{customdata[4]}<br>recovery_rate=%{y}<br>tw_idx=%{customdata[0]}<br>capacity_change=%{customdata[1]}<br>prev_capacity_change=%{customdata[2]}<br>prev_avg_capacity=%{customdata[3]}<br>reg_cause=%{customdata[5]}<br>reg_bool_type=%{customdata[6]}<extra></extra>\",\"legendgroup\":\"P - Special Event\",\"marker\":{\"color\":\"#636efa\",\"symbol\":\"circle\"},\"name\":\"P - Special Event\",\"notched\":true,\"offsetgroup\":\"P - Special Event\",\"showlegend\":false,\"xaxis\":\"x2\",\"y\":[1.9728531881728995,2.6696875512512968,2.023095205959697,0.7901070706529206,4.269192636980053,1.576668360496261,0.8972427914827589,3.538784340943585,0.7457217344098012,0.45523295793465396,0.5059190065592413,2.1806703517582497,0.7008562736363991,3.6737014246467643,2.2375694821887824,1.789247783226926,0.08332171036060074,2.0389220012767892,0.17061120082008513,1.267404803394987,1.1071968806794446,3.9792344293417705,1.636504252033008,1.99900137888656,1.2046330283262539,1.568629675301535,2.137510021161266,1.8564223539073823,2.108011653637831,2.7107909253277143,2.1502014669846594,1.7132100635363163,2.012817177601901,2.1083840323094543,1.3281803180180147,1.3001299883450101,1.9744155402135777,1.3236291840723384,1.6038388461589697],\"yaxis\":\"y2\",\"type\":\"box\"},{\"customdata\":[[\"36\",-28,-12.0,34.666666666666664,\"M - Airspace Management\",\"TSA 13 ACTIVATION. NOTAM A0138/18.\",\"None\"],[\"48\",-14,-28.0,30.333333333333332,\"M - Airspace Management\",\"TSA 13 ACTIVATION. NOTAM A0141/18.\",\"None\"],[\"48\",-20,-30.0,30.333333333333332,\"M - Airspace Management\",\"TSA 13 ACTIVATION. NOTAM A0161/18.\",\"None\"],[\"60\",15,-12.0,34.0,\"M - Airspace Management\",null,\"None\"],[\"60\",12,-16.0,34.666666666666664,\"M - Airspace Management\",null,\"None\"],[\"36\",1,18.0,34.666666666666664,\"M - Airspace Management\",null,\"None\"],[\"48\",-26,5.0,26.0,\"M - Airspace Management\",null,\"None\"],[\"60\",4,4.0,4.666666666666667,\"M - Airspace Management\",null,\"None\"],[\"48\",-31,3.0,25.333333333333332,\"M - Airspace Management\",null,\"None\"],[\"60\",-13,-31.0,35.333333333333336,\"M - Airspace Management\",null,\"None\"],[\"72\",-16,-10.0,39.666666666666664,\"M - Airspace Management\",null,\"None\"]],\"hovertemplate\":\"reg_type=%{customdata[4]}<br>date_idx=%{x}<br>recovery_rate=%{y}<br>tw_idx=%{customdata[0]}<br>capacity_change=%{customdata[1]}<br>prev_capacity_change=%{customdata[2]}<br>prev_avg_capacity=%{customdata[3]}<br>reg_cause=%{customdata[5]}<br>reg_bool_type=%{customdata[6]}<extra></extra>\",\"legendgroup\":\"M - Airspace Management\",\"marker\":{\"color\":\"#EF553B\",\"symbol\":\"circle\"},\"mode\":\"markers\",\"name\":\"M - Airspace Management\",\"showlegend\":true,\"x\":[\"2018-01-26\",\"2018-01-26\",\"2018-01-30\",\"2018-02-12\",\"2018-03-08\",\"2018-03-28\",\"2018-03-29\",\"2018-04-03\",\"2018-04-06\",\"2018-04-06\",\"2018-04-16\"],\"xaxis\":\"x\",\"y\":[2.3978200816437814,1.7761207103676964,2.1921337441337743,2.514986451083138,3.1896650890559175,1.8682077377276276,1.8854882393410595,1.7359171135254987,2.2814096087831897,2.3355288830110754,1.721030417171269],\"yaxis\":\"y\",\"type\":\"scattergl\"},{\"alignmentgroup\":\"True\",\"customdata\":[[\"36\",-28,-12.0,34.666666666666664,\"M - Airspace Management\",\"TSA 13 ACTIVATION. NOTAM A0138/18.\",\"None\"],[\"48\",-14,-28.0,30.333333333333332,\"M - Airspace Management\",\"TSA 13 ACTIVATION. NOTAM A0141/18.\",\"None\"],[\"48\",-20,-30.0,30.333333333333332,\"M - Airspace Management\",\"TSA 13 ACTIVATION. NOTAM A0161/18.\",\"None\"],[\"60\",15,-12.0,34.0,\"M - Airspace Management\",null,\"None\"],[\"60\",12,-16.0,34.666666666666664,\"M - Airspace Management\",null,\"None\"],[\"36\",1,18.0,34.666666666666664,\"M - Airspace Management\",null,\"None\"],[\"48\",-26,5.0,26.0,\"M - Airspace Management\",null,\"None\"],[\"60\",4,4.0,4.666666666666667,\"M - Airspace Management\",null,\"None\"],[\"48\",-31,3.0,25.333333333333332,\"M - Airspace Management\",null,\"None\"],[\"60\",-13,-31.0,35.333333333333336,\"M - Airspace Management\",null,\"None\"],[\"72\",-16,-10.0,39.666666666666664,\"M - Airspace Management\",null,\"None\"]],\"hovertemplate\":\"reg_type=%{customdata[4]}<br>recovery_rate=%{y}<br>tw_idx=%{customdata[0]}<br>capacity_change=%{customdata[1]}<br>prev_capacity_change=%{customdata[2]}<br>prev_avg_capacity=%{customdata[3]}<br>reg_cause=%{customdata[5]}<br>reg_bool_type=%{customdata[6]}<extra></extra>\",\"legendgroup\":\"M - Airspace Management\",\"marker\":{\"color\":\"#EF553B\",\"symbol\":\"circle\"},\"name\":\"M - Airspace Management\",\"notched\":true,\"offsetgroup\":\"M - Airspace Management\",\"showlegend\":false,\"xaxis\":\"x2\",\"y\":[2.3978200816437814,1.7761207103676964,2.1921337441337743,2.514986451083138,3.1896650890559175,1.8682077377276276,1.8854882393410595,1.7359171135254987,2.2814096087831897,2.3355288830110754,1.721030417171269],\"yaxis\":\"y2\",\"type\":\"box\"}],                        {\"template\":{\"data\":{\"bar\":[{\"error_x\":{\"color\":\"#2a3f5f\"},\"error_y\":{\"color\":\"#2a3f5f\"},\"marker\":{\"line\":{\"color\":\"#E5ECF6\",\"width\":0.5},\"pattern\":{\"fillmode\":\"overlay\",\"size\":10,\"solidity\":0.2}},\"type\":\"bar\"}],\"barpolar\":[{\"marker\":{\"line\":{\"color\":\"#E5ECF6\",\"width\":0.5},\"pattern\":{\"fillmode\":\"overlay\",\"size\":10,\"solidity\":0.2}},\"type\":\"barpolar\"}],\"carpet\":[{\"aaxis\":{\"endlinecolor\":\"#2a3f5f\",\"gridcolor\":\"white\",\"linecolor\":\"white\",\"minorgridcolor\":\"white\",\"startlinecolor\":\"#2a3f5f\"},\"baxis\":{\"endlinecolor\":\"#2a3f5f\",\"gridcolor\":\"white\",\"linecolor\":\"white\",\"minorgridcolor\":\"white\",\"startlinecolor\":\"#2a3f5f\"},\"type\":\"carpet\"}],\"choropleth\":[{\"colorbar\":{\"outlinewidth\":0,\"ticks\":\"\"},\"type\":\"choropleth\"}],\"contour\":[{\"colorbar\":{\"outlinewidth\":0,\"ticks\":\"\"},\"colorscale\":[[0.0,\"#0d0887\"],[0.1111111111111111,\"#46039f\"],[0.2222222222222222,\"#7201a8\"],[0.3333333333333333,\"#9c179e\"],[0.4444444444444444,\"#bd3786\"],[0.5555555555555556,\"#d8576b\"],[0.6666666666666666,\"#ed7953\"],[0.7777777777777778,\"#fb9f3a\"],[0.8888888888888888,\"#fdca26\"],[1.0,\"#f0f921\"]],\"type\":\"contour\"}],\"contourcarpet\":[{\"colorbar\":{\"outlinewidth\":0,\"ticks\":\"\"},\"type\":\"contourcarpet\"}],\"heatmap\":[{\"colorbar\":{\"outlinewidth\":0,\"ticks\":\"\"},\"colorscale\":[[0.0,\"#0d0887\"],[0.1111111111111111,\"#46039f\"],[0.2222222222222222,\"#7201a8\"],[0.3333333333333333,\"#9c179e\"],[0.4444444444444444,\"#bd3786\"],[0.5555555555555556,\"#d8576b\"],[0.6666666666666666,\"#ed7953\"],[0.7777777777777778,\"#fb9f3a\"],[0.8888888888888888,\"#fdca26\"],[1.0,\"#f0f921\"]],\"type\":\"heatmap\"}],\"heatmapgl\":[{\"colorbar\":{\"outlinewidth\":0,\"ticks\":\"\"},\"colorscale\":[[0.0,\"#0d0887\"],[0.1111111111111111,\"#46039f\"],[0.2222222222222222,\"#7201a8\"],[0.3333333333333333,\"#9c179e\"],[0.4444444444444444,\"#bd3786\"],[0.5555555555555556,\"#d8576b\"],[0.6666666666666666,\"#ed7953\"],[0.7777777777777778,\"#fb9f3a\"],[0.8888888888888888,\"#fdca26\"],[1.0,\"#f0f921\"]],\"type\":\"heatmapgl\"}],\"histogram\":[{\"marker\":{\"pattern\":{\"fillmode\":\"overlay\",\"size\":10,\"solidity\":0.2}},\"type\":\"histogram\"}],\"histogram2d\":[{\"colorbar\":{\"outlinewidth\":0,\"ticks\":\"\"},\"colorscale\":[[0.0,\"#0d0887\"],[0.1111111111111111,\"#46039f\"],[0.2222222222222222,\"#7201a8\"],[0.3333333333333333,\"#9c179e\"],[0.4444444444444444,\"#bd3786\"],[0.5555555555555556,\"#d8576b\"],[0.6666666666666666,\"#ed7953\"],[0.7777777777777778,\"#fb9f3a\"],[0.8888888888888888,\"#fdca26\"],[1.0,\"#f0f921\"]],\"type\":\"histogram2d\"}],\"histogram2dcontour\":[{\"colorbar\":{\"outlinewidth\":0,\"ticks\":\"\"},\"colorscale\":[[0.0,\"#0d0887\"],[0.1111111111111111,\"#46039f\"],[0.2222222222222222,\"#7201a8\"],[0.3333333333333333,\"#9c179e\"],[0.4444444444444444,\"#bd3786\"],[0.5555555555555556,\"#d8576b\"],[0.6666666666666666,\"#ed7953\"],[0.7777777777777778,\"#fb9f3a\"],[0.8888888888888888,\"#fdca26\"],[1.0,\"#f0f921\"]],\"type\":\"histogram2dcontour\"}],\"mesh3d\":[{\"colorbar\":{\"outlinewidth\":0,\"ticks\":\"\"},\"type\":\"mesh3d\"}],\"parcoords\":[{\"line\":{\"colorbar\":{\"outlinewidth\":0,\"ticks\":\"\"}},\"type\":\"parcoords\"}],\"pie\":[{\"automargin\":true,\"type\":\"pie\"}],\"scatter\":[{\"marker\":{\"colorbar\":{\"outlinewidth\":0,\"ticks\":\"\"}},\"type\":\"scatter\"}],\"scatter3d\":[{\"line\":{\"colorbar\":{\"outlinewidth\":0,\"ticks\":\"\"}},\"marker\":{\"colorbar\":{\"outlinewidth\":0,\"ticks\":\"\"}},\"type\":\"scatter3d\"}],\"scattercarpet\":[{\"marker\":{\"colorbar\":{\"outlinewidth\":0,\"ticks\":\"\"}},\"type\":\"scattercarpet\"}],\"scattergeo\":[{\"marker\":{\"colorbar\":{\"outlinewidth\":0,\"ticks\":\"\"}},\"type\":\"scattergeo\"}],\"scattergl\":[{\"marker\":{\"colorbar\":{\"outlinewidth\":0,\"ticks\":\"\"}},\"type\":\"scattergl\"}],\"scattermapbox\":[{\"marker\":{\"colorbar\":{\"outlinewidth\":0,\"ticks\":\"\"}},\"type\":\"scattermapbox\"}],\"scatterpolar\":[{\"marker\":{\"colorbar\":{\"outlinewidth\":0,\"ticks\":\"\"}},\"type\":\"scatterpolar\"}],\"scatterpolargl\":[{\"marker\":{\"colorbar\":{\"outlinewidth\":0,\"ticks\":\"\"}},\"type\":\"scatterpolargl\"}],\"scatterternary\":[{\"marker\":{\"colorbar\":{\"outlinewidth\":0,\"ticks\":\"\"}},\"type\":\"scatterternary\"}],\"surface\":[{\"colorbar\":{\"outlinewidth\":0,\"ticks\":\"\"},\"colorscale\":[[0.0,\"#0d0887\"],[0.1111111111111111,\"#46039f\"],[0.2222222222222222,\"#7201a8\"],[0.3333333333333333,\"#9c179e\"],[0.4444444444444444,\"#bd3786\"],[0.5555555555555556,\"#d8576b\"],[0.6666666666666666,\"#ed7953\"],[0.7777777777777778,\"#fb9f3a\"],[0.8888888888888888,\"#fdca26\"],[1.0,\"#f0f921\"]],\"type\":\"surface\"}],\"table\":[{\"cells\":{\"fill\":{\"color\":\"#EBF0F8\"},\"line\":{\"color\":\"white\"}},\"header\":{\"fill\":{\"color\":\"#C8D4E3\"},\"line\":{\"color\":\"white\"}},\"type\":\"table\"}]},\"layout\":{\"annotationdefaults\":{\"arrowcolor\":\"#2a3f5f\",\"arrowhead\":0,\"arrowwidth\":1},\"autotypenumbers\":\"strict\",\"coloraxis\":{\"colorbar\":{\"outlinewidth\":0,\"ticks\":\"\"}},\"colorscale\":{\"diverging\":[[0,\"#8e0152\"],[0.1,\"#c51b7d\"],[0.2,\"#de77ae\"],[0.3,\"#f1b6da\"],[0.4,\"#fde0ef\"],[0.5,\"#f7f7f7\"],[0.6,\"#e6f5d0\"],[0.7,\"#b8e186\"],[0.8,\"#7fbc41\"],[0.9,\"#4d9221\"],[1,\"#276419\"]],\"sequential\":[[0.0,\"#0d0887\"],[0.1111111111111111,\"#46039f\"],[0.2222222222222222,\"#7201a8\"],[0.3333333333333333,\"#9c179e\"],[0.4444444444444444,\"#bd3786\"],[0.5555555555555556,\"#d8576b\"],[0.6666666666666666,\"#ed7953\"],[0.7777777777777778,\"#fb9f3a\"],[0.8888888888888888,\"#fdca26\"],[1.0,\"#f0f921\"]],\"sequentialminus\":[[0.0,\"#0d0887\"],[0.1111111111111111,\"#46039f\"],[0.2222222222222222,\"#7201a8\"],[0.3333333333333333,\"#9c179e\"],[0.4444444444444444,\"#bd3786\"],[0.5555555555555556,\"#d8576b\"],[0.6666666666666666,\"#ed7953\"],[0.7777777777777778,\"#fb9f3a\"],[0.8888888888888888,\"#fdca26\"],[1.0,\"#f0f921\"]]},\"colorway\":[\"#636efa\",\"#EF553B\",\"#00cc96\",\"#ab63fa\",\"#FFA15A\",\"#19d3f3\",\"#FF6692\",\"#B6E880\",\"#FF97FF\",\"#FECB52\"],\"font\":{\"color\":\"#2a3f5f\"},\"geo\":{\"bgcolor\":\"white\",\"lakecolor\":\"white\",\"landcolor\":\"#E5ECF6\",\"showlakes\":true,\"showland\":true,\"subunitcolor\":\"white\"},\"hoverlabel\":{\"align\":\"left\"},\"hovermode\":\"closest\",\"mapbox\":{\"style\":\"light\"},\"paper_bgcolor\":\"white\",\"plot_bgcolor\":\"#E5ECF6\",\"polar\":{\"angularaxis\":{\"gridcolor\":\"white\",\"linecolor\":\"white\",\"ticks\":\"\"},\"bgcolor\":\"#E5ECF6\",\"radialaxis\":{\"gridcolor\":\"white\",\"linecolor\":\"white\",\"ticks\":\"\"}},\"scene\":{\"xaxis\":{\"backgroundcolor\":\"#E5ECF6\",\"gridcolor\":\"white\",\"gridwidth\":2,\"linecolor\":\"white\",\"showbackground\":true,\"ticks\":\"\",\"zerolinecolor\":\"white\"},\"yaxis\":{\"backgroundcolor\":\"#E5ECF6\",\"gridcolor\":\"white\",\"gridwidth\":2,\"linecolor\":\"white\",\"showbackground\":true,\"ticks\":\"\",\"zerolinecolor\":\"white\"},\"zaxis\":{\"backgroundcolor\":\"#E5ECF6\",\"gridcolor\":\"white\",\"gridwidth\":2,\"linecolor\":\"white\",\"showbackground\":true,\"ticks\":\"\",\"zerolinecolor\":\"white\"}},\"shapedefaults\":{\"line\":{\"color\":\"#2a3f5f\"}},\"ternary\":{\"aaxis\":{\"gridcolor\":\"white\",\"linecolor\":\"white\",\"ticks\":\"\"},\"baxis\":{\"gridcolor\":\"white\",\"linecolor\":\"white\",\"ticks\":\"\"},\"bgcolor\":\"#E5ECF6\",\"caxis\":{\"gridcolor\":\"white\",\"linecolor\":\"white\",\"ticks\":\"\"}},\"title\":{\"x\":0.05},\"xaxis\":{\"automargin\":true,\"gridcolor\":\"white\",\"linecolor\":\"white\",\"ticks\":\"\",\"title\":{\"standoff\":15},\"zerolinecolor\":\"white\",\"zerolinewidth\":2},\"yaxis\":{\"automargin\":true,\"gridcolor\":\"white\",\"linecolor\":\"white\",\"ticks\":\"\",\"title\":{\"standoff\":15},\"zerolinecolor\":\"white\",\"zerolinewidth\":2}}},\"xaxis\":{\"anchor\":\"y\",\"domain\":[0.0,0.7363],\"title\":{\"text\":\"date_idx\"}},\"yaxis\":{\"anchor\":\"x\",\"domain\":[0.0,1.0],\"title\":{\"text\":\"recovery_rate\"}},\"xaxis2\":{\"anchor\":\"y2\",\"domain\":[0.7413,1.0],\"matches\":\"x2\",\"showticklabels\":false,\"showline\":false,\"ticks\":\"\",\"showgrid\":false},\"yaxis2\":{\"anchor\":\"x2\",\"domain\":[0.0,1.0],\"matches\":\"y\",\"showticklabels\":false,\"showgrid\":true},\"legend\":{\"title\":{\"text\":\"reg_type\"},\"tracegroupgap\":0},\"margin\":{\"t\":60}},                        {\"responsive\": true}                    ).then(function(){\n                            \nvar gd = document.getElementById('13ddd0ef-e676-4ae1-bf8f-b9dece63e216');\nvar x = new MutationObserver(function (mutations, observer) {{\n        var display = window.getComputedStyle(gd).display;\n        if (!display || display === 'none') {{\n            console.log([gd, 'removed!']);\n            Plotly.purge(gd);\n            observer.disconnect();\n        }}\n}});\n\n// Listen for the removal of the full notebook cells\nvar notebookContainer = gd.closest('#notebook-container');\nif (notebookContainer) {{\n    x.observe(notebookContainer, {childList: true});\n}}\n\n// Listen for the clearing of the current output cell\nvar outputEl = gd.closest('.output');\nif (outputEl) {{\n    x.observe(outputEl, {childList: true});\n}}\n\n                        })                };                });            </script>        </div>"
     },
     "metadata": {},
     "output_type": "display_data"
    }
   ],
   "source": [
    "import matplotlib.pyplot as plt\n",
    "import numpy as np\n",
    "import pandas as pd\n",
    "import pickle\n",
    "\n",
    "\n",
    "pickle_path = '/home/aksoy/Desktop/START/Muhammet/Start_PyCharm/RR_feature_selection_correlation_search/rr_feature_df_pickles/rr_feature_df_w_regulations.pickle'\n",
    "#apt_name = pickle_path.split('_')[0]\n",
    "airport_code = 'EDDM'\n",
    "\n",
    "with open(pickle_path, 'rb') as file:\n",
    "    recovery_rate_df = pickle.load(file)\n",
    "\n",
    "\n",
    "import plotly.express as px\n",
    "\n",
    "fig = px.scatter(recovery_rate_df, x=\"date_idx\", y=\"recovery_rate\",\n",
    "                 color=\"reg_type\", hover_data=['tw_idx', 'capacity_change', 'prev_capacity_change', 'prev_avg_capacity', 'reg_type', 'reg_cause', 'reg_bool_type'], marginal_y='box')\n",
    "#fig = px.scatter(recovery_rate_df, x=\"date_idx\", y=\"recovery_rate\", color=\"avg_capacity\", hover_data=['tw_idx', 'capacity_change'], marginal_y='box')\n",
    "fig.write_html('rr_vs_capacity.html')\n",
    "fig.show()"
   ]
  }
 ],
 "metadata": {
  "kernelspec": {
   "name": "start",
   "language": "python",
   "display_name": "start"
  },
  "language_info": {
   "codemirror_mode": {
    "name": "ipython",
    "version": 2
   },
   "file_extension": ".py",
   "mimetype": "text/x-python",
   "name": "python",
   "nbconvert_exporter": "python",
   "pygments_lexer": "ipython2",
   "version": "2.7.6"
  }
 },
 "nbformat": 4,
 "nbformat_minor": 0
}